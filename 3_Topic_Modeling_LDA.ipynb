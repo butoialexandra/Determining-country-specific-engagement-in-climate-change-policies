{
  "nbformat": 4,
  "nbformat_minor": 0,
  "metadata": {
    "colab": {
      "name": "3_Topic_Modeling:LDA.ipynb",
      "provenance": [],
      "collapsed_sections": [],
      "authorship_tag": "ABX9TyPhfZgioIHJer1SZX2Tw6mf",
      "include_colab_link": true
    },
    "kernelspec": {
      "name": "python3",
      "display_name": "Python 3"
    },
    "language_info": {
      "name": "python"
    }
  },
  "cells": [
    {
      "cell_type": "markdown",
      "metadata": {
        "id": "view-in-github",
        "colab_type": "text"
      },
      "source": [
        "<a href=\"https://colab.research.google.com/github/butoialexandra/Determining-country-specific-engagement-in-climate-change-policies/blob/main/3_Topic_Modeling_LDA.ipynb\" target=\"_parent\"><img src=\"https://colab.research.google.com/assets/colab-badge.svg\" alt=\"Open In Colab\"/></a>"
      ]
    },
    {
      "cell_type": "markdown",
      "metadata": {
        "id": "-fkSaDhCk7LH"
      },
      "source": [
        "# Topic Modeling"
      ]
    },
    {
      "cell_type": "markdown",
      "metadata": {
        "id": "r9pwMrvwjDSe"
      },
      "source": [
        "Code adapted from [here](https://neptune.ai/blog/pyldavis-topic-modelling-exploration-tool-that-every-nlp-data-scientist-should-know?utm_source=datacamp&utm_medium=post&utm_campaign=blog-pyldavis-topic-modelling-exploration-tool-that-every-nlp-data-scientist-should-know)\n"
      ]
    },
    {
      "cell_type": "markdown",
      "metadata": {
        "id": "Uxx2La5e3QkO"
      },
      "source": [
        "Mount drive"
      ]
    },
    {
      "cell_type": "code",
      "metadata": {
        "colab": {
          "base_uri": "https://localhost:8080/"
        },
        "id": "3zdEeWi5ybg5",
        "outputId": "68db36a6-a290-44de-d6ef-9c420dc0bf81"
      },
      "source": [
        "from google.colab import drive\n",
        "drive.mount('/content/drive/', force_remount=True)"
      ],
      "execution_count": 1,
      "outputs": [
        {
          "output_type": "stream",
          "text": [
            "Mounted at /content/drive/\n"
          ],
          "name": "stdout"
        }
      ]
    },
    {
      "cell_type": "markdown",
      "metadata": {
        "id": "QBCyp1Ca3Ufy"
      },
      "source": [
        "Check you're in the right place"
      ]
    },
    {
      "cell_type": "code",
      "metadata": {
        "colab": {
          "base_uri": "https://localhost:8080/"
        },
        "id": "1cHt3PKN3HrK",
        "outputId": "7ade58a5-d164-409a-a7a6-55f902bcc221"
      },
      "source": [
        "!pwd"
      ],
      "execution_count": 2,
      "outputs": [
        {
          "output_type": "stream",
          "text": [
            "/content\n"
          ],
          "name": "stdout"
        }
      ]
    },
    {
      "cell_type": "code",
      "metadata": {
        "colab": {
          "base_uri": "https://localhost:8080/"
        },
        "id": "FNp4m_N80qDI",
        "outputId": "089ed50e-a1c2-4fc0-d1bc-2f556a249e9b"
      },
      "source": [
        "%cd /content/drive/My\\ Drive/"
      ],
      "execution_count": 3,
      "outputs": [
        {
          "output_type": "stream",
          "text": [
            "/content/drive/My Drive\n"
          ],
          "name": "stdout"
        }
      ]
    },
    {
      "cell_type": "markdown",
      "metadata": {
        "id": "CmvcgHy3QbFa"
      },
      "source": [
        "Download these libraries if haven't done already"
      ]
    },
    {
      "cell_type": "code",
      "metadata": {
        "id": "9lqHi-qcy2eL"
      },
      "source": [
        "!python -m spacy download en\n",
        "!pip install pyLDAvis==3.2.1"
      ],
      "execution_count": null,
      "outputs": []
    },
    {
      "cell_type": "markdown",
      "metadata": {
        "id": "EtSf__zW3cvA"
      },
      "source": [
        "Imports"
      ]
    },
    {
      "cell_type": "code",
      "metadata": {
        "id": "6GrkfDNgzE_Q"
      },
      "source": [
        "import re\n",
        "import numpy as np\n",
        "import pandas as pd\n",
        "import glob\n",
        "import pickle\n",
        "from pprint import pprint\n",
        "from tqdm import tqdm\n",
        "\n",
        "import gensim\n",
        "import gensim.corpora as corpora\n",
        "from gensim.utils import simple_preprocess\n",
        "from gensim.models import CoherenceModel\n",
        "from gensim.parsing.porter import PorterStemmer\n",
        "\n",
        "import spacy\n",
        "\n",
        "import pyLDAvis\n",
        "import pyLDAvis.gensim \n",
        "import matplotlib.pyplot as plt\n",
        "%matplotlib inline\n",
        "\n",
        "import nltk; nltk.download('stopwords')\n",
        "from nltk.corpus import stopwords\n",
        "stop_words = stopwords.words('english')\n",
        "\n",
        "import warnings\n",
        "warnings.filterwarnings(\"ignore\", category=DeprecationWarning) "
      ],
      "execution_count": null,
      "outputs": []
    },
    {
      "cell_type": "markdown",
      "metadata": {
        "id": "y4i2ytiURmk1"
      },
      "source": [
        "Load data"
      ]
    },
    {
      "cell_type": "code",
      "metadata": {
        "id": "dky5_S4_1r0H"
      },
      "source": [
        "df = pd.read_csv(\"./data.csv\") "
      ],
      "execution_count": 30,
      "outputs": []
    },
    {
      "cell_type": "code",
      "metadata": {
        "id": "KTZaY1vz0jl_",
        "colab": {
          "base_uri": "https://localhost:8080/",
          "height": 205
        },
        "outputId": "76105735-cc52-4121-b269-5d9cedfaf600"
      },
      "source": [
        "df.head(5)"
      ],
      "execution_count": 31,
      "outputs": [
        {
          "output_type": "execute_result",
          "data": {
            "text/html": [
              "<div>\n",
              "<style scoped>\n",
              "    .dataframe tbody tr th:only-of-type {\n",
              "        vertical-align: middle;\n",
              "    }\n",
              "\n",
              "    .dataframe tbody tr th {\n",
              "        vertical-align: top;\n",
              "    }\n",
              "\n",
              "    .dataframe thead th {\n",
              "        text-align: right;\n",
              "    }\n",
              "</style>\n",
              "<table border=\"1\" class=\"dataframe\">\n",
              "  <thead>\n",
              "    <tr style=\"text-align: right;\">\n",
              "      <th></th>\n",
              "      <th>Document</th>\n",
              "      <th>NDC</th>\n",
              "    </tr>\n",
              "  </thead>\n",
              "  <tbody>\n",
              "    <tr>\n",
              "      <th>0</th>\n",
              "      <td>../txts/CPV_Cabo-Verde_First_NDC_English_Parag...</td>\n",
              "      <td>Cabo Verde is committed to implement the Susta...</td>\n",
              "    </tr>\n",
              "    <tr>\n",
              "      <th>1</th>\n",
              "      <td>../txts/LKA_Sri-Lanka_First_NDC_English_Paragr...</td>\n",
              "      <td>The means of implementation of NDCs of Sri Lan...</td>\n",
              "    </tr>\n",
              "    <tr>\n",
              "      <th>2</th>\n",
              "      <td>../txts/RWA_Rwanda_First_NDC_English_Paragraph...</td>\n",
              "      <td>This updated NDC updates and strengthens the f...</td>\n",
              "    </tr>\n",
              "    <tr>\n",
              "      <th>3</th>\n",
              "      <td>../txts/NER_Niger_First_NDC_Translation_Englis...</td>\n",
              "      <td>to use climate financing and benefit from the ...</td>\n",
              "    </tr>\n",
              "    <tr>\n",
              "      <th>4</th>\n",
              "      <td>../txts/GMB_Gambia_First_NDC_English_Paragraph...</td>\n",
              "      <td>Gambia Watershed by a) Improving disaster prep...</td>\n",
              "    </tr>\n",
              "  </tbody>\n",
              "</table>\n",
              "</div>"
            ],
            "text/plain": [
              "                                            Document                                                NDC\n",
              "0  ../txts/CPV_Cabo-Verde_First_NDC_English_Parag...  Cabo Verde is committed to implement the Susta...\n",
              "1  ../txts/LKA_Sri-Lanka_First_NDC_English_Paragr...  The means of implementation of NDCs of Sri Lan...\n",
              "2  ../txts/RWA_Rwanda_First_NDC_English_Paragraph...  This updated NDC updates and strengthens the f...\n",
              "3  ../txts/NER_Niger_First_NDC_Translation_Englis...  to use climate financing and benefit from the ...\n",
              "4  ../txts/GMB_Gambia_First_NDC_English_Paragraph...  Gambia Watershed by a) Improving disaster prep..."
            ]
          },
          "metadata": {
            "tags": []
          },
          "execution_count": 31
        }
      ]
    },
    {
      "cell_type": "markdown",
      "metadata": {
        "id": "uVFZqnb7Rxex"
      },
      "source": [
        "Some processing"
      ]
    },
    {
      "cell_type": "code",
      "metadata": {
        "id": "2TlMRCCB02FY"
      },
      "source": [
        "df['NDC_processed'] = df['NDC'].apply(lambda x: re.sub('[(),\\\\.!?0-9]', '', x))\n",
        "df['NDC_processed'] = df['NDC_processed'].apply(lambda x: x.lower())\n",
        "df['NDC_processed'] = df['NDC_processed'].apply(lambda x: x.strip())\n",
        "df['NDC_processed'] = df['NDC_processed'].apply(lambda x: re.sub(' +', ' ', x))\n",
        "df = df[df['NDC_processed'].apply(lambda x: len(x) > 100)]"
      ],
      "execution_count": 32,
      "outputs": []
    },
    {
      "cell_type": "code",
      "metadata": {
        "id": "Q3fa_b6R04HX",
        "colab": {
          "base_uri": "https://localhost:8080/",
          "height": 422
        },
        "outputId": "7d90d8d4-14fa-4c68-ff9f-4a120478b8cd"
      },
      "source": [
        "df = df.reset_index(drop=True)\n",
        "df"
      ],
      "execution_count": 33,
      "outputs": [
        {
          "output_type": "execute_result",
          "data": {
            "text/html": [
              "<div>\n",
              "<style scoped>\n",
              "    .dataframe tbody tr th:only-of-type {\n",
              "        vertical-align: middle;\n",
              "    }\n",
              "\n",
              "    .dataframe tbody tr th {\n",
              "        vertical-align: top;\n",
              "    }\n",
              "\n",
              "    .dataframe thead th {\n",
              "        text-align: right;\n",
              "    }\n",
              "</style>\n",
              "<table border=\"1\" class=\"dataframe\">\n",
              "  <thead>\n",
              "    <tr style=\"text-align: right;\">\n",
              "      <th></th>\n",
              "      <th>Document</th>\n",
              "      <th>NDC</th>\n",
              "      <th>NDC_processed</th>\n",
              "    </tr>\n",
              "  </thead>\n",
              "  <tbody>\n",
              "    <tr>\n",
              "      <th>0</th>\n",
              "      <td>../txts/CPV_Cabo-Verde_First_NDC_English_Parag...</td>\n",
              "      <td>Cabo Verde is committed to implement the Susta...</td>\n",
              "      <td>cabo verde is committed to implement the susta...</td>\n",
              "    </tr>\n",
              "    <tr>\n",
              "      <th>1</th>\n",
              "      <td>../txts/RWA_Rwanda_First_NDC_English_Paragraph...</td>\n",
              "      <td>This updated NDC updates and strengthens the f...</td>\n",
              "      <td>this updated ndc updates and strengthens the f...</td>\n",
              "    </tr>\n",
              "    <tr>\n",
              "      <th>2</th>\n",
              "      <td>../txts/GMB_Gambia_First_NDC_English_Paragraph...</td>\n",
              "      <td>Gambia Watershed by a) Improving disaster prep...</td>\n",
              "      <td>gambia watershed by a improving disaster prepa...</td>\n",
              "    </tr>\n",
              "    <tr>\n",
              "      <th>3</th>\n",
              "      <td>../txts/JOR_Jordan_First_NDC_English_Paragraph...</td>\n",
              "      <td>The estimated cost to reach the 14 target is t...</td>\n",
              "      <td>the estimated cost to reach the target is tota...</td>\n",
              "    </tr>\n",
              "    <tr>\n",
              "      <th>4</th>\n",
              "      <td>../txts/FSM_Micronesia_First_NDC_English_Parag...</td>\n",
              "      <td>Moreover, national efforts to implement INDC i...</td>\n",
              "      <td>moreover national efforts to implement indc in...</td>\n",
              "    </tr>\n",
              "    <tr>\n",
              "      <th>...</th>\n",
              "      <td>...</td>\n",
              "      <td>...</td>\n",
              "      <td>...</td>\n",
              "    </tr>\n",
              "    <tr>\n",
              "      <th>10817</th>\n",
              "      <td>../txts/KHM_Cambodia_First_NDC_English_Paragra...</td>\n",
              "      <td>conducting surveillance and research on waterb...</td>\n",
              "      <td>conducting surveillance and research on waterb...</td>\n",
              "    </tr>\n",
              "    <tr>\n",
              "      <th>10818</th>\n",
              "      <td>../txts/URY_Uruguay_First_NDC_Translation_Engl...</td>\n",
              "      <td>The above chart contains a not exhaustive list...</td>\n",
              "      <td>the above chart contains a not exhaustive list...</td>\n",
              "    </tr>\n",
              "    <tr>\n",
              "      <th>10819</th>\n",
              "      <td>../txts/MAR_Morocco_First_NDC_Translation_Engl...</td>\n",
              "      <td>principles to be respected by the state, local...</td>\n",
              "      <td>principles to be respected by the state local ...</td>\n",
              "    </tr>\n",
              "    <tr>\n",
              "      <th>10820</th>\n",
              "      <td>../txts/LKA_Sri-Lanka_First_NDC_English_Paragr...</td>\n",
              "      <td>Integrated planning is the key means of implem...</td>\n",
              "      <td>integrated planning is the key means of implem...</td>\n",
              "    </tr>\n",
              "    <tr>\n",
              "      <th>10821</th>\n",
              "      <td>../txts/MDA_Republic-of-Moldova_First_NDC_Engl...</td>\n",
              "      <td>Undertake barrier analysis for technology tra...</td>\n",
              "      <td>undertake barrier analysis for technology tran...</td>\n",
              "    </tr>\n",
              "  </tbody>\n",
              "</table>\n",
              "<p>10822 rows × 3 columns</p>\n",
              "</div>"
            ],
            "text/plain": [
              "                                                Document  ...                                      NDC_processed\n",
              "0      ../txts/CPV_Cabo-Verde_First_NDC_English_Parag...  ...  cabo verde is committed to implement the susta...\n",
              "1      ../txts/RWA_Rwanda_First_NDC_English_Paragraph...  ...  this updated ndc updates and strengthens the f...\n",
              "2      ../txts/GMB_Gambia_First_NDC_English_Paragraph...  ...  gambia watershed by a improving disaster prepa...\n",
              "3      ../txts/JOR_Jordan_First_NDC_English_Paragraph...  ...  the estimated cost to reach the target is tota...\n",
              "4      ../txts/FSM_Micronesia_First_NDC_English_Parag...  ...  moreover national efforts to implement indc in...\n",
              "...                                                  ...  ...                                                ...\n",
              "10817  ../txts/KHM_Cambodia_First_NDC_English_Paragra...  ...  conducting surveillance and research on waterb...\n",
              "10818  ../txts/URY_Uruguay_First_NDC_Translation_Engl...  ...  the above chart contains a not exhaustive list...\n",
              "10819  ../txts/MAR_Morocco_First_NDC_Translation_Engl...  ...  principles to be respected by the state local ...\n",
              "10820  ../txts/LKA_Sri-Lanka_First_NDC_English_Paragr...  ...  integrated planning is the key means of implem...\n",
              "10821  ../txts/MDA_Republic-of-Moldova_First_NDC_Engl...  ...  undertake barrier analysis for technology tran...\n",
              "\n",
              "[10822 rows x 3 columns]"
            ]
          },
          "metadata": {
            "tags": []
          },
          "execution_count": 33
        }
      ]
    },
    {
      "cell_type": "code",
      "metadata": {
        "id": "b0YU7t8OoYyN"
      },
      "source": [
        "df.to_csv(\"data_processed.csv\")"
      ],
      "execution_count": null,
      "outputs": []
    },
    {
      "cell_type": "markdown",
      "metadata": {
        "id": "i6k6a3-fURIB"
      },
      "source": [
        "Process data for LDA"
      ]
    },
    {
      "cell_type": "code",
      "metadata": {
        "id": "JLeCpxkbUliz"
      },
      "source": [
        "def sent_to_words(sentences):\n",
        "    for sentence in sentences:\n",
        "        yield(gensim.utils.simple_preprocess(str(sentence), deacc=True)) \n",
        "\n",
        "def remove_stopwords(texts):\n",
        "    return [[word for word in simple_preprocess(str(doc)) if word not in stop_words] for doc in texts]\n",
        "\n",
        "def make_bigrams(texts):\n",
        "    return [bigram_mod[doc] for doc in texts]\n",
        "\n",
        "def lemmatization(texts, allowed_postags=['NOUN', 'ADJ', 'VERB', 'ADV']):\n",
        "    texts_out = []\n",
        "    for sent in texts:\n",
        "        doc = nlp(\" \".join(sent)) \n",
        "        texts_out.append([token.lemma_ for token in doc if token.pos_ in allowed_postags])\n",
        "        print([token.lemma_ for token in doc if token.pos_ in allowed_postags])\n",
        "    return texts_out\n",
        "\n",
        "def stemming(texts):\n",
        "  p = PorterStemmer()\n",
        "  return [p.stem_documents(text) for text in texts]"
      ],
      "execution_count": 34,
      "outputs": []
    },
    {
      "cell_type": "code",
      "metadata": {
        "id": "jPXA2ULP0-SP"
      },
      "source": [
        "ndcs = df.NDC_processed.values.tolist()\n",
        "words = list(sent_to_words(ndcs))\n",
        "\n",
        "bigram = gensim.models.Phrases(words, min_count=5, threshold=100)\n",
        "bigram_mod = gensim.models.phrases.Phraser(bigram)"
      ],
      "execution_count": 35,
      "outputs": []
    },
    {
      "cell_type": "code",
      "metadata": {
        "id": "lMt_zsRa3Lgm"
      },
      "source": [
        "data_words_nostops = remove_stopwords(words)\n",
        "data_stemmed = stemming(data_words_nostops)\n",
        "data_words_bigrams = make_bigrams(data_stemmed)"
      ],
      "execution_count": 36,
      "outputs": []
    },
    {
      "cell_type": "markdown",
      "metadata": {
        "id": "FPKl36fmVdPF"
      },
      "source": [
        "Make corpus"
      ]
    },
    {
      "cell_type": "code",
      "metadata": {
        "id": "uVQK1tKO3alB"
      },
      "source": [
        "id2word = corpora.Dictionary(data_words_bigrams)\n",
        "texts = data_words_bigrams\n",
        "corpus = [id2word.doc2bow(text) for text in texts]"
      ],
      "execution_count": 37,
      "outputs": []
    },
    {
      "cell_type": "markdown",
      "metadata": {
        "id": "DOUTxYeLVlDq"
      },
      "source": [
        "Train gensim LDA model with 10 topics"
      ]
    },
    {
      "cell_type": "code",
      "metadata": {
        "id": "3CL8JSdh3yWV"
      },
      "source": [
        "lda_model = gensim.models.ldamodel.LdaModel(corpus=corpus,\n",
        "                                           id2word=id2word,\n",
        "                                           num_topics=10, \n",
        "                                           random_state=100,\n",
        "                                           update_every=1,\n",
        "                                           chunksize=100,\n",
        "                                           passes=10,\n",
        "                                           alpha='auto',\n",
        "                                           per_word_topics=True)"
      ],
      "execution_count": 38,
      "outputs": []
    },
    {
      "cell_type": "code",
      "metadata": {
        "id": "atNY8sxL4B9a",
        "colab": {
          "base_uri": "https://localhost:8080/"
        },
        "outputId": "b0a3a9a8-b590-45d0-8177-2b5844b182f4"
      },
      "source": [
        "pprint(lda_model.print_topics())\n",
        "doc_lda = lda_model[corpus]"
      ],
      "execution_count": 39,
      "outputs": [
        {
          "output_type": "stream",
          "text": [
            "[(0,\n",
            "  '0.026*\"island\" + 0.025*\"increas\" + 0.024*\"flood\" + 0.021*\"temperatur\" + '\n",
            "  '0.020*\"rise\" + 0.018*\"drought\" + 0.017*\"countri\" + 0.016*\"affect\" + '\n",
            "  '0.014*\"rainfal\" + 0.013*\"result\"'),\n",
            " (1,\n",
            "  '0.091*\"emiss\" + 0.036*\"ghg\" + 0.030*\"sector\" + 0.030*\"project\" + '\n",
            "  '0.027*\"reduct\" + 0.021*\"year\" + 0.019*\"growth\" + 0.018*\"carbon\" + '\n",
            "  '0.016*\"reduc\" + 0.016*\"estim\"'),\n",
            " (2,\n",
            "  '0.038*\"nation\" + 0.025*\"contribut\" + 0.018*\"target\" + 0.016*\"indc\" + '\n",
            "  '0.015*\"ndc\" + 0.014*\"achiev\" + 0.013*\"countri\" + 0.011*\"identifi\" + '\n",
            "  '0.011*\"commun\" + 0.011*\"inform\"'),\n",
            " (3,\n",
            "  '0.046*\"forest\" + 0.045*\"area\" + 0.029*\"natur\" + 0.029*\"popul\" + '\n",
            "  '0.025*\"protect\" + 0.022*\"econom\" + 0.018*\"high\" + 0.015*\"peopl\" + '\n",
            "  '0.014*\"social\" + 0.014*\"resourc\"'),\n",
            " (4,\n",
            "  '0.113*\"us\" + 0.041*\"land\" + 0.031*\"data\" + 0.024*\"forestri\" + 0.020*\"ipcc\" '\n",
            "  '+ 0.014*\"valu\" + 0.014*\"potenti\" + 0.014*\"livestock\" + 0.013*\"includ\" + '\n",
            "  '0.013*\"decreas\"'),\n",
            " (5,\n",
            "  '0.053*\"develop\" + 0.037*\"adapt\" + 0.030*\"plan\" + 0.029*\"implement\" + '\n",
            "  '0.023*\"action\" + 0.021*\"sector\" + 0.019*\"nation\" + 0.018*\"polici\" + '\n",
            "  '0.017*\"measur\" + 0.017*\"mitig\"'),\n",
            " (6,\n",
            "  '0.195*\"climat\" + 0.151*\"chang\" + 0.035*\"impact\" + 0.028*\"vulner\" + '\n",
            "  '0.023*\"institut\" + 0.021*\"risk\" + 0.019*\"assess\" + 0.018*\"integr\" + '\n",
            "  '0.017*\"local\" + 0.016*\"disast\"'),\n",
            " (7,\n",
            "  '0.030*\"could\" + 0.028*\"singapor\" + 0.028*\"percent\" + 0.025*\"applic\" + '\n",
            "  '0.018*\"per_cent\" + 0.017*\"somalia\" + 0.017*\"around\" + 0.017*\"declin\" + '\n",
            "  '0.014*\"uncondit\" + 0.014*\"mrv\"'),\n",
            " (8,\n",
            "  '0.057*\"water\" + 0.056*\"agricultur\" + 0.052*\"manag\" + 0.033*\"product\" + '\n",
            "  '0.024*\"infrastructur\" + 0.024*\"improv\" + 0.024*\"system\" + 0.022*\"resourc\" + '\n",
            "  '0.021*\"health\" + 0.019*\"increas\"'),\n",
            " (9,\n",
            "  '0.120*\"energi\" + 0.033*\"gener\" + 0.030*\"effici\" + 0.029*\"transport\" + '\n",
            "  '0.028*\"electr\" + 0.026*\"renew\" + 0.025*\"wast\" + 0.023*\"industri\" + '\n",
            "  '0.019*\"power\" + 0.018*\"sourc\"')]\n"
          ],
          "name": "stdout"
        }
      ]
    },
    {
      "cell_type": "markdown",
      "metadata": {
        "id": "ZAFcw3kdWLYp"
      },
      "source": [
        "Check perplexity and coherence score"
      ]
    },
    {
      "cell_type": "code",
      "metadata": {
        "id": "EhBVTZ2m4Kxp",
        "colab": {
          "base_uri": "https://localhost:8080/"
        },
        "outputId": "008aa06b-1dc7-4311-e6b7-84f6bb5d7b09"
      },
      "source": [
        "print('Perplexity: {}'.format(lda_model.log_perplexity(corpus)))\n",
        "\n",
        "coherence_model_lda = CoherenceModel(model=lda_model, texts=texts, dictionary=id2word, coherence='c_v')\n",
        "coherence_lda = coherence_model_lda.get_coherence()\n",
        "print('Coherence Score: {}'.format(coherence_lda))"
      ],
      "execution_count": 40,
      "outputs": [
        {
          "output_type": "stream",
          "text": [
            "Perplexity: -7.249567337190181\n",
            "Coherence Score: 0.5278614753593946\n"
          ],
          "name": "stdout"
        }
      ]
    },
    {
      "cell_type": "markdown",
      "metadata": {
        "id": "yo9TiiWQWcb-"
      },
      "source": [
        "Visualize topics"
      ]
    },
    {
      "cell_type": "code",
      "metadata": {
        "id": "dhtIjoJ94Rho",
        "colab": {
          "base_uri": "https://localhost:8080/",
          "height": 862
        },
        "outputId": "d1916bf6-539c-4f9a-a4bd-b7c31ebdcdbd"
      },
      "source": [
        "pyLDAvis.enable_notebook()\n",
        "vis = pyLDAvis.gensim.prepare(lda_model, corpus, id2word)\n",
        "vis"
      ],
      "execution_count": 41,
      "outputs": [
        {
          "output_type": "execute_result",
          "data": {
            "text/html": [
              "\n",
              "<link rel=\"stylesheet\" type=\"text/css\" href=\"https://cdn.jsdelivr.net/gh/bmabey/pyLDAvis/pyLDAvis/js/ldavis.v1.0.0.css\">\n",
              "\n",
              "\n",
              "<div id=\"ldavis_el4611400878759356965477517637\"></div>\n",
              "<script type=\"text/javascript\">\n",
              "\n",
              "var ldavis_el4611400878759356965477517637_data = {\"mdsDat\": {\"x\": [-0.25256578058644186, -0.25915351920111535, -0.14335973140043218, 0.11393788780318252, -0.0520362714819563, 0.08730786175594955, 0.0946887703557136, 0.053047489806943855, 0.15712322905633408, 0.20101006389182147], \"y\": [0.13405427192069855, -0.006692091458622452, -0.11356976719169945, -0.03074239633884352, -0.10450498212416434, 0.14100177339548878, 0.23937207648942138, -0.24714914504330934, 0.12744932571685408, -0.13921906536582415], \"topics\": [1, 2, 3, 4, 5, 6, 7, 8, 9, 10], \"cluster\": [1, 1, 1, 1, 1, 1, 1, 1, 1, 1], \"Freq\": [24.43468756690992, 18.030375165232098, 11.962419856899603, 9.398392896514169, 7.7089534784075555, 7.116050675842322, 6.857648055728579, 5.663567710749386, 5.651312913108892, 3.176591680607473]}, \"tinfo\": {\"Term\": [\"climat\", \"chang\", \"emiss\", \"energi\", \"us\", \"develop\", \"nation\", \"adapt\", \"water\", \"agricultur\", \"plan\", \"implement\", \"manag\", \"forest\", \"ghg\", \"area\", \"sector\", \"action\", \"impact\", \"contribut\", \"land\", \"reduct\", \"project\", \"product\", \"polici\", \"increas\", \"gener\", \"resourc\", \"vulner\", \"measur\", \"develop\", \"plan\", \"implement\", \"polici\", \"strategi\", \"measur\", \"need\", \"support\", \"prioriti\", \"invest\", \"strengthen\", \"financ\", \"respons\", \"requir\", \"monitor\", \"programm\", \"address\", \"initi\", \"fund\", \"ensur\", \"financi\", \"action\", \"mechan\", \"technic\", \"transfer\", \"green\", \"privat\", \"market\", \"strateg\", \"option\", \"cost\", \"capac\", \"kei\", \"intern\", \"adapt\", \"build\", \"technolog\", \"activ\", \"govern\", \"mitig\", \"process\", \"resili\", \"sector\", \"nation\", \"includ\", \"sustain\", \"provid\", \"level\", \"target\", \"ndc\", \"achiev\", \"identifi\", \"futur\", \"agreement\", \"object\", \"determin\", \"environ\", \"commit\", \"parti\", \"set\", \"unfccc\", \"ministri\", \"relev\", \"goal\", \"toward\", \"pari\", \"present\", \"updat\", \"convent\", \"within\", \"rmi\", \"coordin\", \"decis\", \"first\", \"meet\", \"context\", \"articl\", \"line\", \"indc\", \"contribut\", \"take\", \"inform\", \"nation\", \"state\", \"global\", \"commun\", \"report\", \"effort\", \"countri\", \"program\", \"base\", \"includ\", \"emiss\", \"ghg\", \"reduct\", \"estim\", \"total\", \"scenario\", \"gdp\", \"refer\", \"compar\", \"per\", \"greenhous\", \"world\", \"organ\", \"net\", \"sink\", \"lulucf\", \"lead\", \"deforest\", \"tonga\", \"per_capita\", \"baselin\", \"trend\", \"lower\", \"mine\", \"show\", \"figur\", \"assum\", \"bodi\", \"south_africa\", \"calcul\", \"ga\", \"growth\", \"carbon\", \"on\", \"year\", \"cover\", \"project\", \"low\", \"period\", \"would\", \"expect\", \"reduc\", \"sector\", \"level\", \"condit\", \"increas\", \"million\", \"base\", \"indic\", \"climat\", \"chang\", \"impact\", \"institut\", \"risk\", \"local\", \"disast\", \"sea_level\", \"research\", \"sever\", \"awar\", \"associ\", \"mani\", \"meteorolog\", \"conduct\", \"train\", \"ambit\", \"act\", \"consult\", \"nauru\", \"knowledg\", \"png\", \"napa\", \"central\", \"earli\", \"warn\", \"legisl\", \"council\", \"polit\", \"pollut\", \"vulner\", \"integr\", \"assess\", \"region\", \"differ\", \"effect\", \"public\", \"manag\", \"project\", \"adapt\", \"forest\", \"natur\", \"popul\", \"protect\", \"peopl\", \"ecosystem\", \"extrem\", \"issu\", \"conserv\", \"approxim\", \"degrad\", \"along\", \"educ\", \"poverti\", \"group\", \"live\", \"advers\", \"especi\", \"livelihood\", \"prevent\", \"marin\", \"scienc\", \"pathwai\", \"util\", \"control\", \"scale\", \"kiribati\", \"expand\", \"right\", \"incom\", \"high\", \"depend\", \"area\", \"social\", \"rural\", \"econom\", \"million\", \"human\", \"resourc\", \"sustain\", \"economi\", \"challeng\", \"commun\", \"water\", \"agricultur\", \"infrastructur\", \"health\", \"food\", \"secur\", \"servic\", \"loss\", \"major\", \"damag\", \"crop\", \"caus\", \"biodivers\", \"household\", \"fisheri\", \"road\", \"introduc\", \"diseas\", \"tourism\", \"solut\", \"etc\", \"emerg\", \"citi\", \"output\", \"better\", \"hous\", \"advanc\", \"km\", \"lebanon\", \"sri_lanka\", \"manag\", \"product\", \"improv\", \"system\", \"promot\", \"resourc\", \"increas\", \"practic\", \"reduc\", \"import\", \"suppli\", \"sustain\", \"land\", \"resili\", \"due\", \"enhanc\", \"includ\", \"energi\", \"gener\", \"effici\", \"transport\", \"electr\", \"renew\", \"power\", \"fuel\", \"standard\", \"solar\", \"demand\", \"fish\", \"consumpt\", \"author\", \"urban\", \"vehicl\", \"clean\", \"qualiti\", \"link\", \"mw\", \"altern\", \"instal\", \"distribut\", \"uae\", \"scientif\", \"divers\", \"manufactur\", \"regulatori\", \"chain\", \"solid\", \"wast\", \"industri\", \"sourc\", \"construct\", \"plant\", \"suppli\", \"reduc\", \"sector\", \"promot\", \"improv\", \"island\", \"flood\", \"temperatur\", \"rise\", \"drought\", \"affect\", \"rainfal\", \"higher\", \"lack\", \"irrig\", \"storm\", \"ha\", \"air\", \"feder\", \"pacif\", \"zone\", \"tropic\", \"locat\", \"introduct\", \"frequenc\", \"last\", \"veget\", \"pattern\", \"cyclon\", \"season\", \"grow\", \"ocean\", \"threat\", \"sea\", \"coastlin\", \"event\", \"coastal\", \"increas\", \"variabl\", \"result\", \"countri\", \"intens\", \"alreadi\", \"larg\", \"us\", \"data\", \"ipcc\", \"valu\", \"livestock\", \"decreas\", \"methodolog\", \"guidelin\", \"remov\", \"produc\", \"gase\", \"appli\", \"diversif\", \"oil\", \"biomass\", \"rehabilit\", \"categori\", \"eros\", \"landus\", \"facil\", \"mix\", \"treatment\", \"mainli\", \"describ\", \"panel\", \"throughout\", \"wood\", \"ton\", \"gwp\", \"grid\", \"model\", \"land\", \"forestri\", \"soil\", \"wind\", \"equival\", \"potenti\", \"inventori\", \"approach\", \"good\", \"report\", \"sourc\", \"includ\", \"product\", \"practic\", \"could\", \"singapor\", \"percent\", \"applic\", \"per_cent\", \"somalia\", \"around\", \"declin\", \"uncondit\", \"mrv\", \"stock\", \"eq\", \"jordan\", \"almost\", \"guyana\", \"recoveri\", \"type\", \"pakistan\", \"success\", \"reason\", \"iii\", \"gg_co\", \"costa_rica\", \"mt_co\", \"district\", \"world_bank\", \"citizen\", \"multilater\", \"mobil\", \"usual\"], \"Freq\": [6642.0, 5165.0, 3946.0, 2978.0, 2327.0, 4665.0, 4217.0, 3424.0, 1471.0, 1442.0, 2688.0, 2572.0, 1675.0, 1296.0, 1563.0, 1370.0, 3511.0, 2044.0, 1187.0, 1693.0, 1077.0, 1193.0, 1733.0, 1037.0, 1620.0, 1750.0, 813.0, 1499.0, 975.0, 1516.0, 4665.060075057682, 2687.3320990043094, 2571.787383860541, 1619.4430317844042, 1426.7730217345338, 1515.7371115234089, 1376.0647229366823, 1335.1453517758052, 961.2755684071371, 793.8328765051986, 661.6989971683821, 651.4183970979701, 621.4857262674361, 614.3530687607755, 610.3394440569754, 600.5743463229065, 598.4107398178318, 527.7550364025283, 505.0618239953174, 501.831488613027, 475.5542505488548, 2039.5049963031815, 394.6094393335057, 385.98896163242426, 379.84766112637095, 352.67983722812545, 329.1713695637913, 291.86569786444727, 273.939766977633, 272.56004863911494, 594.6310776789559, 1282.2660125343639, 431.1026022030111, 922.7527338247987, 3238.9993898315006, 1021.3289887126298, 1219.1573260986045, 694.4427705486303, 928.6714704716505, 1499.092523188767, 819.081340078239, 913.332116541574, 1878.344808439419, 1722.7541273109464, 1127.8776470616854, 790.1981761673613, 629.7595346357772, 655.0998899487922, 1172.9326390120516, 1007.8365523535064, 948.6717409307106, 738.9306806186656, 675.579755321033, 662.0376181190884, 653.110439701393, 613.9461600642763, 610.8823813460511, 574.4876742904721, 539.7070478049696, 532.7476433924447, 515.9104218396399, 511.0676011034522, 497.87784690943363, 488.21527505022107, 461.60220587581836, 447.45849117872024, 424.26274178238447, 407.68925131585416, 396.3962337844932, 385.0090788224063, 383.0506301826623, 370.1602019338007, 348.3352812551446, 337.81873753325766, 329.128075981818, 322.92445281953655, 308.09553708895146, 294.80122299696575, 1039.0791473862557, 1649.6443444076078, 430.27001419485464, 728.1213630874605, 2493.689995561659, 502.7160354379585, 627.317271283303, 730.6738923599564, 567.976557869523, 461.3691326902594, 828.7321211717978, 484.43615547365044, 509.8316244838503, 485.2352722455813, 3945.5748015823556, 1563.048332085978, 1193.0757427706037, 683.0424068032196, 600.4863502758615, 554.9907086085894, 386.833782648252, 369.6468215087486, 367.305385617582, 322.22087618590615, 678.8871688765036, 267.3273023772454, 266.989645824946, 244.28687282355688, 228.524195547145, 223.82808034913776, 219.30022729653388, 215.4322602856902, 208.46410065085718, 185.3792500525338, 181.989218705358, 181.74361905620947, 178.74344960373057, 177.11612699224438, 166.5093136272805, 162.56939746425977, 159.4643826194486, 157.76593983294967, 157.64452500680846, 154.71519266396913, 674.6231934085738, 819.8941626331609, 778.2455411391169, 488.16487793450307, 904.0548358852848, 383.680393953059, 1312.9341946142108, 459.9628321766043, 440.13689300080625, 308.0531105357507, 353.5852878551189, 709.1259104323799, 1315.8978081956384, 513.2561969927389, 325.4192116185699, 554.0362121702092, 373.7435457790363, 314.0538133819026, 288.2957540560844, 6641.652655043154, 5164.836429732207, 1186.1453983340525, 797.3001555989036, 711.8431937478147, 590.04446768447, 544.8724267268443, 356.6300777382009, 339.721339995113, 290.3758066492784, 284.5664541847253, 269.5105050983132, 254.58314687729256, 220.08589512148188, 197.37700245689973, 197.12032905319447, 197.11154452588607, 195.3954323121784, 188.49015843893443, 178.93853380012112, 178.529378158381, 173.386013591485, 164.32559176176778, 154.15339507262954, 148.71420003183806, 144.8747420744445, 136.5947452757111, 136.57569889552525, 135.92248271569082, 122.42125993848441, 938.9448603410165, 611.3562710321518, 632.6199739301233, 386.5950693856217, 251.4881815805906, 302.1148897844298, 206.94222484503672, 239.40211755936824, 204.56590695417873, 184.95847664175807, 1295.8465482329777, 807.201650470406, 798.7275894363227, 701.9689904877113, 415.63179144443166, 355.9223944175624, 344.9466270797107, 331.6513089283338, 322.6578832418118, 309.9341528619646, 306.44114543532805, 271.72452404744325, 254.1037817562915, 248.11850154340706, 217.44104133960028, 216.6382281510566, 214.56161647312388, 195.51866717800016, 195.28458825223348, 191.44201948852663, 189.60403410875648, 189.01772275325143, 176.81403457130008, 165.40246217749973, 164.6178775677007, 155.8757170080635, 148.87546067046736, 147.53638328221436, 138.3052824671141, 133.89946495289004, 499.29810134388134, 335.37567206918754, 1248.3908474546945, 392.9258880803794, 237.5440235323442, 613.6959187270754, 344.2354910034239, 248.15451569040505, 383.93155031343423, 348.55176827952556, 272.0291067899271, 215.27513698823148, 224.22327136687895, 1470.8972837850497, 1441.7365303717268, 632.1523107394848, 533.442100563946, 447.889787798538, 431.8576806906587, 401.0334871949064, 386.4417083306613, 273.8577665564343, 271.09276739756774, 266.76163137868974, 207.79068267346787, 205.43187936472506, 200.47329993374817, 173.606412857866, 166.98682291812193, 157.77908753798283, 146.61306767561757, 139.59493143450848, 126.36270350342056, 125.21924029510417, 124.46198307836282, 124.35230346337768, 119.19109518344204, 111.52917003217894, 110.7290945865367, 105.96774361553636, 104.95569388165002, 104.24500750263458, 103.5788232154543, 1347.6691151890209, 863.0690466767619, 622.2629837263165, 620.7407235233361, 437.35169245196715, 566.6888676632817, 492.72095456145155, 207.03431549856322, 391.36727202053345, 250.43306817363379, 199.7062161740259, 265.8116440215249, 239.89247108784625, 239.81287248142323, 179.76561061618654, 178.18623137695596, 180.66369891219765, 2977.3085075708523, 812.9031649683914, 745.1558718596542, 722.4165472307859, 685.9233943122387, 641.8404211238633, 480.5842222685698, 336.1986050472989, 283.66101911380184, 278.4178800468677, 268.2946965260679, 249.5831651632435, 239.9867388979348, 228.31075389837724, 224.70885440947026, 222.09461028606063, 208.406386143415, 198.60867337326852, 198.45896610063897, 166.21321806895563, 151.48090276718978, 148.60367410455035, 136.80000442589036, 123.16464609854852, 119.31219904033522, 117.11761282284269, 116.71435595368392, 113.51229403651963, 113.47200428120372, 109.47380242635705, 622.260805487555, 571.9541546417089, 459.5902924942732, 159.17492467691721, 201.7695414496984, 218.71256582558635, 244.21496094675277, 263.4848693730377, 162.89126051629427, 155.66335259398747, 540.9838972821436, 489.6772673410327, 425.39850516116434, 409.29349173402704, 379.8227208879598, 318.88441208535414, 293.89020869445835, 216.49053697645894, 194.28948331372106, 191.4554968876396, 181.00394425592543, 178.45661881343955, 175.33315706030507, 170.30641417699053, 144.8847656214486, 131.2929991922103, 130.59871789192914, 130.31643158506847, 124.69327763109547, 123.3187101670461, 121.52864413914965, 120.4608879749474, 119.20892633063664, 115.57424961831103, 114.5495031315046, 114.16321056047623, 112.32608564674005, 109.18224383503097, 104.50563782465355, 97.52661168817004, 198.60965368247085, 249.39869331492582, 523.1249926703948, 173.41006065476125, 262.66478085603586, 339.2476611799835, 133.58225699772453, 128.19151612131503, 121.59513539648134, 2326.3896918317782, 639.5706322488704, 407.5908729438598, 289.1632379586839, 281.9474393815404, 269.8299388740598, 257.09446970130307, 239.96981446787748, 229.40300496131792, 208.9497284137756, 195.72164949689838, 179.28646832982866, 174.13041884138948, 160.03797086833927, 156.6503666726212, 144.098408288743, 137.78820469764963, 130.7888327004775, 123.65093928646607, 118.32212487826601, 112.45555852376764, 107.55498371570242, 105.30578256648299, 100.37547274458379, 98.82592796970195, 95.52442445329638, 95.495233896831, 93.2817758962678, 87.58399132604401, 85.31675622047425, 241.3347404353762, 836.561077556112, 501.25603279459443, 163.71074655073065, 187.64912337051, 134.72249898127816, 284.38974141083315, 241.6205710020221, 236.558951435447, 145.29204987844818, 217.60086944476035, 197.85827214529945, 272.50824884482716, 173.4033676647146, 143.34259639036748, 342.28171953774176, 320.869791379381, 319.47339723168716, 283.5557215127518, 202.119075752358, 200.82875343941436, 192.92428632721334, 190.65281565011418, 165.31429673190553, 164.68017443412205, 153.1119981764202, 145.48715351581828, 132.09200319244175, 121.91319830657564, 121.34047697569858, 121.09241406270354, 118.60491249154636, 116.09668621487512, 115.04435439328292, 110.99117111876907, 107.34074511353816, 107.21703043362751, 101.13894678668495, 92.31163967869179, 90.71561185213163, 90.11368264612595, 87.84507369649803, 86.65686619551607, 83.87953015465415, 83.03600242566351], \"Total\": [6642.0, 5165.0, 3946.0, 2978.0, 2327.0, 4665.0, 4217.0, 3424.0, 1471.0, 1442.0, 2688.0, 2572.0, 1675.0, 1296.0, 1563.0, 1370.0, 3511.0, 2044.0, 1187.0, 1693.0, 1077.0, 1193.0, 1733.0, 1037.0, 1620.0, 1750.0, 813.0, 1499.0, 975.0, 1516.0, 4665.983015298914, 2688.254989627775, 2572.710254130191, 1620.3659370732662, 1427.6959022303745, 1516.7210400967724, 1376.987686771111, 1336.0682268816197, 962.1984663710638, 794.7557880757821, 662.6219500258079, 652.341227477993, 622.4086668385432, 615.275977068454, 611.2623628606767, 601.4972233492612, 599.3336405620422, 528.6779556019892, 505.9846902890623, 502.75443716597596, 476.477088858295, 2044.2572335005846, 395.53228664887035, 386.91183185495953, 380.7705304939068, 353.6027280712087, 330.09426992117847, 292.7886124019638, 274.8626497198981, 273.4829690821778, 597.120205877342, 1302.9352357766254, 433.6446784941047, 940.0687233375803, 3424.7789173435613, 1065.493544391241, 1336.3797847264889, 738.8251058370704, 1075.0787418040895, 1921.7602640799355, 963.785073876419, 1153.9618678580994, 3511.1503598192767, 4217.265104775872, 2070.248794806358, 1405.275655564662, 817.792505424174, 1339.5153043366665, 1173.854458891009, 1008.7583010577957, 949.5935893879923, 739.8525248189275, 676.5016609931372, 662.9593678887275, 654.032258394029, 614.8679416736444, 611.8042998777348, 575.4094422976295, 540.6287633759953, 533.6694752357154, 516.8321656724695, 511.9894497559349, 498.7996504211922, 489.13706329661187, 462.5240462157984, 448.38020164876525, 425.18466671418236, 408.61100730415234, 397.31800957271713, 385.93099333161393, 383.97247904468406, 371.08206305055626, 349.25705368964356, 338.7405772409551, 330.04996149010896, 323.8462514923211, 309.01723790223537, 295.7230570039479, 1053.2152569142315, 1693.3208663644264, 434.5095104763926, 826.4611542051459, 4217.265104775872, 594.2128736363042, 891.9542553985996, 1238.4301988090283, 786.396581000231, 549.071698977249, 2010.135714074444, 622.5221070410552, 862.9284280292492, 2070.248794806358, 3946.4926856948236, 1563.9662216092238, 1193.9936449456302, 683.9603664433652, 601.4042728806623, 555.9085861113807, 387.75172164402215, 370.56478021216327, 368.2232168557634, 323.13880202289954, 681.023855922382, 268.24529735022537, 267.9077405945545, 245.20484168327792, 229.44212757189203, 224.74595176430606, 220.21834156374544, 216.3502967166596, 209.38210203801953, 186.29710701057235, 182.90708868987403, 182.66160741700142, 179.66141345055436, 178.0344523415372, 167.4273400809776, 163.48728044564555, 160.3823910896368, 158.68453854998148, 158.5633923077754, 155.63303508734302, 701.4411949472305, 860.4013290356858, 831.6184016405717, 520.5213884942028, 1013.7495334295849, 408.55708515448185, 1733.139879124152, 547.9229688111, 532.2642959485921, 357.27484120141463, 455.1526881859108, 1345.4236659121952, 3511.1503598192767, 1339.5153043366665, 514.7704934860105, 1750.566132104199, 718.7941758672744, 862.9284280292492, 500.41477034887106, 6642.574567642151, 5165.758359737336, 1187.06732064678, 798.2221318613655, 712.7650815453921, 590.9664805953312, 545.794330678031, 357.5521158834217, 340.6432487820849, 291.2978504908356, 285.4884276936099, 270.43252176498254, 255.50534698632143, 221.00787188045499, 198.29900813782584, 198.04233865831932, 198.03358614759554, 196.3173695001395, 189.41213582927298, 179.86064238463436, 179.45126465552482, 174.3079761540452, 165.24756284798568, 155.07542927640557, 149.63608536311614, 145.79661418315774, 137.5167574735769, 137.49773198119635, 136.84465878494333, 123.34327788062366, 975.9583590813152, 702.3045656356902, 741.5561221371071, 483.03095262681404, 296.3044642931699, 695.6438958930927, 698.7846604043581, 1675.5727838320586, 1733.139879124152, 3424.7789173435613, 1296.767466377118, 808.1225982045258, 799.6485439875916, 702.8899455090458, 416.5527194879568, 356.8432804093946, 345.8676079345101, 332.5722329144804, 323.5788708001817, 310.8551555985774, 307.36207187427266, 272.64562160923185, 255.02470527514316, 249.0393910734344, 218.36196426956667, 217.55913667233563, 215.48263444411302, 196.4395954548887, 196.2054587946087, 192.36293514614724, 190.52495603553723, 189.93885650702677, 177.73514838133508, 166.32348777236717, 165.53890764781255, 156.79669555701946, 149.79641867328388, 148.4575456396888, 139.22620414877207, 134.8203924893082, 505.47510802731256, 340.94551348564977, 1370.5548030603024, 471.93519444796783, 287.43911050301006, 1189.6327944570378, 718.7941758672744, 442.0434583093409, 1499.1962658422603, 1405.275655564662, 887.4409660846875, 467.5756394017249, 1238.4301988090283, 1471.8149628562492, 1442.6542427280397, 633.070043732778, 534.3597794807404, 448.8074633293543, 432.77537970891683, 401.9512445135157, 387.35945430170733, 274.77553358448876, 272.0104691384235, 267.6792978668735, 208.70843503806924, 206.3495815445767, 201.3910343562317, 174.52409500347213, 167.9045399292651, 158.69679334669237, 147.53072728380198, 140.5126172064412, 127.28056825613582, 126.13698934107812, 125.37975669381734, 125.27008496510405, 120.10920131852951, 112.44704329652626, 111.64689445781124, 106.88557130581648, 105.87343914857111, 105.16281686286605, 104.49674925635887, 1675.5727838320586, 1037.287454602205, 921.7707300451136, 1104.1691599711376, 747.4989580460689, 1499.1962658422603, 1750.566132104199, 351.19198991174915, 1345.4236659121952, 601.5572359865688, 419.2400936947515, 1405.275655564662, 1077.2686067775403, 1153.9618678580994, 432.02710023231697, 595.0774666513016, 2070.248794806358, 2978.2357889853643, 813.8305108042134, 746.0831206797252, 723.3438369529423, 686.8506244125175, 642.767659329498, 481.5115155428343, 337.1258893546582, 284.5883904883176, 279.34510434213433, 269.22200650585523, 250.51092098603098, 240.91408222600498, 229.23824614244268, 225.6362419298036, 223.021853166644, 209.33375525936003, 199.53618218261232, 199.38664156140558, 167.14041349461806, 152.40825448499155, 149.5309748387841, 137.72745834175606, 124.09196254454174, 120.24005964046326, 118.04516668152823, 117.64183540974791, 114.43990366178302, 114.39943070911988, 110.40104278734766, 687.4067237108449, 650.8325782390663, 658.2732693348331, 202.03395968447862, 334.20025461251964, 419.2400936947515, 1345.4236659121952, 3511.1503598192767, 747.4989580460689, 921.7707300451136, 541.9071481339568, 490.60041276599895, 426.321620303805, 410.21663236181536, 380.7458533451294, 319.8075775761176, 294.81328753604276, 217.41382728431975, 195.2127907710102, 192.37878219356125, 181.92705827029587, 179.3798112287461, 176.25635166463948, 171.22989270497933, 145.80811036307844, 132.21646367949825, 131.52182242805176, 131.2395842767982, 125.6167472664928, 124.24188204883689, 122.45192973131914, 121.38430461101359, 120.1320511417816, 116.4973173922469, 115.47259679344633, 115.0864017591782, 113.24925836408926, 110.10546918052981, 105.42897122446122, 98.44972859693308, 286.0884341364216, 438.3981024461942, 1750.566132104199, 255.8342553824015, 674.9847989668513, 2010.135714074444, 247.54032390734824, 344.9450530038342, 217.51765421750147, 2327.310766241482, 640.4917053523327, 408.5118512278253, 290.08433737810105, 282.86851972162236, 270.751139486354, 258.01546595550644, 240.89078814094313, 230.3240483384922, 209.87080508242812, 196.64273569324854, 180.2075988141739, 175.05154708323641, 160.95905725603828, 157.571400069651, 145.0194925080083, 138.70929400301702, 131.71015684862212, 124.57197813283565, 119.24327425089906, 113.37679441255933, 108.4760558096246, 106.22693699226697, 101.29663228079363, 99.7470239403684, 96.44566701894125, 96.41623333867366, 94.20282954912965, 88.50495227106464, 86.23777596815036, 247.75854795606617, 1077.2686067775403, 645.7338147027192, 187.74298309418748, 250.7383830290067, 158.75814863971954, 552.6022523149497, 468.51048096739765, 510.24740527277413, 208.26324008374482, 786.396581000231, 658.2732693348331, 2070.248794806358, 1037.287454602205, 351.19198991174915, 343.20065931482867, 321.7886593411936, 320.3923728113713, 284.47468421518846, 203.03798066608005, 201.74770373587336, 193.84313115298116, 191.57199535162937, 166.23314062706513, 165.5990261803191, 154.03097928779854, 146.40592941698952, 133.010819906634, 122.83228417017222, 122.25946761682103, 122.01138224829539, 119.52385972252715, 117.01564005947863, 115.96327140415715, 111.91021607058556, 108.25974304595118, 108.1358506665197, 102.05786971704697, 93.23043889043916, 91.63461960662224, 91.03264381977105, 88.7639918138704, 87.57595873521441, 84.79842359140815, 83.95487535509886], \"Category\": [\"Default\", \"Default\", \"Default\", \"Default\", \"Default\", \"Default\", \"Default\", \"Default\", \"Default\", \"Default\", \"Default\", \"Default\", \"Default\", \"Default\", \"Default\", \"Default\", \"Default\", \"Default\", \"Default\", \"Default\", \"Default\", \"Default\", \"Default\", \"Default\", \"Default\", \"Default\", \"Default\", \"Default\", \"Default\", \"Default\", \"Topic1\", \"Topic1\", \"Topic1\", \"Topic1\", \"Topic1\", \"Topic1\", \"Topic1\", \"Topic1\", \"Topic1\", \"Topic1\", \"Topic1\", \"Topic1\", \"Topic1\", \"Topic1\", \"Topic1\", \"Topic1\", \"Topic1\", \"Topic1\", \"Topic1\", \"Topic1\", \"Topic1\", \"Topic1\", \"Topic1\", \"Topic1\", \"Topic1\", \"Topic1\", \"Topic1\", \"Topic1\", \"Topic1\", \"Topic1\", \"Topic1\", \"Topic1\", \"Topic1\", \"Topic1\", \"Topic1\", \"Topic1\", \"Topic1\", \"Topic1\", \"Topic1\", \"Topic1\", \"Topic1\", \"Topic1\", \"Topic1\", \"Topic1\", \"Topic1\", \"Topic1\", \"Topic1\", \"Topic1\", \"Topic2\", \"Topic2\", \"Topic2\", \"Topic2\", \"Topic2\", \"Topic2\", \"Topic2\", \"Topic2\", \"Topic2\", \"Topic2\", \"Topic2\", \"Topic2\", \"Topic2\", \"Topic2\", \"Topic2\", \"Topic2\", \"Topic2\", \"Topic2\", \"Topic2\", \"Topic2\", \"Topic2\", \"Topic2\", \"Topic2\", \"Topic2\", \"Topic2\", \"Topic2\", \"Topic2\", \"Topic2\", \"Topic2\", \"Topic2\", \"Topic2\", \"Topic2\", \"Topic2\", \"Topic2\", \"Topic2\", \"Topic2\", \"Topic2\", \"Topic2\", \"Topic2\", \"Topic2\", \"Topic2\", \"Topic2\", \"Topic2\", \"Topic2\", \"Topic3\", \"Topic3\", \"Topic3\", \"Topic3\", \"Topic3\", \"Topic3\", \"Topic3\", \"Topic3\", \"Topic3\", \"Topic3\", \"Topic3\", \"Topic3\", \"Topic3\", \"Topic3\", \"Topic3\", \"Topic3\", \"Topic3\", \"Topic3\", \"Topic3\", \"Topic3\", \"Topic3\", \"Topic3\", \"Topic3\", \"Topic3\", \"Topic3\", \"Topic3\", \"Topic3\", \"Topic3\", \"Topic3\", \"Topic3\", \"Topic3\", \"Topic3\", \"Topic3\", \"Topic3\", \"Topic3\", \"Topic3\", \"Topic3\", \"Topic3\", \"Topic3\", \"Topic3\", \"Topic3\", \"Topic3\", \"Topic3\", \"Topic3\", \"Topic3\", \"Topic3\", \"Topic3\", \"Topic3\", \"Topic3\", \"Topic4\", \"Topic4\", \"Topic4\", \"Topic4\", \"Topic4\", \"Topic4\", \"Topic4\", \"Topic4\", \"Topic4\", \"Topic4\", \"Topic4\", \"Topic4\", \"Topic4\", \"Topic4\", \"Topic4\", \"Topic4\", \"Topic4\", \"Topic4\", \"Topic4\", \"Topic4\", \"Topic4\", \"Topic4\", \"Topic4\", \"Topic4\", \"Topic4\", \"Topic4\", \"Topic4\", \"Topic4\", \"Topic4\", \"Topic4\", \"Topic4\", \"Topic4\", \"Topic4\", \"Topic4\", \"Topic4\", \"Topic4\", \"Topic4\", \"Topic4\", \"Topic4\", \"Topic4\", \"Topic5\", \"Topic5\", \"Topic5\", \"Topic5\", \"Topic5\", \"Topic5\", \"Topic5\", \"Topic5\", \"Topic5\", \"Topic5\", \"Topic5\", \"Topic5\", \"Topic5\", \"Topic5\", \"Topic5\", \"Topic5\", \"Topic5\", \"Topic5\", \"Topic5\", \"Topic5\", \"Topic5\", \"Topic5\", \"Topic5\", \"Topic5\", \"Topic5\", \"Topic5\", \"Topic5\", \"Topic5\", \"Topic5\", \"Topic5\", \"Topic5\", \"Topic5\", \"Topic5\", \"Topic5\", \"Topic5\", \"Topic5\", \"Topic5\", \"Topic5\", \"Topic5\", \"Topic5\", \"Topic5\", \"Topic5\", \"Topic5\", \"Topic6\", \"Topic6\", \"Topic6\", \"Topic6\", \"Topic6\", \"Topic6\", \"Topic6\", \"Topic6\", \"Topic6\", \"Topic6\", \"Topic6\", \"Topic6\", \"Topic6\", \"Topic6\", \"Topic6\", \"Topic6\", \"Topic6\", \"Topic6\", \"Topic6\", \"Topic6\", \"Topic6\", \"Topic6\", \"Topic6\", \"Topic6\", \"Topic6\", \"Topic6\", \"Topic6\", \"Topic6\", \"Topic6\", \"Topic6\", \"Topic6\", \"Topic6\", \"Topic6\", \"Topic6\", \"Topic6\", \"Topic6\", \"Topic6\", \"Topic6\", \"Topic6\", \"Topic6\", \"Topic6\", \"Topic6\", \"Topic6\", \"Topic6\", \"Topic6\", \"Topic6\", \"Topic6\", \"Topic7\", \"Topic7\", \"Topic7\", \"Topic7\", \"Topic7\", \"Topic7\", \"Topic7\", \"Topic7\", \"Topic7\", \"Topic7\", \"Topic7\", \"Topic7\", \"Topic7\", \"Topic7\", \"Topic7\", \"Topic7\", \"Topic7\", \"Topic7\", \"Topic7\", \"Topic7\", \"Topic7\", \"Topic7\", \"Topic7\", \"Topic7\", \"Topic7\", \"Topic7\", \"Topic7\", \"Topic7\", \"Topic7\", \"Topic7\", \"Topic7\", \"Topic7\", \"Topic7\", \"Topic7\", \"Topic7\", \"Topic7\", \"Topic7\", \"Topic7\", \"Topic7\", \"Topic7\", \"Topic8\", \"Topic8\", \"Topic8\", \"Topic8\", \"Topic8\", \"Topic8\", \"Topic8\", \"Topic8\", \"Topic8\", \"Topic8\", \"Topic8\", \"Topic8\", \"Topic8\", \"Topic8\", \"Topic8\", \"Topic8\", \"Topic8\", \"Topic8\", \"Topic8\", \"Topic8\", \"Topic8\", \"Topic8\", \"Topic8\", \"Topic8\", \"Topic8\", \"Topic8\", \"Topic8\", \"Topic8\", \"Topic8\", \"Topic8\", \"Topic8\", \"Topic8\", \"Topic8\", \"Topic8\", \"Topic8\", \"Topic8\", \"Topic8\", \"Topic8\", \"Topic8\", \"Topic9\", \"Topic9\", \"Topic9\", \"Topic9\", \"Topic9\", \"Topic9\", \"Topic9\", \"Topic9\", \"Topic9\", \"Topic9\", \"Topic9\", \"Topic9\", \"Topic9\", \"Topic9\", \"Topic9\", \"Topic9\", \"Topic9\", \"Topic9\", \"Topic9\", \"Topic9\", \"Topic9\", \"Topic9\", \"Topic9\", \"Topic9\", \"Topic9\", \"Topic9\", \"Topic9\", \"Topic9\", \"Topic9\", \"Topic9\", \"Topic9\", \"Topic9\", \"Topic9\", \"Topic9\", \"Topic9\", \"Topic9\", \"Topic9\", \"Topic9\", \"Topic9\", \"Topic9\", \"Topic9\", \"Topic9\", \"Topic9\", \"Topic9\", \"Topic9\", \"Topic10\", \"Topic10\", \"Topic10\", \"Topic10\", \"Topic10\", \"Topic10\", \"Topic10\", \"Topic10\", \"Topic10\", \"Topic10\", \"Topic10\", \"Topic10\", \"Topic10\", \"Topic10\", \"Topic10\", \"Topic10\", \"Topic10\", \"Topic10\", \"Topic10\", \"Topic10\", \"Topic10\", \"Topic10\", \"Topic10\", \"Topic10\", \"Topic10\", \"Topic10\", \"Topic10\", \"Topic10\", \"Topic10\", \"Topic10\"], \"logprob\": [30.0, 29.0, 28.0, 27.0, 26.0, 25.0, 24.0, 23.0, 22.0, 21.0, 20.0, 19.0, 18.0, 17.0, 16.0, 15.0, 14.0, 13.0, 12.0, 11.0, 10.0, 9.0, 8.0, 7.0, 6.0, 5.0, 4.0, 3.0, 2.0, 1.0, -2.9451, -3.4966, -3.5405, -4.0031, -4.1297, -4.0692, -4.1659, -4.1961, -4.5246, -4.716, -4.8981, -4.9138, -4.9608, -4.9723, -4.9789, -4.995, -4.9986, -5.1243, -5.1682, -5.1746, -5.2284, -3.7724, -5.415, -5.4371, -5.4531, -5.5273, -5.5963, -5.7166, -5.78, -5.785, -5.005, -4.2365, -5.3266, -4.5655, -3.3099, -4.464, -4.287, -4.8498, -4.5592, -4.0803, -4.6847, -4.5758, -3.8548, -3.9412, -4.3648, -4.7206, -4.9476, -4.9081, -4.0217, -4.1734, -4.2339, -4.4838, -4.5734, -4.5936, -4.6072, -4.6691, -4.6741, -4.7355, -4.7979, -4.8109, -4.843, -4.8525, -4.8786, -4.8982, -4.9543, -4.9854, -5.0386, -5.0785, -5.1065, -5.1357, -5.1408, -5.175, -5.2358, -5.2665, -5.2925, -5.3115, -5.3586, -5.4027, -4.1429, -3.6806, -5.0245, -4.4985, -3.2674, -4.8689, -4.6475, -4.495, -4.7469, -4.9548, -4.3691, -4.906, -4.8549, -4.9043, -2.3983, -3.3243, -3.5944, -4.1521, -4.2809, -4.3597, -4.7207, -4.7661, -4.7725, -4.9034, -4.1582, -5.0902, -5.0915, -5.1803, -5.247, -5.2678, -5.2882, -5.306, -5.3389, -5.4563, -5.4747, -5.4761, -5.4927, -5.5019, -5.5636, -5.5876, -5.6069, -5.6176, -5.6183, -5.6371, -4.1645, -3.9695, -4.0216, -4.488, -3.8718, -4.7289, -3.4987, -4.5475, -4.5916, -4.9484, -4.8105, -4.1146, -3.4964, -4.4379, -4.8936, -4.3614, -4.7551, -4.9291, -5.0147, -1.6363, -1.8878, -3.359, -3.7562, -3.8696, -4.0572, -4.1369, -4.5607, -4.6093, -4.7663, -4.7865, -4.8408, -4.8978, -5.0434, -5.1523, -5.1536, -5.1537, -5.1624, -5.1984, -5.2504, -5.2527, -5.2819, -5.3356, -5.3995, -5.4354, -5.4616, -5.5204, -5.5206, -5.5254, -5.63, -3.5927, -4.0218, -3.9876, -4.4801, -4.91, -4.7266, -5.105, -4.9593, -5.1166, -5.2173, -3.0724, -3.5457, -3.5563, -3.6854, -4.2095, -4.3646, -4.3959, -4.4352, -4.4627, -4.5029, -4.5143, -4.6345, -4.7015, -4.7254, -4.8574, -4.8611, -4.8707, -4.9636, -4.9648, -4.9847, -4.9943, -4.9974, -5.0642, -5.1309, -5.1357, -5.1902, -5.2362, -5.2452, -5.3098, -5.3422, -4.0261, -4.424, -3.1097, -4.2657, -4.7689, -3.8198, -4.398, -4.7252, -4.2888, -4.3855, -4.6334, -4.8674, -4.8266, -2.8656, -2.8857, -3.7101, -3.8799, -4.0547, -4.0912, -4.1652, -4.2023, -4.5466, -4.5568, -4.5729, -4.8227, -4.8341, -4.8586, -5.0025, -5.0413, -5.0981, -5.1715, -5.2205, -5.3201, -5.3292, -5.3353, -5.3361, -5.3785, -5.445, -5.4522, -5.4961, -5.5057, -5.5125, -5.5189, -2.9531, -3.3988, -3.7259, -3.7283, -4.0785, -3.8194, -3.9593, -4.8264, -4.1896, -4.6361, -4.8624, -4.5765, -4.6791, -4.6794, -4.9676, -4.9764, -4.9626, -2.1235, -3.4217, -3.5087, -3.5397, -3.5915, -3.6579, -3.9473, -4.3046, -4.4745, -4.4931, -4.5302, -4.6025, -4.6417, -4.6916, -4.7075, -4.7192, -4.7828, -4.8309, -4.8317, -5.009, -5.1018, -5.121, -5.2037, -5.3087, -5.3405, -5.3591, -5.3625, -5.3904, -5.3907, -5.4266, -3.6889, -3.7732, -3.9919, -5.0523, -4.8151, -4.7345, -4.6242, -4.5483, -5.0292, -5.0746, -3.6376, -3.7372, -3.8779, -3.9165, -3.9913, -4.1661, -4.2478, -4.5534, -4.6616, -4.6763, -4.7324, -4.7466, -4.7643, -4.7934, -4.955, -5.0535, -5.0588, -5.061, -5.1051, -5.1162, -5.1308, -5.1396, -5.1501, -5.181, -5.1899, -5.1933, -5.2096, -5.2379, -5.2817, -5.3508, -4.6396, -4.4119, -3.6711, -4.7753, -4.3601, -4.1042, -5.0362, -5.0774, -5.1303, -2.1767, -3.468, -3.9185, -4.2618, -4.2871, -4.331, -4.3793, -4.4483, -4.4933, -4.5867, -4.6521, -4.7398, -4.769, -4.8534, -4.8748, -4.9583, -5.0031, -5.0552, -5.1113, -5.1554, -5.2062, -5.2508, -5.2719, -5.3199, -5.3354, -5.3694, -5.3697, -5.3932, -5.4562, -5.4824, -4.4426, -3.1995, -3.7117, -4.8307, -4.6942, -5.0256, -4.2784, -4.4414, -4.4626, -4.95, -4.5461, -4.6412, -4.3211, -4.7732, -4.9636, -3.5171, -3.5817, -3.586, -3.7053, -4.0439, -4.0503, -4.0904, -4.1023, -4.2449, -4.2487, -4.3215, -4.3726, -4.4692, -4.5494, -4.5541, -4.5562, -4.5769, -4.5983, -4.6074, -4.6433, -4.6767, -4.6779, -4.7362, -4.8275, -4.845, -4.8516, -4.8771, -4.8908, -4.9233, -4.9334], \"loglift\": [30.0, 29.0, 28.0, 27.0, 26.0, 25.0, 24.0, 23.0, 22.0, 21.0, 20.0, 19.0, 18.0, 17.0, 16.0, 15.0, 14.0, 13.0, 12.0, 11.0, 10.0, 9.0, 8.0, 7.0, 6.0, 5.0, 4.0, 3.0, 2.0, 1.0, 1.409, 1.4088, 1.4088, 1.4086, 1.4085, 1.4085, 1.4085, 1.4085, 1.4082, 1.408, 1.4078, 1.4078, 1.4077, 1.4077, 1.4077, 1.4076, 1.4076, 1.4074, 1.4073, 1.4073, 1.4072, 1.4068, 1.4068, 1.4068, 1.4067, 1.4066, 1.4064, 1.406, 1.4058, 1.4058, 1.405, 1.3932, 1.4033, 1.3906, 1.3534, 1.3668, 1.3174, 1.3472, 1.2628, 1.1608, 1.2465, 1.1753, 0.7836, 0.5139, 0.8018, 0.8335, 1.1479, 0.6939, 1.7123, 1.7122, 1.7121, 1.7119, 1.7117, 1.7117, 1.7117, 1.7116, 1.7116, 1.7115, 1.7114, 1.7114, 1.7113, 1.7113, 1.7113, 1.7112, 1.7111, 1.7111, 1.7109, 1.7109, 1.7108, 1.7107, 1.7107, 1.7106, 1.7105, 1.7104, 1.7103, 1.7103, 1.7101, 1.71, 1.6996, 1.687, 1.7033, 1.5864, 1.1877, 1.5459, 1.3611, 1.1855, 1.3877, 1.5391, 0.8271, 1.4623, 1.1869, 0.2623, 2.1232, 2.1228, 2.1226, 2.1221, 2.1219, 2.1217, 2.121, 2.1209, 2.1209, 2.1206, 2.1203, 2.12, 2.12, 2.1196, 2.1194, 2.1193, 2.1192, 2.1191, 2.119, 2.1185, 2.1184, 2.1184, 2.1183, 2.1182, 2.1179, 2.1178, 2.1177, 2.1176, 2.1176, 2.1175, 2.0844, 2.0752, 2.0571, 2.0592, 2.0089, 2.0606, 1.8457, 1.9484, 1.9333, 1.9752, 1.8709, 1.483, 1.142, 1.1641, 1.6648, 0.9729, 1.4694, 1.1126, 1.5719, 2.3645, 2.3645, 2.3639, 2.3635, 2.3633, 2.3631, 2.3629, 2.362, 2.3619, 2.3615, 2.3614, 2.3612, 2.361, 2.3605, 2.36, 2.36, 2.36, 2.3599, 2.3598, 2.3595, 2.3595, 2.3593, 2.359, 2.3587, 2.3585, 2.3583, 2.3579, 2.3579, 2.3579, 2.3571, 2.326, 2.2259, 2.2058, 2.1419, 2.2006, 1.5306, 1.1477, 0.4189, 0.2278, -0.554, 2.5621, 2.5616, 2.5616, 2.5615, 2.5606, 2.5602, 2.5601, 2.56, 2.5599, 2.5598, 2.5598, 2.5594, 2.5592, 2.5591, 2.5586, 2.5585, 2.5585, 2.5581, 2.5581, 2.558, 2.5579, 2.5579, 2.5576, 2.5572, 2.5572, 2.5569, 2.5566, 2.5566, 2.5562, 2.5559, 2.5505, 2.5463, 2.4694, 2.3796, 2.3721, 1.9009, 1.8265, 1.9854, 1.2006, 1.1686, 1.3804, 1.7871, 0.8538, 2.6422, 2.6422, 2.6414, 2.6411, 2.6408, 2.6407, 2.6405, 2.6404, 2.6395, 2.6394, 2.6394, 2.6384, 2.6384, 2.6382, 2.6375, 2.6373, 2.637, 2.6366, 2.6363, 2.6356, 2.6355, 2.6355, 2.6355, 2.6351, 2.6346, 2.6346, 2.6342, 2.6341, 2.6341, 2.634, 2.425, 2.4589, 2.2499, 2.0669, 2.1068, 1.6699, 1.3751, 2.1144, 1.408, 1.7665, 1.9012, 0.9776, 1.1408, 1.0717, 1.766, 1.437, 0.204, 2.6795, 2.6787, 2.6786, 2.6785, 2.6785, 2.6784, 2.6779, 2.6771, 2.6765, 2.6765, 2.6764, 2.6761, 2.6759, 2.6758, 2.6757, 2.6756, 2.6754, 2.6751, 2.6751, 2.6742, 2.6737, 2.6736, 2.673, 2.6723, 2.6721, 2.6719, 2.6719, 2.6717, 2.6717, 2.6714, 2.5802, 2.5506, 2.3205, 2.4414, 2.1752, 2.0291, 0.9734, 0.0901, 1.1562, 0.9012, 2.8694, 2.8692, 2.8689, 2.8689, 2.8687, 2.8682, 2.868, 2.8669, 2.8664, 2.8663, 2.866, 2.866, 2.8659, 2.8657, 2.8648, 2.8641, 2.8641, 2.8641, 2.8637, 2.8637, 2.8635, 2.8635, 2.8634, 2.8632, 2.8631, 2.8631, 2.8629, 2.8627, 2.8623, 2.8617, 2.5062, 2.307, 1.6632, 2.4822, 1.9273, 1.0919, 2.2543, 1.8813, 2.2895, 2.8729, 2.8718, 2.871, 2.8701, 2.87, 2.8699, 2.8697, 2.8695, 2.8693, 2.8689, 2.8686, 2.8682, 2.868, 2.8675, 2.8674, 2.8669, 2.8666, 2.8663, 2.8659, 2.8655, 2.8651, 2.8648, 2.8646, 2.8641, 2.864, 2.8637, 2.8637, 2.8635, 2.8628, 2.8625, 2.847, 2.6204, 2.62, 2.7363, 2.5834, 2.7091, 2.209, 2.2111, 2.1046, 2.5132, 1.5885, 1.6712, 0.8455, 1.0845, 1.9772, 3.4467, 3.4465, 3.4465, 3.4461, 3.4448, 3.4448, 3.4446, 3.4446, 3.4438, 3.4438, 3.4434, 3.4431, 3.4424, 3.4419, 3.4418, 3.4418, 3.4416, 3.4415, 3.4414, 3.4411, 3.4408, 3.4408, 3.4403, 3.4395, 3.4393, 3.4392, 3.439, 3.4388, 3.4385, 3.4384]}, \"token.table\": {\"Topic\": [2, 4, 1, 2, 1, 6, 1, 4, 1, 6, 5, 8, 2, 6, 8, 10, 5, 1, 2, 8, 7, 4, 9, 10, 1, 2, 9, 5, 5, 8, 10, 2, 4, 9, 4, 3, 7, 4, 1, 2, 3, 7, 3, 6, 6, 9, 3, 1, 7, 3, 1, 7, 1, 3, 9, 6, 4, 7, 1, 2, 5, 4, 6, 10, 7, 4, 5, 6, 8, 8, 2, 1, 2, 5, 3, 1, 3, 8, 10, 4, 5, 7, 9, 4, 7, 2, 2, 3, 5, 2, 2, 1, 10, 10, 10, 4, 1, 2, 3, 5, 8, 1, 3, 6, 8, 6, 9, 2, 10, 9, 3, 5, 7, 1, 5, 9, 2, 1, 3, 4, 4, 6, 7, 10, 7, 9, 8, 3, 5, 6, 4, 1, 2, 5, 1, 2, 3, 5, 5, 5, 1, 4, 5, 7, 1, 2, 7, 6, 3, 7, 1, 2, 6, 1, 2, 10, 2, 9, 9, 5, 3, 6, 6, 8, 5, 1, 3, 8, 5, 9, 8, 3, 1, 1, 2, 7, 6, 8, 6, 5, 1, 6, 9, 8, 7, 1, 2, 3, 9, 9, 3, 7, 10, 3, 2, 3, 2, 1, 6, 9, 1, 2, 1, 3, 9, 9, 5, 8, 1, 3, 9, 10, 9, 8, 6, 4, 5, 8, 6, 6, 4, 5, 6, 2, 10, 4, 1, 2, 6, 1, 6, 7, 1, 2, 6, 7, 9, 5, 3, 5, 6, 7, 8, 1, 2, 2, 3, 8, 7, 9, 2, 4, 6, 1, 7, 4, 4, 5, 3, 8, 1, 2, 6, 8, 3, 9, 1, 9, 8, 8, 5, 10, 1, 4, 5, 6, 4, 8, 6, 9, 9, 8, 9, 10, 8, 3, 6, 4, 1, 2, 3, 4, 2, 7, 5, 5, 9, 4, 8, 6, 1, 3, 3, 3, 9, 6, 1, 4, 6, 4, 7, 5, 1, 1, 1, 2, 4, 9, 3, 5, 3, 2, 1, 2, 3, 9, 10, 8, 9, 1, 10, 10, 10, 7, 4, 1, 2, 5, 4, 2, 1, 3, 2, 8, 9, 3, 10, 1, 3, 6, 8, 10, 9, 2, 2, 5, 8, 5, 3, 3, 10, 10, 2, 3, 8, 1, 5, 7, 4, 1, 4, 4, 5, 1, 9, 5, 7, 6, 9, 2, 5, 1, 1, 1, 2, 9, 9, 6, 9, 2, 7, 1, 2, 3, 4, 7, 1, 6, 7, 5, 1, 2, 5, 1, 4, 6, 7, 7, 8, 10, 10, 3, 6, 7, 3, 3, 4, 8, 7, 9, 2, 9, 7, 2, 9, 1, 4, 1, 6, 1, 5, 6, 1, 2, 3, 8, 5, 8, 4, 2, 6, 5, 6, 5, 3, 5, 7, 8, 4, 8, 1, 3, 6, 7, 6, 6, 2, 4, 3, 10, 3, 1, 5, 8, 9, 7, 7, 6, 10, 7, 9, 3, 6, 7, 1, 2, 8, 10, 8, 1, 1, 1, 10, 6, 7, 1, 1, 5, 6, 1, 4, 6, 7, 1, 2, 2, 1, 1, 7, 8, 8, 9, 9, 3, 3, 6, 2, 4, 1, 7, 9, 3, 8, 10, 7, 10, 2, 2, 7, 9, 10, 5, 9, 6, 8, 8, 7, 4, 5, 4, 7, 9, 6, 8, 9, 2, 9, 3, 10, 3, 10, 3, 8, 8], \"Freq\": [0.9993749016477934, 0.9932895927472247, 0.9979174668281376, 0.0019567009153492894, 0.9393292059474825, 0.05955401305718909, 0.9457544788065733, 0.054018085390310604, 0.9977747944186955, 0.9917147722092188, 0.9977602165234425, 0.9974748016221555, 0.9985529009239545, 0.9995465006730909, 0.9928720204816793, 0.9932242229655261, 0.9976320118202477, 0.6174896498591979, 0.008697037321960532, 0.3710735924036494, 0.9907599854761789, 0.9947807532666444, 0.9932988463187995, 0.9983313657013171, 0.5173960656573408, 0.017638502238318435, 0.46448055894238544, 0.9972490223077345, 0.9105801513469942, 0.08828541531489287, 0.9956504460696327, 0.9967081515932869, 0.8536103756729069, 0.14563968494893198, 0.998400629620433, 0.9913806554432514, 0.9945984312684313, 0.9982891506406906, 0.01970035920455709, 0.5910107761367127, 0.3638772229547604, 0.024335737840923466, 0.9950407133131289, 0.9960244103942565, 0.9934597320989229, 0.9963737069709452, 0.9956861673088215, 0.9582413759093568, 0.04035688458775939, 0.9959325146683173, 0.9839322514260298, 0.015349957120530886, 0.06373115348992335, 0.9355252342483088, 0.994886470959894, 0.9966056233523095, 0.9930651213965771, 0.9877671532065734, 0.29086203073799033, 0.24594951128580067, 0.45981865153432294, 0.9998531948874638, 0.9898612269205544, 0.9913929984641472, 0.9936285705202798, 0.9999135022668846, 0.20529285938468667, 0.22354111355221437, 0.5679769109642998, 0.9954318960210207, 0.9975505401996854, 0.22851509941549797, 0.5902633840025759, 0.18087414229353901, 0.9966780561361438, 0.3185885789400959, 0.6313493180215315, 0.042737492296842136, 0.005827839858660291, 0.9934492454096242, 0.998211036466163, 0.7869964051999684, 0.2078858428830105, 0.9925446391114779, 0.9962057750316669, 0.997386872664354, 0.974416622847484, 0.02539388774693443, 0.9967445257705875, 0.9966827338782489, 0.997084032998898, 0.9964492813063883, 0.003349409348929036, 0.9896346090705216, 0.9965015821437357, 0.9963800713362718, 0.1940167508438968, 0.41240996525536017, 0.1288470217142802, 0.09601341772531304, 0.1686453295796949, 0.058743320999867676, 0.9398931359978828, 0.9974622696925507, 0.9957310828834588, 0.9962851829136427, 0.9992323002027603, 0.9964007779474638, 0.9970142016291083, 0.9972257199442299, 0.9937587480250697, 0.9955685102395138, 0.9954609709595613, 0.014665099853881631, 0.9825616902100692, 0.9871996506537416, 0.9985884096164098, 0.9997893230010286, 0.14849590641491475, 0.8471016479578091, 0.9985446336955457, 0.9964025983361349, 0.9947181313696289, 0.9930744558187005, 0.9911460442565347, 0.9939929289357471, 0.9980410729661886, 0.43515788685224943, 0.14813885509863808, 0.4166405299649196, 0.995749117857684, 0.2858024775243187, 0.19753994770063205, 0.5161256505880344, 0.4946807920495601, 0.009014684137577405, 0.1893083668891255, 0.3064992606776318, 0.997636832593773, 0.9959819372243265, 0.5577566371108189, 0.4341301659986271, 0.007187585529778594, 0.9985482573593966, 0.1584492520048914, 0.8395989100489074, 0.9987615583617688, 0.9889953790771283, 0.9998751585942096, 0.9995850600580604, 0.5243014859153171, 0.17476716197177236, 0.2991207195286104, 0.9984993923271395, 0.998685364130498, 0.9903970459216499, 0.14487445335606322, 0.8503500523073276, 0.9946081846258955, 0.9977621850937397, 0.998595874131773, 0.990986075163062, 0.3041017728053765, 0.6955891125088497, 0.9969180034755575, 0.052729557844986306, 0.7777609782135481, 0.16697693317579, 0.9974915027756102, 0.9895736320668024, 0.9928173014328848, 0.9970194595914906, 0.9979439786702148, 0.998998716056971, 0.9978137333088729, 0.9979604841816079, 0.9969970048922947, 0.9987761674259223, 0.9982008692026547, 0.9994081696240714, 0.1269873098371825, 0.09446616951302601, 0.7758614905905907, 0.990004320376049, 0.9966603295973102, 0.9980539128792617, 0.9992584482462309, 0.96230447379239, 0.03706654269422539, 0.9967314546810864, 0.998061332543322, 0.9989795039714194, 0.9894960768374352, 0.9993821979043578, 0.7029508477649496, 0.2959793043220841, 0.9976753687627994, 0.20166785066395473, 0.10083392533197737, 0.6962342463398437, 0.8641227510843021, 0.13487384166547234, 0.9982954654380175, 0.9970282158183124, 0.0014683773428841125, 0.9856469400531909, 0.9937628136194757, 0.9905601205479382, 0.0464899328373085, 0.9530436231648242, 0.9963021079061689, 0.9896984042105567, 0.9942946438802869, 0.9923078789118216, 0.9974553109478753, 0.00989168392388935, 0.9871900556041571, 0.9934970682316776, 0.9942058893715517, 0.993092868504905, 0.11537327165762586, 0.5610308111978669, 0.3212353838310367, 0.9988477097930617, 0.988363698171568, 0.9991008760596674, 0.9997239276638126, 0.5818232731021701, 0.4155880522158358, 0.15513619096258485, 0.6747881872638306, 0.16923948105009257, 0.5448620488657298, 0.23427135966301324, 0.08742910535877402, 0.0014491011937918345, 0.13186820863505694, 0.9939149228528372, 0.3164690495491799, 0.07083422769692836, 0.2816231794724652, 0.031989651217967645, 0.29876049262494786, 0.012343155793325783, 0.9865029899434992, 0.41765353939151867, 0.5755225805969253, 0.003996684587478648, 0.8788742591030697, 0.11984648987769132, 0.8808641474506548, 0.11857786600297276, 0.9983097545945016, 0.9987176397373762, 0.9964490645543068, 0.9984689326284206, 0.8699929203036777, 0.12814952999563173, 0.45649128277902196, 0.5413259459503447, 0.9818431111323647, 0.01702003226231618, 0.9956092789778673, 0.9950902464845361, 0.48237981684709996, 0.5165306003407, 0.9990490310519009, 0.9987470345687969, 0.9928329820064357, 0.9983260081785589, 0.9982793725457303, 0.99240046856832, 0.993901277646739, 0.004612070893952385, 0.9946833263415935, 0.9917501579660086, 0.9974853080228157, 0.993787339619396, 0.22278566226664473, 0.7769649971549235, 0.9954084526760446, 0.5608740147501272, 0.24365838345702248, 0.19308777556971593, 0.9963093294461692, 0.994467574521295, 0.9889426995438665, 0.9962422217984875, 0.4889828416886649, 0.10974118737134922, 0.38297434776532074, 0.017916928550424364, 0.9975549522202517, 0.9930454640764962, 0.9974299554553862, 0.9938561403846027, 0.9969295992269586, 0.9983645762880535, 0.990554798816005, 0.9964904579283911, 0.15878144365580305, 0.839534069904246, 0.996318555899949, 0.9966809112313251, 0.9884498506028062, 0.9971775740933998, 0.05251935388849105, 0.14263779067442456, 0.8045010118373401, 0.9980221666893394, 0.9945441567830662, 0.9972446862266205, 0.9973065468786705, 0.9995246059903498, 0.9986542523408641, 0.9968187801465918, 0.9954396561901644, 0.9960643213702486, 0.5203158463947533, 0.4785792811759228, 0.9941895946097403, 0.9980674411232369, 0.7800140465062968, 0.08377735923116329, 0.13581298608281753, 0.9878564708087494, 0.9905844524273792, 0.024217126107245152, 0.9727212319743469, 0.9979348264552574, 0.9963826708759336, 0.986802176359106, 0.9934233236663064, 0.9931769135257358, 0.9924503404075415, 0.4085586173012402, 0.5913785209223987, 0.9986108565618385, 0.9952149487891082, 0.9992482827085531, 0.9992827192424452, 0.9950863870590526, 0.998421701099937, 0.9889689488290249, 0.9940416073976334, 0.9375215135956608, 0.061476820563649885, 0.9982340067324899, 0.9966117418162684, 0.9907650595761776, 0.9944577132159099, 0.9913204759725932, 0.9925108147505736, 0.9969218051027007, 0.9988369775739105, 0.9958637985337723, 0.9905766102299749, 0.9986731103601095, 0.9964758115838442, 0.9930374280557199, 0.994887751234154, 0.9956541636770142, 0.10521088945144776, 0.8266569885470896, 0.06763557179021641, 0.9995331582634024, 0.39497276910529044, 0.6044280254490051, 0.9924961772667862, 0.999157019385551, 0.9938276086736366, 0.9891094358468101, 0.9991889637110355, 0.48316849756129154, 0.5139320348592015, 0.9958263989124199, 0.9989376878302534, 0.5894211882566482, 0.40718468560724974, 0.9972137595569064, 0.9929147725620232, 0.9987544499259245, 0.9966849775325098, 0.8497745215184936, 0.08196848253963492, 0.06744242234273759, 0.995850756459022, 0.8319776703854542, 0.16678115524528803, 0.7774824291791461, 0.22007250578004756, 0.9991733571994024, 0.1009728078546302, 0.757584552646454, 0.11828243205828108, 0.023079498938201187, 0.1953179980098406, 0.584616199522605, 0.21806050462742477, 0.9987338764557213, 0.7703665609814198, 0.17975219756233127, 0.04891216260199491, 0.48655904925453847, 0.29622859763438075, 0.03434534465326154, 0.1817441154568423, 0.9973128573637757, 0.9972413470816056, 0.9918665506819193, 0.9917107549340175, 0.5269715539895005, 0.29061477801113494, 0.1813555136437773, 0.9991677971236811, 0.9984758934407099, 0.8011908924167707, 0.19874502757625317, 0.9961560290798294, 0.9929699622417861, 0.9983968504779084, 0.9942513673754713, 0.9988056970223133, 0.7222818787914251, 0.27721381967699066, 0.9979261711556925, 0.9981116643750176, 0.7911873220686613, 0.20797914271246298, 0.3655291921982805, 0.25613724416813816, 0.3782026495920165, 0.9977367493198667, 0.34815598863811, 0.26074661276726535, 0.38963840430562946, 0.9911927201041709, 0.9970341710553992, 0.998926600691867, 0.9974673209728375, 0.994612772652567, 0.8280014490147389, 0.17047088656185802, 0.9949189263575409, 0.9983655835975905, 0.9950570592858548, 0.9896868011861335, 0.9959311826770278, 0.9984558450114116, 0.9959072818437461, 0.5348674387435413, 0.37480593684052205, 0.015094767973060537, 0.07490422597952681, 0.9982083553148556, 0.9976334330929439, 0.9987455245863188, 0.9955445929702238, 0.997447608731221, 0.9975491387956051, 0.998073032286743, 0.1652769297937997, 0.8327414539610678, 0.12250790746443657, 0.873534644529026, 0.9951847935717288, 0.9873095149105944, 0.9899390121078118, 0.9962938674293302, 0.6987979330602582, 0.30078693640419807, 0.996446895468269, 0.9952462707223532, 0.9979324859762972, 0.1060226104063844, 0.8464979846731961, 0.04712116018061529, 0.9933066757572695, 0.9949042309642664, 0.9968615243985416, 0.9995125697080959, 0.9990613802851178, 0.9916933060572262, 0.4770536096330994, 0.5223737025482438, 0.9992004698112514, 0.5621672850246349, 0.248349851232402, 0.18928670609690237, 0.3196973913030022, 0.0036226333292124894, 0.562413824360239, 0.11411294987019342, 0.006904336792791543, 0.9896216069667878, 0.999272091284795, 0.9976433084235549, 0.9121658483104692, 0.08680167219361315, 0.9968999453913147, 0.9899599067261838, 0.9953790871822813, 0.9872314923565823, 0.9933991395416951, 0.9976650101371312, 0.9963518065734406, 0.9988669860084336, 0.9947367887827377, 0.9979763914688794, 0.998142187872087, 0.9956114203630332, 0.9963779612675201, 0.9960324270267984, 0.9956171117319732, 0.9912003765421166, 0.9925818604977715, 0.9983898725200535, 0.9985046724311626, 0.9971802316668547, 0.999436789336218, 0.9886263263323293, 0.9920426886779905, 0.9962619926746072, 0.3205200174520518, 0.6762190612098166, 0.9885956869345695, 0.9954181478086792, 0.9621312131430437, 0.036886819673215734, 0.9945361270039029, 0.9048500378964027, 0.09310354087680028, 0.9994462871510237, 0.24726968105568234, 0.7497854844914238, 0.9975876689156863, 0.9853112563140797, 0.9953576172163067, 0.9886563349536952, 0.8620814131895848, 0.13435035010746776, 0.8917390047438103, 0.10752162778437535, 0.9907994538225812], \"Term\": [\"achiev\", \"act\", \"action\", \"action\", \"activ\", \"activ\", \"adapt\", \"adapt\", \"address\", \"advanc\", \"advers\", \"affect\", \"agreement\", \"agricultur\", \"air\", \"almost\", \"along\", \"alreadi\", \"alreadi\", \"alreadi\", \"altern\", \"ambit\", \"appli\", \"applic\", \"approach\", \"approach\", \"approach\", \"approxim\", \"area\", \"area\", \"around\", \"articl\", \"assess\", \"assess\", \"associ\", \"assum\", \"author\", \"awar\", \"base\", \"base\", \"base\", \"base\", \"baselin\", \"better\", \"biodivers\", \"biomass\", \"bodi\", \"build\", \"build\", \"calcul\", \"capac\", \"capac\", \"carbon\", \"carbon\", \"categori\", \"caus\", \"central\", \"chain\", \"challeng\", \"challeng\", \"challeng\", \"chang\", \"citi\", \"citizen\", \"clean\", \"climat\", \"coastal\", \"coastal\", \"coastal\", \"coastlin\", \"commit\", \"commun\", \"commun\", \"commun\", \"compar\", \"condit\", \"condit\", \"condit\", \"condit\", \"conduct\", \"conserv\", \"construct\", \"construct\", \"consult\", \"consumpt\", \"context\", \"contribut\", \"contribut\", \"control\", \"convent\", \"coordin\", \"cost\", \"cost\", \"costa_rica\", \"could\", \"council\", \"countri\", \"countri\", \"countri\", \"countri\", \"countri\", \"cover\", \"cover\", \"crop\", \"cyclon\", \"damag\", \"data\", \"decis\", \"declin\", \"decreas\", \"deforest\", \"degrad\", \"demand\", \"depend\", \"depend\", \"describ\", \"determin\", \"develop\", \"differ\", \"differ\", \"disast\", \"diseas\", \"distribut\", \"district\", \"divers\", \"diversif\", \"drought\", \"due\", \"due\", \"due\", \"earli\", \"econom\", \"econom\", \"econom\", \"economi\", \"economi\", \"economi\", \"economi\", \"ecosystem\", \"educ\", \"effect\", \"effect\", \"effect\", \"effici\", \"effort\", \"effort\", \"electr\", \"emerg\", \"emiss\", \"energi\", \"enhanc\", \"enhanc\", \"enhanc\", \"ensur\", \"environ\", \"eq\", \"equival\", \"equival\", \"eros\", \"especi\", \"estim\", \"etc\", \"event\", \"event\", \"expand\", \"expect\", \"expect\", \"expect\", \"extrem\", \"facil\", \"feder\", \"figur\", \"financ\", \"financi\", \"first\", \"fish\", \"fisheri\", \"flood\", \"food\", \"forest\", \"forestri\", \"forestri\", \"forestri\", \"frequenc\", \"fuel\", \"fund\", \"futur\", \"ga\", \"ga\", \"gase\", \"gdp\", \"gener\", \"gg_co\", \"ghg\", \"global\", \"global\", \"goal\", \"good\", \"good\", \"good\", \"govern\", \"govern\", \"green\", \"greenhous\", \"greenhous\", \"grid\", \"group\", \"grow\", \"growth\", \"growth\", \"guidelin\", \"guyana\", \"gwp\", \"ha\", \"health\", \"high\", \"high\", \"higher\", \"hous\", \"household\", \"human\", \"human\", \"human\", \"identifi\", \"iii\", \"impact\", \"implement\", \"import\", \"import\", \"improv\", \"improv\", \"improv\", \"includ\", \"includ\", \"includ\", \"includ\", \"includ\", \"incom\", \"increas\", \"increas\", \"increas\", \"increas\", \"increas\", \"indc\", \"indc\", \"indic\", \"indic\", \"indic\", \"industri\", \"industri\", \"inform\", \"inform\", \"infrastructur\", \"initi\", \"instal\", \"institut\", \"integr\", \"integr\", \"intens\", \"intens\", \"intern\", \"intern\", \"introduc\", \"introduct\", \"inventori\", \"inventori\", \"invest\", \"ipcc\", \"irrig\", \"island\", \"issu\", \"jordan\", \"kei\", \"kei\", \"kiribati\", \"km\", \"knowledg\", \"lack\", \"land\", \"land\", \"landus\", \"larg\", \"larg\", \"larg\", \"last\", \"lead\", \"lebanon\", \"legisl\", \"level\", \"level\", \"level\", \"level\", \"line\", \"link\", \"live\", \"livelihood\", \"livestock\", \"local\", \"locat\", \"loss\", \"low\", \"low\", \"lower\", \"lulucf\", \"mainli\", \"major\", \"manag\", \"manag\", \"manag\", \"mani\", \"manufactur\", \"marin\", \"market\", \"measur\", \"mechan\", \"meet\", \"meteorolog\", \"methodolog\", \"million\", \"million\", \"mine\", \"ministri\", \"mitig\", \"mitig\", \"mitig\", \"mix\", \"mobil\", \"model\", \"model\", \"monitor\", \"mrv\", \"mt_co\", \"multilater\", \"mw\", \"napa\", \"nation\", \"nation\", \"natur\", \"nauru\", \"ndc\", \"need\", \"net\", \"object\", \"ocean\", \"oil\", \"on\", \"on\", \"option\", \"organ\", \"output\", \"pacif\", \"pakistan\", \"panel\", \"pari\", \"parti\", \"pathwai\", \"pattern\", \"peopl\", \"per\", \"per_capita\", \"per_cent\", \"percent\", \"period\", \"period\", \"period\", \"plan\", \"plant\", \"plant\", \"png\", \"polici\", \"polit\", \"pollut\", \"popul\", \"potenti\", \"potenti\", \"poverti\", \"power\", \"practic\", \"practic\", \"present\", \"prevent\", \"prioriti\", \"privat\", \"process\", \"process\", \"process\", \"produc\", \"product\", \"product\", \"program\", \"program\", \"programm\", \"project\", \"project\", \"project\", \"project\", \"promot\", \"promot\", \"promot\", \"protect\", \"provid\", \"provid\", \"provid\", \"public\", \"public\", \"public\", \"public\", \"qualiti\", \"rainfal\", \"reason\", \"recoveri\", \"reduc\", \"reduc\", \"reduc\", \"reduct\", \"refer\", \"region\", \"region\", \"regulatori\", \"rehabilit\", \"relev\", \"remov\", \"renew\", \"report\", \"report\", \"requir\", \"research\", \"resili\", \"resili\", \"resourc\", \"resourc\", \"resourc\", \"respons\", \"result\", \"result\", \"result\", \"right\", \"rise\", \"risk\", \"rmi\", \"road\", \"rural\", \"rural\", \"scale\", \"scenario\", \"scienc\", \"scientif\", \"sea\", \"sea_level\", \"season\", \"sector\", \"sector\", \"sector\", \"sector\", \"secur\", \"servic\", \"set\", \"sever\", \"show\", \"singapor\", \"sink\", \"social\", \"social\", \"soil\", \"soil\", \"solar\", \"solid\", \"solut\", \"somalia\", \"sourc\", \"sourc\", \"south_africa\", \"sri_lanka\", \"standard\", \"state\", \"state\", \"state\", \"stock\", \"storm\", \"strateg\", \"strategi\", \"strengthen\", \"success\", \"suppli\", \"suppli\", \"support\", \"sustain\", \"sustain\", \"sustain\", \"system\", \"system\", \"system\", \"system\", \"take\", \"take\", \"target\", \"technic\", \"technolog\", \"technolog\", \"temperatur\", \"threat\", \"throughout\", \"ton\", \"tonga\", \"total\", \"tourism\", \"toward\", \"train\", \"transfer\", \"transport\", \"treatment\", \"trend\", \"tropic\", \"type\", \"uae\", \"uncondit\", \"unfccc\", \"updat\", \"urban\", \"us\", \"usual\", \"util\", \"valu\", \"variabl\", \"variabl\", \"veget\", \"vehicl\", \"vulner\", \"vulner\", \"warn\", \"wast\", \"wast\", \"water\", \"wind\", \"wind\", \"within\", \"wood\", \"world\", \"world_bank\", \"would\", \"would\", \"year\", \"year\", \"zone\"]}, \"R\": 30, \"lambda.step\": 0.01, \"plot.opts\": {\"xlab\": \"PC1\", \"ylab\": \"PC2\"}, \"topic.order\": [6, 3, 2, 7, 4, 9, 10, 1, 5, 8]};\n",
              "\n",
              "function LDAvis_load_lib(url, callback){\n",
              "  var s = document.createElement('script');\n",
              "  s.src = url;\n",
              "  s.async = true;\n",
              "  s.onreadystatechange = s.onload = callback;\n",
              "  s.onerror = function(){console.warn(\"failed to load library \" + url);};\n",
              "  document.getElementsByTagName(\"head\")[0].appendChild(s);\n",
              "}\n",
              "\n",
              "if(typeof(LDAvis) !== \"undefined\"){\n",
              "   // already loaded: just create the visualization\n",
              "   !function(LDAvis){\n",
              "       new LDAvis(\"#\" + \"ldavis_el4611400878759356965477517637\", ldavis_el4611400878759356965477517637_data);\n",
              "   }(LDAvis);\n",
              "}else if(typeof define === \"function\" && define.amd){\n",
              "   // require.js is available: use it to load d3/LDAvis\n",
              "   require.config({paths: {d3: \"https://d3js.org/d3.v5\"}});\n",
              "   require([\"d3\"], function(d3){\n",
              "      window.d3 = d3;\n",
              "      LDAvis_load_lib(\"https://cdn.jsdelivr.net/gh/bmabey/pyLDAvis/pyLDAvis/js/ldavis.v3.0.0.js\", function(){\n",
              "        new LDAvis(\"#\" + \"ldavis_el4611400878759356965477517637\", ldavis_el4611400878759356965477517637_data);\n",
              "      });\n",
              "    });\n",
              "}else{\n",
              "    // require.js not available: dynamically load d3 & LDAvis\n",
              "    LDAvis_load_lib(\"https://d3js.org/d3.v5.js\", function(){\n",
              "         LDAvis_load_lib(\"https://cdn.jsdelivr.net/gh/bmabey/pyLDAvis/pyLDAvis/js/ldavis.v3.0.0.js\", function(){\n",
              "                 new LDAvis(\"#\" + \"ldavis_el4611400878759356965477517637\", ldavis_el4611400878759356965477517637_data);\n",
              "            })\n",
              "         });\n",
              "}\n",
              "</script>"
            ],
            "text/plain": [
              "PreparedData(topic_coordinates=              x         y  topics  cluster       Freq\n",
              "topic                                                \n",
              "5     -0.252566  0.134054       1        1  24.434688\n",
              "2     -0.259154 -0.006692       2        1  18.030375\n",
              "1     -0.143360 -0.113570       3        1  11.962420\n",
              "6      0.113938 -0.030742       4        1   9.398393\n",
              "3     -0.052036 -0.104505       5        1   7.708953\n",
              "8      0.087308  0.141002       6        1   7.116051\n",
              "9      0.094689  0.239372       7        1   6.857648\n",
              "0      0.053047 -0.247149       8        1   5.663568\n",
              "4      0.157123  0.127449       9        1   5.651313\n",
              "7      0.201010 -0.139219      10        1   3.176592, topic_info=            Term         Freq        Total Category  logprob  loglift\n",
              "110       climat  6642.000000  6642.000000  Default  30.0000  30.0000\n",
              "109        chang  5165.000000  5165.000000  Default  29.0000  29.0000\n",
              "181        emiss  3946.000000  3946.000000  Default  28.0000  28.0000\n",
              "9         energi  2978.000000  2978.000000  Default  27.0000  27.0000\n",
              "195           us  2327.000000  2327.000000  Default  26.0000  26.0000\n",
              "...          ...          ...          ...      ...      ...      ...\n",
              "1395  world_bank    90.113683    91.032644  Topic10  -4.8516   3.4392\n",
              "1325     citizen    87.845074    88.763992  Topic10  -4.8771   3.4390\n",
              "1476  multilater    86.656866    87.575959  Topic10  -4.8908   3.4388\n",
              "1582       mobil    83.879530    84.798424  Topic10  -4.9233   3.4385\n",
              "1601       usual    83.036002    83.954875  Topic10  -4.9334   3.4384\n",
              "\n",
              "[455 rows x 6 columns], token_table=      Topic      Freq    Term\n",
              "term                         \n",
              "752       2  0.999375  achiev\n",
              "381       4  0.993290     act\n",
              "481       1  0.997917  action\n",
              "481       2  0.001957  action\n",
              "219       1  0.939329   activ\n",
              "...     ...       ...     ...\n",
              "218       3  0.862081   would\n",
              "218      10  0.134350   would\n",
              "177       3  0.891739    year\n",
              "177       8  0.107522    year\n",
              "1155      8  0.990799    zone\n",
              "\n",
              "[544 rows x 3 columns], R=30, lambda_step=0.01, plot_opts={'xlab': 'PC1', 'ylab': 'PC2'}, topic_order=[6, 3, 2, 7, 4, 9, 10, 1, 5, 8])"
            ]
          },
          "metadata": {
            "tags": []
          },
          "execution_count": 41
        }
      ]
    },
    {
      "cell_type": "markdown",
      "metadata": {
        "id": "wNYqtYumXBgC"
      },
      "source": [
        "Train LDA using Mallet"
      ]
    },
    {
      "cell_type": "code",
      "metadata": {
        "id": "9p8ITkWy4uzI"
      },
      "source": [
        "!wget http://mallet.cs.umass.edu/dist/mallet-2.0.8.zip\n",
        "!unzip mallet-2.0.8.zip\n",
        "\n",
        "mallet_path = 'mallet-2.0.8/bin/mallet'"
      ],
      "execution_count": null,
      "outputs": []
    },
    {
      "cell_type": "markdown",
      "metadata": {
        "id": "Qr0-UapyX5-P"
      },
      "source": [
        "Train LDA with Mallet"
      ]
    },
    {
      "cell_type": "code",
      "metadata": {
        "colab": {
          "base_uri": "https://localhost:8080/"
        },
        "id": "GdPZQyba5hz5",
        "outputId": "2ef96841-f189-424e-85e2-5aee37cd10ca"
      },
      "source": [
        "ldamallet = gensim.models.wrappers.LdaMallet(mallet_path, corpus=corpus, num_topics=10, id2word=id2word)\n",
        "pprint(ldamallet.show_topics(formatted=False))\n",
        "\n",
        "coherence_model_ldamallet = CoherenceModel(model=ldamallet, texts=texts, dictionary=id2word, coherence='c_v')\n",
        "coherence_ldamallet = coherence_model_ldamallet.get_coherence()\n",
        "print('Coherence Score: {}'.format(coherence_ldamallet))"
      ],
      "execution_count": 43,
      "outputs": [
        {
          "output_type": "stream",
          "text": [
            "[(0,\n",
            "  [('climat', 0.19140917198918234),\n",
            "   ('chang', 0.14822486909488464),\n",
            "   ('resili', 0.027763392600264686),\n",
            "   ('vulner', 0.027619540825133782),\n",
            "   ('commun', 0.025145290292882216),\n",
            "   ('impact', 0.023246446861154266),\n",
            "   ('risk', 0.022872432245813912),\n",
            "   ('strengthen', 0.015593532424190114),\n",
            "   ('capac', 0.01544968064905921),\n",
            "   ('disast', 0.015392139939006847)]),\n",
            " (1,\n",
            "  [('contribut', 0.04104208185310343),\n",
            "   ('nation', 0.039655720186003524),\n",
            "   ('ndc', 0.025272217889842012),\n",
            "   ('agreement', 0.018686999971117467),\n",
            "   ('inform', 0.01848482222799873),\n",
            "   ('commit', 0.017791641394448776),\n",
            "   ('global', 0.017647228720792538),\n",
            "   ('indc', 0.017560581116598792),\n",
            "   ('determin', 0.01730063830401756),\n",
            "   ('includ', 0.01614533691476764)]),\n",
            " (2,\n",
            "  [('agricultur', 0.047747881670878546),\n",
            "   ('water', 0.04394232198602646),\n",
            "   ('manag', 0.03921510331499926),\n",
            "   ('forest', 0.03668797383677717),\n",
            "   ('land', 0.03196075516574996),\n",
            "   ('area', 0.03118775085476438),\n",
            "   ('product', 0.0295525494276795),\n",
            "   ('resourc', 0.02773896239036718),\n",
            "   ('protect', 0.019503493384866954),\n",
            "   ('improv', 0.018433179723502304)]),\n",
            " (3,\n",
            "  [('increas', 0.0425859713380425),\n",
            "   ('impact', 0.017354146681782506),\n",
            "   ('temperatur', 0.01502863288857882),\n",
            "   ('flood', 0.014330978750617715),\n",
            "   ('result', 0.013226359698845964),\n",
            "   ('drought', 0.012034533879829074),\n",
            "   ('coastal', 0.011976396034998983),\n",
            "   ('island', 0.011947327112583936),\n",
            "   ('region', 0.011831051422923752),\n",
            "   ('rise', 0.011801982500508706)]),\n",
            " (4,\n",
            "  [('adapt', 0.09530483531885074),\n",
            "   ('develop', 0.0867834618079888),\n",
            "   ('plan', 0.07268395234758233),\n",
            "   ('nation', 0.06562018220042046),\n",
            "   ('action', 0.053258584442887176),\n",
            "   ('polici', 0.041597757533286615),\n",
            "   ('strategi', 0.037757533286615276),\n",
            "   ('sector', 0.036075683251576736),\n",
            "   ('prioriti', 0.021415557112824106),\n",
            "   ('implement', 0.020854940434477925)]),\n",
            " (5,\n",
            "  [('support', 0.04365624725869177),\n",
            "   ('implement', 0.039445597824497795),\n",
            "   ('mitig', 0.03935787596128542),\n",
            "   ('develop', 0.037194070002046845),\n",
            "   ('technolog', 0.03067341150326033),\n",
            "   ('intern', 0.030264042808269248),\n",
            "   ('invest', 0.023187812509137692),\n",
            "   ('capac', 0.02195970642416445),\n",
            "   ('requir', 0.021901225182022865),\n",
            "   ('measur', 0.019386531769934795)]),\n",
            " (6,\n",
            "  [('energi', 0.09689351336721498),\n",
            "   ('gener', 0.026163052957627882),\n",
            "   ('effici', 0.02493008149640634),\n",
            "   ('sector', 0.02483986407241452),\n",
            "   ('transport', 0.023606892611192976),\n",
            "   ('electr', 0.023396385288545395),\n",
            "   ('wast', 0.02216341382732385),\n",
            "   ('renew', 0.02195290650467627),\n",
            "   ('industri', 0.020178630499503806),\n",
            "   ('sourc', 0.01855471686765104)]),\n",
            " (7,\n",
            "  [('govern', 0.03637181409295352),\n",
            "   ('nation', 0.023748125937031486),\n",
            "   ('level', 0.021349325337331335),\n",
            "   ('process', 0.020419790104947527),\n",
            "   ('institut', 0.019760119940029984),\n",
            "   ('environ', 0.019130434782608695),\n",
            "   ('implement', 0.018290854572713643),\n",
            "   ('establish', 0.01715142428785607),\n",
            "   ('ministri', 0.01664167916041979),\n",
            "   ('monitor', 0.01649175412293853)]),\n",
            " (8,\n",
            "  [('countri', 0.055665264302681663),\n",
            "   ('econom', 0.03148164047966572),\n",
            "   ('popul', 0.02381156807189262),\n",
            "   ('growth', 0.021350276179846025),\n",
            "   ('economi', 0.02003377121433273),\n",
            "   ('current', 0.013336767694112933),\n",
            "   ('global', 0.012220600440742966),\n",
            "   ('low', 0.012163361094416302),\n",
            "   ('increas', 0.012106121748089636),\n",
            "   ('challeng', 0.012077502074926305)]),\n",
            " (9,\n",
            "  [('emiss', 0.11704410685039815),\n",
            "   ('ghg', 0.04348562715310329),\n",
            "   ('reduct', 0.03995594962444231),\n",
            "   ('sector', 0.03430846557858474),\n",
            "   ('target', 0.032529508104139605),\n",
            "   ('project', 0.024679505280397585),\n",
            "   ('estim', 0.019822669000960073),\n",
            "   ('ga', 0.01798723668605636),\n",
            "   ('carbon', 0.017620150223075618),\n",
            "   ('scenario', 0.017422488281470604)])]\n",
            "Coherence Score: 0.608303653916744\n"
          ],
          "name": "stdout"
        }
      ]
    },
    {
      "cell_type": "markdown",
      "metadata": {
        "id": "C6UXa4DQiflr"
      },
      "source": [
        "Converd Mallet model to gensim in order to be able to visualize topics with pyLDAvis"
      ]
    },
    {
      "cell_type": "code",
      "metadata": {
        "id": "DB6hMiTjwgPU"
      },
      "source": [
        "def convertldaGenToldaMallet(mallet_model):\n",
        "    model_gensim = gensim.models.ldamodel.LdaModel(\n",
        "        id2word=mallet_model.id2word, num_topics=mallet_model.num_topics,\n",
        "        alpha=mallet_model.alpha, eta=0,\n",
        "    )\n",
        "    model_gensim.state.sstats[...] = mallet_model.wordtopics\n",
        "    model_gensim.sync_state()\n",
        "    return model_gensim\n",
        "\n",
        "mallet_model = convertldaGenToldaMallet(ldamallet)"
      ],
      "execution_count": 44,
      "outputs": []
    },
    {
      "cell_type": "code",
      "metadata": {
        "colab": {
          "base_uri": "https://localhost:8080/",
          "height": 965
        },
        "id": "A8a-O5fHwtQi",
        "outputId": "08ccca86-a613-48b2-ceee-820acf3037eb"
      },
      "source": [
        "pyLDAvis.enable_notebook()\n",
        "vis = pyLDAvis.gensim.prepare(mallet_model, corpus, id2word)\n",
        "vis"
      ],
      "execution_count": 45,
      "outputs": [
        {
          "output_type": "stream",
          "text": [
            "/usr/local/lib/python3.7/dist-packages/pyLDAvis/_prepare.py:236: RuntimeWarning: divide by zero encountered in log\n",
            "  log_1 = np.log(pd.eval(\"(topic_given_term.T / topic_proportion)\"))\n",
            "/usr/local/lib/python3.7/dist-packages/pyLDAvis/_prepare.py:259: RuntimeWarning: divide by zero encountered in log\n",
            "  log_lift = np.log(pd.eval(\"topic_term_dists / term_proportion\")).astype(\"float64\")\n",
            "/usr/local/lib/python3.7/dist-packages/pyLDAvis/_prepare.py:260: RuntimeWarning: divide by zero encountered in log\n",
            "  log_ttd = np.log(topic_term_dists).astype(\"float64\")\n"
          ],
          "name": "stderr"
        },
        {
          "output_type": "execute_result",
          "data": {
            "text/html": [
              "\n",
              "<link rel=\"stylesheet\" type=\"text/css\" href=\"https://cdn.jsdelivr.net/gh/bmabey/pyLDAvis/pyLDAvis/js/ldavis.v1.0.0.css\">\n",
              "\n",
              "\n",
              "<div id=\"ldavis_el4611400878787597606776816948\"></div>\n",
              "<script type=\"text/javascript\">\n",
              "\n",
              "var ldavis_el4611400878787597606776816948_data = {\"mdsDat\": {\"x\": [0.18456030201758045, 0.26639410572330136, -0.26696915518523096, 0.08604484022206779, 0.00084483392753893, -0.14305434366825628, -0.20377217114285245, -0.16535469903075128, 0.17119153392012285, 0.07011475321647963], \"y\": [-0.23753447960881077, -0.1271158260755733, 0.010383718711033482, 0.22855946726901513, -0.198749817476543, -0.09478560766812484, 0.03797709649503541, -0.010449713477073751, 0.25685705131320397, 0.13485811051783758], \"topics\": [1, 2, 3, 4, 5, 6, 7, 8, 9, 10], \"cluster\": [1, 1, 1, 1, 1, 1, 1, 1, 1, 1], \"Freq\": [10.445957387819655, 10.301084500225889, 10.2037067430588, 10.061319959521855, 10.018875218856294, 10.011335372226029, 9.80827445907937, 9.799263240531882, 9.7189355029233, 9.63124761575693]}, \"tinfo\": {\"Term\": [\"climat\", \"chang\", \"emiss\", \"adapt\", \"energi\", \"develop\", \"plan\", \"nation\", \"countri\", \"action\", \"agricultur\", \"sector\", \"support\", \"ghg\", \"implement\", \"water\", \"increas\", \"polici\", \"reduct\", \"strategi\", \"manag\", \"mitig\", \"contribut\", \"forest\", \"govern\", \"econom\", \"land\", \"area\", \"target\", \"intern\", \"hand\", \"lack\", \"situat\", \"even_though\", \"fed\", \"percent\", \"turn\", \"driven\", \"balanc\", \"depend\", \"economi\", \"popul\", \"remain\", \"factor\", \"growth\", \"plai\", \"dollar\", \"challeng\", \"licens\", \"logist\", \"econom\", \"greater\", \"rate\", \"vast\", \"product_gdp\", \"employ\", \"pncc\", \"sddci\", \"easili\", \"export\", \"poverti\", \"face\", \"jordan\", \"despit\", \"world\", \"poor\", \"constitut\", \"lesotho\", \"move\", \"nigeria\", \"indonesia\", \"leon\", \"sierra\", \"real\", \"significantli\", \"incom\", \"countri\", \"grow\", \"gdp\", \"low\", \"limit\", \"peopl\", \"live\", \"thu\", \"sinc\", \"current\", \"import\", \"major\", \"futur\", \"benefit\", \"howev\", \"million\", \"signific\", \"global\", \"term\", \"social\", \"make\", \"year\", \"increas\", \"high\", \"alreadi\", \"level\", \"africa\", \"affect\", \"avalanch\", \"cash\", \"ccvi\", \"cyclon\", \"drought\", \"errat\", \"event\", \"glacial\", \"glof\", \"happen\", \"lake\", \"melt\", \"monsoon\", \"month\", \"outburst\", \"pattern\", \"properti\", \"rainfal\", \"riverin\", \"spatial\", \"summer\", \"tempor\", \"waterstress\", \"wave\", \"gpglulucf\", \"north\", \"rain\", \"physic\", \"temperatur\", \"flood\", \"coastal\", \"island\", \"rise\", \"loss\", \"extrem\", \"sea_level\", \"damag\", \"caus\", \"variabl\", \"weather\", \"diseas\", \"citi\", \"km\", \"locat\", \"eros\", \"storm\", \"ocean\", \"zone\", \"threat\", \"precipit\", \"tropic\", \"hazard\", \"decreas\", \"neg\", \"increas\", \"sever\", \"result\", \"region\", \"annual\", \"due\", \"infrastructur\", \"impact\", \"high\", \"tonga\", \"averag\", \"area\", \"project\", \"water\", \"year\", \"adapt\", \"indepth\", \"scotland\", \"sit\", \"strateg\", \"strategi\", \"overview\", \"assess\", \"thirteen\", \"plan\", \"align\", \"articul\", \"coher\", \"priorit\", \"roadmap\", \"yangon\", \"gap\", \"intervent\", \"moldova\", \"stipul\", \"compat\", \"areabas\", \"nama\", \"cobenefit\", \"top\", \"lecrd\", \"mediumterm\", \"apprais\", \"northern_ireland\", \"us_bn\", \"prioriti\", \"vision\", \"nap\", \"comprehens\", \"napa\", \"long_term\", \"sudan\", \"synergi\", \"mainstream\", \"cca\", \"beliz\", \"de\", \"guid\", \"pillar\", \"lao_pdr\", \"elabor\", \"list\", \"agenda\", \"sectori\", \"action\", \"identifi\", \"programm\", \"polici\", \"detail\", \"develop\", \"outlin\", \"document\", \"nation\", \"aim\", \"longterm\", \"kei\", \"measur\", \"sector\", \"sustain\", \"goal\", \"implement\", \"integr\", \"specif\", \"follow\", \"mitig\", \"initi\", \"process\", \"republ\", \"disast\", \"prepared\", \"chang\", \"climat\", \"earli\", \"gender\", \"mathemat\", \"scienc\", \"knowledg\", \"nonpunit\", \"urgent\", \"solut\", \"link\", \"enjoi\", \"guinea\", \"moresbi\", \"papua_new\", \"critic\", \"issu\", \"harmoni\", \"excess\", \"resili\", \"nearbi\", \"autonom\", \"geffund\", \"pioneer\", \"tool\", \"fourreactor\", \"insuffici\", \"climaterel\", \"awar\", \"educ\", \"concern\", \"emerg\", \"respond\", \"strengthen\", \"warn\", \"rais\", \"scientif\", \"univers\", \"cultur\", \"abil\", \"map\", \"combat\", \"research\", \"train\", \"risk\", \"vulner\", \"address\", \"health\", \"human\", \"commun\", \"relat\", \"impact\", \"respons\", \"environment\", \"local\", \"capac\", \"build\", \"includ\", \"enhanc\", \"manag\", \"integr\", \"inform\", \"social\", \"public\", \"assum\", \"projectbas\", \"uncondit\", \"emiss\", \"oxid\", \"businessasusu\", \"per_cent\", \"scenario\", \"aggreg\", \"fugit\", \"ghg\", \"correspond\", \"emit\", \"ar_gwp\", \"calcul\", \"casebycas\", \"ch\", \"coeq\", \"exclud\", \"lulucf\", \"nghgi\", \"uncertainti\", \"reduct\", \"avoid\", \"count\", \"analyz\", \"equival\", \"figur\", \"ggcoe\", \"notwithstand\", \"compar\", \"gase\", \"amount\", \"baselin\", \"bau\", \"sink\", \"net\", \"bau_scenario\", \"dioxid\", \"base_year\", \"methan\", \"tonn\", \"afolu\", \"eq\", \"tcoe\", \"ton\", \"target\", \"estim\", \"quantifi\", \"ga\", \"total\", \"greenhous\", \"carbon\", \"tabl\", \"period\", \"inventori\", \"project\", \"base\", \"indic\", \"sector\", \"year\", \"data\", \"condit\", \"potenti\", \"reduc\", \"refer\", \"level\", \"consid\", \"mitig\", \"million\", \"contribut\", \"cabo\", \"host\", \"verd\", \"alloc\", \"requir\", \"support\", \"full\", \"success\", \"enabl\", \"mechan\", \"conting\", \"intern\", \"invest\", \"seek\", \"sell\", \"concession\", \"deem\", \"ivii\", \"competit\", \"market\", \"assist\", \"guarante\", \"financi\", \"fund_gcf\", \"gef\", \"green\", \"successfulli\", \"cdm\", \"flexibl\", \"offer\", \"financ\", \"fund\", \"access\", \"budget\", \"undertak\", \"adequ\", \"lowcarbon\", \"extern\", \"mobil\", \"transfer\", \"us_billion\", \"barrier\", \"donor\", \"costa_rica\", \"myanmar\", \"effort\", \"deliv\", \"technolog\", \"order\", \"cost\", \"form\", \"domest\", \"mitig\", \"necessari\", \"build\", \"implement\", \"capac\", \"propos\", \"achiev\", \"measur\", \"develop\", \"effect\", \"provid\", \"addit\", \"resourc\", \"contribut\", \"leadership\", \"engag\", \"rwanda\", \"stakehold\", \"gambia\", \"coordin\", \"environ\", \"govern\", \"institut\", \"randomis\", \"input\", \"simplifi\", \"academ\", \"civil\", \"particip\", \"societi\", \"act\", \"author\", \"focal_point\", \"care\", \"dialogu\", \"expert\", \"feedback\", \"involv\", \"multicriteria\", \"select\", \"approv\", \"establish\", \"acknowledg\", \"structur\", \"ministri\", \"monitor\", \"work\", \"review\", \"evalu\", \"consult\", \"agenc\", \"design\", \"law\", \"mrv\", \"carri\", \"committe\", \"partnership\", \"collabor\", \"depart\", \"privat\", \"group\", \"process\", \"ensur\", \"technic\", \"activ\", \"relev\", \"level\", \"framework\", \"program\", \"nation\", \"implement\", \"ndc\", \"includ\", \"provid\", \"system\", \"public\", \"report\", \"sector\", \"data\", \"project\", \"determin\", \"fulfil\", \"common\", \"guidanc\", \"guidelin\", \"convent\", \"gwp\", \"methodolog\", \"tier\", \"timehorizon\", \"annex\", \"scope\", \"kyoto_protocol\", \"parti\", \"unfccc\", \"reflect\", \"kato\", \"articl\", \"bind\", \"confer\", \"nonadversari\", \"circumst\", \"deform\", \"barbado\", \"jointli\", \"call\", \"agre\", \"decis\", \"supplement\", \"confirm\", \"agreement\", \"pari\", \"unit\", \"ipcc\", \"applic\", \"submit\", \"uk\", \"fair\", \"transpar\", \"assumpt\", \"cp\", \"section\", \"understand\", \"recommend\", \"cop\", \"anthropogen\", \"categori\", \"consist\", \"revis\", \"paragraph\", \"ambit\", \"updat\", \"commit\", \"contribut\", \"object\", \"intend\", \"ndc\", \"inform\", \"ambiti\", \"global\", \"approach\", \"report\", \"indc\", \"account\", \"set\", \"nation\", \"accord\", \"includ\", \"commun\", \"framework\", \"consid\", \"hotspot\", \"watersh\", \"secur\", \"rehabilit\", \"food\", \"harvest\", \"wetland\", \"yield\", \"land\", \"practic\", \"wood\", \"agricultur\", \"beneath\", \"biodivers\", \"divers\", \"girl\", \"trial\", \"crop\", \"fertil\", \"fodder\", \"protect\", \"seed\", \"unremit\", \"farm\", \"vi\", \"vii\", \"ecolog\", \"sanit\", \"conserv\", \"hectar\", \"forest\", \"ecosystem\", \"rural\", \"soil\", \"degrad\", \"livestock\", \"irrig\", \"marin\", \"deforest\", \"ha\", \"restor\", \"speci\", \"tree\", \"fisheri\", \"settlement\", \"product\", \"qualiti\", \"control\", \"water\", \"manag\", \"area\", \"natur\", \"forestri\", \"resourc\", \"promot\", \"improv\", \"sustain\", \"system\", \"cover\", \"enhanc\", \"includ\", \"infrastructur\", \"reduc\", \"ecree\", \"effici\", \"energi\", \"renew\", \"seall\", \"largescal\", \"discharg\", \"similarli\", \"instantan\", \"comput\", \"engin\", \"uptak\", \"biofuel\", \"liquid\", \"fuel\", \"hybrid\", \"electr\", \"home\", \"hydro\", \"micro\", \"mini\", \"offgrid\", \"pico\", \"solar\", \"user\", \"fleet\", \"road\", \"transport\", \"epa\", \"bartica\", \"gener\", \"wast\", \"industri\", \"power\", \"demand\", \"consumpt\", \"standard\", \"rmi\", \"construct\", \"mw\", \"oil\", \"fossil_fuel\", \"instal\", \"util\", \"altern\", \"singapor\", \"grid\", \"storag\", \"solid\", \"introduc\", \"commerci\", \"vehicl\", \"uae\", \"sourc\", \"plant\", \"reduc\", \"improv\", \"sector\", \"suppli\", \"system\", \"wind\", \"includ\", \"import\", \"promot\", \"project\"], \"Freq\": [6990.0, 5413.0, 4256.0, 3529.0, 3387.0, 4844.0, 2691.0, 4686.0, 2473.0, 2122.0, 1684.0, 3909.0, 1586.0, 1581.0, 2856.0, 1832.0, 2083.0, 1771.0, 1453.0, 1398.0, 1699.0, 2210.0, 2032.0, 1295.0, 1294.0, 1193.0, 1127.0, 1501.0, 1308.0, 1099.0, 57.51197895346173, 177.96160158166649, 110.68343319222684, 17.362107686696987, 7.595922112929933, 245.23976114319558, 54.25658541743927, 43.40526921674247, 109.59830642750796, 347.24215373393974, 759.5921958441497, 902.8295643966012, 214.85607048449822, 221.3668663844537, 809.5082388910713, 102.00238376283363, 56.426847774787575, 457.92557809825604, 15.191844225859866, 7.595922112929933, 1193.6449498069483, 137.81172590094647, 400.41361238666013, 19.532370044045294, 40.14987126676474, 68.3632995681138, 7.595922112929933, 3.255395191255685, 9.766185022022647, 124.7901429289461, 308.1774136458492, 244.15463437847671, 142.15225061564308, 132.38606559362043, 264.77213118724086, 99.83212140548532, 97.66185022022647, 92.23619874081098, 90.06593638346267, 88.98080079083324, 86.81053843348494, 84.64027607613664, 84.64027607613664, 83.55514048350722, 137.81172590094647, 133.47120118624986, 2110.5812327681792, 174.70620363168877, 266.9424023724997, 461.1809937040549, 415.60545771600886, 311.4327939400058, 195.32370044045294, 177.96160158166649, 215.9412149050382, 505.6713676157399, 421.0310915396032, 265.8572756077809, 373.2853020221194, 224.62226433443143, 284.30450123128617, 399.3284856219413, 310.3476671752869, 463.35124723349264, 234.38845818436462, 292.9855683165005, 271.28292708719636, 406.92440828661563, 459.01070486297493, 273.4531982724552, 246.32490556373557, 287.5598991812639, 67.38653295161969, 402.145448551423, 2.173759087981027, 16.303193771961627, 3.2606386999830876, 115.20923642380274, 449.9681215544329, 7.608156875945142, 328.23761153931065, 11.955674779861008, 4.347518175962054, 13.04255479993235, 43.47518339189767, 7.608156875945142, 17.390072703848215, 30.43262750378057, 4.347518175962054, 138.03370269889913, 34.78014540769643, 373.88656150045955, 8.695036351924108, 46.735820187557444, 29.345748571893978, 10.868795847974418, 3.2606386999830876, 55.43085599538917, 1.0868795439905135, 90.21100357945511, 68.47341188350627, 81.51596341888437, 561.9167385935319, 535.8316094063417, 447.79436369065974, 446.7075021697292, 441.2730900993402, 427.14364657385846, 383.6684892983949, 298.89186296741667, 290.19683151232397, 254.32980934911043, 230.41847284760547, 201.0727242757115, 195.63831220532248, 161.94504790588215, 160.85816897399556, 153.25001645078942, 153.25001645078942, 144.5549762902187, 139.12058163078572, 130.42555017569302, 129.3386625383284, 126.07802574266863, 117.38299428757591, 111.94859092266493, 278.24116326157144, 173.9007335675907, 1592.278592816437, 304.32627503780566, 494.5302099946513, 442.35998644218284, 292.37058937609714, 344.5408129285656, 405.4060679361267, 648.8671227882834, 293.4574857189398, 218.46278718589693, 236.939746438925, 401.05855220858035, 382.58159295555225, 282.58867898911785, 222.81030291344328, 3529.7376159625837, 17.648688683435783, 43.602641615172665, 4.152632663099537, 313.52375124291785, 1398.3990876988842, 22.83947883862397, 721.5199307377716, 3.114474362587406, 2691.9441237195374, 143.26582552956154, 47.755273739323215, 37.373693428946844, 145.34214159163682, 75.78554920052322, 1.0381581657748842, 155.72373052519697, 158.838200306718, 228.3948013210154, 28.030271149608105, 24.915794900699247, 1.0381581657748842, 95.51054747864643, 189.9829498610309, 35.297377366871565, 6.228948725174812, 29.068429180645744, 6.228948725174812, 30.10658721168338, 17.648688683435783, 793.1528564373281, 273.0355923440419, 185.83031773688037, 179.60136092747075, 134.96056128126045, 120.42634884673352, 96.54870982127596, 96.54870982127596, 173.37240411806113, 90.31976163505014, 85.12896716827007, 78.90001898204423, 140.15135574804052, 64.36580654751731, 63.32764851647967, 62.28949048544204, 116.27371672258298, 106.93029013165234, 107.96845247428188, 1972.5004486815544, 617.7041103876403, 589.6738651075835, 1540.6267077698974, 172.33425902179917, 3214.137643512612, 128.73161309503462, 273.0355923440419, 2430.3283171444205, 281.340856592343, 213.86058026330468, 340.51586867308026, 718.405443709883, 1336.1094851120529, 624.971246786047, 339.4777063304507, 772.3896785702077, 312.4856233930235, 233.5855785414279, 245.0053298176176, 364.393499075354, 222.16584451160577, 254.3487564085482, 193.09741964255193, 562.1128167435609, 34.67238047498002, 5413.094254459804, 6990.161937811895, 164.95647364884613, 195.42613869794263, 3.152034443699565, 129.23341484882351, 222.74377940047665, 1.050678192185544, 86.15560989921566, 112.422570150994, 143.9429156508462, 13.658816099840871, 159.7030884007723, 26.266953874639132, 93.51035604880087, 155.50036659774958, 347.7744809491297, 14.709494424883482, 16.810851074968703, 1013.9044582490483, 4.202712768742176, 8.405425537484351, 3.152034443699565, 10.506782187569573, 146.04427655235756, 1.050678192185544, 50.43255109919304, 74.59815044946002, 245.85869829998796, 274.2270024475731, 178.61528549726086, 157.60172749926093, 149.19630089892004, 569.4675798988507, 123.98002960074966, 113.47324209889742, 109.27052879872697, 86.15560989921566, 85.10492944845998, 83.00357704980091, 80.90222465114182, 79.85154420038614, 351.97720275215244, 162.85511274733477, 835.2891897574921, 1008.6510559952699, 543.2006366527769, 552.6567266981689, 379.2948264489819, 918.2927412987361, 448.6396001532204, 848.9479675944976, 423.4233033464931, 457.0450097478567, 343.571759146107, 564.2141776450723, 329.91294729769226, 392.95363829739665, 252.16276399881747, 314.15277454776617, 230.09852555006185, 247.96005920149932, 208.03428710130623, 209.08496755206193, 141.70742580161917, 5.134327144507681, 270.0656044143112, 4256.357050391191, 66.74625287859986, 69.82684577851163, 155.0566729905463, 633.5759391511124, 43.12834716716632, 10.268654289015362, 1581.372692772509, 105.7671357900654, 70.85371290080958, 8.214923219537738, 198.18502439120368, 2.0537308048844345, 129.3850372680079, 77.01490716761522, 62.638788622899085, 182.78204295768063, 33.88655788370338, 92.41788860113827, 1453.014598829638, 125.27757724579817, 33.88655788370338, 34.91342288925581, 165.32532727956166, 230.01784591356562, 28.752230739195703, 16.429846439075476, 409.7192959713345, 239.25964154726512, 227.9641116689697, 223.85666011374207, 208.45367868021904, 182.78204295768063, 168.40592017947344, 141.70742580161917, 133.49250575719972, 124.25071012350021, 118.08952432367668, 103.7134015454695, 101.65967576785567, 96.525348623348, 95.49848150105004, 129.3850372680079, 1182.9488928115418, 720.8594836737788, 138.62683290170742, 654.113247729143, 568.8834543850368, 616.1192573409218, 640.764000540216, 239.25964154726512, 482.62675158372207, 362.4834930154495, 897.4803916335285, 510.352087682928, 323.4625931700197, 1247.6415130493308, 566.8297032064767, 403.5581101715109, 377.8864575150083, 353.24168044778577, 544.2386773178142, 262.8775430252076, 400.4775172715992, 300.87156728135733, 415.88048177115803, 274.17305596953884, 268.0118701697153, 103.06705983086533, 30.813861569364427, 103.06705983086533, 81.8161138156263, 795.8477002572585, 1586.382678816775, 116.88016501106904, 142.3812900766237, 289.0127845853935, 446.2697394108676, 28.68876781390154, 1099.7360988278415, 842.5997459562217, 173.19515376114066, 11.688016712622158, 21.250939669781427, 13.813110468085046, 3.1876408975884005, 65.87791064965462, 266.6992959227281, 264.574193706655, 47.814613728220074, 610.964484307716, 20.18839279204998, 37.18914495090563, 410.1431371073883, 31.87640844709587, 44.62697309502574, 28.68876781390154, 58.44008250553452, 670.4671433031176, 603.526660393901, 522.7731146075316, 261.3865573037658, 153.0067673145483, 141.31874742919734, 138.13110256569792, 131.75582129930925, 115.81762236364267, 350.64051195442744, 89.25394619005148, 87.1288524345886, 81.8161138156263, 80.75357116819993, 123.25544627745771, 692.7806150445626, 104.1296024782917, 1114.6117466554715, 445.20718830283107, 547.2116885650497, 171.07006846628792, 360.2034380843155, 1430.1881735720156, 210.38430717265646, 693.8431999950399, 1433.3758607385657, 797.9728024733315, 303.88843241302357, 595.0263192144901, 704.4686433905238, 1351.5597300017191, 374.01653480390905, 385.7045631498702, 344.2652053062083, 378.26670539361453, 302.82588130498704, 42.69984445775645, 178.27184750275714, 238.0516380326189, 377.8936130898911, 96.07464795770132, 370.4211434181598, 681.0625294624688, 1294.8728650353664, 703.4799716336738, 1.0674961114439112, 80.06220939441869, 7.4724727801073785, 32.024883343317335, 151.58444160828333, 226.3091714816078, 251.9290864452644, 206.02674432804812, 176.13686564112274, 34.15987556620516, 26.687403822223125, 56.57729287040195, 107.81710621970969, 18.147434930671835, 208.16174276768803, 9.6074650029952, 90.7371684366071, 180.406845942397, 610.6077964684241, 44.83483875289496, 215.63421243941937, 592.4603180204878, 587.1228633664018, 421.660973345473, 314.91134976757775, 294.6289226140181, 256.1990667465387, 246.59159863516746, 244.45661677353306, 243.38910926471036, 195.3517852858597, 172.93437627066567, 161.19190971965455, 140.9094825660949, 109.95210465934957, 222.03919118033352, 372.5561584358052, 288.22394387310396, 726.964838423674, 440.8759095682155, 376.8261221590739, 575.3803968153907, 352.2737312822455, 760.057256215073, 462.22582765259233, 329.85628911104044, 845.4569285525804, 651.1726507755434, 422.7284642762902, 473.9682942036034, 357.6111859363314, 390.7035705717194, 320.24883757767475, 335.19377692113744, 456.8883398424953, 305.30389823421206, 318.11385571604035, 615.3540518939341, 95.53911123444146, 113.0032569709629, 148.9588379815977, 292.7811620241369, 438.65809826740934, 80.12957769865332, 345.1735909523138, 44.174000828712195, 5.136511351124953, 104.78483301219183, 83.21148771836589, 73.96576594061553, 487.9685923317117, 566.0435578296317, 184.9144189922325, 1.0273022831646583, 315.3817968555548, 40.06478884932666, 104.78483301219183, 1.0273022831646583, 218.815387802134, 1.0273022831646583, 52.39241650609591, 39.03748688965369, 60.610836324173306, 88.34800165742439, 357.50119790561473, 43.14669886903923, 32.873673061269066, 664.6646122093351, 480.7774661919199, 454.06760695903546, 471.53176097694427, 252.71637317481023, 223.95190174119253, 221.89730610323394, 201.35125034699993, 196.21473640794144, 189.02362683092437, 182.8598067914992, 167.45028153709842, 166.42297543673178, 165.39566933636513, 134.57660226478885, 126.35818658740511, 123.27627656769255, 344.1462682891725, 178.75059895280737, 177.72329285244072, 222.92459564082588, 442.7672895433265, 632.8182390373922, 1459.796585719218, 543.4429229982138, 357.50119790561473, 898.8895418286447, 657.473452943994, 265.0439966908858, 627.6817250983337, 418.1120425111754, 530.0879933817716, 624.5997902344591, 426.3304581885591, 384.21105713849914, 1410.486025403817, 351.3373944289643, 574.2620066325649, 434.5488738659428, 352.36468396655624, 335.92785261178875, 11.536909936337008, 65.0262183344787, 445.7442308332835, 161.51672884184043, 497.135916536278, 102.78337961949111, 98.58813628257224, 70.27026429212516, 1127.470722777958, 357.6442028930084, 121.6619582086218, 1684.388745983051, 1.048809935877923, 250.66558815010055, 111.17385807982673, 6.29285987193948, 8.390479487023384, 315.6918023778282, 93.34408621817471, 15.732149166504817, 688.0193158825421, 26.220248268612107, 1.048809935877923, 157.32150193192584, 23.073819872674015, 17.829769808276488, 94.39289294565337, 97.53932955509359, 361.839429802923, 113.27147974828617, 1294.2314934706937, 432.10971873555457, 375.47397475466045, 297.86203051617616, 297.86203051617616, 245.4215298722009, 231.78700134746774, 217.1036578817538, 197.17627256514447, 175.1512573665736, 164.66315723777853, 142.6381584662119, 133.1988650648955, 201.37151590206335, 108.02742968388864, 1042.5170903796122, 227.59175801054886, 162.56554378282124, 1550.1410906176811, 1383.3803199249453, 1100.201632874483, 634.5300331515945, 438.40257552743077, 978.5396910928655, 543.2835439613727, 650.262175131285, 578.9430876846768, 496.0871180223014, 302.05725742609076, 341.91206091331793, 419.5239722977937, 302.05725742609076, 251.71438666407707, 4.205147642857203, 871.5168643707025, 3387.2463243246607, 767.4394389712481, 16.820590571428813, 34.69246563718849, 11.564155890679233, 43.102761940327504, 2.1025738214286016, 8.410295285714406, 50.46176967943723, 24.17959831053854, 46.25662356271693, 15.769303024824135, 309.0783576001959, 33.641181142857626, 817.901224929479, 51.51305824346651, 63.07721209929654, 17.871877100608888, 11.564155890679233, 50.46176967943723, 2.1025738214286016, 331.1553645387314, 33.641181142857626, 30.487319520468194, 166.10332451653116, 825.2602163897951, 7.359008247822031, 1.0512869107143008, 914.6195937534427, 774.7984304315642, 705.4135235753777, 549.8230277233615, 325.8989420670771, 290.1551715870657, 252.30884839718615, 249.15499491419357, 248.1037104198627, 205.0009484795352, 175.56491752309628, 174.5136330287654, 170.30847877264827, 162.94947103353854, 157.69303228309056, 153.4878943057671, 152.43659353264258, 142.9750168048711, 139.8211633218785, 139.8211633218785, 124.05185520993135, 261.7704414037513, 167.15460901086203, 648.6440306511616, 300.66804908796166, 644.4388926738382, 464.66882089462473, 868.3629457725352, 230.23182517985697, 415.2583194307247, 187.12906323952947, 342.7195265339583, 222.87281744074724, 223.9241019350781, 198.6932252347563], \"Total\": [6990.0, 5413.0, 4256.0, 3529.0, 3387.0, 4844.0, 2691.0, 4686.0, 2473.0, 2122.0, 1684.0, 3909.0, 1586.0, 1581.0, 2856.0, 1832.0, 2083.0, 1771.0, 1453.0, 1398.0, 1699.0, 2210.0, 2032.0, 1295.0, 1294.0, 1193.0, 1127.0, 1501.0, 1308.0, 1099.0, 57.51197895346173, 177.96160158166649, 110.68343319222684, 17.362107686696987, 7.595922112929933, 245.23976114319558, 54.25658541743927, 43.40526921674247, 109.59830642750796, 347.24215373393974, 759.5921958441497, 902.8295643966012, 214.85607048449822, 221.3668663844537, 809.5082388910713, 102.00238376283363, 56.426847774787575, 457.92557809825604, 15.191844225859866, 7.595922112929933, 1193.6449498069483, 137.81172590094647, 400.41361238666013, 19.532370044045294, 40.14987126676474, 68.3632995681138, 7.595922112929933, 3.255395191255685, 9.766185022022647, 124.7901429289461, 308.1774136458492, 244.15463437847671, 142.15225061564308, 132.38606559362043, 266.8258619921253, 99.83212140548532, 97.66185022022647, 92.23619874081098, 90.06593638346267, 88.98080079083324, 86.81053843348494, 84.64027607613664, 84.64027607613664, 83.55514048350722, 138.8792220123904, 135.57068931431334, 2473.972218683986, 184.1454929262541, 299.80209525065067, 564.2480535349202, 519.7350601943006, 383.1474597987292, 221.40881004031763, 206.78399762677742, 266.9470195383713, 818.1720629203801, 643.9039089803505, 356.068279187236, 572.0305462214745, 281.99979996223453, 401.68165160506277, 674.539699757255, 475.55335187682886, 1091.0329723318264, 315.29068283550646, 501.01985541780675, 427.45481933120976, 1196.5644144065354, 2083.802406846651, 566.910683991395, 381.09797146697497, 1452.4421908438983, 67.38653295161969, 402.145448551423, 2.173759087981027, 16.303193771961627, 3.2606386999830876, 115.20923642380274, 449.9681215544329, 7.608156875945142, 328.23761153931065, 11.955674779861008, 4.347518175962054, 13.04255479993235, 43.47518339189767, 7.608156875945142, 17.390072703848215, 30.43262750378057, 4.347518175962054, 138.03370269889913, 34.78014540769643, 373.88656150045955, 8.695036351924108, 46.735820187557444, 29.345748571893978, 10.868795847974418, 3.2606386999830876, 55.43085599538917, 1.0868795439905135, 90.21100357945511, 68.47341188350627, 81.51596341888437, 561.9167385935319, 535.8316094063417, 447.79436369065974, 446.7075021697292, 441.2730900993402, 427.14364657385846, 383.6684892983949, 298.89186296741667, 290.19683151232397, 254.32980934911043, 230.41847284760547, 201.0727242757115, 195.63831220532248, 161.94504790588215, 160.85816897399556, 153.25001645078942, 153.25001645078942, 144.5549762902187, 139.12058163078572, 130.42555017569302, 129.3386625383284, 126.07802574266863, 117.38299428757591, 111.94859092266493, 282.3486248713403, 174.96328051142066, 2083.802406846651, 369.4341766559417, 709.4784652077072, 643.0395273939039, 382.7347437326395, 492.1187238515347, 707.4633253622175, 1497.815090382781, 566.910683991395, 325.30222411743466, 404.05002740593943, 1501.2601850830633, 1796.8690655398775, 1832.729769606799, 1196.5644144065354, 3529.7376159625837, 17.648688683435783, 43.602641615172665, 4.152632663099537, 313.52375124291785, 1398.3990876988842, 22.83947883862397, 721.5199307377716, 3.114474362587406, 2691.9441237195374, 143.26582552956154, 47.755273739323215, 37.373693428946844, 145.34214159163682, 75.78554920052322, 1.0381581657748842, 155.72373052519697, 158.838200306718, 228.3948013210154, 28.030271149608105, 24.915794900699247, 1.0381581657748842, 95.51054747864643, 189.9829498610309, 35.297377366871565, 6.228948725174812, 29.068429180645744, 6.228948725174812, 30.10658721168338, 17.648688683435783, 797.4228408831037, 274.08627053622746, 185.83031773688037, 179.60136092747075, 134.96056128126045, 120.42634884673352, 96.54870982127596, 96.54870982127596, 174.45928366205163, 90.31976163505014, 85.12896716827007, 78.90001898204423, 141.21885185948443, 64.36580654751731, 63.32764851647967, 62.28949048544204, 117.33626366641293, 107.95715553409455, 109.03099941811183, 2122.3195795932133, 650.7964908785269, 641.9811735322098, 1771.2058761307849, 184.66188667856844, 4844.708649366411, 134.89542692341925, 333.6464286682152, 4686.271271100818, 365.44381148433627, 262.76207353551524, 520.9227146154773, 1583.0650872354609, 3909.0022837764145, 1385.7822580512197, 589.0104343036905, 2856.938190084317, 640.1234784981789, 401.0358600785263, 587.0384476823522, 2210.4621544185275, 482.48985070733505, 986.44792197673, 509.59160501591145, 562.1128167435609, 34.67238047498002, 5413.094254459804, 6990.161937811895, 164.95647364884613, 195.42613869794263, 3.152034443699565, 129.23341484882351, 222.74377940047665, 1.050678192185544, 86.15560989921566, 112.422570150994, 143.9429156508462, 13.658816099840871, 159.7030884007723, 26.266953874639132, 93.51035604880087, 155.50036659774958, 347.7744809491297, 14.709494424883482, 16.810851074968703, 1013.9044582490483, 4.202712768742176, 8.405425537484351, 3.152034443699565, 10.506782187569573, 146.04427655235756, 1.050678192185544, 50.43255109919304, 74.59815044946002, 245.85869829998796, 275.29449855901703, 178.61528549726086, 157.60172749926093, 149.19630089892004, 577.7728452250498, 123.98002960074966, 113.47324209889742, 109.27052879872697, 86.15560989921566, 85.10492944845998, 83.00357704980091, 80.90222465114182, 79.85154420038614, 360.5171716437037, 166.0015426833045, 899.415081560713, 1174.9436196286983, 609.0785473024315, 661.344680825174, 439.07320252465644, 1365.4755405585174, 596.6289576645033, 1497.815090382781, 620.9100870719927, 726.075108391036, 514.527789602766, 1362.1869801184039, 1079.4743516529188, 2203.427437965317, 648.5218453375772, 1699.6680866955994, 640.1234784981789, 905.4335121454933, 501.01985541780675, 674.4113909232696, 141.70742580161917, 5.134327144507681, 270.0656044143112, 4256.357050391191, 66.74625287859986, 69.82684577851163, 155.0566729905463, 633.5759391511124, 43.12834716716632, 10.268654289015362, 1581.372692772509, 105.7671357900654, 70.85371290080958, 8.214923219537738, 198.18502439120368, 2.0537308048844345, 129.3850372680079, 77.01490716761522, 62.638788622899085, 182.78204295768063, 33.88655788370338, 92.41788860113827, 1453.014598829638, 125.27757724579817, 33.88655788370338, 34.91342288925581, 165.32532727956166, 230.01784591356562, 28.752230739195703, 16.429846439075476, 409.7192959713345, 239.25964154726512, 227.9641116689697, 223.85666011374207, 208.45367868021904, 182.78204295768063, 168.40592017947344, 141.70742580161917, 133.49250575719972, 124.25071012350021, 118.08952432367668, 103.7134015454695, 101.65967576785567, 96.525348623348, 95.49848150105004, 130.47016899842646, 1308.2797732985803, 810.9254200572415, 142.83198054456463, 788.6898499939318, 686.0776834772191, 756.8596796451358, 877.7119838864636, 277.6714930072496, 678.6370231950613, 486.78707568350865, 1796.8690655398775, 893.2000852024926, 472.2459405958189, 3909.0022837764145, 1196.5644144065354, 730.5545109385309, 679.2036534508962, 632.979244091064, 1440.3919566557295, 382.0446117542083, 1452.4421908438983, 636.799419893146, 2210.4621544185275, 674.539699757255, 2032.7693294168082, 103.06705983086533, 30.813861569364427, 103.06705983086533, 81.8161138156263, 795.8477002572585, 1586.382678816775, 116.88016501106904, 142.3812900766237, 289.0127845853935, 446.2697394108676, 28.68876781390154, 1099.7360988278415, 842.5997459562217, 173.19515376114066, 11.688016712622158, 21.250939669781427, 13.813110468085046, 3.1876408975884005, 65.87791064965462, 266.6992959227281, 264.574193706655, 47.814613728220074, 610.964484307716, 20.18839279204998, 37.18914495090563, 410.1431371073883, 31.87640844709587, 44.62697309502574, 28.68876781390154, 58.44008250553452, 670.4671433031176, 604.5941565053449, 524.8855486211148, 261.3865573037658, 153.0067673145483, 141.31874742919734, 138.13110256569792, 131.75582129930925, 115.81762236364267, 354.80627322772915, 89.25394619005148, 87.1288524345886, 81.8161138156263, 80.75357116819993, 124.2936044432326, 727.5048304179566, 105.17841241416963, 1257.5867634603426, 485.6163072924263, 687.0684306577942, 184.09164923131067, 438.3329182604967, 2210.4621544185275, 237.9631781267095, 1079.4743516529188, 2856.938190084317, 1362.1869801184039, 394.36338214524733, 977.1583158889613, 1583.0650872354609, 4844.708649366411, 745.9084702521734, 912.5163268376085, 729.6180290966505, 1525.0018042182132, 2032.7693294168082, 42.69984445775645, 178.27184750275714, 238.0516380326189, 377.8936130898911, 96.07464795770132, 370.4211434181598, 681.0625294624688, 1294.8728650353664, 703.4799716336738, 1.0674961114439112, 80.06220939441869, 7.4724727801073785, 32.024883343317335, 151.58444160828333, 226.3091714816078, 251.9290864452644, 206.02674432804812, 176.13686564112274, 34.15987556620516, 26.687403822223125, 56.57729287040195, 107.81710621970969, 18.147434930671835, 208.16174276768803, 9.6074650029952, 90.7371684366071, 180.406845942397, 610.6077964684241, 44.83483875289496, 215.63421243941937, 592.4603180204878, 587.1228633664018, 421.660973345473, 314.91134976757775, 294.6289226140181, 256.1990667465387, 246.59159863516746, 244.45661677353306, 243.38910926471036, 195.3517852858597, 172.93437627066567, 161.19190971965455, 140.9094825660949, 109.95210465934957, 224.1405475647046, 386.3692689038902, 312.13529343282596, 986.44792197673, 557.7560745792846, 490.5186507672537, 902.4574433380848, 464.3083033695113, 1452.4421908438983, 814.5905116191486, 557.7512064456188, 4686.271271100818, 2856.938190084317, 1321.618006104935, 2203.427437965317, 912.5163268376085, 1306.2517207934877, 674.4113909232696, 865.2817703029091, 3909.0022837764145, 730.5545109385309, 1796.8690655398775, 615.3540518939341, 95.53911123444146, 113.0032569709629, 148.9588379815977, 292.7811620241369, 438.65809826740934, 80.12957769865332, 345.1735909523138, 44.174000828712195, 5.136511351124953, 104.78483301219183, 83.21148771836589, 73.96576594061553, 487.9685923317117, 566.0435578296317, 184.9144189922325, 1.0273022831646583, 315.3817968555548, 40.06478884932666, 104.78483301219183, 1.0273022831646583, 218.815387802134, 1.0273022831646583, 52.39241650609591, 39.03748688965369, 60.610836324173306, 88.34800165742439, 357.50119790561473, 43.14669886903923, 32.873673061269066, 665.7152904015206, 480.7774661919199, 454.06760695903546, 472.58057091282217, 252.71637317481023, 223.95190174119253, 221.89730610323394, 201.35125034699993, 196.21473640794144, 189.02362683092437, 182.8598067914992, 167.45028153709842, 166.42297543673178, 165.39566933636513, 134.57660226478885, 126.35818658740511, 123.27627656769255, 348.4285288828704, 179.81314589663734, 178.77457976315503, 226.1122365384143, 482.26464463062587, 742.2605801346463, 2032.7693294168082, 649.6269813937159, 421.2765996524936, 1321.618006104935, 905.4335121454933, 304.3469754302372, 1091.0329723318264, 606.3100144833973, 865.2817703029091, 1161.3954106847254, 641.9721982578817, 550.3003304102506, 4686.271271100818, 553.0698842644615, 2203.427437965317, 1365.4755405585174, 814.5905116191486, 636.799419893146, 11.536909936337008, 65.0262183344787, 445.7442308332835, 161.51672884184043, 497.135916536278, 102.78337961949111, 98.58813628257224, 70.27026429212516, 1127.470722777958, 357.6442028930084, 121.6619582086218, 1684.388745983051, 1.048809935877923, 250.66558815010055, 111.17385807982673, 6.29285987193948, 8.390479487023384, 315.6918023778282, 93.34408621817471, 15.732149166504817, 688.0193158825421, 26.220248268612107, 1.048809935877923, 157.32150193192584, 23.073819872674015, 17.829769808276488, 94.39289294565337, 97.53932955509359, 361.839429802923, 113.27147974828617, 1295.3166252011124, 432.10971873555457, 375.47397475466045, 297.86203051617616, 297.86203051617616, 245.4215298722009, 231.78700134746774, 217.1036578817538, 197.17627256514447, 175.1512573665736, 164.66315723777853, 142.6381584662119, 133.1988650648955, 202.45839544605386, 108.02742968388864, 1096.148933298552, 232.9292385677684, 164.73930287080228, 1832.729769606799, 1699.6680866955994, 1501.2601850830633, 852.6415015860705, 556.4920998511075, 1525.0018042182132, 768.2751420078948, 1114.9309960259097, 1385.7822580512197, 1306.2517207934877, 487.91989328368317, 648.5218453375772, 2203.427437965317, 707.4633253622175, 1440.3919566557295, 4.205147642857203, 871.5168643707025, 3387.2463243246607, 767.4394389712481, 16.820590571428813, 34.69246563718849, 11.564155890679233, 43.102761940327504, 2.1025738214286016, 8.410295285714406, 50.46176967943723, 24.17959831053854, 46.25662356271693, 15.769303024824135, 309.0783576001959, 33.641181142857626, 817.901224929479, 51.51305824346651, 63.07721209929654, 17.871877100608888, 11.564155890679233, 50.46176967943723, 2.1025738214286016, 331.1553645387314, 33.641181142857626, 30.487319520468194, 166.10332451653116, 825.2602163897951, 7.359008247822031, 1.0512869107143008, 915.6702719456282, 774.7984304315642, 705.4135235753777, 549.8230277233615, 325.8989420670771, 290.1551715870657, 252.30884839718615, 249.15499491419357, 248.1037104198627, 205.0009484795352, 175.56491752309628, 174.5136330287654, 170.30847877264827, 162.94947103353854, 157.69303228309056, 153.4878943057671, 152.43659353264258, 142.9750168048711, 139.8211633218785, 139.8211633218785, 124.05185520993135, 263.8250459700806, 168.217155954692, 718.772128811742, 433.86691415285713, 1440.3919566557295, 1114.9309960259097, 3909.0022837764145, 352.76938540292866, 1306.2517207934877, 239.2992824392589, 2203.427437965317, 643.9039089803505, 768.2751420078948, 1796.8690655398775], \"Category\": [\"Default\", \"Default\", \"Default\", \"Default\", \"Default\", \"Default\", \"Default\", \"Default\", \"Default\", \"Default\", \"Default\", \"Default\", \"Default\", \"Default\", \"Default\", \"Default\", \"Default\", \"Default\", \"Default\", \"Default\", \"Default\", \"Default\", \"Default\", \"Default\", \"Default\", \"Default\", \"Default\", \"Default\", \"Default\", \"Default\", \"Topic1\", \"Topic1\", \"Topic1\", \"Topic1\", \"Topic1\", \"Topic1\", \"Topic1\", \"Topic1\", \"Topic1\", \"Topic1\", \"Topic1\", \"Topic1\", \"Topic1\", \"Topic1\", \"Topic1\", \"Topic1\", \"Topic1\", \"Topic1\", \"Topic1\", \"Topic1\", \"Topic1\", \"Topic1\", \"Topic1\", \"Topic1\", \"Topic1\", \"Topic1\", \"Topic1\", \"Topic1\", \"Topic1\", \"Topic1\", \"Topic1\", \"Topic1\", \"Topic1\", \"Topic1\", \"Topic1\", \"Topic1\", \"Topic1\", \"Topic1\", \"Topic1\", \"Topic1\", \"Topic1\", \"Topic1\", \"Topic1\", \"Topic1\", \"Topic1\", \"Topic1\", \"Topic1\", \"Topic1\", \"Topic1\", \"Topic1\", \"Topic1\", \"Topic1\", \"Topic1\", \"Topic1\", \"Topic1\", \"Topic1\", \"Topic1\", \"Topic1\", \"Topic1\", \"Topic1\", \"Topic1\", \"Topic1\", \"Topic1\", \"Topic1\", \"Topic1\", \"Topic1\", \"Topic1\", \"Topic1\", \"Topic1\", \"Topic1\", \"Topic1\", \"Topic1\", \"Topic2\", \"Topic2\", \"Topic2\", \"Topic2\", \"Topic2\", \"Topic2\", \"Topic2\", \"Topic2\", \"Topic2\", \"Topic2\", \"Topic2\", \"Topic2\", \"Topic2\", \"Topic2\", \"Topic2\", \"Topic2\", \"Topic2\", \"Topic2\", \"Topic2\", \"Topic2\", \"Topic2\", \"Topic2\", \"Topic2\", \"Topic2\", \"Topic2\", \"Topic2\", \"Topic2\", \"Topic2\", \"Topic2\", \"Topic2\", \"Topic2\", \"Topic2\", \"Topic2\", \"Topic2\", \"Topic2\", \"Topic2\", \"Topic2\", \"Topic2\", \"Topic2\", \"Topic2\", \"Topic2\", \"Topic2\", \"Topic2\", \"Topic2\", \"Topic2\", \"Topic2\", \"Topic2\", \"Topic2\", \"Topic2\", \"Topic2\", \"Topic2\", \"Topic2\", \"Topic2\", \"Topic2\", \"Topic2\", \"Topic2\", \"Topic2\", \"Topic2\", \"Topic2\", \"Topic2\", \"Topic2\", \"Topic2\", \"Topic2\", \"Topic2\", \"Topic2\", \"Topic2\", \"Topic2\", \"Topic2\", \"Topic2\", \"Topic2\", \"Topic2\", \"Topic3\", \"Topic3\", \"Topic3\", \"Topic3\", \"Topic3\", \"Topic3\", \"Topic3\", \"Topic3\", \"Topic3\", \"Topic3\", \"Topic3\", \"Topic3\", \"Topic3\", \"Topic3\", \"Topic3\", \"Topic3\", \"Topic3\", \"Topic3\", \"Topic3\", \"Topic3\", \"Topic3\", \"Topic3\", \"Topic3\", \"Topic3\", \"Topic3\", \"Topic3\", \"Topic3\", \"Topic3\", \"Topic3\", \"Topic3\", \"Topic3\", \"Topic3\", \"Topic3\", \"Topic3\", \"Topic3\", \"Topic3\", \"Topic3\", \"Topic3\", \"Topic3\", \"Topic3\", \"Topic3\", \"Topic3\", \"Topic3\", \"Topic3\", \"Topic3\", \"Topic3\", \"Topic3\", \"Topic3\", \"Topic3\", \"Topic3\", \"Topic3\", \"Topic3\", \"Topic3\", \"Topic3\", \"Topic3\", \"Topic3\", \"Topic3\", \"Topic3\", \"Topic3\", \"Topic3\", \"Topic3\", \"Topic3\", \"Topic3\", \"Topic3\", \"Topic3\", \"Topic3\", \"Topic3\", \"Topic3\", \"Topic3\", \"Topic3\", \"Topic3\", \"Topic3\", \"Topic3\", \"Topic4\", \"Topic4\", \"Topic4\", \"Topic4\", \"Topic4\", \"Topic4\", \"Topic4\", \"Topic4\", \"Topic4\", \"Topic4\", \"Topic4\", \"Topic4\", \"Topic4\", \"Topic4\", \"Topic4\", \"Topic4\", \"Topic4\", \"Topic4\", \"Topic4\", \"Topic4\", \"Topic4\", \"Topic4\", \"Topic4\", \"Topic4\", \"Topic4\", \"Topic4\", \"Topic4\", \"Topic4\", \"Topic4\", \"Topic4\", \"Topic4\", \"Topic4\", \"Topic4\", \"Topic4\", \"Topic4\", \"Topic4\", \"Topic4\", \"Topic4\", \"Topic4\", \"Topic4\", \"Topic4\", \"Topic4\", \"Topic4\", \"Topic4\", \"Topic4\", \"Topic4\", \"Topic4\", \"Topic4\", \"Topic4\", \"Topic4\", \"Topic4\", \"Topic4\", \"Topic4\", \"Topic4\", \"Topic4\", \"Topic4\", \"Topic4\", \"Topic4\", \"Topic4\", \"Topic4\", \"Topic4\", \"Topic4\", \"Topic4\", \"Topic4\", \"Topic4\", \"Topic4\", \"Topic5\", \"Topic5\", \"Topic5\", \"Topic5\", \"Topic5\", \"Topic5\", \"Topic5\", \"Topic5\", \"Topic5\", \"Topic5\", \"Topic5\", \"Topic5\", \"Topic5\", \"Topic5\", \"Topic5\", \"Topic5\", \"Topic5\", \"Topic5\", \"Topic5\", \"Topic5\", \"Topic5\", \"Topic5\", \"Topic5\", \"Topic5\", \"Topic5\", \"Topic5\", \"Topic5\", \"Topic5\", \"Topic5\", \"Topic5\", \"Topic5\", \"Topic5\", \"Topic5\", \"Topic5\", \"Topic5\", \"Topic5\", \"Topic5\", \"Topic5\", \"Topic5\", \"Topic5\", \"Topic5\", \"Topic5\", \"Topic5\", \"Topic5\", \"Topic5\", \"Topic5\", \"Topic5\", \"Topic5\", \"Topic5\", \"Topic5\", \"Topic5\", \"Topic5\", \"Topic5\", \"Topic5\", \"Topic5\", \"Topic5\", \"Topic5\", \"Topic5\", \"Topic5\", \"Topic5\", \"Topic5\", \"Topic5\", \"Topic5\", \"Topic5\", \"Topic5\", \"Topic5\", \"Topic5\", \"Topic5\", \"Topic5\", \"Topic5\", \"Topic5\", \"Topic6\", \"Topic6\", \"Topic6\", \"Topic6\", \"Topic6\", \"Topic6\", \"Topic6\", \"Topic6\", \"Topic6\", \"Topic6\", \"Topic6\", \"Topic6\", \"Topic6\", \"Topic6\", \"Topic6\", \"Topic6\", \"Topic6\", \"Topic6\", \"Topic6\", \"Topic6\", \"Topic6\", \"Topic6\", \"Topic6\", \"Topic6\", \"Topic6\", \"Topic6\", \"Topic6\", \"Topic6\", \"Topic6\", \"Topic6\", \"Topic6\", \"Topic6\", \"Topic6\", \"Topic6\", \"Topic6\", \"Topic6\", \"Topic6\", \"Topic6\", \"Topic6\", \"Topic6\", \"Topic6\", \"Topic6\", \"Topic6\", \"Topic6\", \"Topic6\", \"Topic6\", \"Topic6\", \"Topic6\", \"Topic6\", \"Topic6\", \"Topic6\", \"Topic6\", \"Topic6\", \"Topic6\", \"Topic6\", \"Topic6\", \"Topic6\", \"Topic6\", \"Topic6\", \"Topic6\", \"Topic6\", \"Topic6\", \"Topic6\", \"Topic6\", \"Topic6\", \"Topic6\", \"Topic7\", \"Topic7\", \"Topic7\", \"Topic7\", \"Topic7\", \"Topic7\", \"Topic7\", \"Topic7\", \"Topic7\", \"Topic7\", \"Topic7\", \"Topic7\", \"Topic7\", \"Topic7\", \"Topic7\", \"Topic7\", \"Topic7\", \"Topic7\", \"Topic7\", \"Topic7\", \"Topic7\", \"Topic7\", \"Topic7\", \"Topic7\", \"Topic7\", \"Topic7\", \"Topic7\", \"Topic7\", \"Topic7\", \"Topic7\", \"Topic7\", \"Topic7\", \"Topic7\", \"Topic7\", \"Topic7\", \"Topic7\", \"Topic7\", \"Topic7\", \"Topic7\", \"Topic7\", \"Topic7\", \"Topic7\", \"Topic7\", \"Topic7\", \"Topic7\", \"Topic7\", \"Topic7\", \"Topic7\", \"Topic7\", \"Topic7\", \"Topic7\", \"Topic7\", \"Topic7\", \"Topic7\", \"Topic7\", \"Topic7\", \"Topic7\", \"Topic7\", \"Topic7\", \"Topic7\", \"Topic7\", \"Topic7\", \"Topic7\", \"Topic7\", \"Topic7\", \"Topic7\", \"Topic8\", \"Topic8\", \"Topic8\", \"Topic8\", \"Topic8\", \"Topic8\", \"Topic8\", \"Topic8\", \"Topic8\", \"Topic8\", \"Topic8\", \"Topic8\", \"Topic8\", \"Topic8\", \"Topic8\", \"Topic8\", \"Topic8\", \"Topic8\", \"Topic8\", \"Topic8\", \"Topic8\", \"Topic8\", \"Topic8\", \"Topic8\", \"Topic8\", \"Topic8\", \"Topic8\", \"Topic8\", \"Topic8\", \"Topic8\", \"Topic8\", \"Topic8\", \"Topic8\", \"Topic8\", \"Topic8\", \"Topic8\", \"Topic8\", \"Topic8\", \"Topic8\", \"Topic8\", \"Topic8\", \"Topic8\", \"Topic8\", \"Topic8\", \"Topic8\", \"Topic8\", \"Topic8\", \"Topic8\", \"Topic8\", \"Topic8\", \"Topic8\", \"Topic8\", \"Topic8\", \"Topic8\", \"Topic8\", \"Topic8\", \"Topic8\", \"Topic8\", \"Topic8\", \"Topic8\", \"Topic8\", \"Topic8\", \"Topic8\", \"Topic8\", \"Topic8\", \"Topic8\", \"Topic8\", \"Topic8\", \"Topic8\", \"Topic8\", \"Topic8\", \"Topic9\", \"Topic9\", \"Topic9\", \"Topic9\", \"Topic9\", \"Topic9\", \"Topic9\", \"Topic9\", \"Topic9\", \"Topic9\", \"Topic9\", \"Topic9\", \"Topic9\", \"Topic9\", \"Topic9\", \"Topic9\", \"Topic9\", \"Topic9\", \"Topic9\", \"Topic9\", \"Topic9\", \"Topic9\", \"Topic9\", \"Topic9\", \"Topic9\", \"Topic9\", \"Topic9\", \"Topic9\", \"Topic9\", \"Topic9\", \"Topic9\", \"Topic9\", \"Topic9\", \"Topic9\", \"Topic9\", \"Topic9\", \"Topic9\", \"Topic9\", \"Topic9\", \"Topic9\", \"Topic9\", \"Topic9\", \"Topic9\", \"Topic9\", \"Topic9\", \"Topic9\", \"Topic9\", \"Topic9\", \"Topic9\", \"Topic9\", \"Topic9\", \"Topic9\", \"Topic9\", \"Topic9\", \"Topic9\", \"Topic9\", \"Topic9\", \"Topic9\", \"Topic9\", \"Topic9\", \"Topic9\", \"Topic9\", \"Topic9\", \"Topic10\", \"Topic10\", \"Topic10\", \"Topic10\", \"Topic10\", \"Topic10\", \"Topic10\", \"Topic10\", \"Topic10\", \"Topic10\", \"Topic10\", \"Topic10\", \"Topic10\", \"Topic10\", \"Topic10\", \"Topic10\", \"Topic10\", \"Topic10\", \"Topic10\", \"Topic10\", \"Topic10\", \"Topic10\", \"Topic10\", \"Topic10\", \"Topic10\", \"Topic10\", \"Topic10\", \"Topic10\", \"Topic10\", \"Topic10\", \"Topic10\", \"Topic10\", \"Topic10\", \"Topic10\", \"Topic10\", \"Topic10\", \"Topic10\", \"Topic10\", \"Topic10\", \"Topic10\", \"Topic10\", \"Topic10\", \"Topic10\", \"Topic10\", \"Topic10\", \"Topic10\", \"Topic10\", \"Topic10\", \"Topic10\", \"Topic10\", \"Topic10\", \"Topic10\", \"Topic10\", \"Topic10\", \"Topic10\", \"Topic10\", \"Topic10\", \"Topic10\", \"Topic10\", \"Topic10\", \"Topic10\", \"Topic10\", \"Topic10\", \"Topic10\", \"Topic10\"], \"logprob\": [30.0, 29.0, 28.0, 27.0, 26.0, 25.0, 24.0, 23.0, 22.0, 21.0, 20.0, 19.0, 18.0, 17.0, 16.0, 15.0, 14.0, 13.0, 12.0, 11.0, 10.0, 9.0, 8.0, 7.0, 6.0, 5.0, 4.0, 3.0, 2.0, 1.0, -6.4911, -5.3615, -5.8364, -7.6888, -8.5155, -5.0409, -6.5494, -6.7725, -5.8463, -4.6931, -3.9103, -3.7376, -5.1731, -5.1433, -3.8467, -5.9181, -6.5102, -4.4164, -7.8224, -8.5155, -3.4584, -5.6172, -4.5506, -7.571, -6.8505, -6.3183, -8.5155, -9.3628, -8.2642, -5.7165, -4.8124, -5.0453, -5.5862, -5.6574, -4.9642, -5.9396, -5.9616, -6.0188, -6.0426, -6.0547, -6.0794, -6.1047, -6.1047, -6.1176, -5.6172, -5.6492, -2.8884, -5.38, -4.9561, -4.4093, -4.5134, -4.8019, -5.2685, -5.3615, -5.1681, -4.3172, -4.5004, -4.9602, -4.6208, -5.1287, -4.8931, -4.5533, -4.8054, -4.4046, -5.0861, -4.863, -4.94, -4.5345, -4.414, -4.932, -5.0365, -4.8817, -6.3187, -4.5323, -9.7527, -7.7378, -9.3472, -5.7824, -4.42, -8.4999, -4.7354, -8.0479, -9.0595, -7.9609, -6.757, -8.4999, -7.6733, -7.1136, -9.0595, -5.6017, -6.9801, -4.6052, -8.3664, -6.6846, -7.15, -8.1433, -9.3472, -6.514, -10.4458, -6.027, -6.3027, -6.1284, -4.1978, -4.2453, -4.4248, -4.4272, -4.4395, -4.472, -4.5794, -4.8291, -4.8586, -4.9905, -5.0893, -5.2255, -5.2529, -5.4419, -5.4486, -5.4971, -5.4971, -5.5555, -5.5938, -5.6583, -5.6667, -5.6923, -5.7637, -5.8111, -4.9007, -5.3707, -3.1562, -4.8111, -4.3255, -4.437, -4.8511, -4.6869, -4.5243, -4.0539, -4.8474, -5.1425, -5.0613, -4.535, -4.5822, -4.8852, -5.1228, -2.3507, -7.649, -6.7445, -9.0959, -4.7718, -3.2766, -7.3912, -3.9383, -9.3836, -2.6216, -5.555, -6.6536, -6.8987, -5.5406, -6.1917, -10.4822, -5.4716, -5.4518, -5.0886, -7.1864, -7.3042, -10.4822, -5.9604, -5.2727, -6.9558, -8.6904, -7.15, -8.6904, -7.1149, -7.649, -3.8436, -4.9101, -5.2948, -5.3289, -5.6147, -5.7286, -5.9496, -5.9496, -5.3642, -6.0163, -6.0755, -6.1515, -5.5769, -6.3551, -6.3713, -6.3879, -5.7637, -5.8475, -5.8378, -2.9326, -4.0936, -4.1401, -3.1797, -5.3702, -2.4443, -5.6619, -4.9101, -2.7239, -4.8801, -5.1543, -4.6892, -3.9426, -3.3221, -4.0819, -4.6922, -3.8702, -4.7751, -5.0661, -5.0184, -4.6214, -5.1162, -4.9809, -5.2565, -4.1739, -6.9597, -1.909, -1.6533, -5.3999, -5.2304, -9.3576, -5.644, -5.0996, -10.4562, -6.0494, -5.7833, -5.5362, -7.8912, -5.4323, -7.2373, -5.9675, -5.459, -4.654, -7.8171, -7.6836, -3.584, -9.0699, -8.3767, -9.3576, -8.1536, -5.5217, -10.4562, -6.585, -6.1935, -5.0008, -4.8916, -5.3204, -5.4455, -5.5003, -4.1609, -5.6855, -5.774, -5.8118, -6.0494, -6.0617, -6.0867, -6.1124, -6.1254, -4.642, -5.4127, -3.7778, -3.5892, -4.2081, -4.1909, -4.5673, -3.6831, -4.3994, -3.7616, -4.4572, -4.3808, -4.6662, -4.1702, -4.7068, -4.5319, -4.9755, -4.7557, -5.0671, -4.9923, -5.1679, -5.1629, -5.5476, -8.8654, -4.9027, -2.1452, -6.3005, -6.2554, -5.4576, -4.05, -6.7372, -8.1723, -3.1353, -5.8401, -6.2408, -8.3954, -5.2122, -9.7817, -5.6386, -6.1574, -6.364, -5.2931, -6.9784, -5.9751, -3.22, -5.6708, -6.9784, -6.9485, -5.3935, -5.0632, -7.1427, -7.7023, -4.4859, -5.0238, -5.0722, -5.0904, -5.1617, -5.2931, -5.375, -5.5476, -5.6073, -5.6791, -5.7299, -5.8597, -5.8797, -5.9316, -5.9423, -5.6386, -3.4256, -3.9209, -5.5696, -4.0181, -4.1577, -4.0779, -4.0387, -5.0238, -4.3221, -4.6084, -3.7018, -4.2663, -4.7223, -3.3724, -4.1613, -4.5011, -4.5668, -4.6342, -4.202, -4.9297, -4.5087, -4.7947, -4.471, -4.8876, -4.9103, -5.8652, -7.0727, -5.8652, -6.0961, -3.8212, -3.1314, -5.7395, -5.5421, -4.8341, -4.3997, -7.1441, -3.4978, -3.7641, -5.3462, -8.0421, -7.4442, -7.875, -9.3413, -6.3128, -4.9145, -4.9225, -6.6333, -4.0856, -7.4955, -6.8846, -4.4841, -7.0388, -6.7023, -7.1441, -6.4326, -3.9926, -4.0978, -4.2415, -4.9346, -5.4701, -5.5496, -5.5724, -5.6197, -5.7486, -4.6409, -6.0091, -6.0332, -6.0961, -6.1092, -5.6864, -3.9599, -5.855, -3.4844, -4.4021, -4.1958, -5.3585, -4.614, -3.2351, -5.1517, -3.9584, -3.2328, -3.8185, -4.784, -4.112, -3.9432, -3.2916, -4.5763, -4.5455, -4.6592, -4.565, -4.7875, -6.7259, -5.2968, -5.0076, -4.5455, -5.915, -4.5655, -3.9565, -3.314, -3.9241, -10.4148, -6.0973, -8.4689, -7.0136, -5.459, -5.0582, -4.951, -5.1521, -5.3089, -6.9491, -7.1959, -6.4445, -5.7997, -7.5816, -5.1418, -8.2176, -5.9722, -5.2849, -4.0657, -6.6771, -5.1065, -4.0958, -4.1049, -4.4359, -4.7278, -4.7944, -4.9342, -4.9724, -4.9811, -4.9855, -5.2053, -5.3272, -5.3975, -5.532, -5.7801, -5.0773, -4.5597, -4.8164, -3.8913, -4.3914, -4.5483, -4.1251, -4.6157, -3.8467, -4.3441, -4.6815, -3.7403, -4.0014, -4.4334, -4.319, -4.6007, -4.5122, -4.711, -4.6654, -4.3557, -4.7588, -4.7177, -4.057, -5.9197, -5.7518, -5.4755, -4.7998, -4.3955, -6.0956, -4.6352, -6.6911, -8.8428, -5.8273, -6.0578, -6.1756, -4.289, -4.1405, -5.2593, -10.4523, -4.7254, -6.7887, -5.8273, -10.4523, -5.091, -10.4523, -6.5204, -6.8147, -6.3747, -5.9979, -4.6001, -6.7146, -6.9865, -3.9799, -4.3038, -4.361, -4.3232, -4.9469, -5.0678, -5.077, -5.1742, -5.2, -5.2373, -5.2705, -5.3585, -5.3647, -5.3709, -5.5771, -5.6401, -5.6648, -4.6381, -5.2932, -5.299, -5.0724, -4.3862, -4.029, -3.1932, -4.1813, -4.6001, -3.678, -3.9908, -4.8993, -4.0372, -4.4435, -4.2062, -4.0421, -4.424, -4.528, -3.2275, -4.6175, -4.1261, -4.4049, -4.6145, -4.6623, -8.0254, -6.2962, -4.3712, -5.3864, -4.2621, -5.8384, -5.88, -6.2186, -3.4432, -4.5914, -5.6697, -3.0418, -10.4233, -4.9469, -5.7599, -8.6316, -8.3439, -4.7162, -5.9347, -7.7153, -3.9372, -7.2044, -10.4233, -5.4127, -7.3323, -7.5901, -5.9235, -5.8907, -4.5798, -5.7412, -3.3053, -4.4023, -4.5428, -4.7743, -4.7743, -4.968, -5.0252, -5.0906, -5.1869, -5.3053, -5.3671, -5.5107, -5.5791, -5.1658, -5.7886, -3.5216, -5.0434, -5.3799, -3.1249, -3.2387, -3.4677, -4.0181, -4.3878, -3.5849, -4.1733, -3.9936, -4.1098, -4.2642, -4.7604, -4.6364, -4.4319, -4.7604, -4.9427, -9.0256, -3.6917, -2.3341, -3.8189, -7.6393, -6.9154, -8.014, -6.6983, -9.7188, -8.3325, -6.5407, -7.2764, -6.6277, -7.7039, -4.7283, -6.9462, -3.7552, -6.5201, -6.3176, -7.5787, -8.014, -6.5407, -9.7188, -4.6593, -6.9462, -7.0446, -5.3493, -3.7462, -8.466, -10.4119, -3.6434, -3.8093, -3.9031, -4.1523, -4.6753, -4.7915, -4.9313, -4.9438, -4.9481, -5.1389, -5.2939, -5.2999, -5.3243, -5.3685, -5.4013, -5.4283, -5.4352, -5.4992, -5.5216, -5.5216, -5.6412, -4.8944, -5.343, -3.987, -4.7559, -3.9935, -4.3206, -3.6953, -5.0228, -4.433, -5.2301, -4.625, -5.0553, -5.0506, -5.1702], \"loglift\": [30.0, 29.0, 28.0, 27.0, 26.0, 25.0, 24.0, 23.0, 22.0, 21.0, 20.0, 19.0, 18.0, 17.0, 16.0, 15.0, 14.0, 13.0, 12.0, 11.0, 10.0, 9.0, 8.0, 7.0, 6.0, 5.0, 4.0, 3.0, 2.0, 1.0, 2.259, 2.259, 2.259, 2.259, 2.259, 2.259, 2.259, 2.259, 2.259, 2.259, 2.259, 2.259, 2.259, 2.259, 2.259, 2.259, 2.259, 2.259, 2.259, 2.259, 2.259, 2.259, 2.259, 2.259, 2.259, 2.259, 2.259, 2.259, 2.259, 2.259, 2.259, 2.259, 2.259, 2.259, 2.2512, 2.259, 2.259, 2.259, 2.259, 2.259, 2.259, 2.259, 2.259, 2.259, 2.2512, 2.2433, 2.1001, 2.2063, 2.1429, 2.0573, 2.0354, 2.0517, 2.1336, 2.1088, 2.0469, 1.7778, 1.8341, 1.9668, 1.8321, 2.0315, 1.9133, 1.7347, 1.8322, 1.4026, 1.9624, 1.7224, 1.8043, 1.1804, 0.7461, 1.5299, 1.8226, 0.6394, 2.2729, 2.2729, 2.2729, 2.2729, 2.2729, 2.2729, 2.2729, 2.2729, 2.2729, 2.2729, 2.2729, 2.2729, 2.2729, 2.2729, 2.2729, 2.2729, 2.2729, 2.2729, 2.2729, 2.2729, 2.2729, 2.2729, 2.2729, 2.2729, 2.2729, 2.2729, 2.2729, 2.2729, 2.2729, 2.2729, 2.2729, 2.2729, 2.2729, 2.2729, 2.2729, 2.2729, 2.2729, 2.2729, 2.2729, 2.2729, 2.2729, 2.2729, 2.2729, 2.2729, 2.2729, 2.2729, 2.2729, 2.2729, 2.2729, 2.2729, 2.2729, 2.2729, 2.2729, 2.2729, 2.2583, 2.2668, 2.0039, 2.079, 1.912, 1.8988, 2.0036, 1.9164, 1.7161, 1.4364, 1.6145, 1.8748, 1.7392, 0.953, 0.7261, 0.4034, 0.592, 2.2824, 2.2824, 2.2824, 2.2824, 2.2824, 2.2824, 2.2824, 2.2824, 2.2824, 2.2824, 2.2824, 2.2824, 2.2824, 2.2824, 2.2824, 2.2824, 2.2824, 2.2824, 2.2824, 2.2824, 2.2824, 2.2824, 2.2824, 2.2824, 2.2824, 2.2824, 2.2824, 2.2824, 2.2824, 2.2824, 2.2771, 2.2786, 2.2824, 2.2824, 2.2824, 2.2824, 2.2824, 2.2824, 2.2762, 2.2824, 2.2824, 2.2824, 2.2748, 2.2824, 2.2824, 2.2824, 2.2733, 2.2729, 2.2726, 2.2092, 2.2302, 2.1974, 2.1429, 2.2133, 1.8721, 2.2356, 2.0819, 1.6258, 2.0209, 2.0765, 1.8573, 1.4923, 1.2089, 1.4861, 1.7314, 0.9744, 1.5653, 1.7419, 1.4086, 0.4797, 1.5069, 0.927, 1.312, 2.2965, 2.2965, 2.2965, 2.2965, 2.2965, 2.2965, 2.2965, 2.2965, 2.2965, 2.2965, 2.2965, 2.2965, 2.2965, 2.2965, 2.2965, 2.2965, 2.2965, 2.2965, 2.2965, 2.2965, 2.2965, 2.2965, 2.2965, 2.2965, 2.2965, 2.2965, 2.2965, 2.2965, 2.2965, 2.2965, 2.2965, 2.2926, 2.2965, 2.2965, 2.2965, 2.282, 2.2965, 2.2965, 2.2965, 2.2965, 2.2965, 2.2965, 2.2965, 2.2965, 2.2725, 2.2773, 2.2225, 2.1439, 2.182, 2.1169, 2.1501, 1.8997, 2.0114, 1.7287, 1.9137, 1.8336, 1.8926, 1.4151, 1.1111, 0.5724, 1.3519, 0.6082, 1.2733, 1.0013, 1.4175, 1.1254, 2.3007, 2.3007, 2.3007, 2.3007, 2.3007, 2.3007, 2.3007, 2.3007, 2.3007, 2.3007, 2.3007, 2.3007, 2.3007, 2.3007, 2.3007, 2.3007, 2.3007, 2.3007, 2.3007, 2.3007, 2.3007, 2.3007, 2.3007, 2.3007, 2.3007, 2.3007, 2.3007, 2.3007, 2.3007, 2.3007, 2.3007, 2.3007, 2.3007, 2.3007, 2.3007, 2.3007, 2.3007, 2.3007, 2.3007, 2.3007, 2.3007, 2.3007, 2.3007, 2.3007, 2.3007, 2.2923, 2.2, 2.183, 2.2708, 2.1136, 2.1134, 2.095, 1.986, 2.1518, 1.9599, 2.0059, 1.6065, 1.741, 1.9223, 1.1587, 1.5535, 1.7072, 1.7144, 1.7174, 1.3274, 1.9269, 1.0124, 1.5509, 0.6301, 1.4004, 0.2746, 2.3015, 2.3015, 2.3015, 2.3015, 2.3015, 2.3015, 2.3015, 2.3015, 2.3015, 2.3015, 2.3015, 2.3015, 2.3015, 2.3015, 2.3015, 2.3015, 2.3015, 2.3015, 2.3015, 2.3015, 2.3015, 2.3015, 2.3015, 2.3015, 2.3015, 2.3015, 2.3015, 2.3015, 2.3015, 2.3015, 2.3015, 2.2997, 2.2974, 2.3015, 2.3015, 2.3015, 2.3015, 2.3015, 2.3015, 2.2896, 2.3015, 2.3015, 2.3015, 2.3015, 2.2931, 2.2525, 2.2914, 2.1808, 2.2146, 2.0739, 2.2281, 2.1051, 1.8661, 2.1783, 1.8595, 1.6117, 1.7667, 2.0408, 1.8054, 1.4918, 1.0248, 1.6111, 1.4403, 1.5503, 0.9073, 0.3975, 2.3219, 2.3219, 2.3219, 2.3219, 2.3219, 2.3219, 2.3219, 2.3219, 2.3219, 2.3219, 2.3219, 2.3219, 2.3219, 2.3219, 2.3219, 2.3219, 2.3219, 2.3219, 2.3219, 2.3219, 2.3219, 2.3219, 2.3219, 2.3219, 2.3219, 2.3219, 2.3219, 2.3219, 2.3219, 2.3219, 2.3219, 2.3219, 2.3219, 2.3219, 2.3219, 2.3219, 2.3219, 2.3219, 2.3219, 2.3219, 2.3219, 2.3219, 2.3219, 2.3219, 2.3125, 2.2855, 2.2422, 2.0167, 2.0868, 2.0583, 1.8719, 2.0458, 1.6743, 1.7553, 1.7967, 0.6094, 0.8432, 1.1821, 0.7853, 1.3852, 1.115, 1.5772, 1.3736, 0.1753, 1.4494, 0.5906, 2.3229, 2.3229, 2.3229, 2.3229, 2.3229, 2.3229, 2.3229, 2.3229, 2.3229, 2.3229, 2.3229, 2.3229, 2.3229, 2.3229, 2.3229, 2.3229, 2.3229, 2.3229, 2.3229, 2.3229, 2.3229, 2.3229, 2.3229, 2.3229, 2.3229, 2.3229, 2.3229, 2.3229, 2.3229, 2.3229, 2.3213, 2.3229, 2.3229, 2.3206, 2.3229, 2.3229, 2.3229, 2.3229, 2.3229, 2.3229, 2.3229, 2.3229, 2.3229, 2.3229, 2.3229, 2.3229, 2.3229, 2.3105, 2.3169, 2.317, 2.3087, 2.2374, 2.1633, 1.9918, 2.1444, 2.1587, 1.9374, 2.0029, 2.1846, 1.77, 1.9512, 1.8329, 1.7026, 1.9135, 1.9636, 1.1222, 1.8691, 0.9782, 1.1779, 1.4848, 1.6833, 2.3311, 2.3311, 2.3311, 2.3311, 2.3311, 2.3311, 2.3311, 2.3311, 2.3311, 2.3311, 2.3311, 2.3311, 2.3311, 2.3311, 2.3311, 2.3311, 2.3311, 2.3311, 2.3311, 2.3311, 2.3311, 2.3311, 2.3311, 2.3311, 2.3311, 2.3311, 2.3311, 2.3311, 2.3311, 2.3311, 2.3303, 2.3311, 2.3311, 2.3311, 2.3311, 2.3311, 2.3311, 2.3311, 2.3311, 2.3311, 2.3311, 2.3311, 2.3311, 2.3257, 2.3311, 2.2809, 2.3079, 2.3178, 2.1636, 2.1252, 2.0203, 2.0356, 2.0926, 1.8874, 1.9846, 1.7919, 1.4583, 1.3629, 1.8516, 1.691, 0.6724, 1.48, 0.5867, 2.3402, 2.3402, 2.3402, 2.3402, 2.3402, 2.3402, 2.3402, 2.3402, 2.3402, 2.3402, 2.3402, 2.3402, 2.3402, 2.3402, 2.3402, 2.3402, 2.3402, 2.3402, 2.3402, 2.3402, 2.3402, 2.3402, 2.3402, 2.3402, 2.3402, 2.3402, 2.3402, 2.3402, 2.3402, 2.3402, 2.339, 2.3402, 2.3402, 2.3402, 2.3402, 2.3402, 2.3402, 2.3402, 2.3402, 2.3402, 2.3402, 2.3402, 2.3402, 2.3402, 2.3402, 2.3402, 2.3402, 2.3402, 2.3402, 2.3402, 2.3402, 2.3323, 2.3338, 2.2375, 1.9734, 1.5359, 1.4649, 0.8357, 1.9134, 1.1941, 2.0942, 0.4793, 1.2792, 1.1073, 0.1381]}, \"token.table\": {\"Topic\": [4, 7, 1, 6, 8, 2, 5, 8, 5, 8, 5, 6, 8, 7, 7, 3, 6, 1, 3, 7, 9, 3, 1, 5, 6, 10, 4, 6, 6, 2, 5, 2, 7, 3, 5, 5, 8, 4, 8, 9, 3, 10, 3, 6, 1, 2, 10, 6, 8, 6, 8, 10, 5, 5, 8, 2, 5, 8, 8, 3, 4, 7, 8, 7, 5, 2, 9, 3, 8, 3, 3, 6, 5, 8, 7, 4, 2, 1, 2, 5, 4, 1, 8, 6, 10, 1, 5, 7, 8, 5, 5, 5, 5, 3, 9, 1, 6, 8, 9, 10, 6, 4, 6, 10, 5, 6, 5, 8, 4, 6, 5, 6, 7, 7, 5, 2, 8, 2, 3, 2, 6, 5, 1, 4, 8, 2, 7, 4, 4, 2, 3, 5, 3, 7, 4, 10, 6, 8, 7, 8, 3, 4, 7, 8, 5, 3, 6, 3, 10, 4, 6, 2, 5, 6, 8, 8, 9, 5, 8, 1, 5, 8, 1, 10, 7, 10, 6, 5, 6, 7, 8, 2, 9, 8, 7, 8, 5, 2, 6, 10, 6, 5, 1, 2, 6, 5, 9, 8, 4, 9, 4, 1, 3, 6, 10, 2, 2, 2, 5, 7, 8, 3, 8, 2, 5, 6, 9, 8, 9, 6, 9, 10, 4, 7, 1, 7, 1, 3, 8, 8, 3, 4, 6, 7, 7, 5, 4, 10, 2, 9, 3, 8, 1, 1, 6, 6, 1, 2, 1, 2, 4, 1, 9, 1, 1, 9, 10, 4, 7, 2, 3, 6, 8, 10, 1, 6, 3, 10, 4, 5, 5, 1, 6, 10, 7, 10, 4, 8, 9, 4, 6, 7, 7, 4, 7, 9, 10, 5, 5, 2, 2, 7, 1, 5, 7, 1, 2, 4, 5, 7, 1, 6, 2, 1, 1, 8, 9, 1, 7, 9, 5, 6, 6, 2, 9, 10, 6, 2, 7, 9, 3, 5, 8, 9, 1, 9, 5, 9, 1, 6, 10, 4, 7, 8, 10, 5, 8, 6, 6, 7, 6, 1, 3, 6, 9, 5, 8, 7, 3, 5, 1, 5, 6, 4, 4, 4, 10, 5, 5, 9, 2, 1, 8, 2, 3, 6, 8, 7, 2, 1, 6, 5, 8, 10, 2, 7, 1, 9, 1, 6, 3, 7, 8, 8, 4, 8, 9, 1, 2, 4, 9, 2, 2, 4, 9, 1, 2, 10, 6, 9, 1, 2, 5, 6, 8, 2, 4, 10, 10, 3, 7, 2, 4, 3, 6, 7, 1, 10, 9, 10, 4, 7, 8, 9, 10, 1, 4, 9, 1, 2, 9, 6, 7, 8, 3, 2, 5, 8, 1, 10, 4, 8, 2, 9, 3, 6, 7, 10, 10, 7, 4, 3, 4, 9, 1, 6, 8, 6, 3, 10, 5, 8, 6, 7, 8, 9, 9, 2, 4, 6, 8, 1, 8, 3, 7, 2, 4, 8, 1, 2, 9, 3, 10, 7, 7, 3, 1, 1, 1, 2, 5, 7, 1, 1, 6, 4, 10, 3, 6, 1, 2, 9, 4, 9, 2, 1, 3, 2, 3, 6, 2, 1, 6, 6, 5, 2, 3, 1, 2, 1, 6, 10, 4, 7, 9, 4, 9, 6, 4, 3, 5, 6, 6, 3, 2, 5, 8, 10, 1, 3, 5, 10, 7, 3, 5, 6, 6, 3, 7, 2, 2, 4, 1, 7, 7, 10, 3, 6, 3, 3, 3, 3, 7, 8, 1, 9, 7, 8, 4, 3, 6, 7, 2, 6, 5, 5, 1, 8, 4, 2, 3, 5, 1, 8, 9, 2, 6, 10, 10, 3, 5, 6, 2, 3, 8, 3, 5, 4, 8, 10, 8, 8, 7, 7, 2, 1, 2, 7, 5, 1, 2, 5, 8, 2, 10, 3, 4, 1, 3, 9, 10, 1, 3, 7, 1, 1, 1, 5, 10, 1, 10, 9, 2, 4, 3, 3, 7, 6, 7, 3, 5, 7, 7, 9, 10, 1, 3, 7, 10, 3, 7, 2, 5, 7, 10, 5, 7, 9, 10, 2, 5, 6, 7, 9, 4, 6, 7, 10, 4, 7, 10, 7, 9, 5, 10, 2, 2, 4, 7, 1, 1, 8, 5, 9, 10, 5, 5, 8, 8, 2, 4, 9, 1, 4, 8, 4, 6, 7, 8, 1, 10, 7, 8, 1, 3, 8, 6, 4, 7, 4, 1, 6, 9, 4, 4, 7, 9, 1, 2, 8, 10, 7, 6, 8, 2, 2, 4, 2, 10, 10, 3, 9, 7, 9, 5, 4, 4, 8, 3, 1, 2, 10, 8, 3, 5, 7, 10, 3, 6, 9, 9, 6, 7, 6, 3, 6, 7, 8, 9, 1, 2, 1, 1, 2, 1, 7, 10, 7, 1, 2, 7, 10, 5, 3, 1, 1, 4, 7, 9, 10, 10, 4, 6, 10, 2, 9, 3, 8, 7, 10, 3, 10, 2, 3, 3, 3, 4, 7, 8, 6, 6, 3, 2, 8, 2, 9, 10, 6, 3, 4, 6, 9, 3, 4, 7, 9, 10, 3, 5, 5, 8, 5, 6, 7, 6, 10, 2, 2, 1, 4, 3, 2, 1, 7, 8, 8, 1, 5, 2, 8, 5, 4, 3, 1, 5, 4, 9, 3, 6, 10, 8, 10, 9, 9, 2, 1, 6, 10, 8, 5, 5, 8, 6, 8, 8, 4, 9, 7, 8, 10, 4, 6, 3, 10, 10, 2, 1, 8, 10, 6, 9, 9, 3, 4, 2, 4, 4, 10, 2, 9, 9, 2, 2, 2, 9, 2, 10, 9, 7, 1, 5, 3, 1, 2, 5, 9, 2], \"Freq\": [0.999956904871717, 0.9992229997202308, 0.0019051772384037257, 0.9964076956851485, 0.0019051772384037257, 0.08317212943383512, 0.28206200416691907, 0.6346395093755679, 0.3364631686327829, 0.6635801381368774, 0.05935578611663864, 0.6089084955068964, 0.3325970773777165, 1.0036837702933497, 0.9998701900176341, 0.9296432163049481, 0.07067738593296614, 0.1795098496841922, 0.034350650248209616, 0.6371491578296945, 0.14848345591161577, 1.0000743352809653, 0.2933041556894587, 0.10827583317508055, 0.47147957736997104, 0.12746395550990497, 0.891510630943925, 0.10836040818102956, 0.9977444788112275, 0.999638318543833, 1.003347681660145, 0.9942639436295498, 1.0016561852353971, 0.9911339315179319, 0.009262933939419925, 0.9970240647834511, 0.9960610126896385, 0.0015021436557313538, 0.9989255310613503, 0.9997692064946538, 0.7689280572535958, 0.2298574975420002, 0.9981445293838991, 1.0022475546172738, 0.6455033047094499, 0.35423961843811275, 1.0019466156016226, 0.013267747229992698, 0.9862358774294572, 0.12485749183569728, 0.8707167193805205, 0.0032857234693604545, 1.0001574297408813, 1.002479765762836, 1.0020534172897249, 0.7629304754312493, 0.23514980407127545, 0.9971653076300098, 1.0011223128190179, 0.96324440362633, 0.18637330293196783, 0.12369909486635033, 0.6894162887217925, 0.997744841997144, 0.9738374646002069, 0.2671089288748526, 0.73271776000583, 0.963244361954806, 0.9987894137855722, 1.0051245913071851, 1.000665358282948, 1.001609402214855, 1.0020646356161351, 0.9998750059380381, 0.9992229585747165, 0.9517662091376172, 0.9200651585809294, 0.4133151557300084, 0.5865610293892933, 0.9977843022518422, 1.0005747272762326, 1.0036651439751738, 0.9925100514107752, 0.99852112783552, 0.9512151153109538, 0.0895655982633092, 0.5709806889285962, 0.28996862437746357, 0.0481415090665287, 0.9979822238178678, 1.0006403199537826, 0.9978235995493512, 1.0020646356161351, 0.9984850377896028, 0.953461600421371, 0.7978729063996927, 0.2021278029545888, 0.9983828980212447, 1.0013340955667964, 0.9944521769435033, 0.9985211278355199, 0.30570434535539964, 0.6429055020504465, 0.05187710103000721, 1.002479765762836, 0.9993493572924718, 0.9990664057903867, 1.0064206947045784, 0.41404007543147714, 0.585822659919005, 0.7303079048342087, 0.27002023938487907, 1.0117132479374622, 1.0003794718594967, 0.9738374646002069, 0.9814027989728575, 0.9977588829304003, 0.9987032218128323, 0.9964596714023429, 0.9200651393898872, 1.0083587767465196, 0.9970240974061759, 1.0001625196435915, 0.9999825876928475, 1.0008436892840138, 1.0003393255602961, 1.0027414316885537, 0.99997683346776, 1.0053868567534021, 1.0004592204056466, 1.0000897456270763, 0.9998064378941238, 0.990001164063239, 1.0004356018540874, 1.0018591475105516, 0.999581987630547, 0.14684869831054126, 0.8528002388125928, 0.9988094333022773, 0.9999711780788431, 0.004394073582267049, 0.6722932580868585, 0.004394073582267049, 0.3185703347143611, 1.0006851130308618, 1.0033795871107605, 1.001853266886296, 1.00221957712609, 0.9512151153109538, 1.0021538722269379, 0.9881915965279285, 0.11042343429535484, 0.5565341088485884, 0.33274261534333593, 1.0020534172897249, 1.0038427996316532, 1.000443760916726, 0.47267630999178256, 0.527638671618734, 0.008610087152216218, 0.0028700290507387392, 0.9872899934541264, 1.0034624551860425, 0.999581987630547, 0.9992229997202308, 0.9994652117133844, 1.0108485727974574, 0.13183984829055242, 0.14905773892551263, 0.000983879464854869, 0.7182320093440543, 0.012140393732080505, 0.9894420891645612, 1.0007794264689085, 0.9988630686297397, 1.003146146715594, 1.0022016688661854, 0.0014554591004022808, 0.7961361279200475, 0.20230881495591702, 1.0030516152813451, 1.00334770255173, 0.853283631908742, 0.05739757258694522, 0.08933002494165419, 0.3812101178089435, 0.6189540622489298, 1.000766670439834, 1.003213068966859, 1.0009762610870805, 0.9987670579232014, 0.6184518183056577, 0.2053357815718389, 0.03422263026197315, 0.14300170502324494, 0.9981838572123415, 0.9993217310082325, 0.002737646500095707, 0.5530045930193328, 0.41749109126459527, 0.027376465000957067, 1.001267186234499, 1.001395245938496, 0.9845983848041695, 0.014166883234592366, 1.013529865872481, 0.9991060153290694, 0.9734233208549364, 1.0004631992993023, 0.9887960619758236, 0.009507654442075226, 1.00031008978514, 0.008922972758521715, 0.9904499761959104, 0.9993026372767942, 0.9981321153030762, 0.9970837898090762, 0.9314320518093246, 0.06498363152158079, 0.9994246370965717, 0.663404186425189, 0.0086692519694642, 0.27906734911227615, 0.04891935039911941, 1.007471321234233, 0.9963106111882003, 0.9997992987524916, 1.03768922811496, 1.0018487574882466, 0.9984361604172998, 0.8182314466535974, 0.18282827196289173, 0.9924353779872442, 0.17794693656488153, 0.8212935533763762, 1.0022475546172738, 0.9906631332081187, 1.0000708460089505, 0.3007404368638685, 0.7010503426894231, 1.0002638656743266, 1.0239412808020842, 0.9958376850905546, 1.0002974504211735, 1.0005368724930053, 0.999746085934203, 0.9512151153109538, 0.9952977681508608, 0.0036324736063900027, 0.261426177308424, 0.2145035300992197, 0.501402001606926, 0.022791000073042092, 1.0005543617674528, 0.048109646199726616, 0.952570994754587, 0.995352498741185, 1.0001207665027394, 1.0025270820761842, 0.9999161136185326, 1.0020646356161351, 0.9946857514132736, 0.9999557646371532, 0.9999272788864241, 0.9984750957228233, 0.9908491184044741, 0.3885759621078386, 0.08326627759453685, 0.5273530914320667, 1.0249790243653039, 0.20976911831619782, 0.7906682151918225, 0.9999081883677874, 0.6294114682056797, 0.28922627641836485, 0.08125881099373108, 0.9512151317498139, 1.004917375419219, 0.99803219939186, 0.9983685714587202, 1.0515030289785106, 1.0006423166127985, 0.11098431221165456, 0.8891076567178103, 1.0012594737227072, 0.9791437944498849, 0.9992760989875707, 1.0112515972087184, 1.005766576669857, 1.0016963336032931, 1.001681679867723, 1.001853266886296, 1.0008640550653805, 0.999366653928686, 0.9983427222400278, 0.9982555343143159, 0.9979564018396865, 1.053196686467103, 0.9918757151500982, 0.9963137866348547, 0.999922415091339, 0.9993032569786847, 1.0000581305349103, 0.004939286403988396, 0.9927965672016676, 0.9840156652623717, 1.0108485727974574, 1.0003142602838322, 0.9953197848775736, 1.0170256988196795, 0.41734915484201823, 0.23507829946203473, 0.34750705137866006, 0.9997266008514835, 0.0007720120166331833, 0.9989835495233391, 0.21204254297872613, 0.78707316800578, 0.07061700003385561, 0.9288851542914853, 1.0027869855368516, 0.9517662091376172, 0.5671561274163259, 0.4321189542219626, 0.9997464798221257, 0.9738374395072635, 1.0048240847083827, 1.0010252807986677, 0.9990172638968606, 0.0016540020925444711, 0.9906682620062668, 0.6520630803089746, 0.15208978012568578, 0.19054926475516953, 0.0034963167844985236, 0.8292232998878226, 0.17116994722455056, 0.9992230212726444, 1.0017741000287579, 0.9989148126044741, 0.8905875049898289, 0.11007261297627098, 0.9949139741944774, 0.951766249254205, 0.997819438582874, 0.0010920961733039414, 0.9992679985731064, 1.0086173926138724, 0.9997643232526954, 0.9534615615317652, 1.0037074628538456, 0.4243684762436156, 0.5756013025507356, 0.9200651585809294, 0.5755415867984666, 0.310690591103597, 0.11375010712536064, 1.000098183356889, 0.9200651585809294, 1.0013661689368063, 0.9996510069426059, 0.8138893067851365, 0.18629609132581856, 0.9971359007537184, 0.07688973501218309, 0.922676820146197, 0.9503355049264407, 0.04887439739621695, 1.0006074812896313, 1.0038771885272078, 0.9913690570101985, 0.007081207550072847, 1.0002763314950631, 1.000747445547214, 1.0018591475105516, 0.9983828980212447, 0.9991364186084202, 1.0084855547560478, 0.9967372343390444, 1.019749528211186, 1.0021075428859298, 1.0004592204056466, 0.1648157203956012, 0.8361751686125456, 0.9976032824071033, 0.48155733823521274, 0.5168362641132503, 1.0094527829085986, 1.0060407369007147, 1.0401398698800994, 0.7070275649016488, 0.024895336792311578, 0.05476974094308547, 0.21161036273464842, 0.002489533679231158, 0.13665147327370922, 0.8631818061789298, 1.0106660600178883, 0.9987759113517098, 0.9496056119874677, 0.050707095785738565, 0.4332978110363021, 0.5668256418641302, 0.2702193567503174, 0.5015859303409388, 0.22786632285551373, 0.6538242649693983, 0.346324966955287, 0.5829957210956351, 0.4170661697068775, 0.1783584942388223, 0.21511940526514448, 0.2605032460383817, 0.19061213124759635, 0.1556665738522037, 0.9810380154639965, 0.007376225680180425, 0.007376225680180425, 0.2202704049538888, 0.763987984066647, 0.015836434343090046, 0.22559069683729188, 0.23592309516571747, 0.5381457462721657, 1.0199058027973456, 0.31127848301784106, 0.6839656463589296, 0.00423508140160328, 1.0021824719663528, 0.9994137855859614, 0.27390194495048586, 0.725619265453505, 0.5724678375273264, 0.42687725168704344, 0.46011330533594796, 0.5388714386817408, 0.999222986788783, 0.9981887057246277, 0.9512151153109538, 0.9993177181255648, 0.9914231763064637, 0.4874059622559019, 0.35930567730403024, 0.15309546250345638, 0.0023737373517182985, 0.1495454531582528, 0.8497979719151508, 1.0002399677272027, 1.0010186447149967, 1.001279038693948, 0.7436516252854652, 0.2547314959541373, 1.000475022744428, 0.9992229947465969, 0.998771487977805, 0.00211604128808857, 1.000918941318081, 1.000654786026315, 1.0006484634820094, 0.9411348694483247, 0.9990397207238352, 0.9989289609205362, 0.9734233208549364, 0.6546076614296067, 0.34554070104788626, 1.0008817147858209, 1.0011502929518974, 1.0004628365426778, 1.0002157679970973, 0.9890700083398329, 0.9995824966729087, 0.9948261379641404, 1.0088645865078512, 0.9984012872807421, 1.007029429405545, 0.96324440362633, 1.0042500324968195, 0.9974391969309716, 0.19828672136869432, 0.0027539822412318655, 0.27539822412318654, 0.5232566258340544, 0.9873718935629089, 0.8004078074788341, 0.20010195186970853, 1.000396576301763, 1.0146294972461813, 0.988611673623664, 0.008522514427790206, 0.8807237614641048, 0.11742983486188065, 0.9982824250487706, 0.6685741896770637, 0.33234356521737757, 0.9983685714587202, 1.053196686467103, 0.9964596714023429, 0.003805724268136584, 0.814424993381229, 0.18267476487055603, 0.9996637042947715, 0.817016553467773, 0.1825438286489818, 0.9990508830866998, 1.0011924423143133, 0.005731996480835716, 0.991635391184579, 0.7470477308654776, 0.2527605104432067, 0.6339851318649373, 0.3602719937535068, 0.004678857061733855, 0.18474195194807794, 0.0011767003308794774, 0.8136882788031585, 1.0012085619311433, 0.9995225419840219, 1.0011275023289115, 0.951766249254205, 0.45355052409996494, 0.1010697546740869, 0.4447069205659823, 0.9993955686728307, 0.9976459278132819, 1.0515030289785106, 0.9992418944509311, 0.9994970908642377, 1.0071689671247095, 0.591514480383567, 0.0014824924320390152, 0.40620292637869015, 1.03768922811496, 0.9992230399125704, 0.16467144631831615, 0.18819593864950418, 0.6469235391076705, 1.0015746967744226, 0.9982714084614365, 0.9997907365322186, 0.9775692309922375, 0.9857840896673538, 0.9898368925489729, 0.9992679098657017, 0.9981992215461715, 1.0408572913752405, 0.9999953732919665, 0.008045466252905396, 0.9895923491073637, 1.0051245913071851, 1.0009131032287202, 1.000292224027265, 0.5185359232158121, 0.18031393214706223, 0.3008788690264589, 0.2556760368742077, 0.7447444193354216, 0.3200622252769264, 0.6802268097493069, 0.9517662091376172, 0.02521398498386649, 0.8824894744353271, 0.08824894744353272, 0.9944943847154387, 0.005715484969628958, 0.997589632365413, 1.00334770255173, 1.0002157679970973, 0.9734233208549364, 0.9517662091376172, 0.9976609995335074, 0.9964596714023429, 0.9738374646002069, 0.012314759437541716, 0.835864296823144, 0.15239514803957874, 0.999133258146478, 0.9924695091679099, 0.9908491184044741, 1.0024781857505585, 0.06795488434890677, 0.014414672437646889, 0.9163613192504094, 0.9200651585809294, 0.9562963173928342, 0.04447889848338763, 1.0070282322337658, 1.0038016684151791, 1.005236253735828, 0.9956672824280655, 0.005593636418135199, 1.0004628623921223, 1.0000643641184737, 0.9986338535041082, 1.0006423800035078, 0.9997558371742541, 0.8116979299911609, 0.18530724446743543, 0.0026099611896821893, 0.9996345014409682, 0.9990223398437598, 0.27113168558608497, 0.711720674663473, 0.017682501233875107, 1.0059379360902394, 0.9512151153109538, 0.9943167565647257, 1.0469428035744326, 0.9999766303222954, 1.000020756850029, 0.30654561493744675, 0.6937611285426426, 1.053196686467103, 0.870028730576667, 0.1304196215205776, 1.0016816090067124, 1.0001887793777695, 0.16430238585364731, 0.557680213522476, 0.27805019144463394, 0.9994243132754269, 1.0003218713435327, 1.0009948353814029, 0.9993811313096869, 1.0094490058234218, 0.9976459574085669, 0.9944535813920182, 0.005016159300842463, 0.03623476587492914, 0.965397690810612, 0.2574895180386338, 0.0050686912999731056, 0.7369877150160895, 0.0009122847905263942, 0.9515130365190292, 0.04835109389789889, 0.9962672043013796, 0.3316891077277081, 0.5916616516223983, 0.07709530612049431, 0.9190300655606347, 0.08099926001551357, 0.2131485300432427, 0.4992016486913543, 0.17697449752937644, 0.11074819185014437, 0.9738374395072635, 0.0013016170188540656, 0.7067780412377577, 0.2915622122233107, 1.0063212671978916, 0.15467967555246595, 0.7708626453762237, 0.07607197158317998, 0.999971925377535, 0.10739533871095337, 0.42300613002477555, 0.39232174753593174, 0.07780682702528255, 0.30989986648042656, 0.4744878338456292, 0.21500229971130072, 0.021465746553519516, 0.9788380428404899, 0.973171410702598, 0.028004932682089152, 0.9930861940352602, 1.0003034035218736, 0.995829482879453, 0.9367715622377163, 0.9989670371489251, 1.0053241430020765, 0.9976077406503283, 0.37767497762417895, 0.1749523793406123, 0.44710052498156483, 0.999989952730241, 0.6884012806577765, 0.311481948282416, 1.000462814139827, 0.6873605449906441, 0.31257798539167303, 1.002992081139984, 0.001676083581183333, 0.7525615279513166, 0.24638428643394997, 0.0021537413669816888, 0.0021537413669816888, 0.7581169611775546, 0.23691155036798578, 1.0006698880565823, 0.999427395897405, 0.3871571221045447, 0.6125172379564439, 0.07849422872409965, 0.37873465359378083, 0.5416101781962875, 1.0001913679497878, 0.9763751290822809, 0.0249641368231265, 1.000094231512816, 0.11016380409210375, 0.24786855920723344, 0.6419664536081522, 0.9986842777083794, 0.6812580578207845, 0.31727621132551903, 1.0020456474166535, 0.2762592659420874, 0.6976955951088432, 0.02255177681159897, 0.0028189721014498714, 1.0002815085340293, 0.005561328650436013, 0.9954778284280463, 0.9993811313096869, 0.07115735694463093, 0.9283811413869817, 1.0350733034035455, 0.9993779176923708, 0.9993779503400555, 1.0028297056858342, 0.9987376628301066, 0.9997830805406521, 1.0047229199442693, 1.0006693133730042, 0.9981938506453879, 0.9975242290698045, 0.9974584312314944, 1.0091131722782838, 0.9215471006587151, 1.0003617931632858, 1.0106660600178883, 0.9973109538367742, 0.341775190448166, 0.31926305215517303, 0.11690962727156577, 0.22205154588997614, 0.9905439790186811, 0.009171703509432232, 1.0005738025285003, 0.9916000692916488, 0.9988732146546675, 1.0028966251418405, 1.02669257711113, 0.0018171895322223357, 0.15991267883556554, 0.13992359398111984, 0.6978007803733769, 0.999746085934203, 0.1759447395700351, 0.8228800127583179, 1.0042500324968195, 0.6518721795915169, 0.34696422462129123, 0.9936691608748216, 0.007200501165759576, 0.9976158850221764, 0.9367715622377163, 0.8091493224892585, 0.17606489887497756, 0.014984246712764047, 0.9968212847796638, 1.0011924423143133, 0.963244361954806, 1.0028601101234669, 0.5848071624939167, 0.415153207504214, 1.000281482204918, 1.0004631992993023, 0.9995308409424446, 1.001279038693948, 0.9962412338516505, 0.09738830596523328, 0.9029287224490914, 1.0056526195834878, 1.0025367793420707, 0.5834889676802987, 0.416421613686367, 1.0002815260867708, 0.9987759113517098, 0.9989200550559595, 1.0001747381863433, 1.0030785775848203, 1.0015190197080577, 0.9997146110131259, 0.013846272053308252, 0.9848160997915494, 1.0016963336032931, 1.0002147704861335, 0.9973220492915992, 1.0038772107312293, 1.0046742227789416, 0.9882181035168712, 0.9965999978472398, 0.07086782763602154, 0.2778018843332044, 0.6519840142513982, 0.9997587726959674, 0.4510088048600918, 0.05700751293431561, 0.07432625104094313, 0.4178145568223891, 1.0046742227789416, 0.0030621969229408436, 0.29932974921746747, 0.3797124184446646, 0.3177029307551125, 0.13685236315925264, 0.8607293367121416, 0.904240839111415, 0.09554531267026786, 0.994780215421074, 0.23240706509667844, 0.7685742415916471, 0.886618746631839, 0.11370984822273811, 1.0001481739210625, 1.0120716364407594, 0.7421722643230867, 0.2569057838041454, 0.96324440362633, 0.9973815831114842, 0.8608016192881163, 0.1402429604458167, 0.9960610126896385, 0.9734233331159572, 0.007664587297438547, 0.9887317613695726, 0.670146048313834, 0.3289248952733038, 1.0027633695381677, 0.9996968278839624, 0.9915750860529748, 0.17053462431107472, 0.8293521472906112, 0.9819185856059734, 0.018072121207471904, 0.008455318370525195, 0.9892722493514479, 0.002818439456841732, 0.998905605094334, 0.9996846856486873, 0.9985070063112128, 0.953461600421371, 0.9967372250989133, 0.9952708889535684, 0.005944696867121819, 0.9927643768093438, 1.0004627992045936, 0.9954782714963137, 0.9997570797123406, 0.9974584312314944, 0.9999557711422371, 0.9999230486258006, 0.9998511081653936, 0.9981938506453881, 0.953461600421371, 0.08086846181699825, 0.9185827842289802, 0.9925723203408113, 0.9981938506453881, 0.997154790338225, 1.0199058027973456, 1.0106660600178883, 1.00031008978514, 0.9981838572123415, 1.0239412808020842, 0.007580781394905214, 0.993082362732583, 0.9993493572924718, 0.9968007086350952, 1.0095475260507565, 0.9960367568426457, 0.0036484862888009, 0.14128337498650254, 0.8587646106107293, 1.0001610775486556, 1.0002601574300087, 0.15441447216777404, 0.8457329747704939, 0.999596803640897, 0.9200651393898872, 0.9922271451946365, 0.999638318543833, 1.0041776194677956, 0.21730111126931237, 0.7814482270646426, 1.0027785332108377, 1.0008040266374123, 0.9931571026193137, 0.007495525302787273, 0.963244361954806, 0.3401404847910853, 0.18636689952926785, 0.4738566458883178, 0.9961539309002506, 0.9967372177068085], \"Term\": [\"abil\", \"academ\", \"access\", \"access\", \"access\", \"accord\", \"accord\", \"accord\", \"account\", \"account\", \"achiev\", \"achiev\", \"achiev\", \"acknowledg\", \"act\", \"action\", \"action\", \"activ\", \"activ\", \"activ\", \"activ\", \"adapt\", \"addit\", \"addit\", \"addit\", \"addit\", \"address\", \"address\", \"adequ\", \"affect\", \"afolu\", \"africa\", \"agenc\", \"agenda\", \"agenda\", \"aggreg\", \"agre\", \"agreement\", \"agreement\", \"agricultur\", \"aim\", \"aim\", \"align\", \"alloc\", \"alreadi\", \"alreadi\", \"altern\", \"ambit\", \"ambit\", \"ambiti\", \"ambiti\", \"ambiti\", \"amount\", \"analyz\", \"annex\", \"annual\", \"annual\", \"anthropogen\", \"applic\", \"apprais\", \"approach\", \"approach\", \"approach\", \"approv\", \"ar_gwp\", \"area\", \"area\", \"areabas\", \"articl\", \"articul\", \"assess\", \"assist\", \"assum\", \"assumpt\", \"author\", \"autonom\", \"avalanch\", \"averag\", \"averag\", \"avoid\", \"awar\", \"balanc\", \"barbado\", \"barrier\", \"bartica\", \"base\", \"base\", \"base\", \"base\", \"base_year\", \"baselin\", \"bau\", \"bau_scenario\", \"beliz\", \"beneath\", \"benefit\", \"benefit\", \"bind\", \"biodivers\", \"biofuel\", \"budget\", \"build\", \"build\", \"build\", \"businessasusu\", \"cabo\", \"calcul\", \"call\", \"capac\", \"capac\", \"carbon\", \"carbon\", \"care\", \"carri\", \"casebycas\", \"cash\", \"categori\", \"caus\", \"cca\", \"ccvi\", \"cdm\", \"ch\", \"challeng\", \"chang\", \"circumst\", \"citi\", \"civil\", \"climat\", \"climaterel\", \"coastal\", \"cobenefit\", \"coeq\", \"coher\", \"collabor\", \"combat\", \"commerci\", \"commit\", \"commit\", \"committe\", \"common\", \"commun\", \"commun\", \"commun\", \"commun\", \"compar\", \"compat\", \"competit\", \"comprehens\", \"comput\", \"concern\", \"concession\", \"condit\", \"condit\", \"condit\", \"confer\", \"confirm\", \"conserv\", \"consid\", \"consid\", \"consist\", \"consist\", \"consist\", \"constitut\", \"construct\", \"consult\", \"consumpt\", \"conting\", \"contribut\", \"contribut\", \"contribut\", \"contribut\", \"control\", \"control\", \"convent\", \"coordin\", \"cop\", \"correspond\", \"cost\", \"cost\", \"cost\", \"costa_rica\", \"count\", \"countri\", \"countri\", \"countri\", \"cover\", \"cover\", \"cp\", \"critic\", \"crop\", \"cultur\", \"current\", \"current\", \"current\", \"current\", \"cyclon\", \"damag\", \"data\", \"data\", \"data\", \"data\", \"de\", \"decis\", \"decreas\", \"decreas\", \"deem\", \"deforest\", \"deform\", \"degrad\", \"deliv\", \"deliv\", \"demand\", \"depart\", \"depart\", \"depend\", \"design\", \"despit\", \"detail\", \"detail\", \"determin\", \"develop\", \"develop\", \"develop\", \"develop\", \"dialogu\", \"dioxid\", \"disast\", \"discharg\", \"diseas\", \"divers\", \"document\", \"document\", \"dollar\", \"domest\", \"domest\", \"donor\", \"driven\", \"drought\", \"due\", \"due\", \"earli\", \"easili\", \"ecolog\", \"econom\", \"economi\", \"ecosystem\", \"ecree\", \"educ\", \"educ\", \"effect\", \"effect\", \"effect\", \"effect\", \"effici\", \"effort\", \"effort\", \"elabor\", \"electr\", \"emerg\", \"emiss\", \"emit\", \"employ\", \"enabl\", \"energi\", \"engag\", \"engin\", \"enhanc\", \"enhanc\", \"enhanc\", \"enjoi\", \"ensur\", \"ensur\", \"environ\", \"environment\", \"environment\", \"environment\", \"epa\", \"eq\", \"equival\", \"eros\", \"errat\", \"establish\", \"estim\", \"estim\", \"evalu\", \"even_though\", \"event\", \"excess\", \"exclud\", \"expert\", \"export\", \"extern\", \"extrem\", \"face\", \"factor\", \"fair\", \"farm\", \"fed\", \"feedback\", \"fertil\", \"figur\", \"financ\", \"financi\", \"fisheri\", \"fisheri\", \"fleet\", \"flexibl\", \"flood\", \"focal_point\", \"fodder\", \"follow\", \"follow\", \"follow\", \"food\", \"forest\", \"forest\", \"forestri\", \"forestri\", \"form\", \"form\", \"fossil_fuel\", \"fourreactor\", \"framework\", \"framework\", \"fuel\", \"fugit\", \"fulfil\", \"full\", \"fund\", \"fund\", \"fund_gcf\", \"futur\", \"futur\", \"futur\", \"futur\", \"ga\", \"ga\", \"gambia\", \"gap\", \"gase\", \"gdp\", \"gdp\", \"gef\", \"geffund\", \"gender\", \"gener\", \"gener\", \"ggcoe\", \"ghg\", \"girl\", \"glacial\", \"global\", \"global\", \"glof\", \"goal\", \"goal\", \"goal\", \"govern\", \"gpglulucf\", \"greater\", \"green\", \"greenhous\", \"greenhous\", \"grid\", \"group\", \"group\", \"grow\", \"grow\", \"growth\", \"guarante\", \"guid\", \"guid\", \"guidanc\", \"guidelin\", \"guinea\", \"gwp\", \"ha\", \"hand\", \"happen\", \"harmoni\", \"harvest\", \"hazard\", \"health\", \"health\", \"hectar\", \"high\", \"high\", \"home\", \"host\", \"hotspot\", \"howev\", \"howev\", \"howev\", \"howev\", \"howev\", \"human\", \"human\", \"hybrid\", \"hydro\", \"identifi\", \"identifi\", \"impact\", \"impact\", \"implement\", \"implement\", \"implement\", \"import\", \"import\", \"improv\", \"improv\", \"includ\", \"includ\", \"includ\", \"includ\", \"includ\", \"incom\", \"incom\", \"incom\", \"increas\", \"increas\", \"increas\", \"indc\", \"indc\", \"indc\", \"indepth\", \"indic\", \"indic\", \"indic\", \"indonesia\", \"industri\", \"inform\", \"inform\", \"infrastructur\", \"infrastructur\", \"initi\", \"initi\", \"input\", \"instal\", \"instantan\", \"institut\", \"insuffici\", \"integr\", \"integr\", \"integr\", \"intend\", \"intend\", \"intend\", \"intern\", \"intervent\", \"introduc\", \"inventori\", \"inventori\", \"invest\", \"involv\", \"ipcc\", \"ipcc\", \"irrig\", \"island\", \"issu\", \"ivii\", \"jointli\", \"jordan\", \"kato\", \"kei\", \"kei\", \"km\", \"knowledg\", \"kyoto_protocol\", \"lack\", \"lake\", \"land\", \"lao_pdr\", \"largescal\", \"law\", \"leadership\", \"lecrd\", \"leon\", \"lesotho\", \"level\", \"level\", \"level\", \"level\", \"licens\", \"limit\", \"limit\", \"link\", \"liquid\", \"list\", \"list\", \"live\", \"live\", \"livestock\", \"local\", \"local\", \"locat\", \"logist\", \"long_term\", \"longterm\", \"longterm\", \"longterm\", \"loss\", \"low\", \"low\", \"lowcarbon\", \"lulucf\", \"mainstream\", \"mainstream\", \"major\", \"major\", \"make\", \"make\", \"make\", \"manag\", \"manag\", \"manag\", \"map\", \"marin\", \"market\", \"mathemat\", \"measur\", \"measur\", \"measur\", \"mechan\", \"mediumterm\", \"melt\", \"methan\", \"methodolog\", \"micro\", \"million\", \"million\", \"million\", \"mini\", \"ministri\", \"mitig\", \"mitig\", \"mitig\", \"mobil\", \"moldova\", \"monitor\", \"monsoon\", \"month\", \"moresbi\", \"move\", \"mrv\", \"multicriteria\", \"mw\", \"myanmar\", \"myanmar\", \"nama\", \"nap\", \"napa\", \"nation\", \"nation\", \"nation\", \"natur\", \"natur\", \"ndc\", \"ndc\", \"nearbi\", \"necessari\", \"necessari\", \"necessari\", \"neg\", \"neg\", \"net\", \"nghgi\", \"nigeria\", \"nonadversari\", \"nonpunit\", \"north\", \"northern_ireland\", \"notwithstand\", \"object\", \"object\", \"object\", \"ocean\", \"offer\", \"offgrid\", \"oil\", \"order\", \"order\", \"order\", \"outburst\", \"outlin\", \"outlin\", \"overview\", \"oxid\", \"papua_new\", \"paragraph\", \"paragraph\", \"pari\", \"parti\", \"particip\", \"partnership\", \"pattern\", \"peopl\", \"peopl\", \"peopl\", \"per_cent\", \"percent\", \"period\", \"period\", \"period\", \"physic\", \"pico\", \"pillar\", \"pioneer\", \"plai\", \"plan\", \"plant\", \"plant\", \"pncc\", \"polici\", \"polici\", \"poor\", \"popul\", \"potenti\", \"potenti\", \"potenti\", \"poverti\", \"power\", \"practic\", \"precipit\", \"prepared\", \"priorit\", \"prioriti\", \"prioriti\", \"privat\", \"privat\", \"process\", \"process\", \"process\", \"product\", \"product\", \"product\", \"product_gdp\", \"program\", \"program\", \"program\", \"programm\", \"programm\", \"project\", \"project\", \"project\", \"project\", \"projectbas\", \"promot\", \"promot\", \"promot\", \"properti\", \"propos\", \"propos\", \"propos\", \"protect\", \"provid\", \"provid\", \"provid\", \"provid\", \"public\", \"public\", \"public\", \"qualiti\", \"qualiti\", \"quantifi\", \"quantifi\", \"rain\", \"rainfal\", \"rais\", \"randomis\", \"rate\", \"real\", \"recommend\", \"reduc\", \"reduc\", \"reduc\", \"reduct\", \"refer\", \"refer\", \"reflect\", \"region\", \"region\", \"rehabilit\", \"relat\", \"relat\", \"relat\", \"relev\", \"relev\", \"relev\", \"relev\", \"remain\", \"renew\", \"report\", \"report\", \"republ\", \"republ\", \"republ\", \"requir\", \"research\", \"research\", \"resili\", \"resourc\", \"resourc\", \"resourc\", \"respond\", \"respons\", \"respons\", \"restor\", \"result\", \"result\", \"result\", \"result\", \"review\", \"revis\", \"revis\", \"rise\", \"risk\", \"risk\", \"riverin\", \"rmi\", \"road\", \"roadmap\", \"rural\", \"rwanda\", \"sanit\", \"scenario\", \"scienc\", \"scientif\", \"scope\", \"scotland\", \"sddci\", \"sea_level\", \"seall\", \"section\", \"sector\", \"sector\", \"sector\", \"sector\", \"sectori\", \"sectori\", \"secur\", \"seed\", \"seek\", \"select\", \"sell\", \"set\", \"set\", \"set\", \"set\", \"settlement\", \"sever\", \"sever\", \"sierra\", \"signific\", \"signific\", \"significantli\", \"significantli\", \"similarli\", \"simplifi\", \"sinc\", \"sinc\", \"sinc\", \"singapor\", \"sink\", \"sit\", \"situat\", \"social\", \"social\", \"societi\", \"soil\", \"solar\", \"solid\", \"solut\", \"sourc\", \"sourc\", \"spatial\", \"speci\", \"specif\", \"specif\", \"stakehold\", \"standard\", \"stipul\", \"storag\", \"storm\", \"strateg\", \"strategi\", \"strengthen\", \"strengthen\", \"structur\", \"submit\", \"success\", \"successfulli\", \"sudan\", \"summer\", \"supplement\", \"suppli\", \"suppli\", \"suppli\", \"support\", \"sustain\", \"sustain\", \"sustain\", \"sustain\", \"synergi\", \"system\", \"system\", \"system\", \"system\", \"tabl\", \"tabl\", \"target\", \"target\", \"tcoe\", \"technic\", \"technic\", \"technolog\", \"technolog\", \"temperatur\", \"tempor\", \"term\", \"term\", \"thirteen\", \"threat\", \"thu\", \"thu\", \"tier\", \"timehorizon\", \"ton\", \"ton\", \"tonga\", \"tonga\", \"tonn\", \"tool\", \"top\", \"total\", \"total\", \"train\", \"train\", \"transfer\", \"transfer\", \"transfer\", \"transpar\", \"transport\", \"tree\", \"trial\", \"tropic\", \"turn\", \"uae\", \"uae\", \"uk\", \"uncertainti\", \"uncondit\", \"understand\", \"undertak\", \"unfccc\", \"unit\", \"univers\", \"unremit\", \"updat\", \"updat\", \"uptak\", \"urgent\", \"us_billion\", \"us_bn\", \"user\", \"util\", \"variabl\", \"vast\", \"vehicl\", \"vehicl\", \"verd\", \"vi\", \"vii\", \"vision\", \"vision\", \"vulner\", \"vulner\", \"warn\", \"wast\", \"water\", \"water\", \"watersh\", \"waterstress\", \"wave\", \"weather\", \"wetland\", \"wind\", \"wind\", \"wood\", \"work\", \"world\", \"world\", \"yangon\", \"year\", \"year\", \"year\", \"yield\", \"zone\"]}, \"R\": 30, \"lambda.step\": 0.01, \"plot.opts\": {\"xlab\": \"PC1\", \"ylab\": \"PC2\"}, \"topic.order\": [9, 4, 5, 1, 10, 6, 8, 2, 3, 7]};\n",
              "\n",
              "function LDAvis_load_lib(url, callback){\n",
              "  var s = document.createElement('script');\n",
              "  s.src = url;\n",
              "  s.async = true;\n",
              "  s.onreadystatechange = s.onload = callback;\n",
              "  s.onerror = function(){console.warn(\"failed to load library \" + url);};\n",
              "  document.getElementsByTagName(\"head\")[0].appendChild(s);\n",
              "}\n",
              "\n",
              "if(typeof(LDAvis) !== \"undefined\"){\n",
              "   // already loaded: just create the visualization\n",
              "   !function(LDAvis){\n",
              "       new LDAvis(\"#\" + \"ldavis_el4611400878787597606776816948\", ldavis_el4611400878787597606776816948_data);\n",
              "   }(LDAvis);\n",
              "}else if(typeof define === \"function\" && define.amd){\n",
              "   // require.js is available: use it to load d3/LDAvis\n",
              "   require.config({paths: {d3: \"https://d3js.org/d3.v5\"}});\n",
              "   require([\"d3\"], function(d3){\n",
              "      window.d3 = d3;\n",
              "      LDAvis_load_lib(\"https://cdn.jsdelivr.net/gh/bmabey/pyLDAvis/pyLDAvis/js/ldavis.v3.0.0.js\", function(){\n",
              "        new LDAvis(\"#\" + \"ldavis_el4611400878787597606776816948\", ldavis_el4611400878787597606776816948_data);\n",
              "      });\n",
              "    });\n",
              "}else{\n",
              "    // require.js not available: dynamically load d3 & LDAvis\n",
              "    LDAvis_load_lib(\"https://d3js.org/d3.v5.js\", function(){\n",
              "         LDAvis_load_lib(\"https://cdn.jsdelivr.net/gh/bmabey/pyLDAvis/pyLDAvis/js/ldavis.v3.0.0.js\", function(){\n",
              "                 new LDAvis(\"#\" + \"ldavis_el4611400878787597606776816948\", ldavis_el4611400878787597606776816948_data);\n",
              "            })\n",
              "         });\n",
              "}\n",
              "</script>"
            ],
            "text/plain": [
              "PreparedData(topic_coordinates=              x         y  topics  cluster       Freq\n",
              "topic                                                \n",
              "8      0.184560 -0.237534       1        1  10.445957\n",
              "3      0.266394 -0.127116       2        1  10.301085\n",
              "4     -0.266969  0.010384       3        1  10.203707\n",
              "0      0.086045  0.228559       4        1  10.061320\n",
              "9      0.000845 -0.198750       5        1  10.018875\n",
              "5     -0.143054 -0.094786       6        1  10.011335\n",
              "7     -0.203772  0.037977       7        1   9.808274\n",
              "1     -0.165355 -0.010450       8        1   9.799263\n",
              "2      0.171192  0.256857       9        1   9.718936\n",
              "6      0.070115  0.134858      10        1   9.631248, topic_info=        Term         Freq        Total Category  logprob  loglift\n",
              "110   climat  6990.000000  6990.000000  Default  30.0000  30.0000\n",
              "109    chang  5413.000000  5413.000000  Default  29.0000  29.0000\n",
              "181    emiss  4256.000000  4256.000000  Default  28.0000  28.0000\n",
              "20     adapt  3529.000000  3529.000000  Default  27.0000  27.0000\n",
              "9     energi  3387.000000  3387.000000  Default  26.0000  26.0000\n",
              "..       ...          ...          ...      ...      ...      ...\n",
              "479     wind   187.129063   239.299282  Topic10  -5.2301   2.0942\n",
              "235   includ   342.719527  2203.427438  Topic10  -4.6250   0.4793\n",
              "657   import   222.872817   643.903909  Topic10  -5.0553   1.2792\n",
              "367   promot   223.924102   768.275142  Topic10  -5.0506   1.1073\n",
              "441  project   198.693225  1796.869066  Topic10  -5.1702   0.1381\n",
              "\n",
              "[714 rows x 6 columns], token_table=      Topic      Freq    Term\n",
              "term                         \n",
              "2755      4  0.999957    abil\n",
              "347       7  0.999223  academ\n",
              "317       1  0.001905  access\n",
              "317       6  0.996408  access\n",
              "317       8  0.001905  access\n",
              "...     ...       ...     ...\n",
              "177       1  0.340140    year\n",
              "177       2  0.186367    year\n",
              "177       5  0.473857    year\n",
              "178       9  0.996154   yield\n",
              "1155      2  0.996737    zone\n",
              "\n",
              "[897 rows x 3 columns], R=30, lambda_step=0.01, plot_opts={'xlab': 'PC1', 'ylab': 'PC2'}, topic_order=[9, 4, 5, 1, 10, 6, 8, 2, 3, 7])"
            ]
          },
          "metadata": {
            "tags": []
          },
          "execution_count": 45
        }
      ]
    },
    {
      "cell_type": "markdown",
      "metadata": {
        "id": "GDqU-NTTYYNE"
      },
      "source": [
        "Train Mallet for different number of topics and choose the model with best coherence score"
      ]
    },
    {
      "cell_type": "code",
      "metadata": {
        "id": "MquNSJCK5loN"
      },
      "source": [
        "def compute_coherence_values(dictionary, corpus, texts, limit, start=2, step=1):\n",
        "    coherence_values = []\n",
        "    model_list = []\n",
        "    for num_topics in tqdm(range(start, limit, step)):\n",
        "        model = gensim.models.wrappers.LdaMallet(mallet_path, corpus=corpus, num_topics=num_topics, id2word=id2word)\n",
        "        model_list.append(model)\n",
        "        coherencemodel = CoherenceModel(model=model, texts=texts, dictionary=dictionary, coherence='c_v')\n",
        "        coherence_values.append(coherencemodel.get_coherence())\n",
        "\n",
        "    return model_list, coherence_values"
      ],
      "execution_count": 46,
      "outputs": []
    },
    {
      "cell_type": "code",
      "metadata": {
        "id": "Mviya5315s4r",
        "colab": {
          "base_uri": "https://localhost:8080/"
        },
        "outputId": "79ad1b20-c4a7-41e3-9f95-0ab06725555e"
      },
      "source": [
        "model_list, coherence_values = compute_coherence_values(dictionary=id2word, corpus=corpus, texts=texts, start=2, limit=30, step=1)"
      ],
      "execution_count": 47,
      "outputs": [
        {
          "output_type": "stream",
          "text": [
            "100%|██████████| 28/28 [29:16<00:00, 62.74s/it]\n"
          ],
          "name": "stderr"
        }
      ]
    },
    {
      "cell_type": "code",
      "metadata": {
        "colab": {
          "base_uri": "https://localhost:8080/",
          "height": 279
        },
        "id": "Dnbf1R305x9A",
        "outputId": "785bf863-f585-45ea-b1fc-23d2bcd4b8ba"
      },
      "source": [
        "limit, start, step = 30, 2, 1\n",
        "x = range(start, limit, step)\n",
        "plt.plot(x, coherence_values, label='coherence')\n",
        "plt.xlabel(\"Num Topics\")\n",
        "plt.ylabel(\"Coherence score\")\n",
        "plt.legend(loc='best')\n",
        "plt.show()"
      ],
      "execution_count": 48,
      "outputs": [
        {
          "output_type": "display_data",
          "data": {
            "image/png": "[encoded data removed]",
            "text/plain": [
              "<Figure size 432x288 with 1 Axes>"
            ]
          },
          "metadata": {
            "tags": [],
            "needs_background": "light"
          }
        }
      ]
    },
    {
      "cell_type": "code",
      "metadata": {
        "colab": {
          "base_uri": "https://localhost:8080/"
        },
        "id": "DgdLeboF50xO",
        "outputId": "0a072ead-13f1-4bbf-f90b-6ac16872f402"
      },
      "source": [
        "for m, cv in zip(x, coherence_values):\n",
        "    print(\"Num Topics =\", m, \" has Coherence Value of\", round(cv, 4))"
      ],
      "execution_count": 49,
      "outputs": [
        {
          "output_type": "stream",
          "text": [
            "Num Topics = 2  has Coherence Value of 0.4915\n",
            "Num Topics = 3  has Coherence Value of 0.5616\n",
            "Num Topics = 4  has Coherence Value of 0.554\n",
            "Num Topics = 5  has Coherence Value of 0.5788\n",
            "Num Topics = 6  has Coherence Value of 0.5835\n",
            "Num Topics = 7  has Coherence Value of 0.5929\n",
            "Num Topics = 8  has Coherence Value of 0.5943\n",
            "Num Topics = 9  has Coherence Value of 0.6063\n",
            "Num Topics = 10  has Coherence Value of 0.6107\n",
            "Num Topics = 11  has Coherence Value of 0.6111\n",
            "Num Topics = 12  has Coherence Value of 0.6245\n",
            "Num Topics = 13  has Coherence Value of 0.6116\n",
            "Num Topics = 14  has Coherence Value of 0.5975\n",
            "Num Topics = 15  has Coherence Value of 0.6091\n",
            "Num Topics = 16  has Coherence Value of 0.6032\n",
            "Num Topics = 17  has Coherence Value of 0.5955\n",
            "Num Topics = 18  has Coherence Value of 0.5874\n",
            "Num Topics = 19  has Coherence Value of 0.5915\n",
            "Num Topics = 20  has Coherence Value of 0.5898\n",
            "Num Topics = 21  has Coherence Value of 0.588\n",
            "Num Topics = 22  has Coherence Value of 0.5778\n",
            "Num Topics = 23  has Coherence Value of 0.5776\n",
            "Num Topics = 24  has Coherence Value of 0.5781\n",
            "Num Topics = 25  has Coherence Value of 0.5789\n",
            "Num Topics = 26  has Coherence Value of 0.5738\n",
            "Num Topics = 27  has Coherence Value of 0.5628\n",
            "Num Topics = 28  has Coherence Value of 0.5589\n",
            "Num Topics = 29  has Coherence Value of 0.5669\n"
          ],
          "name": "stdout"
        }
      ]
    },
    {
      "cell_type": "code",
      "metadata": {
        "id": "z7Nx5Mk0j0Ol"
      },
      "source": [
        "num_topics, _, optimal_model = max(list(zip(x, coherence_values, model_list)), key=lambda x: x[1])"
      ],
      "execution_count": 55,
      "outputs": []
    },
    {
      "cell_type": "markdown",
      "metadata": {
        "id": "_ne3j_23ZhlN"
      },
      "source": [
        "Print top words for the best model"
      ]
    },
    {
      "cell_type": "code",
      "metadata": {
        "colab": {
          "base_uri": "https://localhost:8080/"
        },
        "id": "pYPPo9Qy52QZ",
        "outputId": "4b86f00b-fad6-440c-8fd6-70bf70b2c531"
      },
      "source": [
        "model_topics = optimal_model.show_topics(formatted=False)\n",
        "pprint(optimal_model.print_topics(num_words=10))"
      ],
      "execution_count": 56,
      "outputs": [
        {
          "output_type": "stream",
          "text": [
            "[(0,\n",
            "  '0.054*\"support\" + 0.043*\"technolog\" + 0.037*\"intern\" + 0.036*\"develop\" + '\n",
            "  '0.031*\"capac\" + 0.029*\"build\" + 0.028*\"invest\" + 0.023*\"financ\" + '\n",
            "  '0.021*\"resourc\" + 0.021*\"requir\"'),\n",
            " (1,\n",
            "  '0.017*\"impact\" + 0.017*\"increas\" + 0.016*\"popul\" + 0.016*\"flood\" + '\n",
            "  '0.016*\"infrastructur\" + 0.016*\"area\" + 0.014*\"region\" + 0.014*\"countri\" + '\n",
            "  '0.014*\"drought\" + 0.014*\"coastal\"'),\n",
            " (2,\n",
            "  '0.220*\"climat\" + 0.170*\"chang\" + 0.073*\"adapt\" + 0.032*\"resili\" + '\n",
            "  '0.029*\"impact\" + 0.029*\"vulner\" + 0.026*\"risk\" + 0.019*\"address\" + '\n",
            "  '0.018*\"strengthen\" + 0.018*\"commun\"'),\n",
            " (3,\n",
            "  '0.123*\"develop\" + 0.100*\"nation\" + 0.088*\"plan\" + 0.057*\"polici\" + '\n",
            "  '0.046*\"strategi\" + 0.032*\"sustain\" + 0.024*\"action\" + 0.018*\"framework\" + '\n",
            "  '0.016*\"environment\" + 0.016*\"integr\"'),\n",
            " (4,\n",
            "  '0.048*\"increas\" + 0.033*\"year\" + 0.032*\"countri\" + 0.025*\"econom\" + '\n",
            "  '0.025*\"growth\" + 0.023*\"economi\" + 0.020*\"period\" + 0.019*\"million\" + '\n",
            "  '0.017*\"project\" + 0.013*\"averag\"'),\n",
            " (5,\n",
            "  '0.144*\"emiss\" + 0.053*\"ghg\" + 0.053*\"sector\" + 0.049*\"reduct\" + '\n",
            "  '0.029*\"carbon\" + 0.027*\"ga\" + 0.026*\"reduc\" + 0.026*\"target\" + '\n",
            "  '0.026*\"greenhous\" + 0.026*\"wast\"'),\n",
            " (6,\n",
            "  '0.085*\"implement\" + 0.069*\"mitig\" + 0.055*\"measur\" + 0.048*\"action\" + '\n",
            "  '0.043*\"adapt\" + 0.027*\"includ\" + 0.023*\"identifi\" + 0.020*\"monitor\" + '\n",
            "  '0.019*\"system\" + 0.017*\"indc\"'),\n",
            " (7,\n",
            "  '0.049*\"sector\" + 0.031*\"govern\" + 0.026*\"level\" + 0.023*\"environ\" + '\n",
            "  '0.022*\"process\" + 0.021*\"institut\" + 0.020*\"ministri\" + 0.019*\"public\" + '\n",
            "  '0.018*\"local\" + 0.018*\"nation\"'),\n",
            " (8,\n",
            "  '0.042*\"ndc\" + 0.034*\"inform\" + 0.032*\"report\" + 0.030*\"base\" + '\n",
            "  '0.029*\"includ\" + 0.027*\"data\" + 0.026*\"project\" + 0.021*\"target\" + '\n",
            "  '0.018*\"assess\" + 0.018*\"updat\"'),\n",
            " (9,\n",
            "  '0.054*\"water\" + 0.054*\"agricultur\" + 0.045*\"manag\" + 0.041*\"forest\" + '\n",
            "  '0.036*\"land\" + 0.031*\"area\" + 0.031*\"product\" + 0.028*\"resourc\" + '\n",
            "  '0.022*\"protect\" + 0.019*\"improv\"'),\n",
            " (10,\n",
            "  '0.112*\"energi\" + 0.030*\"gener\" + 0.029*\"effici\" + 0.027*\"transport\" + '\n",
            "  '0.027*\"electr\" + 0.025*\"renew\" + 0.023*\"industri\" + 0.018*\"power\" + '\n",
            "  '0.018*\"reduc\" + 0.017*\"sourc\"'),\n",
            " (11,\n",
            "  '0.058*\"contribut\" + 0.038*\"nation\" + 0.032*\"global\" + 0.031*\"countri\" + '\n",
            "  '0.025*\"commit\" + 0.023*\"indc\" + 0.023*\"agreement\" + 0.021*\"determin\" + '\n",
            "  '0.019*\"unfccc\" + 0.018*\"effort\"')]\n"
          ],
          "name": "stdout"
        }
      ]
    },
    {
      "cell_type": "code",
      "metadata": {
        "colab": {
          "base_uri": "https://localhost:8080/",
          "height": 965
        },
        "id": "AvlbWoq-jmDF",
        "outputId": "b9431d0f-2f9c-4042-d543-f2ea47df9d19"
      },
      "source": [
        "optimal_model = convertldaGenToldaMallet(optimal_model)\n",
        "\n",
        "pyLDAvis.enable_notebook()\n",
        "vis = pyLDAvis.gensim.prepare(optimal_model, corpus, id2word)\n",
        "vis"
      ],
      "execution_count": 57,
      "outputs": [
        {
          "output_type": "stream",
          "text": [
            "/usr/local/lib/python3.7/dist-packages/pyLDAvis/_prepare.py:236: RuntimeWarning: divide by zero encountered in log\n",
            "  log_1 = np.log(pd.eval(\"(topic_given_term.T / topic_proportion)\"))\n",
            "/usr/local/lib/python3.7/dist-packages/pyLDAvis/_prepare.py:259: RuntimeWarning: divide by zero encountered in log\n",
            "  log_lift = np.log(pd.eval(\"topic_term_dists / term_proportion\")).astype(\"float64\")\n",
            "/usr/local/lib/python3.7/dist-packages/pyLDAvis/_prepare.py:260: RuntimeWarning: divide by zero encountered in log\n",
            "  log_ttd = np.log(topic_term_dists).astype(\"float64\")\n"
          ],
          "name": "stderr"
        },
        {
          "output_type": "execute_result",
          "data": {
            "text/html": [
              "\n",
              "<link rel=\"stylesheet\" type=\"text/css\" href=\"https://cdn.jsdelivr.net/gh/bmabey/pyLDAvis/pyLDAvis/js/ldavis.v1.0.0.css\">\n",
              "\n",
              "\n",
              "<div id=\"ldavis_el4611400878111591201507706269\"></div>\n",
              "<script type=\"text/javascript\">\n",
              "\n",
              "var ldavis_el4611400878111591201507706269_data = {\"mdsDat\": {\"x\": [0.26313451545424693, 0.13377881862997687, 0.028904394186289643, -0.2349267512069607, 0.23292607753631048, -0.16037287659800442, 0.022095622574020927, -0.1809022472659102, -0.05403097407182023, 0.1356817299140745, -0.16973477362842518, -0.016553535523797968], \"y\": [-0.07182552817662431, -0.2703827217624706, 0.07059265180723692, 0.10991109184818215, 0.2470000895398523, -0.10459459464459162, -0.12376831243453089, 0.06362615131037493, 0.0661404557036163, 0.18934712222982505, 0.04074698809271983, -0.2167933935135901], \"topics\": [1, 2, 3, 4, 5, 6, 7, 8, 9, 10, 11, 12], \"cluster\": [1, 1, 1, 1, 1, 1, 1, 1, 1, 1, 1, 1], \"Freq\": [8.829109674830002, 8.804659837553068, 8.612215349850889, 8.504274419333028, 8.31949356852805, 8.29439630642394, 8.252251351943327, 8.182570773820764, 8.179802748661771, 8.177428486367285, 8.161890902459561, 7.681906580228319]}, \"tinfo\": {\"Term\": [\"climat\", \"chang\", \"emiss\", \"develop\", \"energi\", \"nation\", \"plan\", \"adapt\", \"implement\", \"sector\", \"mitig\", \"polici\", \"contribut\", \"measur\", \"agricultur\", \"action\", \"ghg\", \"support\", \"water\", \"increas\", \"reduct\", \"strategi\", \"manag\", \"countri\", \"technolog\", \"forest\", \"ndc\", \"intern\", \"includ\", \"land\", \"hotspot\", \"affect\", \"avalanch\", \"ccvi\", \"cyclon\", \"desertif\", \"drought\", \"errat\", \"flash\", \"flood\", \"glof\", \"lake\", \"melt\", \"monsoon\", \"outburst\", \"pattern\", \"properti\", \"rainfal\", \"sea\", \"seriou\", \"spatial\", \"storm\", \"tempor\", \"wave\", \"fed\", \"north\", \"rain\", \"sensit\", \"physic\", \"indirectli\", \"coastal\", \"island\", \"rise\", \"loss\", \"extrem\", \"sea_level\", \"damag\", \"caus\", \"weather\", \"diseas\", \"highli\", \"consequ\", \"neg\", \"citi\", \"km\", \"locat\", \"eros\", \"ocean\", \"threat\", \"event\", \"pacif\", \"tropic\", \"sever\", \"mani\", \"infrastructur\", \"tourism\", \"region\", \"popul\", \"particularli\", \"face\", \"impact\", \"area\", \"high\", \"increas\", \"peopl\", \"due\", \"countri\", \"natur\", \"major\", \"result\", \"health\", \"vulner\", \"decreas\", \"cash\", \"extra\", \"index\", \"month\", \"pakistan\", \"precipit\", \"summer\", \"winter\", \"declin\", \"even_though\", \"gdp\", \"percent\", \"compromis\", \"remain\", \"stand\", \"unremit\", \"wherea\", \"output\", \"fall\", \"gradual\", \"dollar\", \"township\", \"annual\", \"averag\", \"variat\", \"afghanistan\", \"rate\", \"wet\", \"show\", \"growth\", \"trend\", \"grow\", \"decad\", \"rang\", \"economi\", \"export\", \"past\", \"rcp\", \"dai\", \"nigeria\", \"mm\", \"real\", \"lower\", \"percentag\", \"extend\", \"centuri\", \"minimum\", \"jordan\", \"incom\", \"significantli\", \"million\", \"year\", \"period\", \"increas\", \"becom\", \"econom\", \"intens\", \"expect\", \"temperatur\", \"countri\", \"sinc\", \"recent\", \"time\", \"number\", \"project\", \"popul\", \"signific\", \"world\", \"high\", \"howev\", \"current\", \"total\", \"result\", \"due\", \"fundament\", \"brought\", \"strengthen\", \"disast\", \"prepared\", \"chang\", \"climat\", \"earli\", \"address\", \"knowledg\", \"nonadversari\", \"urgent\", \"resili\", \"firmli\", \"staff\", \"confront\", \"unabl\", \"climaterel\", \"systemat\", \"emerg\", \"naturebas\", \"vanuatu\", \"respond\", \"warn\", \"infrequ\", \"wound\", \"meteorolog\", \"contin\", \"panadura\", \"catastroph\", \"train\", \"immedi\", \"safeguard\", \"attent\", \"communitybas\", \"favor\", \"spcr\", \"minimis\", \"harm\", \"short_term\", \"entail\", \"risk\", \"emphasi\", \"napa\", \"vulner\", \"respons\", \"map\", \"adapt\", \"impact\", \"effect\", \"health\", \"scientif\", \"human\", \"commun\", \"rais\", \"research\", \"capac\", \"advers\", \"enhanc\", \"relat\", \"establish\", \"assess\", \"manag\", \"issu\", \"build\", \"limit\", \"region\", \"prioriti\", \"transform\", \"scotland\", \"scottish\", \"strateg\", \"vision\", \"polici\", \"plan\", \"align\", \"coher\", \"approv\", \"law\", \"stipul\", \"compat\", \"harmoni\", \"sddci\", \"foster\", \"nccap\", \"shortterm\", \"lowcarbon\", \"northern_ireland\", \"guid\", \"ii\", \"enact\", \"beneficiari\", \"rigor\", \"beliz\", \"indonesia\", \"liberia\", \"voluntarili\", \"elig\", \"strategi\", \"document\", \"nap\", \"comprehens\", \"longterm\", \"draft\", \"long_term\", \"legisl\", \"agenda\", \"cca\", \"master_plan\", \"togo\", \"pillar\", \"elabor\", \"sdg\", \"iv\", \"iii\", \"sudan\", \"formul\", \"develop\", \"de\", \"nation\", \"sustain\", \"integr\", \"framework\", \"environment\", \"png\", \"aim\", \"programm\", \"goal\", \"action\", \"econom\", \"prepar\", \"adopt\", \"ensur\", \"prioriti\", \"sector\", \"govern\", \"initi\", \"process\", \"provid\", \"yield\", \"rice\", \"soil\", \"ecosystem\", \"degrad\", \"rural\", \"tree\", \"ecowa\", \"watersh\", \"secur\", \"rehabilit\", \"discharg\", \"harvest\", \"wood\", \"agricultur\", \"biodivers\", \"biolog\", \"endur\", \"control\", \"trial\", \"fertil\", \"fodder\", \"protect\", \"seed\", \"subsist\", \"farm\", \"sanit\", \"conserv\", \"forest\", \"reservoir\", \"land\", \"livestock\", \"irrig\", \"marin\", \"deforest\", \"ha\", \"restor\", \"crop\", \"speci\", \"recoveri\", \"treatment\", \"techniqu\", \"water\", \"food\", \"product\", \"manag\", \"area\", \"practic\", \"natur\", \"promot\", \"resourc\", \"improv\", \"forestri\", \"servic\", \"system\", \"sustain\", \"enhanc\", \"cover\", \"cabo\", \"intend\", \"determin\", \"fulfil\", \"agreement\", \"pari\", \"convent\", \"uk\", \"pico\", \"kyoto_protocol\", \"parti\", \"unfccc\", \"moco\", \"articl\", \"bind\", \"complianc\", \"confer\", \"ambiti\", \"circumst\", \"sidewalk\", \"moldova\", \"republ\", \"barbado\", \"jointli\", \"ambit\", \"agre\", \"decis\", \"equit\", \"cop\", \"guadeloup\", \"commit\", \"unit\", \"submit\", \"fair\", \"cp\", \"paragraph\", \"principl\", \"capabl\", \"date\", \"decemb\", \"understand\", \"line\", \"contribut\", \"global\", \"view\", \"effort\", \"state\", \"indc\", \"achiev\", \"countri\", \"object\", \"nation\", \"accord\", \"set\", \"level\", \"goal\", \"commun\", \"framework\", \"present\", \"uncondit\", \"emiss\", \"oxid\", \"remov\", \"per_cent\", \"aggreg\", \"fugit\", \"ghg\", \"emit\", \"ga\", \"greenhous\", \"bartica\", \"ar_gwp\", \"ch\", \"coeq\", \"deem\", \"eventu\", \"exclud\", \"nghgi\", \"wast\", \"reduct\", \"avoid\", \"count\", \"equival\", \"ggcoe\", \"notwithstand\", \"ton\", \"compar\", \"mtcoe\", \"sequestr\", \"carbon\", \"gase\", \"bau\", \"net\", \"bau_scenario\", \"dioxid\", \"anthropogen\", \"methan\", \"captur\", \"lulucf\", \"tonn\", \"sink\", \"afolu\", \"eq\", \"landfil\", \"solid\", \"scenario\", \"target\", \"reduc\", \"figur\", \"total\", \"sector\", \"potenti\", \"estim\", \"per_capita\", \"condit\", \"account\", \"forestri\", \"low\", \"contribut\", \"level\", \"repres\", \"mitig\", \"stakehold\", \"beneath\", \"coordin\", \"creat\", \"environ\", \"sit\", \"gender\", \"girl\", \"academ\", \"civil\", \"societi\", \"multipl\", \"author\", \"focal_point\", \"plai\", \"dialogu\", \"expert\", \"multicriteria\", \"statement\", \"local\", \"work\", \"runwai\", \"cso\", \"yangon\", \"discuss\", \"enjoi\", \"social\", \"women_men\", \"xvi\", \"offic\", \"ministri\", \"group\", \"consult\", \"depart\", \"committe\", \"women\", \"collabor\", \"chile\", \"polit\", \"indigen\", \"engag\", \"council\", \"wide\", \"youth\", \"administr\", \"swaziland\", \"univers\", \"role\", \"solut\", \"particip\", \"institut\", \"organ\", \"privat\", \"public\", \"differ\", \"govern\", \"place\", \"process\", \"agenc\", \"involv\", \"level\", \"sector\", \"activ\", \"opportun\", \"kei\", \"nation\", \"commun\", \"provid\", \"includ\", \"ensur\", \"environment\", \"gambia\", \"alloc\", \"gpglulucf\", \"fund\", \"popular\", \"sell\", \"market\", \"assist\", \"guarante\", \"guinea\", \"fund_gcf\", \"green\", \"uncbd\", \"awd\", \"aid\", \"marketbas\", \"sound\", \"constraint\", \"forerunn\", \"extern\", \"usm\", \"donor\", \"expertis\", \"barrier\", \"multilater\", \"channel\", \"saber\", \"subregion\", \"reexamin\", \"fit\", \"support\", \"technolog\", \"intern\", \"invest\", \"financ\", \"financi\", \"technic\", \"mechan\", \"transfer\", \"budget\", \"access\", \"partnership\", \"mobil\", \"papua_new\", \"us_billion\", \"pilot\", \"bank\", \"expenditur\", \"suffici\", \"grant\", \"domest\", \"build\", \"cost\", \"requir\", \"capac\", \"partner\", \"scale\", \"initi\", \"form\", \"resourc\", \"adequ\", \"develop\", \"project\", \"addit\", \"condit\", \"continu\", \"programm\", \"implement\", \"avail\", \"includ\", \"renew\", \"engin\", \"uptak\", \"biofuel\", \"gener\", \"equip\", \"micro\", \"mini\", \"offgrid\", \"solar\", \"mill\", \"sugar\", \"matrix\", \"incent\", \"railwai\", \"viaduct\", \"fossil_fuel\", \"site\", \"altern\", \"oil\", \"unido\", \"run\", \"consumpt\", \"geotherm\", \"residenti\", \"vehicl\", \"diesel\", \"hydrogen\", \"motor\", \"uae\", \"energi\", \"electr\", \"transport\", \"industri\", \"effici\", \"power\", \"fuel\", \"standard\", \"demand\", \"mw\", \"instal\", \"biomass\", \"grid\", \"commerci\", \"mix\", \"save\", \"modern\", \"connect\", \"road\", \"network\", \"introduc\", \"sourc\", \"util\", \"plant\", \"air\", \"wind\", \"reduc\", \"suppli\", \"improv\", \"import\", \"sector\", \"system\", \"promot\", \"share\", \"defin\", \"uruguai\", \"track\", \"addition\", \"ghana\", \"ongo\", \"highlight\", \"check\", \"sens\", \"ncc\", \"envis\", \"go_beyond\", \"ti\", \"compon\", \"descript\", \"measur\", \"sectorspecif\", \"thirteen\", \"exist\", \"list\", \"select\", \"casebycas\", \"iiii\", \"iiiii\", \"iiiiii\", \"inter\", \"ivii\", \"nonpunit\", \"viv\", \"identifi\", \"monitor\", \"evalu\", \"progress\", \"cobenefit\", \"mrv\", \"redd\", \"synergi\", \"section\", \"aspect\", \"bangladesh\", \"abl\", \"verif\", \"cambodia\", \"uganda\", \"niger\", \"reason\", \"therebi\", \"order\", \"canada\", \"propos\", \"specif\", \"intervent\", \"mitig\", \"nama\", \"implement\", \"priorit\", \"gap\", \"action\", \"benefit\", \"option\", \"establish\", \"relat\", \"adapt\", \"activ\", \"system\", \"includ\", \"indc\", \"tabl\", \"program\", \"prioriti\", \"achiev\", \"make\", \"set\", \"object\", \"effect\", \"provid\", \"analysi\", \"collect\", \"indepth\", \"inform\", \"projectbas\", \"quantifi\", \"default\", \"guidanc\", \"guidelin\", \"ipcc\", \"randomis\", \"methodolog\", \"tier\", \"timehorizon\", \"valu\", \"robust\", \"tumatumari\", \"nonrefund\", \"refer\", \"uncertainti\", \"deform\", \"method\", \"error\", \"jamaica\", \"point\", \"uncov\", \"bei\", \"weight\", \"confirm\", \"summari\", \"report\", \"updat\", \"data\", \"possibl\", \"applic\", \"appli\", \"singapor\", \"rwanda\", \"categori\", \"calcul\", \"assumpt\", \"revis\", \"statist\", \"publish\", \"panel\", \"biennial\", \"recommend\", \"rmi\", \"forecast\", \"conduct\", \"base\", \"ndc\", \"inventori\", \"approach\", \"assess\", \"tonga\", \"regard\", \"project\", \"includ\", \"target\", \"account\", \"avail\", \"indic\", \"follow\", \"relev\", \"consid\", \"part\"], \"Freq\": [6867.0, 5318.0, 4311.0, 4855.0, 3333.0, 4740.0, 2706.0, 3556.0, 2893.0, 3970.0, 2245.0, 1774.0, 2077.0, 1618.0, 1626.0, 2166.0, 1601.0, 1591.0, 1765.0, 2060.0, 1471.0, 1406.0, 1646.0, 2435.0, 1263.0, 1250.0, 1366.0, 1103.0, 2260.0, 1089.0, 11.582212807925481, 389.5835464797686, 2.1058568529708044, 3.1587853960422625, 111.61041670503431, 62.122781009978574, 435.91237532694777, 7.370499101983872, 37.90542475250715, 519.0937393233053, 4.211713705941609, 42.11713985748143, 7.370499101983872, 16.846854823766435, 4.211713705941609, 133.7219154100186, 33.69370964753287, 362.20739456668196, 114.76920116838814, 47.38178187332239, 45.275924320835244, 140.03948433672622, 10.529284964370358, 53.69935080003002, 7.370499101983872, 87.39306417831668, 66.33449611495286, 82.12841843172194, 78.96963396836811, 18.952712376253576, 433.806528966722, 432.75359086359396, 427.4889600400144, 413.80088408347103, 371.68374795674345, 289.5553220635139, 281.1319067765805, 246.38526275667337, 194.7917732398843, 189.52712749328956, 180.0507741032281, 170.5744057901515, 169.52148261003862, 156.88634475662334, 155.8334066534953, 148.4629145466748, 148.4629145466748, 134.77483859013148, 125.29848520007005, 314.82562761637473, 113.71627798827524, 113.71627798827524, 348.51931861013867, 201.10934216659192, 509.6173859332439, 200.05640406346387, 442.2299442536554, 527.517184456269, 222.16791022995574, 197.9505577032381, 546.469891236392, 506.4586014698901, 300.0846135567034, 541.205230566782, 235.8559712634839, 254.80869296662195, 441.17703599655766, 277.97312231322667, 217.95618766347388, 252.70284660639615, 247.43818593678625, 244.27940147343244, 281.18878634968416, 16.222429695526206, 7.570466788199794, 96.25308112392499, 30.281867152799176, 101.66055892924122, 125.4534493672807, 29.200371963778178, 24.874391207694188, 127.61644346574516, 17.303924884547204, 300.6557034724846, 244.4179313208579, 14.05943838737859, 214.13607346911488, 45.42280165930438, 1.0814953052842002, 37.85233347594616, 59.48224097678859, 38.933830525178394, 51.91177279343037, 56.23775354951436, 3.2444857995893983, 386.09380666324233, 402.3162475200359, 34.60784976909441, 57.31925059874659, 399.0717712540291, 17.303924884547204, 227.11400829652192, 804.6324950400718, 197.91363261232127, 183.85420073568199, 147.0833605885456, 230.3584994442186, 744.0687793365859, 124.37195975889341, 115.71999824672542, 100.57906188000898, 93.00859741707323, 88.68261666098924, 85.43812551329253, 83.27513885567302, 155.73532210071357, 80.03064770797631, 75.70466695189232, 75.70466695189232, 74.62317734350503, 140.59439317484208, 134.10541087944867, 136.26840497791315, 612.1263476739117, 1054.4578520803313, 625.104252737939, 1519.500898692457, 146.00186353931338, 811.1214475720855, 240.09195800561884, 322.28558493036974, 362.30093110689273, 1028.5020419522768, 210.89158232141818, 171.9577480758173, 253.06989283302588, 224.95101419805744, 547.2366437734969, 357.9749429099638, 255.23288693149033, 191.42466519861776, 256.31436909903266, 221.70653793205062, 277.9442803202976, 261.7218692268837, 256.31436909903266, 228.19550534575416, 35.09770976426064, 17.54885488213032, 567.7570543033021, 552.2728091154728, 34.06542311263393, 5318.335123064562, 6867.795825980316, 162.06884054567976, 597.693378117791, 218.84453724215854, 1.0322856281284993, 84.64741809487623, 996.1556107877597, 5.161427799476425, 41.2914223958114, 16.51657005005599, 9.290569857102328, 73.29227584429667, 54.711134310539634, 154.84283034518802, 20.6457111979057, 47.48513502736216, 146.58455168859334, 121.80970116239031, 1.0322856281284993, 1.0322856281284993, 109.42226862107927, 5.161427799476425, 1.0322856281284993, 21.677997849532414, 162.06884054567976, 62.96941660623906, 45.4205653632135, 45.4205653632135, 36.12999641588736, 26.83942564900884, 26.83942564900884, 25.80713899738213, 24.774854165307794, 24.774854165307794, 24.774854165307794, 820.6670328536184, 45.4205653632135, 123.87426718743421, 909.4436048332109, 501.6907668248686, 73.29227584429667, 2272.060442000054, 914.6050198958206, 495.49706874973685, 403.6236477325784, 90.841130726427, 260.13595963796996, 557.4342241780826, 87.74427441065161, 199.2311163349843, 429.43081038414147, 133.16484341296987, 252.90997855031628, 221.94140083614343, 213.68310762312973, 228.1351134676942, 302.45967960272236, 160.0042599642168, 221.94140083614343, 173.4239827962593, 182.71454446537595, 190.97283767838965, 109.61234500488635, 43.84493728325571, 12.52712455305583, 315.2659815439037, 275.59673837048115, 1774.6760085948183, 2706.9029069427625, 144.0619301142082, 37.5813763542881, 176.4236735588547, 238.01537279667554, 28.18603136734254, 25.05424910611166, 14.614978794960724, 3.1317811382639573, 40.71315681877191, 12.52712455305583, 24.01032288353275, 135.71052033357694, 30.273883812500358, 141.97408126254453, 175.37974913302284, 29.229957589921447, 21.922468641627855, 14.614978794960724, 85.60201852785946, 83.51416967619579, 59.503843199168884, 6.263562276527915, 7.307489397480362, 1405.125899411753, 336.1445275564468, 186.86294656512624, 180.59938563615862, 262.0256920867141, 141.97408126254453, 121.09553525000143, 115.87590593385396, 108.56841339206622, 90.82165503099523, 82.47023806337565, 72.0309650571041, 64.72347970230466, 62.63562366365269, 59.503843199168884, 58.459915179842895, 113.788049895202, 96.041291534131, 128.4030349787775, 3798.8506736622753, 78.29453317306002, 3077.4969118037066, 989.642885508461, 492.73359390256684, 569.9841739018418, 494.8214427542305, 191.03865864243016, 267.24534296382654, 403.9997877232353, 334.05667870478317, 737.0125420021866, 352.8473471177094, 208.78541700350115, 208.78541700350115, 236.9714483708437, 273.5088895188175, 445.7568510003683, 278.7285403959299, 184.77509771346257, 189.99473421659835, 181.64331006199046, 67.8679427841256, 71.91976057858815, 287.6790423143526, 417.3372117371542, 287.6790423143526, 362.63766799649505, 128.64520970106383, 9.116589158687054, 62.80317229875479, 430.5056178114501, 155.99496750973452, 11.14249805591833, 99.26952541808828, 117.50270900858447, 1626.8046792522214, 242.09609388435632, 60.77725988610879, 4.051817355035708, 159.03383261328878, 8.103634710071416, 90.1529371382549, 15.194314971527197, 664.4980901685402, 25.323859457683568, 42.54408332644204, 151.9431567461014, 94.20475493271745, 349.46926192219917, 1250.9986333047482, 35.453403943839945, 1085.8870845460096, 237.0313093373266, 223.86291732468956, 209.68155152865592, 190.43541524725146, 169.16337358403044, 159.03383261328878, 302.873367832124, 137.76179095006776, 118.5156546686633, 113.45089121412192, 93.19180224180919, 1629.8435724790934, 459.88129506359627, 925.8402640876654, 1344.1904214848985, 949.1382392560208, 282.6142577673229, 546.9953811599557, 503.4383240501171, 852.9075578489985, 559.1507853275373, 321.1065303301319, 245.1349589879106, 418.35015739723303, 382.89674993797837, 276.5365275602144, 215.7592817357645, 102.5923239042939, 431.52233706135075, 633.5340244475404, 98.36171000776315, 685.3590026223243, 494.9814894323548, 451.6177390506325, 228.45301022026766, 2.1153056339616922, 76.151001070216, 502.3851058090017, 582.7667137661288, 2.1153056339616922, 324.69940627014574, 41.24846095750607, 48.65202826681523, 107.88058426533769, 312.00759261903215, 225.2800497978696, 1.0576528169808461, 232.68362411679843, 520.3651728115393, 53.940292132668844, 40.190807483373376, 232.68362411679843, 90.95814269845398, 368.0631846903467, 71.92039418330491, 138.55252099594637, 2.1153056339616922, 759.394717773134, 467.4825551818622, 230.56831716853304, 207.2999547568532, 188.26220624170412, 184.03159234517335, 124.8030258322214, 114.22650511013383, 105.76528432669198, 101.53467043016121, 169.2244437073157, 326.81471321841116, 1759.9342594176492, 951.8875098728901, 117.39945852291223, 534.1146819945037, 374.4091055351429, 687.4743376090684, 531.9993470077596, 919.1002661940161, 391.3315330827872, 1141.2073555694876, 339.5065549080034, 274.9897350436273, 349.02542215595827, 257.009640002611, 273.9320675502553, 243.26015885812532, 233.7412775909311, 273.53966769119126, 4311.109853520666, 67.60486075667461, 265.2190685858771, 157.05129416479886, 43.683141815897855, 10.40074800989233, 1601.715216188928, 71.76516030933169, 798.7774583181355, 766.5351367850432, 1.040074779195474, 8.320598233563793, 131.04942196069214, 78.0056096383173, 13.520972674385137, 24.961795572441734, 63.44456120401754, 34.32246782241944, 766.5351367850432, 1471.7058551683945, 126.88912240803508, 34.32246782241944, 167.45204304644156, 29.12209512509881, 16.641196467127585, 132.0894968488564, 414.9898524815318, 50.96366603304774, 115.44830561223097, 878.8632247067842, 242.3374210462632, 211.13518834934084, 170.57226771093437, 143.53032061866338, 135.20972151334922, 127.92919729619935, 119.60859819088519, 108.1677813950811, 184.09324125706985, 105.04755673058828, 184.09324125706985, 102.96740695425974, 97.7670325134384, 97.7670325134384, 137.28987128967776, 608.4437537840744, 766.5351367850432, 783.1763349956715, 193.45391525054828, 434.75127535665285, 1572.5931193203285, 391.0681300537536, 445.15202423829555, 185.13331614523412, 369.22655740230397, 282.9003416846697, 224.65616189547632, 217.37563767832643, 314.1025883295977, 250.65802015157735, 187.21346592156266, 206.97488879668376, 385.57536534580737, 1.0891959643969873, 377.95100785745433, 220.0175822150231, 694.9070451662352, 4.356783857587949, 202.59045369978688, 6.535175786381924, 32.67587806752017, 154.66582607998276, 257.0502527840257, 60.99497054867351, 179.71732591380317, 34.85427086070359, 102.38441978892736, 57.72738481645616, 110.00879110751156, 9.802763247378163, 23.962310352344275, 533.7060199613554, 430.23240723339416, 2.1783919287939746, 13.070351572763848, 1.0891959643969873, 82.77889156539214, 14.159547104966112, 509.7437061514534, 43.56783857587949, 1.0891959643969873, 78.4221059790253, 604.503747706681, 318.0452233326992, 261.4070245401614, 228.7311533877568, 164.4685832766348, 154.66582607998276, 112.18718390069498, 111.09798404654548, 108.91959816847763, 106.7412053752942, 180.80652576795268, 96.9384412635266, 93.67084861619368, 93.67084861619368, 92.58165567715976, 92.58165567715976, 89.3140699449424, 193.8768825270532, 115.45476963291232, 222.19596809309095, 621.9308900521484, 269.03140968897674, 338.7399514103839, 553.3115343546596, 298.4396812789328, 911.6570278188099, 186.252511208469, 640.4472460819964, 211.30401104228943, 185.16331135431952, 767.8831449593974, 1449.7197918758386, 437.8567647217472, 208.03642531007208, 262.496238224542, 521.7248353959421, 337.6507377260033, 272.2989954211941, 323.49120877321553, 239.6231104385583, 233.08793897412363, 95.93972639652652, 82.0817666851145, 1.0659969839641013, 606.5522663776086, 1.0659969839641013, 11.725967039629374, 267.56525615246926, 265.4332453346488, 47.96986319826326, 162.03153637796117, 20.253942047245147, 411.4748250089301, 1.0659969839641013, 2.1319939679282025, 37.30989551886484, 13.857960575509058, 27.715921151018115, 62.8938214058092, 1.0659969839641013, 132.1836199628693, 2.1319939679282025, 82.0817666851145, 34.11190348685124, 87.41175225300779, 66.09180998143465, 37.30989551886484, 1.0659969839641013, 11.725967039629374, 1.0659969839641013, 13.857960575509058, 1591.5334665989826, 1263.2064551607352, 1103.3068604728314, 845.3355976983437, 672.6441040101486, 612.9482435288595, 490.3586169439718, 447.7187324008255, 356.0429861632821, 262.2352567590234, 522.3385027002263, 140.71160793194065, 116.19367708474206, 94.87373481316891, 89.54374924527563, 85.27976217351626, 85.27976217351626, 73.55379254159577, 72.48779404546185, 71.42179554932794, 392.28689355517747, 858.1275520008454, 558.5824100921217, 624.6742477246615, 929.5494166779365, 149.23958207545937, 130.05163679615407, 300.611147317634, 149.23958207545937, 633.2022356937329, 123.65564581935057, 1056.4030648984651, 562.8464317277626, 299.54514190872374, 265.4332453346488, 222.79337461705515, 243.04732530527068, 365.63697954126366, 211.06739807235834, 280.3572104549711, 755.2025671161985, 49.657156802076834, 23.794053437148925, 45.519060401903765, 901.0704522646057, 117.93574222185512, 17.586908836889318, 11.379765100475941, 49.657156802076834, 325.8750837390132, 10.345241000432674, 13.448813300562476, 22.759530200951883, 80.6928780756824, 41.380964001730696, 3.103572300129802, 171.73099887948993, 76.55478513089425, 155.17861327879766, 172.76552729876434, 6.207144600259604, 41.380964001730696, 285.5286550673267, 47.58810687429785, 93.10716382081671, 259.6655413362441, 107.5905064044998, 13.448813300562476, 26.89762660112495, 165.52385600692278, 3333.2365518609377, 804.8597100967356, 811.0668529693028, 694.1656529882617, 854.5169083634313, 541.0561103695525, 304.15008368502816, 248.28577018884457, 319.66794086644603, 201.7321986445909, 167.59289902393198, 156.21314169807206, 150.0059850039653, 122.0738420774131, 103.45240654894184, 101.38335662116285, 94.1416922400911, 88.96907087602854, 162.4202845706392, 136.55718466109622, 132.41908480553823, 515.1929689953906, 147.9369419869561, 297.942940812461, 151.04051342323967, 181.04171318834068, 525.5382255450553, 223.45719869857595, 409.671540161749, 298.9774554101958, 502.7786832502563, 307.25365512131174, 241.04411271854264, 180.00718476906627, 188.49046909151758, 94.24523454575879, 96.3871721648196, 48.1935860824098, 48.1935860824098, 106.02589145059325, 94.24523454575879, 11.780654318219849, 48.1935860824098, 11.780654318219849, 11.780654318219849, 11.780654318219849, 11.780654318219849, 267.7421472014897, 33.20002619780361, 1618.2335539090504, 32.1290573882732, 3.2129057819375637, 468.01330078839754, 121.01944788637998, 91.03233501480653, 2.141937187958376, 5.354843185447157, 6.425811563875127, 3.2129057819375637, 3.2129057819375637, 3.2129057819375637, 1.070968593979188, 1.070968593979188, 670.4263368132546, 589.0327624700554, 295.5873362492802, 294.5163812350277, 195.98725075823043, 195.98725075823043, 137.08398002933606, 99.60007859341083, 173.49691955336982, 87.81942858621532, 81.39361572903289, 81.39361572903289, 77.10974049091126, 74.96780287185045, 66.40005239560722, 59.97423953842478, 59.97423953842478, 58.90327072889438, 479.79391630739826, 53.54843013006183, 388.7616088831476, 402.6841896117649, 160.64529383900498, 2038.053216882746, 97.45814097435002, 2526.4148836663876, 143.50979288651848, 151.00657455323133, 1429.743043431699, 239.89695815369913, 264.5292545681764, 390.90354650220837, 378.05192078784347, 1284.0913956977872, 472.29717602651914, 564.4004660555781, 805.3683792235298, 490.5036319932581, 204.55500123447368, 289.16152339209776, 343.78091888287054, 342.70996386861805, 238.82600313944664, 238.82600313944664, 234.54212790132502, 237.75502053463833, 234.54212790132502, 311.5592872589106, 246.8756986578913, 18.327017852289263, 944.3804195428929, 5.390299320585057, 149.85031575636233, 25.873435440407725, 156.31867461646425, 307.247039362839, 495.9075212638184, 1.0780598438295028, 362.22809616570817, 46.35657399473142, 5.390299320585057, 300.77869348674255, 71.15194746112125, 1.0780598438295028, 2.1561196876590056, 401.0382493263198, 97.02538290152897, 1.0780598438295028, 115.35239750781687, 4.312239375318011, 71.15194746112125, 106.72792119168187, 3.2341794300509656, 3.2341794300509656, 14.01477807122108, 34.49791500254409, 68.99583000508818, 894.7896206740915, 504.5320170559616, 748.1735038237882, 285.6858518185029, 265.20272624818466, 208.06554549727971, 157.39673659048216, 239.32929080777694, 129.36717720203865, 206.9874835232618, 197.28495172511165, 187.58240694295603, 107.80598316569977, 105.64986570966671, 104.57180373564881, 94.86926544549591, 172.48957825872182, 250.109884579945, 134.75747408812268, 173.56762724873425, 822.5596501909687, 1175.0852145585268, 443.082614376996, 486.20498946566823, 511.00033696404716, 260.89047835211306, 285.6858518185029, 730.9245641755238, 807.46683449074, 578.9181114871202, 380.55512375600154, 343.90109454342576, 311.5592872589106, 314.7934731809643, 280.2955679164243, 271.6710721242811, 254.4221324760166], \"Total\": [6867.0, 5318.0, 4311.0, 4855.0, 3333.0, 4740.0, 2706.0, 3556.0, 2893.0, 3970.0, 2245.0, 1774.0, 2077.0, 1618.0, 1626.0, 2166.0, 1601.0, 1591.0, 1765.0, 2060.0, 1471.0, 1406.0, 1646.0, 2435.0, 1263.0, 1250.0, 1366.0, 1103.0, 2260.0, 1089.0, 11.582212807925481, 389.5835464797686, 2.1058568529708044, 3.1587853960422625, 111.61041670503431, 62.122781009978574, 435.91237532694777, 7.370499101983872, 37.90542475250715, 519.0937393233053, 4.211713705941609, 42.11713985748143, 7.370499101983872, 16.846854823766435, 4.211713705941609, 133.7219154100186, 33.69370964753287, 362.20739456668196, 114.76920116838814, 47.38178187332239, 45.275924320835244, 140.03948433672622, 10.529284964370358, 53.69935080003002, 7.370499101983872, 87.39306417831668, 66.33449611495286, 82.12841843172194, 78.96963396836811, 18.952712376253576, 433.806528966722, 432.75359086359396, 427.4889600400144, 413.80088408347103, 371.68374795674345, 289.5553220635139, 281.1319067765805, 246.38526275667337, 194.7917732398843, 189.52712749328956, 180.0507741032281, 170.5744057901515, 169.52148261003862, 156.88634475662334, 155.8334066534953, 148.4629145466748, 148.4629145466748, 134.77483859013148, 125.29848520007005, 318.0598070464257, 113.71627798827524, 113.71627798827524, 357.9146626987107, 218.21169230293185, 688.9750217462504, 225.38026352114744, 626.0259840243156, 885.4921273662328, 272.26977042048685, 237.6214159225799, 1461.0749111322125, 1455.5968407259109, 556.3989826557361, 2060.706129259239, 376.31312948549373, 483.0041983123761, 2435.232196157691, 827.1314940837508, 347.2670679034407, 699.7467328224893, 651.0618336693647, 1153.7230063066434, 281.18878634968416, 16.222429695526206, 7.570466788199794, 96.25308112392499, 30.281867152799176, 101.66055892924122, 125.4534493672807, 29.200371963778178, 24.874391207694188, 127.61644346574516, 17.303924884547204, 300.6557034724846, 244.4179313208579, 14.05943838737859, 214.13607346911488, 45.42280165930438, 1.0814953052842002, 37.85233347594616, 59.48224097678859, 38.933830525178394, 51.91177279343037, 56.23775354951436, 3.2444857995893983, 386.09380666324233, 402.3162475200359, 34.60784976909441, 57.31925059874659, 399.0717712540291, 17.303924884547204, 227.11400829652192, 806.7126445984628, 197.91363261232127, 183.85420073568199, 147.0833605885456, 231.41142787070402, 757.1391309093497, 124.37195975889341, 115.71999824672542, 100.57906188000898, 93.00859741707323, 88.68261666098924, 85.43812551329253, 83.27513885567302, 156.77539687990904, 80.03064770797631, 75.70466695189232, 75.70466695189232, 74.62317734350503, 141.67245301867158, 135.17140786341278, 138.33297623417016, 684.9044623220024, 1223.7132444169995, 703.80262103318, 2060.706129259239, 156.32471913826623, 1176.6219760916995, 292.6984093226744, 427.3369938937462, 553.9339198834232, 2435.232196157691, 265.89385829432206, 203.36309370353018, 396.5796857195444, 335.352844492212, 1842.0399253049118, 885.4921273662328, 467.2431972738185, 264.21279547222395, 556.3989826557361, 399.4240035180487, 818.5012813570361, 698.5630830286459, 699.7467328224893, 483.0041983123761, 35.09770976426064, 17.54885488213032, 567.7570543033021, 552.2728091154728, 34.06542311263393, 5318.335123064562, 6867.795825980316, 162.06884054567976, 597.693378117791, 218.84453724215854, 1.0322856281284993, 84.64741809487623, 996.1556107877597, 5.161427799476425, 41.2914223958114, 16.51657005005599, 9.290569857102328, 73.29227584429667, 54.711134310539634, 154.84283034518802, 20.6457111979057, 47.48513502736216, 146.58455168859334, 121.80970116239031, 1.0322856281284993, 1.0322856281284993, 109.42226862107927, 5.161427799476425, 1.0322856281284993, 21.677997849532414, 163.15803651007676, 62.96941660623906, 45.4205653632135, 45.4205653632135, 36.12999641588736, 26.83942564900884, 26.83942564900884, 25.80713899738213, 24.774854165307794, 24.774854165307794, 24.774854165307794, 882.7898138635969, 46.486562347177596, 134.31353839695868, 1153.7230063066434, 609.5951929213578, 79.63497817031136, 3556.151837697841, 1461.0749111322125, 733.2520892843752, 651.0618336693647, 108.2682661567788, 432.8162267113624, 1384.6289957857407, 112.10667181512751, 361.73391508105504, 1358.980227062078, 216.34619248631228, 637.1882303162378, 603.1662800749294, 604.5866541253381, 739.1354504317413, 1646.650101087621, 351.612211146808, 1080.068952836989, 502.08073849600925, 626.0259840243156, 808.2626460800777, 109.61234500488635, 43.84493728325571, 12.52712455305583, 315.2659815439037, 275.59673837048115, 1774.6760085948183, 2706.9029069427625, 144.0619301142082, 37.5813763542881, 176.4236735588547, 238.01537279667554, 28.18603136734254, 25.05424910611166, 14.614978794960724, 3.1317811382639573, 40.71315681877191, 12.52712455305583, 24.01032288353275, 135.71052033357694, 30.273883812500358, 141.97408126254453, 175.37974913302284, 29.229957589921447, 21.922468641627855, 14.614978794960724, 85.60201852785946, 83.51416967619579, 59.503843199168884, 6.263562276527915, 7.307489397480362, 1406.196868005732, 336.1445275564468, 186.86294656512624, 180.59938563615862, 263.1148880511111, 141.97408126254453, 121.09553525000143, 115.87590593385396, 108.56841339206622, 90.82165503099523, 82.47023806337565, 72.0309650571041, 64.72347970230466, 62.63562366365269, 59.503843199168884, 58.459915179842895, 114.8409783216874, 97.09421996061641, 131.57599342972003, 4855.25373856074, 79.37259301688952, 4740.429102769136, 1372.5396354464392, 637.0293297373719, 813.2443327599672, 727.9093817283541, 231.04994094742446, 367.05162996396706, 649.1624186624676, 592.079273046153, 2166.7555854338857, 1176.6219760916995, 396.35922632327157, 400.8325067469963, 557.9881745384348, 808.2626460800777, 3970.8484454467916, 1306.579245299482, 485.38624503109656, 1002.8679310424341, 918.4279932436904, 67.8679427841256, 71.91976057858815, 287.6790423143526, 417.3372117371542, 287.6790423143526, 362.63766799649505, 128.64520970106383, 9.116589158687054, 62.80317229875479, 430.5056178114501, 155.99496750973452, 11.14249805591833, 99.26952541808828, 117.50270900858447, 1626.8046792522214, 242.09609388435632, 60.77725988610879, 4.051817355035708, 159.03383261328878, 8.103634710071416, 90.1529371382549, 15.194314971527197, 664.4980901685402, 25.323859457683568, 42.54408332644204, 151.9431567461014, 94.20475493271745, 349.46926192219917, 1250.9986333047482, 35.453403943839945, 1089.007308992565, 237.0313093373266, 223.86291732468956, 209.68155152865592, 190.43541524725146, 169.16337358403044, 159.03383261328878, 304.97922468509483, 137.76179095006776, 118.5156546686633, 113.45089121412192, 93.19180224180919, 1765.6713491723528, 480.9270109952889, 1061.3629203294872, 1646.650101087621, 1455.5968407259109, 349.453970316378, 827.1314940837508, 746.5882936216306, 1494.5332209546145, 1090.3459881419217, 545.7626922256081, 386.4336989672328, 1291.070275558087, 1372.5396354464392, 637.1882303162378, 485.20917259344003, 102.5923239042939, 431.52233706135075, 633.5340244475404, 98.36171000776315, 685.3590026223243, 494.9814894323548, 451.6177390506325, 228.45301022026766, 2.1153056339616922, 76.151001070216, 502.3851058090017, 582.7667137661288, 2.1153056339616922, 324.69940627014574, 41.24846095750607, 48.65202826681523, 107.88058426533769, 312.00759261903215, 225.2800497978696, 1.0576528169808461, 232.68362411679843, 520.3651728115393, 53.940292132668844, 40.190807483373376, 232.68362411679843, 90.95814269845398, 368.0631846903467, 71.92039418330491, 138.55252099594637, 2.1153056339616922, 760.4762130784181, 467.4825551818622, 230.56831716853304, 207.2999547568532, 188.26220624170412, 184.03159234517335, 124.8030258322214, 114.22650511013383, 105.76528432669198, 101.53467043016121, 171.2990425865544, 340.6936501487236, 2077.2497535291845, 1101.1338645599, 118.4395333021077, 723.5459761251334, 511.64778926965823, 1182.3039508234633, 988.5337994075833, 2435.232196157691, 668.6746702480419, 4740.429102769136, 567.3009946211193, 562.9144437939689, 1469.8826019017329, 592.079273046153, 1384.6289957857407, 813.2443327599672, 414.32828560005623, 273.53966769119126, 4311.109853520666, 67.60486075667461, 265.2190685858771, 157.05129416479886, 43.683141815897855, 10.40074800989233, 1601.715216188928, 71.76516030933169, 798.7774583181355, 766.5351367850432, 1.040074779195474, 8.320598233563793, 131.04942196069214, 78.0056096383173, 13.520972674385137, 24.961795572441734, 63.44456120401754, 34.32246782241944, 766.5351367850432, 1471.7058551683945, 126.88912240803508, 34.32246782241944, 167.45204304644156, 29.12209512509881, 16.641196467127585, 132.0894968488564, 414.9898524815318, 50.96366603304774, 115.44830561223097, 881.0051618947425, 242.3374210462632, 211.13518834934084, 170.57226771093437, 143.53032061866338, 135.20972151334922, 127.92919729619935, 119.60859819088519, 108.1677813950811, 185.1371683780223, 105.04755673058828, 185.17130110089934, 102.96740695425974, 97.7670325134384, 97.7670325134384, 138.3028256284367, 643.0516035531688, 1345.4532482721634, 1432.2949997564197, 234.55073615376867, 698.5630830286459, 3970.8484454467916, 633.5229741539476, 830.6504025710107, 222.98564962118027, 683.0945115211418, 663.4554654406712, 545.7626922256081, 553.6984061712899, 2077.2497535291845, 1469.8826019017329, 366.9307918353658, 2245.0281056794297, 385.57536534580737, 1.0891959643969873, 377.95100785745433, 220.0175822150231, 694.9070451662352, 4.356783857587949, 202.59045369978688, 6.535175786381924, 32.67587806752017, 154.66582607998276, 257.0502527840257, 60.99497054867351, 179.71732591380317, 34.85427086070359, 102.38441978892736, 57.72738481645616, 110.00879110751156, 9.802763247378163, 23.962310352344275, 533.7060199613554, 430.23240723339416, 2.1783919287939746, 13.070351572763848, 1.0891959643969873, 82.77889156539214, 14.159547104966112, 509.7437061514534, 43.56783857587949, 1.0891959643969873, 78.4221059790253, 604.503747706681, 318.0452233326992, 261.4070245401614, 228.7311533877568, 164.4685832766348, 154.66582607998276, 112.18718390069498, 111.09798404654548, 108.91959816847763, 106.7412053752942, 181.84660054714814, 96.9384412635266, 93.67084861619368, 93.67084861619368, 92.58165567715976, 92.58165567715976, 89.3140699449424, 196.98931771357263, 116.48929373295559, 230.6571906289377, 715.7386263691833, 292.32936024942904, 393.1057986726744, 686.7651337579325, 351.4329511215954, 1306.579245299482, 210.19993896938874, 1002.8679310424341, 250.71218722902853, 211.93752641935043, 1469.8826019017329, 3970.8484454467916, 913.1928038743998, 275.19423378764066, 533.662593949749, 4740.429102769136, 1384.6289957857407, 918.4279932436904, 2260.906630352425, 557.9881745384348, 727.9093817283541, 95.93972639652652, 82.0817666851145, 1.0659969839641013, 606.5522663776086, 1.0659969839641013, 11.725967039629374, 267.56525615246926, 265.4332453346488, 47.96986319826326, 162.03153637796117, 20.253942047245147, 411.4748250089301, 1.0659969839641013, 2.1319939679282025, 37.30989551886484, 13.857960575509058, 27.715921151018115, 62.8938214058092, 1.0659969839641013, 132.1836199628693, 2.1319939679282025, 82.0817666851145, 34.11190348685124, 87.41175225300779, 66.09180998143465, 37.30989551886484, 1.0659969839641013, 11.725967039629374, 1.0659969839641013, 13.857960575509058, 1591.5334665989826, 1263.2064551607352, 1103.3068604728314, 845.3355976983437, 672.6441040101486, 612.9482435288595, 490.3586169439718, 447.7187324008255, 356.0429861632821, 262.2352567590234, 526.4483344203389, 140.71160793194065, 116.19367708474206, 94.87373481316891, 89.54374924527563, 85.27976217351626, 85.27976217351626, 73.55379254159577, 72.48779404546185, 71.42179554932794, 438.7911922637141, 1080.068952836989, 686.863395042102, 799.2421360875618, 1358.980227062078, 166.66671750581116, 150.67740875917687, 485.38624503109656, 184.93662780895076, 1494.5332209546145, 141.86211213254796, 4855.25373856074, 1842.0399253049118, 726.1309375335434, 683.0945115211418, 488.1158644879912, 649.1624186624676, 2893.091937986847, 560.0719269981746, 2260.906630352425, 755.2025671161985, 49.657156802076834, 23.794053437148925, 45.519060401903765, 901.0704522646057, 117.93574222185512, 17.586908836889318, 11.379765100475941, 49.657156802076834, 325.8750837390132, 10.345241000432674, 13.448813300562476, 22.759530200951883, 80.6928780756824, 41.380964001730696, 3.103572300129802, 171.73099887948993, 76.55478513089425, 155.17861327879766, 172.76552729876434, 6.207144600259604, 41.380964001730696, 285.5286550673267, 47.58810687429785, 93.10716382081671, 259.6655413362441, 107.5905064044998, 13.448813300562476, 26.89762660112495, 165.52385600692278, 3333.2365518609377, 804.8597100967356, 812.1449128131322, 694.1656529882617, 857.7298141453689, 541.0561103695525, 304.15008368502816, 248.28577018884457, 320.757136830843, 201.7321986445909, 167.59289902393198, 156.21314169807206, 150.0059850039653, 122.0738420774131, 103.45240654894184, 101.38335662116285, 94.1416922400911, 88.96907087602854, 163.46035934983468, 141.62195646474757, 137.4838566091896, 713.6309885599873, 160.7289057945253, 424.5622310700494, 170.50742868582887, 234.74106398837068, 1432.2949997564197, 343.9987728107147, 1090.3459881419217, 630.1765026189096, 3970.8484454467916, 1291.070275558087, 746.5882936216306, 324.31265087757464, 188.49046909151758, 94.24523454575879, 96.3871721648196, 48.1935860824098, 48.1935860824098, 106.02589145059325, 94.24523454575879, 11.780654318219849, 48.1935860824098, 11.780654318219849, 11.780654318219849, 11.780654318219849, 11.780654318219849, 267.7421472014897, 33.20002619780361, 1618.2335539090504, 32.1290573882732, 3.2129057819375637, 468.01330078839754, 121.01944788637998, 91.03233501480653, 2.141937187958376, 5.354843185447157, 6.425811563875127, 3.2129057819375637, 3.2129057819375637, 3.2129057819375637, 1.070968593979188, 1.070968593979188, 670.4263368132546, 589.0327624700554, 295.5873362492802, 295.56030835598017, 195.98725075823043, 195.98725075823043, 137.08398002933606, 99.60007859341083, 174.52920518149833, 87.81942858621532, 81.39361572903289, 81.39361572903289, 77.10974049091126, 74.96780287185045, 66.40005239560722, 59.97423953842478, 59.97423953842478, 58.90327072889438, 490.1946643172906, 53.54843013006183, 399.1623568930399, 415.6209073319688, 163.86648377133017, 2245.0281056794297, 98.47109531310895, 2893.091937986847, 149.70574478603817, 160.70911284338422, 2166.7555854338857, 280.1246750571487, 316.2554578426473, 604.5866541253381, 603.1662800749294, 3556.151837697841, 913.1928038743998, 1291.070275558087, 2260.906630352425, 1182.3039508234633, 289.6566207545577, 556.9113762197408, 808.2626460800777, 988.5337994075833, 425.2996321619443, 562.9144437939689, 668.6746702480419, 733.2520892843752, 918.4279932436904, 311.5592872589106, 246.8756986578913, 18.327017852289263, 944.3804195428929, 5.390299320585057, 149.85031575636233, 25.873435440407725, 156.31867461646425, 307.247039362839, 495.9075212638184, 1.0780598438295028, 362.22809616570817, 46.35657399473142, 5.390299320585057, 300.77869348674255, 71.15194746112125, 1.0780598438295028, 2.1561196876590056, 401.0382493263198, 97.02538290152897, 1.0780598438295028, 115.35239750781687, 4.312239375318011, 71.15194746112125, 106.72792119168187, 3.2341794300509656, 3.2341794300509656, 14.01477807122108, 34.49791500254409, 68.99583000508818, 894.7896206740915, 504.5320170559616, 754.7086796101702, 285.6858518185029, 265.20272624818466, 208.06554549727971, 157.39673659048216, 240.38694362475778, 129.36717720203865, 208.02200762330506, 198.32502650430712, 188.61469257108453, 107.80598316569977, 105.64986570966671, 104.57180373564881, 94.86926544549591, 173.571073564006, 255.39814844579863, 135.8151269051035, 176.76561820062656, 922.2334208035054, 1366.4864346481345, 508.60732535734206, 624.5624150079419, 739.1354504317413, 327.2612397898424, 372.50261107966895, 1842.0399253049118, 2260.906630352425, 1345.4532482721634, 663.4554654406712, 560.0719269981746, 487.84302353165685, 603.433165886486, 471.96249872704595, 658.8024324546491, 445.79243990085297], \"Category\": [\"Default\", \"Default\", \"Default\", \"Default\", \"Default\", \"Default\", \"Default\", \"Default\", \"Default\", \"Default\", \"Default\", \"Default\", \"Default\", \"Default\", \"Default\", \"Default\", \"Default\", \"Default\", \"Default\", \"Default\", \"Default\", \"Default\", \"Default\", \"Default\", \"Default\", \"Default\", \"Default\", \"Default\", \"Default\", \"Default\", \"Topic1\", \"Topic1\", \"Topic1\", \"Topic1\", \"Topic1\", \"Topic1\", \"Topic1\", \"Topic1\", \"Topic1\", \"Topic1\", \"Topic1\", \"Topic1\", \"Topic1\", \"Topic1\", \"Topic1\", \"Topic1\", \"Topic1\", \"Topic1\", \"Topic1\", \"Topic1\", \"Topic1\", \"Topic1\", \"Topic1\", \"Topic1\", \"Topic1\", \"Topic1\", \"Topic1\", \"Topic1\", \"Topic1\", \"Topic1\", \"Topic1\", \"Topic1\", \"Topic1\", \"Topic1\", \"Topic1\", \"Topic1\", \"Topic1\", \"Topic1\", \"Topic1\", \"Topic1\", \"Topic1\", \"Topic1\", \"Topic1\", \"Topic1\", \"Topic1\", \"Topic1\", \"Topic1\", \"Topic1\", \"Topic1\", \"Topic1\", \"Topic1\", \"Topic1\", \"Topic1\", \"Topic1\", \"Topic1\", \"Topic1\", \"Topic1\", \"Topic1\", \"Topic1\", \"Topic1\", \"Topic1\", \"Topic1\", \"Topic1\", \"Topic1\", \"Topic1\", \"Topic1\", \"Topic1\", \"Topic1\", \"Topic1\", \"Topic1\", \"Topic1\", \"Topic1\", \"Topic2\", \"Topic2\", \"Topic2\", \"Topic2\", \"Topic2\", \"Topic2\", \"Topic2\", \"Topic2\", \"Topic2\", \"Topic2\", \"Topic2\", \"Topic2\", \"Topic2\", \"Topic2\", \"Topic2\", \"Topic2\", \"Topic2\", \"Topic2\", \"Topic2\", \"Topic2\", \"Topic2\", \"Topic2\", \"Topic2\", \"Topic2\", \"Topic2\", \"Topic2\", \"Topic2\", \"Topic2\", \"Topic2\", \"Topic2\", \"Topic2\", \"Topic2\", \"Topic2\", \"Topic2\", \"Topic2\", \"Topic2\", \"Topic2\", \"Topic2\", \"Topic2\", \"Topic2\", \"Topic2\", \"Topic2\", \"Topic2\", \"Topic2\", \"Topic2\", \"Topic2\", \"Topic2\", \"Topic2\", \"Topic2\", \"Topic2\", \"Topic2\", \"Topic2\", \"Topic2\", \"Topic2\", \"Topic2\", \"Topic2\", \"Topic2\", \"Topic2\", \"Topic2\", \"Topic2\", \"Topic2\", \"Topic2\", \"Topic2\", \"Topic2\", \"Topic2\", \"Topic2\", \"Topic2\", \"Topic2\", \"Topic2\", \"Topic2\", \"Topic2\", \"Topic2\", \"Topic2\", \"Topic2\", \"Topic2\", \"Topic3\", \"Topic3\", \"Topic3\", \"Topic3\", \"Topic3\", \"Topic3\", \"Topic3\", \"Topic3\", \"Topic3\", \"Topic3\", \"Topic3\", \"Topic3\", \"Topic3\", \"Topic3\", \"Topic3\", \"Topic3\", \"Topic3\", \"Topic3\", \"Topic3\", \"Topic3\", \"Topic3\", \"Topic3\", \"Topic3\", \"Topic3\", \"Topic3\", \"Topic3\", \"Topic3\", \"Topic3\", \"Topic3\", \"Topic3\", \"Topic3\", \"Topic3\", \"Topic3\", \"Topic3\", \"Topic3\", \"Topic3\", \"Topic3\", \"Topic3\", \"Topic3\", \"Topic3\", \"Topic3\", \"Topic3\", \"Topic3\", \"Topic3\", \"Topic3\", \"Topic3\", \"Topic3\", \"Topic3\", \"Topic3\", \"Topic3\", \"Topic3\", \"Topic3\", \"Topic3\", \"Topic3\", \"Topic3\", \"Topic3\", \"Topic3\", \"Topic3\", \"Topic3\", \"Topic3\", \"Topic3\", \"Topic3\", \"Topic3\", \"Topic3\", \"Topic3\", \"Topic3\", \"Topic3\", \"Topic3\", \"Topic4\", \"Topic4\", \"Topic4\", \"Topic4\", \"Topic4\", \"Topic4\", \"Topic4\", \"Topic4\", \"Topic4\", \"Topic4\", \"Topic4\", \"Topic4\", \"Topic4\", \"Topic4\", \"Topic4\", \"Topic4\", \"Topic4\", \"Topic4\", \"Topic4\", \"Topic4\", \"Topic4\", \"Topic4\", \"Topic4\", \"Topic4\", \"Topic4\", \"Topic4\", \"Topic4\", \"Topic4\", \"Topic4\", \"Topic4\", \"Topic4\", \"Topic4\", \"Topic4\", \"Topic4\", \"Topic4\", \"Topic4\", \"Topic4\", \"Topic4\", \"Topic4\", \"Topic4\", \"Topic4\", \"Topic4\", \"Topic4\", \"Topic4\", \"Topic4\", \"Topic4\", \"Topic4\", \"Topic4\", \"Topic4\", \"Topic4\", \"Topic4\", \"Topic4\", \"Topic4\", \"Topic4\", \"Topic4\", \"Topic4\", \"Topic4\", \"Topic4\", \"Topic4\", \"Topic4\", \"Topic4\", \"Topic4\", \"Topic4\", \"Topic4\", \"Topic4\", \"Topic4\", \"Topic4\", \"Topic4\", \"Topic4\", \"Topic4\", \"Topic4\", \"Topic5\", \"Topic5\", \"Topic5\", \"Topic5\", \"Topic5\", \"Topic5\", \"Topic5\", \"Topic5\", \"Topic5\", \"Topic5\", \"Topic5\", \"Topic5\", \"Topic5\", \"Topic5\", \"Topic5\", \"Topic5\", \"Topic5\", \"Topic5\", \"Topic5\", \"Topic5\", \"Topic5\", \"Topic5\", \"Topic5\", \"Topic5\", \"Topic5\", \"Topic5\", \"Topic5\", \"Topic5\", \"Topic5\", \"Topic5\", \"Topic5\", \"Topic5\", \"Topic5\", \"Topic5\", \"Topic5\", \"Topic5\", \"Topic5\", \"Topic5\", \"Topic5\", \"Topic5\", \"Topic5\", \"Topic5\", \"Topic5\", \"Topic5\", \"Topic5\", \"Topic5\", \"Topic5\", \"Topic5\", \"Topic5\", \"Topic5\", \"Topic5\", \"Topic5\", \"Topic5\", \"Topic5\", \"Topic5\", \"Topic5\", \"Topic5\", \"Topic5\", \"Topic6\", \"Topic6\", \"Topic6\", \"Topic6\", \"Topic6\", \"Topic6\", \"Topic6\", \"Topic6\", \"Topic6\", \"Topic6\", \"Topic6\", \"Topic6\", \"Topic6\", \"Topic6\", \"Topic6\", \"Topic6\", \"Topic6\", \"Topic6\", \"Topic6\", \"Topic6\", \"Topic6\", \"Topic6\", \"Topic6\", \"Topic6\", \"Topic6\", \"Topic6\", \"Topic6\", \"Topic6\", \"Topic6\", \"Topic6\", \"Topic6\", \"Topic6\", \"Topic6\", \"Topic6\", \"Topic6\", \"Topic6\", \"Topic6\", \"Topic6\", \"Topic6\", \"Topic6\", \"Topic6\", \"Topic6\", \"Topic6\", \"Topic6\", \"Topic6\", \"Topic6\", \"Topic6\", \"Topic6\", \"Topic6\", \"Topic6\", \"Topic6\", \"Topic6\", \"Topic6\", \"Topic6\", \"Topic6\", \"Topic6\", \"Topic6\", \"Topic6\", \"Topic6\", \"Topic7\", \"Topic7\", \"Topic7\", \"Topic7\", \"Topic7\", \"Topic7\", \"Topic7\", \"Topic7\", \"Topic7\", \"Topic7\", \"Topic7\", \"Topic7\", \"Topic7\", \"Topic7\", \"Topic7\", \"Topic7\", \"Topic7\", \"Topic7\", \"Topic7\", \"Topic7\", \"Topic7\", \"Topic7\", \"Topic7\", \"Topic7\", \"Topic7\", \"Topic7\", \"Topic7\", \"Topic7\", \"Topic7\", \"Topic7\", \"Topic7\", \"Topic7\", \"Topic7\", \"Topic7\", \"Topic7\", \"Topic7\", \"Topic7\", \"Topic7\", \"Topic7\", \"Topic7\", \"Topic7\", \"Topic7\", \"Topic7\", \"Topic7\", \"Topic7\", \"Topic7\", \"Topic7\", \"Topic7\", \"Topic7\", \"Topic7\", \"Topic7\", \"Topic7\", \"Topic7\", \"Topic7\", \"Topic7\", \"Topic7\", \"Topic7\", \"Topic7\", \"Topic7\", \"Topic7\", \"Topic7\", \"Topic7\", \"Topic7\", \"Topic8\", \"Topic8\", \"Topic8\", \"Topic8\", \"Topic8\", \"Topic8\", \"Topic8\", \"Topic8\", \"Topic8\", \"Topic8\", \"Topic8\", \"Topic8\", \"Topic8\", \"Topic8\", \"Topic8\", \"Topic8\", \"Topic8\", \"Topic8\", \"Topic8\", \"Topic8\", \"Topic8\", \"Topic8\", \"Topic8\", \"Topic8\", \"Topic8\", \"Topic8\", \"Topic8\", \"Topic8\", \"Topic8\", \"Topic8\", \"Topic8\", \"Topic8\", \"Topic8\", \"Topic8\", \"Topic8\", \"Topic8\", \"Topic8\", \"Topic8\", \"Topic8\", \"Topic8\", \"Topic8\", \"Topic8\", \"Topic8\", \"Topic8\", \"Topic8\", \"Topic8\", \"Topic8\", \"Topic8\", \"Topic8\", \"Topic8\", \"Topic8\", \"Topic8\", \"Topic8\", \"Topic8\", \"Topic8\", \"Topic8\", \"Topic8\", \"Topic8\", \"Topic8\", \"Topic8\", \"Topic8\", \"Topic8\", \"Topic8\", \"Topic8\", \"Topic8\", \"Topic8\", \"Topic8\", \"Topic8\", \"Topic8\", \"Topic8\", \"Topic8\", \"Topic9\", \"Topic9\", \"Topic9\", \"Topic9\", \"Topic9\", \"Topic9\", \"Topic9\", \"Topic9\", \"Topic9\", \"Topic9\", \"Topic9\", \"Topic9\", \"Topic9\", \"Topic9\", \"Topic9\", \"Topic9\", \"Topic9\", \"Topic9\", \"Topic9\", \"Topic9\", \"Topic9\", \"Topic9\", \"Topic9\", \"Topic9\", \"Topic9\", \"Topic9\", \"Topic9\", \"Topic9\", \"Topic9\", \"Topic9\", \"Topic9\", \"Topic9\", \"Topic9\", \"Topic9\", \"Topic9\", \"Topic9\", \"Topic9\", \"Topic9\", \"Topic9\", \"Topic9\", \"Topic9\", \"Topic9\", \"Topic9\", \"Topic9\", \"Topic9\", \"Topic9\", \"Topic9\", \"Topic9\", \"Topic9\", \"Topic9\", \"Topic9\", \"Topic9\", \"Topic9\", \"Topic9\", \"Topic9\", \"Topic9\", \"Topic9\", \"Topic9\", \"Topic9\", \"Topic9\", \"Topic9\", \"Topic9\", \"Topic9\", \"Topic9\", \"Topic9\", \"Topic9\", \"Topic9\", \"Topic9\", \"Topic9\", \"Topic9\", \"Topic10\", \"Topic10\", \"Topic10\", \"Topic10\", \"Topic10\", \"Topic10\", \"Topic10\", \"Topic10\", \"Topic10\", \"Topic10\", \"Topic10\", \"Topic10\", \"Topic10\", \"Topic10\", \"Topic10\", \"Topic10\", \"Topic10\", \"Topic10\", \"Topic10\", \"Topic10\", \"Topic10\", \"Topic10\", \"Topic10\", \"Topic10\", \"Topic10\", \"Topic10\", \"Topic10\", \"Topic10\", \"Topic10\", \"Topic10\", \"Topic10\", \"Topic10\", \"Topic10\", \"Topic10\", \"Topic10\", \"Topic10\", \"Topic10\", \"Topic10\", \"Topic10\", \"Topic10\", \"Topic10\", \"Topic10\", \"Topic10\", \"Topic10\", \"Topic10\", \"Topic10\", \"Topic10\", \"Topic10\", \"Topic10\", \"Topic10\", \"Topic10\", \"Topic10\", \"Topic10\", \"Topic10\", \"Topic10\", \"Topic10\", \"Topic10\", \"Topic10\", \"Topic10\", \"Topic10\", \"Topic10\", \"Topic10\", \"Topic10\", \"Topic10\", \"Topic11\", \"Topic11\", \"Topic11\", \"Topic11\", \"Topic11\", \"Topic11\", \"Topic11\", \"Topic11\", \"Topic11\", \"Topic11\", \"Topic11\", \"Topic11\", \"Topic11\", \"Topic11\", \"Topic11\", \"Topic11\", \"Topic11\", \"Topic11\", \"Topic11\", \"Topic11\", \"Topic11\", \"Topic11\", \"Topic11\", \"Topic11\", \"Topic11\", \"Topic11\", \"Topic11\", \"Topic11\", \"Topic11\", \"Topic11\", \"Topic11\", \"Topic11\", \"Topic11\", \"Topic11\", \"Topic11\", \"Topic11\", \"Topic11\", \"Topic11\", \"Topic11\", \"Topic11\", \"Topic11\", \"Topic11\", \"Topic11\", \"Topic11\", \"Topic11\", \"Topic11\", \"Topic11\", \"Topic11\", \"Topic11\", \"Topic11\", \"Topic11\", \"Topic11\", \"Topic11\", \"Topic11\", \"Topic11\", \"Topic11\", \"Topic11\", \"Topic11\", \"Topic11\", \"Topic11\", \"Topic11\", \"Topic11\", \"Topic11\", \"Topic11\", \"Topic11\", \"Topic11\", \"Topic11\", \"Topic11\", \"Topic11\", \"Topic11\", \"Topic11\", \"Topic11\", \"Topic11\", \"Topic11\", \"Topic11\", \"Topic11\", \"Topic12\", \"Topic12\", \"Topic12\", \"Topic12\", \"Topic12\", \"Topic12\", \"Topic12\", \"Topic12\", \"Topic12\", \"Topic12\", \"Topic12\", \"Topic12\", \"Topic12\", \"Topic12\", \"Topic12\", \"Topic12\", \"Topic12\", \"Topic12\", \"Topic12\", \"Topic12\", \"Topic12\", \"Topic12\", \"Topic12\", \"Topic12\", \"Topic12\", \"Topic12\", \"Topic12\", \"Topic12\", \"Topic12\", \"Topic12\", \"Topic12\", \"Topic12\", \"Topic12\", \"Topic12\", \"Topic12\", \"Topic12\", \"Topic12\", \"Topic12\", \"Topic12\", \"Topic12\", \"Topic12\", \"Topic12\", \"Topic12\", \"Topic12\", \"Topic12\", \"Topic12\", \"Topic12\", \"Topic12\", \"Topic12\", \"Topic12\", \"Topic12\", \"Topic12\", \"Topic12\", \"Topic12\", \"Topic12\", \"Topic12\", \"Topic12\", \"Topic12\", \"Topic12\", \"Topic12\", \"Topic12\", \"Topic12\", \"Topic12\", \"Topic12\", \"Topic12\", \"Topic12\", \"Topic12\"], \"logprob\": [30.0, 29.0, 28.0, 27.0, 26.0, 25.0, 24.0, 23.0, 22.0, 21.0, 20.0, 19.0, 18.0, 17.0, 16.0, 15.0, 14.0, 13.0, 12.0, 11.0, 10.0, 9.0, 8.0, 7.0, 6.0, 5.0, 4.0, 3.0, 2.0, 1.0, -7.9255, -4.4099, -9.6302, -9.2248, -5.6599, -6.2458, -4.2975, -8.3775, -6.7399, -4.1229, -8.9371, -6.6345, -8.3775, -7.5508, -8.9371, -5.4792, -6.8576, -4.4827, -5.632, -6.5167, -6.5622, -5.433, -8.0208, -6.3916, -8.3775, -5.9045, -6.1802, -5.9667, -6.0059, -7.433, -4.3024, -4.3048, -4.317, -4.3496, -4.4569, -4.7066, -4.7361, -4.8681, -5.103, -5.1304, -5.1817, -5.2358, -5.242, -5.3194, -5.3262, -5.3746, -5.3746, -5.4714, -5.5443, -4.6229, -5.6413, -5.6413, -4.5213, -5.0711, -4.1413, -5.0764, -4.2831, -4.1068, -4.9715, -5.0869, -4.0715, -4.1475, -4.6709, -4.0812, -4.9117, -4.8344, -4.2855, -4.7474, -4.9907, -4.8427, -4.8638, -4.8766, -4.7332, -7.5858, -8.3479, -5.8052, -6.9616, -5.7505, -5.5402, -6.998, -7.1583, -5.5232, -7.5213, -4.6662, -4.8733, -7.7289, -5.0056, -6.5562, -10.2938, -6.7385, -6.2865, -6.7103, -6.4226, -6.3426, -9.1952, -4.4161, -4.3749, -6.8281, -6.3235, -4.383, -7.5213, -4.9467, -3.6818, -5.0844, -5.158, -5.3812, -4.9325, -3.7601, -5.5489, -5.621, -5.7612, -5.8395, -5.8871, -5.9244, -5.95, -5.324, -5.9898, -6.0453, -6.0453, -6.0597, -5.4263, -5.4736, -5.4576, -3.9552, -3.4114, -3.9343, -3.046, -5.3886, -3.6738, -4.8912, -4.5967, -4.4797, -3.4363, -5.0208, -5.2249, -4.8385, -4.9563, -4.0673, -4.4917, -4.83, -5.1177, -4.8258, -4.9708, -4.7448, -4.8049, -4.8258, -4.942, -6.7919, -7.4851, -4.0084, -4.036, -6.8218, -1.7712, -1.5155, -5.2621, -3.957, -4.9617, -10.3183, -5.9116, -3.4462, -8.7089, -6.6294, -7.5457, -8.1211, -6.0556, -6.348, -5.3077, -7.3226, -6.4897, -5.3625, -5.5476, -10.3183, -10.3183, -5.6549, -8.7089, -10.3183, -7.2738, -5.2621, -6.2074, -6.5341, -6.5341, -6.763, -7.0602, -7.0602, -7.0994, -7.1403, -7.1403, -7.1403, -3.64, -6.5341, -5.5308, -3.5373, -4.1321, -6.0556, -2.6216, -3.5316, -4.1445, -4.3496, -5.841, -4.7889, -4.0267, -5.8757, -5.0556, -4.2876, -5.4585, -4.8171, -4.9477, -4.9856, -4.9201, -4.6381, -5.2749, -4.9477, -5.1943, -5.1422, -5.098, -5.6405, -6.5568, -7.8096, -4.5841, -4.7185, -2.8561, -2.4339, -5.3672, -6.711, -5.1646, -4.8651, -6.9986, -7.1164, -7.6554, -9.1959, -6.6309, -7.8096, -7.159, -5.4269, -6.9272, -5.3818, -5.1705, -6.9623, -7.25, -7.6554, -5.8878, -5.9125, -6.2514, -8.5027, -8.3486, -3.0896, -4.5199, -5.1071, -5.1412, -4.769, -5.3818, -5.5409, -5.585, -5.6501, -5.8286, -5.925, -6.0604, -6.1673, -6.2001, -6.2514, -6.2691, -5.6031, -5.7727, -5.4823, -2.095, -5.977, -2.3056, -3.4401, -4.1375, -3.9919, -4.1333, -5.085, -4.7493, -4.3361, -4.5262, -3.7349, -4.4714, -4.9962, -4.9962, -4.8695, -4.7261, -4.2377, -4.7072, -5.1183, -5.0905, -5.1354, -6.0979, -6.04, -4.6537, -4.2816, -4.6537, -4.4221, -5.4584, -8.1054, -6.1755, -4.2505, -5.2657, -7.9047, -5.7177, -5.549, -2.9211, -4.8262, -6.2083, -8.9163, -5.2464, -8.2232, -5.814, -7.5946, -3.8165, -7.0838, -6.565, -5.292, -5.77, -4.4591, -3.1838, -6.7473, -3.3254, -4.8473, -4.9045, -4.9699, -5.0662, -5.1846, -5.2464, -4.6022, -5.39, -5.5405, -5.5841, -5.7808, -2.9193, -4.1845, -3.4848, -3.112, -3.4599, -4.6714, -4.0111, -4.094, -3.5669, -3.9891, -4.5437, -4.8137, -4.2792, -4.3677, -4.6932, -4.9413, -5.6817, -4.2452, -3.8612, -5.7238, -3.7825, -4.108, -4.1996, -4.8812, -9.5633, -5.9798, -4.0931, -3.9447, -9.5633, -4.5296, -6.5929, -6.4278, -5.6315, -4.5695, -4.8951, -10.2564, -4.8628, -4.058, -6.3246, -6.6188, -4.8628, -5.8021, -4.4042, -6.0369, -5.3812, -9.5633, -3.68, -4.1651, -4.8719, -4.9783, -5.0746, -5.0974, -5.4857, -5.5743, -5.6513, -5.6921, -5.1813, -4.5231, -2.8395, -3.454, -5.5469, -4.0319, -4.3871, -3.7795, -4.0358, -3.4891, -4.3429, -3.2726, -4.485, -4.6957, -4.4573, -4.7634, -4.6996, -4.8184, -4.8583, -4.6959, -1.9384, -6.0937, -4.7268, -5.2508, -6.5304, -7.9655, -2.9286, -6.034, -3.6243, -3.6655, -10.2681, -8.1887, -5.4318, -5.9506, -7.7031, -7.09, -6.1572, -6.7716, -3.6655, -3.0132, -5.4641, -6.7716, -5.1867, -6.9359, -7.4955, -5.4239, -4.2791, -6.3763, -5.5586, -3.5288, -4.8171, -4.9549, -5.1682, -5.3408, -5.4006, -5.4559, -5.5232, -5.6237, -5.0919, -5.653, -5.0919, -5.673, -5.7248, -5.7248, -5.3853, -3.8965, -3.6655, -3.644, -5.0423, -4.2326, -2.9469, -4.3385, -4.209, -5.0863, -4.396, -4.6623, -4.8928, -4.9258, -4.5577, -4.7833, -5.0751, -4.9748, -4.3442, -10.2135, -4.3641, -4.9052, -3.7551, -8.8272, -4.9877, -8.4217, -6.8123, -5.2576, -4.7496, -6.1881, -5.1075, -6.7477, -5.6702, -6.2432, -5.5983, -8.0162, -7.1224, -4.0191, -4.2346, -9.5203, -7.7286, -10.2135, -5.8827, -7.6485, -4.065, -6.5246, -10.2135, -5.9368, -3.8945, -4.5367, -4.7328, -4.8664, -5.1962, -5.2576, -5.5787, -5.5885, -5.6083, -5.6285, -5.1015, -5.7248, -5.7591, -5.7591, -5.7708, -5.7708, -5.8067, -5.0317, -5.55, -4.8953, -3.8661, -4.7041, -4.4737, -3.983, -4.6003, -3.4836, -5.0718, -3.8367, -4.9456, -5.0777, -3.6553, -3.0198, -4.217, -4.9612, -4.7287, -4.0418, -4.4769, -4.692, -4.5197, -4.8198, -4.8475, -5.7349, -5.8909, -10.2347, -3.8908, -10.2347, -7.8368, -4.7092, -4.7172, -6.428, -5.2108, -7.2902, -4.2788, -10.2347, -9.5415, -6.6793, -7.6697, -6.9766, -6.1571, -10.2347, -5.4144, -9.5415, -5.8909, -6.7689, -5.8279, -6.1075, -6.6793, -10.2347, -7.8368, -10.2347, -7.6697, -2.9261, -3.1572, -3.2925, -3.5588, -3.7874, -3.8803, -4.1034, -4.1944, -4.4235, -4.7293, -4.0403, -5.3519, -5.5433, -5.746, -5.8038, -5.8526, -5.8526, -6.0006, -6.0152, -6.03, -4.3266, -3.5438, -3.9732, -3.8613, -3.4639, -5.293, -5.4306, -4.5928, -5.293, -3.8478, -5.4811, -3.3359, -3.9656, -4.5963, -4.7172, -4.8923, -4.8053, -4.3969, -4.9464, -4.6625, -3.6713, -6.3931, -7.1288, -6.4801, -3.4947, -5.5281, -7.4311, -7.8664, -6.3931, -4.5118, -7.9618, -7.6994, -7.1733, -5.9076, -6.5755, -9.1657, -5.1524, -5.9603, -5.2537, -5.1463, -8.4726, -6.5755, -4.6439, -6.4357, -5.7645, -4.7389, -5.6199, -7.6994, -7.0062, -5.1892, -2.1866, -3.6076, -3.5999, -3.7556, -3.5477, -4.0048, -4.5808, -4.7837, -4.531, -4.9913, -5.1767, -5.2471, -5.2876, -5.4937, -5.6592, -5.6794, -5.7535, -5.81, -5.2081, -5.3815, -5.4123, -4.0537, -5.3015, -4.6014, -5.2807, -5.0996, -4.0339, -4.8891, -4.2829, -4.5979, -4.0781, -4.5706, -4.8133, -5.1053, -5.0573, -5.7505, -5.728, -6.4212, -6.4212, -5.6327, -5.7505, -7.8299, -6.4212, -7.8299, -7.8299, -7.8299, -7.8299, -4.7064, -6.7938, -2.9073, -6.8266, -9.1292, -4.1479, -5.5004, -5.7852, -9.5347, -8.6184, -8.4361, -9.1292, -9.1292, -9.1292, -10.2278, -10.2278, -3.7885, -3.9179, -4.6074, -4.611, -5.0183, -5.0183, -5.3758, -5.6952, -5.1402, -5.8211, -5.8971, -5.8971, -5.9511, -5.9793, -6.1007, -6.2025, -6.2025, -6.2205, -4.123, -6.3158, -4.3334, -4.2982, -5.2172, -2.6766, -5.717, -2.4618, -5.33, -5.2791, -3.0311, -4.8162, -4.7184, -4.3279, -4.3613, -3.1386, -4.1388, -3.9606, -3.6051, -4.1009, -4.9755, -4.6294, -4.4564, -4.4595, -4.8206, -4.8206, -4.8387, -4.8251, -4.8387, -4.4942, -4.7269, -7.3274, -3.3852, -8.5512, -5.2261, -6.9826, -5.1839, -4.5081, -4.0294, -10.1606, -4.3435, -6.3994, -8.5512, -4.5294, -5.971, -10.1606, -9.4675, -4.2417, -5.6608, -10.1606, -5.4878, -8.7743, -5.971, -5.5655, -9.062, -9.062, -7.5957, -6.6949, -6.0017, -3.4392, -4.0121, -3.6181, -4.5809, -4.6553, -4.8979, -5.177, -4.7579, -5.3731, -4.9031, -4.9511, -5.0016, -5.5554, -5.5756, -5.5859, -5.6833, -5.0854, -4.7139, -5.3323, -5.0792, -3.5233, -3.1667, -4.142, -4.0491, -3.9994, -4.6717, -4.5809, -3.6415, -3.5419, -3.8746, -4.2941, -4.3954, -4.4942, -4.4839, -4.5999, -4.6312, -4.6968], \"loglift\": [30.0, 29.0, 28.0, 27.0, 26.0, 25.0, 24.0, 23.0, 22.0, 21.0, 20.0, 19.0, 18.0, 17.0, 16.0, 15.0, 14.0, 13.0, 12.0, 11.0, 10.0, 9.0, 8.0, 7.0, 6.0, 5.0, 4.0, 3.0, 2.0, 1.0, 2.4271, 2.4271, 2.4271, 2.4271, 2.4271, 2.4271, 2.4271, 2.4271, 2.4271, 2.4271, 2.4271, 2.4271, 2.4271, 2.4271, 2.4271, 2.4271, 2.4271, 2.4271, 2.4271, 2.4271, 2.4271, 2.4271, 2.4271, 2.4271, 2.4271, 2.4271, 2.4271, 2.4271, 2.4271, 2.4271, 2.4271, 2.4271, 2.4271, 2.4271, 2.4271, 2.4271, 2.4271, 2.4271, 2.4271, 2.4271, 2.4271, 2.4271, 2.4271, 2.4271, 2.4271, 2.4271, 2.4271, 2.4271, 2.4271, 2.4169, 2.4271, 2.4271, 2.4005, 2.3455, 2.1256, 2.3079, 2.0796, 1.9092, 2.2238, 2.2445, 1.4437, 1.3714, 1.8097, 1.0901, 1.9599, 1.7876, 0.7188, 1.3367, 1.9613, 1.4086, 1.4597, 0.8747, 2.4299, 2.4299, 2.4299, 2.4299, 2.4299, 2.4299, 2.4299, 2.4299, 2.4299, 2.4299, 2.4299, 2.4299, 2.4299, 2.4299, 2.4299, 2.4299, 2.4299, 2.4299, 2.4299, 2.4299, 2.4299, 2.4299, 2.4299, 2.4299, 2.4299, 2.4299, 2.4299, 2.4299, 2.4299, 2.4299, 2.4273, 2.4299, 2.4299, 2.4299, 2.4253, 2.4125, 2.4299, 2.4299, 2.4299, 2.4299, 2.4299, 2.4299, 2.4299, 2.4232, 2.4299, 2.4299, 2.4299, 2.4299, 2.4223, 2.422, 2.4149, 2.3175, 2.281, 2.3113, 2.1252, 2.3616, 2.0579, 2.2318, 2.1478, 2.0053, 1.568, 2.1981, 2.2621, 1.9807, 2.0306, 1.2161, 1.5242, 1.8252, 2.1076, 1.6548, 1.8412, 1.3498, 1.4481, 1.4256, 1.6801, 2.452, 2.452, 2.452, 2.452, 2.452, 2.452, 2.452, 2.452, 2.452, 2.452, 2.452, 2.452, 2.452, 2.452, 2.452, 2.452, 2.452, 2.452, 2.452, 2.452, 2.452, 2.452, 2.452, 2.452, 2.452, 2.452, 2.452, 2.452, 2.452, 2.452, 2.4453, 2.452, 2.452, 2.452, 2.452, 2.452, 2.452, 2.452, 2.452, 2.452, 2.452, 2.379, 2.4288, 2.3711, 2.2141, 2.2572, 2.369, 2.004, 1.9836, 2.0601, 1.9739, 2.2765, 1.9429, 1.5421, 2.207, 1.8555, 1.3, 1.9667, 1.528, 1.4522, 1.4119, 1.2764, 0.7574, 1.6647, 0.8696, 1.389, 1.2205, 1.0092, 2.4646, 2.4646, 2.4646, 2.4646, 2.4646, 2.4646, 2.4646, 2.4646, 2.4646, 2.4646, 2.4646, 2.4646, 2.4646, 2.4646, 2.4646, 2.4646, 2.4646, 2.4646, 2.4646, 2.4646, 2.4646, 2.4646, 2.4646, 2.4646, 2.4646, 2.4646, 2.4646, 2.4646, 2.4646, 2.4646, 2.4638, 2.4646, 2.4646, 2.4646, 2.4605, 2.4646, 2.4646, 2.4646, 2.4646, 2.4646, 2.4646, 2.4646, 2.4646, 2.4646, 2.4646, 2.4646, 2.4554, 2.4537, 2.4402, 2.2192, 2.4509, 2.0326, 2.1375, 2.2078, 2.1092, 2.0786, 2.2744, 2.1473, 1.9903, 1.8923, 1.3862, 1.2602, 1.8236, 1.8124, 1.6082, 1.381, 0.2776, 0.9197, 1.4988, 0.801, 0.844, 2.4866, 2.4866, 2.4866, 2.4866, 2.4866, 2.4866, 2.4866, 2.4866, 2.4866, 2.4866, 2.4866, 2.4866, 2.4866, 2.4866, 2.4866, 2.4866, 2.4866, 2.4866, 2.4866, 2.4866, 2.4866, 2.4866, 2.4866, 2.4866, 2.4866, 2.4866, 2.4866, 2.4866, 2.4866, 2.4866, 2.4837, 2.4866, 2.4866, 2.4866, 2.4866, 2.4866, 2.4866, 2.4796, 2.4866, 2.4866, 2.4866, 2.4866, 2.4065, 2.4418, 2.35, 2.2836, 2.059, 2.2743, 2.073, 2.0925, 1.9257, 1.8187, 1.9562, 2.0314, 1.3597, 1.2099, 1.6518, 1.6762, 2.4896, 2.4896, 2.4896, 2.4896, 2.4896, 2.4896, 2.4896, 2.4896, 2.4896, 2.4896, 2.4896, 2.4896, 2.4896, 2.4896, 2.4896, 2.4896, 2.4896, 2.4896, 2.4896, 2.4896, 2.4896, 2.4896, 2.4896, 2.4896, 2.4896, 2.4896, 2.4896, 2.4896, 2.4896, 2.4896, 2.4882, 2.4896, 2.4896, 2.4896, 2.4896, 2.4896, 2.4896, 2.4896, 2.4896, 2.4896, 2.4774, 2.448, 2.3238, 2.3439, 2.4808, 2.186, 2.1773, 1.9474, 1.87, 1.5152, 1.9538, 1.0655, 1.9762, 1.7732, 1.0518, 1.6551, 0.8693, 1.2827, 1.9171, 2.4947, 2.4947, 2.4947, 2.4947, 2.4947, 2.4947, 2.4947, 2.4947, 2.4947, 2.4947, 2.4947, 2.4947, 2.4947, 2.4947, 2.4947, 2.4947, 2.4947, 2.4947, 2.4947, 2.4947, 2.4947, 2.4947, 2.4947, 2.4947, 2.4947, 2.4947, 2.4947, 2.4947, 2.4947, 2.4947, 2.4922, 2.4947, 2.4947, 2.4947, 2.4947, 2.4947, 2.4947, 2.4947, 2.4947, 2.489, 2.4947, 2.4888, 2.4947, 2.4947, 2.4947, 2.4873, 2.4394, 1.9321, 1.891, 2.3021, 2.0204, 1.5684, 2.0123, 1.8709, 2.3087, 1.8795, 1.6423, 1.6071, 1.5597, 0.6056, 0.7258, 1.8218, 0.1108, 2.5032, 2.5032, 2.5032, 2.5032, 2.5032, 2.5032, 2.5032, 2.5032, 2.5032, 2.5032, 2.5032, 2.5032, 2.5032, 2.5032, 2.5032, 2.5032, 2.5032, 2.5032, 2.5032, 2.5032, 2.5032, 2.5032, 2.5032, 2.5032, 2.5032, 2.5032, 2.5032, 2.5032, 2.5032, 2.5032, 2.5032, 2.5032, 2.5032, 2.5032, 2.5032, 2.5032, 2.5032, 2.5032, 2.5032, 2.5032, 2.4974, 2.5032, 2.5032, 2.5032, 2.5032, 2.5032, 2.5032, 2.4872, 2.4942, 2.4658, 2.3627, 2.4201, 2.3543, 2.2871, 2.3397, 2.1433, 2.3822, 2.0547, 2.3322, 2.3681, 1.8539, 1.4956, 1.7681, 2.2234, 1.7936, 0.2964, 1.092, 1.2874, 0.5588, 1.6579, 1.3644, 2.5035, 2.5035, 2.5035, 2.5035, 2.5035, 2.5035, 2.5035, 2.5035, 2.5035, 2.5035, 2.5035, 2.5035, 2.5035, 2.5035, 2.5035, 2.5035, 2.5035, 2.5035, 2.5035, 2.5035, 2.5035, 2.5035, 2.5035, 2.5035, 2.5035, 2.5035, 2.5035, 2.5035, 2.5035, 2.5035, 2.5035, 2.5035, 2.5035, 2.5035, 2.5035, 2.5035, 2.5035, 2.5035, 2.5035, 2.5035, 2.4957, 2.5035, 2.5035, 2.5035, 2.5035, 2.5035, 2.5035, 2.5035, 2.5035, 2.5035, 2.3915, 2.2735, 2.2968, 2.2571, 2.1237, 2.3931, 2.3563, 2.0244, 2.289, 1.6447, 2.3661, 0.9783, 1.3179, 1.618, 1.5582, 1.7192, 1.5211, 0.4351, 1.5276, 0.416, 2.5038, 2.5038, 2.5038, 2.5038, 2.5038, 2.5038, 2.5038, 2.5038, 2.5038, 2.5038, 2.5038, 2.5038, 2.5038, 2.5038, 2.5038, 2.5038, 2.5038, 2.5038, 2.5038, 2.5038, 2.5038, 2.5038, 2.5038, 2.5038, 2.5038, 2.5038, 2.5038, 2.5038, 2.5038, 2.5038, 2.5038, 2.5038, 2.5025, 2.5038, 2.5, 2.5038, 2.5038, 2.5038, 2.5004, 2.5038, 2.5038, 2.5038, 2.5038, 2.5038, 2.5038, 2.5038, 2.5038, 2.5038, 2.4974, 2.4674, 2.4663, 2.178, 2.4209, 2.1496, 2.3826, 2.244, 1.5012, 2.0724, 1.5249, 1.7582, 0.4372, 1.0682, 1.3733, 1.9151, 2.5057, 2.5057, 2.5057, 2.5057, 2.5057, 2.5057, 2.5057, 2.5057, 2.5057, 2.5057, 2.5057, 2.5057, 2.5057, 2.5057, 2.5057, 2.5057, 2.5057, 2.5057, 2.5057, 2.5057, 2.5057, 2.5057, 2.5057, 2.5057, 2.5057, 2.5057, 2.5057, 2.5057, 2.5057, 2.5057, 2.5057, 2.5057, 2.5022, 2.5057, 2.5057, 2.5057, 2.5057, 2.4998, 2.5057, 2.5057, 2.5057, 2.5057, 2.5057, 2.5057, 2.5057, 2.5057, 2.5057, 2.4842, 2.5057, 2.4793, 2.4741, 2.4858, 2.409, 2.4954, 2.3702, 2.4634, 2.4434, 2.09, 2.3507, 2.3271, 2.0696, 2.0385, 1.4871, 1.8464, 1.6782, 1.4735, 1.6259, 2.1578, 1.8503, 1.6508, 1.4464, 1.9286, 1.6483, 1.458, 1.3794, 1.1407, 2.5663, 2.5663, 2.5663, 2.5663, 2.5663, 2.5663, 2.5663, 2.5663, 2.5663, 2.5663, 2.5663, 2.5663, 2.5663, 2.5663, 2.5663, 2.5663, 2.5663, 2.5663, 2.5663, 2.5663, 2.5663, 2.5663, 2.5663, 2.5663, 2.5663, 2.5663, 2.5663, 2.5663, 2.5663, 2.5663, 2.5663, 2.5663, 2.5576, 2.5663, 2.5663, 2.5663, 2.5663, 2.5619, 2.5663, 2.5613, 2.561, 2.5608, 2.5663, 2.5663, 2.5663, 2.5663, 2.5601, 2.5454, 2.5585, 2.548, 2.4519, 2.4154, 2.4284, 2.3159, 2.1972, 2.3396, 2.301, 1.642, 1.5367, 1.723, 2.0105, 2.0786, 2.1179, 1.9156, 2.0452, 1.6805, 2.0054]}, \"token.table\": {\"Topic\": [11, 8, 5, 9, 11, 6, 7, 12, 7, 12, 4, 6, 7, 9, 11, 4, 11, 5, 8, 11, 3, 11, 2, 7, 9, 10, 11, 11, 3, 9, 11, 8, 4, 6, 10, 1, 3, 1, 2, 7, 3, 8, 9, 4, 7, 6, 6, 5, 9, 4, 6, 10, 2, 10, 4, 9, 10, 6, 6, 12, 2, 7, 12, 12, 3, 7, 12, 4, 7, 1, 5, 6, 11, 3, 12, 9, 7, 12, 3, 8, 3, 5, 9, 12, 1, 2, 7, 9, 11, 9, 6, 9, 7, 2, 11, 12, 7, 7, 2, 3, 12, 4, 8, 4, 1, 8, 11, 12, 6, 5, 10, 5, 10, 3, 9, 3, 9, 6, 10, 12, 11, 11, 6, 3, 9, 7, 7, 11, 11, 2, 3, 12, 1, 4, 1, 2, 7, 3, 9, 11, 8, 6, 1, 8, 3, 3, 1, 11, 7, 4, 8, 12, 10, 2, 6, 8, 3, 6, 8, 12, 3, 7, 4, 6, 11, 4, 2, 1, 7, 9, 9, 12, 6, 12, 3, 10, 1, 5, 6, 7, 11, 12, 9, 8, 10, 3, 1, 2, 8, 9, 6, 7, 11, 5, 6, 8, 6, 9, 10, 8, 7, 1, 2, 3, 6, 5, 7, 12, 6, 8, 1, 5, 8, 2, 4, 9, 10, 11, 12, 1, 2, 1, 8, 12, 6, 4, 12, 2, 6, 6, 2, 2, 7, 12, 11, 5, 12, 5, 8, 10, 8, 11, 1, 6, 4, 9, 8, 10, 2, 8, 7, 3, 5, 8, 1, 4, 2, 2, 9, 9, 4, 1, 1, 2, 3, 1, 2, 4, 11, 2, 8, 5, 5, 3, 11, 10, 11, 3, 6, 9, 4, 10, 4, 3, 7, 7, 3, 9, 4, 5, 10, 7, 8, 10, 3, 5, 6, 11, 8, 4, 8, 11, 3, 8, 4, 8, 11, 7, 10, 6, 7, 1, 1, 12, 3, 11, 2, 3, 7, 12, 11, 2, 1, 12, 7, 7, 11, 2, 4, 7, 9, 8, 9, 2, 2, 9, 2, 1, 1, 2, 3, 6, 2, 5, 3, 1, 5, 2, 7, 9, 9, 3, 9, 1, 1, 8, 5, 3, 4, 7, 12, 1, 5, 7, 6, 12, 9, 5, 5, 7, 2, 8, 9, 4, 6, 10, 4, 4, 6, 10, 7, 6, 9, 9, 3, 7, 9, 11, 12, 7, 2, 8, 10, 10, 7, 11, 7, 8, 2, 6, 1, 11, 4, 5, 6, 4, 8, 9, 9, 2, 9, 9, 7, 10, 8, 2, 2, 7, 6, 9, 4, 12, 12, 9, 5, 3, 4, 5, 1, 3, 1, 2, 1, 11, 1, 2, 7, 9, 12, 1, 3, 10, 11, 4, 1, 4, 11, 11, 11, 3, 1, 3, 7, 9, 11, 2, 3, 9, 10, 5, 9, 10, 10, 1, 8, 9, 11, 12, 2, 9, 1, 2, 2, 6, 11, 12, 2, 2, 12, 8, 1, 4, 10, 12, 1, 5, 10, 3, 4, 9, 10, 8, 9, 3, 4, 5, 6, 1, 2, 5, 11, 9, 8, 9, 11, 5, 10, 7, 12, 9, 8, 11, 12, 5, 1, 3, 4, 8, 4, 11, 12, 6, 2, 12, 4, 8, 11, 1, 3, 6, 1, 5, 7, 7, 4, 4, 2, 6, 7, 8, 9, 11, 4, 3, 6, 10, 11, 3, 6, 9, 11, 11, 5, 8, 1, 4, 4, 8, 1, 2, 7, 9, 4, 2, 7, 4, 7, 1, 2, 10, 1, 8, 11, 3, 5, 1, 8, 9, 1, 3, 12, 5, 9, 9, 4, 10, 11, 9, 1, 3, 7, 12, 12, 10, 10, 2, 5, 7, 10, 3, 2, 8, 7, 11, 10, 2, 9, 6, 10, 6, 11, 1, 2, 10, 11, 7, 8, 9, 8, 10, 5, 11, 4, 3, 4, 4, 6, 8, 1, 2, 5, 3, 11, 4, 2, 6, 7, 12, 1, 7, 5, 10, 7, 11, 2, 3, 11, 12, 1, 4, 7, 1, 2, 9, 10, 4, 6, 11, 1, 10, 8, 10, 11, 8, 9, 10, 11, 7, 11, 5, 8, 1, 2, 7, 1, 2, 3, 12, 9, 6, 6, 2, 6, 12, 6, 6, 8, 1, 9, 8, 9, 9, 2, 1, 1, 7, 8, 2, 7, 7, 2, 2, 2, 12, 1, 6, 4, 9, 1, 7, 8, 8, 4, 5, 10, 1, 4, 12, 4, 8, 1, 2, 9, 12, 6, 7, 9, 10, 12, 10, 5, 12, 2, 4, 6, 11, 12, 3, 2, 6, 11, 12, 6, 3, 10, 11, 3, 4, 11, 8, 9, 4, 8, 11, 5, 10, 2, 3, 4, 10, 11, 4, 6, 9, 4, 11, 2, 3, 9, 12, 12, 1, 5, 10, 1, 7, 11, 5, 1, 4, 8, 9, 10, 11, 8, 10, 12, 12, 10, 1, 1, 3, 7, 9, 12, 1, 2, 2, 2, 2, 11, 1, 2, 8, 2, 12, 5, 11, 5, 7, 10, 7, 9, 12, 3, 4, 12, 1, 2, 3, 5, 3, 6, 11, 10, 11, 12, 2, 7, 10, 12, 7, 8, 6, 9, 11, 3, 8, 9, 11, 5, 10, 3, 1, 5, 9, 3, 2, 3, 6, 5, 1, 2, 10, 12, 3, 12, 5, 4, 1, 1, 3, 6, 12, 7, 10, 12, 3, 7, 8, 10, 8, 5, 6, 12, 9, 3, 5, 10, 5, 9, 10, 2, 7, 3, 8, 4, 4, 4, 4, 1, 1, 3, 11, 4, 7, 8, 10, 11, 5, 5, 11, 9, 11, 1, 7, 1, 1, 5, 10, 4, 6, 11, 12, 1, 4, 2, 6, 9, 10, 3, 4, 2, 6, 1, 2, 7, 2, 3, 2, 8, 10, 12, 7, 12, 8, 10, 8, 8, 5, 10, 5, 7, 8, 10, 9, 2, 9, 10, 12, 1, 3, 5, 11, 12, 3, 8, 2, 10, 6, 8, 8, 12, 4, 1, 4, 4, 11, 3, 6, 9, 5, 1, 4, 9, 10, 12, 2, 5, 10, 9, 4, 5, 8, 11, 5, 9, 10, 11, 3, 5, 11, 12, 7, 12, 9, 5, 9, 1, 2, 1, 11, 11, 1, 11, 12, 2, 11, 12, 4, 7, 1, 8, 12, 7, 2, 3, 6, 7, 1, 5, 2, 11, 3, 8, 9, 4, 10, 12, 5, 5, 2, 5, 1, 12, 10, 11, 6, 3, 9, 12, 7, 12, 6, 7, 10, 6, 10, 6, 8, 2, 12, 10, 3, 11, 9, 9, 9, 10, 12, 3, 2, 10, 11, 10, 6, 7, 4, 11, 4, 1, 3, 3, 7, 1, 5, 5, 1, 1, 12, 2, 2, 8, 1, 10, 2, 8, 8, 5, 8, 1, 2, 4, 8, 3, 8, 8, 2, 12, 5, 8], \"Freq\": [0.995164046645338, 1.009919302912383, 0.005698564899636801, 0.9915502925368035, 0.001899521633212267, 0.5993291096326637, 0.19213786161753044, 0.2097651883714323, 0.42655462912198583, 0.5742661261324261, 0.11127591192726208, 0.538170774048213, 0.0020231983986774924, 0.0020231983986774924, 0.34697852537318996, 0.3401398870064148, 0.6599729150870735, 0.003285177004540455, 0.47963584266290643, 0.5168678487143649, 0.6388928548874429, 0.36106444792054426, 0.023411755540597236, 0.1322075606998432, 0.41314862718701006, 0.1748995855091676, 0.2561521488559462, 0.9959831567196769, 1.0005130086653706, 0.8740882123913494, 0.12688377276648619, 1.0045186524239644, 0.5214147966594932, 0.3118509549398883, 0.16715211184778012, 0.38364437592425493, 0.6147554457581434, 1.0010689710178842, 0.9944303075247538, 1.0003165375015681, 0.00398863737360517, 0.8416024858306909, 0.15156822019699645, 1.0039752502081358, 1.0072535575723363, 1.0004601820167414, 0.9994761831084867, 1.0001200640435017, 0.9916940126860406, 0.7274181019880256, 0.19070886568974452, 0.0817323710098905, 0.11143209504970453, 0.8855919132897571, 0.9995701146433406, 0.9990038386304698, 0.9988489826334718, 1.0013596826351767, 0.9999756652747825, 1.00141453893083, 0.9997570366019257, 1.0005534522634165, 0.9996849766878843, 0.9992355800747126, 0.21455021432613114, 0.006404484009735258, 0.7781448071828339, 0.9975985447400099, 0.9614693289395277, 0.34762372783638096, 0.6519662405468885, 1.0009257600231156, 1.002056167031506, 0.30846849500564666, 0.6913482497714274, 0.9983677804409822, 0.005042227991222694, 0.9933189142708707, 0.9907406400635841, 1.0015728816615734, 0.0035709699122386442, 0.005356454868357966, 0.37673732574117696, 0.6142068249050469, 0.9497321706261902, 0.9992139330141765, 1.0008738147909035, 0.9380889580768985, 0.995164046645338, 0.9967194775596696, 1.0011069251754199, 0.9952895092204993, 0.9614693289395277, 0.008674593459245835, 0.09975782478132711, 0.8923988021199153, 0.9993597071601482, 1.0032723356243625, 0.933953381172339, 0.06396940966933828, 0.9275923197473075, 1.0046492066306942, 0.9181084329059473, 1.0035366162287456, 0.007139678072243999, 0.13565388337263598, 0.8567613686692799, 1.0013780496126978, 0.9939764793221733, 0.9996030754449007, 1.0105656749908687, 1.0036648594278288, 0.9986355712729725, 1.0257079519375976, 0.9991028789876276, 0.20554243265383973, 0.7943937262026779, 1.0039737485241722, 0.004807183679386663, 0.9950870216330392, 1.0004294794153776, 1.008432924529092, 0.998017052960559, 0.3156778821774596, 0.68433666765743, 0.9984488782804163, 0.9977240066443764, 0.0022701342585765105, 0.9337341968960043, 0.986288755772044, 1.014853869471831, 0.9971617437283554, 0.9984363400945216, 1.001963683319181, 0.9497321355729929, 1.0039011207630746, 0.9996228754011066, 0.9999369872231051, 0.9916940126860406, 1.018619142524275, 0.9991180393831051, 0.9987568814987352, 1.0007244431856257, 1.0021606189840826, 1.000029729191848, 0.9960121876291905, 1.0004459846045628, 1.0000650513832927, 0.9999280867319247, 1.0111391249156347, 0.9983315037049092, 1.000503497682374, 0.9993951031919985, 0.0013149655213435096, 0.9980588306997238, 0.9971509253177754, 0.40227382330955525, 0.1978869436029051, 0.24410871145175886, 0.1559984664898814, 0.9964019809359793, 1.0000244524496382, 0.9978347343046723, 1.007152255426566, 1.0009630639075897, 1.002218248763307, 0.9957723498093674, 0.07026846093831395, 0.5401887934632884, 0.3879404614302749, 0.01697162621633264, 0.9843543205472932, 1.0011069251754199, 0.9855668088199716, 1.0292693911919304, 1.0003476390577863, 1.0024950648831343, 0.9986572154597573, 0.34608251088340536, 0.20947099342942954, 0.030358114989772398, 0.4128703638609046, 1.0016882197935741, 0.9984429471974696, 1.0016507797879766, 0.9687241969183797, 0.11062947125605775, 0.2212589425121155, 0.2110154729513694, 0.4568587424092755, 0.8472741407285346, 0.151161409198159, 0.0014442172853327293, 0.9997872615359082, 1.0008464258958718, 1.000129625643343, 1.0032296706031552, 0.813844505377573, 0.1863543769021992, 1.0006350291553179, 0.9906047600047918, 0.1810915610822696, 0.42254697585862905, 0.01888936918318458, 0.37737674520318765, 0.4451688306828194, 0.3689130587602994, 0.18754797959322483, 0.9986072284664109, 0.9999200872273656, 0.006557823740502628, 0.9935102966861481, 0.994617468981443, 0.3396451616289339, 0.10018310522867833, 0.015882687414302665, 0.08307867262866009, 0.2553447438145582, 0.20525319120021904, 1.0034905639318172, 0.9999075632004784, 0.9995308011171947, 0.009275102021637954, 0.9911109017407413, 1.0022192128050544, 0.9827069651536084, 0.012598807245559084, 0.9994332425625032, 1.0045829623306737, 0.9998283319468644, 1.0030055416358457, 0.9993286135192838, 1.035428466364876, 1.0048916797262497, 0.9973979103883526, 0.997713580498217, 0.9275922906540909, 1.0011156797626455, 0.0031176235387316347, 0.9976395323941231, 1.0011753825758376, 0.9939751192781636, 0.9980235751203917, 1.000735517800904, 0.7824513824742249, 0.21749635690781297, 1.0047224585768197, 1.0038060383688563, 0.1508111286401885, 0.8479569119769089, 0.9984489169047766, 0.999506024720084, 0.9872113008049715, 1.0026710726663113, 1.0024950122600638, 0.9995700434051465, 0.9957723498093674, 0.10711245081636218, 0.8933634195747655, 0.9990038386304698, 1.0001825596420486, 1.0002010144194382, 0.527945721571311, 0.4720455863461134, 0.9995752388586975, 0.010198687636159522, 0.6892613060771143, 0.30001139463035925, 0.0008498906363466268, 0.9826463454694659, 0.017169895821375077, 0.9991919921644405, 0.9872113181083785, 0.675074789739911, 0.32458141405676527, 0.9968173962239043, 0.003497604899031243, 0.05804745155923074, 0.7380318841102194, 0.20316608045730758, 1.0058173977528184, 1.0001743035481891, 0.9579213351186818, 1.0010150270081062, 0.9999745185058144, 1.0032723356243625, 0.9680216761120033, 0.021511592802488964, 0.9921328113729204, 0.9872113300044711, 0.9999290323812136, 0.005499140467796239, 0.9953444246711192, 1.0069042051539452, 0.3970569259799975, 0.43472240512434507, 0.05335942878782575, 0.1161352273617384, 0.988732188693369, 0.4247401841374959, 0.4301166421645528, 0.14516436673053656, 1.0090876754789329, 1.0001337658531617, 0.6800297020827893, 0.3200947890611917, 1.018619142524275, 1.0023828838880793, 1.0005448541462858, 1.0011068601277713, 0.9973004626386303, 0.9968819516436931, 0.949732155603391, 0.9275922906540909, 0.35396084008767287, 0.6467228433377575, 0.25642556644856507, 0.0012038758988195542, 0.5357247749747016, 0.20586277869814376, 1.001396080616836, 0.98243607236075, 0.9903797745624014, 0.009432188329165729, 1.0015305160018395, 0.9929929186114477, 0.9999715803196723, 0.7535036858523478, 0.002340073558547664, 0.24336765008895705, 1.0060664099427898, 0.9999200872273656, 0.9967195179567047, 0.9970092956674922, 1.0039011207630746, 0.9986108720360293, 1.0567380088728118, 1.00085086325403, 0.8332582281409809, 0.13466799646722924, 0.029458624227206395, 0.9985530399309299, 1.001699536724978, 1.000374108680614, 1.0059827789570113, 0.949732155603391, 0.9983035811909227, 0.17480226526818868, 0.8228496877258638, 1.0005290999917038, 1.000084438566693, 0.9687241969183797, 1.0102496629079727, 1.0024950319937147, 0.9998194173494994, 1.0041810984908799, 0.9872113371421268, 0.006628737408100062, 0.25686357456387743, 0.21543396576325202, 0.5220130708878798, 0.04158635207161595, 0.9564860976471669, 0.0020793176035807976, 0.0073629500835994365, 0.993998261285924, 0.9380889580768985, 1.0000010924834093, 0.5881677230280603, 0.4122670955804161, 0.18925401860445318, 0.005407257674412948, 0.8056813934875292, 0.9728218397862213, 0.022800511869989562, 1.0015664098052492, 1.0070454664693511, 0.7008963690721939, 0.2988031889202511, 0.9995065472834669, 0.9614693087928703, 0.9963226543363815, 1.00073816165104, 0.9874620927297614, 0.9972160643837753, 1.0002786028568371, 1.0006282444795012, 0.9395857977708705, 0.062224225017938437, 0.9986076395267127, 1.0011451521575638, 1.0020215478702665, 0.9999218127012948, 1.0086553795214033, 0.9958074745455529, 0.9959831567196769, 1.0001777992792935, 1.0711265050569385, 0.13531506458531464, 0.8645633656726145, 0.9497321706261902, 1.018619142524275, 0.5641136503252739, 0.00168896302492597, 0.4340634974059743, 0.21353469451143028, 0.6980058831341377, 0.08878145004776312, 0.9380889580768985, 1.0016995606549732, 0.9940943020812656, 0.9988460411668689, 1.0006064473664007, 0.9999601015655133, 0.9998578084832549, 1.0007930156816358, 0.9978770078665182, 0.002479197535072095, 0.9454898468994574, 1.0006282444795012, 1.0001825596420486, 0.997961378464562, 0.9991959585246083, 0.9998053688888834, 0.9990342260232279, 1.0090876754789329, 1.0263442876271591, 0.9972849127972242, 0.3793802481216193, 0.6205247783041871, 0.5391814315836388, 0.46010148828470515, 0.999718001194491, 0.9973979103883526, 1.036071448435884, 0.5558003476122299, 0.18526678253740994, 0.15522352050431645, 0.10515141711582728, 0.3997077496712495, 0.6007168492169067, 0.9666280369477874, 0.9993640810483653, 0.9978347036365367, 0.00870769314763973, 0.9926770188309291, 0.9337341593099284, 0.9337341968960043, 0.9337341968960043, 1.000485686471453, 0.3736974715258748, 0.6262512572274275, 0.0003456509580182399, 0.1265082506346758, 0.8731143199540741, 0.19835712610755973, 0.10314570557593107, 0.2237468382493274, 0.4744702456492829, 0.512681301237786, 0.1118910890000177, 0.37602743024596114, 1.003806059861064, 0.019461219410525317, 0.14286304249090176, 0.12384412352152474, 0.35605185512438364, 0.3569364560066802, 0.9913339079474821, 0.007398014238414045, 0.2625313684074269, 0.7376112384090369, 0.0033832247597701407, 0.5810688524905216, 0.4152908392617848, 0.9821565158649957, 0.9973706698947211, 0.3607717882811521, 0.6395499883165878, 1.0024245053613166, 1.0024950319937147, 1.0058173400476575, 0.9997613638941244, 0.999597175529034, 0.7402300285246525, 0.2554519314124291, 0.004354294285439132, 0.9687241328865227, 0.3811397663074442, 0.6201247008569768, 1.0024291063549768, 0.8690323214150074, 0.13133285886336124, 0.122443341866468, 0.7739047120534452, 0.10360590465624216, 1.0011069251754199, 0.17765726886022992, 0.8199566255087535, 0.0034164859396198064, 0.9337341968960043, 0.9997218720522594, 0.006102529187087851, 0.012205058374175702, 0.982507199121144, 0.03636790619143713, 0.9601127234539402, 0.12976612154303738, 0.8710059370237205, 0.9996030006316338, 0.8728987410844342, 0.1273960324825931, 1.0001864838346188, 1.000612350973304, 1.0005693982478905, 0.45504676722730625, 0.005688084590341328, 0.5403680360824261, 0.9921328113729204, 0.9337341968960043, 0.9978644651827094, 0.995252459571699, 0.9952534666807601, 0.007058535224686242, 0.21736580625121135, 0.49094690722256357, 0.29044568938739446, 1.0010690477098734, 1.0007103798879358, 0.9980170835826995, 0.9972187129069586, 0.9972384859424434, 0.0027548024473548157, 1.0023828838880793, 0.9999354125891328, 1.0010709220794949, 0.04013926004952086, 0.23743392808953864, 0.17076193682084298, 0.5224907070852884, 0.0006803264415173027, 0.028573710543726715, 1.0083382311823188, 0.3445660961187721, 0.4322014038021592, 0.21709655767020902, 0.005975134614776395, 0.002935188253621599, 0.9598065589342629, 0.002935188253621599, 0.035222259043459186, 0.9998392994950841, 0.9998679105413789, 1.0005508276610142, 0.9968819516436931, 0.9992110753728104, 0.9957627329286872, 0.003800621118048425, 1.000481187750408, 0.3359229463674125, 0.39191010409531457, 0.27090560190920365, 1.0021330672501403, 0.9950540907863049, 0.006378551864014775, 0.005401400533242197, 0.9938576981165642, 0.6277589214437574, 0.2735646676016374, 0.09790735472058602, 0.20691294641536775, 0.23042578123529592, 0.5619567521962828, 0.18340265475982265, 0.8162025430370915, 0.9211238769046447, 0.009165411710493976, 0.06874058782870483, 0.0627864804496681, 0.9166826145651543, 0.01255729608993362, 1.0015187243180073, 1.0016248142744026, 1.0102496629079727, 0.9942980877172407, 1.0105656749908687, 0.9998556735469449, 1.0006282238799038, 0.949732155603391, 0.9961409260984933, 1.0032723551235854, 0.9969450352534459, 0.999370296870611, 1.0234885599818546, 0.9666280369477874, 0.8935552820391366, 0.001460057650390746, 0.10512415082813371, 0.9666280369477874, 1.0074731647951147, 1.0050496731700445, 1.0008209250897147, 0.09220374545705477, 0.9077837354660755, 0.995626911310876, 0.9948720139790008, 0.9983331529769833, 0.9454898468994574, 0.9984949044709145, 1.0013596826351767, 0.999944379205805, 1.009090431290327, 0.990691883318261, 1.0038060383688563, 1.0000650513832927, 1.0007129386439488, 1.0201205259827721, 0.9986108720360293, 1.0000824568203124, 1.0013275092286131, 0.010155264312032845, 0.9850606382671859, 1.0007334436141195, 0.9232129648280325, 0.07445265845387358, 0.6490973566512283, 0.24069550989244443, 0.11011661364053986, 0.3361013357470478, 0.0024179952212017826, 0.6613216929986876, 1.0171604067642988, 1.018619142524275, 1.037748123676859, 0.0021954114756891014, 0.1331882961918055, 0.004390822951378203, 0.8598694946448981, 1.0028227536863994, 1.0025076308992416, 0.035305260037447626, 0.967364125026065, 0.9906047600047918, 1.0004295254391464, 1.0035788675499284, 0.9687241328865227, 0.9337341968960043, 0.9275922906540909, 0.9955023412668691, 0.9909531326011343, 1.0215611619982483, 0.002981933853920906, 0.6709351171322039, 0.07454834634802265, 0.253464377583277, 0.0643063090516788, 0.5847387637024747, 0.3514414564452214, 1.00167064870731, 1.0069042051539452, 0.9946175128332029, 1.0013571729551705, 0.999755800680013, 0.755829790243743, 0.24346440358812874, 0.1644240398401996, 0.8379302030317864, 0.020400058849941404, 0.9792028247971875, 0.07867837832086154, 0.9201949464483371, 0.9497321706261902, 0.9918926898370092, 1.0058448348077749, 1.0024949991042973, 1.0033389652224423, 0.9687241328865227, 1.0040947583292494, 1.0013308761068564, 0.9998283319468644, 1.0000373964845968, 0.2086172659650392, 0.21983324800617035, 0.569771887689462, 0.9992334450115086, 0.03468350576102239, 0.9624672848683712, 0.8153677863581718, 0.18364139332391255, 0.10199996888645306, 0.8939997272989121, 1.0020495257804092, 1.0024196487860084, 1.002079573786606, 0.6271373000529269, 0.0026573614409022323, 0.3693732402854103, 0.17041455387176885, 0.8296498017441378, 0.9996733922819825, 0.9982900954991341, 0.9996170503569065, 0.8880330668312971, 0.11224737964747596, 1.00038452795215, 0.9454898468994574, 1.0042723336101087, 0.9967194775596696, 0.009514750621746178, 0.10466225683920795, 0.8848718078223945, 0.996245329223725, 1.0000358686885253, 0.29913164833318867, 0.7018994582936238, 0.17312274496145413, 0.8266611071909434, 1.002549274878403, 1.0001825636925346, 1.0007381759837013, 0.5962785932049548, 0.4042949552412383, 0.9380889580768985, 1.0010996280687245, 0.0015784747211977155, 0.6171836159883067, 0.022098646096768017, 0.23992815762205275, 0.11838560408982866, 0.9998962947308475, 0.8098348396035853, 0.19172768287434702, 0.9963855169421992, 0.5272994448463755, 0.25734231279583875, 0.07821187937912746, 0.13876301180167777, 0.9980794862750533, 0.13757207021830292, 0.5647695514225067, 0.2582493247957616, 0.038616721464786785, 1.0015782803859532, 0.03339885190876329, 0.006679770381752657, 0.9618869349723826, 0.23630932460669088, 0.33899871697504347, 0.4256042286110035, 0.8623632649140177, 0.13736759972081697, 0.18945665138828793, 0.6381697730973909, 0.1715081265199238, 0.872463115361647, 0.12813713141380562, 0.0035912356712405513, 0.2513864969868386, 0.21008728676757227, 0.014364942684962205, 0.5189335544942597, 0.6223404010854485, 0.0030808930746804384, 0.3743285085736733, 0.003383404238418831, 0.9981042503335552, 0.29695338981833164, 0.0005428763982053595, 0.30563941218961743, 0.39684264708811784, 0.9275922731981618, 0.0026788526113879787, 0.6737314317640767, 0.32280173967225145, 1.009090431290327, 0.02505246255643193, 0.9745407934452021, 0.9992504264859303, 0.007621718906103356, 0.19816469155868724, 0.2961582203514447, 0.23409565211603164, 0.007621718906103356, 0.2558719918477555, 0.8052243377208468, 0.1936615495784315, 1.003314100666209, 1.0009988917466215, 0.9907937378714821, 0.9949574333937323, 0.9994274148739286, 0.7849666623331637, 0.053520454249988435, 0.1605613627499653, 0.9275922906540909, 0.004321307764276567, 0.9939007857836104, 0.9998201545205676, 1.004185146611262, 0.9966960264557484, 1.0004295254391464, 0.024586565383831024, 0.8457778492037872, 0.12785013999592132, 0.005761328656132558, 0.9909485288547999, 1.0040867624845915, 0.9993873826152546, 0.08657434398715894, 0.546675091467302, 0.36724278175198066, 1.0001998665905776, 0.9380889580768985, 0.9999046242437373, 0.20670996043979845, 0.02416090446698943, 0.7677798530621086, 0.7060409811724879, 0.0015973777854581175, 0.2923201347388355, 1.0000322605936962, 0.3680577103421989, 0.0049737528424621475, 0.6266928581502306, 0.002118812411361392, 0.4046931705700258, 0.5932674751811897, 0.9993645467253115, 0.9991740089163078, 0.9997317711498626, 1.0002351159658625, 0.5096328903459892, 0.4905557233276902, 0.9992982374097669, 0.7819908032620636, 0.2189574249133778, 0.5501281237492186, 0.3372644778764054, 0.1078140544031132, 0.002764462933413159, 0.9872112718835642, 0.9988490271165069, 0.9998437886751081, 0.005352841869175781, 0.5707467643008677, 0.4235436128985337, 1.002834188914322, 0.0016404328833495366, 0.8234973074414673, 0.17552631851840042, 0.9997872615359082, 0.3615593873221851, 0.3658466527845035, 0.0028581769748789337, 0.27009772412605926, 0.005301813906268851, 0.9967410143785439, 1.0011156797626455, 1.0263442876271591, 0.9988562042866121, 0.07023189328459996, 0.9300061997847833, 0.019577275835502447, 0.9788637917751223, 0.0061176911881113604, 0.9910659724740404, 0.9978644651827094, 0.005076417399719232, 0.010152834799438465, 0.984824975545531, 0.9907937378714821, 0.9181084329059473, 1.000999157107718, 0.004159959708797631, 0.994230370402634, 0.9380889580768985, 0.9907406400635841, 0.9978264904689398, 0.9962187420703053, 0.01991008489397909, 0.8627703454057606, 0.11946050936387453, 0.05442798028433208, 0.9454917717963973, 0.8405048240841565, 0.15701738471901824, 1.0035366162287456, 1.037748123676859, 0.9579213449324854, 1.0083382311823188, 1.002010982295444, 1.0015357270359153, 0.00572970007489617, 0.9912381129570375, 0.11231856519515618, 0.39613700235870103, 0.36516125455824316, 0.1266731800295147, 0.9959831567196769, 1.0011483756961481, 0.9872112914611321, 0.9996447963814037, 1.0233697535942663, 0.9959831567196769, 0.9984363703310725, 0.9961168281348646, 0.9919424331836422, 0.24325000705482114, 0.6340026779620338, 0.12421276955990866, 0.08527050696458657, 0.48852894615127723, 0.4245760659278373, 0.0017764688950955537, 0.9750927703506381, 0.025145658834257144, 0.20042388054894894, 0.20967421349736196, 0.037001331793652115, 0.5550199769047817, 1.0090876754789329, 0.9995700647766036, 0.9994980129258558, 0.9454898468994574, 0.33601345277156236, 0.5457543341194165, 0.11771171912379573, 0.9831350680244102, 0.014457868647417797, 0.7935497320379653, 0.169240464178713, 0.037608992039714, 0.9974793849029132, 0.9936744998067433, 0.005400404890254039, 0.9181084329059473, 1.005815637367991, 1.0005027896283047, 0.9998045021022877, 1.0011156797626455, 1.000383325596893, 0.007230510262216857, 0.9905799059237094, 0.987215187892119, 0.00858447989471408, 1.0102496629079727, 0.01541412883736529, 0.12891816845796425, 0.7216614864766477, 0.13452330621700617, 0.9939057164492108, 1.0059827789570113, 1.0017291372904593, 0.9696336081527099, 0.03127850348879709, 0.9929423018413392, 1.0011013013080123, 0.990691863032236, 0.9988490271165069, 0.7309715938260167, 0.2677623218025783, 1.0015728720270096, 1.0017996852178606, 0.9933998736850168, 0.9997180485424291, 0.9991563265322787, 0.9991488617042438, 0.0007111379798606718, 1.0004279043207944, 1.0018722556367161, 1.0233697535942663, 1.010716335572674, 0.01029927425551822, 0.9887303285297492, 0.9932706733335557, 0.9666280369477874, 1.0000604383614418, 0.9931380338570094, 0.3517454408669657, 0.648258126556474, 1.0002931345213961, 0.7212906457728542, 0.27904476498081127, 1.0045186524239644, 1.004015271998145, 0.32376239149283526, 0.00077455117582018, 0.23778721097679525, 0.43684686316258153, 1.0052798336773785, 0.003452363689788938, 0.7077345564067323, 0.2899985499422708, 0.570068117182804, 0.4303382527364323, 0.9992686639296627, 0.9979418550001694, 0.9998365626142174, 0.3466117403325055, 0.6535075520852448, 1.0447053182834805, 1.0016421714772143, 0.9337341968960043, 0.9976178067947634, 1.018619142524275, 0.9923080166629237, 0.6379550166342057, 0.3631048316020775, 0.9275922731981618, 0.9995701146433406, 0.9993224529505262, 0.1986180827333573, 0.00305566281128242, 0.7975279937447116, 0.9995472838010859, 0.3750556053779558, 0.001431509944190671, 0.001431509944190671, 0.6227068257229419, 0.8873891479021808, 0.1109236434877726, 0.9246457482968984, 0.9959831567196769, 0.9929023630410921, 0.006129026932352421, 0.9998792669285659, 1.0035365997789425, 0.9985902604386618, 0.0012313073494928013, 0.9960256705848971, 1.0027578974744618, 1.0004363892802064, 0.9872113300044711, 1.0024949991042973, 0.9275922906540909, 1.0028765883333295, 0.9939751192781636, 0.998017052960559, 0.9687242158907834, 0.9380889580768985, 0.9997383890609869, 1.0016828722235944, 0.9275923197473075, 0.986578777371784, 0.005837744244803455, 0.005837744244803455, 1.0004003080964656, 0.9666280369477874, 0.9989677578841963, 0.9964835333880092, 0.9246457151630588, 1.0009275584664956, 1.0086553795214033, 1.0041653001716908, 0.9973979103883526, 1.0050952831277438, 0.9380889580768985, 0.08088153114548735, 0.9208051238101637, 1.0007357785576232, 0.9897834337612683, 1.0113312509595955, 1.0012880363795473, 0.9985768271269931, 0.9666280369477874, 0.9878458377707734, 0.00844312681855362, 1.0014632307766167, 0.9337341968960043, 0.9579213449324854, 0.21148923846210294, 0.787884089188736, 1.001562263397691, 1.0006064473664007, 0.07702452671260092, 0.9231616069230846, 1.0031340407505038, 1.0055987492491216, 1.0010689710178842, 0.998945536551062, 0.98243607236075, 1.0039011207630746, 1.0035139148269594, 0.23004070562905524, 0.7710623651640556, 1.0050497232779292, 1.0021606189840826, 1.009919276196542, 1.0042321661824767, 0.9994598100247988, 0.25358347948384485, 0.7229021579315578, 0.0037848280519976844, 0.015139312207990738, 0.9687241328865227, 0.9181084329059473, 0.9181084329059473, 0.8613128972892222, 0.13810425013460964, 1.0019457966523966, 1.0035139148269594], \"Term\": [\"abl\", \"academ\", \"access\", \"access\", \"access\", \"accord\", \"accord\", \"accord\", \"account\", \"account\", \"achiev\", \"achiev\", \"achiev\", \"achiev\", \"achiev\", \"action\", \"action\", \"activ\", \"activ\", \"activ\", \"adapt\", \"adapt\", \"addit\", \"addit\", \"addit\", \"addit\", \"addit\", \"addition\", \"address\", \"adequ\", \"adequ\", \"administr\", \"adopt\", \"adopt\", \"adopt\", \"advers\", \"advers\", \"affect\", \"afghanistan\", \"afolu\", \"agenc\", \"agenc\", \"agenc\", \"agenda\", \"aggreg\", \"agre\", \"agreement\", \"agricultur\", \"aid\", \"aim\", \"aim\", \"aim\", \"air\", \"air\", \"align\", \"alloc\", \"altern\", \"ambit\", \"ambiti\", \"analysi\", \"annual\", \"anthropogen\", \"appli\", \"applic\", \"approach\", \"approach\", \"approach\", \"approv\", \"ar_gwp\", \"area\", \"area\", \"articl\", \"aspect\", \"assess\", \"assess\", \"assist\", \"assumpt\", \"assumpt\", \"attent\", \"author\", \"avail\", \"avail\", \"avail\", \"avail\", \"avalanch\", \"averag\", \"avoid\", \"awd\", \"bangladesh\", \"bank\", \"barbado\", \"barrier\", \"bartica\", \"base\", \"base\", \"base\", \"bau\", \"bau_scenario\", \"becom\", \"becom\", \"bei\", \"beliz\", \"beneath\", \"beneficiari\", \"benefit\", \"benefit\", \"benefit\", \"biennial\", \"bind\", \"biodivers\", \"biofuel\", \"biolog\", \"biomass\", \"brought\", \"budget\", \"build\", \"build\", \"cabo\", \"calcul\", \"calcul\", \"cambodia\", \"canada\", \"capabl\", \"capac\", \"capac\", \"captur\", \"carbon\", \"carbon\", \"casebycas\", \"cash\", \"catastroph\", \"categori\", \"caus\", \"cca\", \"ccvi\", \"centuri\", \"ch\", \"chang\", \"channel\", \"check\", \"chile\", \"circumst\", \"citi\", \"civil\", \"climat\", \"climaterel\", \"coastal\", \"cobenefit\", \"coeq\", \"coher\", \"collabor\", \"collect\", \"commerci\", \"commit\", \"commit\", \"committe\", \"commun\", \"commun\", \"commun\", \"commun\", \"communitybas\", \"compar\", \"compat\", \"complianc\", \"compon\", \"comprehens\", \"compromis\", \"condit\", \"condit\", \"condit\", \"conduct\", \"conduct\", \"confer\", \"confirm\", \"confront\", \"connect\", \"consequ\", \"conserv\", \"consid\", \"consid\", \"consid\", \"consid\", \"constraint\", \"consult\", \"consumpt\", \"contin\", \"continu\", \"continu\", \"continu\", \"continu\", \"contribut\", \"contribut\", \"contribut\", \"control\", \"convent\", \"coordin\", \"cop\", \"cost\", \"cost\", \"council\", \"count\", \"countri\", \"countri\", \"countri\", \"countri\", \"cover\", \"cover\", \"cover\", \"cp\", \"creat\", \"crop\", \"crop\", \"cso\", \"current\", \"current\", \"current\", \"current\", \"current\", \"current\", \"cyclon\", \"dai\", \"damag\", \"data\", \"data\", \"date\", \"de\", \"de\", \"decad\", \"decemb\", \"decis\", \"declin\", \"decreas\", \"deem\", \"default\", \"defin\", \"deforest\", \"deform\", \"degrad\", \"demand\", \"demand\", \"depart\", \"descript\", \"desertif\", \"determin\", \"develop\", \"develop\", \"dialogu\", \"diesel\", \"differ\", \"differ\", \"dioxid\", \"disast\", \"discharg\", \"discuss\", \"diseas\", \"document\", \"dollar\", \"domest\", \"domest\", \"donor\", \"draft\", \"drought\", \"due\", \"due\", \"earli\", \"econom\", \"econom\", \"econom\", \"econom\", \"economi\", \"economi\", \"ecosystem\", \"ecowa\", \"effect\", \"effect\", \"effici\", \"effici\", \"effort\", \"effort\", \"effort\", \"elabor\", \"electr\", \"elig\", \"emerg\", \"emiss\", \"emit\", \"emphasi\", \"emphasi\", \"enact\", \"endur\", \"energi\", \"engag\", \"engag\", \"engin\", \"enhanc\", \"enhanc\", \"enhanc\", \"enhanc\", \"enjoi\", \"ensur\", \"ensur\", \"ensur\", \"entail\", \"environ\", \"environment\", \"environment\", \"envis\", \"eq\", \"equip\", \"equit\", \"equival\", \"eros\", \"errat\", \"error\", \"establish\", \"establish\", \"estim\", \"estim\", \"estim\", \"estim\", \"evalu\", \"even_though\", \"event\", \"event\", \"eventu\", \"exclud\", \"exist\", \"expect\", \"expect\", \"expect\", \"expenditur\", \"expert\", \"expertis\", \"export\", \"extend\", \"extern\", \"extra\", \"extrem\", \"face\", \"face\", \"face\", \"fair\", \"fall\", \"farm\", \"favor\", \"fed\", \"fertil\", \"figur\", \"figur\", \"financ\", \"financi\", \"firmli\", \"fit\", \"flash\", \"flood\", \"focal_point\", \"fodder\", \"follow\", \"follow\", \"follow\", \"follow\", \"food\", \"food\", \"food\", \"forecast\", \"forecast\", \"forerunn\", \"forest\", \"forestri\", \"forestri\", \"form\", \"form\", \"form\", \"formul\", \"formul\", \"fossil_fuel\", \"foster\", \"framework\", \"framework\", \"fuel\", \"fugit\", \"fulfil\", \"fund\", \"fund_gcf\", \"fundament\", \"ga\", \"gambia\", \"gap\", \"gap\", \"gase\", \"gdp\", \"gender\", \"gener\", \"geotherm\", \"ggcoe\", \"ghana\", \"ghg\", \"girl\", \"global\", \"global\", \"glof\", \"go_beyond\", \"goal\", \"goal\", \"goal\", \"govern\", \"govern\", \"govern\", \"gpglulucf\", \"gradual\", \"grant\", \"green\", \"greenhous\", \"grid\", \"group\", \"grow\", \"growth\", \"growth\", \"guadeloup\", \"guarante\", \"guid\", \"guidanc\", \"guidelin\", \"guinea\", \"ha\", \"harm\", \"harmoni\", \"harvest\", \"health\", \"health\", \"high\", \"high\", \"highli\", \"highlight\", \"hotspot\", \"howev\", \"howev\", \"howev\", \"howev\", \"human\", \"human\", \"hydrogen\", \"identifi\", \"ii\", \"iii\", \"iii\", \"iiii\", \"iiiii\", \"iiiiii\", \"immedi\", \"impact\", \"impact\", \"implement\", \"implement\", \"implement\", \"import\", \"import\", \"import\", \"import\", \"improv\", \"improv\", \"improv\", \"incent\", \"includ\", \"includ\", \"includ\", \"includ\", \"includ\", \"incom\", \"incom\", \"increas\", \"increas\", \"indc\", \"indc\", \"indc\", \"indepth\", \"index\", \"indic\", \"indic\", \"indigen\", \"indirectli\", \"indonesia\", \"industri\", \"inform\", \"infrastructur\", \"infrastructur\", \"infrastructur\", \"infrequ\", \"initi\", \"initi\", \"instal\", \"institut\", \"institut\", \"integr\", \"integr\", \"integr\", \"intend\", \"intens\", \"intens\", \"intens\", \"inter\", \"intern\", \"intervent\", \"intervent\", \"intervent\", \"introduc\", \"introduc\", \"inventori\", \"inventori\", \"invest\", \"involv\", \"involv\", \"ipcc\", \"irrig\", \"island\", \"issu\", \"issu\", \"issu\", \"iv\", \"ivii\", \"jamaica\", \"jointli\", \"jordan\", \"jordan\", \"kei\", \"kei\", \"kei\", \"km\", \"knowledg\", \"kyoto_protocol\", \"lake\", \"land\", \"land\", \"landfil\", \"law\", \"legisl\", \"level\", \"level\", \"level\", \"level\", \"level\", \"level\", \"liberia\", \"limit\", \"limit\", \"limit\", \"limit\", \"line\", \"line\", \"line\", \"line\", \"list\", \"livestock\", \"local\", \"locat\", \"long_term\", \"longterm\", \"longterm\", \"loss\", \"low\", \"low\", \"low\", \"lowcarbon\", \"lower\", \"lower\", \"lulucf\", \"lulucf\", \"major\", \"major\", \"major\", \"make\", \"make\", \"make\", \"manag\", \"manag\", \"mani\", \"mani\", \"mani\", \"map\", \"map\", \"map\", \"marin\", \"market\", \"marketbas\", \"master_plan\", \"matrix\", \"measur\", \"mechan\", \"melt\", \"meteorolog\", \"methan\", \"method\", \"methodolog\", \"micro\", \"mill\", \"million\", \"million\", \"million\", \"mini\", \"minimis\", \"minimum\", \"ministri\", \"mitig\", \"mitig\", \"mix\", \"mm\", \"mobil\", \"moco\", \"modern\", \"moldova\", \"monitor\", \"monsoon\", \"month\", \"motor\", \"mrv\", \"mtcoe\", \"multicriteria\", \"multilater\", \"multipl\", \"mw\", \"nama\", \"nama\", \"nap\", \"napa\", \"napa\", \"nation\", \"nation\", \"nation\", \"natur\", \"natur\", \"natur\", \"naturebas\", \"ncc\", \"nccap\", \"ndc\", \"ndc\", \"ndc\", \"ndc\", \"neg\", \"net\", \"network\", \"network\", \"nghgi\", \"niger\", \"nigeria\", \"nonadversari\", \"nonpunit\", \"nonrefund\", \"north\", \"northern_ireland\", \"notwithstand\", \"number\", \"number\", \"number\", \"number\", \"object\", \"object\", \"object\", \"ocean\", \"offgrid\", \"offic\", \"oil\", \"ongo\", \"opportun\", \"opportun\", \"option\", \"option\", \"order\", \"order\", \"organ\", \"organ\", \"outburst\", \"output\", \"oxid\", \"pacif\", \"pakistan\", \"panadura\", \"panel\", \"papua_new\", \"paragraph\", \"pari\", \"part\", \"part\", \"part\", \"parti\", \"particip\", \"particip\", \"particularli\", \"particularli\", \"partner\", \"partner\", \"partnership\", \"past\", \"pattern\", \"peopl\", \"peopl\", \"peopl\", \"per_capita\", \"per_capita\", \"per_cent\", \"percent\", \"percentag\", \"period\", \"period\", \"physic\", \"pico\", \"pillar\", \"pilot\", \"place\", \"place\", \"place\", \"plai\", \"plan\", \"plant\", \"plant\", \"png\", \"png\", \"point\", \"polici\", \"polit\", \"popul\", \"popul\", \"popular\", \"possibl\", \"potenti\", \"potenti\", \"potenti\", \"potenti\", \"potenti\", \"power\", \"practic\", \"practic\", \"precipit\", \"prepar\", \"prepar\", \"prepar\", \"prepar\", \"prepared\", \"present\", \"present\", \"present\", \"present\", \"principl\", \"priorit\", \"priorit\", \"priorit\", \"prioriti\", \"prioriti\", \"prioriti\", \"privat\", \"privat\", \"process\", \"process\", \"process\", \"product\", \"product\", \"program\", \"program\", \"program\", \"program\", \"program\", \"programm\", \"programm\", \"programm\", \"progress\", \"progress\", \"project\", \"project\", \"project\", \"project\", \"projectbas\", \"promot\", \"promot\", \"promot\", \"properti\", \"propos\", \"propos\", \"protect\", \"provid\", \"provid\", \"provid\", \"provid\", \"provid\", \"provid\", \"public\", \"public\", \"publish\", \"quantifi\", \"railwai\", \"rain\", \"rainfal\", \"rais\", \"rais\", \"rais\", \"randomis\", \"rang\", \"rang\", \"rate\", \"rcp\", \"real\", \"reason\", \"recent\", \"recent\", \"recent\", \"recommend\", \"recommend\", \"recoveri\", \"redd\", \"reduc\", \"reduc\", \"reduc\", \"reduct\", \"reexamin\", \"refer\", \"regard\", \"regard\", \"regard\", \"region\", \"region\", \"region\", \"rehabilit\", \"relat\", \"relat\", \"relat\", \"relev\", \"relev\", \"relev\", \"remain\", \"remov\", \"renew\", \"report\", \"repres\", \"repres\", \"republ\", \"requir\", \"requir\", \"research\", \"research\", \"research\", \"research\", \"reservoir\", \"residenti\", \"resili\", \"resourc\", \"resourc\", \"resourc\", \"respond\", \"respons\", \"respons\", \"respons\", \"restor\", \"result\", \"result\", \"result\", \"result\", \"revis\", \"revis\", \"rice\", \"rigor\", \"rise\", \"risk\", \"risk\", \"rmi\", \"rmi\", \"road\", \"road\", \"robust\", \"role\", \"role\", \"role\", \"run\", \"runwai\", \"rural\", \"rwanda\", \"rwanda\", \"saber\", \"safeguard\", \"sanit\", \"save\", \"scale\", \"scale\", \"scale\", \"scenario\", \"scenario\", \"scientif\", \"scientif\", \"scotland\", \"scottish\", \"sddci\", \"sdg\", \"sea\", \"sea_level\", \"section\", \"section\", \"sector\", \"sector\", \"sector\", \"sector\", \"sectorspecif\", \"secur\", \"seed\", \"select\", \"sell\", \"sens\", \"sensit\", \"sequestr\", \"seriou\", \"servic\", \"servic\", \"servic\", \"set\", \"set\", \"set\", \"set\", \"sever\", \"sever\", \"share\", \"share\", \"share\", \"share\", \"short_term\", \"shortterm\", \"show\", \"sidewalk\", \"signific\", \"signific\", \"signific\", \"significantli\", \"significantli\", \"sinc\", \"sinc\", \"sinc\", \"singapor\", \"sink\", \"sink\", \"sit\", \"site\", \"social\", \"societi\", \"soil\", \"solar\", \"solid\", \"solid\", \"solut\", \"solut\", \"sound\", \"sourc\", \"sourc\", \"sourc\", \"sourc\", \"spatial\", \"spcr\", \"speci\", \"specif\", \"specif\", \"staff\", \"stakehold\", \"stand\", \"standard\", \"state\", \"state\", \"statement\", \"statist\", \"stipul\", \"storm\", \"strateg\", \"strategi\", \"strategi\", \"strengthen\", \"submit\", \"subregion\", \"subsist\", \"sudan\", \"sudan\", \"suffici\", \"sugar\", \"summari\", \"summer\", \"suppli\", \"suppli\", \"support\", \"sustain\", \"sustain\", \"swaziland\", \"synergi\", \"system\", \"system\", \"system\", \"system\", \"systemat\", \"tabl\", \"tabl\", \"tabl\", \"target\", \"target\", \"technic\", \"techniqu\", \"technolog\", \"temperatur\", \"temperatur\", \"tempor\", \"therebi\", \"thirteen\", \"threat\", \"ti\", \"tier\", \"time\", \"time\", \"timehorizon\", \"togo\", \"ton\", \"tonga\", \"tonga\", \"tonga\", \"tonn\", \"total\", \"total\", \"total\", \"total\", \"tourism\", \"tourism\", \"township\", \"track\", \"train\", \"train\", \"transfer\", \"transform\", \"transport\", \"transport\", \"treatment\", \"tree\", \"trend\", \"trial\", \"tropic\", \"tumatumari\", \"uae\", \"uganda\", \"uk\", \"unabl\", \"uncbd\", \"uncertainti\", \"uncondit\", \"uncov\", \"understand\", \"understand\", \"understand\", \"unfccc\", \"unido\", \"unit\", \"univers\", \"unremit\", \"updat\", \"uptak\", \"urgent\", \"uruguai\", \"us_billion\", \"usm\", \"util\", \"util\", \"valu\", \"vanuatu\", \"variat\", \"vehicl\", \"verif\", \"viaduct\", \"view\", \"view\", \"vision\", \"viv\", \"voluntarili\", \"vulner\", \"vulner\", \"warn\", \"wast\", \"water\", \"water\", \"watersh\", \"wave\", \"weather\", \"weight\", \"wet\", \"wherea\", \"wide\", \"wind\", \"wind\", \"winter\", \"women\", \"women_men\", \"wood\", \"work\", \"world\", \"world\", \"world\", \"world\", \"wound\", \"xvi\", \"yangon\", \"year\", \"year\", \"yield\", \"youth\"]}, \"R\": 30, \"lambda.step\": 0.01, \"plot.opts\": {\"xlab\": \"PC1\", \"ylab\": \"PC2\"}, \"topic.order\": [2, 5, 3, 4, 10, 12, 6, 8, 1, 11, 7, 9]};\n",
              "\n",
              "function LDAvis_load_lib(url, callback){\n",
              "  var s = document.createElement('script');\n",
              "  s.src = url;\n",
              "  s.async = true;\n",
              "  s.onreadystatechange = s.onload = callback;\n",
              "  s.onerror = function(){console.warn(\"failed to load library \" + url);};\n",
              "  document.getElementsByTagName(\"head\")[0].appendChild(s);\n",
              "}\n",
              "\n",
              "if(typeof(LDAvis) !== \"undefined\"){\n",
              "   // already loaded: just create the visualization\n",
              "   !function(LDAvis){\n",
              "       new LDAvis(\"#\" + \"ldavis_el4611400878111591201507706269\", ldavis_el4611400878111591201507706269_data);\n",
              "   }(LDAvis);\n",
              "}else if(typeof define === \"function\" && define.amd){\n",
              "   // require.js is available: use it to load d3/LDAvis\n",
              "   require.config({paths: {d3: \"https://d3js.org/d3.v5\"}});\n",
              "   require([\"d3\"], function(d3){\n",
              "      window.d3 = d3;\n",
              "      LDAvis_load_lib(\"https://cdn.jsdelivr.net/gh/bmabey/pyLDAvis/pyLDAvis/js/ldavis.v3.0.0.js\", function(){\n",
              "        new LDAvis(\"#\" + \"ldavis_el4611400878111591201507706269\", ldavis_el4611400878111591201507706269_data);\n",
              "      });\n",
              "    });\n",
              "}else{\n",
              "    // require.js not available: dynamically load d3 & LDAvis\n",
              "    LDAvis_load_lib(\"https://d3js.org/d3.v5.js\", function(){\n",
              "         LDAvis_load_lib(\"https://cdn.jsdelivr.net/gh/bmabey/pyLDAvis/pyLDAvis/js/ldavis.v3.0.0.js\", function(){\n",
              "                 new LDAvis(\"#\" + \"ldavis_el4611400878111591201507706269\", ldavis_el4611400878111591201507706269_data);\n",
              "            })\n",
              "         });\n",
              "}\n",
              "</script>"
            ],
            "text/plain": [
              "PreparedData(topic_coordinates=              x         y  topics  cluster      Freq\n",
              "topic                                               \n",
              "1      0.263135 -0.071826       1        1  8.829110\n",
              "4      0.133779 -0.270383       2        1  8.804660\n",
              "2      0.028904  0.070593       3        1  8.612215\n",
              "3     -0.234927  0.109911       4        1  8.504274\n",
              "9      0.232926  0.247000       5        1  8.319494\n",
              "11    -0.160373 -0.104595       6        1  8.294396\n",
              "5      0.022096 -0.123768       7        1  8.252251\n",
              "7     -0.180902  0.063626       8        1  8.182571\n",
              "0     -0.054031  0.066140       9        1  8.179803\n",
              "10     0.135682  0.189347      10        1  8.177428\n",
              "6     -0.169735  0.040747      11        1  8.161891\n",
              "8     -0.016554 -0.216793      12        1  7.681907, topic_info=        Term         Freq        Total Category  logprob  loglift\n",
              "110   climat  6867.000000  6867.000000  Default  30.0000  30.0000\n",
              "109    chang  5318.000000  5318.000000  Default  29.0000  29.0000\n",
              "181    emiss  4311.000000  4311.000000  Default  28.0000  28.0000\n",
              "33   develop  4855.000000  4855.000000  Default  27.0000  27.0000\n",
              "9     energi  3333.000000  3333.000000  Default  26.0000  26.0000\n",
              "..       ...          ...          ...      ...      ...      ...\n",
              "137    indic   311.559287   487.843024  Topic12  -4.4942   2.1179\n",
              "435   follow   314.793473   603.433166  Topic12  -4.4839   1.9156\n",
              "302    relev   280.295568   471.962499  Topic12  -4.5999   2.0452\n",
              "500   consid   271.671072   658.802432  Topic12  -4.6312   1.6805\n",
              "151     part   254.422132   445.792440  Topic12  -4.6968   2.0054\n",
              "\n",
              "[844 rows x 6 columns], token_table=      Topic      Freq    Term\n",
              "term                         \n",
              "2008     11  0.995164     abl\n",
              "347       8  1.009919  academ\n",
              "317       5  0.005699  access\n",
              "317       9  0.991550  access\n",
              "317      11  0.001900  access\n",
              "...     ...       ...     ...\n",
              "611       8  0.918108  yangon\n",
              "177       2  0.861313    year\n",
              "177      12  0.138104    year\n",
              "178       5  1.001946   yield\n",
              "1517      8  1.003514   youth\n",
              "\n",
              "[1101 rows x 3 columns], R=30, lambda_step=0.01, plot_opts={'xlab': 'PC1', 'ylab': 'PC2'}, topic_order=[2, 5, 3, 4, 10, 12, 6, 8, 1, 11, 7, 9])"
            ]
          },
          "metadata": {
            "tags": []
          },
          "execution_count": 57
        }
      ]
    },
    {
      "cell_type": "markdown",
      "metadata": {
        "id": "akLVaOu1driK"
      },
      "source": [
        "Save to HTML so that we can add to the website"
      ]
    },
    {
      "cell_type": "code",
      "metadata": {
        "colab": {
          "base_uri": "https://localhost:8080/"
        },
        "id": "_jzs4d23dqe9",
        "outputId": "3edb7af5-b576-41ff-a2a1-18cfb51cfe19"
      },
      "source": [
        "p = pyLDAvis.gensim.prepare(optimal_model, corpus, id2word)\n",
        "pyLDAvis.save_html(p, 'lda.html')"
      ],
      "execution_count": 58,
      "outputs": [
        {
          "output_type": "stream",
          "text": [
            "/usr/local/lib/python3.7/dist-packages/pyLDAvis/_prepare.py:236: RuntimeWarning: divide by zero encountered in log\n",
            "  log_1 = np.log(pd.eval(\"(topic_given_term.T / topic_proportion)\"))\n",
            "/usr/local/lib/python3.7/dist-packages/pyLDAvis/_prepare.py:259: RuntimeWarning: divide by zero encountered in log\n",
            "  log_lift = np.log(pd.eval(\"topic_term_dists / term_proportion\")).astype(\"float64\")\n",
            "/usr/local/lib/python3.7/dist-packages/pyLDAvis/_prepare.py:260: RuntimeWarning: divide by zero encountered in log\n",
            "  log_ttd = np.log(topic_term_dists).astype(\"float64\")\n"
          ],
          "name": "stderr"
        }
      ]
    },
    {
      "cell_type": "markdown",
      "metadata": {
        "id": "E6FdnmfmeWgo"
      },
      "source": [
        "Alternatively save to pickle"
      ]
    },
    {
      "cell_type": "code",
      "metadata": {
        "id": "bPmcJSY7eZSn"
      },
      "source": [
        "d = {\n",
        "    \"optimal_model\": optimal_model,\n",
        "     \"corpus\": corpus,\n",
        "     \"dictionary\": id2word\n",
        "}\n",
        "with open('lda_model.pickle', 'wb') as handle:\n",
        "    pickle.dump(d, handle, protocol=pickle.HIGHEST_PROTOCOL)"
      ],
      "execution_count": 59,
      "outputs": []
    },
    {
      "cell_type": "markdown",
      "metadata": {
        "id": "dIiPx82rkZuT"
      },
      "source": [
        "Compute dominant topic for each document"
      ]
    },
    {
      "cell_type": "code",
      "metadata": {
        "id": "8jn95Fib5_nf"
      },
      "source": [
        "def format_topics_sentences(ldamodel, corpus, texts):\n",
        "    sent_topics_df = pd.DataFrame()\n",
        "\n",
        "    for i, row in enumerate(ldamodel[corpus]):\n",
        "        row = sorted(row, key=lambda x: (x[1]), reverse=True)\n",
        "        for j, (topic_num, prop_topic) in enumerate(row):\n",
        "            # dominant topic\n",
        "            if j == 0: \n",
        "                wp = ldamodel.show_topic(topic_num)\n",
        "                topic_keywords = \", \".join([word for word, prop in wp])\n",
        "                sent_topics_df = sent_topics_df.append(pd.Series([int(topic_num), round(prop_topic,4), topic_keywords]), ignore_index=True)\n",
        "            else:\n",
        "                break\n",
        "\n",
        "    contents = df.NDC\n",
        "    document = df.Document\n",
        "    sent_topics_df = pd.concat([sent_topics_df, contents, document], axis=1)\n",
        "    sent_topics_df.columns = ['Dominant_Topic', 'Topic_Perc_Contrib', 'Keywords', 'Text', 'Document']\n",
        "\n",
        "    return(sent_topics_df)"
      ],
      "execution_count": 60,
      "outputs": []
    },
    {
      "cell_type": "code",
      "metadata": {
        "colab": {
          "base_uri": "https://localhost:8080/",
          "height": 422
        },
        "id": "irq6XcgQGIQL",
        "outputId": "379c013f-1091-490a-a4e4-18d4dbde06c4"
      },
      "source": [
        "df_dominant_topic = format_topics_sentences(ldamodel=optimal_model, corpus=corpus, texts=df.NDC)\n",
        "\n",
        "df_dominant_topic"
      ],
      "execution_count": 61,
      "outputs": [
        {
          "output_type": "execute_result",
          "data": {
            "text/html": [
              "<div>\n",
              "<style scoped>\n",
              "    .dataframe tbody tr th:only-of-type {\n",
              "        vertical-align: middle;\n",
              "    }\n",
              "\n",
              "    .dataframe tbody tr th {\n",
              "        vertical-align: top;\n",
              "    }\n",
              "\n",
              "    .dataframe thead th {\n",
              "        text-align: right;\n",
              "    }\n",
              "</style>\n",
              "<table border=\"1\" class=\"dataframe\">\n",
              "  <thead>\n",
              "    <tr style=\"text-align: right;\">\n",
              "      <th></th>\n",
              "      <th>Dominant_Topic</th>\n",
              "      <th>Topic_Perc_Contrib</th>\n",
              "      <th>Keywords</th>\n",
              "      <th>Text</th>\n",
              "      <th>Document</th>\n",
              "    </tr>\n",
              "  </thead>\n",
              "  <tbody>\n",
              "    <tr>\n",
              "      <th>0</th>\n",
              "      <td>10.0</td>\n",
              "      <td>0.1644</td>\n",
              "      <td>energi, gener, effici, transport, electr, rene...</td>\n",
              "      <td>Cabo Verde is committed to implement the Susta...</td>\n",
              "      <td>../txts/CPV_Cabo-Verde_First_NDC_English_Parag...</td>\n",
              "    </tr>\n",
              "    <tr>\n",
              "      <th>1</th>\n",
              "      <td>8.0</td>\n",
              "      <td>0.2189</td>\n",
              "      <td>ndc, inform, report, base, includ, data, proje...</td>\n",
              "      <td>This updated NDC updates and strengthens the f...</td>\n",
              "      <td>../txts/RWA_Rwanda_First_NDC_English_Paragraph...</td>\n",
              "    </tr>\n",
              "    <tr>\n",
              "      <th>2</th>\n",
              "      <td>2.0</td>\n",
              "      <td>0.1349</td>\n",
              "      <td>climat, chang, adapt, resili, impact, vulner, ...</td>\n",
              "      <td>Gambia Watershed by a) Improving disaster prep...</td>\n",
              "      <td>../txts/GMB_Gambia_First_NDC_English_Paragraph...</td>\n",
              "    </tr>\n",
              "    <tr>\n",
              "      <th>3</th>\n",
              "      <td>5.0</td>\n",
              "      <td>0.1348</td>\n",
              "      <td>emiss, ghg, sector, reduct, carbon, ga, reduc,...</td>\n",
              "      <td>The estimated cost to reach the 14 target is t...</td>\n",
              "      <td>../txts/JOR_Jordan_First_NDC_English_Paragraph...</td>\n",
              "    </tr>\n",
              "    <tr>\n",
              "      <th>4</th>\n",
              "      <td>11.0</td>\n",
              "      <td>0.1330</td>\n",
              "      <td>contribut, nation, global, countri, commit, in...</td>\n",
              "      <td>Moreover, national efforts to implement INDC i...</td>\n",
              "      <td>../txts/FSM_Micronesia_First_NDC_English_Parag...</td>\n",
              "    </tr>\n",
              "    <tr>\n",
              "      <th>...</th>\n",
              "      <td>...</td>\n",
              "      <td>...</td>\n",
              "      <td>...</td>\n",
              "      <td>...</td>\n",
              "      <td>...</td>\n",
              "    </tr>\n",
              "    <tr>\n",
              "      <th>10817</th>\n",
              "      <td>1.0</td>\n",
              "      <td>0.1604</td>\n",
              "      <td>impact, increas, popul, flood, infrastructur, ...</td>\n",
              "      <td>conducting surveillance and research on waterb...</td>\n",
              "      <td>../txts/KHM_Cambodia_First_NDC_English_Paragra...</td>\n",
              "    </tr>\n",
              "    <tr>\n",
              "      <th>10818</th>\n",
              "      <td>6.0</td>\n",
              "      <td>0.1045</td>\n",
              "      <td>implement, mitig, measur, action, adapt, inclu...</td>\n",
              "      <td>The above chart contains a not exhaustive list...</td>\n",
              "      <td>../txts/URY_Uruguay_First_NDC_Translation_Engl...</td>\n",
              "    </tr>\n",
              "    <tr>\n",
              "      <th>10819</th>\n",
              "      <td>7.0</td>\n",
              "      <td>0.1995</td>\n",
              "      <td>sector, govern, level, environ, process, insti...</td>\n",
              "      <td>principles to be respected by the state, local...</td>\n",
              "      <td>../txts/MAR_Morocco_First_NDC_Translation_Engl...</td>\n",
              "    </tr>\n",
              "    <tr>\n",
              "      <th>10820</th>\n",
              "      <td>3.0</td>\n",
              "      <td>0.1697</td>\n",
              "      <td>develop, nation, plan, polici, strategi, susta...</td>\n",
              "      <td>Integrated planning is the key means of implem...</td>\n",
              "      <td>../txts/LKA_Sri-Lanka_First_NDC_English_Paragr...</td>\n",
              "    </tr>\n",
              "    <tr>\n",
              "      <th>10821</th>\n",
              "      <td>0.0</td>\n",
              "      <td>0.2213</td>\n",
              "      <td>support, technolog, intern, develop, capac, bu...</td>\n",
              "      <td>Undertake barrier analysis for technology tra...</td>\n",
              "      <td>../txts/MDA_Republic-of-Moldova_First_NDC_Engl...</td>\n",
              "    </tr>\n",
              "  </tbody>\n",
              "</table>\n",
              "<p>10822 rows × 5 columns</p>\n",
              "</div>"
            ],
            "text/plain": [
              "       Dominant_Topic  ...                                           Document\n",
              "0                10.0  ...  ../txts/CPV_Cabo-Verde_First_NDC_English_Parag...\n",
              "1                 8.0  ...  ../txts/RWA_Rwanda_First_NDC_English_Paragraph...\n",
              "2                 2.0  ...  ../txts/GMB_Gambia_First_NDC_English_Paragraph...\n",
              "3                 5.0  ...  ../txts/JOR_Jordan_First_NDC_English_Paragraph...\n",
              "4                11.0  ...  ../txts/FSM_Micronesia_First_NDC_English_Parag...\n",
              "...               ...  ...                                                ...\n",
              "10817             1.0  ...  ../txts/KHM_Cambodia_First_NDC_English_Paragra...\n",
              "10818             6.0  ...  ../txts/URY_Uruguay_First_NDC_Translation_Engl...\n",
              "10819             7.0  ...  ../txts/MAR_Morocco_First_NDC_Translation_Engl...\n",
              "10820             3.0  ...  ../txts/LKA_Sri-Lanka_First_NDC_English_Paragr...\n",
              "10821             0.0  ...  ../txts/MDA_Republic-of-Moldova_First_NDC_Engl...\n",
              "\n",
              "[10822 rows x 5 columns]"
            ]
          },
          "metadata": {
            "tags": []
          },
          "execution_count": 61
        }
      ]
    },
    {
      "cell_type": "markdown",
      "metadata": {
        "id": "oFTnWIDVHHVR"
      },
      "source": [
        "Show most representative documents for each topic"
      ]
    },
    {
      "cell_type": "code",
      "metadata": {
        "colab": {
          "base_uri": "https://localhost:8080/",
          "height": 425
        },
        "id": "EL5tUdMsHV7S",
        "outputId": "19374873-347f-4105-a2e0-395780c43672"
      },
      "source": [
        "sent_topics_sorteddf_mallet = pd.DataFrame()\n",
        "\n",
        "sent_topics_outdf_grpd = df_dominant_topic.groupby('Dominant_Topic')\n",
        "\n",
        "for i, grp in sent_topics_outdf_grpd:\n",
        "    sent_topics_sorteddf_mallet = pd.concat([sent_topics_sorteddf_mallet, \n",
        "                                             grp.sort_values(['Topic_Perc_Contrib'], ascending=[0]).head(1)], \n",
        "                                            axis=0)\n",
        "\n",
        "sent_topics_sorteddf_mallet"
      ],
      "execution_count": 62,
      "outputs": [
        {
          "output_type": "execute_result",
          "data": {
            "text/html": [
              "<div>\n",
              "<style scoped>\n",
              "    .dataframe tbody tr th:only-of-type {\n",
              "        vertical-align: middle;\n",
              "    }\n",
              "\n",
              "    .dataframe tbody tr th {\n",
              "        vertical-align: top;\n",
              "    }\n",
              "\n",
              "    .dataframe thead th {\n",
              "        text-align: right;\n",
              "    }\n",
              "</style>\n",
              "<table border=\"1\" class=\"dataframe\">\n",
              "  <thead>\n",
              "    <tr style=\"text-align: right;\">\n",
              "      <th></th>\n",
              "      <th>Dominant_Topic</th>\n",
              "      <th>Topic_Perc_Contrib</th>\n",
              "      <th>Keywords</th>\n",
              "      <th>Text</th>\n",
              "      <th>Document</th>\n",
              "    </tr>\n",
              "  </thead>\n",
              "  <tbody>\n",
              "    <tr>\n",
              "      <th>6069</th>\n",
              "      <td>0.0</td>\n",
              "      <td>0.4285</td>\n",
              "      <td>support, technolog, intern, develop, capac, bu...</td>\n",
              "      <td>UNFCCC and the multilateral finance institutio...</td>\n",
              "      <td>../txts/GMB_Gambia_First_NDC_English_Paragraph...</td>\n",
              "    </tr>\n",
              "    <tr>\n",
              "      <th>7134</th>\n",
              "      <td>1.0</td>\n",
              "      <td>0.5563</td>\n",
              "      <td>impact, increas, popul, flood, infrastructur, ...</td>\n",
              "      <td>Past La Nia events have shown that the impacts...</td>\n",
              "      <td>../txts/KIR_Kiribati_First_NDC_English_Paragra...</td>\n",
              "    </tr>\n",
              "    <tr>\n",
              "      <th>5040</th>\n",
              "      <td>2.0</td>\n",
              "      <td>0.3625</td>\n",
              "      <td>climat, chang, adapt, resili, impact, vulner, ...</td>\n",
              "      <td>(c) Establishing early warning systems, multiu...</td>\n",
              "      <td>../txts/DMA_Dominica_First_NDC_English_Paragra...</td>\n",
              "    </tr>\n",
              "    <tr>\n",
              "      <th>4957</th>\n",
              "      <td>3.0</td>\n",
              "      <td>0.3707</td>\n",
              "      <td>develop, nation, plan, polici, strategi, susta...</td>\n",
              "      <td>Malawi launched its Vision 2020 in the year 20...</td>\n",
              "      <td>../txts/MWI_Malawi_First_NDC_English_Paragraph...</td>\n",
              "    </tr>\n",
              "    <tr>\n",
              "      <th>7571</th>\n",
              "      <td>4.0</td>\n",
              "      <td>0.6886</td>\n",
              "      <td>increas, year, countri, econom, growth, econom...</td>\n",
              "      <td>Figure 3.22 Projected CMIP5 21 GCMs Ensemble A...</td>\n",
              "      <td>../txts/MDA_Republic-of-Moldova_First_NDC_Engl...</td>\n",
              "    </tr>\n",
              "    <tr>\n",
              "      <th>5368</th>\n",
              "      <td>5.0</td>\n",
              "      <td>0.4316</td>\n",
              "      <td>emiss, ghg, sector, reduct, carbon, ga, reduc,...</td>\n",
              "      <td>Major social and developmental setbacks Due to...</td>\n",
              "      <td>../txts/SLE_Sierra-Leone_First_NDC_English_Par...</td>\n",
              "    </tr>\n",
              "    <tr>\n",
              "      <th>2582</th>\n",
              "      <td>6.0</td>\n",
              "      <td>0.3933</td>\n",
              "      <td>implement, mitig, measur, action, adapt, inclu...</td>\n",
              "      <td>4. Monitoring Report and Verification (MRV) Gh...</td>\n",
              "      <td>../txts/GHA_Ghana_First_NDC_English_Paragraph5...</td>\n",
              "    </tr>\n",
              "    <tr>\n",
              "      <th>6102</th>\n",
              "      <td>7.0</td>\n",
              "      <td>0.4570</td>\n",
              "      <td>sector, govern, level, environ, process, insti...</td>\n",
              "      <td>4 The SNRCC operates at charge of the Ministry...</td>\n",
              "      <td>../txts/URY_Uruguay_First_NDC_Translation_Engl...</td>\n",
              "    </tr>\n",
              "    <tr>\n",
              "      <th>4601</th>\n",
              "      <td>8.0</td>\n",
              "      <td>0.5750</td>\n",
              "      <td>ndc, inform, report, base, includ, data, proje...</td>\n",
              "      <td>11 IPCC, 2013 Summary for Policymakers. In Cli...</td>\n",
              "      <td>../txts/BRA_Brazil_First_NDC_English_Paragraph...</td>\n",
              "    </tr>\n",
              "    <tr>\n",
              "      <th>9035</th>\n",
              "      <td>9.0</td>\n",
              "      <td>0.4589</td>\n",
              "      <td>water, agricultur, manag, forest, land, area, ...</td>\n",
              "      <td>Resilience has been achieved through the stre...</td>\n",
              "      <td>../txts/BOL_Bolivia-Plurinational-State-of_Fir...</td>\n",
              "    </tr>\n",
              "    <tr>\n",
              "      <th>4510</th>\n",
              "      <td>10.0</td>\n",
              "      <td>0.4285</td>\n",
              "      <td>energi, gener, effici, transport, electr, rene...</td>\n",
              "      <td>Sri Lanka has realized almost 100 electrificat...</td>\n",
              "      <td>../txts/LKA_Sri-Lanka_First_NDC_English_Paragr...</td>\n",
              "    </tr>\n",
              "    <tr>\n",
              "      <th>1690</th>\n",
              "      <td>11.0</td>\n",
              "      <td>0.4841</td>\n",
              "      <td>contribut, nation, global, countri, commit, in...</td>\n",
              "      <td>Submission by Iceland to the ADP Icelands Inte...</td>\n",
              "      <td>../txts/ISL_Iceland_First_NDC_English_Paragrap...</td>\n",
              "    </tr>\n",
              "  </tbody>\n",
              "</table>\n",
              "</div>"
            ],
            "text/plain": [
              "      Dominant_Topic  ...                                           Document\n",
              "6069             0.0  ...  ../txts/GMB_Gambia_First_NDC_English_Paragraph...\n",
              "7134             1.0  ...  ../txts/KIR_Kiribati_First_NDC_English_Paragra...\n",
              "5040             2.0  ...  ../txts/DMA_Dominica_First_NDC_English_Paragra...\n",
              "4957             3.0  ...  ../txts/MWI_Malawi_First_NDC_English_Paragraph...\n",
              "7571             4.0  ...  ../txts/MDA_Republic-of-Moldova_First_NDC_Engl...\n",
              "5368             5.0  ...  ../txts/SLE_Sierra-Leone_First_NDC_English_Par...\n",
              "2582             6.0  ...  ../txts/GHA_Ghana_First_NDC_English_Paragraph5...\n",
              "6102             7.0  ...  ../txts/URY_Uruguay_First_NDC_Translation_Engl...\n",
              "4601             8.0  ...  ../txts/BRA_Brazil_First_NDC_English_Paragraph...\n",
              "9035             9.0  ...  ../txts/BOL_Bolivia-Plurinational-State-of_Fir...\n",
              "4510            10.0  ...  ../txts/LKA_Sri-Lanka_First_NDC_English_Paragr...\n",
              "1690            11.0  ...  ../txts/ISL_Iceland_First_NDC_English_Paragrap...\n",
              "\n",
              "[12 rows x 5 columns]"
            ]
          },
          "metadata": {
            "tags": []
          },
          "execution_count": 62
        }
      ]
    },
    {
      "cell_type": "markdown",
      "metadata": {
        "id": "Ndl0oBKyKvQG"
      },
      "source": [
        "Compute aggregated data for each country"
      ]
    },
    {
      "cell_type": "code",
      "metadata": {
        "id": "hvnpTKN4KtsW"
      },
      "source": [
        "def compute_iso(document):\n",
        "  pos = document.find('_')\n",
        "  return document[(pos-3):pos]"
      ],
      "execution_count": 63,
      "outputs": []
    },
    {
      "cell_type": "code",
      "metadata": {
        "id": "dI82wO-zMHqg"
      },
      "source": [
        "def country_name(document):\n",
        "  pos1 = document.find('_')\n",
        "  pos2 = document.find('_', pos1+1)\n",
        "  return document[pos1+1:pos2]"
      ],
      "execution_count": 64,
      "outputs": []
    },
    {
      "cell_type": "code",
      "metadata": {
        "id": "HkWM71SqOcdx"
      },
      "source": [
        "def doc_topic_distribution(ldamodel, corpus, df):\n",
        "    topic_distr = pd.DataFrame()\n",
        "    # percentages for each topic\n",
        "    for row in ldamodel[corpus]:\n",
        "        percentages = [perc for topic, perc in row]\n",
        "        topic_distr = topic_distr.append(pd.Series(percentages), ignore_index=True)\n",
        "    # add original text, doc name, country name and ISO\n",
        "    contents = df.NDC\n",
        "    document = df.Document\n",
        "    iso = df.Document.apply(compute_iso)\n",
        "    country = df.Document.apply(country_name)\n",
        "\n",
        "    topic_distr = pd.concat([topic_distr, contents, document, iso, country], axis=1)\n",
        "    columns = [str(x) for x in range(num_topics)]\n",
        "    columns.extend(['Text', 'Document', 'ISO', 'Country'])\n",
        "    topic_distr.columns = columns\n",
        "\n",
        "    return topic_distr"
      ],
      "execution_count": 67,
      "outputs": []
    },
    {
      "cell_type": "markdown",
      "metadata": {
        "id": "mxiyxlZlVIfH"
      },
      "source": [
        "Compute distribution of topics in each paragraph"
      ]
    },
    {
      "cell_type": "code",
      "metadata": {
        "colab": {
          "base_uri": "https://localhost:8080/",
          "height": 1000
        },
        "id": "hCLKbi80UQ_8",
        "outputId": "a123c8f2-41b4-4ef7-a41a-de0049f14b20"
      },
      "source": [
        "distr_df = doc_topic_distribution(optimal_model, corpus, df)\n",
        "distr_df"
      ],
      "execution_count": 68,
      "outputs": [
        {
          "output_type": "execute_result",
          "data": {
            "text/html": [
              "<div>\n",
              "<style scoped>\n",
              "    .dataframe tbody tr th:only-of-type {\n",
              "        vertical-align: middle;\n",
              "    }\n",
              "\n",
              "    .dataframe tbody tr th {\n",
              "        vertical-align: top;\n",
              "    }\n",
              "\n",
              "    .dataframe thead th {\n",
              "        text-align: right;\n",
              "    }\n",
              "</style>\n",
              "<table border=\"1\" class=\"dataframe\">\n",
              "  <thead>\n",
              "    <tr style=\"text-align: right;\">\n",
              "      <th></th>\n",
              "      <th>0</th>\n",
              "      <th>1</th>\n",
              "      <th>2</th>\n",
              "      <th>3</th>\n",
              "      <th>4</th>\n",
              "      <th>5</th>\n",
              "      <th>6</th>\n",
              "      <th>7</th>\n",
              "      <th>8</th>\n",
              "      <th>9</th>\n",
              "      <th>10</th>\n",
              "      <th>11</th>\n",
              "      <th>Text</th>\n",
              "      <th>Document</th>\n",
              "      <th>ISO</th>\n",
              "      <th>Country</th>\n",
              "    </tr>\n",
              "  </thead>\n",
              "  <tbody>\n",
              "    <tr>\n",
              "      <th>0</th>\n",
              "      <td>0.071562</td>\n",
              "      <td>0.097832</td>\n",
              "      <td>0.062693</td>\n",
              "      <td>0.093846</td>\n",
              "      <td>0.056327</td>\n",
              "      <td>0.069013</td>\n",
              "      <td>0.069872</td>\n",
              "      <td>0.074852</td>\n",
              "      <td>0.056348</td>\n",
              "      <td>0.072943</td>\n",
              "      <td>0.164397</td>\n",
              "      <td>0.110314</td>\n",
              "      <td>Cabo Verde is committed to implement the Susta...</td>\n",
              "      <td>../txts/CPV_Cabo-Verde_First_NDC_English_Parag...</td>\n",
              "      <td>CPV</td>\n",
              "      <td>Cabo-Verde</td>\n",
              "    </tr>\n",
              "    <tr>\n",
              "      <th>1</th>\n",
              "      <td>0.063110</td>\n",
              "      <td>0.046167</td>\n",
              "      <td>0.063984</td>\n",
              "      <td>0.060405</td>\n",
              "      <td>0.048159</td>\n",
              "      <td>0.081141</td>\n",
              "      <td>0.139765</td>\n",
              "      <td>0.088007</td>\n",
              "      <td>0.218887</td>\n",
              "      <td>0.049967</td>\n",
              "      <td>0.049341</td>\n",
              "      <td>0.091068</td>\n",
              "      <td>This updated NDC updates and strengthens the f...</td>\n",
              "      <td>../txts/RWA_Rwanda_First_NDC_English_Paragraph...</td>\n",
              "      <td>RWA</td>\n",
              "      <td>Rwanda</td>\n",
              "    </tr>\n",
              "    <tr>\n",
              "      <th>2</th>\n",
              "      <td>0.089499</td>\n",
              "      <td>0.087571</td>\n",
              "      <td>0.134885</td>\n",
              "      <td>0.070621</td>\n",
              "      <td>0.087571</td>\n",
              "      <td>0.070621</td>\n",
              "      <td>0.074154</td>\n",
              "      <td>0.070621</td>\n",
              "      <td>0.070621</td>\n",
              "      <td>0.097146</td>\n",
              "      <td>0.076067</td>\n",
              "      <td>0.070621</td>\n",
              "      <td>Gambia Watershed by a) Improving disaster prep...</td>\n",
              "      <td>../txts/GMB_Gambia_First_NDC_English_Paragraph...</td>\n",
              "      <td>GMB</td>\n",
              "      <td>Gambia</td>\n",
              "    </tr>\n",
              "    <tr>\n",
              "      <th>3</th>\n",
              "      <td>0.105330</td>\n",
              "      <td>0.068712</td>\n",
              "      <td>0.061450</td>\n",
              "      <td>0.075980</td>\n",
              "      <td>0.114400</td>\n",
              "      <td>0.134774</td>\n",
              "      <td>0.061275</td>\n",
              "      <td>0.065786</td>\n",
              "      <td>0.076908</td>\n",
              "      <td>0.075980</td>\n",
              "      <td>0.062969</td>\n",
              "      <td>0.096436</td>\n",
              "      <td>The estimated cost to reach the 14 target is t...</td>\n",
              "      <td>../txts/JOR_Jordan_First_NDC_English_Paragraph...</td>\n",
              "      <td>JOR</td>\n",
              "      <td>Jordan</td>\n",
              "    </tr>\n",
              "    <tr>\n",
              "      <th>4</th>\n",
              "      <td>0.107189</td>\n",
              "      <td>0.085991</td>\n",
              "      <td>0.064923</td>\n",
              "      <td>0.095639</td>\n",
              "      <td>0.062211</td>\n",
              "      <td>0.081728</td>\n",
              "      <td>0.104366</td>\n",
              "      <td>0.063465</td>\n",
              "      <td>0.070410</td>\n",
              "      <td>0.068866</td>\n",
              "      <td>0.062189</td>\n",
              "      <td>0.133024</td>\n",
              "      <td>Moreover, national efforts to implement INDC i...</td>\n",
              "      <td>../txts/FSM_Micronesia_First_NDC_English_Parag...</td>\n",
              "      <td>FSM</td>\n",
              "      <td>Micronesia</td>\n",
              "    </tr>\n",
              "    <tr>\n",
              "      <th>...</th>\n",
              "      <td>...</td>\n",
              "      <td>...</td>\n",
              "      <td>...</td>\n",
              "      <td>...</td>\n",
              "      <td>...</td>\n",
              "      <td>...</td>\n",
              "      <td>...</td>\n",
              "      <td>...</td>\n",
              "      <td>...</td>\n",
              "      <td>...</td>\n",
              "      <td>...</td>\n",
              "      <td>...</td>\n",
              "      <td>...</td>\n",
              "      <td>...</td>\n",
              "      <td>...</td>\n",
              "      <td>...</td>\n",
              "    </tr>\n",
              "    <tr>\n",
              "      <th>10817</th>\n",
              "      <td>0.072270</td>\n",
              "      <td>0.160351</td>\n",
              "      <td>0.101735</td>\n",
              "      <td>0.070621</td>\n",
              "      <td>0.070621</td>\n",
              "      <td>0.070621</td>\n",
              "      <td>0.072711</td>\n",
              "      <td>0.081831</td>\n",
              "      <td>0.087373</td>\n",
              "      <td>0.070621</td>\n",
              "      <td>0.070621</td>\n",
              "      <td>0.070621</td>\n",
              "      <td>conducting surveillance and research on waterb...</td>\n",
              "      <td>../txts/KHM_Cambodia_First_NDC_English_Paragra...</td>\n",
              "      <td>KHM</td>\n",
              "      <td>Cambodia</td>\n",
              "    </tr>\n",
              "    <tr>\n",
              "      <th>10818</th>\n",
              "      <td>0.073940</td>\n",
              "      <td>0.075961</td>\n",
              "      <td>0.089233</td>\n",
              "      <td>0.086245</td>\n",
              "      <td>0.083292</td>\n",
              "      <td>0.081614</td>\n",
              "      <td>0.104520</td>\n",
              "      <td>0.076443</td>\n",
              "      <td>0.085909</td>\n",
              "      <td>0.082231</td>\n",
              "      <td>0.089990</td>\n",
              "      <td>0.070621</td>\n",
              "      <td>The above chart contains a not exhaustive list...</td>\n",
              "      <td>../txts/URY_Uruguay_First_NDC_Translation_Engl...</td>\n",
              "      <td>URY</td>\n",
              "      <td>Uruguay</td>\n",
              "    </tr>\n",
              "    <tr>\n",
              "      <th>10819</th>\n",
              "      <td>0.075174</td>\n",
              "      <td>0.057078</td>\n",
              "      <td>0.060296</td>\n",
              "      <td>0.105992</td>\n",
              "      <td>0.059629</td>\n",
              "      <td>0.057078</td>\n",
              "      <td>0.087746</td>\n",
              "      <td>0.199486</td>\n",
              "      <td>0.062441</td>\n",
              "      <td>0.087819</td>\n",
              "      <td>0.058750</td>\n",
              "      <td>0.088511</td>\n",
              "      <td>principles to be respected by the state, local...</td>\n",
              "      <td>../txts/MAR_Morocco_First_NDC_Translation_Engl...</td>\n",
              "      <td>MAR</td>\n",
              "      <td>Morocco</td>\n",
              "    </tr>\n",
              "    <tr>\n",
              "      <th>10820</th>\n",
              "      <td>0.089567</td>\n",
              "      <td>0.084181</td>\n",
              "      <td>0.064682</td>\n",
              "      <td>0.169675</td>\n",
              "      <td>0.081459</td>\n",
              "      <td>0.066383</td>\n",
              "      <td>0.080082</td>\n",
              "      <td>0.097335</td>\n",
              "      <td>0.062189</td>\n",
              "      <td>0.063461</td>\n",
              "      <td>0.078748</td>\n",
              "      <td>0.062237</td>\n",
              "      <td>Integrated planning is the key means of implem...</td>\n",
              "      <td>../txts/LKA_Sri-Lanka_First_NDC_English_Paragr...</td>\n",
              "      <td>LKA</td>\n",
              "      <td>Sri-Lanka</td>\n",
              "    </tr>\n",
              "    <tr>\n",
              "      <th>10821</th>\n",
              "      <td>0.221295</td>\n",
              "      <td>0.059900</td>\n",
              "      <td>0.097662</td>\n",
              "      <td>0.067831</td>\n",
              "      <td>0.073068</td>\n",
              "      <td>0.059609</td>\n",
              "      <td>0.066461</td>\n",
              "      <td>0.089845</td>\n",
              "      <td>0.089583</td>\n",
              "      <td>0.052083</td>\n",
              "      <td>0.056368</td>\n",
              "      <td>0.066296</td>\n",
              "      <td>Undertake barrier analysis for technology tra...</td>\n",
              "      <td>../txts/MDA_Republic-of-Moldova_First_NDC_Engl...</td>\n",
              "      <td>MDA</td>\n",
              "      <td>Republic-of-Moldova</td>\n",
              "    </tr>\n",
              "  </tbody>\n",
              "</table>\n",
              "<p>10822 rows × 16 columns</p>\n",
              "</div>"
            ],
            "text/plain": [
              "              0         1  ...  ISO              Country\n",
              "0      0.071562  0.097832  ...  CPV           Cabo-Verde\n",
              "1      0.063110  0.046167  ...  RWA               Rwanda\n",
              "2      0.089499  0.087571  ...  GMB               Gambia\n",
              "3      0.105330  0.068712  ...  JOR               Jordan\n",
              "4      0.107189  0.085991  ...  FSM           Micronesia\n",
              "...         ...       ...  ...  ...                  ...\n",
              "10817  0.072270  0.160351  ...  KHM             Cambodia\n",
              "10818  0.073940  0.075961  ...  URY              Uruguay\n",
              "10819  0.075174  0.057078  ...  MAR              Morocco\n",
              "10820  0.089567  0.084181  ...  LKA            Sri-Lanka\n",
              "10821  0.221295  0.059900  ...  MDA  Republic-of-Moldova\n",
              "\n",
              "[10822 rows x 16 columns]"
            ]
          },
          "metadata": {
            "tags": []
          },
          "execution_count": 68
        }
      ]
    },
    {
      "cell_type": "code",
      "metadata": {
        "id": "4qvNI9gsU7VH"
      },
      "source": [
        "distr_df.to_csv(\"topic_distr.csv\")"
      ],
      "execution_count": 69,
      "outputs": []
    },
    {
      "cell_type": "markdown",
      "metadata": {
        "id": "vj6-O08AVifx"
      },
      "source": [
        "Compute aggregated topic distribution for each country"
      ]
    },
    {
      "cell_type": "code",
      "metadata": {
        "colab": {
          "base_uri": "https://localhost:8080/",
          "height": 422
        },
        "id": "O8tyzFeBVnSh",
        "outputId": "690b6459-2eb2-454b-dc6b-50ff7b3f96f9"
      },
      "source": [
        "agg_df = distr_df.drop(columns=['Text', 'Document', 'Country'])\n",
        "agg_df"
      ],
      "execution_count": 70,
      "outputs": [
        {
          "output_type": "execute_result",
          "data": {
            "text/html": [
              "<div>\n",
              "<style scoped>\n",
              "    .dataframe tbody tr th:only-of-type {\n",
              "        vertical-align: middle;\n",
              "    }\n",
              "\n",
              "    .dataframe tbody tr th {\n",
              "        vertical-align: top;\n",
              "    }\n",
              "\n",
              "    .dataframe thead th {\n",
              "        text-align: right;\n",
              "    }\n",
              "</style>\n",
              "<table border=\"1\" class=\"dataframe\">\n",
              "  <thead>\n",
              "    <tr style=\"text-align: right;\">\n",
              "      <th></th>\n",
              "      <th>0</th>\n",
              "      <th>1</th>\n",
              "      <th>2</th>\n",
              "      <th>3</th>\n",
              "      <th>4</th>\n",
              "      <th>5</th>\n",
              "      <th>6</th>\n",
              "      <th>7</th>\n",
              "      <th>8</th>\n",
              "      <th>9</th>\n",
              "      <th>10</th>\n",
              "      <th>11</th>\n",
              "      <th>ISO</th>\n",
              "    </tr>\n",
              "  </thead>\n",
              "  <tbody>\n",
              "    <tr>\n",
              "      <th>0</th>\n",
              "      <td>0.071562</td>\n",
              "      <td>0.097832</td>\n",
              "      <td>0.062693</td>\n",
              "      <td>0.093846</td>\n",
              "      <td>0.056327</td>\n",
              "      <td>0.069013</td>\n",
              "      <td>0.069872</td>\n",
              "      <td>0.074852</td>\n",
              "      <td>0.056348</td>\n",
              "      <td>0.072943</td>\n",
              "      <td>0.164397</td>\n",
              "      <td>0.110314</td>\n",
              "      <td>CPV</td>\n",
              "    </tr>\n",
              "    <tr>\n",
              "      <th>1</th>\n",
              "      <td>0.063110</td>\n",
              "      <td>0.046167</td>\n",
              "      <td>0.063984</td>\n",
              "      <td>0.060405</td>\n",
              "      <td>0.048159</td>\n",
              "      <td>0.081141</td>\n",
              "      <td>0.139765</td>\n",
              "      <td>0.088007</td>\n",
              "      <td>0.218887</td>\n",
              "      <td>0.049967</td>\n",
              "      <td>0.049341</td>\n",
              "      <td>0.091068</td>\n",
              "      <td>RWA</td>\n",
              "    </tr>\n",
              "    <tr>\n",
              "      <th>2</th>\n",
              "      <td>0.089499</td>\n",
              "      <td>0.087571</td>\n",
              "      <td>0.134885</td>\n",
              "      <td>0.070621</td>\n",
              "      <td>0.087571</td>\n",
              "      <td>0.070621</td>\n",
              "      <td>0.074154</td>\n",
              "      <td>0.070621</td>\n",
              "      <td>0.070621</td>\n",
              "      <td>0.097146</td>\n",
              "      <td>0.076067</td>\n",
              "      <td>0.070621</td>\n",
              "      <td>GMB</td>\n",
              "    </tr>\n",
              "    <tr>\n",
              "      <th>3</th>\n",
              "      <td>0.105330</td>\n",
              "      <td>0.068712</td>\n",
              "      <td>0.061450</td>\n",
              "      <td>0.075980</td>\n",
              "      <td>0.114400</td>\n",
              "      <td>0.134774</td>\n",
              "      <td>0.061275</td>\n",
              "      <td>0.065786</td>\n",
              "      <td>0.076908</td>\n",
              "      <td>0.075980</td>\n",
              "      <td>0.062969</td>\n",
              "      <td>0.096436</td>\n",
              "      <td>JOR</td>\n",
              "    </tr>\n",
              "    <tr>\n",
              "      <th>4</th>\n",
              "      <td>0.107189</td>\n",
              "      <td>0.085991</td>\n",
              "      <td>0.064923</td>\n",
              "      <td>0.095639</td>\n",
              "      <td>0.062211</td>\n",
              "      <td>0.081728</td>\n",
              "      <td>0.104366</td>\n",
              "      <td>0.063465</td>\n",
              "      <td>0.070410</td>\n",
              "      <td>0.068866</td>\n",
              "      <td>0.062189</td>\n",
              "      <td>0.133024</td>\n",
              "      <td>FSM</td>\n",
              "    </tr>\n",
              "    <tr>\n",
              "      <th>...</th>\n",
              "      <td>...</td>\n",
              "      <td>...</td>\n",
              "      <td>...</td>\n",
              "      <td>...</td>\n",
              "      <td>...</td>\n",
              "      <td>...</td>\n",
              "      <td>...</td>\n",
              "      <td>...</td>\n",
              "      <td>...</td>\n",
              "      <td>...</td>\n",
              "      <td>...</td>\n",
              "      <td>...</td>\n",
              "      <td>...</td>\n",
              "    </tr>\n",
              "    <tr>\n",
              "      <th>10817</th>\n",
              "      <td>0.072270</td>\n",
              "      <td>0.160351</td>\n",
              "      <td>0.101735</td>\n",
              "      <td>0.070621</td>\n",
              "      <td>0.070621</td>\n",
              "      <td>0.070621</td>\n",
              "      <td>0.072711</td>\n",
              "      <td>0.081831</td>\n",
              "      <td>0.087373</td>\n",
              "      <td>0.070621</td>\n",
              "      <td>0.070621</td>\n",
              "      <td>0.070621</td>\n",
              "      <td>KHM</td>\n",
              "    </tr>\n",
              "    <tr>\n",
              "      <th>10818</th>\n",
              "      <td>0.073940</td>\n",
              "      <td>0.075961</td>\n",
              "      <td>0.089233</td>\n",
              "      <td>0.086245</td>\n",
              "      <td>0.083292</td>\n",
              "      <td>0.081614</td>\n",
              "      <td>0.104520</td>\n",
              "      <td>0.076443</td>\n",
              "      <td>0.085909</td>\n",
              "      <td>0.082231</td>\n",
              "      <td>0.089990</td>\n",
              "      <td>0.070621</td>\n",
              "      <td>URY</td>\n",
              "    </tr>\n",
              "    <tr>\n",
              "      <th>10819</th>\n",
              "      <td>0.075174</td>\n",
              "      <td>0.057078</td>\n",
              "      <td>0.060296</td>\n",
              "      <td>0.105992</td>\n",
              "      <td>0.059629</td>\n",
              "      <td>0.057078</td>\n",
              "      <td>0.087746</td>\n",
              "      <td>0.199486</td>\n",
              "      <td>0.062441</td>\n",
              "      <td>0.087819</td>\n",
              "      <td>0.058750</td>\n",
              "      <td>0.088511</td>\n",
              "      <td>MAR</td>\n",
              "    </tr>\n",
              "    <tr>\n",
              "      <th>10820</th>\n",
              "      <td>0.089567</td>\n",
              "      <td>0.084181</td>\n",
              "      <td>0.064682</td>\n",
              "      <td>0.169675</td>\n",
              "      <td>0.081459</td>\n",
              "      <td>0.066383</td>\n",
              "      <td>0.080082</td>\n",
              "      <td>0.097335</td>\n",
              "      <td>0.062189</td>\n",
              "      <td>0.063461</td>\n",
              "      <td>0.078748</td>\n",
              "      <td>0.062237</td>\n",
              "      <td>LKA</td>\n",
              "    </tr>\n",
              "    <tr>\n",
              "      <th>10821</th>\n",
              "      <td>0.221295</td>\n",
              "      <td>0.059900</td>\n",
              "      <td>0.097662</td>\n",
              "      <td>0.067831</td>\n",
              "      <td>0.073068</td>\n",
              "      <td>0.059609</td>\n",
              "      <td>0.066461</td>\n",
              "      <td>0.089845</td>\n",
              "      <td>0.089583</td>\n",
              "      <td>0.052083</td>\n",
              "      <td>0.056368</td>\n",
              "      <td>0.066296</td>\n",
              "      <td>MDA</td>\n",
              "    </tr>\n",
              "  </tbody>\n",
              "</table>\n",
              "<p>10822 rows × 13 columns</p>\n",
              "</div>"
            ],
            "text/plain": [
              "              0         1         2  ...        10        11  ISO\n",
              "0      0.071562  0.097832  0.062693  ...  0.164397  0.110314  CPV\n",
              "1      0.063110  0.046167  0.063984  ...  0.049341  0.091068  RWA\n",
              "2      0.089499  0.087571  0.134885  ...  0.076067  0.070621  GMB\n",
              "3      0.105330  0.068712  0.061450  ...  0.062969  0.096436  JOR\n",
              "4      0.107189  0.085991  0.064923  ...  0.062189  0.133024  FSM\n",
              "...         ...       ...       ...  ...       ...       ...  ...\n",
              "10817  0.072270  0.160351  0.101735  ...  0.070621  0.070621  KHM\n",
              "10818  0.073940  0.075961  0.089233  ...  0.089990  0.070621  URY\n",
              "10819  0.075174  0.057078  0.060296  ...  0.058750  0.088511  MAR\n",
              "10820  0.089567  0.084181  0.064682  ...  0.078748  0.062237  LKA\n",
              "10821  0.221295  0.059900  0.097662  ...  0.056368  0.066296  MDA\n",
              "\n",
              "[10822 rows x 13 columns]"
            ]
          },
          "metadata": {
            "tags": []
          },
          "execution_count": 70
        }
      ]
    },
    {
      "cell_type": "code",
      "metadata": {
        "id": "eMUz04REWLcH"
      },
      "source": [
        "agg_df = agg_df.groupby('ISO').mean()"
      ],
      "execution_count": 71,
      "outputs": []
    },
    {
      "cell_type": "markdown",
      "metadata": {
        "id": "-oxEwIbwqrG_"
      },
      "source": [
        "Add one row with EU data for each of the EU countries as there is only one NDC for European Union"
      ]
    },
    {
      "cell_type": "code",
      "metadata": {
        "id": "3sdc5xz8nl3v"
      },
      "source": [
        "EU_isos = ['AUT', 'BEL', 'BGR', 'CZE', 'CYP', 'HRV', 'DNK', 'EST', 'FIN', 'FRA', 'DEU', 'GRC', 'IRL', 'ITA', \n",
        "           'LVA', 'LTU', 'LUX', 'MLT', 'POL', 'PRT', 'ROU', 'SVK', 'SVN', 'ESP', 'SWE', 'HUN', 'NLD']"
      ],
      "execution_count": 72,
      "outputs": []
    },
    {
      "cell_type": "code",
      "metadata": {
        "id": "VcvXpAoLqVVr"
      },
      "source": [
        "for iso in EU_isos:\n",
        "  agg_df.loc[iso] = agg_df.loc['EUU']"
      ],
      "execution_count": 73,
      "outputs": []
    },
    {
      "cell_type": "code",
      "metadata": {
        "colab": {
          "base_uri": "https://localhost:8080/",
          "height": 454
        },
        "id": "jpRyDH7DqhQn",
        "outputId": "075e20f3-0f67-41a2-f587-563562232634"
      },
      "source": [
        "agg_df"
      ],
      "execution_count": 74,
      "outputs": [
        {
          "output_type": "execute_result",
          "data": {
            "text/html": [
              "<div>\n",
              "<style scoped>\n",
              "    .dataframe tbody tr th:only-of-type {\n",
              "        vertical-align: middle;\n",
              "    }\n",
              "\n",
              "    .dataframe tbody tr th {\n",
              "        vertical-align: top;\n",
              "    }\n",
              "\n",
              "    .dataframe thead th {\n",
              "        text-align: right;\n",
              "    }\n",
              "</style>\n",
              "<table border=\"1\" class=\"dataframe\">\n",
              "  <thead>\n",
              "    <tr style=\"text-align: right;\">\n",
              "      <th></th>\n",
              "      <th>0</th>\n",
              "      <th>1</th>\n",
              "      <th>2</th>\n",
              "      <th>3</th>\n",
              "      <th>4</th>\n",
              "      <th>5</th>\n",
              "      <th>6</th>\n",
              "      <th>7</th>\n",
              "      <th>8</th>\n",
              "      <th>9</th>\n",
              "      <th>10</th>\n",
              "      <th>11</th>\n",
              "    </tr>\n",
              "    <tr>\n",
              "      <th>ISO</th>\n",
              "      <th></th>\n",
              "      <th></th>\n",
              "      <th></th>\n",
              "      <th></th>\n",
              "      <th></th>\n",
              "      <th></th>\n",
              "      <th></th>\n",
              "      <th></th>\n",
              "      <th></th>\n",
              "      <th></th>\n",
              "      <th></th>\n",
              "      <th></th>\n",
              "    </tr>\n",
              "  </thead>\n",
              "  <tbody>\n",
              "    <tr>\n",
              "      <th>AFG</th>\n",
              "      <td>0.093408</td>\n",
              "      <td>0.071740</td>\n",
              "      <td>0.089282</td>\n",
              "      <td>0.087725</td>\n",
              "      <td>0.099931</td>\n",
              "      <td>0.088682</td>\n",
              "      <td>0.071271</td>\n",
              "      <td>0.074748</td>\n",
              "      <td>0.069508</td>\n",
              "      <td>0.098322</td>\n",
              "      <td>0.085704</td>\n",
              "      <td>0.069678</td>\n",
              "    </tr>\n",
              "    <tr>\n",
              "      <th>AGO</th>\n",
              "      <td>0.079562</td>\n",
              "      <td>0.074668</td>\n",
              "      <td>0.083852</td>\n",
              "      <td>0.072573</td>\n",
              "      <td>0.080107</td>\n",
              "      <td>0.117886</td>\n",
              "      <td>0.085861</td>\n",
              "      <td>0.070311</td>\n",
              "      <td>0.070894</td>\n",
              "      <td>0.092429</td>\n",
              "      <td>0.098233</td>\n",
              "      <td>0.073624</td>\n",
              "    </tr>\n",
              "    <tr>\n",
              "      <th>ALB</th>\n",
              "      <td>0.080646</td>\n",
              "      <td>0.080150</td>\n",
              "      <td>0.078390</td>\n",
              "      <td>0.085556</td>\n",
              "      <td>0.082575</td>\n",
              "      <td>0.086645</td>\n",
              "      <td>0.083393</td>\n",
              "      <td>0.080082</td>\n",
              "      <td>0.087267</td>\n",
              "      <td>0.077367</td>\n",
              "      <td>0.079458</td>\n",
              "      <td>0.098473</td>\n",
              "    </tr>\n",
              "    <tr>\n",
              "      <th>ARE</th>\n",
              "      <td>0.089507</td>\n",
              "      <td>0.076851</td>\n",
              "      <td>0.077505</td>\n",
              "      <td>0.080967</td>\n",
              "      <td>0.078078</td>\n",
              "      <td>0.072535</td>\n",
              "      <td>0.073036</td>\n",
              "      <td>0.079858</td>\n",
              "      <td>0.063938</td>\n",
              "      <td>0.087238</td>\n",
              "      <td>0.148517</td>\n",
              "      <td>0.071971</td>\n",
              "    </tr>\n",
              "    <tr>\n",
              "      <th>ARG</th>\n",
              "      <td>0.073873</td>\n",
              "      <td>0.072434</td>\n",
              "      <td>0.083661</td>\n",
              "      <td>0.069880</td>\n",
              "      <td>0.075299</td>\n",
              "      <td>0.088878</td>\n",
              "      <td>0.089094</td>\n",
              "      <td>0.110774</td>\n",
              "      <td>0.092602</td>\n",
              "      <td>0.069253</td>\n",
              "      <td>0.058465</td>\n",
              "      <td>0.115788</td>\n",
              "    </tr>\n",
              "    <tr>\n",
              "      <th>...</th>\n",
              "      <td>...</td>\n",
              "      <td>...</td>\n",
              "      <td>...</td>\n",
              "      <td>...</td>\n",
              "      <td>...</td>\n",
              "      <td>...</td>\n",
              "      <td>...</td>\n",
              "      <td>...</td>\n",
              "      <td>...</td>\n",
              "      <td>...</td>\n",
              "      <td>...</td>\n",
              "      <td>...</td>\n",
              "    </tr>\n",
              "    <tr>\n",
              "      <th>SVN</th>\n",
              "      <td>0.062501</td>\n",
              "      <td>0.056002</td>\n",
              "      <td>0.063160</td>\n",
              "      <td>0.069097</td>\n",
              "      <td>0.068705</td>\n",
              "      <td>0.126362</td>\n",
              "      <td>0.067439</td>\n",
              "      <td>0.070142</td>\n",
              "      <td>0.080951</td>\n",
              "      <td>0.088164</td>\n",
              "      <td>0.078887</td>\n",
              "      <td>0.168588</td>\n",
              "    </tr>\n",
              "    <tr>\n",
              "      <th>ESP</th>\n",
              "      <td>0.062501</td>\n",
              "      <td>0.056002</td>\n",
              "      <td>0.063160</td>\n",
              "      <td>0.069097</td>\n",
              "      <td>0.068705</td>\n",
              "      <td>0.126362</td>\n",
              "      <td>0.067439</td>\n",
              "      <td>0.070142</td>\n",
              "      <td>0.080951</td>\n",
              "      <td>0.088164</td>\n",
              "      <td>0.078887</td>\n",
              "      <td>0.168588</td>\n",
              "    </tr>\n",
              "    <tr>\n",
              "      <th>SWE</th>\n",
              "      <td>0.062501</td>\n",
              "      <td>0.056002</td>\n",
              "      <td>0.063160</td>\n",
              "      <td>0.069097</td>\n",
              "      <td>0.068705</td>\n",
              "      <td>0.126362</td>\n",
              "      <td>0.067439</td>\n",
              "      <td>0.070142</td>\n",
              "      <td>0.080951</td>\n",
              "      <td>0.088164</td>\n",
              "      <td>0.078887</td>\n",
              "      <td>0.168588</td>\n",
              "    </tr>\n",
              "    <tr>\n",
              "      <th>HUN</th>\n",
              "      <td>0.062501</td>\n",
              "      <td>0.056002</td>\n",
              "      <td>0.063160</td>\n",
              "      <td>0.069097</td>\n",
              "      <td>0.068705</td>\n",
              "      <td>0.126362</td>\n",
              "      <td>0.067439</td>\n",
              "      <td>0.070142</td>\n",
              "      <td>0.080951</td>\n",
              "      <td>0.088164</td>\n",
              "      <td>0.078887</td>\n",
              "      <td>0.168588</td>\n",
              "    </tr>\n",
              "    <tr>\n",
              "      <th>NLD</th>\n",
              "      <td>0.062501</td>\n",
              "      <td>0.056002</td>\n",
              "      <td>0.063160</td>\n",
              "      <td>0.069097</td>\n",
              "      <td>0.068705</td>\n",
              "      <td>0.126362</td>\n",
              "      <td>0.067439</td>\n",
              "      <td>0.070142</td>\n",
              "      <td>0.080951</td>\n",
              "      <td>0.088164</td>\n",
              "      <td>0.078887</td>\n",
              "      <td>0.168588</td>\n",
              "    </tr>\n",
              "  </tbody>\n",
              "</table>\n",
              "<p>165 rows × 12 columns</p>\n",
              "</div>"
            ],
            "text/plain": [
              "            0         1         2  ...         9        10        11\n",
              "ISO                                ...                              \n",
              "AFG  0.093408  0.071740  0.089282  ...  0.098322  0.085704  0.069678\n",
              "AGO  0.079562  0.074668  0.083852  ...  0.092429  0.098233  0.073624\n",
              "ALB  0.080646  0.080150  0.078390  ...  0.077367  0.079458  0.098473\n",
              "ARE  0.089507  0.076851  0.077505  ...  0.087238  0.148517  0.071971\n",
              "ARG  0.073873  0.072434  0.083661  ...  0.069253  0.058465  0.115788\n",
              "..        ...       ...       ...  ...       ...       ...       ...\n",
              "SVN  0.062501  0.056002  0.063160  ...  0.088164  0.078887  0.168588\n",
              "ESP  0.062501  0.056002  0.063160  ...  0.088164  0.078887  0.168588\n",
              "SWE  0.062501  0.056002  0.063160  ...  0.088164  0.078887  0.168588\n",
              "HUN  0.062501  0.056002  0.063160  ...  0.088164  0.078887  0.168588\n",
              "NLD  0.062501  0.056002  0.063160  ...  0.088164  0.078887  0.168588\n",
              "\n",
              "[165 rows x 12 columns]"
            ]
          },
          "metadata": {
            "tags": []
          },
          "execution_count": 74
        }
      ]
    },
    {
      "cell_type": "code",
      "metadata": {
        "id": "rrsXKWVLWss2"
      },
      "source": [
        "agg_df.to_csv(\"aggregated_data.csv\")"
      ],
      "execution_count": 75,
      "outputs": []
    }
  ]
}