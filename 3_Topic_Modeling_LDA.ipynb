{
  "nbformat": 4,
  "nbformat_minor": 0,
  "metadata": {
    "colab": {
      "name": "3_Topic_Modeling:LDA.ipynb",
      "provenance": [],
      "collapsed_sections": [],
      "authorship_tag": "ABX9TyNBReI7md3zgwjAeI7cm9b2",
      "include_colab_link": true
    },
    "kernelspec": {
      "name": "python3",
      "display_name": "Python 3"
    },
    "language_info": {
      "name": "python"
    }
  },
  "cells": [
    {
      "cell_type": "markdown",
      "metadata": {
        "id": "view-in-github",
        "colab_type": "text"
      },
      "source": [
        "<a href=\"https://colab.research.google.com/github/butoialexandra/Determining-country-specific-engagement-in-climate-change-policies/blob/main/3_Topic_Modeling_LDA.ipynb\" target=\"_parent\"><img src=\"https://colab.research.google.com/assets/colab-badge.svg\" alt=\"Open In Colab\"/></a>"
      ]
    },
    {
      "cell_type": "markdown",
      "metadata": {
        "id": "-fkSaDhCk7LH"
      },
      "source": [
        "# Topic Modeling"
      ]
    },
    {
      "cell_type": "markdown",
      "metadata": {
        "id": "r9pwMrvwjDSe"
      },
      "source": [
        "Code adapted from [here](https://neptune.ai/blog/pyldavis-topic-modelling-exploration-tool-that-every-nlp-data-scientist-should-know?utm_source=datacamp&utm_medium=post&utm_campaign=blog-pyldavis-topic-modelling-exploration-tool-that-every-nlp-data-scientist-should-know)\n"
      ]
    },
    {
      "cell_type": "markdown",
      "metadata": {
        "id": "Uxx2La5e3QkO"
      },
      "source": [
        "Mount drive"
      ]
    },
    {
      "cell_type": "code",
      "metadata": {
        "colab": {
          "base_uri": "https://localhost:8080/"
        },
        "id": "3zdEeWi5ybg5",
        "outputId": "afc98b43-4d68-48f8-aeaa-4ee567df386e"
      },
      "source": [
        "from google.colab import drive\n",
        "drive.mount('/content/drive/', force_remount=True)"
      ],
      "execution_count": 1,
      "outputs": [
        {
          "output_type": "stream",
          "text": [
            "Mounted at /content/drive/\n"
          ],
          "name": "stdout"
        }
      ]
    },
    {
      "cell_type": "markdown",
      "metadata": {
        "id": "QBCyp1Ca3Ufy"
      },
      "source": [
        "Check you're in the right place"
      ]
    },
    {
      "cell_type": "code",
      "metadata": {
        "colab": {
          "base_uri": "https://localhost:8080/"
        },
        "id": "1cHt3PKN3HrK",
        "outputId": "fe69473d-93c3-4dc0-dd6d-c6601bfe8ad4"
      },
      "source": [
        "!pwd"
      ],
      "execution_count": 2,
      "outputs": [
        {
          "output_type": "stream",
          "text": [
            "/content\n"
          ],
          "name": "stdout"
        }
      ]
    },
    {
      "cell_type": "code",
      "metadata": {
        "colab": {
          "base_uri": "https://localhost:8080/"
        },
        "id": "FNp4m_N80qDI",
        "outputId": "f92e3f6a-454c-4be2-d70a-a74efe732b3c"
      },
      "source": [
        "%cd /content/drive/My\\ Drive/"
      ],
      "execution_count": 3,
      "outputs": [
        {
          "output_type": "stream",
          "text": [
            "/content/drive/My Drive\n"
          ],
          "name": "stdout"
        }
      ]
    },
    {
      "cell_type": "markdown",
      "metadata": {
        "id": "CmvcgHy3QbFa"
      },
      "source": [
        "Download these libraries if haven't done already"
      ]
    },
    {
      "cell_type": "code",
      "metadata": {
        "id": "9lqHi-qcy2eL",
        "colab": {
          "base_uri": "https://localhost:8080/"
        },
        "outputId": "81dad974-26b7-4a07-d99d-6f45f3e98f55"
      },
      "source": [
        "!python -m spacy download en\n",
        "!pip install pyLDAvis==3.2.1"
      ],
      "execution_count": 4,
      "outputs": [
        {
          "output_type": "stream",
          "text": [
            "Collecting en_core_web_sm==2.2.5\n",
            "  Downloading https://github.com/explosion/spacy-models/releases/download/en_core_web_sm-2.2.5/en_core_web_sm-2.2.5.tar.gz (12.0 MB)\n",
            "\u001b[K     |████████████████████████████████| 12.0 MB 5.2 MB/s \n",
            "\u001b[?25hRequirement already satisfied: spacy>=2.2.2 in /usr/local/lib/python3.7/dist-packages (from en_core_web_sm==2.2.5) (2.2.4)\n",
            "Requirement already satisfied: murmurhash<1.1.0,>=0.28.0 in /usr/local/lib/python3.7/dist-packages (from spacy>=2.2.2->en_core_web_sm==2.2.5) (1.0.5)\n",
            "Requirement already satisfied: plac<1.2.0,>=0.9.6 in /usr/local/lib/python3.7/dist-packages (from spacy>=2.2.2->en_core_web_sm==2.2.5) (1.1.3)\n",
            "Requirement already satisfied: catalogue<1.1.0,>=0.0.7 in /usr/local/lib/python3.7/dist-packages (from spacy>=2.2.2->en_core_web_sm==2.2.5) (1.0.0)\n",
            "Requirement already satisfied: srsly<1.1.0,>=1.0.2 in /usr/local/lib/python3.7/dist-packages (from spacy>=2.2.2->en_core_web_sm==2.2.5) (1.0.5)\n",
            "Requirement already satisfied: thinc==7.4.0 in /usr/local/lib/python3.7/dist-packages (from spacy>=2.2.2->en_core_web_sm==2.2.5) (7.4.0)\n",
            "Requirement already satisfied: tqdm<5.0.0,>=4.38.0 in /usr/local/lib/python3.7/dist-packages (from spacy>=2.2.2->en_core_web_sm==2.2.5) (4.62.0)\n",
            "Requirement already satisfied: blis<0.5.0,>=0.4.0 in /usr/local/lib/python3.7/dist-packages (from spacy>=2.2.2->en_core_web_sm==2.2.5) (0.4.1)\n",
            "Requirement already satisfied: setuptools in /usr/local/lib/python3.7/dist-packages (from spacy>=2.2.2->en_core_web_sm==2.2.5) (57.2.0)\n",
            "Requirement already satisfied: numpy>=1.15.0 in /usr/local/lib/python3.7/dist-packages (from spacy>=2.2.2->en_core_web_sm==2.2.5) (1.19.5)\n",
            "Requirement already satisfied: requests<3.0.0,>=2.13.0 in /usr/local/lib/python3.7/dist-packages (from spacy>=2.2.2->en_core_web_sm==2.2.5) (2.23.0)\n",
            "Requirement already satisfied: wasabi<1.1.0,>=0.4.0 in /usr/local/lib/python3.7/dist-packages (from spacy>=2.2.2->en_core_web_sm==2.2.5) (0.8.2)\n",
            "Requirement already satisfied: cymem<2.1.0,>=2.0.2 in /usr/local/lib/python3.7/dist-packages (from spacy>=2.2.2->en_core_web_sm==2.2.5) (2.0.5)\n",
            "Requirement already satisfied: preshed<3.1.0,>=3.0.2 in /usr/local/lib/python3.7/dist-packages (from spacy>=2.2.2->en_core_web_sm==2.2.5) (3.0.5)\n",
            "Requirement already satisfied: importlib-metadata>=0.20 in /usr/local/lib/python3.7/dist-packages (from catalogue<1.1.0,>=0.0.7->spacy>=2.2.2->en_core_web_sm==2.2.5) (4.6.3)\n",
            "Requirement already satisfied: typing-extensions>=3.6.4 in /usr/local/lib/python3.7/dist-packages (from importlib-metadata>=0.20->catalogue<1.1.0,>=0.0.7->spacy>=2.2.2->en_core_web_sm==2.2.5) (3.7.4.3)\n",
            "Requirement already satisfied: zipp>=0.5 in /usr/local/lib/python3.7/dist-packages (from importlib-metadata>=0.20->catalogue<1.1.0,>=0.0.7->spacy>=2.2.2->en_core_web_sm==2.2.5) (3.5.0)\n",
            "Requirement already satisfied: chardet<4,>=3.0.2 in /usr/local/lib/python3.7/dist-packages (from requests<3.0.0,>=2.13.0->spacy>=2.2.2->en_core_web_sm==2.2.5) (3.0.4)\n",
            "Requirement already satisfied: idna<3,>=2.5 in /usr/local/lib/python3.7/dist-packages (from requests<3.0.0,>=2.13.0->spacy>=2.2.2->en_core_web_sm==2.2.5) (2.10)\n",
            "Requirement already satisfied: urllib3!=1.25.0,!=1.25.1,<1.26,>=1.21.1 in /usr/local/lib/python3.7/dist-packages (from requests<3.0.0,>=2.13.0->spacy>=2.2.2->en_core_web_sm==2.2.5) (1.24.3)\n",
            "Requirement already satisfied: certifi>=2017.4.17 in /usr/local/lib/python3.7/dist-packages (from requests<3.0.0,>=2.13.0->spacy>=2.2.2->en_core_web_sm==2.2.5) (2021.5.30)\n",
            "\u001b[38;5;2m✔ Download and installation successful\u001b[0m\n",
            "You can now load the model via spacy.load('en_core_web_sm')\n",
            "\u001b[38;5;2m✔ Linking successful\u001b[0m\n",
            "/usr/local/lib/python3.7/dist-packages/en_core_web_sm -->\n",
            "/usr/local/lib/python3.7/dist-packages/spacy/data/en\n",
            "You can now load the model via spacy.load('en')\n",
            "Collecting pyLDAvis==3.2.1\n",
            "  Downloading pyLDAvis-3.2.1.tar.gz (1.7 MB)\n",
            "\u001b[K     |████████████████████████████████| 1.7 MB 5.1 MB/s \n",
            "\u001b[?25hRequirement already satisfied: wheel>=0.23.0 in /usr/local/lib/python3.7/dist-packages (from pyLDAvis==3.2.1) (0.37.0)\n",
            "Requirement already satisfied: numpy>=1.9.2 in /usr/local/lib/python3.7/dist-packages (from pyLDAvis==3.2.1) (1.19.5)\n",
            "Requirement already satisfied: scipy>=0.18.0 in /usr/local/lib/python3.7/dist-packages (from pyLDAvis==3.2.1) (1.4.1)\n",
            "Requirement already satisfied: joblib>=0.8.4 in /usr/local/lib/python3.7/dist-packages (from pyLDAvis==3.2.1) (1.0.1)\n",
            "Requirement already satisfied: jinja2>=2.7.2 in /usr/local/lib/python3.7/dist-packages (from pyLDAvis==3.2.1) (2.11.3)\n",
            "Requirement already satisfied: numexpr in /usr/local/lib/python3.7/dist-packages (from pyLDAvis==3.2.1) (2.7.3)\n",
            "Requirement already satisfied: future in /usr/local/lib/python3.7/dist-packages (from pyLDAvis==3.2.1) (0.16.0)\n",
            "Collecting funcy\n",
            "  Downloading funcy-1.16-py2.py3-none-any.whl (32 kB)\n",
            "Requirement already satisfied: pandas>=0.17.0 in /usr/local/lib/python3.7/dist-packages (from pyLDAvis==3.2.1) (1.1.5)\n",
            "Requirement already satisfied: MarkupSafe>=0.23 in /usr/local/lib/python3.7/dist-packages (from jinja2>=2.7.2->pyLDAvis==3.2.1) (2.0.1)\n",
            "Requirement already satisfied: pytz>=2017.2 in /usr/local/lib/python3.7/dist-packages (from pandas>=0.17.0->pyLDAvis==3.2.1) (2018.9)\n",
            "Requirement already satisfied: python-dateutil>=2.7.3 in /usr/local/lib/python3.7/dist-packages (from pandas>=0.17.0->pyLDAvis==3.2.1) (2.8.2)\n",
            "Requirement already satisfied: six>=1.5 in /usr/local/lib/python3.7/dist-packages (from python-dateutil>=2.7.3->pandas>=0.17.0->pyLDAvis==3.2.1) (1.15.0)\n",
            "Building wheels for collected packages: pyLDAvis\n",
            "  Building wheel for pyLDAvis (setup.py) ... \u001b[?25l\u001b[?25hdone\n",
            "  Created wheel for pyLDAvis: filename=pyLDAvis-3.2.1-py2.py3-none-any.whl size=136187 sha256=42831ea8d871430bc0aa478997203f9e3d4cd59fa7aaefecb98358225cb05682\n",
            "  Stored in directory: /root/.cache/pip/wheels/c6/ee/a6/7c17a63623f940dff0b9cbd7e48a27543f088fa55a7d2b62d0\n",
            "Successfully built pyLDAvis\n",
            "Installing collected packages: funcy, pyLDAvis\n",
            "Successfully installed funcy-1.16 pyLDAvis-3.2.1\n"
          ],
          "name": "stdout"
        }
      ]
    },
    {
      "cell_type": "markdown",
      "metadata": {
        "id": "EtSf__zW3cvA"
      },
      "source": [
        "Imports"
      ]
    },
    {
      "cell_type": "code",
      "metadata": {
        "id": "6GrkfDNgzE_Q",
        "colab": {
          "base_uri": "https://localhost:8080/"
        },
        "outputId": "70250e84-0276-4330-a309-ece589d03c28"
      },
      "source": [
        "import re\n",
        "import numpy as np\n",
        "import pandas as pd\n",
        "import glob\n",
        "import pickle\n",
        "from pprint import pprint\n",
        "from tqdm import tqdm\n",
        "\n",
        "import gensim\n",
        "import gensim.corpora as corpora\n",
        "from gensim.utils import simple_preprocess\n",
        "from gensim.models import CoherenceModel\n",
        "from gensim.parsing.porter import PorterStemmer\n",
        "\n",
        "import spacy\n",
        "\n",
        "import pyLDAvis\n",
        "import pyLDAvis.gensim \n",
        "import matplotlib.pyplot as plt\n",
        "%matplotlib inline\n",
        "\n",
        "import nltk; nltk.download('stopwords')\n",
        "from nltk.corpus import stopwords\n",
        "stop_words = stopwords.words('english')\n",
        "\n",
        "import warnings\n",
        "warnings.filterwarnings(\"ignore\", category=DeprecationWarning) "
      ],
      "execution_count": 39,
      "outputs": [
        {
          "output_type": "stream",
          "text": [
            "[nltk_data] Downloading package stopwords to /root/nltk_data...\n",
            "[nltk_data]   Package stopwords is already up-to-date!\n"
          ],
          "name": "stdout"
        }
      ]
    },
    {
      "cell_type": "markdown",
      "metadata": {
        "id": "y4i2ytiURmk1"
      },
      "source": [
        "Load data"
      ]
    },
    {
      "cell_type": "code",
      "metadata": {
        "id": "dky5_S4_1r0H"
      },
      "source": [
        "df = pd.read_csv(\"./data.csv\") "
      ],
      "execution_count": 6,
      "outputs": []
    },
    {
      "cell_type": "code",
      "metadata": {
        "id": "KTZaY1vz0jl_",
        "colab": {
          "base_uri": "https://localhost:8080/",
          "height": 205
        },
        "outputId": "79d60c10-934e-40a5-c5a4-5466c091d296"
      },
      "source": [
        "df.head(5)"
      ],
      "execution_count": 7,
      "outputs": [
        {
          "output_type": "execute_result",
          "data": {
            "text/html": [
              "<div>\n",
              "<style scoped>\n",
              "    .dataframe tbody tr th:only-of-type {\n",
              "        vertical-align: middle;\n",
              "    }\n",
              "\n",
              "    .dataframe tbody tr th {\n",
              "        vertical-align: top;\n",
              "    }\n",
              "\n",
              "    .dataframe thead th {\n",
              "        text-align: right;\n",
              "    }\n",
              "</style>\n",
              "<table border=\"1\" class=\"dataframe\">\n",
              "  <thead>\n",
              "    <tr style=\"text-align: right;\">\n",
              "      <th></th>\n",
              "      <th>Document</th>\n",
              "      <th>NDC</th>\n",
              "    </tr>\n",
              "  </thead>\n",
              "  <tbody>\n",
              "    <tr>\n",
              "      <th>0</th>\n",
              "      <td>../txts/CPV_Cabo-Verde_First_NDC_English_Parag...</td>\n",
              "      <td>Cabo Verde is committed to implement the Susta...</td>\n",
              "    </tr>\n",
              "    <tr>\n",
              "      <th>1</th>\n",
              "      <td>../txts/LKA_Sri-Lanka_First_NDC_English_Paragr...</td>\n",
              "      <td>The means of implementation of NDCs of Sri Lan...</td>\n",
              "    </tr>\n",
              "    <tr>\n",
              "      <th>2</th>\n",
              "      <td>../txts/RWA_Rwanda_First_NDC_English_Paragraph...</td>\n",
              "      <td>This updated NDC updates and strengthens the f...</td>\n",
              "    </tr>\n",
              "    <tr>\n",
              "      <th>3</th>\n",
              "      <td>../txts/NER_Niger_First_NDC_Translation_Englis...</td>\n",
              "      <td>to use climate financing and benefit from the ...</td>\n",
              "    </tr>\n",
              "    <tr>\n",
              "      <th>4</th>\n",
              "      <td>../txts/GMB_Gambia_First_NDC_English_Paragraph...</td>\n",
              "      <td>Gambia Watershed by a) Improving disaster prep...</td>\n",
              "    </tr>\n",
              "  </tbody>\n",
              "</table>\n",
              "</div>"
            ],
            "text/plain": [
              "                                            Document                                                NDC\n",
              "0  ../txts/CPV_Cabo-Verde_First_NDC_English_Parag...  Cabo Verde is committed to implement the Susta...\n",
              "1  ../txts/LKA_Sri-Lanka_First_NDC_English_Paragr...  The means of implementation of NDCs of Sri Lan...\n",
              "2  ../txts/RWA_Rwanda_First_NDC_English_Paragraph...  This updated NDC updates and strengthens the f...\n",
              "3  ../txts/NER_Niger_First_NDC_Translation_Englis...  to use climate financing and benefit from the ...\n",
              "4  ../txts/GMB_Gambia_First_NDC_English_Paragraph...  Gambia Watershed by a) Improving disaster prep..."
            ]
          },
          "metadata": {
            "tags": []
          },
          "execution_count": 7
        }
      ]
    },
    {
      "cell_type": "markdown",
      "metadata": {
        "id": "uVFZqnb7Rxex"
      },
      "source": [
        "Some processing"
      ]
    },
    {
      "cell_type": "code",
      "metadata": {
        "id": "2TlMRCCB02FY"
      },
      "source": [
        "df['NDC_processed'] = df['NDC'].apply(lambda x: re.sub('[(),\\\\.!?0-9]', '', x))\n",
        "df['NDC_processed'] = df['NDC_processed'].apply(lambda x: x.lower())\n",
        "df['NDC_processed'] = df['NDC_processed'].apply(lambda x: x.strip())\n",
        "df['NDC_processed'] = df['NDC_processed'].apply(lambda x: re.sub(' +', ' ', x))\n",
        "df = df[df['NDC_processed'].apply(lambda x: len(x) > 100)]"
      ],
      "execution_count": 8,
      "outputs": []
    },
    {
      "cell_type": "code",
      "metadata": {
        "id": "Q3fa_b6R04HX",
        "colab": {
          "base_uri": "https://localhost:8080/",
          "height": 422
        },
        "outputId": "5ea5a9c3-5d9a-40e8-dbfb-02d090e20bad"
      },
      "source": [
        "df = df.reset_index(drop=True)\n",
        "df"
      ],
      "execution_count": 9,
      "outputs": [
        {
          "output_type": "execute_result",
          "data": {
            "text/html": [
              "<div>\n",
              "<style scoped>\n",
              "    .dataframe tbody tr th:only-of-type {\n",
              "        vertical-align: middle;\n",
              "    }\n",
              "\n",
              "    .dataframe tbody tr th {\n",
              "        vertical-align: top;\n",
              "    }\n",
              "\n",
              "    .dataframe thead th {\n",
              "        text-align: right;\n",
              "    }\n",
              "</style>\n",
              "<table border=\"1\" class=\"dataframe\">\n",
              "  <thead>\n",
              "    <tr style=\"text-align: right;\">\n",
              "      <th></th>\n",
              "      <th>Document</th>\n",
              "      <th>NDC</th>\n",
              "      <th>NDC_processed</th>\n",
              "    </tr>\n",
              "  </thead>\n",
              "  <tbody>\n",
              "    <tr>\n",
              "      <th>0</th>\n",
              "      <td>../txts/CPV_Cabo-Verde_First_NDC_English_Parag...</td>\n",
              "      <td>Cabo Verde is committed to implement the Susta...</td>\n",
              "      <td>cabo verde is committed to implement the susta...</td>\n",
              "    </tr>\n",
              "    <tr>\n",
              "      <th>1</th>\n",
              "      <td>../txts/RWA_Rwanda_First_NDC_English_Paragraph...</td>\n",
              "      <td>This updated NDC updates and strengthens the f...</td>\n",
              "      <td>this updated ndc updates and strengthens the f...</td>\n",
              "    </tr>\n",
              "    <tr>\n",
              "      <th>2</th>\n",
              "      <td>../txts/GMB_Gambia_First_NDC_English_Paragraph...</td>\n",
              "      <td>Gambia Watershed by a) Improving disaster prep...</td>\n",
              "      <td>gambia watershed by a improving disaster prepa...</td>\n",
              "    </tr>\n",
              "    <tr>\n",
              "      <th>3</th>\n",
              "      <td>../txts/JOR_Jordan_First_NDC_English_Paragraph...</td>\n",
              "      <td>The estimated cost to reach the 14 target is t...</td>\n",
              "      <td>the estimated cost to reach the target is tota...</td>\n",
              "    </tr>\n",
              "    <tr>\n",
              "      <th>4</th>\n",
              "      <td>../txts/FSM_Micronesia_First_NDC_English_Parag...</td>\n",
              "      <td>Moreover, national efforts to implement INDC i...</td>\n",
              "      <td>moreover national efforts to implement indc in...</td>\n",
              "    </tr>\n",
              "    <tr>\n",
              "      <th>...</th>\n",
              "      <td>...</td>\n",
              "      <td>...</td>\n",
              "      <td>...</td>\n",
              "    </tr>\n",
              "    <tr>\n",
              "      <th>10817</th>\n",
              "      <td>../txts/KHM_Cambodia_First_NDC_English_Paragra...</td>\n",
              "      <td>conducting surveillance and research on waterb...</td>\n",
              "      <td>conducting surveillance and research on waterb...</td>\n",
              "    </tr>\n",
              "    <tr>\n",
              "      <th>10818</th>\n",
              "      <td>../txts/URY_Uruguay_First_NDC_Translation_Engl...</td>\n",
              "      <td>The above chart contains a not exhaustive list...</td>\n",
              "      <td>the above chart contains a not exhaustive list...</td>\n",
              "    </tr>\n",
              "    <tr>\n",
              "      <th>10819</th>\n",
              "      <td>../txts/MAR_Morocco_First_NDC_Translation_Engl...</td>\n",
              "      <td>principles to be respected by the state, local...</td>\n",
              "      <td>principles to be respected by the state local ...</td>\n",
              "    </tr>\n",
              "    <tr>\n",
              "      <th>10820</th>\n",
              "      <td>../txts/LKA_Sri-Lanka_First_NDC_English_Paragr...</td>\n",
              "      <td>Integrated planning is the key means of implem...</td>\n",
              "      <td>integrated planning is the key means of implem...</td>\n",
              "    </tr>\n",
              "    <tr>\n",
              "      <th>10821</th>\n",
              "      <td>../txts/MDA_Republic-of-Moldova_First_NDC_Engl...</td>\n",
              "      <td>Undertake barrier analysis for technology tra...</td>\n",
              "      <td>undertake barrier analysis for technology tran...</td>\n",
              "    </tr>\n",
              "  </tbody>\n",
              "</table>\n",
              "<p>10822 rows × 3 columns</p>\n",
              "</div>"
            ],
            "text/plain": [
              "                                                Document  ...                                      NDC_processed\n",
              "0      ../txts/CPV_Cabo-Verde_First_NDC_English_Parag...  ...  cabo verde is committed to implement the susta...\n",
              "1      ../txts/RWA_Rwanda_First_NDC_English_Paragraph...  ...  this updated ndc updates and strengthens the f...\n",
              "2      ../txts/GMB_Gambia_First_NDC_English_Paragraph...  ...  gambia watershed by a improving disaster prepa...\n",
              "3      ../txts/JOR_Jordan_First_NDC_English_Paragraph...  ...  the estimated cost to reach the target is tota...\n",
              "4      ../txts/FSM_Micronesia_First_NDC_English_Parag...  ...  moreover national efforts to implement indc in...\n",
              "...                                                  ...  ...                                                ...\n",
              "10817  ../txts/KHM_Cambodia_First_NDC_English_Paragra...  ...  conducting surveillance and research on waterb...\n",
              "10818  ../txts/URY_Uruguay_First_NDC_Translation_Engl...  ...  the above chart contains a not exhaustive list...\n",
              "10819  ../txts/MAR_Morocco_First_NDC_Translation_Engl...  ...  principles to be respected by the state local ...\n",
              "10820  ../txts/LKA_Sri-Lanka_First_NDC_English_Paragr...  ...  integrated planning is the key means of implem...\n",
              "10821  ../txts/MDA_Republic-of-Moldova_First_NDC_Engl...  ...  undertake barrier analysis for technology tran...\n",
              "\n",
              "[10822 rows x 3 columns]"
            ]
          },
          "metadata": {
            "tags": []
          },
          "execution_count": 9
        }
      ]
    },
    {
      "cell_type": "code",
      "metadata": {
        "id": "b0YU7t8OoYyN"
      },
      "source": [
        "df.to_csv(\"data_processed.csv\")"
      ],
      "execution_count": null,
      "outputs": []
    },
    {
      "cell_type": "markdown",
      "metadata": {
        "id": "i6k6a3-fURIB"
      },
      "source": [
        "Process data for LDA"
      ]
    },
    {
      "cell_type": "code",
      "metadata": {
        "id": "JLeCpxkbUliz"
      },
      "source": [
        "def sent_to_words(sentences):\n",
        "    for sentence in sentences:\n",
        "        yield(gensim.utils.simple_preprocess(str(sentence), deacc=True)) \n",
        "\n",
        "def remove_stopwords(texts):\n",
        "    return [[word for word in simple_preprocess(str(doc)) if word not in stop_words] for doc in texts]\n",
        "\n",
        "def make_bigrams(texts):\n",
        "    return [bigram_mod[doc] for doc in texts]\n",
        "\n",
        "# def make_trigrams(texts):\n",
        "#     return [trigram_mod[bigram_mod[doc]] for doc in texts]\n",
        "\n",
        "def lemmatization(texts, allowed_postags=['NOUN', 'ADJ', 'VERB', 'ADV']):\n",
        "    texts_out = []\n",
        "    for sent in texts:\n",
        "        doc = nlp(\" \".join(sent)) \n",
        "        texts_out.append([token.lemma_ for token in doc if token.pos_ in allowed_postags])\n",
        "        print([token.lemma_ for token in doc if token.pos_ in allowed_postags])\n",
        "    return texts_out\n",
        "\n",
        "def stemming(texts):\n",
        "  p = PorterStemmer()\n",
        "  return [p.stem_documents(text) for text in texts]"
      ],
      "execution_count": 10,
      "outputs": []
    },
    {
      "cell_type": "code",
      "metadata": {
        "id": "jPXA2ULP0-SP"
      },
      "source": [
        "ndcs = df.NDC_processed.values.tolist()\n",
        "words = list(sent_to_words(ndcs))\n",
        "\n",
        "bigram = gensim.models.Phrases(words, min_count=5, threshold=100)\n",
        "# trigram = gensim.models.Phrases(bigram[words], threshold=100)\n",
        "\n",
        "bigram_mod = gensim.models.phrases.Phraser(bigram)\n",
        "# trigram_mod = gensim.models.phrases.Phraser(trigram)"
      ],
      "execution_count": 11,
      "outputs": []
    },
    {
      "cell_type": "code",
      "metadata": {
        "id": "lMt_zsRa3Lgm"
      },
      "source": [
        "data_words_nostops = remove_stopwords(words)\n",
        "\n",
        "#data_words_bigrams = make_bigrams(data_words_nostops)\n",
        "\n",
        "#nlp = spacy.load('en', disable=['parser', 'ner'])\n",
        "\n",
        "#data_lemmatized = lemmatization(data_words_bigrams, allowed_postags=['NOUN', 'ADJ', 'VERB', 'ADV'])\n",
        "\n",
        "data_stemmed = stemming(data_words_nostops)\n",
        "\n",
        "data_words_bigrams = make_bigrams(data_stemmed)"
      ],
      "execution_count": 12,
      "outputs": []
    },
    {
      "cell_type": "markdown",
      "metadata": {
        "id": "FPKl36fmVdPF"
      },
      "source": [
        "Make corpus"
      ]
    },
    {
      "cell_type": "code",
      "metadata": {
        "id": "uVQK1tKO3alB"
      },
      "source": [
        "id2word = corpora.Dictionary(data_words_bigrams)\n",
        "texts = data_words_bigrams\n",
        "corpus = [id2word.doc2bow(text) for text in texts]"
      ],
      "execution_count": 14,
      "outputs": []
    },
    {
      "cell_type": "markdown",
      "metadata": {
        "id": "DOUTxYeLVlDq"
      },
      "source": [
        "Train gensim LDA model with 10 topics"
      ]
    },
    {
      "cell_type": "code",
      "metadata": {
        "id": "3CL8JSdh3yWV"
      },
      "source": [
        "lda_model = gensim.models.ldamodel.LdaModel(corpus=corpus,\n",
        "                                           id2word=id2word,\n",
        "                                           num_topics=10, \n",
        "                                           random_state=100,\n",
        "                                           update_every=1,\n",
        "                                           chunksize=100,\n",
        "                                           passes=10,\n",
        "                                           alpha='auto',\n",
        "                                           per_word_topics=True)"
      ],
      "execution_count": 15,
      "outputs": []
    },
    {
      "cell_type": "code",
      "metadata": {
        "id": "atNY8sxL4B9a",
        "colab": {
          "base_uri": "https://localhost:8080/"
        },
        "outputId": "6f753e41-3d85-4435-c25c-976b6c63ff23"
      },
      "source": [
        "pprint(lda_model.print_topics())\n",
        "doc_lda = lda_model[corpus]"
      ],
      "execution_count": 16,
      "outputs": [
        {
          "output_type": "stream",
          "text": [
            "[(0,\n",
            "  '0.026*\"island\" + 0.025*\"increas\" + 0.024*\"flood\" + 0.021*\"temperatur\" + '\n",
            "  '0.020*\"rise\" + 0.018*\"drought\" + 0.017*\"countri\" + 0.016*\"affect\" + '\n",
            "  '0.014*\"rainfal\" + 0.013*\"result\"'),\n",
            " (1,\n",
            "  '0.091*\"emiss\" + 0.036*\"ghg\" + 0.030*\"sector\" + 0.030*\"project\" + '\n",
            "  '0.027*\"reduct\" + 0.021*\"year\" + 0.019*\"growth\" + 0.018*\"carbon\" + '\n",
            "  '0.016*\"reduc\" + 0.016*\"estim\"'),\n",
            " (2,\n",
            "  '0.038*\"nation\" + 0.025*\"contribut\" + 0.018*\"target\" + 0.016*\"indc\" + '\n",
            "  '0.015*\"ndc\" + 0.014*\"achiev\" + 0.013*\"countri\" + 0.011*\"identifi\" + '\n",
            "  '0.011*\"commun\" + 0.011*\"inform\"'),\n",
            " (3,\n",
            "  '0.046*\"forest\" + 0.045*\"area\" + 0.029*\"natur\" + 0.029*\"popul\" + '\n",
            "  '0.025*\"protect\" + 0.022*\"econom\" + 0.018*\"high\" + 0.015*\"peopl\" + '\n",
            "  '0.014*\"social\" + 0.014*\"resourc\"'),\n",
            " (4,\n",
            "  '0.113*\"us\" + 0.041*\"land\" + 0.031*\"data\" + 0.024*\"forestri\" + 0.020*\"ipcc\" '\n",
            "  '+ 0.014*\"valu\" + 0.014*\"potenti\" + 0.014*\"livestock\" + 0.013*\"includ\" + '\n",
            "  '0.013*\"decreas\"'),\n",
            " (5,\n",
            "  '0.053*\"develop\" + 0.037*\"adapt\" + 0.030*\"plan\" + 0.029*\"implement\" + '\n",
            "  '0.023*\"action\" + 0.021*\"sector\" + 0.019*\"nation\" + 0.018*\"polici\" + '\n",
            "  '0.017*\"measur\" + 0.017*\"mitig\"'),\n",
            " (6,\n",
            "  '0.195*\"climat\" + 0.151*\"chang\" + 0.035*\"impact\" + 0.028*\"vulner\" + '\n",
            "  '0.023*\"institut\" + 0.021*\"risk\" + 0.019*\"assess\" + 0.018*\"integr\" + '\n",
            "  '0.017*\"local\" + 0.016*\"disast\"'),\n",
            " (7,\n",
            "  '0.030*\"could\" + 0.028*\"singapor\" + 0.028*\"percent\" + 0.025*\"applic\" + '\n",
            "  '0.018*\"per_cent\" + 0.017*\"somalia\" + 0.017*\"around\" + 0.017*\"declin\" + '\n",
            "  '0.014*\"uncondit\" + 0.014*\"mrv\"'),\n",
            " (8,\n",
            "  '0.057*\"water\" + 0.056*\"agricultur\" + 0.052*\"manag\" + 0.033*\"product\" + '\n",
            "  '0.024*\"infrastructur\" + 0.024*\"improv\" + 0.024*\"system\" + 0.022*\"resourc\" + '\n",
            "  '0.021*\"health\" + 0.019*\"increas\"'),\n",
            " (9,\n",
            "  '0.120*\"energi\" + 0.033*\"gener\" + 0.030*\"effici\" + 0.029*\"transport\" + '\n",
            "  '0.028*\"electr\" + 0.026*\"renew\" + 0.025*\"wast\" + 0.023*\"industri\" + '\n",
            "  '0.019*\"power\" + 0.018*\"sourc\"')]\n"
          ],
          "name": "stdout"
        }
      ]
    },
    {
      "cell_type": "markdown",
      "metadata": {
        "id": "ZAFcw3kdWLYp"
      },
      "source": [
        "Check perplexity and coherence score"
      ]
    },
    {
      "cell_type": "code",
      "metadata": {
        "id": "EhBVTZ2m4Kxp",
        "colab": {
          "base_uri": "https://localhost:8080/"
        },
        "outputId": "b183020a-c8cf-4c72-ce8b-1f14096053aa"
      },
      "source": [
        "print('Perplexity: {}'.format(lda_model.log_perplexity(corpus)))\n",
        "\n",
        "coherence_model_lda = CoherenceModel(model=lda_model, texts=texts, dictionary=id2word, coherence='c_v')\n",
        "coherence_lda = coherence_model_lda.get_coherence()\n",
        "print('Coherence Score: {}'.format(coherence_lda))"
      ],
      "execution_count": 17,
      "outputs": [
        {
          "output_type": "stream",
          "text": [
            "Perplexity: -7.249567337190181\n",
            "Coherence Score: 0.5278614753593946\n"
          ],
          "name": "stdout"
        }
      ]
    },
    {
      "cell_type": "markdown",
      "metadata": {
        "id": "yo9TiiWQWcb-"
      },
      "source": [
        "Visualize topics"
      ]
    },
    {
      "cell_type": "code",
      "metadata": {
        "id": "dhtIjoJ94Rho",
        "colab": {
          "base_uri": "https://localhost:8080/",
          "height": 862
        },
        "outputId": "89351d7f-2567-4fb1-8dcb-6feaa7bcfc00"
      },
      "source": [
        "pyLDAvis.enable_notebook()\n",
        "vis = pyLDAvis.gensim.prepare(lda_model, corpus, id2word)\n",
        "vis"
      ],
      "execution_count": 18,
      "outputs": [
        {
          "output_type": "execute_result",
          "data": {
            "text/html": [
              "\n",
              "<link rel=\"stylesheet\" type=\"text/css\" href=\"https://cdn.jsdelivr.net/gh/bmabey/pyLDAvis/pyLDAvis/js/ldavis.v1.0.0.css\">\n",
              "\n",
              "\n",
              "<div id=\"ldavis_el631406480884667686538264207\"></div>\n",
              "<script type=\"text/javascript\">\n",
              "\n",
              "var ldavis_el631406480884667686538264207_data = {\"mdsDat\": {\"x\": [-0.25256578058644186, -0.25915351920111535, -0.14335973140043218, 0.11393788780318252, -0.0520362714819563, 0.08730786175594955, 0.0946887703557136, 0.053047489806943855, 0.15712322905633408, 0.20101006389182147], \"y\": [0.13405427192069855, -0.006692091458622452, -0.11356976719169945, -0.03074239633884352, -0.10450498212416434, 0.14100177339548878, 0.23937207648942138, -0.24714914504330934, 0.12744932571685408, -0.13921906536582415], \"topics\": [1, 2, 3, 4, 5, 6, 7, 8, 9, 10], \"cluster\": [1, 1, 1, 1, 1, 1, 1, 1, 1, 1], \"Freq\": [24.43468756690992, 18.030375165232098, 11.962419856899603, 9.398392896514169, 7.7089534784075555, 7.116050675842322, 6.857648055728579, 5.663567710749386, 5.651312913108892, 3.176591680607473]}, \"tinfo\": {\"Term\": [\"climat\", \"chang\", \"emiss\", \"energi\", \"us\", \"develop\", \"nation\", \"adapt\", \"water\", \"agricultur\", \"plan\", \"implement\", \"manag\", \"forest\", \"ghg\", \"area\", \"sector\", \"action\", \"impact\", \"contribut\", \"land\", \"reduct\", \"project\", \"product\", \"polici\", \"increas\", \"gener\", \"resourc\", \"vulner\", \"measur\", \"develop\", \"plan\", \"implement\", \"polici\", \"strategi\", \"measur\", \"need\", \"support\", \"prioriti\", \"invest\", \"strengthen\", \"financ\", \"respons\", \"requir\", \"monitor\", \"programm\", \"address\", \"initi\", \"fund\", \"ensur\", \"financi\", \"action\", \"mechan\", \"technic\", \"transfer\", \"green\", \"privat\", \"market\", \"strateg\", \"option\", \"cost\", \"capac\", \"kei\", \"intern\", \"adapt\", \"build\", \"technolog\", \"activ\", \"govern\", \"mitig\", \"process\", \"resili\", \"sector\", \"nation\", \"includ\", \"sustain\", \"provid\", \"level\", \"target\", \"ndc\", \"achiev\", \"identifi\", \"futur\", \"agreement\", \"object\", \"determin\", \"environ\", \"commit\", \"parti\", \"set\", \"unfccc\", \"ministri\", \"relev\", \"goal\", \"toward\", \"pari\", \"present\", \"updat\", \"convent\", \"within\", \"rmi\", \"coordin\", \"decis\", \"first\", \"meet\", \"context\", \"articl\", \"line\", \"indc\", \"contribut\", \"take\", \"inform\", \"nation\", \"state\", \"global\", \"commun\", \"report\", \"effort\", \"countri\", \"program\", \"base\", \"includ\", \"emiss\", \"ghg\", \"reduct\", \"estim\", \"total\", \"scenario\", \"gdp\", \"refer\", \"compar\", \"per\", \"greenhous\", \"world\", \"organ\", \"net\", \"sink\", \"lulucf\", \"lead\", \"deforest\", \"tonga\", \"per_capita\", \"baselin\", \"trend\", \"lower\", \"mine\", \"show\", \"figur\", \"assum\", \"bodi\", \"south_africa\", \"calcul\", \"ga\", \"growth\", \"carbon\", \"on\", \"year\", \"cover\", \"project\", \"low\", \"period\", \"would\", \"expect\", \"reduc\", \"sector\", \"level\", \"condit\", \"increas\", \"million\", \"base\", \"indic\", \"climat\", \"chang\", \"impact\", \"institut\", \"risk\", \"local\", \"disast\", \"sea_level\", \"research\", \"sever\", \"awar\", \"associ\", \"mani\", \"meteorolog\", \"conduct\", \"train\", \"ambit\", \"act\", \"consult\", \"nauru\", \"knowledg\", \"png\", \"napa\", \"central\", \"earli\", \"warn\", \"legisl\", \"council\", \"polit\", \"pollut\", \"vulner\", \"integr\", \"assess\", \"region\", \"differ\", \"effect\", \"public\", \"manag\", \"project\", \"adapt\", \"forest\", \"natur\", \"popul\", \"protect\", \"peopl\", \"ecosystem\", \"extrem\", \"issu\", \"conserv\", \"approxim\", \"degrad\", \"along\", \"educ\", \"poverti\", \"group\", \"live\", \"advers\", \"especi\", \"livelihood\", \"prevent\", \"marin\", \"scienc\", \"pathwai\", \"util\", \"control\", \"scale\", \"kiribati\", \"expand\", \"right\", \"incom\", \"high\", \"depend\", \"area\", \"social\", \"rural\", \"econom\", \"million\", \"human\", \"resourc\", \"sustain\", \"economi\", \"challeng\", \"commun\", \"water\", \"agricultur\", \"infrastructur\", \"health\", \"food\", \"secur\", \"servic\", \"loss\", \"major\", \"damag\", \"crop\", \"caus\", \"biodivers\", \"household\", \"fisheri\", \"road\", \"introduc\", \"diseas\", \"tourism\", \"solut\", \"etc\", \"emerg\", \"citi\", \"output\", \"better\", \"hous\", \"advanc\", \"km\", \"lebanon\", \"sri_lanka\", \"manag\", \"product\", \"improv\", \"system\", \"promot\", \"resourc\", \"increas\", \"practic\", \"reduc\", \"import\", \"suppli\", \"sustain\", \"land\", \"resili\", \"due\", \"enhanc\", \"includ\", \"energi\", \"gener\", \"effici\", \"transport\", \"electr\", \"renew\", \"power\", \"fuel\", \"standard\", \"solar\", \"demand\", \"fish\", \"consumpt\", \"author\", \"urban\", \"vehicl\", \"clean\", \"qualiti\", \"link\", \"mw\", \"altern\", \"instal\", \"distribut\", \"uae\", \"scientif\", \"divers\", \"manufactur\", \"regulatori\", \"chain\", \"solid\", \"wast\", \"industri\", \"sourc\", \"construct\", \"plant\", \"suppli\", \"reduc\", \"sector\", \"promot\", \"improv\", \"island\", \"flood\", \"temperatur\", \"rise\", \"drought\", \"affect\", \"rainfal\", \"higher\", \"lack\", \"irrig\", \"storm\", \"ha\", \"air\", \"feder\", \"pacif\", \"zone\", \"tropic\", \"locat\", \"introduct\", \"frequenc\", \"last\", \"veget\", \"pattern\", \"cyclon\", \"season\", \"grow\", \"ocean\", \"threat\", \"sea\", \"coastlin\", \"event\", \"coastal\", \"increas\", \"variabl\", \"result\", \"countri\", \"intens\", \"alreadi\", \"larg\", \"us\", \"data\", \"ipcc\", \"valu\", \"livestock\", \"decreas\", \"methodolog\", \"guidelin\", \"remov\", \"produc\", \"gase\", \"appli\", \"diversif\", \"oil\", \"biomass\", \"rehabilit\", \"categori\", \"eros\", \"landus\", \"facil\", \"mix\", \"treatment\", \"mainli\", \"describ\", \"panel\", \"throughout\", \"wood\", \"ton\", \"gwp\", \"grid\", \"model\", \"land\", \"forestri\", \"soil\", \"wind\", \"equival\", \"potenti\", \"inventori\", \"approach\", \"good\", \"report\", \"sourc\", \"includ\", \"product\", \"practic\", \"could\", \"singapor\", \"percent\", \"applic\", \"per_cent\", \"somalia\", \"around\", \"declin\", \"uncondit\", \"mrv\", \"stock\", \"eq\", \"jordan\", \"almost\", \"guyana\", \"recoveri\", \"type\", \"pakistan\", \"success\", \"reason\", \"iii\", \"gg_co\", \"costa_rica\", \"mt_co\", \"district\", \"world_bank\", \"citizen\", \"multilater\", \"mobil\", \"usual\"], \"Freq\": [6642.0, 5165.0, 3946.0, 2978.0, 2327.0, 4665.0, 4217.0, 3424.0, 1471.0, 1442.0, 2688.0, 2572.0, 1675.0, 1296.0, 1563.0, 1370.0, 3511.0, 2044.0, 1187.0, 1693.0, 1077.0, 1193.0, 1733.0, 1037.0, 1620.0, 1750.0, 813.0, 1499.0, 975.0, 1516.0, 4665.060075057682, 2687.3320990043094, 2571.787383860541, 1619.4430317844042, 1426.7730217345338, 1515.7371115234089, 1376.0647229366823, 1335.1453517758052, 961.2755684071371, 793.8328765051986, 661.6989971683821, 651.4183970979701, 621.4857262674361, 614.3530687607755, 610.3394440569754, 600.5743463229065, 598.4107398178318, 527.7550364025283, 505.0618239953174, 501.831488613027, 475.5542505488548, 2039.5049963031815, 394.6094393335057, 385.98896163242426, 379.84766112637095, 352.67983722812545, 329.1713695637913, 291.86569786444727, 273.939766977633, 272.56004863911494, 594.6310776789559, 1282.2660125343639, 431.1026022030111, 922.7527338247987, 3238.9993898315006, 1021.3289887126298, 1219.1573260986045, 694.4427705486303, 928.6714704716505, 1499.092523188767, 819.081340078239, 913.332116541574, 1878.344808439419, 1722.7541273109464, 1127.8776470616854, 790.1981761673613, 629.7595346357772, 655.0998899487922, 1172.9326390120516, 1007.8365523535064, 948.6717409307106, 738.9306806186656, 675.579755321033, 662.0376181190884, 653.110439701393, 613.9461600642763, 610.8823813460511, 574.4876742904721, 539.7070478049696, 532.7476433924447, 515.9104218396399, 511.0676011034522, 497.87784690943363, 488.21527505022107, 461.60220587581836, 447.45849117872024, 424.26274178238447, 407.68925131585416, 396.3962337844932, 385.0090788224063, 383.0506301826623, 370.1602019338007, 348.3352812551446, 337.81873753325766, 329.128075981818, 322.92445281953655, 308.09553708895146, 294.80122299696575, 1039.0791473862557, 1649.6443444076078, 430.27001419485464, 728.1213630874605, 2493.689995561659, 502.7160354379585, 627.317271283303, 730.6738923599564, 567.976557869523, 461.3691326902594, 828.7321211717978, 484.43615547365044, 509.8316244838503, 485.2352722455813, 3945.5748015823556, 1563.048332085978, 1193.0757427706037, 683.0424068032196, 600.4863502758615, 554.9907086085894, 386.833782648252, 369.6468215087486, 367.305385617582, 322.22087618590615, 678.8871688765036, 267.3273023772454, 266.989645824946, 244.28687282355688, 228.524195547145, 223.82808034913776, 219.30022729653388, 215.4322602856902, 208.46410065085718, 185.3792500525338, 181.989218705358, 181.74361905620947, 178.74344960373057, 177.11612699224438, 166.5093136272805, 162.56939746425977, 159.4643826194486, 157.76593983294967, 157.64452500680846, 154.71519266396913, 674.6231934085738, 819.8941626331609, 778.2455411391169, 488.16487793450307, 904.0548358852848, 383.680393953059, 1312.9341946142108, 459.9628321766043, 440.13689300080625, 308.0531105357507, 353.5852878551189, 709.1259104323799, 1315.8978081956384, 513.2561969927389, 325.4192116185699, 554.0362121702092, 373.7435457790363, 314.0538133819026, 288.2957540560844, 6641.652655043154, 5164.836429732207, 1186.1453983340525, 797.3001555989036, 711.8431937478147, 590.04446768447, 544.8724267268443, 356.6300777382009, 339.721339995113, 290.3758066492784, 284.5664541847253, 269.5105050983132, 254.58314687729256, 220.08589512148188, 197.37700245689973, 197.12032905319447, 197.11154452588607, 195.3954323121784, 188.49015843893443, 178.93853380012112, 178.529378158381, 173.386013591485, 164.32559176176778, 154.15339507262954, 148.71420003183806, 144.8747420744445, 136.5947452757111, 136.57569889552525, 135.92248271569082, 122.42125993848441, 938.9448603410165, 611.3562710321518, 632.6199739301233, 386.5950693856217, 251.4881815805906, 302.1148897844298, 206.94222484503672, 239.40211755936824, 204.56590695417873, 184.95847664175807, 1295.8465482329777, 807.201650470406, 798.7275894363227, 701.9689904877113, 415.63179144443166, 355.9223944175624, 344.9466270797107, 331.6513089283338, 322.6578832418118, 309.9341528619646, 306.44114543532805, 271.72452404744325, 254.1037817562915, 248.11850154340706, 217.44104133960028, 216.6382281510566, 214.56161647312388, 195.51866717800016, 195.28458825223348, 191.44201948852663, 189.60403410875648, 189.01772275325143, 176.81403457130008, 165.40246217749973, 164.6178775677007, 155.8757170080635, 148.87546067046736, 147.53638328221436, 138.3052824671141, 133.89946495289004, 499.29810134388134, 335.37567206918754, 1248.3908474546945, 392.9258880803794, 237.5440235323442, 613.6959187270754, 344.2354910034239, 248.15451569040505, 383.93155031343423, 348.55176827952556, 272.0291067899271, 215.27513698823148, 224.22327136687895, 1470.8972837850497, 1441.7365303717268, 632.1523107394848, 533.442100563946, 447.889787798538, 431.8576806906587, 401.0334871949064, 386.4417083306613, 273.8577665564343, 271.09276739756774, 266.76163137868974, 207.79068267346787, 205.43187936472506, 200.47329993374817, 173.606412857866, 166.98682291812193, 157.77908753798283, 146.61306767561757, 139.59493143450848, 126.36270350342056, 125.21924029510417, 124.46198307836282, 124.35230346337768, 119.19109518344204, 111.52917003217894, 110.7290945865367, 105.96774361553636, 104.95569388165002, 104.24500750263458, 103.5788232154543, 1347.6691151890209, 863.0690466767619, 622.2629837263165, 620.7407235233361, 437.35169245196715, 566.6888676632817, 492.72095456145155, 207.03431549856322, 391.36727202053345, 250.43306817363379, 199.7062161740259, 265.8116440215249, 239.89247108784625, 239.81287248142323, 179.76561061618654, 178.18623137695596, 180.66369891219765, 2977.3085075708523, 812.9031649683914, 745.1558718596542, 722.4165472307859, 685.9233943122387, 641.8404211238633, 480.5842222685698, 336.1986050472989, 283.66101911380184, 278.4178800468677, 268.2946965260679, 249.5831651632435, 239.9867388979348, 228.31075389837724, 224.70885440947026, 222.09461028606063, 208.406386143415, 198.60867337326852, 198.45896610063897, 166.21321806895563, 151.48090276718978, 148.60367410455035, 136.80000442589036, 123.16464609854852, 119.31219904033522, 117.11761282284269, 116.71435595368392, 113.51229403651963, 113.47200428120372, 109.47380242635705, 622.260805487555, 571.9541546417089, 459.5902924942732, 159.17492467691721, 201.7695414496984, 218.71256582558635, 244.21496094675277, 263.4848693730377, 162.89126051629427, 155.66335259398747, 540.9838972821436, 489.6772673410327, 425.39850516116434, 409.29349173402704, 379.8227208879598, 318.88441208535414, 293.89020869445835, 216.49053697645894, 194.28948331372106, 191.4554968876396, 181.00394425592543, 178.45661881343955, 175.33315706030507, 170.30641417699053, 144.8847656214486, 131.2929991922103, 130.59871789192914, 130.31643158506847, 124.69327763109547, 123.3187101670461, 121.52864413914965, 120.4608879749474, 119.20892633063664, 115.57424961831103, 114.5495031315046, 114.16321056047623, 112.32608564674005, 109.18224383503097, 104.50563782465355, 97.52661168817004, 198.60965368247085, 249.39869331492582, 523.1249926703948, 173.41006065476125, 262.66478085603586, 339.2476611799835, 133.58225699772453, 128.19151612131503, 121.59513539648134, 2326.3896918317782, 639.5706322488704, 407.5908729438598, 289.1632379586839, 281.9474393815404, 269.8299388740598, 257.09446970130307, 239.96981446787748, 229.40300496131792, 208.9497284137756, 195.72164949689838, 179.28646832982866, 174.13041884138948, 160.03797086833927, 156.6503666726212, 144.098408288743, 137.78820469764963, 130.7888327004775, 123.65093928646607, 118.32212487826601, 112.45555852376764, 107.55498371570242, 105.30578256648299, 100.37547274458379, 98.82592796970195, 95.52442445329638, 95.495233896831, 93.2817758962678, 87.58399132604401, 85.31675622047425, 241.3347404353762, 836.561077556112, 501.25603279459443, 163.71074655073065, 187.64912337051, 134.72249898127816, 284.38974141083315, 241.6205710020221, 236.558951435447, 145.29204987844818, 217.60086944476035, 197.85827214529945, 272.50824884482716, 173.4033676647146, 143.34259639036748, 342.28171953774176, 320.869791379381, 319.47339723168716, 283.5557215127518, 202.119075752358, 200.82875343941436, 192.92428632721334, 190.65281565011418, 165.31429673190553, 164.68017443412205, 153.1119981764202, 145.48715351581828, 132.09200319244175, 121.91319830657564, 121.34047697569858, 121.09241406270354, 118.60491249154636, 116.09668621487512, 115.04435439328292, 110.99117111876907, 107.34074511353816, 107.21703043362751, 101.13894678668495, 92.31163967869179, 90.71561185213163, 90.11368264612595, 87.84507369649803, 86.65686619551607, 83.87953015465415, 83.03600242566351], \"Total\": [6642.0, 5165.0, 3946.0, 2978.0, 2327.0, 4665.0, 4217.0, 3424.0, 1471.0, 1442.0, 2688.0, 2572.0, 1675.0, 1296.0, 1563.0, 1370.0, 3511.0, 2044.0, 1187.0, 1693.0, 1077.0, 1193.0, 1733.0, 1037.0, 1620.0, 1750.0, 813.0, 1499.0, 975.0, 1516.0, 4665.983015298914, 2688.254989627775, 2572.710254130191, 1620.3659370732662, 1427.6959022303745, 1516.7210400967724, 1376.987686771111, 1336.0682268816197, 962.1984663710638, 794.7557880757821, 662.6219500258079, 652.341227477993, 622.4086668385432, 615.275977068454, 611.2623628606767, 601.4972233492612, 599.3336405620422, 528.6779556019892, 505.9846902890623, 502.75443716597596, 476.477088858295, 2044.2572335005846, 395.53228664887035, 386.91183185495953, 380.7705304939068, 353.6027280712087, 330.09426992117847, 292.7886124019638, 274.8626497198981, 273.4829690821778, 597.120205877342, 1302.9352357766254, 433.6446784941047, 940.0687233375803, 3424.7789173435613, 1065.493544391241, 1336.3797847264889, 738.8251058370704, 1075.0787418040895, 1921.7602640799355, 963.785073876419, 1153.9618678580994, 3511.1503598192767, 4217.265104775872, 2070.248794806358, 1405.275655564662, 817.792505424174, 1339.5153043366665, 1173.854458891009, 1008.7583010577957, 949.5935893879923, 739.8525248189275, 676.5016609931372, 662.9593678887275, 654.032258394029, 614.8679416736444, 611.8042998777348, 575.4094422976295, 540.6287633759953, 533.6694752357154, 516.8321656724695, 511.9894497559349, 498.7996504211922, 489.13706329661187, 462.5240462157984, 448.38020164876525, 425.18466671418236, 408.61100730415234, 397.31800957271713, 385.93099333161393, 383.97247904468406, 371.08206305055626, 349.25705368964356, 338.7405772409551, 330.04996149010896, 323.8462514923211, 309.01723790223537, 295.7230570039479, 1053.2152569142315, 1693.3208663644264, 434.5095104763926, 826.4611542051459, 4217.265104775872, 594.2128736363042, 891.9542553985996, 1238.4301988090283, 786.396581000231, 549.071698977249, 2010.135714074444, 622.5221070410552, 862.9284280292492, 2070.248794806358, 3946.4926856948236, 1563.9662216092238, 1193.9936449456302, 683.9603664433652, 601.4042728806623, 555.9085861113807, 387.75172164402215, 370.56478021216327, 368.2232168557634, 323.13880202289954, 681.023855922382, 268.24529735022537, 267.9077405945545, 245.20484168327792, 229.44212757189203, 224.74595176430606, 220.21834156374544, 216.3502967166596, 209.38210203801953, 186.29710701057235, 182.90708868987403, 182.66160741700142, 179.66141345055436, 178.0344523415372, 167.4273400809776, 163.48728044564555, 160.3823910896368, 158.68453854998148, 158.5633923077754, 155.63303508734302, 701.4411949472305, 860.4013290356858, 831.6184016405717, 520.5213884942028, 1013.7495334295849, 408.55708515448185, 1733.139879124152, 547.9229688111, 532.2642959485921, 357.27484120141463, 455.1526881859108, 1345.4236659121952, 3511.1503598192767, 1339.5153043366665, 514.7704934860105, 1750.566132104199, 718.7941758672744, 862.9284280292492, 500.41477034887106, 6642.574567642151, 5165.758359737336, 1187.06732064678, 798.2221318613655, 712.7650815453921, 590.9664805953312, 545.794330678031, 357.5521158834217, 340.6432487820849, 291.2978504908356, 285.4884276936099, 270.43252176498254, 255.50534698632143, 221.00787188045499, 198.29900813782584, 198.04233865831932, 198.03358614759554, 196.3173695001395, 189.41213582927298, 179.86064238463436, 179.45126465552482, 174.3079761540452, 165.24756284798568, 155.07542927640557, 149.63608536311614, 145.79661418315774, 137.5167574735769, 137.49773198119635, 136.84465878494333, 123.34327788062366, 975.9583590813152, 702.3045656356902, 741.5561221371071, 483.03095262681404, 296.3044642931699, 695.6438958930927, 698.7846604043581, 1675.5727838320586, 1733.139879124152, 3424.7789173435613, 1296.767466377118, 808.1225982045258, 799.6485439875916, 702.8899455090458, 416.5527194879568, 356.8432804093946, 345.8676079345101, 332.5722329144804, 323.5788708001817, 310.8551555985774, 307.36207187427266, 272.64562160923185, 255.02470527514316, 249.0393910734344, 218.36196426956667, 217.55913667233563, 215.48263444411302, 196.4395954548887, 196.2054587946087, 192.36293514614724, 190.52495603553723, 189.93885650702677, 177.73514838133508, 166.32348777236717, 165.53890764781255, 156.79669555701946, 149.79641867328388, 148.4575456396888, 139.22620414877207, 134.8203924893082, 505.47510802731256, 340.94551348564977, 1370.5548030603024, 471.93519444796783, 287.43911050301006, 1189.6327944570378, 718.7941758672744, 442.0434583093409, 1499.1962658422603, 1405.275655564662, 887.4409660846875, 467.5756394017249, 1238.4301988090283, 1471.8149628562492, 1442.6542427280397, 633.070043732778, 534.3597794807404, 448.8074633293543, 432.77537970891683, 401.9512445135157, 387.35945430170733, 274.77553358448876, 272.0104691384235, 267.6792978668735, 208.70843503806924, 206.3495815445767, 201.3910343562317, 174.52409500347213, 167.9045399292651, 158.69679334669237, 147.53072728380198, 140.5126172064412, 127.28056825613582, 126.13698934107812, 125.37975669381734, 125.27008496510405, 120.10920131852951, 112.44704329652626, 111.64689445781124, 106.88557130581648, 105.87343914857111, 105.16281686286605, 104.49674925635887, 1675.5727838320586, 1037.287454602205, 921.7707300451136, 1104.1691599711376, 747.4989580460689, 1499.1962658422603, 1750.566132104199, 351.19198991174915, 1345.4236659121952, 601.5572359865688, 419.2400936947515, 1405.275655564662, 1077.2686067775403, 1153.9618678580994, 432.02710023231697, 595.0774666513016, 2070.248794806358, 2978.2357889853643, 813.8305108042134, 746.0831206797252, 723.3438369529423, 686.8506244125175, 642.767659329498, 481.5115155428343, 337.1258893546582, 284.5883904883176, 279.34510434213433, 269.22200650585523, 250.51092098603098, 240.91408222600498, 229.23824614244268, 225.6362419298036, 223.021853166644, 209.33375525936003, 199.53618218261232, 199.38664156140558, 167.14041349461806, 152.40825448499155, 149.5309748387841, 137.72745834175606, 124.09196254454174, 120.24005964046326, 118.04516668152823, 117.64183540974791, 114.43990366178302, 114.39943070911988, 110.40104278734766, 687.4067237108449, 650.8325782390663, 658.2732693348331, 202.03395968447862, 334.20025461251964, 419.2400936947515, 1345.4236659121952, 3511.1503598192767, 747.4989580460689, 921.7707300451136, 541.9071481339568, 490.60041276599895, 426.321620303805, 410.21663236181536, 380.7458533451294, 319.8075775761176, 294.81328753604276, 217.41382728431975, 195.2127907710102, 192.37878219356125, 181.92705827029587, 179.3798112287461, 176.25635166463948, 171.22989270497933, 145.80811036307844, 132.21646367949825, 131.52182242805176, 131.2395842767982, 125.6167472664928, 124.24188204883689, 122.45192973131914, 121.38430461101359, 120.1320511417816, 116.4973173922469, 115.47259679344633, 115.0864017591782, 113.24925836408926, 110.10546918052981, 105.42897122446122, 98.44972859693308, 286.0884341364216, 438.3981024461942, 1750.566132104199, 255.8342553824015, 674.9847989668513, 2010.135714074444, 247.54032390734824, 344.9450530038342, 217.51765421750147, 2327.310766241482, 640.4917053523327, 408.5118512278253, 290.08433737810105, 282.86851972162236, 270.751139486354, 258.01546595550644, 240.89078814094313, 230.3240483384922, 209.87080508242812, 196.64273569324854, 180.2075988141739, 175.05154708323641, 160.95905725603828, 157.571400069651, 145.0194925080083, 138.70929400301702, 131.71015684862212, 124.57197813283565, 119.24327425089906, 113.37679441255933, 108.4760558096246, 106.22693699226697, 101.29663228079363, 99.7470239403684, 96.44566701894125, 96.41623333867366, 94.20282954912965, 88.50495227106464, 86.23777596815036, 247.75854795606617, 1077.2686067775403, 645.7338147027192, 187.74298309418748, 250.7383830290067, 158.75814863971954, 552.6022523149497, 468.51048096739765, 510.24740527277413, 208.26324008374482, 786.396581000231, 658.2732693348331, 2070.248794806358, 1037.287454602205, 351.19198991174915, 343.20065931482867, 321.7886593411936, 320.3923728113713, 284.47468421518846, 203.03798066608005, 201.74770373587336, 193.84313115298116, 191.57199535162937, 166.23314062706513, 165.5990261803191, 154.03097928779854, 146.40592941698952, 133.010819906634, 122.83228417017222, 122.25946761682103, 122.01138224829539, 119.52385972252715, 117.01564005947863, 115.96327140415715, 111.91021607058556, 108.25974304595118, 108.1358506665197, 102.05786971704697, 93.23043889043916, 91.63461960662224, 91.03264381977105, 88.7639918138704, 87.57595873521441, 84.79842359140815, 83.95487535509886], \"Category\": [\"Default\", \"Default\", \"Default\", \"Default\", \"Default\", \"Default\", \"Default\", \"Default\", \"Default\", \"Default\", \"Default\", \"Default\", \"Default\", \"Default\", \"Default\", \"Default\", \"Default\", \"Default\", \"Default\", \"Default\", \"Default\", \"Default\", \"Default\", \"Default\", \"Default\", \"Default\", \"Default\", \"Default\", \"Default\", \"Default\", \"Topic1\", \"Topic1\", \"Topic1\", \"Topic1\", \"Topic1\", \"Topic1\", \"Topic1\", \"Topic1\", \"Topic1\", \"Topic1\", \"Topic1\", \"Topic1\", \"Topic1\", \"Topic1\", \"Topic1\", \"Topic1\", \"Topic1\", \"Topic1\", \"Topic1\", \"Topic1\", \"Topic1\", \"Topic1\", \"Topic1\", \"Topic1\", \"Topic1\", \"Topic1\", \"Topic1\", \"Topic1\", \"Topic1\", \"Topic1\", \"Topic1\", \"Topic1\", \"Topic1\", \"Topic1\", \"Topic1\", \"Topic1\", \"Topic1\", \"Topic1\", \"Topic1\", \"Topic1\", \"Topic1\", \"Topic1\", \"Topic1\", \"Topic1\", \"Topic1\", \"Topic1\", \"Topic1\", \"Topic1\", \"Topic2\", \"Topic2\", \"Topic2\", \"Topic2\", \"Topic2\", \"Topic2\", \"Topic2\", \"Topic2\", \"Topic2\", \"Topic2\", \"Topic2\", \"Topic2\", \"Topic2\", \"Topic2\", \"Topic2\", \"Topic2\", \"Topic2\", \"Topic2\", \"Topic2\", \"Topic2\", \"Topic2\", \"Topic2\", \"Topic2\", \"Topic2\", \"Topic2\", \"Topic2\", \"Topic2\", \"Topic2\", \"Topic2\", \"Topic2\", \"Topic2\", \"Topic2\", \"Topic2\", \"Topic2\", \"Topic2\", \"Topic2\", \"Topic2\", \"Topic2\", \"Topic2\", \"Topic2\", \"Topic2\", \"Topic2\", \"Topic2\", \"Topic2\", \"Topic3\", \"Topic3\", \"Topic3\", \"Topic3\", \"Topic3\", \"Topic3\", \"Topic3\", \"Topic3\", \"Topic3\", \"Topic3\", \"Topic3\", \"Topic3\", \"Topic3\", \"Topic3\", \"Topic3\", \"Topic3\", \"Topic3\", \"Topic3\", \"Topic3\", \"Topic3\", \"Topic3\", \"Topic3\", \"Topic3\", \"Topic3\", \"Topic3\", \"Topic3\", \"Topic3\", \"Topic3\", \"Topic3\", \"Topic3\", \"Topic3\", \"Topic3\", \"Topic3\", \"Topic3\", \"Topic3\", \"Topic3\", \"Topic3\", \"Topic3\", \"Topic3\", \"Topic3\", \"Topic3\", \"Topic3\", \"Topic3\", \"Topic3\", \"Topic3\", \"Topic3\", \"Topic3\", \"Topic3\", \"Topic3\", \"Topic4\", \"Topic4\", \"Topic4\", \"Topic4\", \"Topic4\", \"Topic4\", \"Topic4\", \"Topic4\", \"Topic4\", \"Topic4\", \"Topic4\", \"Topic4\", \"Topic4\", \"Topic4\", \"Topic4\", \"Topic4\", \"Topic4\", \"Topic4\", \"Topic4\", \"Topic4\", \"Topic4\", \"Topic4\", \"Topic4\", \"Topic4\", \"Topic4\", \"Topic4\", \"Topic4\", \"Topic4\", \"Topic4\", \"Topic4\", \"Topic4\", \"Topic4\", \"Topic4\", \"Topic4\", \"Topic4\", \"Topic4\", \"Topic4\", \"Topic4\", \"Topic4\", \"Topic4\", \"Topic5\", \"Topic5\", \"Topic5\", \"Topic5\", \"Topic5\", \"Topic5\", \"Topic5\", \"Topic5\", \"Topic5\", \"Topic5\", \"Topic5\", \"Topic5\", \"Topic5\", \"Topic5\", \"Topic5\", \"Topic5\", \"Topic5\", \"Topic5\", \"Topic5\", \"Topic5\", \"Topic5\", \"Topic5\", \"Topic5\", \"Topic5\", \"Topic5\", \"Topic5\", \"Topic5\", \"Topic5\", \"Topic5\", \"Topic5\", \"Topic5\", \"Topic5\", \"Topic5\", \"Topic5\", \"Topic5\", \"Topic5\", \"Topic5\", \"Topic5\", \"Topic5\", \"Topic5\", \"Topic5\", \"Topic5\", \"Topic5\", \"Topic6\", \"Topic6\", \"Topic6\", \"Topic6\", \"Topic6\", \"Topic6\", \"Topic6\", \"Topic6\", \"Topic6\", \"Topic6\", \"Topic6\", \"Topic6\", \"Topic6\", \"Topic6\", \"Topic6\", \"Topic6\", \"Topic6\", \"Topic6\", \"Topic6\", \"Topic6\", \"Topic6\", \"Topic6\", \"Topic6\", \"Topic6\", \"Topic6\", \"Topic6\", \"Topic6\", \"Topic6\", \"Topic6\", \"Topic6\", \"Topic6\", \"Topic6\", \"Topic6\", \"Topic6\", \"Topic6\", \"Topic6\", \"Topic6\", \"Topic6\", \"Topic6\", \"Topic6\", \"Topic6\", \"Topic6\", \"Topic6\", \"Topic6\", \"Topic6\", \"Topic6\", \"Topic6\", \"Topic7\", \"Topic7\", \"Topic7\", \"Topic7\", \"Topic7\", \"Topic7\", \"Topic7\", \"Topic7\", \"Topic7\", \"Topic7\", \"Topic7\", \"Topic7\", \"Topic7\", \"Topic7\", \"Topic7\", \"Topic7\", \"Topic7\", \"Topic7\", \"Topic7\", \"Topic7\", \"Topic7\", \"Topic7\", \"Topic7\", \"Topic7\", \"Topic7\", \"Topic7\", \"Topic7\", \"Topic7\", \"Topic7\", \"Topic7\", \"Topic7\", \"Topic7\", \"Topic7\", \"Topic7\", \"Topic7\", \"Topic7\", \"Topic7\", \"Topic7\", \"Topic7\", \"Topic7\", \"Topic8\", \"Topic8\", \"Topic8\", \"Topic8\", \"Topic8\", \"Topic8\", \"Topic8\", \"Topic8\", \"Topic8\", \"Topic8\", \"Topic8\", \"Topic8\", \"Topic8\", \"Topic8\", \"Topic8\", \"Topic8\", \"Topic8\", \"Topic8\", \"Topic8\", \"Topic8\", \"Topic8\", \"Topic8\", \"Topic8\", \"Topic8\", \"Topic8\", \"Topic8\", \"Topic8\", \"Topic8\", \"Topic8\", \"Topic8\", \"Topic8\", \"Topic8\", \"Topic8\", \"Topic8\", \"Topic8\", \"Topic8\", \"Topic8\", \"Topic8\", \"Topic8\", \"Topic9\", \"Topic9\", \"Topic9\", \"Topic9\", \"Topic9\", \"Topic9\", \"Topic9\", \"Topic9\", \"Topic9\", \"Topic9\", \"Topic9\", \"Topic9\", \"Topic9\", \"Topic9\", \"Topic9\", \"Topic9\", \"Topic9\", \"Topic9\", \"Topic9\", \"Topic9\", \"Topic9\", \"Topic9\", \"Topic9\", \"Topic9\", \"Topic9\", \"Topic9\", \"Topic9\", \"Topic9\", \"Topic9\", \"Topic9\", \"Topic9\", \"Topic9\", \"Topic9\", \"Topic9\", \"Topic9\", \"Topic9\", \"Topic9\", \"Topic9\", \"Topic9\", \"Topic9\", \"Topic9\", \"Topic9\", \"Topic9\", \"Topic9\", \"Topic9\", \"Topic10\", \"Topic10\", \"Topic10\", \"Topic10\", \"Topic10\", \"Topic10\", \"Topic10\", \"Topic10\", \"Topic10\", \"Topic10\", \"Topic10\", \"Topic10\", \"Topic10\", \"Topic10\", \"Topic10\", \"Topic10\", \"Topic10\", \"Topic10\", \"Topic10\", \"Topic10\", \"Topic10\", \"Topic10\", \"Topic10\", \"Topic10\", \"Topic10\", \"Topic10\", \"Topic10\", \"Topic10\", \"Topic10\", \"Topic10\"], \"logprob\": [30.0, 29.0, 28.0, 27.0, 26.0, 25.0, 24.0, 23.0, 22.0, 21.0, 20.0, 19.0, 18.0, 17.0, 16.0, 15.0, 14.0, 13.0, 12.0, 11.0, 10.0, 9.0, 8.0, 7.0, 6.0, 5.0, 4.0, 3.0, 2.0, 1.0, -2.9451, -3.4966, -3.5405, -4.0031, -4.1297, -4.0692, -4.1659, -4.1961, -4.5246, -4.716, -4.8981, -4.9138, -4.9608, -4.9723, -4.9789, -4.995, -4.9986, -5.1243, -5.1682, -5.1746, -5.2284, -3.7724, -5.415, -5.4371, -5.4531, -5.5273, -5.5963, -5.7166, -5.78, -5.785, -5.005, -4.2365, -5.3266, -4.5655, -3.3099, -4.464, -4.287, -4.8498, -4.5592, -4.0803, -4.6847, -4.5758, -3.8548, -3.9412, -4.3648, -4.7206, -4.9476, -4.9081, -4.0217, -4.1734, -4.2339, -4.4838, -4.5734, -4.5936, -4.6072, -4.6691, -4.6741, -4.7355, -4.7979, -4.8109, -4.843, -4.8525, -4.8786, -4.8982, -4.9543, -4.9854, -5.0386, -5.0785, -5.1065, -5.1357, -5.1408, -5.175, -5.2358, -5.2665, -5.2925, -5.3115, -5.3586, -5.4027, -4.1429, -3.6806, -5.0245, -4.4985, -3.2674, -4.8689, -4.6475, -4.495, -4.7469, -4.9548, -4.3691, -4.906, -4.8549, -4.9043, -2.3983, -3.3243, -3.5944, -4.1521, -4.2809, -4.3597, -4.7207, -4.7661, -4.7725, -4.9034, -4.1582, -5.0902, -5.0915, -5.1803, -5.247, -5.2678, -5.2882, -5.306, -5.3389, -5.4563, -5.4747, -5.4761, -5.4927, -5.5019, -5.5636, -5.5876, -5.6069, -5.6176, -5.6183, -5.6371, -4.1645, -3.9695, -4.0216, -4.488, -3.8718, -4.7289, -3.4987, -4.5475, -4.5916, -4.9484, -4.8105, -4.1146, -3.4964, -4.4379, -4.8936, -4.3614, -4.7551, -4.9291, -5.0147, -1.6363, -1.8878, -3.359, -3.7562, -3.8696, -4.0572, -4.1369, -4.5607, -4.6093, -4.7663, -4.7865, -4.8408, -4.8978, -5.0434, -5.1523, -5.1536, -5.1537, -5.1624, -5.1984, -5.2504, -5.2527, -5.2819, -5.3356, -5.3995, -5.4354, -5.4616, -5.5204, -5.5206, -5.5254, -5.63, -3.5927, -4.0218, -3.9876, -4.4801, -4.91, -4.7266, -5.105, -4.9593, -5.1166, -5.2173, -3.0724, -3.5457, -3.5563, -3.6854, -4.2095, -4.3646, -4.3959, -4.4352, -4.4627, -4.5029, -4.5143, -4.6345, -4.7015, -4.7254, -4.8574, -4.8611, -4.8707, -4.9636, -4.9648, -4.9847, -4.9943, -4.9974, -5.0642, -5.1309, -5.1357, -5.1902, -5.2362, -5.2452, -5.3098, -5.3422, -4.0261, -4.424, -3.1097, -4.2657, -4.7689, -3.8198, -4.398, -4.7252, -4.2888, -4.3855, -4.6334, -4.8674, -4.8266, -2.8656, -2.8857, -3.7101, -3.8799, -4.0547, -4.0912, -4.1652, -4.2023, -4.5466, -4.5568, -4.5729, -4.8227, -4.8341, -4.8586, -5.0025, -5.0413, -5.0981, -5.1715, -5.2205, -5.3201, -5.3292, -5.3353, -5.3361, -5.3785, -5.445, -5.4522, -5.4961, -5.5057, -5.5125, -5.5189, -2.9531, -3.3988, -3.7259, -3.7283, -4.0785, -3.8194, -3.9593, -4.8264, -4.1896, -4.6361, -4.8624, -4.5765, -4.6791, -4.6794, -4.9676, -4.9764, -4.9626, -2.1235, -3.4217, -3.5087, -3.5397, -3.5915, -3.6579, -3.9473, -4.3046, -4.4745, -4.4931, -4.5302, -4.6025, -4.6417, -4.6916, -4.7075, -4.7192, -4.7828, -4.8309, -4.8317, -5.009, -5.1018, -5.121, -5.2037, -5.3087, -5.3405, -5.3591, -5.3625, -5.3904, -5.3907, -5.4266, -3.6889, -3.7732, -3.9919, -5.0523, -4.8151, -4.7345, -4.6242, -4.5483, -5.0292, -5.0746, -3.6376, -3.7372, -3.8779, -3.9165, -3.9913, -4.1661, -4.2478, -4.5534, -4.6616, -4.6763, -4.7324, -4.7466, -4.7643, -4.7934, -4.955, -5.0535, -5.0588, -5.061, -5.1051, -5.1162, -5.1308, -5.1396, -5.1501, -5.181, -5.1899, -5.1933, -5.2096, -5.2379, -5.2817, -5.3508, -4.6396, -4.4119, -3.6711, -4.7753, -4.3601, -4.1042, -5.0362, -5.0774, -5.1303, -2.1767, -3.468, -3.9185, -4.2618, -4.2871, -4.331, -4.3793, -4.4483, -4.4933, -4.5867, -4.6521, -4.7398, -4.769, -4.8534, -4.8748, -4.9583, -5.0031, -5.0552, -5.1113, -5.1554, -5.2062, -5.2508, -5.2719, -5.3199, -5.3354, -5.3694, -5.3697, -5.3932, -5.4562, -5.4824, -4.4426, -3.1995, -3.7117, -4.8307, -4.6942, -5.0256, -4.2784, -4.4414, -4.4626, -4.95, -4.5461, -4.6412, -4.3211, -4.7732, -4.9636, -3.5171, -3.5817, -3.586, -3.7053, -4.0439, -4.0503, -4.0904, -4.1023, -4.2449, -4.2487, -4.3215, -4.3726, -4.4692, -4.5494, -4.5541, -4.5562, -4.5769, -4.5983, -4.6074, -4.6433, -4.6767, -4.6779, -4.7362, -4.8275, -4.845, -4.8516, -4.8771, -4.8908, -4.9233, -4.9334], \"loglift\": [30.0, 29.0, 28.0, 27.0, 26.0, 25.0, 24.0, 23.0, 22.0, 21.0, 20.0, 19.0, 18.0, 17.0, 16.0, 15.0, 14.0, 13.0, 12.0, 11.0, 10.0, 9.0, 8.0, 7.0, 6.0, 5.0, 4.0, 3.0, 2.0, 1.0, 1.409, 1.4088, 1.4088, 1.4086, 1.4085, 1.4085, 1.4085, 1.4085, 1.4082, 1.408, 1.4078, 1.4078, 1.4077, 1.4077, 1.4077, 1.4076, 1.4076, 1.4074, 1.4073, 1.4073, 1.4072, 1.4068, 1.4068, 1.4068, 1.4067, 1.4066, 1.4064, 1.406, 1.4058, 1.4058, 1.405, 1.3932, 1.4033, 1.3906, 1.3534, 1.3668, 1.3174, 1.3472, 1.2628, 1.1608, 1.2465, 1.1753, 0.7836, 0.5139, 0.8018, 0.8335, 1.1479, 0.6939, 1.7123, 1.7122, 1.7121, 1.7119, 1.7117, 1.7117, 1.7117, 1.7116, 1.7116, 1.7115, 1.7114, 1.7114, 1.7113, 1.7113, 1.7113, 1.7112, 1.7111, 1.7111, 1.7109, 1.7109, 1.7108, 1.7107, 1.7107, 1.7106, 1.7105, 1.7104, 1.7103, 1.7103, 1.7101, 1.71, 1.6996, 1.687, 1.7033, 1.5864, 1.1877, 1.5459, 1.3611, 1.1855, 1.3877, 1.5391, 0.8271, 1.4623, 1.1869, 0.2623, 2.1232, 2.1228, 2.1226, 2.1221, 2.1219, 2.1217, 2.121, 2.1209, 2.1209, 2.1206, 2.1203, 2.12, 2.12, 2.1196, 2.1194, 2.1193, 2.1192, 2.1191, 2.119, 2.1185, 2.1184, 2.1184, 2.1183, 2.1182, 2.1179, 2.1178, 2.1177, 2.1176, 2.1176, 2.1175, 2.0844, 2.0752, 2.0571, 2.0592, 2.0089, 2.0606, 1.8457, 1.9484, 1.9333, 1.9752, 1.8709, 1.483, 1.142, 1.1641, 1.6648, 0.9729, 1.4694, 1.1126, 1.5719, 2.3645, 2.3645, 2.3639, 2.3635, 2.3633, 2.3631, 2.3629, 2.362, 2.3619, 2.3615, 2.3614, 2.3612, 2.361, 2.3605, 2.36, 2.36, 2.36, 2.3599, 2.3598, 2.3595, 2.3595, 2.3593, 2.359, 2.3587, 2.3585, 2.3583, 2.3579, 2.3579, 2.3579, 2.3571, 2.326, 2.2259, 2.2058, 2.1419, 2.2006, 1.5306, 1.1477, 0.4189, 0.2278, -0.554, 2.5621, 2.5616, 2.5616, 2.5615, 2.5606, 2.5602, 2.5601, 2.56, 2.5599, 2.5598, 2.5598, 2.5594, 2.5592, 2.5591, 2.5586, 2.5585, 2.5585, 2.5581, 2.5581, 2.558, 2.5579, 2.5579, 2.5576, 2.5572, 2.5572, 2.5569, 2.5566, 2.5566, 2.5562, 2.5559, 2.5505, 2.5463, 2.4694, 2.3796, 2.3721, 1.9009, 1.8265, 1.9854, 1.2006, 1.1686, 1.3804, 1.7871, 0.8538, 2.6422, 2.6422, 2.6414, 2.6411, 2.6408, 2.6407, 2.6405, 2.6404, 2.6395, 2.6394, 2.6394, 2.6384, 2.6384, 2.6382, 2.6375, 2.6373, 2.637, 2.6366, 2.6363, 2.6356, 2.6355, 2.6355, 2.6355, 2.6351, 2.6346, 2.6346, 2.6342, 2.6341, 2.6341, 2.634, 2.425, 2.4589, 2.2499, 2.0669, 2.1068, 1.6699, 1.3751, 2.1144, 1.408, 1.7665, 1.9012, 0.9776, 1.1408, 1.0717, 1.766, 1.437, 0.204, 2.6795, 2.6787, 2.6786, 2.6785, 2.6785, 2.6784, 2.6779, 2.6771, 2.6765, 2.6765, 2.6764, 2.6761, 2.6759, 2.6758, 2.6757, 2.6756, 2.6754, 2.6751, 2.6751, 2.6742, 2.6737, 2.6736, 2.673, 2.6723, 2.6721, 2.6719, 2.6719, 2.6717, 2.6717, 2.6714, 2.5802, 2.5506, 2.3205, 2.4414, 2.1752, 2.0291, 0.9734, 0.0901, 1.1562, 0.9012, 2.8694, 2.8692, 2.8689, 2.8689, 2.8687, 2.8682, 2.868, 2.8669, 2.8664, 2.8663, 2.866, 2.866, 2.8659, 2.8657, 2.8648, 2.8641, 2.8641, 2.8641, 2.8637, 2.8637, 2.8635, 2.8635, 2.8634, 2.8632, 2.8631, 2.8631, 2.8629, 2.8627, 2.8623, 2.8617, 2.5062, 2.307, 1.6632, 2.4822, 1.9273, 1.0919, 2.2543, 1.8813, 2.2895, 2.8729, 2.8718, 2.871, 2.8701, 2.87, 2.8699, 2.8697, 2.8695, 2.8693, 2.8689, 2.8686, 2.8682, 2.868, 2.8675, 2.8674, 2.8669, 2.8666, 2.8663, 2.8659, 2.8655, 2.8651, 2.8648, 2.8646, 2.8641, 2.864, 2.8637, 2.8637, 2.8635, 2.8628, 2.8625, 2.847, 2.6204, 2.62, 2.7363, 2.5834, 2.7091, 2.209, 2.2111, 2.1046, 2.5132, 1.5885, 1.6712, 0.8455, 1.0845, 1.9772, 3.4467, 3.4465, 3.4465, 3.4461, 3.4448, 3.4448, 3.4446, 3.4446, 3.4438, 3.4438, 3.4434, 3.4431, 3.4424, 3.4419, 3.4418, 3.4418, 3.4416, 3.4415, 3.4414, 3.4411, 3.4408, 3.4408, 3.4403, 3.4395, 3.4393, 3.4392, 3.439, 3.4388, 3.4385, 3.4384]}, \"token.table\": {\"Topic\": [2, 4, 1, 2, 1, 6, 1, 4, 1, 6, 5, 8, 2, 6, 8, 10, 5, 1, 2, 8, 7, 4, 9, 10, 1, 2, 9, 5, 5, 8, 10, 2, 4, 9, 4, 3, 7, 4, 1, 2, 3, 7, 3, 6, 6, 9, 3, 1, 7, 3, 1, 7, 1, 3, 9, 6, 4, 7, 1, 2, 5, 4, 6, 10, 7, 4, 5, 6, 8, 8, 2, 1, 2, 5, 3, 1, 3, 8, 10, 4, 5, 7, 9, 4, 7, 2, 2, 3, 5, 2, 2, 1, 10, 10, 10, 4, 1, 2, 3, 5, 8, 1, 3, 6, 8, 6, 9, 2, 10, 9, 3, 5, 7, 1, 5, 9, 2, 1, 3, 4, 4, 6, 7, 10, 7, 9, 8, 3, 5, 6, 4, 1, 2, 5, 1, 2, 3, 5, 5, 5, 1, 4, 5, 7, 1, 2, 7, 6, 3, 7, 1, 2, 6, 1, 2, 10, 2, 9, 9, 5, 3, 6, 6, 8, 5, 1, 3, 8, 5, 9, 8, 3, 1, 1, 2, 7, 6, 8, 6, 5, 1, 6, 9, 8, 7, 1, 2, 3, 9, 9, 3, 7, 10, 3, 2, 3, 2, 1, 6, 9, 1, 2, 1, 3, 9, 9, 5, 8, 1, 3, 9, 10, 9, 8, 6, 4, 5, 8, 6, 6, 4, 5, 6, 2, 10, 4, 1, 2, 6, 1, 6, 7, 1, 2, 6, 7, 9, 5, 3, 5, 6, 7, 8, 1, 2, 2, 3, 8, 7, 9, 2, 4, 6, 1, 7, 4, 4, 5, 3, 8, 1, 2, 6, 8, 3, 9, 1, 9, 8, 8, 5, 10, 1, 4, 5, 6, 4, 8, 6, 9, 9, 8, 9, 10, 8, 3, 6, 4, 1, 2, 3, 4, 2, 7, 5, 5, 9, 4, 8, 6, 1, 3, 3, 3, 9, 6, 1, 4, 6, 4, 7, 5, 1, 1, 1, 2, 4, 9, 3, 5, 3, 2, 1, 2, 3, 9, 10, 8, 9, 1, 10, 10, 10, 7, 4, 1, 2, 5, 4, 2, 1, 3, 2, 8, 9, 3, 10, 1, 3, 6, 8, 10, 9, 2, 2, 5, 8, 5, 3, 3, 10, 10, 2, 3, 8, 1, 5, 7, 4, 1, 4, 4, 5, 1, 9, 5, 7, 6, 9, 2, 5, 1, 1, 1, 2, 9, 9, 6, 9, 2, 7, 1, 2, 3, 4, 7, 1, 6, 7, 5, 1, 2, 5, 1, 4, 6, 7, 7, 8, 10, 10, 3, 6, 7, 3, 3, 4, 8, 7, 9, 2, 9, 7, 2, 9, 1, 4, 1, 6, 1, 5, 6, 1, 2, 3, 8, 5, 8, 4, 2, 6, 5, 6, 5, 3, 5, 7, 8, 4, 8, 1, 3, 6, 7, 6, 6, 2, 4, 3, 10, 3, 1, 5, 8, 9, 7, 7, 6, 10, 7, 9, 3, 6, 7, 1, 2, 8, 10, 8, 1, 1, 1, 10, 6, 7, 1, 1, 5, 6, 1, 4, 6, 7, 1, 2, 2, 1, 1, 7, 8, 8, 9, 9, 3, 3, 6, 2, 4, 1, 7, 9, 3, 8, 10, 7, 10, 2, 2, 7, 9, 10, 5, 9, 6, 8, 8, 7, 4, 5, 4, 7, 9, 6, 8, 9, 2, 9, 3, 10, 3, 10, 3, 8, 8], \"Freq\": [0.9993749016477934, 0.9932895927472247, 0.9979174668281376, 0.0019567009153492894, 0.9393292059474825, 0.05955401305718909, 0.9457544788065733, 0.054018085390310604, 0.9977747944186955, 0.9917147722092188, 0.9977602165234425, 0.9974748016221555, 0.9985529009239545, 0.9995465006730909, 0.9928720204816793, 0.9932242229655261, 0.9976320118202477, 0.6174896498591979, 0.008697037321960532, 0.3710735924036494, 0.9907599854761789, 0.9947807532666444, 0.9932988463187995, 0.9983313657013171, 0.5173960656573408, 0.017638502238318435, 0.46448055894238544, 0.9972490223077345, 0.9105801513469942, 0.08828541531489287, 0.9956504460696327, 0.9967081515932869, 0.8536103756729069, 0.14563968494893198, 0.998400629620433, 0.9913806554432514, 0.9945984312684313, 0.9982891506406906, 0.01970035920455709, 0.5910107761367127, 0.3638772229547604, 0.024335737840923466, 0.9950407133131289, 0.9960244103942565, 0.9934597320989229, 0.9963737069709452, 0.9956861673088215, 0.9582413759093568, 0.04035688458775939, 0.9959325146683173, 0.9839322514260298, 0.015349957120530886, 0.06373115348992335, 0.9355252342483088, 0.994886470959894, 0.9966056233523095, 0.9930651213965771, 0.9877671532065734, 0.29086203073799033, 0.24594951128580067, 0.45981865153432294, 0.9998531948874638, 0.9898612269205544, 0.9913929984641472, 0.9936285705202798, 0.9999135022668846, 0.20529285938468667, 0.22354111355221437, 0.5679769109642998, 0.9954318960210207, 0.9975505401996854, 0.22851509941549797, 0.5902633840025759, 0.18087414229353901, 0.9966780561361438, 0.3185885789400959, 0.6313493180215315, 0.042737492296842136, 0.005827839858660291, 0.9934492454096242, 0.998211036466163, 0.7869964051999684, 0.2078858428830105, 0.9925446391114779, 0.9962057750316669, 0.997386872664354, 0.974416622847484, 0.02539388774693443, 0.9967445257705875, 0.9966827338782489, 0.997084032998898, 0.9964492813063883, 0.003349409348929036, 0.9896346090705216, 0.9965015821437357, 0.9963800713362718, 0.1940167508438968, 0.41240996525536017, 0.1288470217142802, 0.09601341772531304, 0.1686453295796949, 0.058743320999867676, 0.9398931359978828, 0.9974622696925507, 0.9957310828834588, 0.9962851829136427, 0.9992323002027603, 0.9964007779474638, 0.9970142016291083, 0.9972257199442299, 0.9937587480250697, 0.9955685102395138, 0.9954609709595613, 0.014665099853881631, 0.9825616902100692, 0.9871996506537416, 0.9985884096164098, 0.9997893230010286, 0.14849590641491475, 0.8471016479578091, 0.9985446336955457, 0.9964025983361349, 0.9947181313696289, 0.9930744558187005, 0.9911460442565347, 0.9939929289357471, 0.9980410729661886, 0.43515788685224943, 0.14813885509863808, 0.4166405299649196, 0.995749117857684, 0.2858024775243187, 0.19753994770063205, 0.5161256505880344, 0.4946807920495601, 0.009014684137577405, 0.1893083668891255, 0.3064992606776318, 0.997636832593773, 0.9959819372243265, 0.5577566371108189, 0.4341301659986271, 0.007187585529778594, 0.9985482573593966, 0.1584492520048914, 0.8395989100489074, 0.9987615583617688, 0.9889953790771283, 0.9998751585942096, 0.9995850600580604, 0.5243014859153171, 0.17476716197177236, 0.2991207195286104, 0.9984993923271395, 0.998685364130498, 0.9903970459216499, 0.14487445335606322, 0.8503500523073276, 0.9946081846258955, 0.9977621850937397, 0.998595874131773, 0.990986075163062, 0.3041017728053765, 0.6955891125088497, 0.9969180034755575, 0.052729557844986306, 0.7777609782135481, 0.16697693317579, 0.9974915027756102, 0.9895736320668024, 0.9928173014328848, 0.9970194595914906, 0.9979439786702148, 0.998998716056971, 0.9978137333088729, 0.9979604841816079, 0.9969970048922947, 0.9987761674259223, 0.9982008692026547, 0.9994081696240714, 0.1269873098371825, 0.09446616951302601, 0.7758614905905907, 0.990004320376049, 0.9966603295973102, 0.9980539128792617, 0.9992584482462309, 0.96230447379239, 0.03706654269422539, 0.9967314546810864, 0.998061332543322, 0.9989795039714194, 0.9894960768374352, 0.9993821979043578, 0.7029508477649496, 0.2959793043220841, 0.9976753687627994, 0.20166785066395473, 0.10083392533197737, 0.6962342463398437, 0.8641227510843021, 0.13487384166547234, 0.9982954654380175, 0.9970282158183124, 0.0014683773428841125, 0.9856469400531909, 0.9937628136194757, 0.9905601205479382, 0.0464899328373085, 0.9530436231648242, 0.9963021079061689, 0.9896984042105567, 0.9942946438802869, 0.9923078789118216, 0.9974553109478753, 0.00989168392388935, 0.9871900556041571, 0.9934970682316776, 0.9942058893715517, 0.993092868504905, 0.11537327165762586, 0.5610308111978669, 0.3212353838310367, 0.9988477097930617, 0.988363698171568, 0.9991008760596674, 0.9997239276638126, 0.5818232731021701, 0.4155880522158358, 0.15513619096258485, 0.6747881872638306, 0.16923948105009257, 0.5448620488657298, 0.23427135966301324, 0.08742910535877402, 0.0014491011937918345, 0.13186820863505694, 0.9939149228528372, 0.3164690495491799, 0.07083422769692836, 0.2816231794724652, 0.031989651217967645, 0.29876049262494786, 0.012343155793325783, 0.9865029899434992, 0.41765353939151867, 0.5755225805969253, 0.003996684587478648, 0.8788742591030697, 0.11984648987769132, 0.8808641474506548, 0.11857786600297276, 0.9983097545945016, 0.9987176397373762, 0.9964490645543068, 0.9984689326284206, 0.8699929203036777, 0.12814952999563173, 0.45649128277902196, 0.5413259459503447, 0.9818431111323647, 0.01702003226231618, 0.9956092789778673, 0.9950902464845361, 0.48237981684709996, 0.5165306003407, 0.9990490310519009, 0.9987470345687969, 0.9928329820064357, 0.9983260081785589, 0.9982793725457303, 0.99240046856832, 0.993901277646739, 0.004612070893952385, 0.9946833263415935, 0.9917501579660086, 0.9974853080228157, 0.993787339619396, 0.22278566226664473, 0.7769649971549235, 0.9954084526760446, 0.5608740147501272, 0.24365838345702248, 0.19308777556971593, 0.9963093294461692, 0.994467574521295, 0.9889426995438665, 0.9962422217984875, 0.4889828416886649, 0.10974118737134922, 0.38297434776532074, 0.017916928550424364, 0.9975549522202517, 0.9930454640764962, 0.9974299554553862, 0.9938561403846027, 0.9969295992269586, 0.9983645762880535, 0.990554798816005, 0.9964904579283911, 0.15878144365580305, 0.839534069904246, 0.996318555899949, 0.9966809112313251, 0.9884498506028062, 0.9971775740933998, 0.05251935388849105, 0.14263779067442456, 0.8045010118373401, 0.9980221666893394, 0.9945441567830662, 0.9972446862266205, 0.9973065468786705, 0.9995246059903498, 0.9986542523408641, 0.9968187801465918, 0.9954396561901644, 0.9960643213702486, 0.5203158463947533, 0.4785792811759228, 0.9941895946097403, 0.9980674411232369, 0.7800140465062968, 0.08377735923116329, 0.13581298608281753, 0.9878564708087494, 0.9905844524273792, 0.024217126107245152, 0.9727212319743469, 0.9979348264552574, 0.9963826708759336, 0.986802176359106, 0.9934233236663064, 0.9931769135257358, 0.9924503404075415, 0.4085586173012402, 0.5913785209223987, 0.9986108565618385, 0.9952149487891082, 0.9992482827085531, 0.9992827192424452, 0.9950863870590526, 0.998421701099937, 0.9889689488290249, 0.9940416073976334, 0.9375215135956608, 0.061476820563649885, 0.9982340067324899, 0.9966117418162684, 0.9907650595761776, 0.9944577132159099, 0.9913204759725932, 0.9925108147505736, 0.9969218051027007, 0.9988369775739105, 0.9958637985337723, 0.9905766102299749, 0.9986731103601095, 0.9964758115838442, 0.9930374280557199, 0.994887751234154, 0.9956541636770142, 0.10521088945144776, 0.8266569885470896, 0.06763557179021641, 0.9995331582634024, 0.39497276910529044, 0.6044280254490051, 0.9924961772667862, 0.999157019385551, 0.9938276086736366, 0.9891094358468101, 0.9991889637110355, 0.48316849756129154, 0.5139320348592015, 0.9958263989124199, 0.9989376878302534, 0.5894211882566482, 0.40718468560724974, 0.9972137595569064, 0.9929147725620232, 0.9987544499259245, 0.9966849775325098, 0.8497745215184936, 0.08196848253963492, 0.06744242234273759, 0.995850756459022, 0.8319776703854542, 0.16678115524528803, 0.7774824291791461, 0.22007250578004756, 0.9991733571994024, 0.1009728078546302, 0.757584552646454, 0.11828243205828108, 0.023079498938201187, 0.1953179980098406, 0.584616199522605, 0.21806050462742477, 0.9987338764557213, 0.7703665609814198, 0.17975219756233127, 0.04891216260199491, 0.48655904925453847, 0.29622859763438075, 0.03434534465326154, 0.1817441154568423, 0.9973128573637757, 0.9972413470816056, 0.9918665506819193, 0.9917107549340175, 0.5269715539895005, 0.29061477801113494, 0.1813555136437773, 0.9991677971236811, 0.9984758934407099, 0.8011908924167707, 0.19874502757625317, 0.9961560290798294, 0.9929699622417861, 0.9983968504779084, 0.9942513673754713, 0.9988056970223133, 0.7222818787914251, 0.27721381967699066, 0.9979261711556925, 0.9981116643750176, 0.7911873220686613, 0.20797914271246298, 0.3655291921982805, 0.25613724416813816, 0.3782026495920165, 0.9977367493198667, 0.34815598863811, 0.26074661276726535, 0.38963840430562946, 0.9911927201041709, 0.9970341710553992, 0.998926600691867, 0.9974673209728375, 0.994612772652567, 0.8280014490147389, 0.17047088656185802, 0.9949189263575409, 0.9983655835975905, 0.9950570592858548, 0.9896868011861335, 0.9959311826770278, 0.9984558450114116, 0.9959072818437461, 0.5348674387435413, 0.37480593684052205, 0.015094767973060537, 0.07490422597952681, 0.9982083553148556, 0.9976334330929439, 0.9987455245863188, 0.9955445929702238, 0.997447608731221, 0.9975491387956051, 0.998073032286743, 0.1652769297937997, 0.8327414539610678, 0.12250790746443657, 0.873534644529026, 0.9951847935717288, 0.9873095149105944, 0.9899390121078118, 0.9962938674293302, 0.6987979330602582, 0.30078693640419807, 0.996446895468269, 0.9952462707223532, 0.9979324859762972, 0.1060226104063844, 0.8464979846731961, 0.04712116018061529, 0.9933066757572695, 0.9949042309642664, 0.9968615243985416, 0.9995125697080959, 0.9990613802851178, 0.9916933060572262, 0.4770536096330994, 0.5223737025482438, 0.9992004698112514, 0.5621672850246349, 0.248349851232402, 0.18928670609690237, 0.3196973913030022, 0.0036226333292124894, 0.562413824360239, 0.11411294987019342, 0.006904336792791543, 0.9896216069667878, 0.999272091284795, 0.9976433084235549, 0.9121658483104692, 0.08680167219361315, 0.9968999453913147, 0.9899599067261838, 0.9953790871822813, 0.9872314923565823, 0.9933991395416951, 0.9976650101371312, 0.9963518065734406, 0.9988669860084336, 0.9947367887827377, 0.9979763914688794, 0.998142187872087, 0.9956114203630332, 0.9963779612675201, 0.9960324270267984, 0.9956171117319732, 0.9912003765421166, 0.9925818604977715, 0.9983898725200535, 0.9985046724311626, 0.9971802316668547, 0.999436789336218, 0.9886263263323293, 0.9920426886779905, 0.9962619926746072, 0.3205200174520518, 0.6762190612098166, 0.9885956869345695, 0.9954181478086792, 0.9621312131430437, 0.036886819673215734, 0.9945361270039029, 0.9048500378964027, 0.09310354087680028, 0.9994462871510237, 0.24726968105568234, 0.7497854844914238, 0.9975876689156863, 0.9853112563140797, 0.9953576172163067, 0.9886563349536952, 0.8620814131895848, 0.13435035010746776, 0.8917390047438103, 0.10752162778437535, 0.9907994538225812], \"Term\": [\"achiev\", \"act\", \"action\", \"action\", \"activ\", \"activ\", \"adapt\", \"adapt\", \"address\", \"advanc\", \"advers\", \"affect\", \"agreement\", \"agricultur\", \"air\", \"almost\", \"along\", \"alreadi\", \"alreadi\", \"alreadi\", \"altern\", \"ambit\", \"appli\", \"applic\", \"approach\", \"approach\", \"approach\", \"approxim\", \"area\", \"area\", \"around\", \"articl\", \"assess\", \"assess\", \"associ\", \"assum\", \"author\", \"awar\", \"base\", \"base\", \"base\", \"base\", \"baselin\", \"better\", \"biodivers\", \"biomass\", \"bodi\", \"build\", \"build\", \"calcul\", \"capac\", \"capac\", \"carbon\", \"carbon\", \"categori\", \"caus\", \"central\", \"chain\", \"challeng\", \"challeng\", \"challeng\", \"chang\", \"citi\", \"citizen\", \"clean\", \"climat\", \"coastal\", \"coastal\", \"coastal\", \"coastlin\", \"commit\", \"commun\", \"commun\", \"commun\", \"compar\", \"condit\", \"condit\", \"condit\", \"condit\", \"conduct\", \"conserv\", \"construct\", \"construct\", \"consult\", \"consumpt\", \"context\", \"contribut\", \"contribut\", \"control\", \"convent\", \"coordin\", \"cost\", \"cost\", \"costa_rica\", \"could\", \"council\", \"countri\", \"countri\", \"countri\", \"countri\", \"countri\", \"cover\", \"cover\", \"crop\", \"cyclon\", \"damag\", \"data\", \"decis\", \"declin\", \"decreas\", \"deforest\", \"degrad\", \"demand\", \"depend\", \"depend\", \"describ\", \"determin\", \"develop\", \"differ\", \"differ\", \"disast\", \"diseas\", \"distribut\", \"district\", \"divers\", \"diversif\", \"drought\", \"due\", \"due\", \"due\", \"earli\", \"econom\", \"econom\", \"econom\", \"economi\", \"economi\", \"economi\", \"economi\", \"ecosystem\", \"educ\", \"effect\", \"effect\", \"effect\", \"effici\", \"effort\", \"effort\", \"electr\", \"emerg\", \"emiss\", \"energi\", \"enhanc\", \"enhanc\", \"enhanc\", \"ensur\", \"environ\", \"eq\", \"equival\", \"equival\", \"eros\", \"especi\", \"estim\", \"etc\", \"event\", \"event\", \"expand\", \"expect\", \"expect\", \"expect\", \"extrem\", \"facil\", \"feder\", \"figur\", \"financ\", \"financi\", \"first\", \"fish\", \"fisheri\", \"flood\", \"food\", \"forest\", \"forestri\", \"forestri\", \"forestri\", \"frequenc\", \"fuel\", \"fund\", \"futur\", \"ga\", \"ga\", \"gase\", \"gdp\", \"gener\", \"gg_co\", \"ghg\", \"global\", \"global\", \"goal\", \"good\", \"good\", \"good\", \"govern\", \"govern\", \"green\", \"greenhous\", \"greenhous\", \"grid\", \"group\", \"grow\", \"growth\", \"growth\", \"guidelin\", \"guyana\", \"gwp\", \"ha\", \"health\", \"high\", \"high\", \"higher\", \"hous\", \"household\", \"human\", \"human\", \"human\", \"identifi\", \"iii\", \"impact\", \"implement\", \"import\", \"import\", \"improv\", \"improv\", \"improv\", \"includ\", \"includ\", \"includ\", \"includ\", \"includ\", \"incom\", \"increas\", \"increas\", \"increas\", \"increas\", \"increas\", \"indc\", \"indc\", \"indic\", \"indic\", \"indic\", \"industri\", \"industri\", \"inform\", \"inform\", \"infrastructur\", \"initi\", \"instal\", \"institut\", \"integr\", \"integr\", \"intens\", \"intens\", \"intern\", \"intern\", \"introduc\", \"introduct\", \"inventori\", \"inventori\", \"invest\", \"ipcc\", \"irrig\", \"island\", \"issu\", \"jordan\", \"kei\", \"kei\", \"kiribati\", \"km\", \"knowledg\", \"lack\", \"land\", \"land\", \"landus\", \"larg\", \"larg\", \"larg\", \"last\", \"lead\", \"lebanon\", \"legisl\", \"level\", \"level\", \"level\", \"level\", \"line\", \"link\", \"live\", \"livelihood\", \"livestock\", \"local\", \"locat\", \"loss\", \"low\", \"low\", \"lower\", \"lulucf\", \"mainli\", \"major\", \"manag\", \"manag\", \"manag\", \"mani\", \"manufactur\", \"marin\", \"market\", \"measur\", \"mechan\", \"meet\", \"meteorolog\", \"methodolog\", \"million\", \"million\", \"mine\", \"ministri\", \"mitig\", \"mitig\", \"mitig\", \"mix\", \"mobil\", \"model\", \"model\", \"monitor\", \"mrv\", \"mt_co\", \"multilater\", \"mw\", \"napa\", \"nation\", \"nation\", \"natur\", \"nauru\", \"ndc\", \"need\", \"net\", \"object\", \"ocean\", \"oil\", \"on\", \"on\", \"option\", \"organ\", \"output\", \"pacif\", \"pakistan\", \"panel\", \"pari\", \"parti\", \"pathwai\", \"pattern\", \"peopl\", \"per\", \"per_capita\", \"per_cent\", \"percent\", \"period\", \"period\", \"period\", \"plan\", \"plant\", \"plant\", \"png\", \"polici\", \"polit\", \"pollut\", \"popul\", \"potenti\", \"potenti\", \"poverti\", \"power\", \"practic\", \"practic\", \"present\", \"prevent\", \"prioriti\", \"privat\", \"process\", \"process\", \"process\", \"produc\", \"product\", \"product\", \"program\", \"program\", \"programm\", \"project\", \"project\", \"project\", \"project\", \"promot\", \"promot\", \"promot\", \"protect\", \"provid\", \"provid\", \"provid\", \"public\", \"public\", \"public\", \"public\", \"qualiti\", \"rainfal\", \"reason\", \"recoveri\", \"reduc\", \"reduc\", \"reduc\", \"reduct\", \"refer\", \"region\", \"region\", \"regulatori\", \"rehabilit\", \"relev\", \"remov\", \"renew\", \"report\", \"report\", \"requir\", \"research\", \"resili\", \"resili\", \"resourc\", \"resourc\", \"resourc\", \"respons\", \"result\", \"result\", \"result\", \"right\", \"rise\", \"risk\", \"rmi\", \"road\", \"rural\", \"rural\", \"scale\", \"scenario\", \"scienc\", \"scientif\", \"sea\", \"sea_level\", \"season\", \"sector\", \"sector\", \"sector\", \"sector\", \"secur\", \"servic\", \"set\", \"sever\", \"show\", \"singapor\", \"sink\", \"social\", \"social\", \"soil\", \"soil\", \"solar\", \"solid\", \"solut\", \"somalia\", \"sourc\", \"sourc\", \"south_africa\", \"sri_lanka\", \"standard\", \"state\", \"state\", \"state\", \"stock\", \"storm\", \"strateg\", \"strategi\", \"strengthen\", \"success\", \"suppli\", \"suppli\", \"support\", \"sustain\", \"sustain\", \"sustain\", \"system\", \"system\", \"system\", \"system\", \"take\", \"take\", \"target\", \"technic\", \"technolog\", \"technolog\", \"temperatur\", \"threat\", \"throughout\", \"ton\", \"tonga\", \"total\", \"tourism\", \"toward\", \"train\", \"transfer\", \"transport\", \"treatment\", \"trend\", \"tropic\", \"type\", \"uae\", \"uncondit\", \"unfccc\", \"updat\", \"urban\", \"us\", \"usual\", \"util\", \"valu\", \"variabl\", \"variabl\", \"veget\", \"vehicl\", \"vulner\", \"vulner\", \"warn\", \"wast\", \"wast\", \"water\", \"wind\", \"wind\", \"within\", \"wood\", \"world\", \"world_bank\", \"would\", \"would\", \"year\", \"year\", \"zone\"]}, \"R\": 30, \"lambda.step\": 0.01, \"plot.opts\": {\"xlab\": \"PC1\", \"ylab\": \"PC2\"}, \"topic.order\": [6, 3, 2, 7, 4, 9, 10, 1, 5, 8]};\n",
              "\n",
              "function LDAvis_load_lib(url, callback){\n",
              "  var s = document.createElement('script');\n",
              "  s.src = url;\n",
              "  s.async = true;\n",
              "  s.onreadystatechange = s.onload = callback;\n",
              "  s.onerror = function(){console.warn(\"failed to load library \" + url);};\n",
              "  document.getElementsByTagName(\"head\")[0].appendChild(s);\n",
              "}\n",
              "\n",
              "if(typeof(LDAvis) !== \"undefined\"){\n",
              "   // already loaded: just create the visualization\n",
              "   !function(LDAvis){\n",
              "       new LDAvis(\"#\" + \"ldavis_el631406480884667686538264207\", ldavis_el631406480884667686538264207_data);\n",
              "   }(LDAvis);\n",
              "}else if(typeof define === \"function\" && define.amd){\n",
              "   // require.js is available: use it to load d3/LDAvis\n",
              "   require.config({paths: {d3: \"https://d3js.org/d3.v5\"}});\n",
              "   require([\"d3\"], function(d3){\n",
              "      window.d3 = d3;\n",
              "      LDAvis_load_lib(\"https://cdn.jsdelivr.net/gh/bmabey/pyLDAvis/pyLDAvis/js/ldavis.v3.0.0.js\", function(){\n",
              "        new LDAvis(\"#\" + \"ldavis_el631406480884667686538264207\", ldavis_el631406480884667686538264207_data);\n",
              "      });\n",
              "    });\n",
              "}else{\n",
              "    // require.js not available: dynamically load d3 & LDAvis\n",
              "    LDAvis_load_lib(\"https://d3js.org/d3.v5.js\", function(){\n",
              "         LDAvis_load_lib(\"https://cdn.jsdelivr.net/gh/bmabey/pyLDAvis/pyLDAvis/js/ldavis.v3.0.0.js\", function(){\n",
              "                 new LDAvis(\"#\" + \"ldavis_el631406480884667686538264207\", ldavis_el631406480884667686538264207_data);\n",
              "            })\n",
              "         });\n",
              "}\n",
              "</script>"
            ],
            "text/plain": [
              "PreparedData(topic_coordinates=              x         y  topics  cluster       Freq\n",
              "topic                                                \n",
              "5     -0.252566  0.134054       1        1  24.434688\n",
              "2     -0.259154 -0.006692       2        1  18.030375\n",
              "1     -0.143360 -0.113570       3        1  11.962420\n",
              "6      0.113938 -0.030742       4        1   9.398393\n",
              "3     -0.052036 -0.104505       5        1   7.708953\n",
              "8      0.087308  0.141002       6        1   7.116051\n",
              "9      0.094689  0.239372       7        1   6.857648\n",
              "0      0.053047 -0.247149       8        1   5.663568\n",
              "4      0.157123  0.127449       9        1   5.651313\n",
              "7      0.201010 -0.139219      10        1   3.176592, topic_info=            Term         Freq        Total Category  logprob  loglift\n",
              "110       climat  6642.000000  6642.000000  Default  30.0000  30.0000\n",
              "109        chang  5165.000000  5165.000000  Default  29.0000  29.0000\n",
              "181        emiss  3946.000000  3946.000000  Default  28.0000  28.0000\n",
              "9         energi  2978.000000  2978.000000  Default  27.0000  27.0000\n",
              "195           us  2327.000000  2327.000000  Default  26.0000  26.0000\n",
              "...          ...          ...          ...      ...      ...      ...\n",
              "1395  world_bank    90.113683    91.032644  Topic10  -4.8516   3.4392\n",
              "1325     citizen    87.845074    88.763992  Topic10  -4.8771   3.4390\n",
              "1476  multilater    86.656866    87.575959  Topic10  -4.8908   3.4388\n",
              "1582       mobil    83.879530    84.798424  Topic10  -4.9233   3.4385\n",
              "1601       usual    83.036002    83.954875  Topic10  -4.9334   3.4384\n",
              "\n",
              "[455 rows x 6 columns], token_table=      Topic      Freq    Term\n",
              "term                         \n",
              "752       2  0.999375  achiev\n",
              "381       4  0.993290     act\n",
              "481       1  0.997917  action\n",
              "481       2  0.001957  action\n",
              "219       1  0.939329   activ\n",
              "...     ...       ...     ...\n",
              "218       3  0.862081   would\n",
              "218      10  0.134350   would\n",
              "177       3  0.891739    year\n",
              "177       8  0.107522    year\n",
              "1155      8  0.990799    zone\n",
              "\n",
              "[544 rows x 3 columns], R=30, lambda_step=0.01, plot_opts={'xlab': 'PC1', 'ylab': 'PC2'}, topic_order=[6, 3, 2, 7, 4, 9, 10, 1, 5, 8])"
            ]
          },
          "metadata": {
            "tags": []
          },
          "execution_count": 18
        }
      ]
    },
    {
      "cell_type": "markdown",
      "metadata": {
        "id": "wNYqtYumXBgC"
      },
      "source": [
        "Train LDA using Mallet"
      ]
    },
    {
      "cell_type": "code",
      "metadata": {
        "id": "9p8ITkWy4uzI"
      },
      "source": [
        "!wget http://mallet.cs.umass.edu/dist/mallet-2.0.8.zip\n",
        "!unzip mallet-2.0.8.zip\n",
        "\n",
        "mallet_path = 'mallet-2.0.8/bin/mallet'"
      ],
      "execution_count": null,
      "outputs": []
    },
    {
      "cell_type": "markdown",
      "metadata": {
        "id": "Qr0-UapyX5-P"
      },
      "source": [
        "Train LDA with Mallet"
      ]
    },
    {
      "cell_type": "code",
      "metadata": {
        "colab": {
          "base_uri": "https://localhost:8080/"
        },
        "id": "GdPZQyba5hz5",
        "outputId": "aab55e24-f45e-4328-fd5e-6930a1574eab"
      },
      "source": [
        "ldamallet = gensim.models.wrappers.LdaMallet(mallet_path, corpus=corpus, num_topics=10, id2word=id2word)\n",
        "pprint(ldamallet.show_topics(formatted=False))\n",
        "\n",
        "coherence_model_ldamallet = CoherenceModel(model=ldamallet, texts=texts, dictionary=id2word, coherence='c_v')\n",
        "coherence_ldamallet = coherence_model_ldamallet.get_coherence()\n",
        "print('Coherence Score: {}'.format(coherence_ldamallet))"
      ],
      "execution_count": 20,
      "outputs": [
        {
          "output_type": "stream",
          "text": [
            "[(0,\n",
            "  [('develop', 0.09691564252475839),\n",
            "   ('sustain', 0.03027681660899654),\n",
            "   ('countri', 0.030127669729149265),\n",
            "   ('environment', 0.020522610666984846),\n",
            "   ('goal', 0.015541104880085909),\n",
            "   ('econom', 0.015153322992482997),\n",
            "   ('social', 0.013870659825796444),\n",
            "   ('ensur', 0.012587996659109892),\n",
            "   ('provid', 0.011901921011812432),\n",
            "   ('effort', 0.01175277413196516)]),\n",
            " (1,\n",
            "  [('emiss', 0.11951789164095614),\n",
            "   ('ghg', 0.044375883048355005),\n",
            "   ('reduct', 0.04077160404832617),\n",
            "   ('carbon', 0.024422594504195382),\n",
            "   ('ga', 0.022144690176177158),\n",
            "   ('greenhous', 0.021250828984170005),\n",
            "   ('target', 0.019895620080159163),\n",
            "   ('sector', 0.01969378045615755),\n",
            "   ('data', 0.019203598512153627),\n",
            "   ('scenario', 0.017790721144142325)]),\n",
            " (2,\n",
            "  [('manag', 0.04818273749330795),\n",
            "   ('agricultur', 0.04776634346558801),\n",
            "   ('water', 0.044851585271548394),\n",
            "   ('forest', 0.03673190173100946),\n",
            "   ('resourc', 0.03456070430075546),\n",
            "   ('land', 0.03197311284278151),\n",
            "   ('area', 0.03164594610671584),\n",
            "   ('product', 0.02724406638510499),\n",
            "   ('protect', 0.01951103444173458),\n",
            "   ('natur', 0.01882695853905181)]),\n",
            " (3,\n",
            "  [('climat', 0.163365276513732),\n",
            "   ('chang', 0.12669307778789016),\n",
            "   ('adapt', 0.09101129610792869),\n",
            "   ('nation', 0.06373467530381711),\n",
            "   ('plan', 0.050511269339900425),\n",
            "   ('develop', 0.02915038278280422),\n",
            "   ('polici', 0.02877563038706569),\n",
            "   ('strategi', 0.027330156860645646),\n",
            "   ('resili', 0.02575084319289041),\n",
            "   ('action', 0.024091225440334065)]),\n",
            " (4,\n",
            "  [('increas', 0.0337058771490077),\n",
            "   ('countri', 0.03205449559140102),\n",
            "   ('year', 0.027542685264368493),\n",
            "   ('growth', 0.021998761463831795),\n",
            "   ('economi', 0.020642269470083453),\n",
            "   ('million', 0.017929285482586772),\n",
            "   ('econom', 0.017457462180413434),\n",
            "   ('global', 0.01739848426764177),\n",
            "   ('period', 0.017192061572940932),\n",
            "   ('project', 0.01421367697797175)]),\n",
            " (5,\n",
            "  [('nation', 0.06313912009512485),\n",
            "   ('contribut', 0.05083234244946492),\n",
            "   ('ndc', 0.03038049940546968),\n",
            "   ('indc', 0.026932223543400715),\n",
            "   ('inform', 0.023365041617122474),\n",
            "   ('commit', 0.02137336504161712),\n",
            "   ('agreement', 0.019262782401902497),\n",
            "   ('determin', 0.017746730083234245),\n",
            "   ('unfccc', 0.016379310344827588),\n",
            "   ('republ', 0.014625445897740785)]),\n",
            " (6,\n",
            "  [('impact', 0.027256905456995283),\n",
            "   ('increas', 0.021783067594879857),\n",
            "   ('climat', 0.015439029867505052),\n",
            "   ('vulner', 0.014877610599595779),\n",
            "   ('region', 0.014456546148663822),\n",
            "   ('flood', 0.01383898495396362),\n",
            "   ('health', 0.013810913990568156),\n",
            "   ('popul', 0.012323152930608578),\n",
            "   ('infrastructur', 0.012126656186840333),\n",
            "   ('chang', 0.01173366269930384)]),\n",
            " (7,\n",
            "  [('support', 0.0388591600593954),\n",
            "   ('capac', 0.028240831535595215),\n",
            "   ('technolog', 0.02577536211582103),\n",
            "   ('govern', 0.02384220995713445),\n",
            "   ('intern', 0.023562042977614658),\n",
            "   ('implement', 0.023253859300142884),\n",
            "   ('build', 0.021544840725072144),\n",
            "   ('institut', 0.018463003950354412),\n",
            "   ('financ', 0.017650519709747008),\n",
            "   ('process', 0.016585885187571793)]),\n",
            " (8,\n",
            "  [('energi', 0.09765340771283046),\n",
            "   ('gener', 0.026406742663109387),\n",
            "   ('effici', 0.025133398011156924),\n",
            "   ('transport', 0.023708464710162504),\n",
            "   ('electr', 0.023587193790928936),\n",
            "   ('wast', 0.022344166868784866),\n",
            "   ('renew', 0.022131942760126123),\n",
            "   ('sector', 0.022071307300509338),\n",
            "   ('reduc', 0.020585738539898132),\n",
            "   ('industri', 0.020343196701430998)]),\n",
            " (9,\n",
            "  [('sector', 0.07060700951463326),\n",
            "   ('mitig', 0.057810429965072865),\n",
            "   ('implement', 0.056365169215946045),\n",
            "   ('includ', 0.04597735758159701),\n",
            "   ('measur', 0.04549560399855474),\n",
            "   ('action', 0.034355052390702155),\n",
            "   ('project', 0.02989883174756112),\n",
            "   ('plan', 0.020835842466578346),\n",
            "   ('polici', 0.01875828013970854),\n",
            "   ('target', 0.017584005781042997)])]\n",
            "Coherence Score: 0.6024845416427898\n"
          ],
          "name": "stdout"
        }
      ]
    },
    {
      "cell_type": "markdown",
      "metadata": {
        "id": "C6UXa4DQiflr"
      },
      "source": [
        "Converd Mallet model to gensim in order to be able to visualize topics with pyLDAvis"
      ]
    },
    {
      "cell_type": "code",
      "metadata": {
        "id": "DB6hMiTjwgPU"
      },
      "source": [
        "def convertldaGenToldaMallet(mallet_model):\n",
        "    model_gensim = gensim.models.ldamodel.LdaModel(\n",
        "        id2word=mallet_model.id2word, num_topics=mallet_model.num_topics,\n",
        "        alpha=mallet_model.alpha, eta=0,\n",
        "    )\n",
        "    model_gensim.state.sstats[...] = mallet_model.wordtopics\n",
        "    model_gensim.sync_state()\n",
        "    return model_gensim\n",
        "\n",
        "mallet_model = convertldaGenToldaMallet(ldamallet)"
      ],
      "execution_count": 21,
      "outputs": []
    },
    {
      "cell_type": "code",
      "metadata": {
        "colab": {
          "base_uri": "https://localhost:8080/",
          "height": 965
        },
        "id": "A8a-O5fHwtQi",
        "outputId": "402a13ce-0d2f-4b8b-fc3b-c13a1f7b9b9b"
      },
      "source": [
        "pyLDAvis.enable_notebook()\n",
        "vis = pyLDAvis.gensim.prepare(mallet_model, corpus, id2word)\n",
        "vis"
      ],
      "execution_count": 22,
      "outputs": [
        {
          "output_type": "stream",
          "text": [
            "/usr/local/lib/python3.7/dist-packages/pyLDAvis/_prepare.py:236: RuntimeWarning: divide by zero encountered in log\n",
            "  log_1 = np.log(pd.eval(\"(topic_given_term.T / topic_proportion)\"))\n",
            "/usr/local/lib/python3.7/dist-packages/pyLDAvis/_prepare.py:259: RuntimeWarning: divide by zero encountered in log\n",
            "  log_lift = np.log(pd.eval(\"topic_term_dists / term_proportion\")).astype(\"float64\")\n",
            "/usr/local/lib/python3.7/dist-packages/pyLDAvis/_prepare.py:260: RuntimeWarning: divide by zero encountered in log\n",
            "  log_ttd = np.log(topic_term_dists).astype(\"float64\")\n"
          ],
          "name": "stderr"
        },
        {
          "output_type": "execute_result",
          "data": {
            "text/html": [
              "\n",
              "<link rel=\"stylesheet\" type=\"text/css\" href=\"https://cdn.jsdelivr.net/gh/bmabey/pyLDAvis/pyLDAvis/js/ldavis.v1.0.0.css\">\n",
              "\n",
              "\n",
              "<div id=\"ldavis_el63140648092228176388092505\"></div>\n",
              "<script type=\"text/javascript\">\n",
              "\n",
              "var ldavis_el63140648092228176388092505_data = {\"mdsDat\": {\"x\": [0.2525592025749828, 0.020785075334712598, -0.013524623086351478, 0.051608781072238145, 0.10570732895817059, -0.1273603325910505, 0.07374519457134283, 0.17988857509493603, -0.24892629171288014, -0.2944829102161], \"y\": [-0.028709569531539473, 0.29587760505096705, 0.2803745822689416, -0.22630798837290936, 0.06307474091836897, 0.0006380752516191293, -0.1631212124058009, -0.08868910481619607, -0.02714810886143194, -0.10598901950201903], \"topics\": [1, 2, 3, 4, 5, 6, 7, 8, 9, 10], \"cluster\": [1, 1, 1, 1, 1, 1, 1, 1, 1, 1], \"Freq\": [10.499727906388848, 10.446825614879428, 10.236464188687581, 10.108527655990752, 10.082916191416873, 9.823328347670913, 9.759109046726556, 9.739393883633571, 9.713603211938574, 9.590103952666905]}, \"tinfo\": {\"Term\": [\"climat\", \"chang\", \"emiss\", \"energi\", \"adapt\", \"develop\", \"nation\", \"sector\", \"implement\", \"mitig\", \"plan\", \"contribut\", \"manag\", \"agricultur\", \"measur\", \"ghg\", \"water\", \"action\", \"countri\", \"reduct\", \"increas\", \"includ\", \"support\", \"forest\", \"polici\", \"resourc\", \"area\", \"land\", \"sustain\", \"project\", \"adapt\", \"prioriti\", \"strateg\", \"sectorspecif\", \"coher\", \"identif\", \"urgent\", \"sidewalk\", \"freedom\", \"intervent\", \"sectori\", \"pde\", \"pncc\", \"lecrd\", \"mainstream\", \"nccap\", \"martiniqu\", \"firmli\", \"autonom\", \"apprais\", \"viet_nam\", \"cpra\", \"enact\", \"unclear\", \"resolut\", \"respond\", \"foreseen\", \"broader\", \"nccp\", \"ndp\", \"resili\", \"napa\", \"nap\", \"subnat\", \"sudan\", \"nauru\", \"cambodia\", \"lao_pdr\", \"immedi\", \"communitybas\", \"align\", \"jnap\", \"cca\", \"spcr\", \"kjip\", \"climat\", \"chang\", \"long_term\", \"map\", \"systemat\", \"address\", \"plan\", \"strategi\", \"issu\", \"polici\", \"nation\", \"risk\", \"integr\", \"respons\", \"disast\", \"programm\", \"commun\", \"vulner\", \"action\", \"strengthen\", \"framework\", \"develop\", \"impact\", \"effect\", \"assess\", \"program\", \"alli\", \"avalanch\", \"errat\", \"event\", \"flash\", \"flood\", \"glof\", \"happen\", \"lake\", \"melt\", \"monsoon\", \"month\", \"outburst\", \"pattern\", \"properti\", \"riverin\", \"sea\", \"season\", \"seriou\", \"storm\", \"summer\", \"tempor\", \"waterstress\", \"fed\", \"north\", \"rain\", \"sensit\", \"sit\", \"randomis\", \"indirectli\", \"drought\", \"coastal\", \"island\", \"loss\", \"affect\", \"extrem\", \"rainfal\", \"rise\", \"sea_level\", \"damag\", \"caus\", \"variabl\", \"weather\", \"diseas\", \"highli\", \"neg\", \"km\", \"locat\", \"ocean\", \"zone\", \"threat\", \"warn\", \"precipit\", \"pacif\", \"sever\", \"region\", \"mani\", \"health\", \"impact\", \"earli\", \"temperatur\", \"infrastructur\", \"result\", \"increas\", \"vulner\", \"popul\", \"high\", \"tonga\", \"due\", \"area\", \"climat\", \"risk\", \"chang\", \"water\", \"medium\", \"reconstruct\", \"cash\", \"index\", \"pakistan\", \"even_though\", \"gdp\", \"percent\", \"driven\", \"compromis\", \"end\", \"economi\", \"remain\", \"stand\", \"output\", \"gradual\", \"independ\", \"growth\", \"billion\", \"dollar\", \"significantli\", \"guyana\", \"tumatumari\", \"licens\", \"runwai\", \"substanti\", \"head\", \"mainli\", \"per_capita\", \"rapid\", \"rate\", \"averag\", \"annual\", \"world\", \"show\", \"rel\", \"recent\", \"trend\", \"decreas\", \"limit\", \"grow\", \"jordan\", \"incom\", \"despit\", \"histor\", \"export\", \"lower\", \"million\", \"expect\", \"period\", \"year\", \"time\", \"increas\", \"countri\", \"global\", \"econom\", \"sinc\", \"signific\", \"current\", \"depend\", \"popul\", \"low\", \"project\", \"howev\", \"total\", \"futur\", \"level\", \"indic\", \"estim\", \"engag\", \"stakehold\", \"gambia\", \"alloc\", \"coordin\", \"institut\", \"transfer\", \"fund\", \"research\", \"input\", \"simplifi\", \"academ\", \"civil\", \"privat\", \"commiss\", \"mechan\", \"author\", \"focal_point\", \"dialogu\", \"expert\", \"feedback\", \"foreign\", \"kind\", \"nonrefund\", \"partnership\", \"publicpriv\", \"deform\", \"cso\", \"assist\", \"exercis\", \"financi\", \"ministri\", \"monitor\", \"financ\", \"technic\", \"market\", \"consult\", \"awar\", \"agenc\", \"depart\", \"mrv\", \"carri\", \"partner\", \"committe\", \"extern\", \"myanmar\", \"collabor\", \"support\", \"train\", \"intern\", \"capac\", \"technolog\", \"build\", \"environ\", \"govern\", \"public\", \"green\", \"process\", \"invest\", \"establish\", \"implement\", \"level\", \"work\", \"requir\", \"activ\", \"agenda\", \"arbitr\", \"extra\", \"featur\", \"beneath\", \"benefit\", \"gender\", \"girl\", \"promis\", \"stem\", \"unremit\", \"multipl\", \"environment\", \"plai\", \"role\", \"care\", \"acknowledg\", \"deem\", \"ivii\", \"nonpunit\", \"path\", \"specif\", \"uruguai\", \"competit\", \"solut\", \"link\", \"enjoi\", \"equal\", \"women_men\", \"compat\", \"made\", \"social\", \"longterm\", \"focu\", \"opportun\", \"inclus\", \"women\", \"adequ\", \"recogn\", \"lowcarbon\", \"rais\", \"scientif\", \"chile\", \"polit\", \"synergi\", \"youth\", \"special\", \"univers\", \"educ\", \"priorit\", \"goal\", \"transform\", \"aim\", \"develop\", \"sustain\", \"seek\", \"ensur\", \"wai\", \"focus\", \"differ\", \"vision\", \"countri\", \"make\", \"challeng\", \"effort\", \"relat\", \"econom\", \"continu\", \"provid\", \"approach\", \"creat\", \"achiev\", \"human\", \"effect\", \"object\", \"access\", \"import\", \"low\", \"assum\", \"ipcc\", \"remov\", \"businessasusu\", \"gwp\", \"emit\", \"calcul\", \"ch\", \"coeq\", \"inventori\", \"refer\", \"analyz\", \"ggcoe\", \"compar\", \"base_year\", \"pool\", \"methan\", \"nitrou\", \"economywid\", \"appli\", \"leon\", \"sierra\", \"lifetim\", \"ip\", \"bau_scenario\", \"tcoe\", \"nonenergi\", \"inegycei\", \"enter\", \"margin\", \"emiss\", \"ghg\", \"reduct\", \"carbon\", \"ga\", \"greenhous\", \"scenario\", \"methodolog\", \"guidelin\", \"uncondit\", \"gase\", \"baselin\", \"bau\", \"assumpt\", \"lulucf\", \"sink\", \"net\", \"equival\", \"dioxid\", \"ton\", \"data\", \"account\", \"estim\", \"valu\", \"target\", \"base\", \"potenti\", \"condit\", \"report\", \"total\", \"reduc\", \"sector\", \"approach\", \"consid\", \"level\", \"contribut\", \"verd\", \"analysi\", \"descript\", \"detail\", \"indepth\", \"projectbas\", \"rwanda\", \"goj\", \"scottish\", \"measur\", \"overview\", \"exist\", \"robust\", \"list\", \"propos\", \"conduct\", \"andor\", \"viv\", \"roadmap\", \"discuss\", \"xvi\", \"tabl\", \"sef\", \"decarbonis\", \"headlin\", \"offici\", \"aid\", \"gaseou\", \"northern_ireland\", \"welsh\", \"singapor\", \"outlin\", \"redd\", \"formul\", \"step\", \"cobenefit\", \"ongo\", \"phase\", \"highlight\", \"us_billion\", \"stage\", \"master_plan\", \"draft\", \"summari\", \"malawi\", \"cabo\", \"mitig\", \"identifi\", \"undertaken\", \"option\", \"includ\", \"implement\", \"kei\", \"sector\", \"assess\", \"cost\", \"action\", \"initi\", \"project\", \"requir\", \"target\", \"addit\", \"order\", \"polici\", \"enabl\", \"plan\", \"current\", \"activ\", \"set\", \"govern\", \"provid\", \"futur\", \"strategi\", \"invest\", \"commit\", \"section\", \"updat\", \"fulfil\", \"agreement\", \"fsm\", \"pari\", \"convent\", \"endur\", \"post\", \"uk\", \"act\", \"scope\", \"kyoto_protocol\", \"nonannex\", \"parti\", \"unfccc\", \"approv\", \"articl\", \"bind\", \"complianc\", \"confer\", \"transpar\", \"circumst\", \"republ\", \"stipul\", \"danger\", \"uncbd\", \"awd\", \"barbado\", \"unit\", \"determin\", \"state\", \"decis\", \"intend\", \"line\", \"ambit\", \"submit\", \"fair\", \"cp\", \"paragraph\", \"cop\", \"feder\", \"ambiti\", \"contribut\", \"inform\", \"indc\", \"ndc\", \"nation\", \"object\", \"report\", \"framework\", \"global\", \"commun\", \"achiev\", \"present\", \"effort\", \"set\", \"ecowa\", \"hotspot\", \"watersh\", \"rehabilit\", \"discharg\", \"food\", \"manag\", \"wetland\", \"land\", \"wood\", \"agricultur\", \"biodivers\", \"biolog\", \"control\", \"trial\", \"crop\", \"fertil\", \"fodder\", \"protect\", \"seed\", \"subsist\", \"agrarian\", \"popular\", \"farm\", \"township\", \"casebycas\", \"viii\", \"ecolog\", \"sanit\", \"areabas\", \"forest\", \"ecosystem\", \"rural\", \"conserv\", \"secur\", \"soil\", \"degrad\", \"livestock\", \"irrig\", \"marin\", \"practic\", \"ha\", \"restor\", \"speci\", \"tree\", \"hectar\", \"settlement\", \"deforest\", \"water\", \"product\", \"resourc\", \"area\", \"natur\", \"forestri\", \"promot\", \"improv\", \"system\", \"prevent\", \"servic\", \"enhanc\", \"cover\", \"sustain\", \"reduc\", \"ecree\", \"effici\", \"renew\", \"seall\", \"largescal\", \"gpglulucf\", \"comput\", \"engin\", \"uptak\", \"biofuel\", \"gener\", \"liquid\", \"fuel\", \"hybrid\", \"equip\", \"electr\", \"grid\", \"home\", \"hydro\", \"micro\", \"mini\", \"offgrid\", \"pico\", \"solar\", \"fleet\", \"road\", \"bagass\", \"bartica\", \"cogener\", \"encourag\", \"energi\", \"wast\", \"industri\", \"transport\", \"power\", \"demand\", \"consumpt\", \"vehicl\", \"standard\", \"mw\", \"clean\", \"oil\", \"instal\", \"uae\", \"util\", \"construct\", \"facil\", \"altern\", \"network\", \"storag\", \"solid\", \"fossil_fuel\", \"sourc\", \"reduc\", \"plant\", \"improv\", \"suppli\", \"sector\", \"system\", \"wind\", \"import\", \"potenti\", \"technolog\", \"promot\", \"cost\"], \"Freq\": [6811.0, 5274.0, 4261.0, 3400.0, 3468.0, 4958.0, 4662.0, 3971.0, 2850.0, 2246.0, 2677.0, 2063.0, 1698.0, 1684.0, 1611.0, 1583.0, 1826.0, 2135.0, 2492.0, 1454.0, 2078.0, 2230.0, 1538.0, 1295.0, 1763.0, 1508.0, 1492.0, 1127.0, 1434.0, 1831.0, 3468.509312989783, 783.4750429792099, 308.08523622136903, 30.604495530128915, 36.725393748819485, 66.30973994555632, 83.65228526823593, 1.020149818653534, 4.080599274614136, 156.08292121414476, 107.11573546462023, 1.020149818653534, 7.141048661251675, 6.120898773275077, 171.38517674339235, 12.241797546550155, 3.0604493866375386, 5.100748885298479, 8.161198549228272, 6.120898773275077, 118.33737591359515, 1.020149818653534, 28.5641946450067, 5.100748885298479, 34.68509508203531, 144.86127189181767, 12.241797546550155, 26.523895978222523, 5.100748885298479, 9.181348437204871, 981.3841600675855, 132.61947989111263, 181.58667451398932, 99.9746834758615, 94.87393459056301, 76.51123327947718, 71.41048883085479, 62.22913817531188, 62.22913817531188, 35.705244415427394, 138.74038032814124, 30.604495530128915, 87.73288260180428, 26.523895978222523, 23.46344575970822, 6225.974343173196, 4828.369414801978, 116.29708168348705, 76.51123327947718, 53.047791956445046, 495.79280229903475, 1925.0227837079738, 1041.5729596460285, 265.23895978222527, 1096.661072452638, 2428.9766564472147, 586.5861484293816, 441.72487653756394, 424.38233565156037, 375.41513215533155, 408.059946317287, 666.1578274906971, 592.7070577397624, 918.1348348471349, 321.3472063938607, 387.6569507760931, 1110.94319417686, 442.74502808929407, 284.62180377168903, 166.2844189847417, 157.10307276587488, 2.128830992083409, 2.128830992083409, 7.450908403318148, 321.4534807702277, 38.31896034055757, 524.7568525846054, 4.257661984166818, 12.77298567660532, 42.576622600619515, 7.450908403318148, 17.030647936667272, 29.80363361327259, 4.257661984166818, 135.18076682474216, 34.061295873334544, 8.515323968333636, 116.02129327594658, 120.27895112168639, 47.898697114955354, 141.56726683631828, 28.739219151837638, 10.644155650154879, 3.19324641915133, 7.450908403318148, 88.34648637838282, 67.0581794923952, 83.02441186404698, 4.257661984166818, 1.0644154960417045, 19.159480170278783, 440.66804170925093, 438.5392083720589, 437.47479170346287, 418.31529166873446, 393.83374360560305, 375.73869555404775, 366.1589455366836, 431.08829169188675, 292.7142660327122, 284.1989503412326, 249.07323559214097, 225.65608654031703, 196.91687180280152, 191.59478845982142, 182.01505609974575, 171.3709070710741, 157.5334903793258, 150.08259135644218, 136.24518349333817, 127.72985897321428, 126.66545113326252, 125.6010344646665, 123.47220112747446, 114.95687660735055, 355.51477885072336, 548.1739839791408, 206.49660416287716, 523.6924359160093, 1033.5474904548475, 158.5979070479218, 387.44724359402693, 459.8275064294022, 438.5392083720589, 825.9864166515086, 564.1402340080812, 467.27842310957436, 315.0669807586516, 230.97816988329714, 267.1683013009848, 376.80307690806666, 585.4285320654244, 296.9719327070963, 444.9256730690579, 244.81556891775688, 106.2797790451508, 24.104691998497938, 16.435016976787214, 97.51443492735751, 102.99277824505351, 17.530684991511375, 304.59564969996313, 247.62093456147474, 43.82671193809924, 14.243682028697291, 169.82851308556815, 766.967476218471, 216.94222582376466, 46.018050130264356, 60.26172891488645, 52.59205605589252, 58.07039504815493, 817.3681897567648, 141.34114686545675, 56.974728114789166, 140.245479932091, 105.18411211178504, 1.095667811969461, 15.339350043421451, 2.191335623938922, 116.14079009630986, 20.817689035683856, 140.245479932091, 233.37724712598546, 71.21840689941126, 404.3014271449194, 406.4927610116509, 390.05773970943005, 269.53429053052434, 230.0902463258882, 216.94222582376466, 205.98555649010703, 200.50720452154385, 283.77796066427925, 521.5378755237277, 186.26353438778895, 143.53248938305546, 136.9584791319937, 133.67147833189642, 127.09746808083466, 126.0018011474689, 157.77615951681037, 666.1660491418834, 407.588445246751, 638.774358506005, 1023.3537808503406, 335.27435843767324, 1252.3483948463318, 1190.9909081639742, 646.4440097378309, 648.6353782080312, 222.42056049059346, 324.3176891040156, 471.137161985434, 260.76893776186387, 428.4061342824349, 324.3176891040156, 528.1118771239223, 272.82129133062165, 329.79600646911, 306.78698356669463, 363.7617333086518, 257.4819369617666, 261.8646046952297, 171.6685981996662, 363.89630954694525, 92.51600916425775, 79.15258903540845, 356.7006165281817, 677.4228021335363, 343.3371963993324, 584.9067587982879, 352.58878706446103, 77.09667430354813, 7.195689815233182, 30.838669721419247, 145.96970676515016, 372.1199684743866, 70.92894292208857, 431.7413760998695, 169.61268346780588, 32.89458231759268, 54.48165069544877, 103.82352310399433, 17.475246389039597, 62.705296808768665, 21.58706837785609, 2.0559113948495424, 135.69015019134375, 23.64298097402952, 1.0279556974247712, 12.33546810213639, 255.96096552197787, 28.78275926093273, 591.0744859083736, 570.5154069317514, 565.3756115593529, 647.6120983207948, 472.8596023950952, 258.0168802538382, 246.70935777135398, 240.54163066126824, 237.4577671062254, 215.87068804993476, 188.11588188355836, 166.528819912763, 160.36109280267726, 155.22131451577405, 127.46649980665003, 120.27081533063412, 105.87943783585467, 1425.7744660330584, 160.36109280267726, 864.5107522794074, 1036.179316308083, 945.7192047901904, 790.4978902744162, 521.1735217090844, 874.7902746822232, 465.6639093763316, 316.6103561416338, 608.5497355009436, 534.5369418379337, 423.5177513434187, 853.2032297969231, 582.8508953229134, 310.4426290315481, 329.97377627048314, 319.6942196966767, 113.5358962770644, 2.18338267192133, 7.641839418295776, 28.3839740692661, 1.091691335960665, 284.93143036434367, 203.0545856926967, 6.55014814890623, 22.925517189749414, 16.37536957341214, 1.091691335960665, 61.13471534636621, 751.0836529877305, 102.61898251803102, 197.59613733428333, 27.292282267307595, 45.85103437949883, 14.19198703463305, 3.275074074453115, 1.091691335960665, 89.51868941563231, 423.57624021672945, 96.06883596683166, 67.68486189756557, 116.81097381321572, 149.56170656921253, 14.19198703463305, 113.5358962770644, 43.667655036133475, 26.20059259562492, 316.5904819697611, 507.63648127394833, 275.10620627699296, 212.8798097800474, 276.19791299088223, 172.48722375896193, 155.02017196983252, 145.1949478824818, 144.10325821079914, 141.9198703463305, 117.9026634848984, 113.5358962770644, 111.35251693369904, 109.16912906923038, 101.52729284634835, 93.88545662346631, 92.79376695178364, 89.51868941563231, 281.65636134929565, 151.7451029547845, 568.7711710570046, 113.5358962770644, 353.7079989757985, 3546.905026381063, 1108.0666868941637, 167.02877540054857, 460.6937231383536, 150.6533962408952, 147.37832722584716, 290.3898957649636, 235.8053269697968, 1102.6082726201637, 306.765274924617, 313.31541295471305, 430.1263782468255, 368.99165437935596, 554.5792053251298, 315.4987922980784, 435.58482660523885, 320.95724065649176, 183.4041375179953, 376.6335161655479, 253.27239580113283, 315.4987922980784, 271.83113726194495, 245.6305510571475, 253.27239580113283, 246.72224072883017, 141.87820409481338, 472.9273469827113, 262.16624525315956, 69.91099984107252, 80.19203020613905, 70.93910204740669, 198.42385865009206, 129.54096931707852, 77.10771528541171, 487.3207778713897, 382.45428641150573, 34.95549992053626, 28.786880456237622, 410.213062585978, 124.40044998368285, 40.096015103069526, 118.23183674567782, 64.77048465853926, 77.10771528541171, 198.42385865009206, 80.19203020613905, 80.19203020613905, 7.1967201140594055, 14.393440228118811, 141.87820409481338, 95.61357160287643, 7.1967201140594055, 7.1967201140594055, 39.06790874587294, 44.208423928406205, 4261.486550858825, 1582.2503083587167, 1453.7374827565964, 870.8031830926793, 789.5830257750316, 757.7118407752226, 634.3395096013236, 345.4425737765763, 293.0093114431847, 270.3910629038329, 239.54798011035817, 224.12643041189597, 208.70488071343377, 189.17093879308453, 183.00230895162986, 183.00230895162986, 168.60887806295148, 165.52457144394896, 133.65337814241522, 130.5690715234127, 684.7165011082483, 596.2996781566103, 561.3441699343492, 241.6041845230265, 709.391020474067, 500.68612315718354, 391.7071896650636, 384.5104908241741, 423.57840787177184, 370.1170599354957, 489.37698228405804, 702.1942884262781, 299.177957888089, 300.2060434909735, 320.7681208245562, 266.27865407849623, 103.4561729127576, 308.2353892722822, 33.063312907711676, 189.84740906702493, 18.131495305895914, 5.3327922215624035, 237.84253751468916, 8.53246786377933, 12.798701537936092, 1611.5698476037212, 23.4642859810609, 466.0860625357701, 70.39286000504592, 120.52110967124787, 397.826315501809, 174.9155935270724, 179.18181946924207, 1.0665584829724162, 77.85876777502219, 81.05844135537589, 1.0665584829724162, 287.9708036757969, 3.199675384484023, 25.597403075872183, 5.3327922215624035, 72.52598122358366, 37.32954709733425, 1.0665584829724162, 30.930195812900394, 19.19805179143833, 155.71753555004437, 138.6525987915541, 136.51948582046927, 134.38637284938446, 126.92045683195528, 194.1136515041004, 105.58929413129533, 94.92370453351246, 93.8571439242436, 89.59090973462104, 88.52435737280507, 84.25812318318249, 143.98540183789845, 68.25974291023464, 60.79383514025837, 102.38961230348873, 2047.7922790595862, 613.271162696381, 174.9155935270724, 285.8376824572592, 1628.6348173520232, 1996.597501773927, 433.0227496280584, 2501.0795483045067, 567.4091224774429, 491.6834511785997, 1216.943213929719, 362.6298813755596, 1059.0925736560425, 456.48701705235027, 622.8701422001775, 403.15911854815334, 307.1688286630133, 664.4659399820401, 217.57793542329807, 738.0584900623455, 357.29707832921525, 345.56494461706933, 281.5714400201837, 382.89449996185647, 323.1672378020463, 269.8392898131319, 347.69806583560705, 291.1704525137919, 755.5694132152912, 171.29042694225896, 491.8031623504248, 97.73012255979266, 680.9582754439209, 16.813783829453754, 491.8031623504248, 448.71786578691507, 4.203445957363439, 72.50944630118757, 226.98608632744592, 202.81626815011956, 85.11978443049011, 75.66202877581532, 24.169814061930595, 499.1592183041253, 579.0246629434724, 177.59559189151446, 322.61446803230643, 40.9835968625354, 48.33962812386119, 107.18786998367591, 200.7145519875621, 223.83349562202662, 517.0238550706131, 28.37326079093074, 38.881876584582166, 1.0508614893408597, 2.1017229786817193, 53.593934991837955, 464.48078639084537, 627.3642992981252, 503.3626506292402, 365.69979751898245, 427.700638315008, 337.32654701654116, 231.18953511414395, 229.08780249000338, 205.96885885553885, 187.05334754618926, 182.84989875949123, 137.66285311025777, 133.4594125543513, 306.85154742837614, 1796.9731463870517, 825.9771186615467, 952.0804834929891, 1073.9804159993166, 2232.0297418862615, 400.37822943226234, 439.26009367065717, 416.14115003619264, 470.78593487851776, 514.9221389080556, 362.54720681356315, 271.12225743381754, 304.74983126581867, 279.52917146879673, 9.43775828917293, 11.535037680961475, 65.0156693544407, 161.49053369020749, 11.535037680961475, 497.05528563034954, 1698.7965125736168, 98.57214372755533, 1127.287802378027, 121.64222114172723, 1684.1155445176032, 250.6249263114612, 62.91838996265216, 164.63645072564137, 8.389118593278656, 315.6405833524082, 93.32894319583502, 15.72959749066304, 687.9077390145925, 26.215996501854715, 44.04287133205735, 7.340478897384384, 1.048639824159832, 157.2959666976346, 3.145919600745055, 2.097279648319664, 8.389118593278656, 94.37758494397823, 97.52350197941212, 1.048639824159832, 1295.070219393077, 432.0396121714109, 375.4130726976181, 361.7807545987436, 444.62328031314644, 297.81369826096085, 297.81369826096085, 245.3817257797409, 231.7494076808664, 217.0684396248529, 355.4888876918927, 175.12285178908198, 164.63645072564137, 142.6150150596127, 133.1772557443153, 113.25310357457305, 108.00990304285273, 191.90108692339035, 1581.3488994694412, 960.5541009920823, 1218.5194292415924, 1115.7527841934304, 663.7889870162942, 418.40729407253644, 527.4658388635324, 593.53016227961, 630.2325167476774, 195.04700395882423, 271.59771202035085, 311.44601635983537, 261.11131095691024, 326.1269844158489, 239.0898752908816, 4.2213320297496955, 874.8710548077287, 770.3930868181542, 16.885328118998782, 34.82598797908715, 1.0553330074374239, 8.442664059499391, 50.65598435699635, 24.27266043740859, 46.43465334032493, 919.1950608751268, 15.829995364830927, 310.26791279776796, 33.770656237997564, 120.30796436748373, 821.0490752274636, 153.02328481207863, 51.71131609808593, 63.31998145932371, 17.94066188624491, 11.608663335081232, 50.65598435699635, 2.1106660148748477, 332.429915831467, 30.604656962415724, 166.74261770780868, 5.2766652904566875, 1.0553330074374239, 15.829995364830927, 125.58462712524474, 3399.2277889259794, 777.7804211627205, 708.1284857276771, 825.2704184010743, 551.9391773261381, 327.15322065520127, 291.2719009350246, 264.8885871462195, 253.27992583729483, 205.7899448081934, 196.29193887682172, 176.240607429928, 170.963944672167, 168.853289294614, 163.57661032760063, 248.00326307953384, 162.52129074345032, 158.29994756983965, 144.58063088336198, 143.5252950899593, 140.35928770975127, 174.12995205237502, 608.9271480773589, 716.571107237889, 306.04656962415726, 523.4451919505277, 235.33926597720648, 768.2824476498536, 364.089892378033, 186.79394915470237, 249.0585988729365, 238.50525714816212, 279.66325583535223, 241.67126452837016, 196.29193887682172], \"Total\": [6811.0, 5274.0, 4261.0, 3400.0, 3468.0, 4958.0, 4662.0, 3971.0, 2850.0, 2246.0, 2677.0, 2063.0, 1698.0, 1684.0, 1611.0, 1583.0, 1826.0, 2135.0, 2492.0, 1454.0, 2078.0, 2230.0, 1538.0, 1295.0, 1763.0, 1508.0, 1492.0, 1127.0, 1434.0, 1831.0, 3468.509312989783, 783.4750429792099, 308.08523622136903, 30.604495530128915, 36.725393748819485, 66.30973994555632, 83.65228526823593, 1.020149818653534, 4.080599274614136, 156.08292121414476, 107.11573546462023, 1.020149818653534, 7.141048661251675, 6.120898773275077, 171.38517674339235, 12.241797546550155, 3.0604493866375386, 5.100748885298479, 8.161198549228272, 6.120898773275077, 118.33737591359515, 1.020149818653534, 28.5641946450067, 5.100748885298479, 34.68509508203531, 144.86127189181767, 12.241797546550155, 26.523895978222523, 5.100748885298479, 9.181348437204871, 984.4680270931196, 132.61947989111263, 182.6146302114141, 99.9746834758615, 94.87393459056301, 76.51123327947718, 71.41048883085479, 62.22913817531188, 62.22913817531188, 35.705244415427394, 140.7962917229908, 30.604495530128915, 88.76098552156793, 26.523895978222523, 23.46344575970822, 6811.40287523862, 5274.343727695195, 118.3529930783366, 78.60851292779685, 54.07589487620869, 597.2928209697421, 2677.762231565088, 1389.2710254816357, 338.22381316480033, 1763.1829238295277, 4662.098089669436, 883.558081136478, 630.4800464255204, 602.7254015843663, 553.1725215806932, 634.2994276049438, 1355.1541846486873, 1159.0306744197649, 2135.078048776854, 563.8313415155994, 803.7981008122857, 4958.011293015665, 1476.2925185441416, 742.7522795746818, 733.6935414621846, 547.5199739920184, 2.128830992083409, 2.128830992083409, 7.450908403318148, 321.4534807702277, 38.31896034055757, 524.7568525846054, 4.257661984166818, 12.77298567660532, 42.576622600619515, 7.450908403318148, 17.030647936667272, 29.80363361327259, 4.257661984166818, 135.18076682474216, 34.061295873334544, 8.515323968333636, 116.02129327594658, 120.27895112168639, 47.898697114955354, 141.56726683631828, 28.739219151837638, 10.644155650154879, 3.19324641915133, 7.450908403318148, 88.34648637838282, 67.0581794923952, 83.02441186404698, 4.257661984166818, 1.0644154960417045, 19.159480170278783, 440.66804170925093, 438.5392083720589, 437.47479170346287, 418.31529166873446, 393.83374360560305, 375.73869555404775, 366.1589455366836, 432.1799830278474, 292.7142660327122, 284.1989503412326, 249.07323559214097, 225.65608654031703, 196.91687180280152, 191.59478845982142, 182.01505609974575, 171.3709070710741, 157.5334903793258, 150.08259135644218, 136.24518349333817, 127.72985897321428, 126.66545113326252, 125.6010344646665, 123.47220112747446, 114.95687660735055, 361.8066180522135, 633.4943086673826, 219.75855215198843, 660.3925131406903, 1476.2925185441416, 166.82155262732, 555.0844228128635, 700.1668192167629, 701.6460995209914, 2078.3348114978403, 1159.0306744197649, 897.7407632315366, 562.6879153201263, 321.4512221527779, 488.4931948582125, 1492.5558611014972, 6811.40287523862, 883.558081136478, 5274.343727695195, 1826.1644683871982, 106.2797790451508, 24.104691998497938, 16.435016976787214, 97.51443492735751, 102.99277824505351, 17.530684991511375, 304.59564969996313, 247.62093456147474, 43.82671193809924, 14.243682028697291, 169.82851308556815, 766.967476218471, 216.94222582376466, 46.018050130264356, 60.26172891488645, 52.59205605589252, 58.07039504815493, 817.3681897567648, 141.34114686545675, 56.974728114789166, 140.245479932091, 105.18411211178504, 1.095667811969461, 15.339350043421451, 2.191335623938922, 116.14079009630986, 20.817689035683856, 140.245479932091, 233.37724712598546, 71.21840689941126, 404.3014271449194, 407.5129108303044, 391.12215520547176, 269.53429053052434, 230.0902463258882, 216.94222582376466, 205.98555649010703, 200.50720452154385, 284.82660048843906, 526.8706677452901, 186.26353438778895, 143.53248938305546, 136.9584791319937, 133.67147833189642, 127.09746808083466, 126.0018011474689, 158.8247993409702, 694.952929598121, 435.33927110897383, 708.6853583470776, 1226.9181505321035, 402.9592203352388, 2078.3348114978403, 2492.6448859241314, 1117.2299446163488, 1203.214583533161, 269.3632888023266, 475.4882655936723, 828.4342403146493, 348.0510074716507, 897.7407632315366, 571.0399298328457, 1831.892941921994, 405.07454296146835, 700.9683994120431, 576.6262733798266, 1435.518585692961, 488.8865224039043, 823.2087746295789, 171.6685981996662, 363.89630954694525, 92.51600916425775, 79.15258903540845, 356.7006165281817, 677.4228021335363, 343.3371963993324, 584.9067587982879, 352.58878706446103, 77.09667430354813, 7.195689815233182, 30.838669721419247, 145.96970676515016, 372.1199684743866, 70.92894292208857, 431.7413760998695, 169.61268346780588, 32.89458231759268, 54.48165069544877, 103.82352310399433, 17.475246389039597, 62.705296808768665, 21.58706837785609, 2.0559113948495424, 135.69015019134375, 23.64298097402952, 1.0279556974247712, 12.33546810213639, 255.96096552197787, 28.78275926093273, 591.0744859083736, 570.5154069317514, 565.3756115593529, 648.6786568037671, 472.8596023950952, 258.0168802538382, 246.70935777135398, 240.54163066126824, 237.4577671062254, 215.87068804993476, 188.11588188355836, 166.528819912763, 160.36109280267726, 155.22131451577405, 127.46649980665003, 120.27081533063412, 105.87943783585467, 1538.82966793433, 162.41729864220457, 1068.3778785108057, 1326.535817909975, 1225.3824606255425, 1056.396764295962, 654.8131531519272, 1260.878021063231, 659.8451928756003, 396.1820440763014, 971.5175160015799, 825.7073943517255, 598.1044764158813, 2850.8924229068107, 1435.518585692961, 411.96992187789647, 786.4607933228334, 890.3106972413159, 113.5358962770644, 2.18338267192133, 7.641839418295776, 28.3839740692661, 1.091691335960665, 284.93143036434367, 203.0545856926967, 6.55014814890623, 22.925517189749414, 16.37536957341214, 1.091691335960665, 61.13471534636621, 751.0836529877305, 102.61898251803102, 197.59613733428333, 27.292282267307595, 45.85103437949883, 14.19198703463305, 3.275074074453115, 1.091691335960665, 89.51868941563231, 423.57624021672945, 96.06883596683166, 67.68486189756557, 116.81097381321572, 149.56170656921253, 14.19198703463305, 113.5358962770644, 43.667655036133475, 26.20059259562492, 316.5904819697611, 510.7824008746934, 275.10620627699296, 212.8798097800474, 277.24877448022306, 172.48722375896193, 155.02017196983252, 145.1949478824818, 144.10325821079914, 141.9198703463305, 117.9026634848984, 113.5358962770644, 111.35251693369904, 109.16912906923038, 101.52729284634835, 93.88545662346631, 92.79376695178364, 89.51868941563231, 285.82293875902, 152.84077076675396, 613.9582167062381, 114.63156408903386, 382.32299465778993, 4958.011293015665, 1434.1936713100126, 177.58210598146195, 564.5172462423479, 158.04072754622675, 155.0480022475579, 351.0615796601048, 284.77251715599743, 2492.6448859241314, 432.27647428661265, 460.48050907106233, 734.8762095126442, 607.3344456265522, 1203.214583533161, 497.37965895240427, 920.141106033145, 620.1351985445808, 218.3546302960745, 997.2878790800971, 449.1248509353383, 742.7522795746818, 672.2093666942073, 523.1434752014874, 646.9591509904906, 571.0399298328457, 141.87820409481338, 472.9273469827113, 262.16624525315956, 69.91099984107252, 80.19203020613905, 70.93910204740669, 198.42385865009206, 129.54096931707852, 77.10771528541171, 487.3207778713897, 382.45428641150573, 34.95549992053626, 28.786880456237622, 410.213062585978, 124.40044998368285, 40.096015103069526, 118.23183674567782, 64.77048465853926, 77.10771528541171, 198.42385865009206, 80.19203020613905, 80.19203020613905, 7.1967201140594055, 14.393440228118811, 141.87820409481338, 95.61357160287643, 7.1967201140594055, 7.1967201140594055, 39.06790874587294, 44.208423928406205, 4261.486550858825, 1583.345976170686, 1454.765438454021, 870.8031830926793, 789.5830257750316, 757.7118407752226, 634.3395096013236, 345.4425737765763, 293.0093114431847, 270.3910629038329, 239.54798011035817, 224.12643041189597, 208.70488071343377, 189.17093879308453, 183.00230895162986, 183.00230895162986, 168.60887806295148, 165.52457144394896, 133.65337814241522, 130.5690715234127, 719.9758156367868, 643.588444083797, 823.2087746295789, 287.7443352468724, 1332.2611626742446, 898.1920610470061, 630.2124468132257, 678.7670499739426, 862.838501542429, 700.9683994120431, 1445.0379648128287, 3971.5562843806383, 620.1351985445808, 649.6248789322879, 1435.518585692961, 2063.251800465548, 103.4561729127576, 308.2353892722822, 33.063312907711676, 189.84740906702493, 18.131495305895914, 5.3327922215624035, 237.84253751468916, 8.53246786377933, 12.798701537936092, 1611.5698476037212, 23.4642859810609, 466.0860625357701, 70.39286000504592, 120.52110967124787, 397.826315501809, 174.9155935270724, 179.18181946924207, 1.0665584829724162, 77.85876777502219, 81.05844135537589, 1.0665584829724162, 287.9708036757969, 3.199675384484023, 25.597403075872183, 5.3327922215624035, 72.52598122358366, 37.32954709733425, 1.0665584829724162, 30.930195812900394, 19.19805179143833, 155.71753555004437, 138.6525987915541, 136.51948582046927, 134.38637284938446, 126.92045683195528, 195.16898451153781, 105.58929413129533, 94.92370453351246, 93.8571439242436, 89.59090973462104, 88.52435737280507, 84.25812318318249, 145.04981733394015, 68.25974291023464, 60.79383514025837, 103.43825212764857, 2246.4801060655523, 665.2988031010959, 184.16848341226134, 316.4423394196749, 2230.7035513196447, 2850.8924229068107, 525.8563811151612, 3971.5562843806383, 733.6935414621846, 689.0710578673909, 2135.078048776854, 484.0277119443451, 1831.892941921994, 786.4607933228334, 1332.2611626742446, 732.7101258425532, 492.7563625665806, 1763.1829238295277, 291.812943872063, 2677.762231565088, 828.4342403146493, 890.3106972413159, 561.1006114889803, 1260.878021063231, 920.141106033145, 576.6262733798266, 1389.2710254816357, 825.7073943517255, 755.5694132152912, 171.29042694225896, 491.8031623504248, 97.73012255979266, 680.9582754439209, 16.813783829453754, 491.8031623504248, 448.71786578691507, 4.203445957363439, 72.50944630118757, 226.98608632744592, 202.81626815011956, 85.11978443049011, 75.66202877581532, 24.169814061930595, 499.1592183041253, 579.0246629434724, 177.59559189151446, 322.61446803230643, 40.9835968625354, 48.33962812386119, 107.18786998367591, 200.7145519875621, 223.83349562202662, 517.0238550706131, 28.37326079093074, 38.881876584582166, 1.0508614893408597, 2.1017229786817193, 53.593934991837955, 464.48078639084537, 629.4410420420487, 504.4112904534, 365.69979751898245, 428.72874123477163, 338.4182383525018, 231.18953511414395, 229.08780249000338, 205.96885885553885, 187.05334754618926, 182.84989875949123, 137.66285311025777, 133.4594125543513, 309.91199681501365, 2063.251800465548, 918.6861417604637, 1163.8393591646984, 1339.5422522684473, 4662.098089669436, 672.2093666942073, 862.838501542429, 803.7981008122857, 1117.2299446163488, 1355.1541846486873, 997.2878790800971, 414.49568126404006, 734.8762095126442, 561.1006114889803, 9.43775828917293, 11.535037680961475, 65.0156693544407, 161.49053369020749, 11.535037680961475, 497.05528563034954, 1698.7965125736168, 98.57214372755533, 1127.287802378027, 121.64222114172723, 1684.1155445176032, 250.6249263114612, 62.91838996265216, 164.63645072564137, 8.389118593278656, 315.6405833524082, 93.32894319583502, 15.72959749066304, 687.9077390145925, 26.215996501854715, 44.04287133205735, 7.340478897384384, 1.048639824159832, 157.2959666976346, 3.145919600745055, 2.097279648319664, 8.389118593278656, 94.37758494397823, 97.52350197941212, 1.048639824159832, 1295.070219393077, 432.0396121714109, 375.4130726976181, 361.7807545987436, 445.7189481251159, 297.81369826096085, 297.81369826096085, 245.3817257797409, 231.7494076808664, 217.0684396248529, 357.6220046578376, 175.12285178908198, 164.63645072564137, 142.6150150596127, 133.1772557443153, 113.25310357457305, 108.00990304285273, 197.04160158706583, 1826.1644683871982, 1096.6920617374753, 1508.4029451255278, 1492.5558611014972, 847.9237927920734, 556.1730810402884, 769.1371033919027, 1116.9753542301378, 1294.4854815834522, 217.97252114857366, 396.1673434753859, 646.4144228476011, 487.2939457814746, 1434.1936713100126, 1445.0379648128287, 4.2213320297496955, 874.8710548077287, 770.3930868181542, 16.885328118998782, 34.82598797908715, 1.0553330074374239, 8.442664059499391, 50.65598435699635, 24.27266043740859, 46.43465334032493, 919.1950608751268, 15.829995364830927, 310.26791279776796, 33.770656237997564, 120.30796436748373, 821.0490752274636, 153.02328481207863, 51.71131609808593, 63.31998145932371, 17.94066188624491, 11.608663335081232, 50.65598435699635, 2.1106660148748477, 332.429915831467, 30.604656962415724, 166.74261770780868, 5.2766652904566875, 1.0553330074374239, 15.829995364830927, 125.58462712524474, 3400.255744623404, 777.7804211627205, 708.1284857276771, 828.3542854266084, 551.9391773261381, 327.15322065520127, 291.2719009350246, 264.8885871462195, 253.27992583729483, 205.7899448081934, 196.29193887682172, 176.240607429928, 170.963944672167, 168.853289294614, 163.57661032760063, 249.05190290369367, 162.52129074345032, 158.29994756983965, 144.58063088336198, 143.5252950899593, 140.35928770975127, 175.15805497213867, 717.9060566643044, 1445.0379648128287, 435.0292665848955, 1116.9753542301378, 352.7869283353566, 3971.5562843806383, 1294.4854815834522, 238.95030852971968, 646.9591509904906, 630.2124468132257, 1225.3824606255425, 769.1371033919027, 689.0710578673909], \"Category\": [\"Default\", \"Default\", \"Default\", \"Default\", \"Default\", \"Default\", \"Default\", \"Default\", \"Default\", \"Default\", \"Default\", \"Default\", \"Default\", \"Default\", \"Default\", \"Default\", \"Default\", \"Default\", \"Default\", \"Default\", \"Default\", \"Default\", \"Default\", \"Default\", \"Default\", \"Default\", \"Default\", \"Default\", \"Default\", \"Default\", \"Topic1\", \"Topic1\", \"Topic1\", \"Topic1\", \"Topic1\", \"Topic1\", \"Topic1\", \"Topic1\", \"Topic1\", \"Topic1\", \"Topic1\", \"Topic1\", \"Topic1\", \"Topic1\", \"Topic1\", \"Topic1\", \"Topic1\", \"Topic1\", \"Topic1\", \"Topic1\", \"Topic1\", \"Topic1\", \"Topic1\", \"Topic1\", \"Topic1\", \"Topic1\", \"Topic1\", \"Topic1\", \"Topic1\", \"Topic1\", \"Topic1\", \"Topic1\", \"Topic1\", \"Topic1\", \"Topic1\", \"Topic1\", \"Topic1\", \"Topic1\", \"Topic1\", \"Topic1\", \"Topic1\", \"Topic1\", \"Topic1\", \"Topic1\", \"Topic1\", \"Topic1\", \"Topic1\", \"Topic1\", \"Topic1\", \"Topic1\", \"Topic1\", \"Topic1\", \"Topic1\", \"Topic1\", \"Topic1\", \"Topic1\", \"Topic1\", \"Topic1\", \"Topic1\", \"Topic1\", \"Topic1\", \"Topic1\", \"Topic1\", \"Topic1\", \"Topic1\", \"Topic1\", \"Topic1\", \"Topic1\", \"Topic1\", \"Topic1\", \"Topic1\", \"Topic2\", \"Topic2\", \"Topic2\", \"Topic2\", \"Topic2\", \"Topic2\", \"Topic2\", \"Topic2\", \"Topic2\", \"Topic2\", \"Topic2\", \"Topic2\", \"Topic2\", \"Topic2\", \"Topic2\", \"Topic2\", \"Topic2\", \"Topic2\", \"Topic2\", \"Topic2\", \"Topic2\", \"Topic2\", \"Topic2\", \"Topic2\", \"Topic2\", \"Topic2\", \"Topic2\", \"Topic2\", \"Topic2\", \"Topic2\", \"Topic2\", \"Topic2\", \"Topic2\", \"Topic2\", \"Topic2\", \"Topic2\", \"Topic2\", \"Topic2\", \"Topic2\", \"Topic2\", \"Topic2\", \"Topic2\", \"Topic2\", \"Topic2\", \"Topic2\", \"Topic2\", \"Topic2\", \"Topic2\", \"Topic2\", \"Topic2\", \"Topic2\", \"Topic2\", \"Topic2\", \"Topic2\", \"Topic2\", \"Topic2\", \"Topic2\", \"Topic2\", \"Topic2\", \"Topic2\", \"Topic2\", \"Topic2\", \"Topic2\", \"Topic2\", \"Topic2\", \"Topic2\", \"Topic2\", \"Topic2\", \"Topic2\", \"Topic2\", \"Topic2\", \"Topic2\", \"Topic2\", \"Topic2\", \"Topic3\", \"Topic3\", \"Topic3\", \"Topic3\", \"Topic3\", \"Topic3\", \"Topic3\", \"Topic3\", \"Topic3\", \"Topic3\", \"Topic3\", \"Topic3\", \"Topic3\", \"Topic3\", \"Topic3\", \"Topic3\", \"Topic3\", \"Topic3\", \"Topic3\", \"Topic3\", \"Topic3\", \"Topic3\", \"Topic3\", \"Topic3\", \"Topic3\", \"Topic3\", \"Topic3\", \"Topic3\", \"Topic3\", \"Topic3\", \"Topic3\", \"Topic3\", \"Topic3\", \"Topic3\", \"Topic3\", \"Topic3\", \"Topic3\", \"Topic3\", \"Topic3\", \"Topic3\", \"Topic3\", \"Topic3\", \"Topic3\", \"Topic3\", \"Topic3\", \"Topic3\", \"Topic3\", \"Topic3\", \"Topic3\", \"Topic3\", \"Topic3\", \"Topic3\", \"Topic3\", \"Topic3\", \"Topic3\", \"Topic3\", \"Topic3\", \"Topic3\", \"Topic3\", \"Topic3\", \"Topic3\", \"Topic3\", \"Topic3\", \"Topic3\", \"Topic3\", \"Topic3\", \"Topic3\", \"Topic3\", \"Topic3\", \"Topic4\", \"Topic4\", \"Topic4\", \"Topic4\", \"Topic4\", \"Topic4\", \"Topic4\", \"Topic4\", \"Topic4\", \"Topic4\", \"Topic4\", \"Topic4\", \"Topic4\", \"Topic4\", \"Topic4\", \"Topic4\", \"Topic4\", \"Topic4\", \"Topic4\", \"Topic4\", \"Topic4\", \"Topic4\", \"Topic4\", \"Topic4\", \"Topic4\", \"Topic4\", \"Topic4\", \"Topic4\", \"Topic4\", \"Topic4\", \"Topic4\", \"Topic4\", \"Topic4\", \"Topic4\", \"Topic4\", \"Topic4\", \"Topic4\", \"Topic4\", \"Topic4\", \"Topic4\", \"Topic4\", \"Topic4\", \"Topic4\", \"Topic4\", \"Topic4\", \"Topic4\", \"Topic4\", \"Topic4\", \"Topic4\", \"Topic4\", \"Topic4\", \"Topic4\", \"Topic4\", \"Topic4\", \"Topic4\", \"Topic4\", \"Topic4\", \"Topic4\", \"Topic4\", \"Topic4\", \"Topic4\", \"Topic4\", \"Topic4\", \"Topic4\", \"Topic4\", \"Topic5\", \"Topic5\", \"Topic5\", \"Topic5\", \"Topic5\", \"Topic5\", \"Topic5\", \"Topic5\", \"Topic5\", \"Topic5\", \"Topic5\", \"Topic5\", \"Topic5\", \"Topic5\", \"Topic5\", \"Topic5\", \"Topic5\", \"Topic5\", \"Topic5\", \"Topic5\", \"Topic5\", \"Topic5\", \"Topic5\", \"Topic5\", \"Topic5\", \"Topic5\", \"Topic5\", \"Topic5\", \"Topic5\", \"Topic5\", \"Topic5\", \"Topic5\", \"Topic5\", \"Topic5\", \"Topic5\", \"Topic5\", \"Topic5\", \"Topic5\", \"Topic5\", \"Topic5\", \"Topic5\", \"Topic5\", \"Topic5\", \"Topic5\", \"Topic5\", \"Topic5\", \"Topic5\", \"Topic5\", \"Topic5\", \"Topic5\", \"Topic5\", \"Topic5\", \"Topic5\", \"Topic5\", \"Topic5\", \"Topic5\", \"Topic5\", \"Topic5\", \"Topic5\", \"Topic5\", \"Topic5\", \"Topic5\", \"Topic5\", \"Topic5\", \"Topic5\", \"Topic5\", \"Topic5\", \"Topic5\", \"Topic5\", \"Topic5\", \"Topic5\", \"Topic5\", \"Topic5\", \"Topic5\", \"Topic5\", \"Topic5\", \"Topic5\", \"Topic5\", \"Topic6\", \"Topic6\", \"Topic6\", \"Topic6\", \"Topic6\", \"Topic6\", \"Topic6\", \"Topic6\", \"Topic6\", \"Topic6\", \"Topic6\", \"Topic6\", \"Topic6\", \"Topic6\", \"Topic6\", \"Topic6\", \"Topic6\", \"Topic6\", \"Topic6\", \"Topic6\", \"Topic6\", \"Topic6\", \"Topic6\", \"Topic6\", \"Topic6\", \"Topic6\", \"Topic6\", \"Topic6\", \"Topic6\", \"Topic6\", \"Topic6\", \"Topic6\", \"Topic6\", \"Topic6\", \"Topic6\", \"Topic6\", \"Topic6\", \"Topic6\", \"Topic6\", \"Topic6\", \"Topic6\", \"Topic6\", \"Topic6\", \"Topic6\", \"Topic6\", \"Topic6\", \"Topic6\", \"Topic6\", \"Topic6\", \"Topic6\", \"Topic6\", \"Topic6\", \"Topic6\", \"Topic6\", \"Topic6\", \"Topic6\", \"Topic6\", \"Topic6\", \"Topic6\", \"Topic6\", \"Topic6\", \"Topic6\", \"Topic6\", \"Topic6\", \"Topic6\", \"Topic6\", \"Topic7\", \"Topic7\", \"Topic7\", \"Topic7\", \"Topic7\", \"Topic7\", \"Topic7\", \"Topic7\", \"Topic7\", \"Topic7\", \"Topic7\", \"Topic7\", \"Topic7\", \"Topic7\", \"Topic7\", \"Topic7\", \"Topic7\", \"Topic7\", \"Topic7\", \"Topic7\", \"Topic7\", \"Topic7\", \"Topic7\", \"Topic7\", \"Topic7\", \"Topic7\", \"Topic7\", \"Topic7\", \"Topic7\", \"Topic7\", \"Topic7\", \"Topic7\", \"Topic7\", \"Topic7\", \"Topic7\", \"Topic7\", \"Topic7\", \"Topic7\", \"Topic7\", \"Topic7\", \"Topic7\", \"Topic7\", \"Topic7\", \"Topic7\", \"Topic7\", \"Topic7\", \"Topic7\", \"Topic7\", \"Topic7\", \"Topic7\", \"Topic7\", \"Topic7\", \"Topic7\", \"Topic7\", \"Topic7\", \"Topic7\", \"Topic7\", \"Topic7\", \"Topic7\", \"Topic7\", \"Topic7\", \"Topic7\", \"Topic7\", \"Topic7\", \"Topic7\", \"Topic7\", \"Topic7\", \"Topic7\", \"Topic7\", \"Topic7\", \"Topic7\", \"Topic7\", \"Topic7\", \"Topic7\", \"Topic8\", \"Topic8\", \"Topic8\", \"Topic8\", \"Topic8\", \"Topic8\", \"Topic8\", \"Topic8\", \"Topic8\", \"Topic8\", \"Topic8\", \"Topic8\", \"Topic8\", \"Topic8\", \"Topic8\", \"Topic8\", \"Topic8\", \"Topic8\", \"Topic8\", \"Topic8\", \"Topic8\", \"Topic8\", \"Topic8\", \"Topic8\", \"Topic8\", \"Topic8\", \"Topic8\", \"Topic8\", \"Topic8\", \"Topic8\", \"Topic8\", \"Topic8\", \"Topic8\", \"Topic8\", \"Topic8\", \"Topic8\", \"Topic8\", \"Topic8\", \"Topic8\", \"Topic8\", \"Topic8\", \"Topic8\", \"Topic8\", \"Topic8\", \"Topic8\", \"Topic8\", \"Topic8\", \"Topic8\", \"Topic8\", \"Topic8\", \"Topic8\", \"Topic8\", \"Topic8\", \"Topic8\", \"Topic8\", \"Topic8\", \"Topic8\", \"Topic8\", \"Topic9\", \"Topic9\", \"Topic9\", \"Topic9\", \"Topic9\", \"Topic9\", \"Topic9\", \"Topic9\", \"Topic9\", \"Topic9\", \"Topic9\", \"Topic9\", \"Topic9\", \"Topic9\", \"Topic9\", \"Topic9\", \"Topic9\", \"Topic9\", \"Topic9\", \"Topic9\", \"Topic9\", \"Topic9\", \"Topic9\", \"Topic9\", \"Topic9\", \"Topic9\", \"Topic9\", \"Topic9\", \"Topic9\", \"Topic9\", \"Topic9\", \"Topic9\", \"Topic9\", \"Topic9\", \"Topic9\", \"Topic9\", \"Topic9\", \"Topic9\", \"Topic9\", \"Topic9\", \"Topic9\", \"Topic9\", \"Topic9\", \"Topic9\", \"Topic9\", \"Topic9\", \"Topic9\", \"Topic9\", \"Topic9\", \"Topic9\", \"Topic9\", \"Topic9\", \"Topic9\", \"Topic9\", \"Topic9\", \"Topic9\", \"Topic9\", \"Topic9\", \"Topic9\", \"Topic9\", \"Topic9\", \"Topic9\", \"Topic9\", \"Topic10\", \"Topic10\", \"Topic10\", \"Topic10\", \"Topic10\", \"Topic10\", \"Topic10\", \"Topic10\", \"Topic10\", \"Topic10\", \"Topic10\", \"Topic10\", \"Topic10\", \"Topic10\", \"Topic10\", \"Topic10\", \"Topic10\", \"Topic10\", \"Topic10\", \"Topic10\", \"Topic10\", \"Topic10\", \"Topic10\", \"Topic10\", \"Topic10\", \"Topic10\", \"Topic10\", \"Topic10\", \"Topic10\", \"Topic10\", \"Topic10\", \"Topic10\", \"Topic10\", \"Topic10\", \"Topic10\", \"Topic10\", \"Topic10\", \"Topic10\", \"Topic10\", \"Topic10\", \"Topic10\", \"Topic10\", \"Topic10\", \"Topic10\", \"Topic10\", \"Topic10\", \"Topic10\", \"Topic10\", \"Topic10\", \"Topic10\", \"Topic10\", \"Topic10\", \"Topic10\", \"Topic10\", \"Topic10\", \"Topic10\", \"Topic10\", \"Topic10\", \"Topic10\", \"Topic10\", \"Topic10\", \"Topic10\", \"Topic10\", \"Topic10\", \"Topic10\"], \"logprob\": [30.0, 29.0, 28.0, 27.0, 26.0, 25.0, 24.0, 23.0, 22.0, 21.0, 20.0, 19.0, 18.0, 17.0, 16.0, 15.0, 14.0, 13.0, 12.0, 11.0, 10.0, 9.0, 8.0, 7.0, 6.0, 5.0, 4.0, 3.0, 2.0, 1.0, -2.3968, -3.8845, -4.8179, -7.1271, -6.9448, -6.3539, -6.1216, -10.5283, -9.142, -5.4979, -5.8743, -10.5283, -8.5824, -8.7365, -5.4043, -8.0434, -9.4297, -8.9189, -8.4489, -8.7365, -5.7747, -10.5283, -7.1961, -8.9189, -7.0019, -5.5725, -8.0434, -7.2702, -8.9189, -8.3311, -3.6593, -5.6608, -5.3465, -5.9433, -5.9957, -6.2108, -6.2798, -6.4174, -6.4174, -6.973, -5.6156, -7.1271, -6.074, -7.2702, -7.3928, -1.8118, -2.066, -5.7921, -6.2108, -6.5771, -4.3421, -2.9856, -3.5998, -4.9676, -3.5482, -2.753, -4.1739, -4.4576, -4.4976, -4.6202, -4.5368, -4.0467, -4.1636, -3.7259, -4.7757, -4.5881, -3.5353, -4.4553, -4.8971, -5.4346, -5.4913, -9.7876, -9.7876, -8.5349, -4.7703, -6.8973, -4.2803, -9.0945, -7.9959, -6.7919, -8.5349, -7.7082, -7.1486, -9.0945, -5.6366, -7.015, -8.4013, -5.7894, -5.7534, -6.6741, -5.5904, -7.1849, -8.1782, -9.3822, -8.5349, -6.0619, -6.3376, -6.1241, -9.0945, -10.4808, -7.5904, -4.4549, -4.4598, -4.4622, -4.507, -4.5673, -4.6143, -4.6401, -4.4769, -4.864, -4.8935, -5.0255, -5.1242, -5.2604, -5.2878, -5.3391, -5.3994, -5.4836, -5.532, -5.6287, -5.6933, -5.7017, -5.7101, -5.7272, -5.7986, -4.6696, -4.2366, -5.2129, -4.2823, -3.6024, -5.4768, -4.5836, -4.4123, -4.4598, -3.8266, -4.2079, -4.3963, -4.7904, -5.1009, -4.9553, -4.6115, -4.1709, -4.8496, -4.4453, -5.0427, -5.8568, -7.3405, -7.7234, -5.9429, -5.8882, -7.6589, -4.8039, -5.011, -6.7426, -7.8665, -5.3881, -3.8804, -5.1432, -6.6938, -6.4242, -6.5603, -6.4612, -3.8168, -5.5717, -6.4803, -5.5795, -5.8671, -10.4315, -7.7924, -9.7383, -5.7681, -7.4871, -5.5795, -5.0702, -6.2571, -4.5207, -4.5153, -4.5566, -4.9262, -5.0844, -5.1432, -5.1951, -5.222, -4.8747, -4.2661, -5.2957, -5.5563, -5.6032, -5.6275, -5.6779, -5.6866, -5.4617, -4.0213, -4.5126, -4.0633, -3.592, -4.7079, -3.3901, -3.4403, -4.0514, -4.048, -5.1183, -4.7411, -4.3677, -4.9592, -4.4628, -4.7411, -4.2536, -4.914, -4.7244, -4.7967, -4.6264, -4.9719, -4.955, -5.3647, -4.6134, -5.9829, -6.1389, -4.6334, -3.992, -4.6716, -4.1388, -4.645, -6.1652, -8.5368, -7.0815, -5.5269, -4.5911, -6.2486, -4.4425, -5.3768, -7.017, -6.5124, -5.8676, -7.6495, -6.3718, -7.4382, -9.7896, -5.5999, -7.3472, -10.4827, -7.9978, -4.9653, -7.1505, -4.1283, -4.1637, -4.1728, -4.037, -4.3515, -4.9573, -5.0021, -5.0274, -5.0403, -5.1356, -5.2732, -5.3951, -5.4329, -5.4654, -5.6624, -5.7205, -5.848, -3.2478, -5.4329, -3.7481, -3.567, -3.6583, -3.8376, -4.2542, -3.7363, -4.3668, -4.7526, -4.0992, -4.2289, -4.4617, -3.7613, -4.1424, -4.7723, -4.7113, -4.7429, -5.7756, -9.7269, -8.4741, -7.1619, -10.42, -4.8555, -5.1943, -8.6283, -7.3755, -7.712, -10.42, -6.3947, -3.8862, -5.8767, -5.2215, -7.2011, -6.6823, -7.8551, -9.3214, -10.42, -6.0133, -4.459, -5.9427, -6.2929, -5.7472, -5.5, -7.8551, -5.7756, -6.7311, -7.242, -4.7501, -4.278, -4.8906, -5.147, -4.8866, -5.3574, -5.4642, -5.5297, -5.5372, -5.5525, -5.7379, -5.7756, -5.795, -5.8148, -5.8874, -5.9657, -5.9774, -6.0133, -4.8671, -5.4855, -4.1643, -5.7756, -4.6393, -2.3339, -3.4974, -5.3896, -4.375, -5.4928, -5.5147, -4.8365, -5.0447, -3.5023, -4.7817, -4.7605, -4.4437, -4.597, -4.1895, -4.7536, -4.4311, -4.7364, -5.2961, -4.5765, -4.9733, -4.7536, -4.9026, -5.0039, -4.9733, -4.9995, -5.5267, -4.3227, -4.9127, -6.2344, -6.0972, -6.2198, -5.1913, -5.6177, -6.1365, -4.2927, -4.5351, -6.9276, -7.1217, -4.465, -5.6582, -6.7904, -5.709, -6.3108, -6.1365, -5.1913, -6.0972, -6.0972, -8.508, -7.8149, -5.5267, -5.9213, -8.508, -8.508, -6.8164, -6.6927, -2.1243, -3.1151, -3.1998, -3.7122, -3.8102, -3.8514, -4.0291, -4.6368, -4.8015, -4.8818, -5.0029, -5.0695, -5.1407, -5.239, -5.2722, -5.2722, -5.3541, -5.3725, -5.5864, -5.6098, -3.9527, -4.0909, -4.1513, -4.9944, -3.9173, -4.2657, -4.5111, -4.5297, -4.4329, -4.5678, -4.2885, -3.9275, -4.7806, -4.7772, -4.7109, -4.8971, -5.836, -4.7442, -6.9767, -5.2289, -7.5775, -8.8012, -5.0035, -8.3312, -7.9258, -3.0901, -7.3196, -4.3307, -6.221, -5.6833, -4.4891, -5.3108, -5.2867, -10.4107, -6.1202, -6.0799, -10.4107, -4.8122, -9.3121, -7.2326, -8.8012, -6.1912, -6.8553, -10.4107, -7.0434, -7.5203, -5.4271, -5.5431, -5.5586, -5.5744, -5.6315, -5.2067, -5.8155, -5.922, -5.9333, -5.9798, -5.9918, -6.0412, -5.5054, -6.2518, -6.3676, -5.8463, -2.8506, -4.0563, -5.3108, -4.8197, -3.0796, -2.8759, -4.4043, -2.6506, -4.134, -4.2773, -3.371, -4.5817, -3.5099, -4.3515, -4.0408, -4.4758, -4.7477, -3.9761, -5.0925, -3.8711, -4.5965, -4.6299, -4.8347, -4.5273, -4.6969, -4.8773, -4.6238, -4.8012, -3.8456, -5.3297, -4.275, -5.8909, -3.9496, -7.6509, -4.275, -4.3667, -9.0372, -6.1894, -5.0482, -5.1608, -6.029, -6.1468, -7.288, -4.2602, -4.1117, -5.2936, -4.6966, -6.7599, -6.5948, -5.7985, -5.1712, -5.0622, -4.225, -7.1276, -6.8126, -10.4235, -9.7303, -6.4916, -4.3322, -4.0316, -4.2518, -4.5713, -4.4147, -4.652, -5.0298, -5.039, -5.1454, -5.2417, -5.2644, -5.5483, -5.5793, -4.7467, -2.9792, -3.7565, -3.6144, -3.494, -2.7624, -4.4807, -4.388, -4.4421, -4.3187, -4.2291, -4.5799, -4.8705, -4.7536, -4.84, -8.2257, -8.025, -6.2958, -5.386, -8.025, -4.2617, -3.0328, -5.8796, -3.4429, -5.6693, -3.0414, -4.9465, -6.3286, -5.3667, -8.3435, -4.7158, -5.9343, -7.7149, -3.9368, -7.2041, -6.6853, -8.477, -10.4229, -5.4123, -9.3243, -9.7298, -8.3435, -5.9231, -5.8903, -10.4229, -3.3041, -4.4019, -4.5424, -4.5794, -4.3732, -4.774, -4.774, -4.9676, -5.0248, -5.0902, -4.5969, -5.3049, -5.3667, -5.5103, -5.5787, -5.7408, -5.7882, -5.2134, -3.1044, -3.6029, -3.365, -3.4531, -3.9725, -4.434, -4.2023, -4.0843, -4.0243, -5.1972, -4.8661, -4.7292, -4.9055, -4.6831, -4.9936, -9.0175, -3.6836, -3.8107, -7.6312, -6.9073, -10.4038, -8.3243, -6.5326, -7.2683, -6.6196, -3.6341, -7.6957, -4.7202, -6.938, -5.6676, -3.7471, -5.427, -6.512, -6.3094, -7.5706, -8.0059, -6.5326, -9.7106, -4.6512, -7.0365, -5.3412, -8.7943, -10.4038, -7.6957, -5.6247, -2.3263, -3.8012, -3.895, -3.7419, -4.1442, -4.6672, -4.7834, -4.8783, -4.9231, -5.1308, -5.178, -5.2858, -5.3162, -5.3286, -5.3604, -4.9442, -5.3668, -5.3931, -5.4838, -5.4911, -5.5134, -5.2978, -4.0459, -3.8832, -4.7339, -4.1972, -4.9966, -3.8135, -4.5602, -5.2276, -4.9399, -4.9832, -4.824, -4.9701, -5.178], \"loglift\": [30.0, 29.0, 28.0, 27.0, 26.0, 25.0, 24.0, 23.0, 22.0, 21.0, 20.0, 19.0, 18.0, 17.0, 16.0, 15.0, 14.0, 13.0, 12.0, 11.0, 10.0, 9.0, 8.0, 7.0, 6.0, 5.0, 4.0, 3.0, 2.0, 1.0, 2.2538, 2.2538, 2.2538, 2.2538, 2.2538, 2.2538, 2.2538, 2.2538, 2.2538, 2.2538, 2.2538, 2.2538, 2.2538, 2.2538, 2.2538, 2.2538, 2.2538, 2.2538, 2.2538, 2.2538, 2.2538, 2.2538, 2.2538, 2.2538, 2.2538, 2.2538, 2.2538, 2.2538, 2.2538, 2.2538, 2.2507, 2.2538, 2.2482, 2.2538, 2.2538, 2.2538, 2.2538, 2.2538, 2.2538, 2.2538, 2.2391, 2.2538, 2.2422, 2.2538, 2.2538, 2.164, 2.1655, 2.2363, 2.2268, 2.2346, 2.0676, 1.9238, 1.9658, 2.0107, 1.779, 1.6018, 1.8442, 1.898, 1.903, 1.8662, 1.8127, 1.5437, 1.5832, 1.4099, 1.6916, 1.5246, 0.758, 1.0495, 1.2946, 0.7694, 1.0053, 2.2589, 2.2589, 2.2589, 2.2589, 2.2589, 2.2589, 2.2589, 2.2589, 2.2589, 2.2589, 2.2589, 2.2589, 2.2589, 2.2589, 2.2589, 2.2589, 2.2589, 2.2589, 2.2589, 2.2589, 2.2589, 2.2589, 2.2589, 2.2589, 2.2589, 2.2589, 2.2589, 2.2589, 2.2589, 2.2589, 2.2589, 2.2589, 2.2589, 2.2589, 2.2589, 2.2589, 2.2589, 2.2563, 2.2589, 2.2589, 2.2589, 2.2589, 2.2589, 2.2589, 2.2589, 2.2589, 2.2589, 2.2589, 2.2589, 2.2589, 2.2589, 2.2589, 2.2589, 2.2589, 2.2413, 2.1142, 2.1966, 2.0269, 1.9023, 2.2083, 1.8993, 1.8384, 1.7889, 1.3361, 1.5388, 1.6059, 1.6789, 1.9283, 1.6554, 0.8823, -0.1951, 1.1686, -0.2138, 0.2494, 2.2792, 2.2792, 2.2792, 2.2792, 2.2792, 2.2792, 2.2792, 2.2792, 2.2792, 2.2792, 2.2792, 2.2792, 2.2792, 2.2792, 2.2792, 2.2792, 2.2792, 2.2792, 2.2792, 2.2792, 2.2792, 2.2792, 2.2792, 2.2792, 2.2792, 2.2792, 2.2792, 2.2792, 2.2792, 2.2792, 2.2792, 2.2767, 2.2765, 2.2792, 2.2792, 2.2792, 2.2792, 2.2792, 2.2755, 2.269, 2.2792, 2.2792, 2.2792, 2.2792, 2.2792, 2.2792, 2.2726, 2.2369, 2.2133, 2.1754, 2.0978, 2.0953, 1.7727, 1.5407, 1.7321, 1.6613, 2.0877, 1.8966, 1.7148, 1.9905, 1.5394, 1.7135, 1.0354, 1.884, 1.5252, 1.6482, 0.9064, 1.638, 1.1338, 2.2918, 2.2918, 2.2918, 2.2918, 2.2918, 2.2918, 2.2918, 2.2918, 2.2918, 2.2918, 2.2918, 2.2918, 2.2918, 2.2918, 2.2918, 2.2918, 2.2918, 2.2918, 2.2918, 2.2918, 2.2918, 2.2918, 2.2918, 2.2918, 2.2918, 2.2918, 2.2918, 2.2918, 2.2918, 2.2918, 2.2918, 2.2918, 2.2918, 2.2901, 2.2918, 2.2918, 2.2918, 2.2918, 2.2918, 2.2918, 2.2918, 2.2918, 2.2918, 2.2918, 2.2918, 2.2918, 2.2918, 2.2155, 2.279, 2.0801, 2.0448, 2.0327, 2.0018, 2.0635, 1.9262, 1.9432, 2.0676, 1.824, 1.857, 1.9466, 1.0854, 1.3904, 2.0088, 1.4233, 1.2676, 2.2943, 2.2943, 2.2943, 2.2943, 2.2943, 2.2943, 2.2943, 2.2943, 2.2943, 2.2943, 2.2943, 2.2943, 2.2943, 2.2943, 2.2943, 2.2943, 2.2943, 2.2943, 2.2943, 2.2943, 2.2943, 2.2943, 2.2943, 2.2943, 2.2943, 2.2943, 2.2943, 2.2943, 2.2943, 2.2943, 2.2943, 2.2881, 2.2943, 2.2943, 2.2905, 2.2943, 2.2943, 2.2943, 2.2943, 2.2943, 2.2943, 2.2943, 2.2943, 2.2943, 2.2943, 2.2943, 2.2943, 2.2943, 2.2796, 2.2871, 2.2179, 2.2847, 2.2165, 1.9594, 2.0363, 2.2331, 2.0911, 2.2465, 2.2436, 2.1046, 2.1056, 1.4787, 1.9513, 1.9093, 1.7587, 1.796, 1.5198, 1.8391, 1.5465, 1.6357, 2.1199, 1.3206, 1.7215, 1.4381, 1.3889, 1.5383, 1.3565, 1.4551, 2.3204, 2.3204, 2.3204, 2.3204, 2.3204, 2.3204, 2.3204, 2.3204, 2.3204, 2.3204, 2.3204, 2.3204, 2.3204, 2.3204, 2.3204, 2.3204, 2.3204, 2.3204, 2.3204, 2.3204, 2.3204, 2.3204, 2.3204, 2.3204, 2.3204, 2.3204, 2.3204, 2.3204, 2.3204, 2.3204, 2.3204, 2.3197, 2.3197, 2.3204, 2.3204, 2.3204, 2.3204, 2.3204, 2.3204, 2.3204, 2.3204, 2.3204, 2.3204, 2.3204, 2.3204, 2.3204, 2.3204, 2.3204, 2.3204, 2.3204, 2.2702, 2.2441, 1.9375, 2.1456, 1.6902, 1.736, 1.8449, 1.7521, 1.6089, 1.6818, 1.2377, 0.5877, 1.5915, 1.5485, 0.8218, 0.2729, 2.327, 2.327, 2.327, 2.327, 2.327, 2.327, 2.327, 2.327, 2.327, 2.327, 2.327, 2.327, 2.327, 2.327, 2.327, 2.327, 2.327, 2.327, 2.327, 2.327, 2.327, 2.327, 2.327, 2.327, 2.327, 2.327, 2.327, 2.327, 2.327, 2.327, 2.327, 2.327, 2.327, 2.327, 2.327, 2.3215, 2.327, 2.327, 2.327, 2.327, 2.327, 2.327, 2.3196, 2.327, 2.327, 2.3168, 2.2344, 2.2455, 2.2754, 2.2253, 2.0124, 1.9708, 2.1327, 1.8645, 2.07, 1.9895, 1.7648, 2.0382, 1.779, 1.783, 1.5667, 1.7296, 1.8544, 1.3511, 2.0334, 1.0383, 1.486, 1.3806, 1.6375, 1.1352, 1.2806, 1.5676, 0.9418, 1.2846, 2.329, 2.329, 2.329, 2.329, 2.329, 2.329, 2.329, 2.329, 2.329, 2.329, 2.329, 2.329, 2.329, 2.329, 2.329, 2.329, 2.329, 2.329, 2.329, 2.329, 2.329, 2.329, 2.329, 2.329, 2.329, 2.329, 2.329, 2.329, 2.329, 2.329, 2.329, 2.3257, 2.3269, 2.329, 2.3266, 2.3258, 2.329, 2.329, 2.329, 2.329, 2.329, 2.329, 2.329, 2.3191, 2.1908, 2.2226, 2.1282, 2.108, 1.5924, 1.8108, 1.6539, 1.6707, 1.4648, 1.3613, 1.3171, 1.9045, 1.4488, 1.6322, 2.3316, 2.3316, 2.3316, 2.3316, 2.3316, 2.3316, 2.3316, 2.3316, 2.3316, 2.3316, 2.3316, 2.3316, 2.3316, 2.3316, 2.3316, 2.3316, 2.3316, 2.3316, 2.3316, 2.3316, 2.3316, 2.3316, 2.3316, 2.3316, 2.3316, 2.3316, 2.3316, 2.3316, 2.3316, 2.3316, 2.3316, 2.3316, 2.3316, 2.3316, 2.3292, 2.3316, 2.3316, 2.3316, 2.3316, 2.3316, 2.3257, 2.3316, 2.3316, 2.3316, 2.3316, 2.3316, 2.3316, 2.3052, 2.1877, 2.1991, 2.1182, 2.0407, 2.0868, 2.047, 1.9545, 1.6994, 1.6119, 2.2205, 1.9541, 1.6014, 1.7077, 0.8506, 0.5326, 2.3444, 2.3444, 2.3444, 2.3444, 2.3444, 2.3444, 2.3444, 2.3444, 2.3444, 2.3444, 2.3444, 2.3444, 2.3444, 2.3444, 2.3444, 2.3444, 2.3444, 2.3444, 2.3444, 2.3444, 2.3444, 2.3444, 2.3444, 2.3444, 2.3444, 2.3444, 2.3444, 2.3444, 2.3444, 2.3444, 2.3441, 2.3444, 2.3444, 2.3407, 2.3444, 2.3444, 2.3444, 2.3444, 2.3444, 2.3444, 2.3444, 2.3444, 2.3444, 2.3444, 2.3444, 2.3402, 2.3444, 2.3444, 2.3444, 2.3444, 2.3444, 2.3386, 2.1798, 1.643, 1.9928, 1.5865, 1.9396, 0.7017, 1.076, 2.0982, 1.3898, 1.3728, 0.867, 1.1867, 1.0887]}, \"token.table\": {\"Topic\": [4, 4, 5, 9, 6, 8, 5, 7, 8, 5, 8, 1, 7, 4, 5, 7, 9, 1, 5, 7, 10, 1, 2, 5, 5, 2, 4, 5, 9, 8, 9, 7, 3, 5, 10, 1, 4, 2, 4, 10, 8, 1, 8, 7, 6, 7, 2, 3, 6, 1, 5, 6, 8, 5, 2, 9, 9, 8, 1, 7, 4, 6, 6, 4, 1, 2, 1, 3, 4, 8, 10, 8, 10, 5, 6, 7, 6, 6, 6, 6, 5, 5, 3, 8, 9, 10, 9, 1, 4, 7, 10, 6, 7, 9, 6, 1, 1, 4, 10, 6, 5, 4, 9, 3, 2, 1, 6, 6, 2, 3, 5, 1, 2, 9, 5, 8, 4, 10, 1, 2, 2, 7, 10, 6, 10, 1, 4, 4, 8, 4, 1, 8, 9, 1, 6, 5, 5, 8, 3, 10, 2, 6, 7, 7, 8, 9, 5, 6, 8, 9, 10, 4, 10, 3, 5, 6, 8, 9, 8, 4, 8, 3, 7, 10, 2, 3, 5, 6, 9, 8, 1, 4, 5, 9, 4, 3, 7, 2, 8, 4, 6, 7, 7, 8, 3, 9, 5, 6, 9, 4, 9, 10, 4, 2, 3, 7, 3, 7, 6, 8, 9, 1, 4, 5, 4, 2, 5, 6, 1, 2, 9, 7, 2, 3, 2, 7, 3, 2, 2, 3, 2, 4, 9, 3, 5, 3, 6, 9, 9, 10, 4, 5, 10, 1, 2, 5, 10, 5, 8, 10, 6, 6, 5, 7, 1, 10, 3, 8, 4, 10, 4, 10, 1, 8, 9, 5, 4, 5, 6, 1, 4, 5, 5, 10, 6, 2, 4, 5, 8, 9, 3, 6, 3, 2, 4, 7, 1, 3, 6, 4, 3, 4, 5, 2, 10, 8, 9, 5, 2, 8, 4, 9, 4, 7, 4, 1, 2, 10, 2, 4, 5, 3, 5, 9, 9, 4, 1, 9, 6, 9, 7, 6, 10, 1, 8, 1, 8, 10, 8, 4, 3, 7, 6, 4, 6, 7, 3, 5, 10, 6, 3, 6, 5, 3, 8, 2, 5, 8, 7, 2, 4, 7, 10, 3, 1, 4, 6, 10, 3, 3, 6, 3, 6, 9, 2, 3, 7, 1, 2, 9, 2, 3, 2, 7, 3, 10, 9, 3, 7, 2, 5, 10, 10, 1, 1, 7, 1, 1, 2, 4, 5, 7, 3, 5, 10, 9, 10, 2, 5, 6, 7, 9, 5, 3, 2, 3, 4, 8, 3, 7, 3, 3, 4, 7, 2, 10, 6, 4, 7, 8, 2, 9, 10, 1, 7, 4, 10, 4, 1, 9, 6, 8, 4, 8, 1, 6, 4, 7, 6, 6, 9, 2, 1, 4, 5, 1, 3, 1, 7, 4, 1, 2, 8, 2, 9, 1, 10, 1, 6, 3, 4, 6, 8, 3, 6, 3, 7, 5, 8, 5, 10, 7, 9, 2, 1, 4, 5, 2, 3, 5, 5, 3, 9, 6, 5, 3, 1, 2, 3, 5, 7, 10, 7, 9, 1, 2, 1, 9, 6, 9, 4, 1, 7, 7, 4, 3, 2, 6, 6, 10, 3, 6, 10, 4, 5, 7, 4, 2, 2, 4, 5, 10, 4, 1, 4, 1, 1, 5, 8, 2, 9, 10, 1, 1, 1, 7, 8, 10, 1, 2, 6, 10, 6, 8, 6, 5, 4, 2, 7, 5, 8, 2, 10, 7, 10, 7, 5, 8, 7, 10, 5, 7, 2, 7, 3, 7, 2, 3, 8, 8, 8, 4, 4, 5, 2, 1, 3, 3, 3, 6, 7, 10, 5, 1, 7, 9, 9, 10, 1, 1, 4, 7, 5, 6, 2, 3, 6, 9, 8, 6, 10, 10, 7, 9, 2, 3, 5, 8, 5, 9, 3, 5, 1, 4, 1, 4, 5, 8, 9, 10, 1, 4, 7, 10, 1, 4, 7, 8, 10, 3, 6, 7, 7, 5, 9, 10, 2, 7, 9, 4, 5, 7, 4, 10, 4, 2, 2, 5, 2, 3, 3, 3, 5, 3, 7, 6, 9, 10, 4, 6, 6, 2, 4, 9, 3, 1, 4, 5, 3, 6, 10, 6, 8, 8, 4, 7, 4, 1, 4, 1, 4, 9, 1, 1, 4, 8, 9, 2, 3, 6, 8, 2, 5, 1, 2, 2, 10, 7, 7, 5, 3, 9, 7, 9, 6, 5, 8, 7, 2, 2, 10, 2, 8, 6, 7, 10, 1, 1, 3, 9, 9, 5, 10, 7, 2, 2, 3, 9, 10, 7, 8, 9, 2, 9, 3, 1, 6, 2, 3, 7, 3, 4, 3, 5, 7, 6, 2, 5, 9, 9, 10, 10, 5, 6, 10, 1, 9, 5, 5, 7, 4, 3, 10, 8, 9, 5, 7, 8, 10, 2, 1, 1, 7, 1, 4, 8, 9, 8, 1, 9, 3, 1, 7, 2, 9, 10, 4, 7, 5, 9, 5, 4, 9, 10, 1, 6, 7, 6, 7, 6, 4, 4, 10, 2, 3, 2, 2, 3, 5, 6, 2, 6, 3, 6, 10, 9, 4, 6, 4, 3, 5, 8, 4, 10, 9, 3, 9, 3, 10, 8, 8, 1, 6, 1, 5, 7, 8, 8, 5, 5, 8, 10, 1, 5, 7, 10, 6, 9, 2, 10, 7, 1, 9, 1, 5, 7, 1, 2, 5, 5, 10, 2, 10, 2, 9, 9, 2, 2, 7, 9, 2, 10, 5, 5, 9, 4, 5, 3, 7, 3, 6, 5, 2], \"Freq\": [1.0052314279454375, 0.43391538031239235, 0.47023428879668955, 0.09557607495867673, 0.9260576467441967, 0.07302803590096853, 0.3780252501892899, 0.2587016301030154, 0.3639871772379635, 1.0032489042508446, 1.0009059029216751, 0.4299608628012006, 0.5700025817310035, 0.35942508721004957, 0.10782752616301487, 0.3886283755458661, 0.14489323828155123, 1.0001414691344144, 0.18424748783806105, 0.5500128711017674, 0.26477046400432475, 0.8304134631899862, 0.0016742206919152947, 0.1674220691915295, 0.9986573370125825, 1.0004221486784624, 0.998072216749092, 1.0040877267732404, 0.953616255540806, 1.000061273293216, 0.9999313915734706, 0.9911719502924861, 0.007846768418115272, 0.9259186733376021, 0.06538973681762728, 0.9872419102732841, 0.014204919572277468, 0.9394827524765943, 0.9980722167490922, 0.9981051947619419, 0.9991801743359604, 0.00968016737277421, 0.9906037944805608, 0.9992363327493383, 1.0012730494361373, 0.9989852794787962, 0.0025567459850865796, 0.9971309341837661, 0.9978638725555705, 0.9802481992018979, 0.5176290601684395, 0.48215292520362435, 1.0022771292022417, 0.9160098345197742, 0.25258686111873646, 0.7477107082453844, 0.9536162722040409, 1.001195023800529, 0.22625250274000924, 0.7728022232143689, 1.000152501682991, 1.00085845395326, 0.9990963792103844, 1.0022835351948642, 0.9802481769980324, 0.9394827524765943, 0.002453909982784368, 0.9962874530104534, 1.0019055717609948, 0.9516001967369059, 0.9475681561691887, 1.0075766970315556, 0.947568201650601, 0.19038244426327752, 0.5577871612625851, 0.2516165637631621, 0.9967809603282354, 0.9994358969102233, 1.0014140507186866, 1.00085845395326, 0.9160098345197742, 1.000240653112816, 0.9975863584453472, 1.0004002366488138, 1.0014965538107439, 0.9906394619307416, 1.0012970776492578, 1.0179500033542728, 0.7478250849494956, 0.09087494703183743, 0.1609243853688788, 1.0012730494361373, 0.9860955488123129, 0.009667603419728558, 0.9978638725555705, 0.9942517011495736, 0.11232263613865859, 0.7809815506016798, 0.10629189057416685, 1.0002260176709756, 0.989290662303544, 1.0028294206821609, 0.9536162722040409, 0.9735310905123109, 0.9997059676365192, 0.9914265764728015, 0.011266211096281837, 1.0035435174319092, 0.056462758982894594, 0.26494063830435155, 0.6797247523710003, 0.9153745469125425, 0.084370686283364, 0.00018959704782778428, 0.9968342257237981, 1.0007438760562206, 1.0002075309700975, 0.998512731197765, 0.914055461707202, 0.08588539111768602, 1.0010507421437906, 0.994010398145671, 0.005123764938895211, 0.9986030543764264, 1.010739398922805, 1.0074772854188756, 1.0011386740108332, 1.0010018065261381, 1.0005698838216286, 0.9985742002220219, 0.4914569925286067, 0.3800305572856343, 0.12839867372369004, 1.0082552462361873, 0.9994806050674377, 0.992343967225443, 1.00465596137156, 0.9929741262594955, 0.9828919216108352, 0.947568201650601, 0.08250253161544864, 0.5672049048562093, 0.3506357593656567, 1.0004825554498922, 0.9982472831701523, 1.0006060173142697, 0.1954974387814934, 0.4618049734995907, 0.3432750303013624, 0.0040152273013818, 0.9957763707426863, 1.0011780754133994, 0.9990665047532847, 0.3659176581192198, 0.6333190236678804, 0.1289227034431669, 0.8709552559675597, 1.002208194313934, 1.000628756362509, 1.0008393130203481, 1.002449076727127, 0.0014512291418753017, 0.7140047378026484, 0.2844409118075591, 0.07983487785353832, 0.47780572624906603, 0.44250186066559183, 0.46378577439036967, 0.5356110049375509, 0.999714800366371, 0.9802481769980324, 0.1602897083178053, 0.8380861892045249, 1.0011386895936334, 0.9728045908465938, 0.5685424105854299, 0.4309334194883194, 0.9992999610273235, 1.0030380070560863, 0.037501259644561385, 0.9514208465379462, 0.012500419881520461, 1.0157280378378422, 1.000820898679885, 0.997097881704091, 0.0035109080341693345, 0.986472152619324, 0.02537535200550364, 0.9744135170113397, 0.9728045697934204, 1.00062556470749, 0.9995316547552415, 1.0005990250516796, 0.24996336207153858, 0.7498900862146157, 0.998085100912652, 1.0024576796202394, 1.000803755677915, 0.001588711147204152, 0.9961218892970032, 0.001588711147204152, 0.2240817808473051, 0.06050813164193657, 0.7154078097798301, 0.9911593960663713, 0.1737586894557352, 0.8260659006912001, 1.0025934388071764, 0.6779078594295241, 0.32178026394254744, 1.040308695289825, 0.9992790219698443, 1.002114940304149, 1.0004435630681716, 0.006894183104676067, 0.9927623670733537, 1.0039539370908206, 1.000753306932496, 0.5465787503498345, 0.4524116248213986, 0.9531142558971779, 0.047955434258977504, 0.9959992095135475, 0.5393884090851475, 0.46126435599731413, 1.0000424056854267, 0.9986030543764264, 0.999908313565944, 0.9536162851643352, 0.947568201650601, 0.006997339012339449, 0.9866248007398624, 0.006997339012339449, 0.38370801118671494, 0.19252717754280785, 0.42409832815373755, 1.0001473876539437, 0.5851325630546235, 0.4150358877480469, 0.9999402286307307, 0.9998858260250225, 1.00085845395326, 0.2535871062403701, 0.7470539075729823, 1.015257050318045, 1.0033075137002319, 1.001009765152601, 0.9516001967369059, 0.0002940955254854676, 0.9996306911251044, 1.0019304742032573, 1.0067912142537634, 0.17481045596447176, 0.3434329311868383, 0.48111550269867887, 0.986472152619324, 0.18422820683028818, 0.8166269552765659, 0.998261776786808, 0.20463852834200758, 0.7956468154192982, 0.9998886236075066, 1.0040877267732404, 0.9974401996650608, 1.0028722536594032, 0.9394827611734775, 0.7089062475185006, 0.28757517588014647, 0.0016719486969775958, 0.0016719486969775958, 0.31826677274898185, 0.6814796164586978, 1.0267710593576849, 0.9985892802618247, 1.0075475994882164, 0.9998153505485621, 0.0022970590212378996, 0.937200080665063, 0.06202059357342329, 1.0016997775718794, 0.9999857053831572, 0.9963402163913055, 1.0468683731886241, 1.000695441936229, 1.0029455171956845, 1.000151193460187, 0.9981184088578473, 0.986472152619324, 0.9394827611734775, 0.9965576608981086, 0.9728045958002818, 0.9964754428307969, 0.9989537858280846, 0.0015415953485001307, 0.9998739821965769, 0.9802482169649911, 0.9916761744649952, 1.012917741181343, 1.0004633525302185, 1.0032047125994648, 1.0005645919172739, 0.05159692407533748, 0.9480934798843262, 1.017190682056389, 0.9998887736798142, 1.0046998133527711, 0.9802481992018979, 0.9999457794704677, 0.24812419857120607, 0.7515646014693054, 0.9971249105010261, 0.005709129392645196, 0.9933885143202642, 0.48270828160442647, 0.5175428998645397, 0.9802481769980324, 1.0110752090329624, 0.9991365114253933, 1.0027614560704374, 1.0001594120777535, 0.5324072352800643, 0.468240890962923, 1.00052809421094, 1.0052314279454375, 1.0018869701570166, 0.9375950929695643, 1.0013274986049052, 0.9997311772471896, 0.9997877916413724, 1.007403356681401, 0.0006315739042824328, 0.9991499165748087, 1.0686781185504772, 0.5782157944413432, 0.42157838882642823, 0.9394827524765943, 0.9267731655300098, 0.07329489006827845, 1.0547944795907598, 0.0023792943884216973, 0.6939608632896617, 0.3037565835885033, 0.947568201650601, 1.007756759759952, 0.2019273745394495, 0.8001372216125686, 1.0003803018631496, 0.9998478348435192, 0.9985851530807942, 0.9995495423465472, 0.999968221340343, 0.9982496205169334, 0.9976053704383662, 0.9992984822493073, 1.017773003833432, 1.0087575025260318, 0.9375951269549179, 0.2074523821423358, 0.7934675054203209, 0.9977651510944564, 0.5598129823363793, 0.4407416495854669, 0.9999172810202168, 1.0015220586285014, 0.9992331233477234, 1.005582605969001, 1.040308695289825, 0.6739500290591414, 0.32586594811650793, 0.4364042639631594, 0.5633177488912211, 1.0067912142537636, 0.9949465958146362, 0.9953288921686222, 0.07816036908170765, 0.921390504751669, 0.9963178314527456, 0.3000760312982336, 0.7004031972062609, 0.2992045554389138, 0.0003507673569037676, 0.7004824117368239, 0.2241254332333129, 0.3910602386760563, 0.38487746810410284, 0.5317932913653297, 0.4682287733738509, 0.06051902321137042, 0.013000382763924016, 0.1147619995711913, 0.7302628800838697, 0.08114032000931885, 0.9971753052293149, 1.0003031639097444, 0.39743355855388285, 0.6024053454109701, 0.18215572306486952, 0.8179823035743197, 0.998787763573908, 0.9927476855230382, 1.004979417385787, 0.5256843627766729, 0.0020454644466018396, 0.47045682271842315, 0.9916761744649952, 0.9998185559114388, 0.9726653098992837, 0.09470045976015626, 0.00544255515862967, 0.8991101122056215, 0.6569862886598598, 0.298500292021545, 0.04570339399372937, 0.2499856867986784, 0.7499570603960353, 0.9987460638941766, 1.0002108943374122, 0.9993758666932901, 0.7010531142197125, 0.29977158051476394, 0.002332477167544036, 0.9983002277088473, 0.8096386282405147, 0.19094367648678034, 0.9994687361467883, 0.9993417521149194, 0.6479292830119755, 0.3524250866476353, 0.9726653098992837, 1.0001536240561097, 1.0010813072690943, 0.9989146992867541, 0.7835048559129044, 0.21583341313827178, 0.916009815900409, 1.0129230841097094, 1.0032571762599118, 0.17685437191572892, 0.8234187423603292, 1.0191286567919289, 0.9802481798941886, 1.00296133615494, 1.004466853845356, 1.0099438934682978, 0.9997446948530625, 0.9963178314527456, 1.0049966140520505, 0.9802481992018979, 0.9976053704383662, 0.25356690162551115, 0.4061250100210797, 0.2236125698400799, 0.11703087767331286, 0.9778771563031781, 0.9726653098992837, 0.9907554774948208, 0.009489994995161118, 0.00295492348423132, 0.9958092141859548, 1.002930519053583, 1.010739398922805, 1.0039734975064403, 0.9984443593811728, 0.9994496939605338, 0.9801188544781527, 0.016898600939278495, 0.9996139444528342, 0.999246282230141, 0.5673858920773561, 0.4325441831577375, 1.0005646119424572, 0.9948068604878292, 0.006296245952454615, 0.9999873829371712, 1.001293526033035, 0.9982496410421935, 0.9977525667580397, 0.04164001760610605, 0.16887340473587453, 0.7101936336152532, 0.050893354851907394, 0.027760011737404035, 1.0033912132581533, 1.0001197832847413, 0.059155832037922226, 0.9373924153701523, 0.9795376751462745, 0.025442537016786355, 0.995285425041532, 0.9996847094631942, 0.9999345769399985, 0.9802481992018979, 0.9969365187185416, 1.0002669151429697, 1.0005990250516796, 0.9973675232705185, 0.9394827611734775, 0.9980391343646592, 0.998718820984519, 1.003307465138763, 0.9583382868608612, 0.041729444923370836, 1.033710742884252, 1.0008493952351871, 0.08858302348758622, 0.9116484025255105, 0.9993356424442912, 0.9982004245063815, 1.0065886726858688, 0.9993839867086284, 0.9977964181954073, 1.001020726216737, 0.9977482872308662, 0.9966342772717469, 0.005476012512482126, 1.002869262563839, 0.5210100588364556, 0.00021449570145593065, 0.47875440564963717, 0.21582128200154774, 0.7830892417979656, 0.0011793512677680204, 1.0063881694173908, 0.9802481992018979, 0.9802482169649911, 0.19782877288957168, 0.8017664229562264, 0.0007465236712814026, 0.9802481695967439, 0.9978356473837168, 1.0023196995409844, 1.0029005898928214, 1.0035435174319092, 0.9929741262594955, 0.9726653098992837, 0.9160098345197742, 0.9728045697934204, 0.9960780966783576, 1.0022568297828394, 0.404635837399354, 0.5950527020578735, 0.9982004245063815, 1.0067912142537634, 1.0065358478219693, 0.9986347787071509, 1.003889654458661, 0.995495834084157, 0.003606868964073033, 0.9037981470004828, 0.09796413481473765, 0.3774684897647931, 0.6230259481601692, 0.9394827524765943, 1.0025055513670404, 0.9956567971148635, 0.9802130786576823, 1.0003751266903045, 1.0000701190420294, 1.000820898679885, 1.0004002366488138, 0.9996810270184606, 0.9977482517962035, 1.0022835099542546, 1.0053766491389633, 0.9986627770430055, 0.9802481769980324, 0.9983835308256, 1.001530829528596, 0.9016695384964489, 0.0987744408368567, 1.000803755677915, 0.947568201650601, 1.003712933734283, 0.7188838416302868, 0.2756032598042346, 0.005601692272443793, 0.29653177362683436, 0.7034009513938861, 0.9802481865139745, 0.6221702723943026, 0.0011343122559604422, 0.3765916689788668, 0.9984507610285768, 0.9976053704383662, 0.5201947144729975, 0.4767523293242889, 0.002227814623010696, 0.9536162722040409, 1.006765376427987, 0.6220124689415663, 0.37923719407406714, 1.0001101981456664, 0.005592497033043429, 0.9926682233652087, 0.9961756482579673, 0.24125703721457709, 0.10615309637441392, 0.653806570851504, 0.10551788766219215, 0.8946081780055422, 0.00654275685069707, 0.9944990413059547, 0.9993936718425599, 0.9996776080711861, 0.011322492717652774, 0.626854369550049, 0.19454101123967038, 0.16777875572521836, 0.8762715018448295, 0.12400928642132863, 0.28674752969338924, 0.3506721382237626, 0.14611339092656775, 0.21551725161668744, 0.6432293365620246, 0.2159863213455818, 0.13242956929218155, 0.004729627474720769, 0.0031530849831471796, 0.2882264503110266, 0.13374144001174532, 0.5780905509079114, 0.9375951269549179, 1.0032489042508446, 0.6851834317651879, 0.31463831211987753, 0.9982004245063815, 1.0004365837337128, 1.0001341182547818, 0.17497316329458767, 0.473840367679753, 0.35103311642330326, 0.7062262558421856, 0.2940083554364464, 1.0151004235194643, 0.9991324027458605, 0.9995659110923792, 1.0008255667193988, 0.9394827524765943, 0.9969332801880876, 0.9992544494659641, 1.0000701190420294, 0.9992834429139132, 0.9956567792484359, 1.0035197479439868, 0.3383994136537019, 0.16539357845242283, 0.4961807353572685, 0.0006873960389536748, 0.9994738406386431, 0.9988121811477962, 0.8650432884752693, 0.1341764224824779, 0.996962461644046, 1.0002663113463317, 0.2519205045947273, 0.1399558358859596, 0.6075729816696364, 1.0002663113463317, 0.9993658784982062, 0.9994897581184461, 0.4914013447963302, 0.5087858263339362, 0.999953860793116, 0.41960133652147447, 0.5798127559205829, 1.0011662677618383, 0.9964772577700062, 0.0030473310635168384, 1.0090789694311026, 0.19225632045942903, 0.8081394987587723, 1.0009576618123712, 0.7034712638382983, 0.1791860766380571, 0.11613912374688885, 1.002208194313934, 0.6256715462391967, 0.3206744826966271, 0.024228738692634044, 0.029929618385018526, 0.9972696953255898, 0.0023138508012194663, 0.6643592679781394, 0.3361408902717332, 1.0569180965361686, 1.0015435903293923, 1.0018139540223128, 0.9944190361775647, 1.0020438793549564, 0.9126853860957198, 0.9988996848334294, 1.000662045094861, 1.0048859814395148, 0.9994647825081289, 1.0040877267732404, 0.9985927545365445, 1.0157280378378422, 0.999816470965412, 1.0009761531993657, 1.0067912142537636, 0.9976807985180701, 0.9983044765113648, 0.17675690579051592, 0.6297279506867242, 0.1933750764203935, 0.9989195288244233, 1.0129230841097094, 0.0022435662746814484, 0.9983869922332445, 0.991760889125865, 0.9404100659637034, 0.061943177997609206, 0.9375951118503159, 0.9997059676365193, 1.002114940304149, 0.0025241858433546795, 0.6865785493924729, 0.3104748587326256, 0.5025836618706631, 0.49901923873682863, 0.999908313565944, 0.9839510452200311, 0.016583444582360073, 0.9996077785680652, 0.9802481769980324, 0.9976053704383662, 0.29233108376807393, 0.6814048283514816, 0.025237215864869694, 0.9982496410421935, 0.972804578816209, 0.824165761366671, 0.17448554407312403, 1.0018139540223128, 0.9999873829371712, 0.9394827524765943, 0.9945526688665689, 0.005873342532676588, 1.00062556470749, 0.9987067474646748, 0.9974402284621575, 1.001618222848536, 0.15183045049997232, 0.8483004069218637, 1.0179500033542728, 1.0026994698996203, 1.0022224881583213, 1.001000433317633, 1.0053730141772377, 1.0002849450525724, 0.999607759776582, 0.9988947965916783, 0.9972021037591537, 0.0019825091526026913, 0.9770771846260125, 1.0006267166856329, 0.9868446283392972, 1.003307465138763, 1.0030567317809564, 0.9997233355859098, 0.7500336369850923, 0.25049108029828415, 0.5693191853030733, 0.3476216832380136, 0.0035471600330409555, 0.07803752072690102, 0.9996167299653276, 1.0002532293502546, 0.9990265999749625, 0.998787763573908, 1.001328767590182, 0.9961947862801621, 1.0090740408354375, 0.3316449409054654, 0.666124453955422, 0.926678260573317, 0.07343242878315906, 0.7725595379234502, 0.2273054236128563, 1.00465596137156, 0.23175230952226, 0.486679849996746, 0.28119280222034215, 0.9801039838791084, 0.018492527997719024, 1.000101386403866, 0.5321779391788514, 0.46762603118254503, 1.0040415642951668, 1.000296911819478, 0.7720038685041066, 0.2285000879293339, 0.6971912453224614, 0.30265666463610724, 1.0334309607582584, 1.0026412006095136, 0.8313496331497251, 0.16875156732591434, 1.0033003870791102, 0.7186160265715567, 0.2799802700928143, 0.4707772850770402, 0.5278411984197117, 0.0014265978335667884, 0.9536162333231604, 0.9851167414898968, 0.01231395926862371, 0.9990178856154571, 0.008723600763427639, 0.9944904870307507, 1.0014221590293841, 0.0036216387755572226, 0.9959506632782362, 0.9986690239010811, 1.0024577444966731, 0.9536162722040409, 0.9126853860957198, 1.0008688649537056, 1.0000612974688414, 0.9516001967369059, 0.9802482169649911, 0.9985537136485462, 0.04343848552030475, 0.005429810690038094, 0.9502168707566665, 0.9999574060570287, 0.9989648949861173, 1.0053766491389633, 0.9160098345197742, 1.0004002366488138, 0.988766767527948, 1.0041566674556361, 0.9992834724586918, 1.0045662028278397, 1.0025883264823219, 0.841024376005089, 0.15986413758774418, 1.001524060196894, 1.000420602695574, 0.9955906651105074, 0.997149033338026, 0.9536162722040409, 0.1720671660641956, 0.8287316569622482, 0.9375950929695643, 0.5116344313293246, 0.48661352322047063, 0.001725579869576137, 0.9554499168945717, 0.044292380253390745, 1.0031764510303116, 1.0002823146884454, 0.13416097193938673, 0.8657489658619202, 0.9997589911078931, 0.939482772769322, 1.0004221486784624, 0.9896837557482444, 1.0043405393883613, 0.21761846770552484, 0.7825894896333297, 0.9998698751938139, 1.0076107811054091, 1.0029412391101928, 0.7524821195365828, 0.247590890944295, 1.0017278301345591, 0.9375950929695643, 0.8337964513413825, 0.16627026009153667, 1.0012200332261585, 1.002114940304149], \"Term\": [\"academ\", \"access\", \"access\", \"access\", \"account\", \"account\", \"achiev\", \"achiev\", \"achiev\", \"acknowledg\", \"act\", \"action\", \"action\", \"activ\", \"activ\", \"activ\", \"activ\", \"adapt\", \"addit\", \"addit\", \"addit\", \"address\", \"address\", \"address\", \"adequ\", \"affect\", \"agenc\", \"agenda\", \"agrarian\", \"agreement\", \"agricultur\", \"aid\", \"aim\", \"aim\", \"aim\", \"align\", \"align\", \"alli\", \"alloc\", \"altern\", \"ambit\", \"ambiti\", \"ambiti\", \"analysi\", \"analyz\", \"andor\", \"annual\", \"annual\", \"appli\", \"apprais\", \"approach\", \"approach\", \"approv\", \"arbitr\", \"area\", \"area\", \"areabas\", \"articl\", \"assess\", \"assess\", \"assist\", \"assum\", \"assumpt\", \"author\", \"autonom\", \"avalanch\", \"averag\", \"averag\", \"awar\", \"awd\", \"bagass\", \"barbado\", \"bartica\", \"base\", \"base\", \"base\", \"base_year\", \"baselin\", \"bau\", \"bau_scenario\", \"beneath\", \"benefit\", \"billion\", \"bind\", \"biodivers\", \"biofuel\", \"biolog\", \"broader\", \"build\", \"build\", \"build\", \"businessasusu\", \"cabo\", \"cabo\", \"calcul\", \"cambodia\", \"capac\", \"capac\", \"capac\", \"carbon\", \"care\", \"carri\", \"casebycas\", \"cash\", \"caus\", \"cca\", \"cca\", \"ch\", \"challeng\", \"challeng\", \"challeng\", \"chang\", \"chang\", \"chang\", \"chile\", \"circumst\", \"civil\", \"clean\", \"climat\", \"climat\", \"coastal\", \"cobenefit\", \"cobenefit\", \"coeq\", \"cogener\", \"coher\", \"collabor\", \"commiss\", \"commit\", \"committe\", \"commun\", \"commun\", \"commun\", \"communitybas\", \"compar\", \"compat\", \"competit\", \"complianc\", \"compromis\", \"comput\", \"condit\", \"condit\", \"condit\", \"conduct\", \"confer\", \"conserv\", \"consid\", \"consid\", \"consid\", \"construct\", \"construct\", \"consult\", \"consumpt\", \"continu\", \"continu\", \"contribut\", \"contribut\", \"control\", \"convent\", \"coordin\", \"cop\", \"cost\", \"cost\", \"cost\", \"countri\", \"countri\", \"countri\", \"cover\", \"cover\", \"cp\", \"cpra\", \"creat\", \"creat\", \"crop\", \"cso\", \"current\", \"current\", \"damag\", \"danger\", \"data\", \"data\", \"data\", \"decarbonis\", \"decis\", \"decreas\", \"decreas\", \"deem\", \"deforest\", \"deforest\", \"deform\", \"degrad\", \"demand\", \"depart\", \"depend\", \"depend\", \"descript\", \"despit\", \"detail\", \"determin\", \"determin\", \"determin\", \"develop\", \"develop\", \"develop\", \"dialogu\", \"differ\", \"differ\", \"dioxid\", \"disast\", \"disast\", \"discharg\", \"discuss\", \"diseas\", \"dollar\", \"draft\", \"draft\", \"driven\", \"drought\", \"due\", \"due\", \"earli\", \"earli\", \"ecolog\", \"econom\", \"econom\", \"economi\", \"economywid\", \"ecosystem\", \"ecowa\", \"ecree\", \"educ\", \"educ\", \"educ\", \"effect\", \"effect\", \"effect\", \"effici\", \"effort\", \"effort\", \"electr\", \"emiss\", \"emit\", \"enabl\", \"enabl\", \"enact\", \"encourag\", \"end\", \"endur\", \"energi\", \"energi\", \"engag\", \"engin\", \"enhanc\", \"enhanc\", \"enhanc\", \"enjoi\", \"ensur\", \"ensur\", \"enter\", \"environ\", \"environ\", \"environment\", \"equal\", \"equip\", \"equival\", \"errat\", \"establish\", \"establish\", \"establish\", \"establish\", \"estim\", \"estim\", \"even_though\", \"event\", \"exercis\", \"exist\", \"expect\", \"expect\", \"expect\", \"expert\", \"export\", \"extern\", \"extra\", \"extrem\", \"facil\", \"fair\", \"farm\", \"featur\", \"fed\", \"feder\", \"feedback\", \"fertil\", \"financ\", \"financ\", \"financi\", \"firmli\", \"flash\", \"fleet\", \"flood\", \"focal_point\", \"focu\", \"focus\", \"focus\", \"fodder\", \"food\", \"foreign\", \"foreseen\", \"forest\", \"forestri\", \"forestri\", \"formul\", \"fossil_fuel\", \"fossil_fuel\", \"framework\", \"framework\", \"freedom\", \"fsm\", \"fuel\", \"fulfil\", \"fund\", \"futur\", \"futur\", \"ga\", \"gambia\", \"gase\", \"gaseou\", \"gdp\", \"gender\", \"gener\", \"ggcoe\", \"ghg\", \"ghg\", \"girl\", \"global\", \"global\", \"glof\", \"goal\", \"goal\", \"goj\", \"govern\", \"govern\", \"govern\", \"gpglulucf\", \"gradual\", \"green\", \"green\", \"greenhous\", \"grid\", \"grow\", \"growth\", \"guidelin\", \"guyana\", \"gwp\", \"ha\", \"happen\", \"head\", \"headlin\", \"health\", \"health\", \"hectar\", \"high\", \"high\", \"highli\", \"highlight\", \"histor\", \"home\", \"hotspot\", \"howev\", \"howev\", \"human\", \"human\", \"hybrid\", \"hydro\", \"identif\", \"identifi\", \"identifi\", \"immedi\", \"impact\", \"impact\", \"implement\", \"implement\", \"implement\", \"import\", \"import\", \"import\", \"improv\", \"improv\", \"includ\", \"includ\", \"includ\", \"includ\", \"includ\", \"inclus\", \"incom\", \"increas\", \"increas\", \"indc\", \"indc\", \"independ\", \"indepth\", \"index\", \"indic\", \"indic\", \"indic\", \"indirectli\", \"industri\", \"inegycei\", \"inform\", \"inform\", \"inform\", \"infrastructur\", \"infrastructur\", \"infrastructur\", \"initi\", \"initi\", \"input\", \"instal\", \"institut\", \"integr\", \"integr\", \"intend\", \"intend\", \"intern\", \"intern\", \"intervent\", \"inventori\", \"invest\", \"invest\", \"ip\", \"ipcc\", \"irrig\", \"island\", \"issu\", \"issu\", \"ivii\", \"jnap\", \"jordan\", \"kei\", \"kei\", \"kind\", \"kjip\", \"km\", \"kyoto_protocol\", \"lake\", \"land\", \"lao_pdr\", \"largescal\", \"lecrd\", \"leon\", \"level\", \"level\", \"level\", \"level\", \"licens\", \"lifetim\", \"limit\", \"limit\", \"line\", \"line\", \"link\", \"liquid\", \"list\", \"livestock\", \"locat\", \"long_term\", \"long_term\", \"longterm\", \"loss\", \"low\", \"low\", \"lowcarbon\", \"lower\", \"lower\", \"lulucf\", \"made\", \"mainli\", \"mainstream\", \"make\", \"make\", \"make\", \"make\", \"make\", \"malawi\", \"manag\", \"mani\", \"mani\", \"map\", \"map\", \"margin\", \"marin\", \"market\", \"martiniqu\", \"master_plan\", \"measur\", \"mechan\", \"medium\", \"melt\", \"methan\", \"methodolog\", \"micro\", \"million\", \"million\", \"mini\", \"ministri\", \"mitig\", \"mitig\", \"monitor\", \"monsoon\", \"month\", \"mrv\", \"multipl\", \"mw\", \"myanmar\", \"nap\", \"nap\", \"napa\", \"nation\", \"nation\", \"nation\", \"natur\", \"natur\", \"natur\", \"nauru\", \"nccap\", \"nccp\", \"ndc\", \"ndc\", \"ndc\", \"ndp\", \"neg\", \"net\", \"network\", \"nitrou\", \"nonannex\", \"nonenergi\", \"nonpunit\", \"nonrefund\", \"north\", \"northern_ireland\", \"object\", \"object\", \"ocean\", \"offgrid\", \"offici\", \"oil\", \"ongo\", \"opportun\", \"opportun\", \"option\", \"option\", \"order\", \"order\", \"outburst\", \"outlin\", \"output\", \"overview\", \"pacif\", \"pakistan\", \"paragraph\", \"pari\", \"parti\", \"partner\", \"partnership\", \"path\", \"pattern\", \"pde\", \"per_capita\", \"percent\", \"period\", \"period\", \"phase\", \"pico\", \"plai\", \"plan\", \"plan\", \"plan\", \"plant\", \"plant\", \"pncc\", \"polici\", \"polici\", \"polici\", \"polit\", \"pool\", \"popul\", \"popul\", \"popul\", \"popular\", \"post\", \"potenti\", \"potenti\", \"power\", \"practic\", \"practic\", \"precipit\", \"present\", \"present\", \"present\", \"prevent\", \"prevent\", \"priorit\", \"priorit\", \"prioriti\", \"privat\", \"process\", \"process\", \"process\", \"process\", \"product\", \"product\", \"program\", \"program\", \"program\", \"program\", \"programm\", \"programm\", \"programm\", \"programm\", \"programm\", \"project\", \"project\", \"project\", \"projectbas\", \"promis\", \"promot\", \"promot\", \"properti\", \"propos\", \"protect\", \"provid\", \"provid\", \"provid\", \"public\", \"public\", \"publicpriv\", \"rain\", \"rainfal\", \"rais\", \"randomis\", \"rapid\", \"rate\", \"recent\", \"recogn\", \"reconstruct\", \"redd\", \"reduc\", \"reduc\", \"reduc\", \"reduct\", \"reduct\", \"refer\", \"region\", \"region\", \"rehabilit\", \"rel\", \"relat\", \"relat\", \"relat\", \"remain\", \"remov\", \"renew\", \"report\", \"report\", \"republ\", \"requir\", \"requir\", \"research\", \"resili\", \"resili\", \"resolut\", \"resourc\", \"resourc\", \"respond\", \"respons\", \"respons\", \"respons\", \"restor\", \"result\", \"result\", \"result\", \"result\", \"rise\", \"rise\", \"risk\", \"risk\", \"riverin\", \"road\", \"roadmap\", \"robust\", \"role\", \"runwai\", \"rural\", \"rwanda\", \"sanit\", \"scenario\", \"scientif\", \"scope\", \"scottish\", \"sea\", \"sea_level\", \"seall\", \"season\", \"section\", \"sector\", \"sector\", \"sector\", \"sectori\", \"sectorspecif\", \"secur\", \"secur\", \"seed\", \"seek\", \"seek\", \"sef\", \"sensit\", \"seriou\", \"servic\", \"servic\", \"servic\", \"set\", \"set\", \"settlement\", \"sever\", \"sever\", \"show\", \"sidewalk\", \"sierra\", \"signific\", \"signific\", \"signific\", \"significantli\", \"simplifi\", \"sinc\", \"sinc\", \"singapor\", \"sink\", \"sit\", \"social\", \"social\", \"soil\", \"solar\", \"solid\", \"solut\", \"sourc\", \"sourc\", \"spcr\", \"speci\", \"special\", \"specif\", \"stage\", \"stakehold\", \"stand\", \"standard\", \"state\", \"state\", \"stem\", \"step\", \"stipul\", \"storag\", \"storm\", \"strateg\", \"strategi\", \"strategi\", \"strengthen\", \"strengthen\", \"strengthen\", \"strengthen\", \"submit\", \"subnat\", \"subsist\", \"substanti\", \"sudan\", \"summari\", \"summer\", \"suppli\", \"suppli\", \"support\", \"support\", \"sustain\", \"sustain\", \"synergi\", \"system\", \"system\", \"system\", \"systemat\", \"systemat\", \"tabl\", \"target\", \"target\", \"tcoe\", \"technic\", \"technolog\", \"technolog\", \"temperatur\", \"temperatur\", \"tempor\", \"threat\", \"time\", \"time\", \"ton\", \"tonga\", \"tonga\", \"total\", \"total\", \"total\", \"township\", \"train\", \"train\", \"transfer\", \"transform\", \"transform\", \"transpar\", \"transport\", \"transport\", \"tree\", \"trend\", \"trial\", \"tumatumari\", \"uae\", \"uk\", \"uncbd\", \"unclear\", \"uncondit\", \"undertaken\", \"undertaken\", \"undertaken\", \"unfccc\", \"unit\", \"univers\", \"unremit\", \"updat\", \"uptak\", \"urgent\", \"uruguai\", \"us_billion\", \"util\", \"valu\", \"valu\", \"variabl\", \"vehicl\", \"verd\", \"viet_nam\", \"viii\", \"vision\", \"vision\", \"viv\", \"vulner\", \"vulner\", \"vulner\", \"wai\", \"wai\", \"warn\", \"wast\", \"water\", \"water\", \"watersh\", \"waterstress\", \"weather\", \"welsh\", \"wetland\", \"wind\", \"wind\", \"women\", \"women_men\", \"wood\", \"work\", \"work\", \"world\", \"xvi\", \"year\", \"year\", \"youth\", \"zone\"]}, \"R\": 30, \"lambda.step\": 0.01, \"plot.opts\": {\"xlab\": \"PC1\", \"ylab\": \"PC2\"}, \"topic.order\": [4, 7, 5, 8, 1, 2, 10, 6, 3, 9]};\n",
              "\n",
              "function LDAvis_load_lib(url, callback){\n",
              "  var s = document.createElement('script');\n",
              "  s.src = url;\n",
              "  s.async = true;\n",
              "  s.onreadystatechange = s.onload = callback;\n",
              "  s.onerror = function(){console.warn(\"failed to load library \" + url);};\n",
              "  document.getElementsByTagName(\"head\")[0].appendChild(s);\n",
              "}\n",
              "\n",
              "if(typeof(LDAvis) !== \"undefined\"){\n",
              "   // already loaded: just create the visualization\n",
              "   !function(LDAvis){\n",
              "       new LDAvis(\"#\" + \"ldavis_el63140648092228176388092505\", ldavis_el63140648092228176388092505_data);\n",
              "   }(LDAvis);\n",
              "}else if(typeof define === \"function\" && define.amd){\n",
              "   // require.js is available: use it to load d3/LDAvis\n",
              "   require.config({paths: {d3: \"https://d3js.org/d3.v5\"}});\n",
              "   require([\"d3\"], function(d3){\n",
              "      window.d3 = d3;\n",
              "      LDAvis_load_lib(\"https://cdn.jsdelivr.net/gh/bmabey/pyLDAvis/pyLDAvis/js/ldavis.v3.0.0.js\", function(){\n",
              "        new LDAvis(\"#\" + \"ldavis_el63140648092228176388092505\", ldavis_el63140648092228176388092505_data);\n",
              "      });\n",
              "    });\n",
              "}else{\n",
              "    // require.js not available: dynamically load d3 & LDAvis\n",
              "    LDAvis_load_lib(\"https://d3js.org/d3.v5.js\", function(){\n",
              "         LDAvis_load_lib(\"https://cdn.jsdelivr.net/gh/bmabey/pyLDAvis/pyLDAvis/js/ldavis.v3.0.0.js\", function(){\n",
              "                 new LDAvis(\"#\" + \"ldavis_el63140648092228176388092505\", ldavis_el63140648092228176388092505_data);\n",
              "            })\n",
              "         });\n",
              "}\n",
              "</script>"
            ],
            "text/plain": [
              "PreparedData(topic_coordinates=              x         y  topics  cluster       Freq\n",
              "topic                                                \n",
              "3      0.252559 -0.028710       1        1  10.499728\n",
              "6      0.020785  0.295878       2        1  10.446826\n",
              "4     -0.013525  0.280375       3        1  10.236464\n",
              "7      0.051609 -0.226308       4        1  10.108528\n",
              "0      0.105707  0.063075       5        1  10.082916\n",
              "1     -0.127360  0.000638       6        1   9.823328\n",
              "9      0.073745 -0.163121       7        1   9.759109\n",
              "5      0.179889 -0.088689       8        1   9.739394\n",
              "2     -0.248926 -0.027148       9        1   9.713603\n",
              "8     -0.294483 -0.105989      10        1   9.590104, topic_info=          Term         Freq        Total Category  logprob  loglift\n",
              "110     climat  6811.000000  6811.000000  Default  30.0000  30.0000\n",
              "109      chang  5274.000000  5274.000000  Default  29.0000  29.0000\n",
              "181      emiss  4261.000000  4261.000000  Default  28.0000  28.0000\n",
              "9       energi  3400.000000  3400.000000  Default  27.0000  27.0000\n",
              "20       adapt  3468.000000  3468.000000  Default  26.0000  26.0000\n",
              "..         ...          ...          ...      ...      ...      ...\n",
              "657     import   249.058599   646.959151  Topic10  -4.9399   1.3898\n",
              "45     potenti   238.505257   630.212447  Topic10  -4.9832   1.3728\n",
              "256  technolog   279.663256  1225.382461  Topic10  -4.8240   0.8670\n",
              "367     promot   241.671265   769.137103  Topic10  -4.9701   1.1867\n",
              "69        cost   196.291939   689.071058  Topic10  -5.1780   1.0887\n",
              "\n",
              "[713 rows x 6 columns], token_table=      Topic      Freq     Term\n",
              "term                          \n",
              "347       4  1.005231   academ\n",
              "317       4  0.433915   access\n",
              "317       5  0.470234   access\n",
              "317       9  0.095576   access\n",
              "80        6  0.926058  account\n",
              "...     ...       ...      ...\n",
              "648       7  0.937595      xvi\n",
              "177       3  0.833796     year\n",
              "177       6  0.166270     year\n",
              "1517      5  1.001220    youth\n",
              "1155      2  1.002115     zone\n",
              "\n",
              "[873 rows x 3 columns], R=30, lambda_step=0.01, plot_opts={'xlab': 'PC1', 'ylab': 'PC2'}, topic_order=[4, 7, 5, 8, 1, 2, 10, 6, 3, 9])"
            ]
          },
          "metadata": {
            "tags": []
          },
          "execution_count": 22
        }
      ]
    },
    {
      "cell_type": "markdown",
      "metadata": {
        "id": "GDqU-NTTYYNE"
      },
      "source": [
        "Train Mallet for different number of topics and choose the model with best coherence score"
      ]
    },
    {
      "cell_type": "code",
      "metadata": {
        "id": "MquNSJCK5loN"
      },
      "source": [
        "def compute_coherence_values(dictionary, corpus, texts, limit, start=2, step=1):\n",
        "    coherence_values = []\n",
        "    model_list = []\n",
        "    for num_topics in tqdm(range(start, limit, step)):\n",
        "        model = gensim.models.wrappers.LdaMallet(mallet_path, corpus=corpus, num_topics=num_topics, id2word=id2word)\n",
        "        model_list.append(model)\n",
        "        coherencemodel = CoherenceModel(model=model, texts=texts, dictionary=dictionary, coherence='c_v')\n",
        "        coherence_values.append(coherencemodel.get_coherence())\n",
        "\n",
        "    return model_list, coherence_values"
      ],
      "execution_count": 23,
      "outputs": []
    },
    {
      "cell_type": "code",
      "metadata": {
        "id": "Mviya5315s4r"
      },
      "source": [
        "model_list, coherence_values = compute_coherence_values(dictionary=id2word, corpus=corpus, texts=texts, start=2, limit=30, step=1)"
      ],
      "execution_count": 24,
      "outputs": []
    },
    {
      "cell_type": "code",
      "metadata": {
        "colab": {
          "base_uri": "https://localhost:8080/",
          "height": 281
        },
        "id": "Dnbf1R305x9A",
        "outputId": "9ba91899-a1bc-43ca-8174-52f68a97ff23"
      },
      "source": [
        "limit, start, step = 30, 2, 1\n",
        "x = range(start, limit, step)\n",
        "plt.plot(x, coherence_values, label='coherence')\n",
        "plt.xlabel(\"Num Topics\")\n",
        "plt.ylabel(\"Coherence score\")\n",
        "plt.legend(loc='best')\n",
        "plt.show()"
      ],
      "execution_count": 25,
      "outputs": [
        {
          "output_type": "display_data",
          "data": {
            "image/png": "[encoded data removed]",
            "text/plain": [
              "<Figure size 432x288 with 1 Axes>"
            ]
          },
          "metadata": {
            "tags": [],
            "needs_background": "light"
          }
        }
      ]
    },
    {
      "cell_type": "code",
      "metadata": {
        "colab": {
          "base_uri": "https://localhost:8080/"
        },
        "id": "DgdLeboF50xO",
        "outputId": "613a37c9-5806-4686-d6b2-52dd5989c7d0"
      },
      "source": [
        "for m, cv in zip(x, coherence_values):\n",
        "    print(\"Num Topics =\", m, \" has Coherence Value of\", round(cv, 4))"
      ],
      "execution_count": 26,
      "outputs": [
        {
          "output_type": "stream",
          "text": [
            "Num Topics = 2  has Coherence Value of 0.4947\n",
            "Num Topics = 3  has Coherence Value of 0.5272\n",
            "Num Topics = 4  has Coherence Value of 0.5651\n",
            "Num Topics = 5  has Coherence Value of 0.5803\n",
            "Num Topics = 6  has Coherence Value of 0.5767\n",
            "Num Topics = 7  has Coherence Value of 0.5903\n",
            "Num Topics = 8  has Coherence Value of 0.5495\n",
            "Num Topics = 9  has Coherence Value of 0.6151\n",
            "Num Topics = 10  has Coherence Value of 0.5991\n",
            "Num Topics = 11  has Coherence Value of 0.6055\n",
            "Num Topics = 12  has Coherence Value of 0.6138\n",
            "Num Topics = 13  has Coherence Value of 0.6122\n",
            "Num Topics = 14  has Coherence Value of 0.614\n",
            "Num Topics = 15  has Coherence Value of 0.6076\n",
            "Num Topics = 16  has Coherence Value of 0.5961\n",
            "Num Topics = 17  has Coherence Value of 0.6063\n",
            "Num Topics = 18  has Coherence Value of 0.5971\n",
            "Num Topics = 19  has Coherence Value of 0.5856\n",
            "Num Topics = 20  has Coherence Value of 0.5844\n",
            "Num Topics = 21  has Coherence Value of 0.5762\n",
            "Num Topics = 22  has Coherence Value of 0.5819\n",
            "Num Topics = 23  has Coherence Value of 0.5782\n",
            "Num Topics = 24  has Coherence Value of 0.5909\n",
            "Num Topics = 25  has Coherence Value of 0.5671\n",
            "Num Topics = 26  has Coherence Value of 0.5675\n",
            "Num Topics = 27  has Coherence Value of 0.5627\n",
            "Num Topics = 28  has Coherence Value of 0.5599\n",
            "Num Topics = 29  has Coherence Value of 0.5518\n"
          ],
          "name": "stdout"
        }
      ]
    },
    {
      "cell_type": "markdown",
      "metadata": {
        "id": "_ne3j_23ZhlN"
      },
      "source": [
        "Print top words for the best model"
      ]
    },
    {
      "cell_type": "code",
      "metadata": {
        "colab": {
          "base_uri": "https://localhost:8080/"
        },
        "id": "pYPPo9Qy52QZ",
        "outputId": "0ee377c0-854d-4b52-f2a7-ceba9c571c9b"
      },
      "source": [
        "optimal_model = model_list[8]\n",
        "model_topics = optimal_model.show_topics(formatted=False)\n",
        "pprint(optimal_model.print_topics(num_words=10))"
      ],
      "execution_count": 42,
      "outputs": [
        {
          "output_type": "stream",
          "text": [
            "[(0,\n",
            "  '0.078*\"develop\" + 0.031*\"countri\" + 0.028*\"econom\" + 0.026*\"sustain\" + '\n",
            "  '0.023*\"achiev\" + 0.020*\"contribut\" + 0.019*\"effort\" + 0.016*\"economi\" + '\n",
            "  '0.016*\"global\" + 0.016*\"goal\"'),\n",
            " (1,\n",
            "  '0.099*\"energi\" + 0.027*\"gener\" + 0.025*\"effici\" + 0.024*\"transport\" + '\n",
            "  '0.024*\"electr\" + 0.022*\"renew\" + 0.022*\"reduc\" + 0.020*\"industri\" + '\n",
            "  '0.018*\"sector\" + 0.017*\"sourc\"'),\n",
            " (2,\n",
            "  '0.068*\"sector\" + 0.046*\"project\" + 0.034*\"reduct\" + 0.026*\"mitig\" + '\n",
            "  '0.024*\"estim\" + 0.022*\"wast\" + 0.022*\"includ\" + 0.022*\"base\" + 0.021*\"data\" '\n",
            "  '+ 0.020*\"total\"'),\n",
            " (3,\n",
            "  '0.043*\"support\" + 0.041*\"implement\" + 0.033*\"capac\" + 0.030*\"intern\" + '\n",
            "  '0.029*\"technolog\" + 0.023*\"invest\" + 0.022*\"build\" + 0.022*\"requir\" + '\n",
            "  '0.018*\"financ\" + 0.018*\"ndc\"'),\n",
            " (4,\n",
            "  '0.163*\"climat\" + 0.123*\"chang\" + 0.033*\"nation\" + 0.023*\"commun\" + '\n",
            "  '0.022*\"govern\" + 0.018*\"environ\" + 0.016*\"respons\" + 0.015*\"ministri\" + '\n",
            "  '0.015*\"strengthen\" + 0.014*\"resili\"'),\n",
            " (5,\n",
            "  '0.050*\"water\" + 0.039*\"impact\" + 0.028*\"vulner\" + 0.024*\"resourc\" + '\n",
            "  '0.023*\"climat\" + 0.021*\"chang\" + 0.019*\"infrastructur\" + 0.018*\"health\" + '\n",
            "  '0.015*\"increas\" + 0.014*\"risk\"'),\n",
            " (6,\n",
            "  '0.040*\"increas\" + 0.035*\"countri\" + 0.018*\"year\" + 0.018*\"region\" + '\n",
            "  '0.016*\"temperatur\" + 0.015*\"popul\" + 0.013*\"high\" + 0.012*\"island\" + '\n",
            "  '0.011*\"level\" + 0.011*\"averag\"'),\n",
            " (7,\n",
            "  '0.051*\"agricultur\" + 0.044*\"manag\" + 0.039*\"forest\" + 0.034*\"land\" + '\n",
            "  '0.033*\"product\" + 0.030*\"area\" + 0.021*\"improv\" + 0.018*\"includ\" + '\n",
            "  '0.017*\"protect\" + 0.017*\"forestri\"'),\n",
            " (8,\n",
            "  '0.113*\"emiss\" + 0.042*\"ghg\" + 0.034*\"contribut\" + 0.028*\"target\" + '\n",
            "  '0.020*\"greenhous\" + 0.020*\"nation\" + 0.018*\"ga\" + 0.018*\"ndc\" + '\n",
            "  '0.018*\"agreement\" + 0.016*\"determin\"'),\n",
            " (9,\n",
            "  '0.082*\"adapt\" + 0.071*\"nation\" + 0.071*\"plan\" + 0.056*\"action\" + '\n",
            "  '0.047*\"polici\" + 0.037*\"strategi\" + 0.036*\"develop\" + 0.035*\"implement\" + '\n",
            "  '0.028*\"measur\" + 0.026*\"sector\"')]\n"
          ],
          "name": "stdout"
        }
      ]
    },
    {
      "cell_type": "code",
      "metadata": {
        "colab": {
          "base_uri": "https://localhost:8080/",
          "height": 965
        },
        "id": "AvlbWoq-jmDF",
        "outputId": "881a8011-a0ec-430e-f709-3e1cbc1851d1"
      },
      "source": [
        "optimal_model = convertldaGenToldaMallet(optimal_model)\n",
        "\n",
        "pyLDAvis.enable_notebook()\n",
        "vis = pyLDAvis.gensim.prepare(optimal_model, corpus, id2word)\n",
        "vis"
      ],
      "execution_count": 43,
      "outputs": [
        {
          "output_type": "stream",
          "text": [
            "/usr/local/lib/python3.7/dist-packages/pyLDAvis/_prepare.py:236: RuntimeWarning: divide by zero encountered in log\n",
            "  log_1 = np.log(pd.eval(\"(topic_given_term.T / topic_proportion)\"))\n",
            "/usr/local/lib/python3.7/dist-packages/pyLDAvis/_prepare.py:259: RuntimeWarning: divide by zero encountered in log\n",
            "  log_lift = np.log(pd.eval(\"topic_term_dists / term_proportion\")).astype(\"float64\")\n",
            "/usr/local/lib/python3.7/dist-packages/pyLDAvis/_prepare.py:260: RuntimeWarning: divide by zero encountered in log\n",
            "  log_ttd = np.log(topic_term_dists).astype(\"float64\")\n"
          ],
          "name": "stderr"
        },
        {
          "output_type": "execute_result",
          "data": {
            "text/html": [
              "\n",
              "<link rel=\"stylesheet\" type=\"text/css\" href=\"https://cdn.jsdelivr.net/gh/bmabey/pyLDAvis/pyLDAvis/js/ldavis.v1.0.0.css\">\n",
              "\n",
              "\n",
              "<div id=\"ldavis_el631406480581481769560993961\"></div>\n",
              "<script type=\"text/javascript\">\n",
              "\n",
              "var ldavis_el631406480581481769560993961_data = {\"mdsDat\": {\"x\": [0.03317580032284052, 0.24701597716728294, -0.09555694270100573, -0.14229015242559462, -0.3401874484355196, 0.15313442565294352, 0.16858406808651666, 0.11764817317112163, -0.01726492557082143, -0.12425897526776376], \"y\": [-0.07534563340768458, 0.1422763964702613, 0.3207447145890176, -0.2290156789641813, 0.11069393528805378, 0.024112438754755938, 0.0898722555498861, -0.19151280324092837, -0.15957798286985594, -0.032247642169324395], \"topics\": [1, 2, 3, 4, 5, 6, 7, 8, 9, 10], \"cluster\": [1, 1, 1, 1, 1, 1, 1, 1, 1, 1], \"Freq\": [10.384083924194254, 10.276249941669457, 10.267955865727508, 10.1940937044828, 10.160567606886012, 10.062842261308374, 9.939686203094427, 9.723804119071886, 9.526042252369963, 9.46467412119532]}, \"tinfo\": {\"Term\": [\"climat\", \"chang\", \"emiss\", \"energi\", \"develop\", \"adapt\", \"nation\", \"plan\", \"sector\", \"action\", \"implement\", \"water\", \"agricultur\", \"polici\", \"countri\", \"project\", \"support\", \"ghg\", \"manag\", \"increas\", \"contribut\", \"impact\", \"forest\", \"strategi\", \"reduct\", \"land\", \"product\", \"mitig\", \"area\", \"capac\", \"agenda\", \"gpglulucf\", \"endur\", \"scottish\", \"vision\", \"balanc\", \"randomis\", \"multipl\", \"plai\", \"role\", \"popular\", \"care\", \"deem\", \"sidewalk\", \"viaduct\", \"enjoi\", \"equal\", \"freedom\", \"social\", \"demonstr\", \"compat\", \"clearer\", \"pursu\", \"recogn\", \"harmoni\", \"call\", \"decarbonis\", \"endeavour\", \"recognis\", \"view\", \"goal\", \"effort\", \"focu\", \"inclus\", \"wai\", \"undertak\", \"pathwai\", \"lowcarbon\", \"principl\", \"long_term\", \"capabl\", \"chile\", \"polit\", \"special\", \"swaziland\", \"nigeria\", \"indonesia\", \"bangladesh\", \"combat\", \"context\", \"adequ\", \"transit\", \"line\", \"focus\", \"econom\", \"aim\", \"achiev\", \"longterm\", \"poverti\", \"opportun\", \"economi\", \"develop\", \"sustain\", \"limit\", \"commit\", \"make\", \"countri\", \"meet\", \"continu\", \"global\", \"environment\", \"challeng\", \"object\", \"contribut\", \"resili\", \"low\", \"reduc\", \"ensur\", \"import\", \"futur\", \"growth\", \"compon\", \"descript\", \"indepth\", \"undertaken\", \"prioriti\", \"strateg\", \"polici\", \"plan\", \"list\", \"align\", \"articul\", \"coher\", \"multicriteria\", \"priorit\", \"round\", \"action\", \"iiii\", \"moldova\", \"sectori\", \"stipul\", \"barbado\", \"cobenefit\", \"sddci\", \"nccap\", \"apprais\", \"prioritis\", \"undertook\", \"guid\", \"enact\", \"formul\", \"strategi\", \"document\", \"comprehens\", \"napa\", \"nap\", \"subnat\", \"sudan\", \"synergi\", \"cca\", \"de\", \"participatori\", \"cambodia\", \"togo\", \"final\", \"elabor\", \"prepar\", \"adapt\", \"identifi\", \"nama\", \"assess\", \"specif\", \"initi\", \"process\", \"nation\", \"measur\", \"kei\", \"implement\", \"programm\", \"develop\", \"mitig\", \"sector\", \"relev\", \"framework\", \"integr\", \"program\", \"indc\", \"propos\", \"includ\", \"provid\", \"strengthen\", \"prepared\", \"coordin\", \"gender\", \"research\", \"scienc\", \"stem\", \"academ\", \"civil\", \"particip\", \"societi\", \"author\", \"focal_point\", \"statement\", \"local\", \"urgent\", \"work\", \"cso\", \"educ\", \"women_men\", \"xvi\", \"offic\", \"head\", \"issu\", \"nccpf\", \"academia\", \"ngo\", \"ministeri\", \"group\", \"pncc\", \"ministri\", \"awar\", \"depart\", \"environ\", \"train\", \"committe\", \"law\", \"respond\", \"viet_nam\", \"legisl\", \"scientif\", \"council\", \"youth\", \"administr\", \"univers\", \"respons\", \"climat\", \"chang\", \"knowledg\", \"establish\", \"commun\", \"govern\", \"institut\", \"public\", \"resili\", \"disast\", \"framework\", \"nation\", \"relat\", \"address\", \"risk\", \"adapt\", \"environment\", \"state\", \"level\", \"africa\", \"region\", \"decreas\", \"moreov\", \"cash\", \"hand\", \"happen\", \"increasingli\", \"index\", \"lake\", \"larg\", \"melt\", \"monsoon\", \"month\", \"pakistan\", \"precipit\", \"rainfal\", \"season\", \"summer\", \"winter\", \"declin\", \"even_though\", \"north\", \"percent\", \"driven\", \"remain\", \"stand\", \"unremit\", \"fall\", \"gradual\", \"temperatur\", \"island\", \"averag\", \"rate\", \"annual\", \"tonga\", \"world\", \"rang\", \"show\", \"higher\", \"recent\", \"central\", \"trend\", \"sinc\", \"km\", \"lower\", \"decad\", \"significantli\", \"zone\", \"pacif\", \"tropic\", \"intens\", \"increas\", \"high\", \"grow\", \"countri\", \"popul\", \"year\", \"due\", \"part\", \"result\", \"period\", \"level\", \"major\", \"howev\", \"growth\", \"futur\", \"current\", \"water\", \"affect\", \"drought\", \"event\", \"extra\", \"flash\", \"flood\", \"glof\", \"hazard\", \"lack\", \"live\", \"properti\", \"riverin\", \"sea\", \"seriou\", \"tempor\", \"wave\", \"fed\", \"physic\", \"agrarian\", \"sri_lanka\", \"yemen\", \"besid\", \"intang\", \"acidif\", \"damag\", \"loss\", \"caus\", \"citi\", \"yangon\", \"health\", \"infrastructur\", \"secur\", \"coastal\", \"sea_level\", \"livelihood\", \"qualiti\", \"tourism\", \"advers\", \"marin\", \"rise\", \"weather\", \"diseas\", \"highli\", \"neg\", \"earli\", \"singapor\", \"eros\", \"sever\", \"impact\", \"particularli\", \"especi\", \"vulner\", \"extrem\", \"human\", \"resourc\", \"risk\", \"peopl\", \"food\", \"increas\", \"area\", \"climat\", \"chang\", \"natur\", \"popul\", \"effect\", \"mtcoe\", \"negoti\", \"mt_co\", \"publish\", \"agreement\", \"pari\", \"default\", \"emiss\", \"guidanc\", \"guidelin\", \"ipcc\", \"oxid\", \"per_cent\", \"convent\", \"uk\", \"gwp\", \"tier\", \"timehorizon\", \"emit\", \"greenhous\", \"kyoto_protocol\", \"nonannex\", \"parti\", \"unfccc\", \"ar_gwp\", \"articl\", \"bind\", \"ch\", \"confer\", \"iiiii\", \"ghg\", \"inventori\", \"determin\", \"decis\", \"gase\", \"submit\", \"transpar\", \"lulucf\", \"cp\", \"methodolog\", \"paragraph\", \"net\", \"cop\", \"dioxid\", \"anthropogen\", \"base_year\", \"intend\", \"remov\", \"assumpt\", \"ga\", \"account\", \"target\", \"updat\", \"contribut\", \"accord\", \"report\", \"approach\", \"ndc\", \"unit\", \"consist\", \"nation\", \"inform\", \"global\", \"indc\", \"carbon\", \"level\", \"requir\", \"support\", \"success\", \"conting\", \"feedback\", \"sell\", \"foreign\", \"kind\", \"market\", \"partnership\", \"financi\", \"gef\", \"cdm\", \"aid\", \"cooper\", \"grant\", \"suffici\", \"moe\", \"advantag\", \"exchang\", \"clarifi\", \"bilater\", \"linkag\", \"evalu\", \"oversight\", \"leverag\", \"reinforc\", \"hub\", \"portfolio\", \"readi\", \"intern\", \"financ\", \"fund\", \"monitor\", \"invest\", \"technic\", \"mechan\", \"transfer\", \"budget\", \"necessari\", \"mrv\", \"partner\", \"fulli\", \"extern\", \"myanmar\", \"assist\", \"full\", \"mobil\", \"review\", \"expert\", \"cabo\", \"verd\", \"tool\", \"gap\", \"capac\", \"technolog\", \"engag\", \"build\", \"implement\", \"appropri\", \"facilit\", \"access\", \"green\", \"ndc\", \"domest\", \"inform\", \"activ\", \"indc\", \"level\", \"mitig\", \"develop\", \"includ\", \"resourc\", \"govern\", \"provid\", \"assum\", \"data\", \"estim\", \"projectbas\", \"uncondit\", \"cost\", \"total\", \"usd\", \"businessasusu\", \"scenario\", \"shown\", \"output\", \"billion\", \"dollar\", \"preliminari\", \"calcul\", \"coeq\", \"uncertainti\", \"wast\", \"licens\", \"million\", \"analyz\", \"equival\", \"figur\", \"tabl\", \"toe\", \"ton\", \"baselin\", \"gross\", \"headlin\", \"amount\", \"bau\", \"collect\", \"bau_scenario\", \"jordan\", \"treatment\", \"tonn\", \"statist\", \"afolu\", \"mention\", \"landfil\", \"tcoe\", \"overal\", \"condit\", \"project\", \"solid\", \"reduct\", \"base\", \"forecast\", \"indic\", \"sector\", \"compar\", \"potenti\", \"model\", \"avail\", \"option\", \"repres\", \"mitig\", \"year\", \"includ\", \"consid\", \"measur\", \"period\", \"current\", \"growth\", \"fugit\", \"bagass\", \"mill\", \"pipe\", \"railwai\", \"pilot\", \"modernis\", \"pod\", \"combust\", \"uskw\", \"militari\", \"ukrain\", \"ix\", \"coton\", \"gass\", \"rra\", \"ambient\", \"compress\", \"nontechn\", \"sh\", \"digit\", \"ev\", \"journei\", \"signal\", \"lane\", \"shed\", \"collector\", \"tower\", \"edit\", \"truck\", \"energi\", \"gener\", \"effici\", \"transport\", \"electr\", \"renew\", \"power\", \"solar\", \"demand\", \"fuel\", \"consumpt\", \"vehicl\", \"standard\", \"construct\", \"oper\", \"mw\", \"clean\", \"light\", \"oil\", \"fossil_fuel\", \"road\", \"util\", \"altern\", \"grid\", \"storag\", \"introduc\", \"commerci\", \"equip\", \"diesel\", \"mix\", \"instal\", \"industri\", \"price\", \"uae\", \"rmi\", \"sourc\", \"reduc\", \"plant\", \"import\", \"system\", \"improv\", \"sector\", \"share\", \"public\", \"wind\", \"suppli\", \"target\", \"promot\", \"build\", \"ecowa\", \"hotspot\", \"watersh\", \"harvest\", \"forestri\", \"practic\", \"product\", \"agricultur\", \"iii\", \"biodivers\", \"biolog\", \"sit\", \"control\", \"trial\", \"crop\", \"fertil\", \"fodder\", \"seed\", \"subsist\", \"farm\", \"guyana\", \"suitabl\", \"casebycas\", \"uruguai\", \"vii\", \"viii\", \"deform\", \"guinea\", \"moresbi\", \"papua_new\", \"forest\", \"land\", \"conserv\", \"soil\", \"degrad\", \"livestock\", \"irrig\", \"png\", \"deforest\", \"ha\", \"restor\", \"surinam\", \"speci\", \"redd\", \"tree\", \"hectar\", \"indigen\", \"wetland\", \"landus\", \"wood\", \"manag\", \"good\", \"cover\", \"protect\", \"maintain\", \"area\", \"promot\", \"improv\", \"enhanc\", \"natur\", \"ecosystem\", \"system\", \"rural\", \"includ\", \"servic\", \"carbon\", \"sustain\", \"activ\", \"resourc\", \"reduc\"], \"Freq\": [6939.0, 5376.0, 4115.0, 3423.0, 4863.0, 3486.0, 4608.0, 2653.0, 3976.0, 2088.0, 2794.0, 1845.0, 1737.0, 1739.0, 2486.0, 1844.0, 1557.0, 1529.0, 1743.0, 2104.0, 2005.0, 1490.0, 1336.0, 1378.0, 1495.0, 1163.0, 1130.0, 2203.0, 1525.0, 1346.0, 110.73063772700667, 1.064717654630555, 4.25887061852222, 12.776612129804818, 281.0854602739902, 107.53648716269889, 1.064717654630555, 59.624189207787396, 100.08345747848597, 192.7139028240012, 1.064717654630555, 26.61794184568065, 13.841329715875833, 1.064717654630555, 3.1941530324512044, 13.841329715875833, 110.73063772700667, 4.25887061852222, 498.28787415934056, 104.34232782277003, 25.553224259609635, 4.25887061852222, 104.34232782277003, 140.5427301369951, 14.906047301946849, 62.81834415990571, 25.553224259609635, 12.776612129804818, 66.01249472421348, 119.24837841557479, 600.5007975246424, 726.1374331907273, 207.61994464118487, 168.22539176265204, 154.38406094982358, 153.31934994546836, 144.80160048127917, 138.4132993526636, 125.63668831981143, 123.50724875985885, 114.98950807129073, 108.6011981670541, 106.4717673827226, 90.50100578556265, 90.50100578556265, 87.3068464456338, 85.1774156613023, 80.91854531701824, 80.91854531701824, 328.99775384109114, 140.5427301369951, 202.2963545169245, 332.19190440539893, 149.06047082556321, 1045.5527704413794, 350.29211433813254, 858.1624401903964, 252.33808764397804, 282.1501888295876, 248.0792260753151, 621.7950878167151, 2950.332639423784, 993.381562651889, 379.03950451938687, 487.64069391081983, 317.28588013945745, 1187.1602642364562, 265.11470745245134, 344.96854176511437, 603.6949129864657, 447.1814300279318, 318.35057359257047, 416.3046178379671, 752.7553662607868, 486.5759653552225, 342.8390846539196, 456.7638817208551, 294.92679108681864, 308.76812189964716, 298.12094165112643, 277.8913097096824, 255.79209034167008, 31.718218316549084, 17.39386158742619, 177.0081142191975, 785.7933132015654, 308.9968383240971, 1739.3861240046579, 2653.075369478685, 115.61802573762186, 141.19722782419666, 47.065742608065555, 36.83405829963953, 9.208514574909882, 143.24356294898382, 9.208514574909882, 2088.2865623957814, 5.115841611432371, 225.097037416392, 107.432676553983, 27.625545895852213, 52.18158476227857, 187.23979852762352, 3.069505129693615, 12.27802051877446, 6.13901025938723, 55.251091791704425, 16.37069293947133, 139.15089269940952, 28.64871345824579, 128.9192083909835, 1377.1845203291532, 328.4370350363104, 177.0081142191975, 133.01188732504806, 182.1239563734105, 100.27049927498282, 95.15465712076981, 95.15465712076981, 89.0156430619181, 77.76079553334363, 75.71446040855648, 71.62178147449191, 70.59861391209833, 144.26673485362252, 61.39010150831101, 370.38694417465325, 3041.87958162664, 582.1827989376836, 93.10832199598266, 598.5534799359808, 350.9467474624399, 399.0356532906539, 721.3336916370931, 2657.16805709724, 1048.7475200308038, 398.01248138601517, 1314.7712425739583, 411.31368140835735, 1357.74432361694, 787.8395875349207, 953.5928802790145, 266.02377465009613, 358.1089160569498, 313.0895259426519, 251.69940272311527, 289.5566416118838, 215.8885250126047, 289.5566416118838, 244.53723412860535, 572.3043019631822, 34.33825846489017, 361.07199394315575, 193.5429160807342, 356.90978815860745, 127.98805348936509, 15.608298809184117, 31.216597618368233, 147.75856567589335, 220.59728839022202, 245.57057516239752, 171.69128364696994, 33.29770484938285, 22.892173033050188, 509.8711110651862, 85.32536610041642, 411.0185327775831, 12.486639047347293, 272.6249648268472, 41.62213160407113, 1.0405532765432142, 74.91983428408376, 19.77051218652825, 344.4231360950388, 7.283873139180959, 31.216597618368233, 48.90600474325208, 12.486639047347293, 303.84154292088334, 7.283873139180959, 577.5070765488294, 243.48947227012334, 218.51618549794784, 655.5485564938435, 164.40742352401034, 157.12354604608893, 236.20559479220194, 147.75856567589335, 120.70417601144368, 115.50141010327734, 108.21754130283684, 92.60924357833784, 89.48758056244567, 88.44702911630858, 85.32536610041642, 583.7503852256519, 6080.9931336220625, 4600.286117559069, 209.15120512775226, 439.1134738881699, 856.3753153425755, 802.2665707235998, 434.95126810362154, 402.6941212084864, 528.6010718055774, 355.86921935750854, 443.2756796727182, 1224.7311867636527, 345.4637048961377, 341.30146440166567, 371.4775084045266, 441.19457678044404, 278.8682735036697, 258.0572098710044, 243.48947227012334, 68.92254149918362, 664.7690263805735, 289.0300174628996, 58.91765720708969, 16.674808948294007, 58.91765720708969, 13.339847158635207, 61.14096291309728, 98.93719868299532, 44.46615719545069, 244.56385165238913, 7.781577509203871, 17.786462878180277, 31.126310036815482, 104.49546294801429, 128.95185155927712, 382.4089260356966, 125.61689300026572, 30.014655030046743, 25.568039310501675, 131.1751572652847, 17.786462878180277, 92.26727294991277, 251.23378600053144, 44.46615719545069, 220.10747165618608, 46.68946290145828, 1.1116539298862673, 40.01954147590562, 53.35938863454083, 574.7250763667878, 456.8897361074291, 413.53524038004196, 410.20028182103056, 396.860447584985, 339.05443030830946, 273.4668602907269, 237.89393453436637, 233.44732312235118, 210.10257874903238, 208.99092589602859, 205.6559673370172, 203.4326616310096, 272.3552074377231, 164.52477731563766, 161.18981875662627, 151.18492584947256, 142.29170302544222, 133.39847158635206, 120.05862012018697, 120.05862012018697, 294.58828172791857, 1491.8395760611356, 469.11795195070994, 174.52967022279137, 1299.5234601902835, 550.2686791404652, 666.992332086581, 319.0446789542412, 295.6999345809224, 389.07887761395847, 366.8457860936435, 423.5401505173152, 246.7871573583967, 243.45219879938534, 274.5785131437307, 250.12213314752765, 253.45709170653905, 1845.418924673792, 392.86823496822865, 439.58772228467325, 320.6654377704148, 7.432642782141151, 38.22502063577783, 523.4703913115982, 4.247224216936191, 109.36603042865481, 174.13619128437256, 216.60844311380208, 33.97779373548953, 8.494448433872382, 115.73686648572388, 47.78127472138144, 10.618060810675688, 54.15211077845052, 7.432642782141151, 79.6354593000902, 7.432642782141151, 88.12990451394005, 80.69725958511721, 20.174314896279302, 2.1236121084680954, 36.10140718563368, 283.5022217130274, 417.2897789114779, 248.46262339914747, 158.20910114169988, 1.0618060542340477, 664.690619199052, 699.7302346863854, 451.2675941137844, 437.46412171461924, 291.9966583401505, 260.1424952282586, 235.7209512850093, 228.28831494291325, 220.85566142736363, 219.79386114233662, 427.9078504555621, 196.43411748411432, 191.12509888552577, 181.56884479992218, 170.95077325583802, 166.7035549422765, 155.02368311316533, 149.7146645145768, 357.82865382780227, 1435.561816451317, 264.38971354182013, 213.42302508526754, 1018.2720375398392, 349.3342172006792, 388.62103382812063, 889.7935161134307, 527.7176267986133, 297.3056941121925, 332.345309599526, 565.9426431410277, 482.0599741141028, 859.0011017662052, 776.1802673712143, 357.82865382780227, 357.82865382780227, 325.9744735424569, 48.65233952707512, 48.65233952707512, 48.65233952707512, 97.30467905415024, 643.4023218051437, 464.67947731475164, 23.82971727599527, 4115.590615729335, 143.97120863105621, 282.9778881346201, 456.736237514075, 64.53881487635904, 149.92862997742492, 423.97036908421444, 214.46744060171457, 77.44657955245862, 42.69490967656763, 4.964524343914236, 68.51043477669737, 731.770868839741, 71.48914970195112, 22.83681230091069, 471.62980788827434, 547.090568986425, 7.943238737659308, 304.8218060906197, 38.72328977622931, 125.10600985237976, 101.27629895448858, 5.957429318998818, 1528.080531295494, 470.63689866112037, 591.7713141255781, 345.53088030460185, 231.34682943022185, 216.45325905602252, 189.6448289808082, 176.73706005263924, 176.73706005263924, 331.63021915755644, 172.76544015230093, 162.83639890559388, 130.07053897987205, 129.07762975271808, 122.1272991791954, 120.14148922902625, 400.14064968218446, 251.20492893191349, 180.70867995297758, 664.2533135257117, 540.1402384129024, 1027.65652590253, 407.0909802557071, 1253.045933986383, 414.0413108292298, 504.3956763181349, 390.21159142719983, 643.4023218051437, 304.8218060906197, 263.1197886329285, 726.8063567205262, 379.2896579616164, 398.1548312278765, 396.1690467901237, 340.5663681853871, 334.60894683901836, 781.5138900967114, 1557.810738615791, 139.81691084191482, 28.172063999489417, 17.737966144122417, 11.477507010899258, 63.64799628773425, 21.911604866266256, 261.8958534396924, 137.7300925308503, 599.9605878333285, 36.519341443777094, 43.82320973253251, 36.519341443777094, 234.76719019567605, 69.90845542095741, 70.95186457648967, 22.955014021798515, 21.911604866266256, 45.91002804359703, 17.737966144122417, 68.86504626542515, 28.172063999489417, 287.98111172820614, 21.911604866266256, 28.172063999489417, 49.04025971022342, 17.737966144122417, 28.172063999489417, 55.300718843446575, 1078.8857304250337, 658.3915341433719, 593.7001917005496, 573.8753799451702, 824.2937116738597, 479.96849714685237, 438.2320973253251, 348.4988679492548, 256.6787950619423, 233.7237852401734, 190.94398046314356, 162.77192906374296, 147.12077073061104, 129.38281088653304, 122.07894259777761, 257.7222168175634, 114.77507430902219, 113.73166095346032, 304.6756582167223, 105.38438770920226, 101.21075108707322, 101.21075108707322, 143.99055586410307, 154.42463901936645, 1194.7041340890255, 1041.3229504255169, 165.90216073036933, 803.425545363333, 1479.5551149513158, 271.28654843957156, 225.37651199591534, 369.36706786001844, 301.5454265500959, 650.0442944993507, 299.4586166390906, 427.7980141700618, 425.7111706588196, 448.6662140808254, 437.1887091699409, 466.4041823249626, 555.0939899454119, 448.6662140808254, 348.4988679492548, 324.50043637186485, 304.6756582167223, 148.01636773045445, 750.807669070226, 841.9771290114328, 5.362911613769563, 282.08914934347587, 695.0333903414266, 710.0495397783752, 151.23410699470062, 72.9355958928619, 661.7833357680502, 84.73400606556427, 58.99203031947038, 138.36311706724953, 55.7742828376076, 28.959723227956676, 207.00838572349994, 80.44367882895278, 96.53240802065005, 790.4931693016283, 15.016152518554776, 682.1623675435092, 36.46779794643095, 172.68575139537472, 240.25844029687642, 289.59722406195016, 7.508076259277388, 136.21795755775207, 233.82294533315084, 72.9355958928619, 5.362911613769563, 238.11328078737895, 217.73421614145357, 244.5487757511045, 148.01636773045445, 140.5082930119802, 120.12922014843821, 108.33081819335243, 107.2582302209871, 106.18565046623837, 104.04049095674092, 100.82274347487815, 99.75015550251283, 219.87937565095103, 657.4929510081224, 1641.050936351051, 139.43569682199825, 1213.0906116570843, 766.89638182669, 131.92763032114058, 402.21837770953067, 2417.6007167580447, 348.5892584902288, 471.93624255576304, 264.9278403970299, 396.85546250055387, 256.3471859238069, 284.2343088529733, 922.4208242756188, 568.4686177059466, 779.7673388836747, 353.9521736992057, 477.29915776473985, 344.29893947123395, 348.5892584902288, 255.27458973382494, 10.626196629640713, 5.3130983148203565, 10.626196629640713, 5.3130983148203565, 42.50478651856285, 85.0095730371257, 5.3130983148203565, 5.3130983148203565, 42.50478651856285, 5.3130983148203565, 10.626196629640713, 10.626196629640713, 5.3130983148203565, 5.3130983148203565, 5.3130983148203565, 5.3130983148203565, 5.3130983148203565, 5.3130983148203565, 5.3130983148203565, 5.3130983148203565, 5.3130983148203565, 5.3130983148203565, 10.626196629640713, 10.626196629640713, 5.3130983148203565, 5.3130983148203565, 5.3130983148203565, 5.3130983148203565, 5.3130983148203565, 5.3130983148203565, 3422.6978422291927, 925.5416785413058, 880.9117082451783, 834.1564092627118, 826.7180808800239, 775.7123177365786, 555.7500728620513, 334.72519584630436, 329.41209954410584, 312.41017849629077, 293.2830253679862, 266.71752775601885, 255.02871911137714, 250.77823884942336, 226.33798941892033, 207.2108362906158, 197.64725972646352, 194.45939550475447, 177.45747445693937, 176.39485841669463, 167.8938978927871, 164.70604977205292, 159.39293736887953, 154.07984106668104, 144.51626450252877, 141.3284163817946, 125.38911942471168, 121.1386391627579, 110.51243850787347, 106.26196629640714, 171.08176211449614, 686.4523127404237, 155.14247320790065, 166.83128185254236, 233.77631780160826, 588.6912506145121, 749.1468684275359, 298.5961216701847, 329.41209954410584, 471.8031319661452, 418.67213674221045, 605.6931716623271, 215.71178071354842, 263.5296635343098, 193.39677946450973, 209.33606837110523, 252.9034709299128, 221.02487701574694, 218.8996449352575, 9.737788094332412, 11.901740115447941, 67.08253665045659, 106.03368502847371, 576.693443587759, 368.9539535771675, 1130.6652889713355, 1737.654068853337, 119.01740515379194, 258.59236450646273, 64.91858462934105, 4.327905541973258, 169.8703036455383, 8.655811083946515, 325.6748971576068, 96.29590293311009, 16.229646157335264, 27.049410262225443, 45.44300844067624, 162.2964695719777, 103.8697370066707, 68.16451466067062, 2.163952770986629, 95.21392092358353, 18.393598178450794, 8.655811083946515, 1.0819763854933144, 164.4604175937807, 27.049410262225443, 96.29590293311009, 1336.2408309601242, 1159.8786992464268, 373.2818496207735, 307.28129098053097, 307.28129098053097, 253.18247845470512, 239.1167843184854, 239.1167843184854, 203.41156197248532, 180.69005975180346, 169.8703036455383, 168.78831363738672, 147.14878542760636, 138.49297734314425, 137.41100333224273, 116.85344913336388, 106.03368502847371, 101.70578098624266, 139.57495135404574, 124.42729120554957, 1505.0292245837613, 170.95227765643983, 436.03650222556166, 587.5132156912742, 164.4604175937807, 1043.025250113063, 566.9556614923954, 717.3503529554562, 468.4957865416072, 506.36495690941024, 297.54350888516734, 559.3817954243345, 257.51039049556124, 630.7922401163347, 256.42841648465975, 365.7080155472129, 425.21673012204644, 323.5109491358038, 294.2975708552127, 267.24817259092487], \"Total\": [6939.0, 5376.0, 4115.0, 3423.0, 4863.0, 3486.0, 4608.0, 2653.0, 3976.0, 2088.0, 2794.0, 1845.0, 1737.0, 1739.0, 2486.0, 1844.0, 1557.0, 1529.0, 1743.0, 2104.0, 2005.0, 1490.0, 1336.0, 1378.0, 1495.0, 1163.0, 1130.0, 2203.0, 1525.0, 1346.0, 110.73063772700667, 1.064717654630555, 4.25887061852222, 12.776612129804818, 281.0854602739902, 107.53648716269889, 1.064717654630555, 59.624189207787396, 100.08345747848597, 192.7139028240012, 1.064717654630555, 26.61794184568065, 13.841329715875833, 1.064717654630555, 3.1941530324512044, 13.841329715875833, 110.73063772700667, 4.25887061852222, 498.28787415934056, 104.34232782277003, 25.553224259609635, 4.25887061852222, 104.34232782277003, 140.5427301369951, 14.906047301946849, 62.81834415990571, 25.553224259609635, 12.776612129804818, 66.01249472421348, 119.24837841557479, 600.5007975246424, 728.1837698081612, 207.61994464118487, 168.22539176265204, 154.38406094982358, 153.31934994546836, 144.80160048127917, 138.4132993526636, 125.63668831981143, 123.50724875985885, 114.98950807129073, 108.6011981670541, 106.4717673827226, 90.50100578556265, 90.50100578556265, 87.3068464456338, 85.1774156613023, 80.91854531701824, 80.91854531701824, 335.0561927022436, 141.5861398831565, 205.48421345550116, 342.59743730641674, 151.10680744299714, 1172.1174855535432, 374.09559456902844, 983.2684500427762, 267.6856130210558, 303.2419359530337, 269.930845492858, 750.7469393759922, 4863.1709529861355, 1418.5982927739356, 511.8612667262397, 746.78886264341, 427.2614749070507, 2486.68372442674, 340.24020865107, 490.59520334956795, 1079.6655128450861, 726.0497035316015, 448.9527213492133, 662.5160376674177, 2005.8013002471698, 1015.1770371607998, 565.1698620161133, 1475.2546733707868, 551.605586148761, 638.180221443753, 576.8917882568999, 807.744412587238, 255.79209034167008, 31.718218316549084, 17.39386158742619, 177.0081142191975, 785.7933132015654, 308.9968383240971, 1739.3861240046579, 2653.075369478685, 115.61802573762186, 141.19722782419666, 47.065742608065555, 36.83405829963953, 9.208514574909882, 143.24356294898382, 9.208514574909882, 2088.2865623957814, 5.115841611432371, 225.097037416392, 107.432676553983, 27.625545895852213, 52.18158476227857, 187.23979852762352, 3.069505129693615, 12.27802051877446, 6.13901025938723, 55.251091791704425, 16.37069293947133, 139.15089269940952, 28.64871345824579, 128.9192083909835, 1378.2571026519072, 329.4996547244323, 177.0081142191975, 133.01188732504806, 183.16450964995371, 100.27049927498282, 95.15465712076981, 95.15465712076981, 89.0156430619181, 77.76079553334363, 75.71446040855648, 71.62178147449191, 70.59861391209833, 145.32854090785656, 61.39010150831101, 384.2876116998027, 3486.3200876885426, 641.6250469886361, 94.14887527252588, 713.0143385931211, 399.6356859344457, 471.0309312227054, 957.1128851940309, 4608.705600581418, 1569.614084379595, 513.8513742978419, 2794.326357525274, 636.109638100286, 4863.1709529861355, 2203.2825359811827, 3976.8867686993863, 453.2035955372939, 801.384595729668, 643.0816828499562, 546.6800634955786, 1134.3919024828328, 384.98483877542526, 2233.792007729844, 898.215801341752, 572.3043019631822, 34.33825846489017, 361.07199394315575, 193.5429160807342, 356.90978815860745, 127.98805348936509, 15.608298809184117, 31.216597618368233, 147.75856567589335, 220.59728839022202, 245.57057516239752, 171.69128364696994, 33.29770484938285, 22.892173033050188, 509.8711110651862, 85.32536610041642, 411.0185327775831, 12.486639047347293, 272.6249648268472, 41.62213160407113, 1.0405532765432142, 74.91983428408376, 19.77051218652825, 344.4231360950388, 7.283873139180959, 31.216597618368233, 48.90600474325208, 12.486639047347293, 303.84154292088334, 7.283873139180959, 577.5070765488294, 243.48947227012334, 218.51618549794784, 663.7339029635792, 164.40742352401034, 157.12354604608893, 237.22876310091888, 147.75856567589335, 120.70417601144368, 115.50141010327734, 108.21754130283684, 92.60924357833784, 89.48758056244567, 88.44702911630858, 85.32536610041642, 612.4977622434747, 6939.994235388268, 5376.466384930283, 220.6287121386515, 595.62493961866, 1358.4488412297128, 1266.2450262281045, 686.4130215879322, 668.2701213602302, 1015.1770371607998, 560.7977906421995, 801.384595729668, 4608.705600581418, 599.0785661414047, 608.528810679234, 899.1951352031399, 3486.3200876885426, 726.0497035316015, 496.45416828845146, 1438.8272787963979, 68.92254149918362, 664.7690263805735, 289.0300174628996, 58.91765720708969, 16.674808948294007, 58.91765720708969, 13.339847158635207, 61.14096291309728, 98.93719868299532, 44.46615719545069, 244.56385165238913, 7.781577509203871, 17.786462878180277, 31.126310036815482, 104.49546294801429, 128.95185155927712, 382.4089260356966, 125.61689300026572, 30.014655030046743, 25.568039310501675, 131.1751572652847, 17.786462878180277, 92.26727294991277, 251.23378600053144, 44.46615719545069, 220.10747165618608, 46.68946290145828, 1.1116539298862673, 40.01954147590562, 53.35938863454083, 574.7250763667878, 456.8897361074291, 413.53524038004196, 410.20028182103056, 396.860447584985, 339.05443030830946, 273.4668602907269, 237.89393453436637, 233.44732312235118, 210.10257874903238, 208.99092589602859, 205.6559673370172, 203.4326616310096, 273.4371838232164, 164.52477731563766, 161.18981875662627, 151.18492584947256, 142.29170302544222, 133.39847158635206, 120.05862012018697, 120.05862012018697, 302.096357987196, 2104.537481957436, 575.3043819165838, 188.3709999386672, 2486.68372442674, 908.0973329682674, 1237.5420563456141, 495.31322298603794, 451.1970555734962, 713.2591674605662, 711.1447255648775, 1438.8272787963979, 359.33860581558605, 408.6007054676985, 807.744412587238, 576.8917882568999, 821.0489491773902, 1845.418924673792, 392.86823496822865, 439.58772228467325, 320.6654377704148, 7.432642782141151, 38.22502063577783, 523.4703913115982, 4.247224216936191, 109.36603042865481, 174.13619128437256, 216.60844311380208, 33.97779373548953, 8.494448433872382, 115.73686648572388, 47.78127472138144, 10.618060810675688, 54.15211077845052, 7.432642782141151, 79.6354593000902, 7.432642782141151, 88.12990451394005, 80.69725958511721, 20.174314896279302, 2.1236121084680954, 36.10140718563368, 283.5022217130274, 417.2897789114779, 248.46262339914747, 158.20910114169988, 1.0618060542340477, 664.690619199052, 701.7765713038193, 451.2675941137844, 437.46412171461924, 291.9966583401505, 260.1424952282586, 235.7209512850093, 228.28831494291325, 220.85566142736363, 219.79386114233662, 431.2428122452209, 196.43411748411432, 191.12509888552577, 181.56884479992218, 170.95077325583802, 166.7035549422765, 155.02368311316533, 149.7146645145768, 361.07458310926074, 1490.7111385488727, 273.41664799051256, 217.8696408048126, 1178.5883404080885, 376.01391151794957, 440.6486972485244, 1532.589954917898, 899.1951352031399, 375.07702301481294, 506.5435092886703, 2104.537481957436, 1525.0852242271658, 6939.994235388268, 5376.466384930283, 865.2167790459295, 908.0973329682674, 740.4784601267058, 48.65233952707512, 48.65233952707512, 48.65233952707512, 97.30467905415024, 643.4023218051437, 464.67947731475164, 23.82971727599527, 4115.590615729335, 143.97120863105621, 282.9778881346201, 456.736237514075, 64.53881487635904, 149.92862997742492, 423.97036908421444, 214.46744060171457, 77.44657955245862, 42.69490967656763, 4.964524343914236, 68.51043477669737, 731.770868839741, 71.48914970195112, 22.83681230091069, 471.62980788827434, 547.090568986425, 7.943238737659308, 304.8218060906197, 38.72328977622931, 125.10600985237976, 101.27629895448858, 5.957429318998818, 1529.1625076809873, 470.63689866112037, 594.9567324224479, 345.53088030460185, 231.34682943022185, 216.45325905602252, 189.6448289808082, 176.73706005263924, 176.73706005263924, 333.7538312660245, 172.76544015230093, 162.83639890559388, 130.07053897987205, 129.07762975271808, 122.1272991791954, 120.14148922902625, 405.35769860986795, 253.33016830815717, 182.8538445984854, 769.4526557313867, 627.0194122055807, 1281.5831651411597, 467.60874487681497, 2005.8013002471698, 546.3281209475183, 843.1350563879347, 588.1897882087449, 1293.4466163044945, 445.2964942885916, 345.3525008232368, 4608.705600581418, 893.0338081641704, 1079.6655128450861, 1134.3919024828328, 883.0175161838201, 1438.8272787963979, 781.5138900967114, 1557.810738615791, 139.81691084191482, 28.172063999489417, 17.737966144122417, 11.477507010899258, 63.64799628773425, 21.911604866266256, 261.8958534396924, 137.7300925308503, 599.9605878333285, 36.519341443777094, 43.82320973253251, 36.519341443777094, 234.76719019567605, 69.90845542095741, 70.95186457648967, 22.955014021798515, 21.911604866266256, 45.91002804359703, 17.737966144122417, 68.86504626542515, 28.172063999489417, 287.98111172820614, 21.911604866266256, 28.172063999489417, 49.04025971022342, 17.737966144122417, 28.172063999489417, 55.300718843446575, 1079.926283701577, 658.3915341433719, 593.7001917005496, 573.8753799451702, 827.4807571043374, 479.96849714685237, 438.2320973253251, 348.4988679492548, 256.6787950619423, 233.7237852401734, 190.94398046314356, 162.77192906374296, 147.12077073061104, 129.38281088653304, 122.07894259777761, 259.83535241686053, 114.77507430902219, 113.73166095346032, 307.8698112491735, 105.38438770920226, 101.21075108707322, 101.21075108707322, 145.01372417282002, 156.647946879139, 1346.6687093577264, 1240.032826192225, 174.22658694271504, 1069.0060198785447, 2794.326357525274, 327.2455084338737, 259.13527689672173, 518.0199149161147, 404.82304336851075, 1293.4466163044945, 432.4588267149799, 893.0338081641704, 893.5650217902556, 1134.3919024828328, 1438.8272787963979, 2203.2825359811827, 4863.1709529861355, 2233.792007729844, 1532.589954917898, 1266.2450262281045, 898.215801341752, 148.01636773045445, 750.807669070226, 841.9771290114328, 5.362911613769563, 282.08914934347587, 695.0333903414266, 710.0495397783752, 151.23410699470062, 72.9355958928619, 661.7833357680502, 84.73400606556427, 58.99203031947038, 138.36311706724953, 55.7742828376076, 28.959723227956676, 207.00838572349994, 80.44367882895278, 96.53240802065005, 790.4931693016283, 15.016152518554776, 682.1623675435092, 36.46779794643095, 172.68575139537472, 240.25844029687642, 289.59722406195016, 7.508076259277388, 136.21795755775207, 233.82294533315084, 72.9355958928619, 5.362911613769563, 238.11328078737895, 217.73421614145357, 245.66042968099077, 148.01636773045445, 140.5082930119802, 120.12922014843821, 108.33081819335243, 107.2582302209871, 106.18565046623837, 104.04049095674092, 100.82274347487815, 99.75015550251283, 223.02881483139572, 696.7797762222906, 1844.4835979820605, 142.50520195169187, 1495.0755905645506, 911.1631166803126, 135.0578596252503, 487.8157249263609, 3976.8867686993863, 422.0642181423491, 649.3937170127024, 317.17557187103705, 556.4655469730026, 315.6909479650856, 367.4785720611155, 2203.2825359811827, 1237.5420563456141, 2233.792007729844, 641.894590961318, 1569.614084379595, 711.1447255648775, 821.0489491773902, 807.744412587238, 10.626196629640713, 5.3130983148203565, 10.626196629640713, 5.3130983148203565, 42.50478651856285, 85.0095730371257, 5.3130983148203565, 5.3130983148203565, 42.50478651856285, 5.3130983148203565, 10.626196629640713, 10.626196629640713, 5.3130983148203565, 5.3130983148203565, 5.3130983148203565, 5.3130983148203565, 5.3130983148203565, 5.3130983148203565, 5.3130983148203565, 5.3130983148203565, 5.3130983148203565, 5.3130983148203565, 10.626196629640713, 10.626196629640713, 5.3130983148203565, 5.3130983148203565, 5.3130983148203565, 5.3130983148203565, 5.3130983148203565, 5.3130983148203565, 3423.759648283427, 925.5416785413058, 880.9117082451783, 834.1564092627118, 826.7180808800239, 775.7123177365786, 555.7500728620513, 334.72519584630436, 329.41209954410584, 312.41017849629077, 293.2830253679862, 266.71752775601885, 255.02871911137714, 250.77823884942336, 226.33798941892033, 207.2108362906158, 197.64725972646352, 194.45939550475447, 177.45747445693937, 176.39485841669463, 167.8938978927871, 164.70604977205292, 159.39293736887953, 154.07984106668104, 144.51626450252877, 141.3284163817946, 125.38911942471168, 121.1386391627579, 110.51243850787347, 106.26196629640714, 172.14356816873018, 713.5017230026492, 157.28763785340848, 170.02543488499356, 250.65570025201146, 727.0543676817616, 1475.2546733707868, 441.4170110541851, 638.180221443753, 1320.20942727407, 1141.346078176498, 3976.8867686993863, 328.9257640559212, 668.2701213602302, 242.30955237950548, 355.8653148571475, 1281.5831651411597, 787.9805385081423, 1069.0060198785447, 9.737788094332412, 11.901740115447941, 67.08253665045659, 106.03368502847371, 576.693443587759, 368.9539535771675, 1130.6652889713355, 1737.654068853337, 119.01740515379194, 258.59236450646273, 64.91858462934105, 4.327905541973258, 169.8703036455383, 8.655811083946515, 325.6748971576068, 96.29590293311009, 16.229646157335264, 27.049410262225443, 45.44300844067624, 162.2964695719777, 103.8697370066707, 68.16451466067062, 2.163952770986629, 95.21392092358353, 18.393598178450794, 8.655811083946515, 1.0819763854933144, 164.4604175937807, 27.049410262225443, 96.29590293311009, 1336.2408309601242, 1163.2136610360856, 373.2818496207735, 307.28129098053097, 307.28129098053097, 253.18247845470512, 239.1167843184854, 239.1167843184854, 203.41156197248532, 180.69005975180346, 169.8703036455383, 168.78831363738672, 147.14878542760636, 138.49297734314425, 137.41100333224273, 116.85344913336388, 106.03368502847371, 101.70578098624266, 140.6375710421676, 125.45045951426653, 1743.3159222682375, 176.90970697543864, 501.5682220770053, 707.4973004905596, 170.83613547093404, 1525.0852242271658, 787.9805385081423, 1141.346078176498, 664.1680997432331, 865.2167790459295, 443.0109379127291, 1320.20942727407, 384.9271202236695, 2233.792007729844, 405.0820829438509, 883.0175161838201, 1418.5982927739356, 893.5650217902556, 1532.589954917898, 1475.2546733707868], \"Category\": [\"Default\", \"Default\", \"Default\", \"Default\", \"Default\", \"Default\", \"Default\", \"Default\", \"Default\", \"Default\", \"Default\", \"Default\", \"Default\", \"Default\", \"Default\", \"Default\", \"Default\", \"Default\", \"Default\", \"Default\", \"Default\", \"Default\", \"Default\", \"Default\", \"Default\", \"Default\", \"Default\", \"Default\", \"Default\", \"Default\", \"Topic1\", \"Topic1\", \"Topic1\", \"Topic1\", \"Topic1\", \"Topic1\", \"Topic1\", \"Topic1\", \"Topic1\", \"Topic1\", \"Topic1\", \"Topic1\", \"Topic1\", \"Topic1\", \"Topic1\", \"Topic1\", \"Topic1\", \"Topic1\", \"Topic1\", \"Topic1\", \"Topic1\", \"Topic1\", \"Topic1\", \"Topic1\", \"Topic1\", \"Topic1\", \"Topic1\", \"Topic1\", \"Topic1\", \"Topic1\", \"Topic1\", \"Topic1\", \"Topic1\", \"Topic1\", \"Topic1\", \"Topic1\", \"Topic1\", \"Topic1\", \"Topic1\", \"Topic1\", \"Topic1\", \"Topic1\", \"Topic1\", \"Topic1\", \"Topic1\", \"Topic1\", \"Topic1\", \"Topic1\", \"Topic1\", \"Topic1\", \"Topic1\", \"Topic1\", \"Topic1\", \"Topic1\", \"Topic1\", \"Topic1\", \"Topic1\", \"Topic1\", \"Topic1\", \"Topic1\", \"Topic1\", \"Topic1\", \"Topic1\", \"Topic1\", \"Topic1\", \"Topic1\", \"Topic1\", \"Topic1\", \"Topic1\", \"Topic1\", \"Topic1\", \"Topic1\", \"Topic1\", \"Topic1\", \"Topic1\", \"Topic1\", \"Topic1\", \"Topic1\", \"Topic1\", \"Topic1\", \"Topic1\", \"Topic2\", \"Topic2\", \"Topic2\", \"Topic2\", \"Topic2\", \"Topic2\", \"Topic2\", \"Topic2\", \"Topic2\", \"Topic2\", \"Topic2\", \"Topic2\", \"Topic2\", \"Topic2\", \"Topic2\", \"Topic2\", \"Topic2\", \"Topic2\", \"Topic2\", \"Topic2\", \"Topic2\", \"Topic2\", \"Topic2\", \"Topic2\", \"Topic2\", \"Topic2\", \"Topic2\", \"Topic2\", \"Topic2\", \"Topic2\", \"Topic2\", \"Topic2\", \"Topic2\", \"Topic2\", \"Topic2\", \"Topic2\", \"Topic2\", \"Topic2\", \"Topic2\", \"Topic2\", \"Topic2\", \"Topic2\", \"Topic2\", \"Topic2\", \"Topic2\", \"Topic2\", \"Topic2\", \"Topic2\", \"Topic2\", \"Topic2\", \"Topic2\", \"Topic2\", \"Topic2\", \"Topic2\", \"Topic2\", \"Topic2\", \"Topic2\", \"Topic2\", \"Topic2\", \"Topic2\", \"Topic2\", \"Topic2\", \"Topic2\", \"Topic2\", \"Topic2\", \"Topic2\", \"Topic2\", \"Topic2\", \"Topic2\", \"Topic3\", \"Topic3\", \"Topic3\", \"Topic3\", \"Topic3\", \"Topic3\", \"Topic3\", \"Topic3\", \"Topic3\", \"Topic3\", \"Topic3\", \"Topic3\", \"Topic3\", \"Topic3\", \"Topic3\", \"Topic3\", \"Topic3\", \"Topic3\", \"Topic3\", \"Topic3\", \"Topic3\", \"Topic3\", \"Topic3\", \"Topic3\", \"Topic3\", \"Topic3\", \"Topic3\", \"Topic3\", \"Topic3\", \"Topic3\", \"Topic3\", \"Topic3\", \"Topic3\", \"Topic3\", \"Topic3\", \"Topic3\", \"Topic3\", \"Topic3\", \"Topic3\", \"Topic3\", \"Topic3\", \"Topic3\", \"Topic3\", \"Topic3\", \"Topic3\", \"Topic3\", \"Topic3\", \"Topic3\", \"Topic3\", \"Topic3\", \"Topic3\", \"Topic3\", \"Topic3\", \"Topic3\", \"Topic3\", \"Topic3\", \"Topic3\", \"Topic3\", \"Topic3\", \"Topic3\", \"Topic3\", \"Topic3\", \"Topic3\", \"Topic3\", \"Topic3\", \"Topic4\", \"Topic4\", \"Topic4\", \"Topic4\", \"Topic4\", \"Topic4\", \"Topic4\", \"Topic4\", \"Topic4\", \"Topic4\", \"Topic4\", \"Topic4\", \"Topic4\", \"Topic4\", \"Topic4\", \"Topic4\", \"Topic4\", \"Topic4\", \"Topic4\", \"Topic4\", \"Topic4\", \"Topic4\", \"Topic4\", \"Topic4\", \"Topic4\", \"Topic4\", \"Topic4\", \"Topic4\", \"Topic4\", \"Topic4\", \"Topic4\", \"Topic4\", \"Topic4\", \"Topic4\", \"Topic4\", \"Topic4\", \"Topic4\", \"Topic4\", \"Topic4\", \"Topic4\", \"Topic4\", \"Topic4\", \"Topic4\", \"Topic4\", \"Topic4\", \"Topic4\", \"Topic4\", \"Topic4\", \"Topic4\", \"Topic4\", \"Topic4\", \"Topic4\", \"Topic4\", \"Topic4\", \"Topic4\", \"Topic4\", \"Topic4\", \"Topic4\", \"Topic4\", \"Topic4\", \"Topic4\", \"Topic4\", \"Topic4\", \"Topic4\", \"Topic4\", \"Topic4\", \"Topic4\", \"Topic4\", \"Topic5\", \"Topic5\", \"Topic5\", \"Topic5\", \"Topic5\", \"Topic5\", \"Topic5\", \"Topic5\", \"Topic5\", \"Topic5\", \"Topic5\", \"Topic5\", \"Topic5\", \"Topic5\", \"Topic5\", \"Topic5\", \"Topic5\", \"Topic5\", \"Topic5\", \"Topic5\", \"Topic5\", \"Topic5\", \"Topic5\", \"Topic5\", \"Topic5\", \"Topic5\", \"Topic5\", \"Topic5\", \"Topic5\", \"Topic5\", \"Topic5\", \"Topic5\", \"Topic5\", \"Topic5\", \"Topic5\", \"Topic5\", \"Topic5\", \"Topic5\", \"Topic5\", \"Topic5\", \"Topic5\", \"Topic5\", \"Topic5\", \"Topic5\", \"Topic5\", \"Topic5\", \"Topic5\", \"Topic5\", \"Topic5\", \"Topic5\", \"Topic5\", \"Topic5\", \"Topic5\", \"Topic5\", \"Topic5\", \"Topic5\", \"Topic5\", \"Topic5\", \"Topic5\", \"Topic5\", \"Topic5\", \"Topic5\", \"Topic5\", \"Topic5\", \"Topic5\", \"Topic5\", \"Topic6\", \"Topic6\", \"Topic6\", \"Topic6\", \"Topic6\", \"Topic6\", \"Topic6\", \"Topic6\", \"Topic6\", \"Topic6\", \"Topic6\", \"Topic6\", \"Topic6\", \"Topic6\", \"Topic6\", \"Topic6\", \"Topic6\", \"Topic6\", \"Topic6\", \"Topic6\", \"Topic6\", \"Topic6\", \"Topic6\", \"Topic6\", \"Topic6\", \"Topic6\", \"Topic6\", \"Topic6\", \"Topic6\", \"Topic6\", \"Topic6\", \"Topic6\", \"Topic6\", \"Topic6\", \"Topic6\", \"Topic6\", \"Topic6\", \"Topic6\", \"Topic6\", \"Topic6\", \"Topic6\", \"Topic6\", \"Topic6\", \"Topic6\", \"Topic6\", \"Topic6\", \"Topic6\", \"Topic6\", \"Topic6\", \"Topic6\", \"Topic6\", \"Topic6\", \"Topic6\", \"Topic6\", \"Topic6\", \"Topic6\", \"Topic6\", \"Topic6\", \"Topic6\", \"Topic6\", \"Topic6\", \"Topic6\", \"Topic6\", \"Topic6\", \"Topic6\", \"Topic6\", \"Topic7\", \"Topic7\", \"Topic7\", \"Topic7\", \"Topic7\", \"Topic7\", \"Topic7\", \"Topic7\", \"Topic7\", \"Topic7\", \"Topic7\", \"Topic7\", \"Topic7\", \"Topic7\", \"Topic7\", \"Topic7\", \"Topic7\", \"Topic7\", \"Topic7\", \"Topic7\", \"Topic7\", \"Topic7\", \"Topic7\", \"Topic7\", \"Topic7\", \"Topic7\", \"Topic7\", \"Topic7\", \"Topic7\", \"Topic7\", \"Topic7\", \"Topic7\", \"Topic7\", \"Topic7\", \"Topic7\", \"Topic7\", \"Topic7\", \"Topic7\", \"Topic7\", \"Topic7\", \"Topic7\", \"Topic7\", \"Topic7\", \"Topic7\", \"Topic7\", \"Topic7\", \"Topic7\", \"Topic7\", \"Topic7\", \"Topic7\", \"Topic7\", \"Topic7\", \"Topic7\", \"Topic7\", \"Topic7\", \"Topic7\", \"Topic7\", \"Topic7\", \"Topic7\", \"Topic7\", \"Topic7\", \"Topic7\", \"Topic7\", \"Topic7\", \"Topic7\", \"Topic7\", \"Topic7\", \"Topic7\", \"Topic7\", \"Topic7\", \"Topic7\", \"Topic7\", \"Topic7\", \"Topic7\", \"Topic7\", \"Topic8\", \"Topic8\", \"Topic8\", \"Topic8\", \"Topic8\", \"Topic8\", \"Topic8\", \"Topic8\", \"Topic8\", \"Topic8\", \"Topic8\", \"Topic8\", \"Topic8\", \"Topic8\", \"Topic8\", \"Topic8\", \"Topic8\", \"Topic8\", \"Topic8\", \"Topic8\", \"Topic8\", \"Topic8\", \"Topic8\", \"Topic8\", \"Topic8\", \"Topic8\", \"Topic8\", \"Topic8\", \"Topic8\", \"Topic8\", \"Topic8\", \"Topic8\", \"Topic8\", \"Topic8\", \"Topic8\", \"Topic8\", \"Topic8\", \"Topic8\", \"Topic8\", \"Topic8\", \"Topic8\", \"Topic8\", \"Topic8\", \"Topic8\", \"Topic8\", \"Topic8\", \"Topic8\", \"Topic8\", \"Topic8\", \"Topic8\", \"Topic8\", \"Topic8\", \"Topic8\", \"Topic8\", \"Topic8\", \"Topic8\", \"Topic8\", \"Topic8\", \"Topic8\", \"Topic8\", \"Topic8\", \"Topic8\", \"Topic8\", \"Topic8\", \"Topic8\", \"Topic9\", \"Topic9\", \"Topic9\", \"Topic9\", \"Topic9\", \"Topic9\", \"Topic9\", \"Topic9\", \"Topic9\", \"Topic9\", \"Topic9\", \"Topic9\", \"Topic9\", \"Topic9\", \"Topic9\", \"Topic9\", \"Topic9\", \"Topic9\", \"Topic9\", \"Topic9\", \"Topic9\", \"Topic9\", \"Topic9\", \"Topic9\", \"Topic9\", \"Topic9\", \"Topic9\", \"Topic9\", \"Topic9\", \"Topic9\", \"Topic9\", \"Topic9\", \"Topic9\", \"Topic9\", \"Topic9\", \"Topic9\", \"Topic9\", \"Topic9\", \"Topic9\", \"Topic9\", \"Topic9\", \"Topic9\", \"Topic9\", \"Topic9\", \"Topic9\", \"Topic9\", \"Topic9\", \"Topic9\", \"Topic9\", \"Topic9\", \"Topic9\", \"Topic9\", \"Topic9\", \"Topic9\", \"Topic9\", \"Topic9\", \"Topic9\", \"Topic9\", \"Topic9\", \"Topic9\", \"Topic9\", \"Topic9\", \"Topic9\", \"Topic9\", \"Topic9\", \"Topic9\", \"Topic9\", \"Topic9\", \"Topic9\", \"Topic9\", \"Topic9\", \"Topic9\", \"Topic9\", \"Topic9\", \"Topic9\", \"Topic9\", \"Topic9\", \"Topic9\", \"Topic9\", \"Topic10\", \"Topic10\", \"Topic10\", \"Topic10\", \"Topic10\", \"Topic10\", \"Topic10\", \"Topic10\", \"Topic10\", \"Topic10\", \"Topic10\", \"Topic10\", \"Topic10\", \"Topic10\", \"Topic10\", \"Topic10\", \"Topic10\", \"Topic10\", \"Topic10\", \"Topic10\", \"Topic10\", \"Topic10\", \"Topic10\", \"Topic10\", \"Topic10\", \"Topic10\", \"Topic10\", \"Topic10\", \"Topic10\", \"Topic10\", \"Topic10\", \"Topic10\", \"Topic10\", \"Topic10\", \"Topic10\", \"Topic10\", \"Topic10\", \"Topic10\", \"Topic10\", \"Topic10\", \"Topic10\", \"Topic10\", \"Topic10\", \"Topic10\", \"Topic10\", \"Topic10\", \"Topic10\", \"Topic10\", \"Topic10\", \"Topic10\", \"Topic10\", \"Topic10\", \"Topic10\", \"Topic10\", \"Topic10\", \"Topic10\", \"Topic10\", \"Topic10\", \"Topic10\", \"Topic10\", \"Topic10\", \"Topic10\", \"Topic10\", \"Topic10\", \"Topic10\", \"Topic10\", \"Topic10\", \"Topic10\", \"Topic10\", \"Topic10\"], \"logprob\": [30.0, 29.0, 28.0, 27.0, 26.0, 25.0, 24.0, 23.0, 22.0, 21.0, 20.0, 19.0, 18.0, 17.0, 16.0, 15.0, 14.0, 13.0, 12.0, 11.0, 10.0, 9.0, 8.0, 7.0, 6.0, 5.0, 4.0, 3.0, 2.0, 1.0, -5.8301, -10.4745, -9.0882, -7.9896, -4.8985, -5.8593, -10.4745, -6.4491, -5.9312, -5.276, -10.4745, -7.2556, -7.9095, -10.4745, -9.3759, -7.9095, -5.8301, -9.0882, -4.326, -5.8895, -7.2964, -9.0882, -5.8895, -5.5917, -7.8354, -6.3969, -7.2964, -7.9896, -6.3473, -5.756, -4.1394, -3.9494, -5.2015, -5.4119, -5.4977, -5.5047, -5.5618, -5.6069, -5.7038, -5.7209, -5.7923, -5.8495, -5.8693, -6.0318, -6.0318, -6.0677, -6.0924, -6.1437, -6.1437, -4.7411, -5.5917, -5.2274, -4.7315, -5.5328, -3.5849, -4.6784, -3.7824, -5.0064, -4.8947, -5.0234, -4.1046, -2.5475, -3.6361, -4.5995, -4.3476, -4.7774, -3.4579, -4.957, -4.6937, -4.1341, -4.4342, -4.774, -4.5058, -3.9134, -4.3498, -4.6999, -4.413, -4.8504, -4.8046, -4.8397, -4.9099, -4.9824, -7.0698, -7.6706, -5.3505, -3.86, -4.7934, -3.0655, -2.6433, -5.7764, -5.5766, -6.6752, -6.9203, -8.3066, -5.5622, -8.3066, -2.8826, -8.8944, -5.1102, -5.8499, -7.208, -6.572, -5.2943, -9.4052, -8.0189, -8.7121, -6.5148, -7.7312, -5.5912, -7.1716, -5.6676, -3.2989, -4.7324, -5.3505, -5.6363, -5.3221, -5.9189, -5.9712, -5.9712, -6.0379, -6.1731, -6.1998, -6.2553, -6.2697, -5.5551, -6.4095, -4.6122, -2.5065, -4.16, -5.993, -4.1322, -4.6661, -4.5377, -3.9456, -2.6417, -3.5714, -4.5403, -3.3453, -4.5074, -3.3132, -3.8574, -3.6665, -4.9432, -4.6459, -4.7802, -4.9985, -4.8584, -5.152, -4.8584, -5.0274, -4.1763, -6.9897, -4.6369, -5.2604, -4.6484, -5.674, -7.7781, -7.085, -5.5304, -5.1296, -5.0223, -5.3802, -7.0204, -7.3951, -4.2918, -6.0795, -4.5073, -8.0013, -4.9178, -6.7973, -10.4862, -6.2095, -7.5417, -4.6841, -8.5403, -7.085, -6.636, -8.0013, -4.8094, -8.5403, -4.1672, -5.0309, -5.1391, -4.0405, -5.4236, -5.4689, -5.0612, -5.5304, -5.7326, -5.7766, -5.8418, -5.9975, -6.0318, -6.0435, -6.0795, -4.1565, -1.813, -2.0921, -5.1829, -4.4412, -3.7732, -3.8385, -4.4507, -4.5278, -4.2557, -4.6514, -4.4317, -3.4155, -4.681, -4.6932, -4.6084, -4.4364, -4.8952, -4.9727, -5.0309, -6.2857, -4.0193, -4.8522, -6.4426, -7.7048, -6.4426, -7.928, -6.4055, -5.9242, -6.724, -5.0192, -8.467, -7.6403, -7.0807, -5.8696, -5.6593, -4.5722, -5.6855, -7.117, -7.2774, -5.6422, -7.6403, -5.994, -4.9923, -6.724, -5.1246, -6.6752, -10.4129, -6.8293, -6.5417, -4.1648, -4.3943, -4.494, -4.5021, -4.5351, -4.6926, -4.9075, -5.0469, -5.0658, -5.1711, -5.1764, -5.1925, -5.2034, -4.9116, -5.4156, -5.4361, -5.5002, -5.5608, -5.6254, -5.7307, -5.7307, -4.8331, -3.2109, -4.3679, -5.3566, -3.349, -4.2083, -4.0159, -4.7534, -4.8294, -4.5549, -4.6138, -4.4701, -5.0102, -5.0238, -4.9035, -4.9968, -4.9835, -2.995, -4.5419, -4.4296, -4.745, -8.5095, -6.8719, -4.2549, -9.0692, -5.8207, -5.3556, -5.1373, -6.9897, -8.376, -5.7641, -6.6488, -8.1529, -6.5236, -8.5095, -6.138, -8.5095, -6.0366, -6.1247, -7.511, -9.7623, -6.9291, -4.8682, -4.4816, -5.0001, -5.4515, -10.4554, -4.0161, -3.9647, -4.4034, -4.4344, -4.8387, -4.9542, -5.0528, -5.0848, -5.1179, -5.1227, -4.4565, -5.2351, -5.2625, -5.3138, -5.374, -5.3992, -5.4718, -5.5067, -4.6354, -3.2461, -4.938, -5.1521, -3.5896, -4.6594, -4.5528, -3.7244, -4.2469, -4.8207, -4.7092, -4.1769, -4.3373, -3.7596, -3.861, -4.6354, -4.6354, -4.7286, -6.6211, -6.6211, -6.6211, -5.9279, -4.039, -4.3644, -7.3348, -2.1832, -5.5361, -4.8604, -4.3816, -6.3385, -5.4956, -4.4561, -5.1376, -6.1562, -6.7517, -8.9034, -6.2788, -3.9103, -6.2362, -7.3774, -4.3496, -4.2011, -8.4334, -4.786, -6.8493, -5.6766, -5.8879, -8.7211, -3.174, -4.3517, -4.1226, -4.6607, -5.0618, -5.1284, -5.2606, -5.3311, -5.3311, -4.7017, -5.3538, -5.413, -5.6377, -5.6453, -5.7007, -5.7171, -4.5139, -4.9795, -5.3089, -4.0071, -4.2139, -3.5707, -4.4967, -3.3724, -4.4798, -4.2824, -4.5391, -4.039, -4.786, -4.9331, -3.9171, -4.5675, -4.5189, -4.5239, -4.6751, -4.6928, -3.8322, -3.1424, -5.5531, -7.1551, -7.6177, -8.053, -6.3401, -7.4064, -4.9255, -5.5681, -4.0966, -6.8956, -6.7133, -6.8956, -5.0348, -6.2463, -6.2314, -7.3599, -7.4064, -6.6668, -7.6177, -6.2613, -7.1551, -4.8305, -7.4064, -7.1551, -6.6008, -7.6177, -7.1551, -6.4807, -3.5098, -4.0036, -4.1071, -4.141, -3.7789, -4.3197, -4.4107, -4.6398, -4.9456, -5.0393, -5.2415, -5.4011, -5.5022, -5.6307, -5.6888, -4.9416, -5.7505, -5.7596, -4.7742, -5.8358, -5.8762, -5.8762, -5.5237, -5.4537, -3.4078, -3.5452, -5.382, -3.8046, -3.1939, -4.8903, -5.0757, -4.5816, -4.7845, -4.0164, -4.7915, -4.4348, -4.4397, -4.3872, -4.4131, -4.3484, -4.1743, -4.3872, -4.6398, -4.7112, -4.7742, -5.4742, -3.8503, -3.7357, -8.792, -4.8293, -3.9275, -3.9061, -5.4527, -6.1819, -3.9765, -6.032, -6.3941, -5.5416, -6.4502, -7.1056, -5.1387, -6.0839, -5.9016, -3.7988, -7.7624, -3.9462, -6.875, -5.32, -4.9898, -4.803, -8.4555, -5.5572, -5.0169, -6.1819, -8.792, -4.9987, -5.0882, -4.9721, -5.4742, -5.5262, -5.6829, -5.7863, -5.7962, -5.8063, -5.8267, -5.8581, -5.8688, -5.0784, -3.983, -3.0684, -5.5339, -3.3706, -3.8291, -5.5892, -4.4745, -2.6809, -4.6176, -4.3146, -4.892, -4.4879, -4.9249, -4.8217, -3.6445, -4.1285, -3.8125, -4.6023, -4.3033, -4.63, -4.6176, -4.9291, -8.0876, -8.7808, -8.0876, -8.7808, -6.7013, -6.0082, -8.7808, -8.7808, -6.7013, -8.7808, -8.0876, -8.0876, -8.7808, -8.7808, -8.7808, -8.7808, -8.7808, -8.7808, -8.7808, -8.7808, -8.7808, -8.7808, -8.0876, -8.0876, -8.7808, -8.7808, -8.7808, -8.7808, -8.7808, -8.7808, -2.3127, -3.6206, -3.67, -3.7245, -3.7335, -3.7972, -4.1306, -4.6376, -4.6536, -4.7066, -4.7698, -4.8647, -4.9096, -4.9264, -5.0289, -5.1172, -5.1644, -5.1807, -5.2722, -5.2782, -5.3276, -5.3468, -5.3796, -5.4135, -5.4775, -5.4998, -5.6195, -5.654, -5.7458, -5.785, -5.3088, -3.9194, -5.4066, -5.3339, -4.9966, -4.073, -3.832, -4.7518, -4.6536, -4.2944, -4.4138, -4.0446, -5.077, -4.8768, -5.1862, -5.107, -4.9179, -5.0527, -5.0623, -8.1685, -7.9678, -6.2385, -5.7807, -4.0872, -4.5338, -3.4139, -2.9842, -5.6652, -4.8892, -6.2713, -8.9794, -5.3094, -8.2862, -4.6586, -5.877, -7.6576, -7.1468, -6.628, -5.355, -5.8013, -6.2225, -9.6725, -5.8883, -7.5325, -8.2862, -10.3657, -5.3418, -7.1468, -5.877, -3.2469, -3.3884, -4.5221, -4.7167, -4.7167, -4.9104, -4.9675, -4.9675, -5.1292, -5.2477, -5.3094, -5.3158, -5.453, -5.5136, -5.5215, -5.6835, -5.7807, -5.8224, -5.5059, -5.6207, -3.1279, -5.3031, -4.3667, -4.0686, -5.3418, -3.4946, -4.1042, -3.8689, -4.2949, -4.2172, -4.7489, -4.1176, -4.8934, -3.9975, -4.8976, -4.5426, -4.3919, -4.6652, -4.7599, -4.8563], \"loglift\": [30.0, 29.0, 28.0, 27.0, 26.0, 25.0, 24.0, 23.0, 22.0, 21.0, 20.0, 19.0, 18.0, 17.0, 16.0, 15.0, 14.0, 13.0, 12.0, 11.0, 10.0, 9.0, 8.0, 7.0, 6.0, 5.0, 4.0, 3.0, 2.0, 1.0, 2.2649, 2.2649, 2.2649, 2.2649, 2.2649, 2.2649, 2.2649, 2.2649, 2.2649, 2.2649, 2.2649, 2.2649, 2.2649, 2.2649, 2.2649, 2.2649, 2.2649, 2.2649, 2.2649, 2.2649, 2.2649, 2.2649, 2.2649, 2.2649, 2.2649, 2.2649, 2.2649, 2.2649, 2.2649, 2.2649, 2.2649, 2.2621, 2.2649, 2.2649, 2.2649, 2.2649, 2.2649, 2.2649, 2.2649, 2.2649, 2.2649, 2.2649, 2.2649, 2.2649, 2.2649, 2.2649, 2.2649, 2.2649, 2.2649, 2.2466, 2.2575, 2.2493, 2.2341, 2.2513, 2.1506, 2.1992, 2.1288, 2.2059, 2.1928, 2.1805, 2.0764, 1.7651, 1.9086, 1.9645, 1.8387, 1.9673, 1.5255, 2.0154, 1.9127, 1.6836, 1.7802, 1.9211, 1.8003, 1.2848, 1.5295, 1.765, 1.0925, 1.6388, 1.5389, 1.6047, 1.1979, 2.2753, 2.2753, 2.2753, 2.2753, 2.2753, 2.2753, 2.2753, 2.2753, 2.2753, 2.2753, 2.2753, 2.2753, 2.2753, 2.2753, 2.2753, 2.2753, 2.2753, 2.2753, 2.2753, 2.2753, 2.2753, 2.2753, 2.2753, 2.2753, 2.2753, 2.2753, 2.2753, 2.2753, 2.2753, 2.2753, 2.2746, 2.2721, 2.2753, 2.2753, 2.2696, 2.2753, 2.2753, 2.2753, 2.2753, 2.2753, 2.2753, 2.2753, 2.2753, 2.268, 2.2753, 2.2385, 2.139, 2.1781, 2.2642, 2.1003, 2.1454, 2.1095, 1.9925, 1.7246, 1.8721, 2.0199, 1.5214, 1.8393, 0.9995, 1.2469, 0.8473, 1.7426, 1.4698, 1.5556, 1.4997, 0.9098, 1.6969, 0.2322, 0.9743, 2.2761, 2.2761, 2.2761, 2.2761, 2.2761, 2.2761, 2.2761, 2.2761, 2.2761, 2.2761, 2.2761, 2.2761, 2.2761, 2.2761, 2.2761, 2.2761, 2.2761, 2.2761, 2.2761, 2.2761, 2.2761, 2.2761, 2.2761, 2.2761, 2.2761, 2.2761, 2.2761, 2.2761, 2.2761, 2.2761, 2.2761, 2.2761, 2.2761, 2.2637, 2.2761, 2.2761, 2.2718, 2.2761, 2.2761, 2.2761, 2.2761, 2.2761, 2.2761, 2.2761, 2.2761, 2.2281, 2.144, 2.1202, 2.2227, 1.9713, 1.8148, 1.8198, 1.8199, 1.7696, 1.6236, 1.8213, 1.684, 0.9509, 1.7256, 1.6979, 1.3921, 0.209, 1.3193, 1.6218, 0.4996, 2.2834, 2.2834, 2.2834, 2.2834, 2.2834, 2.2834, 2.2834, 2.2834, 2.2834, 2.2834, 2.2834, 2.2834, 2.2834, 2.2834, 2.2834, 2.2834, 2.2834, 2.2834, 2.2834, 2.2834, 2.2834, 2.2834, 2.2834, 2.2834, 2.2834, 2.2834, 2.2834, 2.2834, 2.2834, 2.2834, 2.2834, 2.2834, 2.2834, 2.2834, 2.2834, 2.2834, 2.2834, 2.2834, 2.2834, 2.2834, 2.2834, 2.2834, 2.2834, 2.2794, 2.2834, 2.2834, 2.2834, 2.2834, 2.2834, 2.2834, 2.2834, 2.2582, 1.9393, 2.0793, 2.207, 1.6344, 1.7824, 1.6653, 1.8435, 1.8608, 1.6773, 1.6214, 1.0604, 1.9076, 1.7655, 1.2044, 1.4477, 1.108, 2.2867, 2.2867, 2.2867, 2.2867, 2.2867, 2.2867, 2.2867, 2.2867, 2.2867, 2.2867, 2.2867, 2.2867, 2.2867, 2.2867, 2.2867, 2.2867, 2.2867, 2.2867, 2.2867, 2.2867, 2.2867, 2.2867, 2.2867, 2.2867, 2.2867, 2.2867, 2.2867, 2.2867, 2.2867, 2.2867, 2.2867, 2.2837, 2.2867, 2.2867, 2.2867, 2.2867, 2.2867, 2.2867, 2.2867, 2.2867, 2.2789, 2.2867, 2.2867, 2.2867, 2.2867, 2.2867, 2.2867, 2.2867, 2.2776, 2.249, 2.2531, 2.266, 2.1404, 2.2131, 2.161, 1.7429, 1.7537, 2.0543, 1.8652, 0.9733, 1.1349, 0.1974, 0.3513, 1.4037, 1.3554, 1.4662, 2.2963, 2.2963, 2.2963, 2.2963, 2.2963, 2.2963, 2.2963, 2.2963, 2.2963, 2.2963, 2.2963, 2.2963, 2.2963, 2.2963, 2.2963, 2.2963, 2.2963, 2.2963, 2.2963, 2.2963, 2.2963, 2.2963, 2.2963, 2.2963, 2.2963, 2.2963, 2.2963, 2.2963, 2.2963, 2.2963, 2.2956, 2.2963, 2.291, 2.2963, 2.2963, 2.2963, 2.2963, 2.2963, 2.2963, 2.2899, 2.2963, 2.2963, 2.2963, 2.2963, 2.2963, 2.2963, 2.2834, 2.2879, 2.2845, 2.1493, 2.1472, 2.0755, 2.1577, 1.8259, 2.0191, 1.7826, 1.886, 1.598, 1.9173, 2.0244, 0.4493, 1.44, 1.2988, 1.2443, 1.3436, 0.8377, 2.3086, 2.3086, 2.3086, 2.3086, 2.3086, 2.3086, 2.3086, 2.3086, 2.3086, 2.3086, 2.3086, 2.3086, 2.3086, 2.3086, 2.3086, 2.3086, 2.3086, 2.3086, 2.3086, 2.3086, 2.3086, 2.3086, 2.3086, 2.3086, 2.3086, 2.3086, 2.3086, 2.3086, 2.3086, 2.3086, 2.3077, 2.3086, 2.3086, 2.3086, 2.3048, 2.3086, 2.3086, 2.3086, 2.3086, 2.3086, 2.3086, 2.3086, 2.3086, 2.3086, 2.3086, 2.3005, 2.3086, 2.3086, 2.2982, 2.3086, 2.3086, 2.3086, 2.3016, 2.2943, 2.1889, 2.134, 2.2597, 2.023, 1.6728, 2.1211, 2.1691, 1.9704, 2.0141, 1.6206, 1.9411, 1.5727, 1.5672, 1.3811, 1.1174, 0.756, 0.1383, 0.7035, 0.8276, 0.9471, 1.2275, 2.3306, 2.3306, 2.3306, 2.3306, 2.3306, 2.3306, 2.3306, 2.3306, 2.3306, 2.3306, 2.3306, 2.3306, 2.3306, 2.3306, 2.3306, 2.3306, 2.3306, 2.3306, 2.3306, 2.3306, 2.3306, 2.3306, 2.3306, 2.3306, 2.3306, 2.3306, 2.3306, 2.3306, 2.3306, 2.3306, 2.3306, 2.3306, 2.3261, 2.3306, 2.3306, 2.3306, 2.3306, 2.3306, 2.3306, 2.3306, 2.3306, 2.3306, 2.3164, 2.2726, 2.2137, 2.3088, 2.1216, 2.1582, 2.3071, 2.1377, 1.8329, 2.1393, 2.0114, 2.1506, 1.9926, 2.1224, 2.0737, 1.4599, 1.5527, 1.2781, 1.7353, 1.1402, 1.6052, 1.4739, 1.1787, 2.3511, 2.3511, 2.3511, 2.3511, 2.3511, 2.3511, 2.3511, 2.3511, 2.3511, 2.3511, 2.3511, 2.3511, 2.3511, 2.3511, 2.3511, 2.3511, 2.3511, 2.3511, 2.3511, 2.3511, 2.3511, 2.3511, 2.3511, 2.3511, 2.3511, 2.3511, 2.3511, 2.3511, 2.3511, 2.3511, 2.3508, 2.3511, 2.3511, 2.3511, 2.3511, 2.3511, 2.3511, 2.3511, 2.3511, 2.3511, 2.3511, 2.3511, 2.3511, 2.3511, 2.3511, 2.3511, 2.3511, 2.3511, 2.3511, 2.3511, 2.3511, 2.3511, 2.3511, 2.3511, 2.3511, 2.3511, 2.3511, 2.3511, 2.3511, 2.3511, 2.345, 2.3125, 2.3374, 2.3322, 2.2814, 2.14, 1.6735, 1.9602, 1.6898, 1.3222, 1.3483, 0.4693, 1.9293, 1.4206, 2.1257, 1.8205, 0.7283, 1.0799, 0.7653, 2.3576, 2.3576, 2.3576, 2.3576, 2.3576, 2.3576, 2.3576, 2.3576, 2.3576, 2.3576, 2.3576, 2.3576, 2.3576, 2.3576, 2.3576, 2.3576, 2.3576, 2.3576, 2.3576, 2.3576, 2.3576, 2.3576, 2.3576, 2.3576, 2.3576, 2.3576, 2.3576, 2.3576, 2.3576, 2.3576, 2.3576, 2.3547, 2.3576, 2.3576, 2.3576, 2.3576, 2.3576, 2.3576, 2.3576, 2.3576, 2.3576, 2.3576, 2.3576, 2.3576, 2.3576, 2.3576, 2.3576, 2.3576, 2.35, 2.3494, 2.2106, 2.3233, 2.2176, 2.1718, 2.3196, 1.9777, 2.0284, 1.8932, 2.0086, 1.8219, 1.9596, 1.4989, 1.9556, 1.0931, 1.9004, 1.4761, 1.1528, 1.3416, 0.7075, 0.6492]}, \"token.table\": {\"Topic\": [3, 3, 5, 7, 4, 6, 6, 8, 1, 6, 5, 2, 2, 4, 7, 8, 10, 2, 3, 10, 1, 3, 9, 1, 7, 3, 7, 5, 5, 8, 4, 1, 5, 6, 10, 7, 1, 10, 2, 9, 9, 8, 8, 4, 6, 2, 2, 3, 6, 6, 7, 10, 6, 5, 10, 6, 2, 2, 3, 3, 7, 8, 8, 6, 8, 3, 5, 7, 8, 4, 3, 9, 1, 1, 2, 2, 8, 6, 8, 8, 8, 5, 7, 8, 6, 10, 10, 7, 2, 5, 7, 9, 8, 7, 8, 1, 2, 1, 7, 8, 9, 1, 6, 10, 1, 10, 4, 5, 2, 7, 4, 6, 1, 5, 3, 5, 1, 5, 3, 7, 9, 1, 3, 5, 5, 2, 8, 2, 4, 8, 9, 1, 9, 9, 1, 6, 3, 2, 3, 6, 10, 6, 8, 1, 2, 2, 9, 5, 8, 6, 10, 6, 8, 4, 6, 10, 9, 9, 1, 6, 7, 7, 1, 4, 1, 6, 10, 6, 7, 3, 6, 8, 9, 3, 1, 4, 6, 10, 6, 10, 3, 2, 4, 8, 9, 5, 8, 2, 4, 1, 6, 4, 4, 1, 6, 10, 10, 10, 9, 1, 3, 2, 5, 6, 1, 2, 7, 9, 9, 6, 3, 5, 5, 2, 9, 8, 7, 8, 4, 5, 1, 4, 5, 5, 1, 8, 1, 4, 5, 10, 10, 9, 3, 1, 3, 5, 7, 9, 9, 1, 2, 2, 9, 6, 6, 2, 1, 1, 5, 9, 3, 7, 1, 7, 10, 1, 1, 7, 2, 3, 1, 3, 1, 9, 8, 5, 4, 5, 3, 7, 8, 9, 7, 4, 5, 7, 7, 7, 5, 4, 5, 6, 7, 4, 10, 5, 7, 10, 8, 2, 5, 7, 7, 5, 5, 3, 1, 1, 2, 10, 5, 10, 7, 8, 7, 10, 10, 2, 9, 2, 3, 1, 9, 9, 7, 7, 7, 1, 2, 4, 6, 9, 4, 7, 6, 9, 7, 3, 9, 6, 10, 1, 4, 6, 5, 1, 6, 10, 1, 3, 7, 1, 4, 7, 1, 7, 6, 9, 8, 3, 1, 4, 1, 4, 8, 2, 6, 6, 10, 10, 6, 10, 4, 4, 1, 10, 5, 3, 8, 5, 10, 1, 4, 5, 4, 5, 10, 4, 7, 8, 7, 3, 5, 2, 5, 6, 7, 10, 2, 6, 3, 5, 2, 7, 1, 9, 1, 9, 10, 2, 7, 8, 9, 10, 1, 4, 5, 9, 4, 2, 6, 7, 2, 4, 4, 8, 10, 1, 9, 10, 2, 6, 7, 2, 5, 2, 7, 5, 9, 3, 7, 5, 1, 2, 10, 6, 7, 4, 8, 3, 7, 9, 6, 5, 7, 9, 6, 10, 4, 3, 9, 8, 9, 2, 8, 7, 4, 3, 7, 6, 5, 4, 4, 10, 8, 9, 10, 9, 4, 2, 3, 3, 3, 4, 6, 7, 7, 8, 9, 1, 5, 9, 1, 3, 7, 2, 5, 5, 10, 3, 1, 1, 2, 5, 1, 4, 1, 4, 6, 9, 10, 4, 5, 1, 4, 8, 3, 10, 5, 7, 2, 8, 9, 7, 1, 7, 4, 8, 5, 6, 9, 9, 8, 3, 3, 1, 2, 7, 8, 9, 7, 4, 8, 9, 7, 2, 7, 4, 4, 4, 10, 7, 6, 6, 2, 1, 9, 7, 2, 3, 2, 3, 2, 2, 3, 6, 2, 5, 10, 2, 3, 6, 7, 7, 5, 6, 6, 3, 1, 6, 9, 4, 1, 6, 10, 3, 9, 9, 1, 3, 2, 8, 8, 7, 8, 9, 7, 6, 4, 4, 10, 6, 6, 3, 4, 7, 9, 6, 3, 2, 2, 5, 6, 7, 7, 1, 1, 4, 5, 6, 4, 4, 8, 5, 9, 9, 1, 2, 9, 10, 3, 10, 9, 2, 1, 4, 5, 1, 7, 8, 9, 1, 4, 10, 9, 10, 4, 8, 2, 6, 3, 8, 9, 1, 2, 2, 2, 2, 3, 7, 10, 2, 3, 9, 2, 3, 10, 4, 8, 8, 9, 10, 5, 1, 2, 7, 5, 10, 1, 2, 7, 9, 2, 3, 9, 6, 1, 5, 9, 4, 1, 4, 4, 7, 4, 1, 1, 10, 1, 2, 8, 9, 10, 6, 8, 4, 7, 3, 4, 7, 8, 2, 4, 7, 4, 6, 9, 9, 6, 7, 8, 9, 3, 8, 7, 3, 1, 3, 5, 7, 10, 3, 1, 3, 10, 4, 5, 8, 10, 1, 7, 4, 5, 3, 5, 5, 6, 9, 9, 1, 2, 9, 5, 10, 8, 3, 3, 1, 2, 5, 5, 4, 2, 8, 9, 2, 5, 10, 7, 5, 5, 9, 10, 5, 10, 9, 1, 8, 9, 9, 4, 8, 1, 9, 4, 4, 10, 5, 10, 1, 3, 10, 9, 2, 8, 8, 9, 10, 1, 2, 10, 5, 4, 9, 1, 3, 6, 3, 8, 3, 2, 9, 2, 2, 8, 3, 6, 2, 10, 7, 2, 7, 10, 4, 5, 9, 7, 10, 1, 10, 1, 2, 7, 9, 10, 8, 2, 6, 9, 8, 7, 7, 9, 4, 5, 6, 6, 8, 2, 8, 4, 8, 2, 7, 8, 5, 9, 3, 7, 1, 9, 6, 9, 8, 10, 4, 10, 4, 9, 1, 9, 6, 9, 8, 8, 1, 2, 2, 6, 3, 6, 3, 4, 6, 7, 3, 10, 8, 9, 9, 9, 7, 1, 3, 1, 10, 10, 1, 3, 4, 5, 1, 8, 5, 10, 5, 5, 10, 4, 9, 4, 3, 2, 10, 3, 4, 3, 5, 3, 4, 8, 5, 3, 4], \"Freq\": [0.9930614597716189, 0.9930614597716189, 0.2876337293405568, 0.7123278263534595, 0.24161304340524742, 0.7577863634073669, 0.8612173554571709, 0.13875168504587754, 0.872599949650244, 0.12712703229170222, 0.9971910461796615, 0.9998627763062112, 0.11414949949097516, 0.006714676440645598, 0.4767420272858375, 0.04028805864387359, 0.3625925277948623, 0.8725532720711453, 0.12649440926475183, 0.0008605061854745022, 0.42561666013956956, 0.5603678807242982, 0.014789768112958016, 0.9958601888317584, 0.0070628382186649534, 0.9949457983973579, 1.0040341697595063, 1.000653542552197, 1.0003353924294287, 0.9982516426143907, 1.0011238485861305, 1.0024325902796425, 0.9417915276137463, 0.9993746963734682, 1.0001990794099145, 1.0131617531209565, 0.9355897398450056, 0.06415472501794324, 0.9986031749543821, 0.9975347880817946, 0.9410704834979243, 0.9995242567445026, 0.9871723006933921, 1.0003516410261193, 0.9989576517285572, 0.9773562425352413, 0.18021394135863725, 0.1564121000471191, 0.663051293678005, 0.15890210456626516, 0.8281244295664972, 0.012223238812789626, 1.0071458587882527, 0.31604791151540573, 0.6838962068683987, 1.0005845838644736, 0.998603174954382, 0.8400953074547033, 0.1598845827209285, 0.0038485910046438727, 0.9929364791981192, 0.0038485910046438727, 0.9998894194560681, 0.9898616044822239, 0.010937697287096397, 1.0017980898416767, 0.10422927405928677, 0.18150270137910282, 0.713431410371325, 1.0011238694422535, 0.9979897600271591, 0.9410704834979243, 1.004310284346557, 1.001006625646354, 0.9965201370731493, 0.15803975969159353, 0.8417812200239739, 0.9988223116765556, 1.000757216818892, 1.001220680255297, 0.9998894194560681, 0.9913595630297487, 1.001959684076225, 0.9973756223844462, 1.0071458345964333, 1.001576363224472, 1.001254114998406, 1.0012513886781345, 0.0009354484272348767, 0.043030627652804326, 0.7511650870696059, 0.204863205564438, 1.0008830270919113, 0.9979177005919865, 0.9999594908995081, 1.002891764221481, 1.0052807751737198, 1.0000912424871213, 0.8873748916093384, 0.0007425731310538396, 0.11212854278912979, 0.20044902479958668, 0.3861758048398817, 0.4144878139923657, 1.014353407056577, 0.9242345890424047, 1.019501935687201, 0.9981380563691292, 0.9998242661471622, 1.0040341697595063, 1.001672855241876, 0.9991526398091919, 0.7083151184479556, 0.291790190304032, 0.8555805375987017, 0.1443327167775201, 1.003672167892038, 0.9986783241912701, 1.0016339785311414, 1.014772485963077, 1.0017846959984402, 0.9392161345788792, 0.8762255116858595, 0.12377531895052676, 0.9989390633618133, 0.9987192972353677, 0.994484602949398, 1.004505115863437, 0.004070659655275284, 0.9973116155424445, 0.9410704834979243, 1.001006625646354, 1.0116507697602686, 0.9968967050211616, 0.6534644856280066, 0.34681824134765105, 0.9992137012612184, 0.09790578486533509, 0.6301304649979461, 0.13250406974255877, 0.1391292732296867, 0.1729594617646061, 0.8268883856965416, 1.01748412395443, 1.0008128072218816, 0.999954159055175, 0.9410704834979243, 0.05597177376680634, 0.9429091119177376, 0.9972718300595409, 0.9992449415339646, 0.44867179760571546, 0.5514924178903586, 0.23454296640943845, 0.7615407427862014, 0.002895592177894302, 1.0008842918412462, 0.9990349752849449, 0.981924844744996, 0.011938295984741592, 0.005969147992370796, 0.9938923893012406, 0.703227421802113, 0.297597691545242, 0.37541106385124473, 0.6246879986794285, 1.000763502223039, 1.000069889119491, 1.0009916624385626, 0.9998006105586603, 0.9994576867257929, 0.9999519586513531, 0.9410704834979243, 1.0042194105746218, 0.4773425700824263, 0.5227846176134407, 0.13158728383288024, 0.8692735719869057, 1.001487746527426, 1.0009982434790972, 0.9610272191338248, 0.1985265314124205, 0.30814240765240725, 0.42506600897505986, 0.06820543410488066, 1.0017558179402082, 1.0002561653772293, 1.0030761576577982, 0.9987768234932582, 1.01748412395443, 1.0013576780604518, 0.9986647070303833, 0.9998961441335295, 1.0114635145163962, 1.007145813860589, 0.997976703150527, 0.9242345890424047, 0.9990845814932846, 0.998748984798445, 0.9967191854934319, 1.0022140900041325, 1.0088839064237065, 0.00504238348187958, 0.995030340424237, 0.6066001027968408, 0.2792416744400372, 0.11412307018720225, 1.0044118245756726, 0.9410704834979243, 0.9993985808937862, 0.6348099189055745, 0.36555065554955835, 0.9993454607152319, 0.9954486910595203, 0.0030349045459131716, 1.0040469756114947, 0.6913952994583263, 0.30754372852159667, 0.9895165846375773, 1.000937873590245, 0.006056773493576942, 0.6440369148170149, 0.34927393812960367, 1.0017782767609613, 0.8924020099452888, 0.10835091325339548, 0.8285082061300119, 0.1718288723324301, 0.3273056883949088, 0.6726696216667781, 1.026927255258327, 0.9410704834979243, 1.001375645012521, 0.18636598825087544, 0.22147842081988095, 0.44025588528829995, 0.14855259933040796, 0.002700956351461963, 1.0001002277004556, 0.9970010732198323, 0.002746559430357665, 0.9936455308147976, 1.0003410099845356, 1.0000994715725857, 1.0071458490213692, 1.0122618609825602, 1.01748412395443, 0.9392161345788792, 0.0002920765774260383, 0.9997781245293291, 0.04591721700104454, 0.9527822527716742, 0.12045143395313315, 0.17465457923204308, 0.704640888625829, 1.0114635145163962, 0.5348024157254315, 0.46591261302181664, 0.012053023002561586, 0.9883478862100501, 0.6156603298999133, 0.3842712126220935, 1.0024325902796425, 0.9988555331006185, 1.001819771475562, 1.0019058619698233, 0.018359602490847098, 0.9776488326376079, 0.7370409981171426, 0.2635886940874519, 1.0000271634320923, 0.9410704834979243, 1.0000655885786416, 1.0120055979247948, 1.001043337354694, 1.0019597451850286, 0.9963525175070245, 0.9970412539045178, 0.9417915276137463, 0.0718058539137617, 0.9281571487371418, 0.1312056019819744, 0.8682723660571836, 0.9995117016541185, 0.9981732839120927, 0.9417915276137463, 1.014772485963077, 0.9969271492961063, 0.9989243237550486, 0.9908583620288398, 0.006880960847422499, 0.9994053171660517, 1.0000656912595105, 0.9941132631968492, 0.9991013984374176, 0.9910592982090064, 1.001830533956995, 0.9860574948366115, 0.01323567107163237, 0.9858502055368921, 0.65542247390796, 0.3435045495782682, 0.022212702084308186, 0.9773588917095603, 1.0055304759426273, 0.9998197697940788, 1.0005315760316846, 1.0006266840296714, 0.9977615083555221, 0.4467268299236994, 0.5527932560229017, 0.9392161345788792, 0.9986870514326228, 1.0351775318477168, 1.0019597085197456, 0.9991791048265225, 1.0005049826556256, 0.516561348360354, 0.0502693929612425, 0.4333568358727802, 0.8629510796461533, 0.13646063759464772, 0.012767483007888323, 0.9830961916074009, 0.9985008247959307, 0.9410704834979243, 1.0131617531209565, 1.0023616670065834, 1.0004951926739987, 0.9992397749257204, 0.0006539527322812306, 0.5594325212892707, 0.0722445971201376, 0.3686326878694201, 0.9417915786149547, 1.0008313102620603, 0.03391560645585724, 0.9665947839919314, 0.10977338281363579, 0.6333687267376683, 0.2566643842764865, 0.9392161345788792, 0.9932647535187803, 1.0013094922279622, 0.25443215668491237, 0.7460049642606168, 1.0003131187233818, 0.9994818201646087, 1.0008830270919113, 1.0005215122250677, 0.07432141892625903, 0.9290177365782379, 0.34416827361213775, 0.34045422749402116, 0.31569392003991054, 0.9989156181718828, 1.0001999800461325, 1.0000781399052967, 0.9972004352140347, 1.0012540995778292, 0.9942337085118637, 1.0017153143267663, 1.0013975910926138, 0.9745239091127655, 1.0063029920776436, 0.9996823176666484, 0.9966531616149898, 1.0116075805880296, 0.9323293688380454, 1.0004654508308253, 1.0012541424127657, 0.003476420592064932, 0.8152206288392265, 0.18077387078737647, 0.9995117682531879, 1.002374610030443, 1.0082559259065422, 0.5947126295874937, 0.0024473770764917436, 0.401369840544646, 1.014772485963077, 0.11800783781886952, 0.8827894021450047, 0.9070718213566059, 0.001558542648379048, 0.001558542648379048, 0.08883693095760574, 0.9998537595928138, 0.9773562943830201, 1.007145813860589, 0.03689514257842036, 0.9632986316838479, 0.47059642709901545, 0.5296446479897664, 0.4841892456349561, 0.5155283553847915, 0.004380792202824566, 0.36711038659669865, 0.6282056018850428, 0.12982408344039198, 0.2010034947059862, 0.34918201752933015, 0.038051886525632135, 0.28247929879616324, 0.9986601798914516, 0.7089443703384588, 0.26894270349300786, 0.022332697993235635, 0.9976944603686134, 0.2556435737643047, 0.3490857076229816, 0.39580677455232, 0.977356288283281, 1.0006347594013238, 0.17629607986290785, 0.8240816756382436, 0.9996823176666484, 0.997917104435197, 0.9614552815837459, 0.03784153440635735, 0.09630094539958362, 0.4243960268190952, 0.4792651701281603, 0.0028499099026407116, 0.997468465924249, 0.8470781291671716, 0.1528562037594896, 0.005809104636542846, 0.9933568928488267, 0.6337292363622137, 0.36566905362509344, 0.9417915786149547, 0.20837166346606217, 0.486718885558787, 0.30478243312946407, 0.9867827880702855, 0.012334784850878569, 0.9765096208558173, 0.02648161683676793, 0.0009259891300843054, 0.9991422713609655, 0.9976762183416292, 1.000771510563478, 0.0012084873169732327, 0.9957935491859438, 0.0024169746339464653, 1.0005774941076728, 0.9995116013339748, 1.0002413358932296, 0.998771464368404, 0.9410704834979243, 1.0034994873076843, 1.0351775318477168, 0.7745430291859231, 0.22574620951147506, 1.0040341697595063, 1.0028884566331953, 0.9472928431393662, 0.049857518059966646, 0.9931577070927482, 0.9992179036226297, 0.9895165846375773, 0.0025790618701364556, 0.9972372564527628, 1.0017581005933052, 0.007110475476714315, 0.9954665667400041, 0.9410704834979243, 1.0017833720914355, 0.00421534044577298, 0.9948203452024232, 1.0043167429408597, 0.1688875402774358, 0.2946844324182419, 0.23282850202856376, 0.3037195683178578, 0.9938923893012406, 0.9989243237550486, 0.997637576196501, 0.7404350058053948, 0.013675580582157686, 0.24420679610995868, 0.9690673771825723, 0.029188776421161813, 0.9938923893012406, 1.0033037604641768, 1.0018076713934563, 0.9994522416334418, 0.9992792611249448, 1.0002527872868587, 1.0039896544137197, 0.941402853728183, 0.05603588415048708, 0.9993055691125868, 0.6068971880001289, 0.3928022616210747, 0.9970140199345254, 0.9988223899121516, 1.001487746527426, 0.035121375132141384, 0.9599842536118646, 0.6873739587189286, 0.314466628887607, 0.7419344327006367, 0.2527726142954851, 0.004680974338805279, 0.13652143995239654, 0.8632973408754487, 1.000937873590245, 1.0003976640291923, 0.6683171426909229, 0.3038963556373405, 0.02803236823489095, 0.9994703780787814, 0.7788615021447043, 0.22043250060699177, 1.0280691788442362, 0.9996108154011137, 0.005992440573381355, 0.9947451351813049, 1.0351775318477168, 1.0351775318477168, 0.9997619810894965, 0.9610272191338248, 1.0008535366425573, 0.012254442886498055, 0.35764818498372103, 0.2115026068558553, 0.4184665311611558, 0.9975347125077998, 1.0023594049738664, 0.16394705207985907, 0.8354994000223588, 0.9410704834979243, 1.0019597451850286, 0.9995689085138313, 1.0002171552556267, 1.0120055979247948, 0.9959420170053538, 1.0013975910926138, 0.9981733331061031, 1.0002933820522677, 1.007145812026807, 1.007145812026807, 0.977356328948209, 1.0063029920776436, 0.9989825035486074, 0.9993533479558575, 0.9877972490993618, 0.010621475796767331, 0.9936422746296255, 0.005459572937525415, 0.9999106296039615, 0.5765176234439453, 0.26580131302929355, 0.1577449425079971, 0.0011557797123429522, 0.4137691370187769, 0.5848245344455338, 0.9773562425352413, 0.961027171429721, 0.4971214056263991, 0.5025333027327519, 1.001181799959053, 1.0002879585931344, 1.007145812026807, 1.0010046960968535, 1.0019219573801086, 0.9964854251627921, 1.0071458177673422, 0.9410704834979243, 0.9971032746350068, 0.6279093279985345, 0.20829684438412924, 0.16301492169192722, 1.0010700199310674, 0.9974220614919752, 0.9985067048629881, 0.9187538369213968, 0.08150235650109165, 0.18689164317288312, 0.8109196720721709, 1.0001350975799013, 0.008967451140840034, 0.9864196254924036, 0.004483725570420017, 1.0040341697595063, 1.0071458567146683, 0.9995117375151548, 0.9952585219105562, 0.9969271492961063, 1.0013576780604518, 1.0006897715541485, 0.02216326519970183, 0.6560326499111742, 0.31471836583576596, 0.006648979559910549, 1.0007849209391222, 1.0018255510424299, 1.003771268921455, 0.010972265302967575, 0.9655593466611466, 0.02194453060593515, 1.0014011687246622, 1.001959684076225, 1.0013701472778023, 0.20529116761428234, 0.0026661190599257447, 0.7918373607979462, 1.0004760266440493, 0.9990694484040019, 0.5160693552335412, 0.48372713406086704, 1.004577617849055, 0.9998873887165446, 0.9410704834979243, 0.9991661211494026, 0.9999715916556492, 0.6773640174988566, 0.3239567040211923, 0.961027171429721, 0.9995116013339748, 0.9410704834979243, 0.9997780113343845, 0.9955690847036774, 0.6056619483753282, 0.39423086821521364, 0.9392161345788792, 0.9938923893012406, 0.7268317934630826, 0.27256192254865597, 0.9299505331072557, 0.06595393851824509, 0.0032976969259122546, 1.0004497113903406, 1.0001248026274987, 1.0003733830894297, 1.0013907858071116, 0.9628205248756135, 0.036431046887185375, 0.9901492248002027, 0.012715557479882766, 0.9854557046909144, 1.002891764221481, 0.9982996586794579, 1.000263029469661, 0.9954554419910644, 0.7533071711325202, 0.011492897201744413, 0.23403717938097715, 1.0002960301620023, 0.46096431318285697, 0.4042583857675055, 0.13536253641083895, 0.6461150332943135, 0.30969504028948847, 0.044017569178201404, 0.11005790467428943, 0.8896799092143298, 0.9323293688380454, 0.2804637794969049, 0.7195609184377605, 1.0006535522783893, 0.007792514659908469, 0.5610610555134098, 0.431185811181602, 0.16961195458526163, 0.831098577467782, 0.261629777219414, 0.27276295922875077, 0.33956205128477135, 0.12691827490643914, 0.0029928017669398426, 0.6030495560383783, 0.39504983323605924, 0.996868813944901, 0.9967191854934319, 1.0011838095573156, 1.0116507697602686, 0.9989306577125806, 0.9392161345788792, 1.000445851912287, 0.9995117462617494, 0.9945621169175415, 1.000043418650511, 1.0032536002577948, 0.9998107218297736, 0.9964404163113426, 0.30977702240102567, 0.0006778490643348482, 0.0006778490643348482, 0.5077089491868013, 0.18098570017740448, 0.188619225529269, 0.8113302147766074, 1.000347449430194, 0.9991790477770446, 0.5758843989730843, 0.001669230141950969, 0.16525378405314592, 0.25539221171849824, 0.5869326779824963, 0.01544559678901306, 0.39937900268733767, 0.9995117309949662, 0.9908018522873964, 0.007894835476393596, 1.0003708620539389, 0.5977690005669799, 0.2810937562189965, 0.11979101003425591, 0.0011860496042995633, 0.22586350963123975, 0.7728341775333987, 1.0006220105738983, 1.000252758104108, 0.4797192826209102, 0.5210913768099825, 0.5807163208554881, 0.22706660635697734, 0.19183213295675672, 1.0016339785311414, 0.047347111757238027, 0.9534728712492071, 1.000763502223039, 0.5453838068215318, 0.26918686609186143, 0.1738498510176605, 0.011216119420494226, 0.009744378598952526, 0.9906784908935069, 0.006956637687201815, 0.9924803100407923, 0.4125912001472142, 0.5871917888887577, 0.9417915786149547, 0.06782211608556299, 0.9335514802365729, 1.0006319592822883, 1.0014845694669994, 0.977356328948209, 0.9410704834979243, 0.32993258548840143, 0.6702567484725005, 1.000327394511526, 1.000093340826032, 0.9979897778103453, 1.01748412395443, 0.9773562425352413, 1.0022735496671544, 1.0000114441715482, 1.0030498047721454, 0.23988613593642727, 0.608013287939498, 0.15238050144389406, 0.9959725795925266, 0.9994070167739167, 0.9981733331061031, 0.9583962780030709, 1.0045776359022225, 0.36535805021155315, 0.002468635474402386, 0.6319706814470109, 0.9914849085117399, 0.008308532752891675, 0.9410704834979243, 0.19761297868095623, 0.14592958425670616, 0.6566831291551777, 0.9410704834979243, 0.9980838370028482, 1.003139163917612, 0.9392161345788792, 1.0351775318477168, 0.9979499646202838, 0.9947440073689994, 0.0036571470859154387, 0.9998472290640389, 0.9242345890424047, 0.9994222734000376, 1.0017486819718466, 0.9990845814932846, 1.0008209843689861, 0.02105186308228226, 0.975402989479078, 0.18980698849250827, 0.8101182334933867, 0.9989888776371888, 1.0055136869486256, 0.8782999425571227, 0.12261167289258978, 0.99852598825953, 1.006651117388031, 0.9998873887165445, 0.23969987080631827, 0.519685434185127, 0.23969987080631827, 1.0047102110749442, 0.997592443764408, 1.025095700409413, 1.0135546318454474, 1.0033472737420692, 1.0000102320655448, 0.9990879041004117, 0.0007255540334788756, 0.9994682864305958, 0.9979059725965816, 0.9973023044969488, 0.9902513399557478, 1.0013094922279622, 0.9983746762854337, 1.0006784236580342, 0.997586505801595, 0.9995117375151548, 0.4130776275822474, 0.5873008446577531, 1.0001214918985455, 1.0012541529567507, 0.6999867439980362, 0.2995915067463901, 1.0055136869486256, 0.9983746762854337, 0.21890466317659826, 0.3575190346690463, 0.42341767029660354, 1.0013908142225965, 0.0007802849063563153, 0.8021328837342921, 0.19741208130814777, 1.0025047028370886, 1.0000656352517612, 0.8394939053320095, 0.1604796226331123, 1.0004783567735553, 1.035970710295829, 1.0071458243088827, 1.0071458318316542, 1.065519278672052, 1.0056854669753352, 0.998399935209279, 0.9998394643943748, 0.9969462227012633, 0.00689589903096517, 0.9930094604589844, 0.9999302305323785, 0.9987370578166239, 0.9410704834979243, 0.9975218666208777, 0.9985685234727149, 0.9830438874261468, 0.014599661694447725, 1.0018728220595339, 0.9998124940826745, 0.9989243237550486, 0.9970089489031022, 0.9978731948570069, 1.0397639126727054, 0.9995117375151548, 0.9410704834979243, 0.017644418919023627, 0.9822059864923152, 0.9978204588985484, 1.0351775318477168, 1.004843885995778, 0.9996839674844518, 0.9979170930115348, 0.999954159055175, 0.9773563073449657, 0.999834453394814, 0.3143972651832008, 0.684936899149116, 0.9961867599837367, 0.8995605314887066, 0.8703857754140558, 0.13045093931267177, 0.9961867599837367, 0.9977532600116823, 0.9984520225010564, 0.9410704834979243, 1.0017846959984402, 1.0010590689196832, 0.9979177005919865, 0.939216114419474, 1.0024508181765663, 0.9979171338103299, 0.9786013495221442, 1.0397639126727054, 0.999695963377448, 0.13490715506734602, 0.0008484726733795348, 0.8637451815003664, 0.9975123018045988, 0.9993761245248153, 0.9997729921004977, 0.9987696253812426, 0.9971910461796615, 0.9977900097514912, 1.002892844545357, 0.20222066987790951, 0.7965018221721742, 1.0168945566866718, 1.0090785450279993, 0.007971274109890986, 0.9884379896264822, 0.9999549101169286, 0.9982928085317885, 0.961027198263279, 0.9417915786149547, 0.001616106692895656, 0.5389715820807013, 0.4589743007823663, 1.0037515575676206, 0.9945514164157625, 0.9970129223999833], \"Term\": [\"academ\", \"academia\", \"access\", \"access\", \"accord\", \"accord\", \"account\", \"account\", \"achiev\", \"achiev\", \"acidif\", \"action\", \"activ\", \"activ\", \"activ\", \"activ\", \"activ\", \"adapt\", \"adapt\", \"adapt\", \"address\", \"address\", \"address\", \"adequ\", \"adequ\", \"administr\", \"advantag\", \"advers\", \"affect\", \"afolu\", \"africa\", \"agenda\", \"agrarian\", \"agreement\", \"agricultur\", \"aid\", \"aim\", \"aim\", \"align\", \"altern\", \"ambient\", \"amount\", \"analyz\", \"annual\", \"anthropogen\", \"apprais\", \"approach\", \"approach\", \"approach\", \"appropri\", \"appropri\", \"appropri\", \"ar_gwp\", \"area\", \"area\", \"articl\", \"articul\", \"assess\", \"assess\", \"assist\", \"assist\", \"assist\", \"assum\", \"assumpt\", \"assumpt\", \"author\", \"avail\", \"avail\", \"avail\", \"averag\", \"awar\", \"bagass\", \"balanc\", \"bangladesh\", \"barbado\", \"base\", \"base\", \"base_year\", \"baselin\", \"bau\", \"bau_scenario\", \"besid\", \"bilater\", \"billion\", \"bind\", \"biodivers\", \"biolog\", \"budget\", \"build\", \"build\", \"build\", \"build\", \"businessasusu\", \"cabo\", \"calcul\", \"call\", \"cambodia\", \"capabl\", \"capac\", \"capac\", \"capac\", \"carbon\", \"carbon\", \"carbon\", \"care\", \"casebycas\", \"cash\", \"caus\", \"cca\", \"cdm\", \"central\", \"ch\", \"challeng\", \"challeng\", \"chang\", \"chang\", \"chile\", \"citi\", \"civil\", \"clarifi\", \"clean\", \"clearer\", \"climat\", \"climat\", \"coastal\", \"cobenefit\", \"coeq\", \"coher\", \"collect\", \"collect\", \"collector\", \"combat\", \"combust\", \"commerci\", \"commit\", \"commit\", \"committe\", \"commun\", \"commun\", \"commun\", \"commun\", \"compar\", \"compar\", \"compat\", \"compon\", \"comprehens\", \"compress\", \"condit\", \"condit\", \"confer\", \"conserv\", \"consid\", \"consid\", \"consist\", \"consist\", \"consist\", \"construct\", \"consumpt\", \"context\", \"context\", \"context\", \"conting\", \"continu\", \"continu\", \"contribut\", \"contribut\", \"control\", \"convent\", \"cooper\", \"coordin\", \"cop\", \"cost\", \"coton\", \"council\", \"countri\", \"countri\", \"cover\", \"cover\", \"cp\", \"crop\", \"cso\", \"current\", \"current\", \"current\", \"current\", \"damag\", \"data\", \"de\", \"decad\", \"decarbonis\", \"decis\", \"declin\", \"decreas\", \"deem\", \"default\", \"deforest\", \"deform\", \"degrad\", \"demand\", \"demonstr\", \"depart\", \"descript\", \"determin\", \"determin\", \"develop\", \"develop\", \"develop\", \"diesel\", \"digit\", \"dioxid\", \"disast\", \"disast\", \"diseas\", \"document\", \"document\", \"dollar\", \"domest\", \"domest\", \"driven\", \"drought\", \"due\", \"due\", \"due\", \"earli\", \"econom\", \"econom\", \"economi\", \"economi\", \"ecosystem\", \"ecosystem\", \"ecowa\", \"edit\", \"educ\", \"effect\", \"effect\", \"effect\", \"effect\", \"effect\", \"effici\", \"effort\", \"effort\", \"elabor\", \"electr\", \"emiss\", \"emit\", \"enact\", \"endeavour\", \"endur\", \"energi\", \"energi\", \"engag\", \"engag\", \"enhanc\", \"enhanc\", \"enhanc\", \"enjoi\", \"ensur\", \"ensur\", \"environ\", \"environ\", \"environment\", \"environment\", \"equal\", \"equip\", \"equival\", \"eros\", \"especi\", \"especi\", \"establish\", \"establish\", \"estim\", \"ev\", \"evalu\", \"even_though\", \"event\", \"exchang\", \"expert\", \"extern\", \"extra\", \"extrem\", \"extrem\", \"facilit\", \"facilit\", \"fall\", \"farm\", \"fed\", \"feedback\", \"fertil\", \"figur\", \"final\", \"final\", \"financ\", \"financi\", \"flash\", \"flood\", \"focal_point\", \"focu\", \"focus\", \"focus\", \"fodder\", \"food\", \"food\", \"forecast\", \"forecast\", \"foreign\", \"forest\", \"forestri\", \"formul\", \"fossil_fuel\", \"framework\", \"framework\", \"freedom\", \"fuel\", \"fugit\", \"full\", \"fulli\", \"fund\", \"futur\", \"futur\", \"futur\", \"ga\", \"ga\", \"gap\", \"gap\", \"gase\", \"gass\", \"gef\", \"gender\", \"gener\", \"ghg\", \"ghg\", \"global\", \"global\", \"global\", \"glof\", \"goal\", \"good\", \"good\", \"govern\", \"govern\", \"govern\", \"gpglulucf\", \"gradual\", \"grant\", \"green\", \"green\", \"greenhous\", \"grid\", \"gross\", \"group\", \"grow\", \"grow\", \"growth\", \"growth\", \"growth\", \"guid\", \"guidanc\", \"guidelin\", \"guinea\", \"guyana\", \"gwp\", \"ha\", \"hand\", \"happen\", \"harmoni\", \"harvest\", \"hazard\", \"head\", \"headlin\", \"health\", \"hectar\", \"high\", \"high\", \"high\", \"higher\", \"highli\", \"hotspot\", \"howev\", \"howev\", \"howev\", \"hub\", \"human\", \"human\", \"identifi\", \"identifi\", \"identifi\", \"identifi\", \"iii\", \"iiii\", \"iiiii\", \"impact\", \"impact\", \"implement\", \"implement\", \"import\", \"import\", \"improv\", \"improv\", \"improv\", \"includ\", \"includ\", \"includ\", \"includ\", \"includ\", \"inclus\", \"increas\", \"increas\", \"increas\", \"increasingli\", \"indc\", \"indc\", \"indc\", \"indepth\", \"index\", \"indic\", \"indic\", \"indigen\", \"indonesia\", \"industri\", \"industri\", \"inform\", \"inform\", \"inform\", \"infrastructur\", \"infrastructur\", \"initi\", \"initi\", \"instal\", \"instal\", \"institut\", \"institut\", \"intang\", \"integr\", \"integr\", \"integr\", \"intend\", \"intend\", \"intens\", \"intens\", \"intern\", \"intern\", \"introduc\", \"inventori\", \"invest\", \"invest\", \"invest\", \"ipcc\", \"irrig\", \"island\", \"issu\", \"ix\", \"jordan\", \"journei\", \"kei\", \"kei\", \"kind\", \"km\", \"knowledg\", \"knowledg\", \"kyoto_protocol\", \"lack\", \"lake\", \"land\", \"land\", \"landfil\", \"landus\", \"landus\", \"lane\", \"larg\", \"law\", \"law\", \"legisl\", \"level\", \"level\", \"level\", \"level\", \"leverag\", \"licens\", \"light\", \"limit\", \"limit\", \"limit\", \"line\", \"line\", \"linkag\", \"list\", \"live\", \"livelihood\", \"livestock\", \"local\", \"long_term\", \"longterm\", \"longterm\", \"loss\", \"low\", \"low\", \"lowcarbon\", \"lower\", \"lulucf\", \"maintain\", \"maintain\", \"major\", \"major\", \"make\", \"make\", \"make\", \"manag\", \"manag\", \"marin\", \"market\", \"measur\", \"measur\", \"measur\", \"mechan\", \"meet\", \"meet\", \"melt\", \"mention\", \"methodolog\", \"methodolog\", \"militari\", \"mill\", \"million\", \"ministeri\", \"ministri\", \"mitig\", \"mitig\", \"mitig\", \"mitig\", \"mix\", \"mobil\", \"model\", \"model\", \"modernis\", \"moe\", \"moldova\", \"monitor\", \"monsoon\", \"month\", \"moreov\", \"moresbi\", \"mrv\", \"mt_co\", \"mtcoe\", \"multicriteria\", \"multipl\", \"mw\", \"myanmar\", \"nama\", \"nama\", \"nap\", \"nap\", \"napa\", \"nation\", \"nation\", \"nation\", \"natur\", \"natur\", \"natur\", \"nccap\", \"nccpf\", \"ndc\", \"ndc\", \"necessari\", \"neg\", \"negoti\", \"net\", \"ngo\", \"nigeria\", \"nonannex\", \"nontechn\", \"north\", \"object\", \"object\", \"object\", \"offic\", \"oil\", \"oper\", \"opportun\", \"opportun\", \"option\", \"option\", \"output\", \"overal\", \"overal\", \"overal\", \"oversight\", \"oxid\", \"pacif\", \"pakistan\", \"papua_new\", \"paragraph\", \"pari\", \"part\", \"part\", \"part\", \"part\", \"parti\", \"particip\", \"participatori\", \"particularli\", \"particularli\", \"particularli\", \"partner\", \"partnership\", \"pathwai\", \"peopl\", \"peopl\", \"peopl\", \"per_cent\", \"percent\", \"period\", \"period\", \"physic\", \"pilot\", \"pipe\", \"plai\", \"plan\", \"plant\", \"plant\", \"pncc\", \"png\", \"pod\", \"polici\", \"polit\", \"popul\", \"popul\", \"popular\", \"portfolio\", \"potenti\", \"potenti\", \"poverti\", \"poverti\", \"poverti\", \"power\", \"practic\", \"precipit\", \"preliminari\", \"prepar\", \"prepar\", \"prepared\", \"price\", \"price\", \"principl\", \"priorit\", \"prioriti\", \"prioritis\", \"process\", \"process\", \"process\", \"product\", \"program\", \"program\", \"program\", \"programm\", \"programm\", \"programm\", \"project\", \"project\", \"projectbas\", \"promot\", \"promot\", \"properti\", \"propos\", \"propos\", \"propos\", \"protect\", \"protect\", \"provid\", \"provid\", \"provid\", \"provid\", \"public\", \"public\", \"public\", \"publish\", \"pursu\", \"qualiti\", \"railwai\", \"rainfal\", \"randomis\", \"rang\", \"rate\", \"readi\", \"recent\", \"recogn\", \"recognis\", \"redd\", \"reduc\", \"reduc\", \"reduc\", \"reduc\", \"reduc\", \"reduct\", \"reduct\", \"region\", \"reinforc\", \"relat\", \"relat\", \"relat\", \"relat\", \"relev\", \"relev\", \"relev\", \"remain\", \"remov\", \"remov\", \"renew\", \"report\", \"report\", \"report\", \"report\", \"repres\", \"repres\", \"requir\", \"research\", \"resili\", \"resili\", \"resourc\", \"resourc\", \"resourc\", \"respond\", \"respons\", \"respons\", \"restor\", \"result\", \"result\", \"result\", \"result\", \"review\", \"review\", \"rise\", \"rise\", \"risk\", \"risk\", \"riverin\", \"rmi\", \"rmi\", \"road\", \"role\", \"round\", \"rra\", \"rural\", \"rural\", \"scenario\", \"scienc\", \"scientif\", \"scottish\", \"sddci\", \"sea\", \"sea_level\", \"season\", \"sector\", \"sector\", \"sector\", \"sectori\", \"secur\", \"seed\", \"sell\", \"seriou\", \"servic\", \"servic\", \"servic\", \"sever\", \"sever\", \"sh\", \"share\", \"share\", \"share\", \"shed\", \"show\", \"shown\", \"sidewalk\", \"signal\", \"significantli\", \"sinc\", \"sinc\", \"singapor\", \"sit\", \"social\", \"societi\", \"soil\", \"solar\", \"solid\", \"solid\", \"sourc\", \"sourc\", \"speci\", \"special\", \"specif\", \"specif\", \"sri_lanka\", \"stand\", \"standard\", \"state\", \"state\", \"state\", \"statement\", \"statist\", \"stem\", \"stipul\", \"storag\", \"strateg\", \"strategi\", \"strategi\", \"strengthen\", \"submit\", \"subnat\", \"subsist\", \"success\", \"sudan\", \"suffici\", \"suitabl\", \"summer\", \"suppli\", \"suppli\", \"support\", \"surinam\", \"sustain\", \"sustain\", \"swaziland\", \"synergi\", \"system\", \"system\", \"system\", \"tabl\", \"target\", \"target\", \"target\", \"tcoe\", \"technic\", \"technolog\", \"technolog\", \"temperatur\", \"tempor\", \"tier\", \"timehorizon\", \"toe\", \"togo\", \"ton\", \"tonga\", \"tonn\", \"tool\", \"tool\", \"total\", \"tourism\", \"tower\", \"train\", \"transfer\", \"transit\", \"transit\", \"transpar\", \"transport\", \"treatment\", \"tree\", \"trend\", \"trial\", \"tropic\", \"truck\", \"uae\", \"uae\", \"uk\", \"ukrain\", \"uncertainti\", \"uncondit\", \"undertak\", \"undertaken\", \"undertook\", \"unfccc\", \"unit\", \"unit\", \"univers\", \"unremit\", \"updat\", \"updat\", \"urgent\", \"uruguai\", \"usd\", \"uskw\", \"util\", \"vehicl\", \"verd\", \"viaduct\", \"viet_nam\", \"view\", \"vii\", \"viii\", \"vision\", \"vulner\", \"vulner\", \"vulner\", \"wai\", \"wast\", \"water\", \"watersh\", \"wave\", \"weather\", \"wetland\", \"wind\", \"wind\", \"winter\", \"women_men\", \"wood\", \"wood\", \"work\", \"world\", \"xvi\", \"yangon\", \"year\", \"year\", \"year\", \"yemen\", \"youth\", \"zone\"]}, \"R\": 30, \"lambda.step\": 0.01, \"plot.opts\": {\"xlab\": \"PC1\", \"ylab\": \"PC2\"}, \"topic.order\": [1, 10, 5, 7, 6, 9, 4, 3, 2, 8]};\n",
              "\n",
              "function LDAvis_load_lib(url, callback){\n",
              "  var s = document.createElement('script');\n",
              "  s.src = url;\n",
              "  s.async = true;\n",
              "  s.onreadystatechange = s.onload = callback;\n",
              "  s.onerror = function(){console.warn(\"failed to load library \" + url);};\n",
              "  document.getElementsByTagName(\"head\")[0].appendChild(s);\n",
              "}\n",
              "\n",
              "if(typeof(LDAvis) !== \"undefined\"){\n",
              "   // already loaded: just create the visualization\n",
              "   !function(LDAvis){\n",
              "       new LDAvis(\"#\" + \"ldavis_el631406480581481769560993961\", ldavis_el631406480581481769560993961_data);\n",
              "   }(LDAvis);\n",
              "}else if(typeof define === \"function\" && define.amd){\n",
              "   // require.js is available: use it to load d3/LDAvis\n",
              "   require.config({paths: {d3: \"https://d3js.org/d3.v5\"}});\n",
              "   require([\"d3\"], function(d3){\n",
              "      window.d3 = d3;\n",
              "      LDAvis_load_lib(\"https://cdn.jsdelivr.net/gh/bmabey/pyLDAvis/pyLDAvis/js/ldavis.v3.0.0.js\", function(){\n",
              "        new LDAvis(\"#\" + \"ldavis_el631406480581481769560993961\", ldavis_el631406480581481769560993961_data);\n",
              "      });\n",
              "    });\n",
              "}else{\n",
              "    // require.js not available: dynamically load d3 & LDAvis\n",
              "    LDAvis_load_lib(\"https://d3js.org/d3.v5.js\", function(){\n",
              "         LDAvis_load_lib(\"https://cdn.jsdelivr.net/gh/bmabey/pyLDAvis/pyLDAvis/js/ldavis.v3.0.0.js\", function(){\n",
              "                 new LDAvis(\"#\" + \"ldavis_el631406480581481769560993961\", ldavis_el631406480581481769560993961_data);\n",
              "            })\n",
              "         });\n",
              "}\n",
              "</script>"
            ],
            "text/plain": [
              "PreparedData(topic_coordinates=              x         y  topics  cluster       Freq\n",
              "topic                                                \n",
              "0      0.033176 -0.075346       1        1  10.384084\n",
              "9      0.247016  0.142276       2        1  10.276250\n",
              "4     -0.095557  0.320745       3        1  10.267956\n",
              "6     -0.142290 -0.229016       4        1  10.194094\n",
              "5     -0.340187  0.110694       5        1  10.160568\n",
              "8      0.153134  0.024112       6        1  10.062842\n",
              "3      0.168584  0.089872       7        1   9.939686\n",
              "2      0.117648 -0.191513       8        1   9.723804\n",
              "1     -0.017265 -0.159578       9        1   9.526042\n",
              "7     -0.124259 -0.032248      10        1   9.464674, topic_info=        Term         Freq        Total Category  logprob  loglift\n",
              "110   climat  6939.000000  6939.000000  Default  30.0000  30.0000\n",
              "109    chang  5376.000000  5376.000000  Default  29.0000  29.0000\n",
              "181    emiss  4115.000000  4115.000000  Default  28.0000  28.0000\n",
              "9     energi  3423.000000  3423.000000  Default  27.0000  27.0000\n",
              "33   develop  4863.000000  4863.000000  Default  26.0000  26.0000\n",
              "..       ...          ...          ...      ...      ...      ...\n",
              "831   carbon   365.708016   883.017516  Topic10  -4.5426   1.4761\n",
              "17   sustain   425.216730  1418.598293  Topic10  -4.3919   1.1528\n",
              "219    activ   323.510949   893.565022  Topic10  -4.6652   1.3416\n",
              "92   resourc   294.297571  1532.589955  Topic10  -4.7599   0.7075\n",
              "213    reduc   267.248173  1475.254673  Topic10  -4.8563   0.6492\n",
              "\n",
              "[734 rows x 6 columns], token_table=      Topic      Freq      Term\n",
              "term                           \n",
              "347       3  0.993061    academ\n",
              "781       3  0.993061  academia\n",
              "317       5  0.287634    access\n",
              "317       7  0.712328    access\n",
              "100       4  0.241613    accord\n",
              "...     ...       ...       ...\n",
              "177       4  0.538972      year\n",
              "177       8  0.458974      year\n",
              "415       5  1.003752     yemen\n",
              "1517      3  0.994551     youth\n",
              "1155      4  0.997013      zone\n",
              "\n",
              "[914 rows x 3 columns], R=30, lambda_step=0.01, plot_opts={'xlab': 'PC1', 'ylab': 'PC2'}, topic_order=[1, 10, 5, 7, 6, 9, 4, 3, 2, 8])"
            ]
          },
          "metadata": {
            "tags": []
          },
          "execution_count": 43
        }
      ]
    },
    {
      "cell_type": "markdown",
      "metadata": {
        "id": "akLVaOu1driK"
      },
      "source": [
        "Save to HTML so that we can add to the website"
      ]
    },
    {
      "cell_type": "code",
      "metadata": {
        "colab": {
          "base_uri": "https://localhost:8080/"
        },
        "id": "_jzs4d23dqe9",
        "outputId": "0c4949eb-490c-4d9a-a6fe-28e5402eb11f"
      },
      "source": [
        "p = pyLDAvis.gensim.prepare(optimal_model, corpus, id2word)\n",
        "pyLDAvis.save_html(p, 'lda.html')"
      ],
      "execution_count": 44,
      "outputs": [
        {
          "output_type": "stream",
          "text": [
            "/usr/local/lib/python3.7/dist-packages/pyLDAvis/_prepare.py:236: RuntimeWarning: divide by zero encountered in log\n",
            "  log_1 = np.log(pd.eval(\"(topic_given_term.T / topic_proportion)\"))\n",
            "/usr/local/lib/python3.7/dist-packages/pyLDAvis/_prepare.py:259: RuntimeWarning: divide by zero encountered in log\n",
            "  log_lift = np.log(pd.eval(\"topic_term_dists / term_proportion\")).astype(\"float64\")\n",
            "/usr/local/lib/python3.7/dist-packages/pyLDAvis/_prepare.py:260: RuntimeWarning: divide by zero encountered in log\n",
            "  log_ttd = np.log(topic_term_dists).astype(\"float64\")\n"
          ],
          "name": "stderr"
        }
      ]
    },
    {
      "cell_type": "markdown",
      "metadata": {
        "id": "E6FdnmfmeWgo"
      },
      "source": [
        "Alternatively save to pickle"
      ]
    },
    {
      "cell_type": "code",
      "metadata": {
        "id": "bPmcJSY7eZSn"
      },
      "source": [
        "d = {\n",
        "    \"optimal_model\": optimal_model,\n",
        "     \"corpus\": corpus,\n",
        "     \"dictionary\": id2word\n",
        "}\n",
        "with open('lda_model.pickle', 'wb') as handle:\n",
        "    pickle.dump(d, handle, protocol=pickle.HIGHEST_PROTOCOL)"
      ],
      "execution_count": 45,
      "outputs": []
    },
    {
      "cell_type": "markdown",
      "metadata": {
        "id": "dIiPx82rkZuT"
      },
      "source": [
        "Compute dominant topic for each document"
      ]
    },
    {
      "cell_type": "code",
      "metadata": {
        "id": "8jn95Fib5_nf"
      },
      "source": [
        "def format_topics_sentences(ldamodel, corpus, texts):\n",
        "    sent_topics_df = pd.DataFrame()\n",
        "\n",
        "    for i, row in enumerate(ldamodel[corpus]):\n",
        "        row = sorted(row, key=lambda x: (x[1]), reverse=True)\n",
        "        for j, (topic_num, prop_topic) in enumerate(row):\n",
        "            # dominant topic\n",
        "            if j == 0: \n",
        "                wp = ldamodel.show_topic(topic_num)\n",
        "                topic_keywords = \", \".join([word for word, prop in wp])\n",
        "                sent_topics_df = sent_topics_df.append(pd.Series([int(topic_num), round(prop_topic,4), topic_keywords]), ignore_index=True)\n",
        "            else:\n",
        "                break\n",
        "\n",
        "    contents = df.NDC\n",
        "    document = df.Document\n",
        "    sent_topics_df = pd.concat([sent_topics_df, contents, document], axis=1)\n",
        "    sent_topics_df.columns = ['Dominant_Topic', 'Topic_Perc_Contrib', 'Keywords', 'Text', 'Document']\n",
        "\n",
        "    return(sent_topics_df)"
      ],
      "execution_count": 46,
      "outputs": []
    },
    {
      "cell_type": "code",
      "metadata": {
        "colab": {
          "base_uri": "https://localhost:8080/",
          "height": 422
        },
        "id": "irq6XcgQGIQL",
        "outputId": "b29ac699-fb41-4f5a-db9e-1a52f3aaa7dc"
      },
      "source": [
        "df_dominant_topic = format_topics_sentences(ldamodel=optimal_model, corpus=corpus, texts=df.NDC)\n",
        "\n",
        "df_dominant_topic"
      ],
      "execution_count": 47,
      "outputs": [
        {
          "output_type": "execute_result",
          "data": {
            "text/html": [
              "<div>\n",
              "<style scoped>\n",
              "    .dataframe tbody tr th:only-of-type {\n",
              "        vertical-align: middle;\n",
              "    }\n",
              "\n",
              "    .dataframe tbody tr th {\n",
              "        vertical-align: top;\n",
              "    }\n",
              "\n",
              "    .dataframe thead th {\n",
              "        text-align: right;\n",
              "    }\n",
              "</style>\n",
              "<table border=\"1\" class=\"dataframe\">\n",
              "  <thead>\n",
              "    <tr style=\"text-align: right;\">\n",
              "      <th></th>\n",
              "      <th>Dominant_Topic</th>\n",
              "      <th>Topic_Perc_Contrib</th>\n",
              "      <th>Keywords</th>\n",
              "      <th>Text</th>\n",
              "      <th>Document</th>\n",
              "    </tr>\n",
              "  </thead>\n",
              "  <tbody>\n",
              "    <tr>\n",
              "      <th>0</th>\n",
              "      <td>1.0</td>\n",
              "      <td>0.1754</td>\n",
              "      <td>energi, gener, effici, transport, electr, rene...</td>\n",
              "      <td>Cabo Verde is committed to implement the Susta...</td>\n",
              "      <td>../txts/CPV_Cabo-Verde_First_NDC_English_Parag...</td>\n",
              "    </tr>\n",
              "    <tr>\n",
              "      <th>1</th>\n",
              "      <td>2.0</td>\n",
              "      <td>0.1923</td>\n",
              "      <td>sector, project, reduct, mitig, estim, wast, i...</td>\n",
              "      <td>This updated NDC updates and strengthens the f...</td>\n",
              "      <td>../txts/RWA_Rwanda_First_NDC_English_Paragraph...</td>\n",
              "    </tr>\n",
              "    <tr>\n",
              "      <th>2</th>\n",
              "      <td>7.0</td>\n",
              "      <td>0.1309</td>\n",
              "      <td>agricultur, manag, forest, land, product, area...</td>\n",
              "      <td>Gambia Watershed by a) Improving disaster prep...</td>\n",
              "      <td>../txts/GMB_Gambia_First_NDC_English_Paragraph...</td>\n",
              "    </tr>\n",
              "    <tr>\n",
              "      <th>3</th>\n",
              "      <td>2.0</td>\n",
              "      <td>0.2155</td>\n",
              "      <td>sector, project, reduct, mitig, estim, wast, i...</td>\n",
              "      <td>The estimated cost to reach the 14 target is t...</td>\n",
              "      <td>../txts/JOR_Jordan_First_NDC_English_Paragraph...</td>\n",
              "    </tr>\n",
              "    <tr>\n",
              "      <th>4</th>\n",
              "      <td>3.0</td>\n",
              "      <td>0.1349</td>\n",
              "      <td>support, implement, capac, intern, technolog, ...</td>\n",
              "      <td>Moreover, national efforts to implement INDC i...</td>\n",
              "      <td>../txts/FSM_Micronesia_First_NDC_English_Parag...</td>\n",
              "    </tr>\n",
              "    <tr>\n",
              "      <th>...</th>\n",
              "      <td>...</td>\n",
              "      <td>...</td>\n",
              "      <td>...</td>\n",
              "      <td>...</td>\n",
              "      <td>...</td>\n",
              "    </tr>\n",
              "    <tr>\n",
              "      <th>10817</th>\n",
              "      <td>5.0</td>\n",
              "      <td>0.1776</td>\n",
              "      <td>water, impact, vulner, resourc, climat, chang,...</td>\n",
              "      <td>conducting surveillance and research on waterb...</td>\n",
              "      <td>../txts/KHM_Cambodia_First_NDC_English_Paragra...</td>\n",
              "    </tr>\n",
              "    <tr>\n",
              "      <th>10818</th>\n",
              "      <td>2.0</td>\n",
              "      <td>0.1407</td>\n",
              "      <td>sector, project, reduct, mitig, estim, wast, i...</td>\n",
              "      <td>The above chart contains a not exhaustive list...</td>\n",
              "      <td>../txts/URY_Uruguay_First_NDC_Translation_Engl...</td>\n",
              "    </tr>\n",
              "    <tr>\n",
              "      <th>10819</th>\n",
              "      <td>4.0</td>\n",
              "      <td>0.2038</td>\n",
              "      <td>climat, chang, nation, commun, govern, environ...</td>\n",
              "      <td>principles to be respected by the state, local...</td>\n",
              "      <td>../txts/MAR_Morocco_First_NDC_Translation_Engl...</td>\n",
              "    </tr>\n",
              "    <tr>\n",
              "      <th>10820</th>\n",
              "      <td>9.0</td>\n",
              "      <td>0.2294</td>\n",
              "      <td>adapt, nation, plan, action, polici, strategi,...</td>\n",
              "      <td>Integrated planning is the key means of implem...</td>\n",
              "      <td>../txts/LKA_Sri-Lanka_First_NDC_English_Paragr...</td>\n",
              "    </tr>\n",
              "    <tr>\n",
              "      <th>10821</th>\n",
              "      <td>3.0</td>\n",
              "      <td>0.2480</td>\n",
              "      <td>support, implement, capac, intern, technolog, ...</td>\n",
              "      <td>Undertake barrier analysis for technology tra...</td>\n",
              "      <td>../txts/MDA_Republic-of-Moldova_First_NDC_Engl...</td>\n",
              "    </tr>\n",
              "  </tbody>\n",
              "</table>\n",
              "<p>10822 rows × 5 columns</p>\n",
              "</div>"
            ],
            "text/plain": [
              "       Dominant_Topic  ...                                           Document\n",
              "0                 1.0  ...  ../txts/CPV_Cabo-Verde_First_NDC_English_Parag...\n",
              "1                 2.0  ...  ../txts/RWA_Rwanda_First_NDC_English_Paragraph...\n",
              "2                 7.0  ...  ../txts/GMB_Gambia_First_NDC_English_Paragraph...\n",
              "3                 2.0  ...  ../txts/JOR_Jordan_First_NDC_English_Paragraph...\n",
              "4                 3.0  ...  ../txts/FSM_Micronesia_First_NDC_English_Parag...\n",
              "...               ...  ...                                                ...\n",
              "10817             5.0  ...  ../txts/KHM_Cambodia_First_NDC_English_Paragra...\n",
              "10818             2.0  ...  ../txts/URY_Uruguay_First_NDC_Translation_Engl...\n",
              "10819             4.0  ...  ../txts/MAR_Morocco_First_NDC_Translation_Engl...\n",
              "10820             9.0  ...  ../txts/LKA_Sri-Lanka_First_NDC_English_Paragr...\n",
              "10821             3.0  ...  ../txts/MDA_Republic-of-Moldova_First_NDC_Engl...\n",
              "\n",
              "[10822 rows x 5 columns]"
            ]
          },
          "metadata": {
            "tags": []
          },
          "execution_count": 47
        }
      ]
    },
    {
      "cell_type": "markdown",
      "metadata": {
        "id": "oFTnWIDVHHVR"
      },
      "source": [
        "Show most representative documents for each topic"
      ]
    },
    {
      "cell_type": "code",
      "metadata": {
        "colab": {
          "base_uri": "https://localhost:8080/",
          "height": 362
        },
        "id": "EL5tUdMsHV7S",
        "outputId": "6709dbc6-2547-49dd-f5b4-81810995b83c"
      },
      "source": [
        "sent_topics_sorteddf_mallet = pd.DataFrame()\n",
        "\n",
        "sent_topics_outdf_grpd = df_dominant_topic.groupby('Dominant_Topic')\n",
        "\n",
        "for i, grp in sent_topics_outdf_grpd:\n",
        "    sent_topics_sorteddf_mallet = pd.concat([sent_topics_sorteddf_mallet, \n",
        "                                             grp.sort_values(['Topic_Perc_Contrib'], ascending=[0]).head(1)], \n",
        "                                            axis=0)\n",
        "\n",
        "sent_topics_sorteddf_mallet"
      ],
      "execution_count": 48,
      "outputs": [
        {
          "output_type": "execute_result",
          "data": {
            "text/html": [
              "<div>\n",
              "<style scoped>\n",
              "    .dataframe tbody tr th:only-of-type {\n",
              "        vertical-align: middle;\n",
              "    }\n",
              "\n",
              "    .dataframe tbody tr th {\n",
              "        vertical-align: top;\n",
              "    }\n",
              "\n",
              "    .dataframe thead th {\n",
              "        text-align: right;\n",
              "    }\n",
              "</style>\n",
              "<table border=\"1\" class=\"dataframe\">\n",
              "  <thead>\n",
              "    <tr style=\"text-align: right;\">\n",
              "      <th></th>\n",
              "      <th>Dominant_Topic</th>\n",
              "      <th>Topic_Perc_Contrib</th>\n",
              "      <th>Keywords</th>\n",
              "      <th>Text</th>\n",
              "      <th>Document</th>\n",
              "    </tr>\n",
              "  </thead>\n",
              "  <tbody>\n",
              "    <tr>\n",
              "      <th>2862</th>\n",
              "      <td>0.0</td>\n",
              "      <td>0.3942</td>\n",
              "      <td>develop, countri, econom, sustain, achiev, con...</td>\n",
              "      <td>Chile has made important progress in its devel...</td>\n",
              "      <td>../txts/CHL_Chile_First_NDC_English_Paragraph3...</td>\n",
              "    </tr>\n",
              "    <tr>\n",
              "      <th>579</th>\n",
              "      <td>1.0</td>\n",
              "      <td>0.4651</td>\n",
              "      <td>energi, gener, effici, transport, electr, rene...</td>\n",
              "      <td>In addition to gridbased clean power, distribu...</td>\n",
              "      <td>../txts/ARE_United-Arab-Emirates_Second_NDC_En...</td>\n",
              "    </tr>\n",
              "    <tr>\n",
              "      <th>9134</th>\n",
              "      <td>2.0</td>\n",
              "      <td>0.4457</td>\n",
              "      <td>sector, project, reduct, mitig, estim, wast, i...</td>\n",
              "      <td>With domestic resources, by 2030, Viet Nam wil...</td>\n",
              "      <td>../txts/VNM_Viet-Nam_First_NDC_English_Paragra...</td>\n",
              "    </tr>\n",
              "    <tr>\n",
              "      <th>6069</th>\n",
              "      <td>3.0</td>\n",
              "      <td>0.4267</td>\n",
              "      <td>support, implement, capac, intern, technolog, ...</td>\n",
              "      <td>UNFCCC and the multilateral finance institutio...</td>\n",
              "      <td>../txts/GMB_Gambia_First_NDC_English_Paragraph...</td>\n",
              "    </tr>\n",
              "    <tr>\n",
              "      <th>4601</th>\n",
              "      <td>4.0</td>\n",
              "      <td>0.6067</td>\n",
              "      <td>climat, chang, nation, commun, govern, environ...</td>\n",
              "      <td>11 IPCC, 2013 Summary for Policymakers. In Cli...</td>\n",
              "      <td>../txts/BRA_Brazil_First_NDC_English_Paragraph...</td>\n",
              "    </tr>\n",
              "    <tr>\n",
              "      <th>5528</th>\n",
              "      <td>5.0</td>\n",
              "      <td>0.5385</td>\n",
              "      <td>water, impact, vulner, resourc, climat, chang,...</td>\n",
              "      <td>The need for adaptation in the water sector is...</td>\n",
              "      <td>../txts/ATG_Antigua-and-Barbuda_First_NDC_Engl...</td>\n",
              "    </tr>\n",
              "    <tr>\n",
              "      <th>8003</th>\n",
              "      <td>6.0</td>\n",
              "      <td>0.7037</td>\n",
              "      <td>increas, countri, year, region, temperatur, po...</td>\n",
              "      <td>Current climate, projected climate change and ...</td>\n",
              "      <td>../txts/KIR_Kiribati_First_NDC_English_Paragra...</td>\n",
              "    </tr>\n",
              "    <tr>\n",
              "      <th>8813</th>\n",
              "      <td>7.0</td>\n",
              "      <td>0.4701</td>\n",
              "      <td>agricultur, manag, forest, land, product, area...</td>\n",
              "      <td>Definition of the values and the base year of ...</td>\n",
              "      <td>../txts/URY_Uruguay_First_NDC_Translation_Engl...</td>\n",
              "    </tr>\n",
              "    <tr>\n",
              "      <th>1690</th>\n",
              "      <td>8.0</td>\n",
              "      <td>0.4983</td>\n",
              "      <td>emiss, ghg, contribut, target, greenhous, nati...</td>\n",
              "      <td>Submission by Iceland to the ADP Icelands Inte...</td>\n",
              "      <td>../txts/ISL_Iceland_First_NDC_English_Paragrap...</td>\n",
              "    </tr>\n",
              "    <tr>\n",
              "      <th>2922</th>\n",
              "      <td>9.0</td>\n",
              "      <td>0.4448</td>\n",
              "      <td>adapt, nation, plan, action, polici, strategi,...</td>\n",
              "      <td>process has involved several bilateral meeting...</td>\n",
              "      <td>../txts/MDG_Madagascar_First_NDC_Translation_E...</td>\n",
              "    </tr>\n",
              "  </tbody>\n",
              "</table>\n",
              "</div>"
            ],
            "text/plain": [
              "      Dominant_Topic  ...                                           Document\n",
              "2862             0.0  ...  ../txts/CHL_Chile_First_NDC_English_Paragraph3...\n",
              "579              1.0  ...  ../txts/ARE_United-Arab-Emirates_Second_NDC_En...\n",
              "9134             2.0  ...  ../txts/VNM_Viet-Nam_First_NDC_English_Paragra...\n",
              "6069             3.0  ...  ../txts/GMB_Gambia_First_NDC_English_Paragraph...\n",
              "4601             4.0  ...  ../txts/BRA_Brazil_First_NDC_English_Paragraph...\n",
              "5528             5.0  ...  ../txts/ATG_Antigua-and-Barbuda_First_NDC_Engl...\n",
              "8003             6.0  ...  ../txts/KIR_Kiribati_First_NDC_English_Paragra...\n",
              "8813             7.0  ...  ../txts/URY_Uruguay_First_NDC_Translation_Engl...\n",
              "1690             8.0  ...  ../txts/ISL_Iceland_First_NDC_English_Paragrap...\n",
              "2922             9.0  ...  ../txts/MDG_Madagascar_First_NDC_Translation_E...\n",
              "\n",
              "[10 rows x 5 columns]"
            ]
          },
          "metadata": {
            "tags": []
          },
          "execution_count": 48
        }
      ]
    },
    {
      "cell_type": "markdown",
      "metadata": {
        "id": "Ndl0oBKyKvQG"
      },
      "source": [
        "Compute aggregated data for each country"
      ]
    },
    {
      "cell_type": "code",
      "metadata": {
        "id": "hvnpTKN4KtsW"
      },
      "source": [
        "def compute_iso(document):\n",
        "  pos = document.find('_')\n",
        "  return document[(pos-3):pos]"
      ],
      "execution_count": 49,
      "outputs": []
    },
    {
      "cell_type": "code",
      "metadata": {
        "id": "dI82wO-zMHqg"
      },
      "source": [
        "def country_name(document):\n",
        "  pos1 = document.find('_')\n",
        "  pos2 = document.find('_', pos1+1)\n",
        "  return document[pos1+1:pos2]"
      ],
      "execution_count": 50,
      "outputs": []
    },
    {
      "cell_type": "code",
      "metadata": {
        "id": "HkWM71SqOcdx"
      },
      "source": [
        "def doc_topic_distribution(ldamodel, corpus, df):\n",
        "    topic_distr = pd.DataFrame()\n",
        "    # percentages for each topic\n",
        "    for row in ldamodel[corpus]:\n",
        "        percentages = [perc for topic, perc in row]\n",
        "        topic_distr = topic_distr.append(pd.Series(percentages), ignore_index=True)\n",
        "    # add original text, doc name, country name and ISO\n",
        "    contents = df.NDC\n",
        "    document = df.Document\n",
        "    iso = df.Document.apply(compute_iso)\n",
        "    country = df.Document.apply(country_name)\n",
        "\n",
        "    topic_distr = pd.concat([topic_distr, contents, document, iso, country], axis=1)\n",
        "    columns = [str(x) for x in range(10)]\n",
        "    columns.extend(['Text', 'Document', 'ISO', 'Country'])\n",
        "    topic_distr.columns = columns\n",
        "\n",
        "    return topic_distr"
      ],
      "execution_count": 53,
      "outputs": []
    },
    {
      "cell_type": "markdown",
      "metadata": {
        "id": "mxiyxlZlVIfH"
      },
      "source": [
        "Compute distribution of topics in each paragraph"
      ]
    },
    {
      "cell_type": "code",
      "metadata": {
        "colab": {
          "base_uri": "https://localhost:8080/",
          "height": 802
        },
        "id": "hCLKbi80UQ_8",
        "outputId": "3931bbf6-a666-4d9c-8c0d-5c9fb0641273"
      },
      "source": [
        "distr_df = doc_topic_distribution(optimal_model, corpus, df)\n",
        "distr_df"
      ],
      "execution_count": 54,
      "outputs": [
        {
          "output_type": "execute_result",
          "data": {
            "text/html": [
              "<div>\n",
              "<style scoped>\n",
              "    .dataframe tbody tr th:only-of-type {\n",
              "        vertical-align: middle;\n",
              "    }\n",
              "\n",
              "    .dataframe tbody tr th {\n",
              "        vertical-align: top;\n",
              "    }\n",
              "\n",
              "    .dataframe thead th {\n",
              "        text-align: right;\n",
              "    }\n",
              "</style>\n",
              "<table border=\"1\" class=\"dataframe\">\n",
              "  <thead>\n",
              "    <tr style=\"text-align: right;\">\n",
              "      <th></th>\n",
              "      <th>0</th>\n",
              "      <th>1</th>\n",
              "      <th>2</th>\n",
              "      <th>3</th>\n",
              "      <th>4</th>\n",
              "      <th>5</th>\n",
              "      <th>6</th>\n",
              "      <th>7</th>\n",
              "      <th>8</th>\n",
              "      <th>9</th>\n",
              "      <th>Text</th>\n",
              "      <th>Document</th>\n",
              "      <th>ISO</th>\n",
              "      <th>Country</th>\n",
              "    </tr>\n",
              "  </thead>\n",
              "  <tbody>\n",
              "    <tr>\n",
              "      <th>0</th>\n",
              "      <td>0.114069</td>\n",
              "      <td>0.175357</td>\n",
              "      <td>0.081081</td>\n",
              "      <td>0.117179</td>\n",
              "      <td>0.090149</td>\n",
              "      <td>0.068043</td>\n",
              "      <td>0.111691</td>\n",
              "      <td>0.084512</td>\n",
              "      <td>0.085790</td>\n",
              "      <td>0.072129</td>\n",
              "      <td>Cabo Verde is committed to implement the Susta...</td>\n",
              "      <td>../txts/CPV_Cabo-Verde_First_NDC_English_Parag...</td>\n",
              "      <td>CPV</td>\n",
              "      <td>Cabo-Verde</td>\n",
              "    </tr>\n",
              "    <tr>\n",
              "      <th>1</th>\n",
              "      <td>0.070109</td>\n",
              "      <td>0.057798</td>\n",
              "      <td>0.192343</td>\n",
              "      <td>0.112058</td>\n",
              "      <td>0.064949</td>\n",
              "      <td>0.052537</td>\n",
              "      <td>0.057540</td>\n",
              "      <td>0.065082</td>\n",
              "      <td>0.143141</td>\n",
              "      <td>0.184443</td>\n",
              "      <td>This updated NDC updates and strengthens the f...</td>\n",
              "      <td>../txts/RWA_Rwanda_First_NDC_English_Paragraph...</td>\n",
              "      <td>RWA</td>\n",
              "      <td>Rwanda</td>\n",
              "    </tr>\n",
              "    <tr>\n",
              "      <th>2</th>\n",
              "      <td>0.087309</td>\n",
              "      <td>0.089468</td>\n",
              "      <td>0.084746</td>\n",
              "      <td>0.104217</td>\n",
              "      <td>0.129692</td>\n",
              "      <td>0.102526</td>\n",
              "      <td>0.101695</td>\n",
              "      <td>0.130856</td>\n",
              "      <td>0.084746</td>\n",
              "      <td>0.084746</td>\n",
              "      <td>Gambia Watershed by a) Improving disaster prep...</td>\n",
              "      <td>../txts/GMB_Gambia_First_NDC_English_Paragraph...</td>\n",
              "      <td>GMB</td>\n",
              "      <td>Gambia</td>\n",
              "    </tr>\n",
              "    <tr>\n",
              "      <th>3</th>\n",
              "      <td>0.097654</td>\n",
              "      <td>0.079640</td>\n",
              "      <td>0.215493</td>\n",
              "      <td>0.076231</td>\n",
              "      <td>0.073529</td>\n",
              "      <td>0.097786</td>\n",
              "      <td>0.088431</td>\n",
              "      <td>0.073529</td>\n",
              "      <td>0.124165</td>\n",
              "      <td>0.073541</td>\n",
              "      <td>The estimated cost to reach the 14 target is t...</td>\n",
              "      <td>../txts/JOR_Jordan_First_NDC_English_Paragraph...</td>\n",
              "      <td>JOR</td>\n",
              "      <td>Jordan</td>\n",
              "    </tr>\n",
              "    <tr>\n",
              "      <th>4</th>\n",
              "      <td>0.104433</td>\n",
              "      <td>0.074627</td>\n",
              "      <td>0.097522</td>\n",
              "      <td>0.134833</td>\n",
              "      <td>0.078469</td>\n",
              "      <td>0.082041</td>\n",
              "      <td>0.096948</td>\n",
              "      <td>0.077081</td>\n",
              "      <td>0.134452</td>\n",
              "      <td>0.119594</td>\n",
              "      <td>Moreover, national efforts to implement INDC i...</td>\n",
              "      <td>../txts/FSM_Micronesia_First_NDC_English_Parag...</td>\n",
              "      <td>FSM</td>\n",
              "      <td>Micronesia</td>\n",
              "    </tr>\n",
              "    <tr>\n",
              "      <th>...</th>\n",
              "      <td>...</td>\n",
              "      <td>...</td>\n",
              "      <td>...</td>\n",
              "      <td>...</td>\n",
              "      <td>...</td>\n",
              "      <td>...</td>\n",
              "      <td>...</td>\n",
              "      <td>...</td>\n",
              "      <td>...</td>\n",
              "      <td>...</td>\n",
              "      <td>...</td>\n",
              "      <td>...</td>\n",
              "      <td>...</td>\n",
              "      <td>...</td>\n",
              "    </tr>\n",
              "    <tr>\n",
              "      <th>10817</th>\n",
              "      <td>0.084746</td>\n",
              "      <td>0.085242</td>\n",
              "      <td>0.086994</td>\n",
              "      <td>0.087411</td>\n",
              "      <td>0.118964</td>\n",
              "      <td>0.177622</td>\n",
              "      <td>0.090500</td>\n",
              "      <td>0.084746</td>\n",
              "      <td>0.084746</td>\n",
              "      <td>0.099029</td>\n",
              "      <td>conducting surveillance and research on waterb...</td>\n",
              "      <td>../txts/KHM_Cambodia_First_NDC_English_Paragra...</td>\n",
              "      <td>KHM</td>\n",
              "      <td>Cambodia</td>\n",
              "    </tr>\n",
              "    <tr>\n",
              "      <th>10818</th>\n",
              "      <td>0.094197</td>\n",
              "      <td>0.086819</td>\n",
              "      <td>0.140649</td>\n",
              "      <td>0.086435</td>\n",
              "      <td>0.094008</td>\n",
              "      <td>0.089360</td>\n",
              "      <td>0.100398</td>\n",
              "      <td>0.101541</td>\n",
              "      <td>0.084746</td>\n",
              "      <td>0.121847</td>\n",
              "      <td>The above chart contains a not exhaustive list...</td>\n",
              "      <td>../txts/URY_Uruguay_First_NDC_Translation_Engl...</td>\n",
              "      <td>URY</td>\n",
              "      <td>Uruguay</td>\n",
              "    </tr>\n",
              "    <tr>\n",
              "      <th>10819</th>\n",
              "      <td>0.139809</td>\n",
              "      <td>0.073785</td>\n",
              "      <td>0.069578</td>\n",
              "      <td>0.094597</td>\n",
              "      <td>0.203837</td>\n",
              "      <td>0.068493</td>\n",
              "      <td>0.071861</td>\n",
              "      <td>0.085160</td>\n",
              "      <td>0.072712</td>\n",
              "      <td>0.120168</td>\n",
              "      <td>principles to be respected by the state, local...</td>\n",
              "      <td>../txts/MAR_Morocco_First_NDC_Translation_Engl...</td>\n",
              "      <td>MAR</td>\n",
              "      <td>Morocco</td>\n",
              "    </tr>\n",
              "    <tr>\n",
              "      <th>10820</th>\n",
              "      <td>0.077659</td>\n",
              "      <td>0.091337</td>\n",
              "      <td>0.082268</td>\n",
              "      <td>0.081088</td>\n",
              "      <td>0.075261</td>\n",
              "      <td>0.098032</td>\n",
              "      <td>0.110758</td>\n",
              "      <td>0.079583</td>\n",
              "      <td>0.074627</td>\n",
              "      <td>0.229387</td>\n",
              "      <td>Integrated planning is the key means of implem...</td>\n",
              "      <td>../txts/LKA_Sri-Lanka_First_NDC_English_Paragr...</td>\n",
              "      <td>LKA</td>\n",
              "      <td>Sri-Lanka</td>\n",
              "    </tr>\n",
              "    <tr>\n",
              "      <th>10821</th>\n",
              "      <td>0.105791</td>\n",
              "      <td>0.094371</td>\n",
              "      <td>0.089713</td>\n",
              "      <td>0.247973</td>\n",
              "      <td>0.099133</td>\n",
              "      <td>0.082690</td>\n",
              "      <td>0.067390</td>\n",
              "      <td>0.065853</td>\n",
              "      <td>0.069320</td>\n",
              "      <td>0.077766</td>\n",
              "      <td>Undertake barrier analysis for technology tra...</td>\n",
              "      <td>../txts/MDA_Republic-of-Moldova_First_NDC_Engl...</td>\n",
              "      <td>MDA</td>\n",
              "      <td>Republic-of-Moldova</td>\n",
              "    </tr>\n",
              "  </tbody>\n",
              "</table>\n",
              "<p>10822 rows × 14 columns</p>\n",
              "</div>"
            ],
            "text/plain": [
              "              0         1  ...  ISO              Country\n",
              "0      0.114069  0.175357  ...  CPV           Cabo-Verde\n",
              "1      0.070109  0.057798  ...  RWA               Rwanda\n",
              "2      0.087309  0.089468  ...  GMB               Gambia\n",
              "3      0.097654  0.079640  ...  JOR               Jordan\n",
              "4      0.104433  0.074627  ...  FSM           Micronesia\n",
              "...         ...       ...  ...  ...                  ...\n",
              "10817  0.084746  0.085242  ...  KHM             Cambodia\n",
              "10818  0.094197  0.086819  ...  URY              Uruguay\n",
              "10819  0.139809  0.073785  ...  MAR              Morocco\n",
              "10820  0.077659  0.091337  ...  LKA            Sri-Lanka\n",
              "10821  0.105791  0.094371  ...  MDA  Republic-of-Moldova\n",
              "\n",
              "[10822 rows x 14 columns]"
            ]
          },
          "metadata": {
            "tags": []
          },
          "execution_count": 54
        }
      ]
    },
    {
      "cell_type": "code",
      "metadata": {
        "id": "4qvNI9gsU7VH"
      },
      "source": [
        "distr_df.to_csv(\"topic_distr.csv\")"
      ],
      "execution_count": 55,
      "outputs": []
    },
    {
      "cell_type": "markdown",
      "metadata": {
        "id": "vj6-O08AVifx"
      },
      "source": [
        "Compute aggregated topic distribution for each country"
      ]
    },
    {
      "cell_type": "code",
      "metadata": {
        "colab": {
          "base_uri": "https://localhost:8080/",
          "height": 422
        },
        "id": "O8tyzFeBVnSh",
        "outputId": "8eaaba25-0ac5-4452-b154-612f80e93d03"
      },
      "source": [
        "agg_df = distr_df.drop(columns=['Text', 'Document', 'Country'])\n",
        "agg_df"
      ],
      "execution_count": 56,
      "outputs": [
        {
          "output_type": "execute_result",
          "data": {
            "text/html": [
              "<div>\n",
              "<style scoped>\n",
              "    .dataframe tbody tr th:only-of-type {\n",
              "        vertical-align: middle;\n",
              "    }\n",
              "\n",
              "    .dataframe tbody tr th {\n",
              "        vertical-align: top;\n",
              "    }\n",
              "\n",
              "    .dataframe thead th {\n",
              "        text-align: right;\n",
              "    }\n",
              "</style>\n",
              "<table border=\"1\" class=\"dataframe\">\n",
              "  <thead>\n",
              "    <tr style=\"text-align: right;\">\n",
              "      <th></th>\n",
              "      <th>0</th>\n",
              "      <th>1</th>\n",
              "      <th>2</th>\n",
              "      <th>3</th>\n",
              "      <th>4</th>\n",
              "      <th>5</th>\n",
              "      <th>6</th>\n",
              "      <th>7</th>\n",
              "      <th>8</th>\n",
              "      <th>9</th>\n",
              "      <th>ISO</th>\n",
              "    </tr>\n",
              "  </thead>\n",
              "  <tbody>\n",
              "    <tr>\n",
              "      <th>0</th>\n",
              "      <td>0.114069</td>\n",
              "      <td>0.175357</td>\n",
              "      <td>0.081081</td>\n",
              "      <td>0.117179</td>\n",
              "      <td>0.090149</td>\n",
              "      <td>0.068043</td>\n",
              "      <td>0.111691</td>\n",
              "      <td>0.084512</td>\n",
              "      <td>0.085790</td>\n",
              "      <td>0.072129</td>\n",
              "      <td>CPV</td>\n",
              "    </tr>\n",
              "    <tr>\n",
              "      <th>1</th>\n",
              "      <td>0.070109</td>\n",
              "      <td>0.057798</td>\n",
              "      <td>0.192343</td>\n",
              "      <td>0.112058</td>\n",
              "      <td>0.064949</td>\n",
              "      <td>0.052537</td>\n",
              "      <td>0.057540</td>\n",
              "      <td>0.065082</td>\n",
              "      <td>0.143141</td>\n",
              "      <td>0.184443</td>\n",
              "      <td>RWA</td>\n",
              "    </tr>\n",
              "    <tr>\n",
              "      <th>2</th>\n",
              "      <td>0.087309</td>\n",
              "      <td>0.089468</td>\n",
              "      <td>0.084746</td>\n",
              "      <td>0.104217</td>\n",
              "      <td>0.129692</td>\n",
              "      <td>0.102526</td>\n",
              "      <td>0.101695</td>\n",
              "      <td>0.130856</td>\n",
              "      <td>0.084746</td>\n",
              "      <td>0.084746</td>\n",
              "      <td>GMB</td>\n",
              "    </tr>\n",
              "    <tr>\n",
              "      <th>3</th>\n",
              "      <td>0.097654</td>\n",
              "      <td>0.079640</td>\n",
              "      <td>0.215493</td>\n",
              "      <td>0.076231</td>\n",
              "      <td>0.073529</td>\n",
              "      <td>0.097786</td>\n",
              "      <td>0.088431</td>\n",
              "      <td>0.073529</td>\n",
              "      <td>0.124165</td>\n",
              "      <td>0.073541</td>\n",
              "      <td>JOR</td>\n",
              "    </tr>\n",
              "    <tr>\n",
              "      <th>4</th>\n",
              "      <td>0.104433</td>\n",
              "      <td>0.074627</td>\n",
              "      <td>0.097522</td>\n",
              "      <td>0.134833</td>\n",
              "      <td>0.078469</td>\n",
              "      <td>0.082041</td>\n",
              "      <td>0.096948</td>\n",
              "      <td>0.077081</td>\n",
              "      <td>0.134452</td>\n",
              "      <td>0.119594</td>\n",
              "      <td>FSM</td>\n",
              "    </tr>\n",
              "    <tr>\n",
              "      <th>...</th>\n",
              "      <td>...</td>\n",
              "      <td>...</td>\n",
              "      <td>...</td>\n",
              "      <td>...</td>\n",
              "      <td>...</td>\n",
              "      <td>...</td>\n",
              "      <td>...</td>\n",
              "      <td>...</td>\n",
              "      <td>...</td>\n",
              "      <td>...</td>\n",
              "      <td>...</td>\n",
              "    </tr>\n",
              "    <tr>\n",
              "      <th>10817</th>\n",
              "      <td>0.084746</td>\n",
              "      <td>0.085242</td>\n",
              "      <td>0.086994</td>\n",
              "      <td>0.087411</td>\n",
              "      <td>0.118964</td>\n",
              "      <td>0.177622</td>\n",
              "      <td>0.090500</td>\n",
              "      <td>0.084746</td>\n",
              "      <td>0.084746</td>\n",
              "      <td>0.099029</td>\n",
              "      <td>KHM</td>\n",
              "    </tr>\n",
              "    <tr>\n",
              "      <th>10818</th>\n",
              "      <td>0.094197</td>\n",
              "      <td>0.086819</td>\n",
              "      <td>0.140649</td>\n",
              "      <td>0.086435</td>\n",
              "      <td>0.094008</td>\n",
              "      <td>0.089360</td>\n",
              "      <td>0.100398</td>\n",
              "      <td>0.101541</td>\n",
              "      <td>0.084746</td>\n",
              "      <td>0.121847</td>\n",
              "      <td>URY</td>\n",
              "    </tr>\n",
              "    <tr>\n",
              "      <th>10819</th>\n",
              "      <td>0.139809</td>\n",
              "      <td>0.073785</td>\n",
              "      <td>0.069578</td>\n",
              "      <td>0.094597</td>\n",
              "      <td>0.203837</td>\n",
              "      <td>0.068493</td>\n",
              "      <td>0.071861</td>\n",
              "      <td>0.085160</td>\n",
              "      <td>0.072712</td>\n",
              "      <td>0.120168</td>\n",
              "      <td>MAR</td>\n",
              "    </tr>\n",
              "    <tr>\n",
              "      <th>10820</th>\n",
              "      <td>0.077659</td>\n",
              "      <td>0.091337</td>\n",
              "      <td>0.082268</td>\n",
              "      <td>0.081088</td>\n",
              "      <td>0.075261</td>\n",
              "      <td>0.098032</td>\n",
              "      <td>0.110758</td>\n",
              "      <td>0.079583</td>\n",
              "      <td>0.074627</td>\n",
              "      <td>0.229387</td>\n",
              "      <td>LKA</td>\n",
              "    </tr>\n",
              "    <tr>\n",
              "      <th>10821</th>\n",
              "      <td>0.105791</td>\n",
              "      <td>0.094371</td>\n",
              "      <td>0.089713</td>\n",
              "      <td>0.247973</td>\n",
              "      <td>0.099133</td>\n",
              "      <td>0.082690</td>\n",
              "      <td>0.067390</td>\n",
              "      <td>0.065853</td>\n",
              "      <td>0.069320</td>\n",
              "      <td>0.077766</td>\n",
              "      <td>MDA</td>\n",
              "    </tr>\n",
              "  </tbody>\n",
              "</table>\n",
              "<p>10822 rows × 11 columns</p>\n",
              "</div>"
            ],
            "text/plain": [
              "              0         1         2  ...         8         9  ISO\n",
              "0      0.114069  0.175357  0.081081  ...  0.085790  0.072129  CPV\n",
              "1      0.070109  0.057798  0.192343  ...  0.143141  0.184443  RWA\n",
              "2      0.087309  0.089468  0.084746  ...  0.084746  0.084746  GMB\n",
              "3      0.097654  0.079640  0.215493  ...  0.124165  0.073541  JOR\n",
              "4      0.104433  0.074627  0.097522  ...  0.134452  0.119594  FSM\n",
              "...         ...       ...       ...  ...       ...       ...  ...\n",
              "10817  0.084746  0.085242  0.086994  ...  0.084746  0.099029  KHM\n",
              "10818  0.094197  0.086819  0.140649  ...  0.084746  0.121847  URY\n",
              "10819  0.139809  0.073785  0.069578  ...  0.072712  0.120168  MAR\n",
              "10820  0.077659  0.091337  0.082268  ...  0.074627  0.229387  LKA\n",
              "10821  0.105791  0.094371  0.089713  ...  0.069320  0.077766  MDA\n",
              "\n",
              "[10822 rows x 11 columns]"
            ]
          },
          "metadata": {
            "tags": []
          },
          "execution_count": 56
        }
      ]
    },
    {
      "cell_type": "code",
      "metadata": {
        "colab": {
          "base_uri": "https://localhost:8080/",
          "height": 454
        },
        "id": "eMUz04REWLcH",
        "outputId": "0439a172-63d5-4fc7-97b2-57331a93763d"
      },
      "source": [
        "agg_df.groupby('ISO').mean()"
      ],
      "execution_count": 57,
      "outputs": [
        {
          "output_type": "execute_result",
          "data": {
            "text/html": [
              "<div>\n",
              "<style scoped>\n",
              "    .dataframe tbody tr th:only-of-type {\n",
              "        vertical-align: middle;\n",
              "    }\n",
              "\n",
              "    .dataframe tbody tr th {\n",
              "        vertical-align: top;\n",
              "    }\n",
              "\n",
              "    .dataframe thead th {\n",
              "        text-align: right;\n",
              "    }\n",
              "</style>\n",
              "<table border=\"1\" class=\"dataframe\">\n",
              "  <thead>\n",
              "    <tr style=\"text-align: right;\">\n",
              "      <th></th>\n",
              "      <th>0</th>\n",
              "      <th>1</th>\n",
              "      <th>2</th>\n",
              "      <th>3</th>\n",
              "      <th>4</th>\n",
              "      <th>5</th>\n",
              "      <th>6</th>\n",
              "      <th>7</th>\n",
              "      <th>8</th>\n",
              "      <th>9</th>\n",
              "    </tr>\n",
              "    <tr>\n",
              "      <th>ISO</th>\n",
              "      <th></th>\n",
              "      <th></th>\n",
              "      <th></th>\n",
              "      <th></th>\n",
              "      <th></th>\n",
              "      <th></th>\n",
              "      <th></th>\n",
              "      <th></th>\n",
              "      <th></th>\n",
              "      <th></th>\n",
              "    </tr>\n",
              "  </thead>\n",
              "  <tbody>\n",
              "    <tr>\n",
              "      <th>AFG</th>\n",
              "      <td>0.098207</td>\n",
              "      <td>0.100018</td>\n",
              "      <td>0.100144</td>\n",
              "      <td>0.104188</td>\n",
              "      <td>0.100648</td>\n",
              "      <td>0.091385</td>\n",
              "      <td>0.107089</td>\n",
              "      <td>0.108608</td>\n",
              "      <td>0.092341</td>\n",
              "      <td>0.097372</td>\n",
              "    </tr>\n",
              "    <tr>\n",
              "      <th>AGO</th>\n",
              "      <td>0.088870</td>\n",
              "      <td>0.112105</td>\n",
              "      <td>0.139680</td>\n",
              "      <td>0.089328</td>\n",
              "      <td>0.089251</td>\n",
              "      <td>0.089864</td>\n",
              "      <td>0.086911</td>\n",
              "      <td>0.109067</td>\n",
              "      <td>0.096522</td>\n",
              "      <td>0.098403</td>\n",
              "    </tr>\n",
              "    <tr>\n",
              "      <th>ALB</th>\n",
              "      <td>0.103413</td>\n",
              "      <td>0.094241</td>\n",
              "      <td>0.097601</td>\n",
              "      <td>0.099238</td>\n",
              "      <td>0.098496</td>\n",
              "      <td>0.094199</td>\n",
              "      <td>0.097978</td>\n",
              "      <td>0.093889</td>\n",
              "      <td>0.121011</td>\n",
              "      <td>0.099932</td>\n",
              "    </tr>\n",
              "    <tr>\n",
              "      <th>ARE</th>\n",
              "      <td>0.106980</td>\n",
              "      <td>0.168953</td>\n",
              "      <td>0.081960</td>\n",
              "      <td>0.099266</td>\n",
              "      <td>0.093057</td>\n",
              "      <td>0.100261</td>\n",
              "      <td>0.088442</td>\n",
              "      <td>0.089339</td>\n",
              "      <td>0.084132</td>\n",
              "      <td>0.087610</td>\n",
              "    </tr>\n",
              "    <tr>\n",
              "      <th>ARG</th>\n",
              "      <td>0.092453</td>\n",
              "      <td>0.080854</td>\n",
              "      <td>0.106646</td>\n",
              "      <td>0.093117</td>\n",
              "      <td>0.118848</td>\n",
              "      <td>0.087568</td>\n",
              "      <td>0.096656</td>\n",
              "      <td>0.078834</td>\n",
              "      <td>0.147709</td>\n",
              "      <td>0.097314</td>\n",
              "    </tr>\n",
              "    <tr>\n",
              "      <th>...</th>\n",
              "      <td>...</td>\n",
              "      <td>...</td>\n",
              "      <td>...</td>\n",
              "      <td>...</td>\n",
              "      <td>...</td>\n",
              "      <td>...</td>\n",
              "      <td>...</td>\n",
              "      <td>...</td>\n",
              "      <td>...</td>\n",
              "      <td>...</td>\n",
              "    </tr>\n",
              "    <tr>\n",
              "      <th>WSM</th>\n",
              "      <td>0.107656</td>\n",
              "      <td>0.110090</td>\n",
              "      <td>0.101580</td>\n",
              "      <td>0.100470</td>\n",
              "      <td>0.094321</td>\n",
              "      <td>0.097264</td>\n",
              "      <td>0.094867</td>\n",
              "      <td>0.089461</td>\n",
              "      <td>0.104342</td>\n",
              "      <td>0.099949</td>\n",
              "    </tr>\n",
              "    <tr>\n",
              "      <th>YEM</th>\n",
              "      <td>0.089426</td>\n",
              "      <td>0.095587</td>\n",
              "      <td>0.105504</td>\n",
              "      <td>0.092414</td>\n",
              "      <td>0.094693</td>\n",
              "      <td>0.148052</td>\n",
              "      <td>0.111338</td>\n",
              "      <td>0.086416</td>\n",
              "      <td>0.084473</td>\n",
              "      <td>0.092098</td>\n",
              "    </tr>\n",
              "    <tr>\n",
              "      <th>ZAF</th>\n",
              "      <td>0.139589</td>\n",
              "      <td>0.080156</td>\n",
              "      <td>0.114983</td>\n",
              "      <td>0.109494</td>\n",
              "      <td>0.090521</td>\n",
              "      <td>0.075705</td>\n",
              "      <td>0.097320</td>\n",
              "      <td>0.070608</td>\n",
              "      <td>0.120918</td>\n",
              "      <td>0.100706</td>\n",
              "    </tr>\n",
              "    <tr>\n",
              "      <th>ZMB</th>\n",
              "      <td>0.094707</td>\n",
              "      <td>0.094259</td>\n",
              "      <td>0.096412</td>\n",
              "      <td>0.108884</td>\n",
              "      <td>0.098426</td>\n",
              "      <td>0.100350</td>\n",
              "      <td>0.084323</td>\n",
              "      <td>0.114427</td>\n",
              "      <td>0.085348</td>\n",
              "      <td>0.122865</td>\n",
              "    </tr>\n",
              "    <tr>\n",
              "      <th>ZWE</th>\n",
              "      <td>0.107440</td>\n",
              "      <td>0.099157</td>\n",
              "      <td>0.093203</td>\n",
              "      <td>0.102430</td>\n",
              "      <td>0.107642</td>\n",
              "      <td>0.098164</td>\n",
              "      <td>0.094161</td>\n",
              "      <td>0.098165</td>\n",
              "      <td>0.097957</td>\n",
              "      <td>0.101682</td>\n",
              "    </tr>\n",
              "  </tbody>\n",
              "</table>\n",
              "<p>138 rows × 10 columns</p>\n",
              "</div>"
            ],
            "text/plain": [
              "            0         1         2  ...         7         8         9\n",
              "ISO                                ...                              \n",
              "AFG  0.098207  0.100018  0.100144  ...  0.108608  0.092341  0.097372\n",
              "AGO  0.088870  0.112105  0.139680  ...  0.109067  0.096522  0.098403\n",
              "ALB  0.103413  0.094241  0.097601  ...  0.093889  0.121011  0.099932\n",
              "ARE  0.106980  0.168953  0.081960  ...  0.089339  0.084132  0.087610\n",
              "ARG  0.092453  0.080854  0.106646  ...  0.078834  0.147709  0.097314\n",
              "..        ...       ...       ...  ...       ...       ...       ...\n",
              "WSM  0.107656  0.110090  0.101580  ...  0.089461  0.104342  0.099949\n",
              "YEM  0.089426  0.095587  0.105504  ...  0.086416  0.084473  0.092098\n",
              "ZAF  0.139589  0.080156  0.114983  ...  0.070608  0.120918  0.100706\n",
              "ZMB  0.094707  0.094259  0.096412  ...  0.114427  0.085348  0.122865\n",
              "ZWE  0.107440  0.099157  0.093203  ...  0.098165  0.097957  0.101682\n",
              "\n",
              "[138 rows x 10 columns]"
            ]
          },
          "metadata": {
            "tags": []
          },
          "execution_count": 57
        }
      ]
    },
    {
      "cell_type": "code",
      "metadata": {
        "id": "rrsXKWVLWss2"
      },
      "source": [
        "agg_df.to_csv(\"aggregated_data.csv\")"
      ],
      "execution_count": 58,
      "outputs": []
    }
  ]
}