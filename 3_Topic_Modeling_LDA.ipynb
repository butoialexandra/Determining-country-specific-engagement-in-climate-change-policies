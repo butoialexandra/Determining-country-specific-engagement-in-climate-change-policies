{
  "nbformat": 4,
  "nbformat_minor": 0,
  "metadata": {
    "colab": {
      "name": "3_Topic_Modeling:LDA.ipynb",
      "provenance": [],
      "collapsed_sections": [],
      "authorship_tag": "ABX9TyNv5RRq7+pbp/Yqi74RQsKp",
      "include_colab_link": true
    },
    "kernelspec": {
      "name": "python3",
      "display_name": "Python 3"
    },
    "language_info": {
      "name": "python"
    }
  },
  "cells": [
    {
      "cell_type": "markdown",
      "metadata": {
        "id": "view-in-github",
        "colab_type": "text"
      },
      "source": [
        "<a href=\"https://colab.research.google.com/github/butoialexandra/Determining-country-specific-engagement-in-climate-change-policies/blob/main/3_Topic_Modeling_LDA.ipynb\" target=\"_parent\"><img src=\"https://colab.research.google.com/assets/colab-badge.svg\" alt=\"Open In Colab\"/></a>"
      ]
    },
    {
      "cell_type": "markdown",
      "metadata": {
        "id": "-fkSaDhCk7LH"
      },
      "source": [
        "# Topic Modeling"
      ]
    },
    {
      "cell_type": "markdown",
      "metadata": {
        "id": "r9pwMrvwjDSe"
      },
      "source": [
        "Code adapted from [here](https://neptune.ai/blog/pyldavis-topic-modelling-exploration-tool-that-every-nlp-data-scientist-should-know?utm_source=datacamp&utm_medium=post&utm_campaign=blog-pyldavis-topic-modelling-exploration-tool-that-every-nlp-data-scientist-should-know)\n"
      ]
    },
    {
      "cell_type": "markdown",
      "metadata": {
        "id": "Uxx2La5e3QkO"
      },
      "source": [
        "Mount drive"
      ]
    },
    {
      "cell_type": "code",
      "metadata": {
        "colab": {
          "base_uri": "https://localhost:8080/"
        },
        "id": "3zdEeWi5ybg5",
        "outputId": "da87c2f0-3601-4596-e684-7aecea24102c"
      },
      "source": [
        "from google.colab import drive\n",
        "drive.mount('/content/drive/', force_remount=True)"
      ],
      "execution_count": 1,
      "outputs": [
        {
          "output_type": "stream",
          "text": [
            "Mounted at /content/drive/\n"
          ],
          "name": "stdout"
        }
      ]
    },
    {
      "cell_type": "markdown",
      "metadata": {
        "id": "QBCyp1Ca3Ufy"
      },
      "source": [
        "Check you're in the right place"
      ]
    },
    {
      "cell_type": "code",
      "metadata": {
        "colab": {
          "base_uri": "https://localhost:8080/"
        },
        "id": "1cHt3PKN3HrK",
        "outputId": "b48ee123-9c2e-40bf-b340-fef7f3a32c46"
      },
      "source": [
        "!pwd"
      ],
      "execution_count": 2,
      "outputs": [
        {
          "output_type": "stream",
          "text": [
            "/content\n"
          ],
          "name": "stdout"
        }
      ]
    },
    {
      "cell_type": "code",
      "metadata": {
        "colab": {
          "base_uri": "https://localhost:8080/"
        },
        "id": "FNp4m_N80qDI",
        "outputId": "18a585e6-a3fb-4801-db31-41adb30048dc"
      },
      "source": [
        "%cd /content/drive/My\\ Drive/"
      ],
      "execution_count": 3,
      "outputs": [
        {
          "output_type": "stream",
          "text": [
            "/content/drive/My Drive\n"
          ],
          "name": "stdout"
        }
      ]
    },
    {
      "cell_type": "markdown",
      "metadata": {
        "id": "CmvcgHy3QbFa"
      },
      "source": [
        "Download these libraries if haven't done already"
      ]
    },
    {
      "cell_type": "code",
      "metadata": {
        "id": "9lqHi-qcy2eL"
      },
      "source": [
        "!python -m spacy download en\n",
        "!pip install pyLDAvis==3.2.1"
      ],
      "execution_count": null,
      "outputs": []
    },
    {
      "cell_type": "markdown",
      "metadata": {
        "id": "EtSf__zW3cvA"
      },
      "source": [
        "Imports"
      ]
    },
    {
      "cell_type": "code",
      "metadata": {
        "id": "6GrkfDNgzE_Q",
        "colab": {
          "base_uri": "https://localhost:8080/"
        },
        "outputId": "251edd61-9cf4-43ac-9fda-1004fcb7763b"
      },
      "source": [
        "import re\n",
        "import numpy as np\n",
        "import pandas as pd\n",
        "import glob\n",
        "from pprint import pprint\n",
        "from tqdm import tqdm\n",
        "\n",
        "import gensim\n",
        "import gensim.corpora as corpora\n",
        "from gensim.utils import simple_preprocess\n",
        "from gensim.models import CoherenceModel\n",
        "from gensim.parsing.porter import PorterStemmer\n",
        "\n",
        "import spacy\n",
        "\n",
        "import pyLDAvis\n",
        "import pyLDAvis.gensim \n",
        "import matplotlib.pyplot as plt\n",
        "%matplotlib inline\n",
        "\n",
        "import nltk; nltk.download('stopwords')\n",
        "from nltk.corpus import stopwords\n",
        "stop_words = stopwords.words('english')\n",
        "\n",
        "import warnings\n",
        "warnings.filterwarnings(\"ignore\", category=DeprecationWarning) "
      ],
      "execution_count": 33,
      "outputs": [
        {
          "output_type": "stream",
          "text": [
            "[nltk_data] Downloading package stopwords to /root/nltk_data...\n",
            "[nltk_data]   Package stopwords is already up-to-date!\n"
          ],
          "name": "stdout"
        }
      ]
    },
    {
      "cell_type": "markdown",
      "metadata": {
        "id": "y4i2ytiURmk1"
      },
      "source": [
        "Load data"
      ]
    },
    {
      "cell_type": "code",
      "metadata": {
        "id": "dky5_S4_1r0H"
      },
      "source": [
        "df = pd.read_csv(\"./data.csv\") "
      ],
      "execution_count": 7,
      "outputs": []
    },
    {
      "cell_type": "code",
      "metadata": {
        "id": "KTZaY1vz0jl_",
        "colab": {
          "base_uri": "https://localhost:8080/",
          "height": 205
        },
        "outputId": "0f7be576-28d1-4a7d-c067-b5719de80aed"
      },
      "source": [
        "df.head(5)"
      ],
      "execution_count": 8,
      "outputs": [
        {
          "output_type": "execute_result",
          "data": {
            "text/html": [
              "<div>\n",
              "<style scoped>\n",
              "    .dataframe tbody tr th:only-of-type {\n",
              "        vertical-align: middle;\n",
              "    }\n",
              "\n",
              "    .dataframe tbody tr th {\n",
              "        vertical-align: top;\n",
              "    }\n",
              "\n",
              "    .dataframe thead th {\n",
              "        text-align: right;\n",
              "    }\n",
              "</style>\n",
              "<table border=\"1\" class=\"dataframe\">\n",
              "  <thead>\n",
              "    <tr style=\"text-align: right;\">\n",
              "      <th></th>\n",
              "      <th>Document</th>\n",
              "      <th>NDC</th>\n",
              "    </tr>\n",
              "  </thead>\n",
              "  <tbody>\n",
              "    <tr>\n",
              "      <th>0</th>\n",
              "      <td>../txts/CPV_Cabo-Verde_First_NDC_English_Parag...</td>\n",
              "      <td>Cabo Verde is committed to implement the Susta...</td>\n",
              "    </tr>\n",
              "    <tr>\n",
              "      <th>1</th>\n",
              "      <td>../txts/LKA_Sri-Lanka_First_NDC_English_Paragr...</td>\n",
              "      <td>The means of implementation of NDCs of Sri Lan...</td>\n",
              "    </tr>\n",
              "    <tr>\n",
              "      <th>2</th>\n",
              "      <td>../txts/RWA_Rwanda_First_NDC_English_Paragraph...</td>\n",
              "      <td>This updated NDC updates and strengthens the f...</td>\n",
              "    </tr>\n",
              "    <tr>\n",
              "      <th>3</th>\n",
              "      <td>../txts/NER_Niger_First_NDC_Translation_Englis...</td>\n",
              "      <td>to use climate financing and benefit from the ...</td>\n",
              "    </tr>\n",
              "    <tr>\n",
              "      <th>4</th>\n",
              "      <td>../txts/GMB_Gambia_First_NDC_English_Paragraph...</td>\n",
              "      <td>Gambia Watershed by a) Improving disaster prep...</td>\n",
              "    </tr>\n",
              "  </tbody>\n",
              "</table>\n",
              "</div>"
            ],
            "text/plain": [
              "                                            Document                                                NDC\n",
              "0  ../txts/CPV_Cabo-Verde_First_NDC_English_Parag...  Cabo Verde is committed to implement the Susta...\n",
              "1  ../txts/LKA_Sri-Lanka_First_NDC_English_Paragr...  The means of implementation of NDCs of Sri Lan...\n",
              "2  ../txts/RWA_Rwanda_First_NDC_English_Paragraph...  This updated NDC updates and strengthens the f...\n",
              "3  ../txts/NER_Niger_First_NDC_Translation_Englis...  to use climate financing and benefit from the ...\n",
              "4  ../txts/GMB_Gambia_First_NDC_English_Paragraph...  Gambia Watershed by a) Improving disaster prep..."
            ]
          },
          "metadata": {
            "tags": []
          },
          "execution_count": 8
        }
      ]
    },
    {
      "cell_type": "markdown",
      "metadata": {
        "id": "uVFZqnb7Rxex"
      },
      "source": [
        "Some processing"
      ]
    },
    {
      "cell_type": "code",
      "metadata": {
        "id": "2TlMRCCB02FY"
      },
      "source": [
        "df['NDC_processed'] = df['NDC'].apply(lambda x: re.sub('[(),\\\\.!?0-9]', '', x))\n",
        "df['NDC_processed'] = df['NDC_processed'].apply(lambda x: x.lower())\n",
        "df['NDC_processed'] = df['NDC_processed'].apply(lambda x: x.strip())\n",
        "df['NDC_processed'] = df['NDC_processed'].apply(lambda x: re.sub(' +', ' ', x))\n",
        "df = df[df['NDC_processed'].apply(lambda x: len(x) > 100)]"
      ],
      "execution_count": 10,
      "outputs": []
    },
    {
      "cell_type": "code",
      "metadata": {
        "id": "Q3fa_b6R04HX",
        "colab": {
          "base_uri": "https://localhost:8080/",
          "height": 422
        },
        "outputId": "10c0316d-bb35-4e14-aa92-486ae9d8cc58"
      },
      "source": [
        "df = df.reset_index(drop=True)\n",
        "df"
      ],
      "execution_count": 68,
      "outputs": [
        {
          "output_type": "execute_result",
          "data": {
            "text/html": [
              "<div>\n",
              "<style scoped>\n",
              "    .dataframe tbody tr th:only-of-type {\n",
              "        vertical-align: middle;\n",
              "    }\n",
              "\n",
              "    .dataframe tbody tr th {\n",
              "        vertical-align: top;\n",
              "    }\n",
              "\n",
              "    .dataframe thead th {\n",
              "        text-align: right;\n",
              "    }\n",
              "</style>\n",
              "<table border=\"1\" class=\"dataframe\">\n",
              "  <thead>\n",
              "    <tr style=\"text-align: right;\">\n",
              "      <th></th>\n",
              "      <th>Document</th>\n",
              "      <th>NDC</th>\n",
              "      <th>NDC_processed</th>\n",
              "    </tr>\n",
              "  </thead>\n",
              "  <tbody>\n",
              "    <tr>\n",
              "      <th>0</th>\n",
              "      <td>../txts/CPV_Cabo-Verde_First_NDC_English_Parag...</td>\n",
              "      <td>Cabo Verde is committed to implement the Susta...</td>\n",
              "      <td>cabo verde is committed to implement the susta...</td>\n",
              "    </tr>\n",
              "    <tr>\n",
              "      <th>1</th>\n",
              "      <td>../txts/RWA_Rwanda_First_NDC_English_Paragraph...</td>\n",
              "      <td>This updated NDC updates and strengthens the f...</td>\n",
              "      <td>this updated ndc updates and strengthens the f...</td>\n",
              "    </tr>\n",
              "    <tr>\n",
              "      <th>2</th>\n",
              "      <td>../txts/GMB_Gambia_First_NDC_English_Paragraph...</td>\n",
              "      <td>Gambia Watershed by a) Improving disaster prep...</td>\n",
              "      <td>gambia watershed by a improving disaster prepa...</td>\n",
              "    </tr>\n",
              "    <tr>\n",
              "      <th>3</th>\n",
              "      <td>../txts/JOR_Jordan_First_NDC_English_Paragraph...</td>\n",
              "      <td>The estimated cost to reach the 14 target is t...</td>\n",
              "      <td>the estimated cost to reach the target is tota...</td>\n",
              "    </tr>\n",
              "    <tr>\n",
              "      <th>4</th>\n",
              "      <td>../txts/FSM_Micronesia_First_NDC_English_Parag...</td>\n",
              "      <td>Moreover, national efforts to implement INDC i...</td>\n",
              "      <td>moreover national efforts to implement indc in...</td>\n",
              "    </tr>\n",
              "    <tr>\n",
              "      <th>...</th>\n",
              "      <td>...</td>\n",
              "      <td>...</td>\n",
              "      <td>...</td>\n",
              "    </tr>\n",
              "    <tr>\n",
              "      <th>10817</th>\n",
              "      <td>../txts/KHM_Cambodia_First_NDC_English_Paragra...</td>\n",
              "      <td>conducting surveillance and research on waterb...</td>\n",
              "      <td>conducting surveillance and research on waterb...</td>\n",
              "    </tr>\n",
              "    <tr>\n",
              "      <th>10818</th>\n",
              "      <td>../txts/URY_Uruguay_First_NDC_Translation_Engl...</td>\n",
              "      <td>The above chart contains a not exhaustive list...</td>\n",
              "      <td>the above chart contains a not exhaustive list...</td>\n",
              "    </tr>\n",
              "    <tr>\n",
              "      <th>10819</th>\n",
              "      <td>../txts/MAR_Morocco_First_NDC_Translation_Engl...</td>\n",
              "      <td>principles to be respected by the state, local...</td>\n",
              "      <td>principles to be respected by the state local ...</td>\n",
              "    </tr>\n",
              "    <tr>\n",
              "      <th>10820</th>\n",
              "      <td>../txts/LKA_Sri-Lanka_First_NDC_English_Paragr...</td>\n",
              "      <td>Integrated planning is the key means of implem...</td>\n",
              "      <td>integrated planning is the key means of implem...</td>\n",
              "    </tr>\n",
              "    <tr>\n",
              "      <th>10821</th>\n",
              "      <td>../txts/MDA_Republic-of-Moldova_First_NDC_Engl...</td>\n",
              "      <td>Undertake barrier analysis for technology tra...</td>\n",
              "      <td>undertake barrier analysis for technology tran...</td>\n",
              "    </tr>\n",
              "  </tbody>\n",
              "</table>\n",
              "<p>10822 rows × 3 columns</p>\n",
              "</div>"
            ],
            "text/plain": [
              "                                                Document  ...                                      NDC_processed\n",
              "0      ../txts/CPV_Cabo-Verde_First_NDC_English_Parag...  ...  cabo verde is committed to implement the susta...\n",
              "1      ../txts/RWA_Rwanda_First_NDC_English_Paragraph...  ...  this updated ndc updates and strengthens the f...\n",
              "2      ../txts/GMB_Gambia_First_NDC_English_Paragraph...  ...  gambia watershed by a improving disaster prepa...\n",
              "3      ../txts/JOR_Jordan_First_NDC_English_Paragraph...  ...  the estimated cost to reach the target is tota...\n",
              "4      ../txts/FSM_Micronesia_First_NDC_English_Parag...  ...  moreover national efforts to implement indc in...\n",
              "...                                                  ...  ...                                                ...\n",
              "10817  ../txts/KHM_Cambodia_First_NDC_English_Paragra...  ...  conducting surveillance and research on waterb...\n",
              "10818  ../txts/URY_Uruguay_First_NDC_Translation_Engl...  ...  the above chart contains a not exhaustive list...\n",
              "10819  ../txts/MAR_Morocco_First_NDC_Translation_Engl...  ...  principles to be respected by the state local ...\n",
              "10820  ../txts/LKA_Sri-Lanka_First_NDC_English_Paragr...  ...  integrated planning is the key means of implem...\n",
              "10821  ../txts/MDA_Republic-of-Moldova_First_NDC_Engl...  ...  undertake barrier analysis for technology tran...\n",
              "\n",
              "[10822 rows x 3 columns]"
            ]
          },
          "metadata": {
            "tags": []
          },
          "execution_count": 68
        }
      ]
    },
    {
      "cell_type": "code",
      "metadata": {
        "id": "b0YU7t8OoYyN"
      },
      "source": [
        "df.to_csv(\"data_processed.csv\")"
      ],
      "execution_count": null,
      "outputs": []
    },
    {
      "cell_type": "markdown",
      "metadata": {
        "id": "i6k6a3-fURIB"
      },
      "source": [
        "Process data for LDA"
      ]
    },
    {
      "cell_type": "code",
      "metadata": {
        "id": "JLeCpxkbUliz"
      },
      "source": [
        "def sent_to_words(sentences):\n",
        "    for sentence in sentences:\n",
        "        yield(gensim.utils.simple_preprocess(str(sentence), deacc=True)) \n",
        "\n",
        "def remove_stopwords(texts):\n",
        "    return [[word for word in simple_preprocess(str(doc)) if word not in stop_words] for doc in texts]\n",
        "\n",
        "def make_bigrams(texts):\n",
        "    return [bigram_mod[doc] for doc in texts]\n",
        "\n",
        "# def make_trigrams(texts):\n",
        "#     return [trigram_mod[bigram_mod[doc]] for doc in texts]\n",
        "\n",
        "def lemmatization(texts, allowed_postags=['NOUN', 'ADJ', 'VERB', 'ADV']):\n",
        "    texts_out = []\n",
        "    for sent in texts:\n",
        "        doc = nlp(\" \".join(sent)) \n",
        "        texts_out.append([token.lemma_ for token in doc if token.pos_ in allowed_postags])\n",
        "        print([token.lemma_ for token in doc if token.pos_ in allowed_postags])\n",
        "    return texts_out\n",
        "\n",
        "def stemming(texts):\n",
        "  p = PorterStemmer()\n",
        "  return [p.stem_documents(text) for text in texts]"
      ],
      "execution_count": 23,
      "outputs": []
    },
    {
      "cell_type": "code",
      "metadata": {
        "id": "jPXA2ULP0-SP",
        "colab": {
          "base_uri": "https://localhost:8080/"
        },
        "outputId": "e9dd645d-08fb-44e8-d220-fa133b18dace"
      },
      "source": [
        "ndcs = df.NDC_processed.values.tolist()\n",
        "words = list(sent_to_words(ndcs))\n",
        "\n",
        "bigram = gensim.models.Phrases(words, min_count=5, threshold=100)\n",
        "# trigram = gensim.models.Phrases(bigram[words], threshold=100)\n",
        "\n",
        "bigram_mod = gensim.models.phrases.Phraser(bigram)\n",
        "# trigram_mod = gensim.models.phrases.Phraser(trigram)"
      ],
      "execution_count": 13,
      "outputs": [
        {
          "output_type": "stream",
          "text": [
            "/usr/local/lib/python3.7/dist-packages/gensim/models/phrases.py:598: UserWarning: For a faster implementation, use the gensim.models.phrases.Phraser class\n",
            "  warnings.warn(\"For a faster implementation, use the gensim.models.phrases.Phraser class\")\n"
          ],
          "name": "stderr"
        }
      ]
    },
    {
      "cell_type": "code",
      "metadata": {
        "id": "lMt_zsRa3Lgm"
      },
      "source": [
        "data_words_nostops = remove_stopwords(words)\n",
        "\n",
        "#data_words_bigrams = make_bigrams(data_words_nostops)\n",
        "\n",
        "#nlp = spacy.load('en', disable=['parser', 'ner'])\n",
        "\n",
        "#data_lemmatized = lemmatization(data_words_bigrams, allowed_postags=['NOUN', 'ADJ', 'VERB', 'ADV'])\n",
        "\n",
        "data_stemmed = stemming(data_words_nostops)\n",
        "\n",
        "data_words_bigrams = make_bigrams(data_stemmed)"
      ],
      "execution_count": 27,
      "outputs": []
    },
    {
      "cell_type": "code",
      "metadata": {
        "id": "iNR5Rx5iskAq"
      },
      "source": [
        "data_words_bigrams"
      ],
      "execution_count": null,
      "outputs": []
    },
    {
      "cell_type": "markdown",
      "metadata": {
        "id": "FPKl36fmVdPF"
      },
      "source": [
        "Make corpus"
      ]
    },
    {
      "cell_type": "code",
      "metadata": {
        "id": "uVQK1tKO3alB"
      },
      "source": [
        "id2word = corpora.Dictionary(data_words_bigrams)\n",
        "texts = data_words_bigrams\n",
        "corpus = [id2word.doc2bow(text) for text in texts]"
      ],
      "execution_count": 40,
      "outputs": []
    },
    {
      "cell_type": "markdown",
      "metadata": {
        "id": "DOUTxYeLVlDq"
      },
      "source": [
        "Train gensim LDA model with 10 topics"
      ]
    },
    {
      "cell_type": "code",
      "metadata": {
        "id": "3CL8JSdh3yWV"
      },
      "source": [
        "lda_model = gensim.models.ldamodel.LdaModel(corpus=corpus,\n",
        "                                           id2word=id2word,\n",
        "                                           num_topics=10, \n",
        "                                           random_state=100,\n",
        "                                           update_every=1,\n",
        "                                           chunksize=100,\n",
        "                                           passes=10,\n",
        "                                           alpha='auto',\n",
        "                                           per_word_topics=True)"
      ],
      "execution_count": 41,
      "outputs": []
    },
    {
      "cell_type": "code",
      "metadata": {
        "id": "atNY8sxL4B9a",
        "colab": {
          "base_uri": "https://localhost:8080/"
        },
        "outputId": "e065ff10-9db8-42a9-8c97-e2a0dab95753"
      },
      "source": [
        "pprint(lda_model.print_topics())\n",
        "doc_lda = lda_model[corpus]"
      ],
      "execution_count": 42,
      "outputs": [
        {
          "output_type": "stream",
          "text": [
            "[(0,\n",
            "  '0.026*\"island\" + 0.025*\"increas\" + 0.024*\"flood\" + 0.021*\"temperatur\" + '\n",
            "  '0.020*\"rise\" + 0.018*\"drought\" + 0.017*\"countri\" + 0.016*\"affect\" + '\n",
            "  '0.014*\"rainfal\" + 0.013*\"result\"'),\n",
            " (1,\n",
            "  '0.091*\"emiss\" + 0.036*\"ghg\" + 0.030*\"sector\" + 0.030*\"project\" + '\n",
            "  '0.027*\"reduct\" + 0.021*\"year\" + 0.019*\"growth\" + 0.018*\"carbon\" + '\n",
            "  '0.016*\"reduc\" + 0.016*\"estim\"'),\n",
            " (2,\n",
            "  '0.038*\"nation\" + 0.025*\"contribut\" + 0.018*\"target\" + 0.016*\"indc\" + '\n",
            "  '0.015*\"ndc\" + 0.014*\"achiev\" + 0.013*\"countri\" + 0.011*\"identifi\" + '\n",
            "  '0.011*\"commun\" + 0.011*\"inform\"'),\n",
            " (3,\n",
            "  '0.046*\"forest\" + 0.045*\"area\" + 0.029*\"natur\" + 0.029*\"popul\" + '\n",
            "  '0.025*\"protect\" + 0.022*\"econom\" + 0.018*\"high\" + 0.015*\"peopl\" + '\n",
            "  '0.014*\"social\" + 0.014*\"resourc\"'),\n",
            " (4,\n",
            "  '0.113*\"us\" + 0.041*\"land\" + 0.031*\"data\" + 0.024*\"forestri\" + 0.020*\"ipcc\" '\n",
            "  '+ 0.014*\"valu\" + 0.014*\"potenti\" + 0.014*\"livestock\" + 0.013*\"includ\" + '\n",
            "  '0.013*\"decreas\"'),\n",
            " (5,\n",
            "  '0.053*\"develop\" + 0.037*\"adapt\" + 0.030*\"plan\" + 0.029*\"implement\" + '\n",
            "  '0.023*\"action\" + 0.021*\"sector\" + 0.019*\"nation\" + 0.018*\"polici\" + '\n",
            "  '0.017*\"measur\" + 0.017*\"mitig\"'),\n",
            " (6,\n",
            "  '0.195*\"climat\" + 0.151*\"chang\" + 0.035*\"impact\" + 0.028*\"vulner\" + '\n",
            "  '0.023*\"institut\" + 0.021*\"risk\" + 0.019*\"assess\" + 0.018*\"integr\" + '\n",
            "  '0.017*\"local\" + 0.016*\"disast\"'),\n",
            " (7,\n",
            "  '0.030*\"could\" + 0.028*\"singapor\" + 0.028*\"percent\" + 0.025*\"applic\" + '\n",
            "  '0.018*\"per_cent\" + 0.017*\"somalia\" + 0.017*\"around\" + 0.017*\"declin\" + '\n",
            "  '0.014*\"uncondit\" + 0.014*\"mrv\"'),\n",
            " (8,\n",
            "  '0.057*\"water\" + 0.056*\"agricultur\" + 0.052*\"manag\" + 0.033*\"product\" + '\n",
            "  '0.024*\"infrastructur\" + 0.024*\"improv\" + 0.024*\"system\" + 0.022*\"resourc\" + '\n",
            "  '0.021*\"health\" + 0.019*\"increas\"'),\n",
            " (9,\n",
            "  '0.120*\"energi\" + 0.033*\"gener\" + 0.030*\"effici\" + 0.029*\"transport\" + '\n",
            "  '0.028*\"electr\" + 0.026*\"renew\" + 0.025*\"wast\" + 0.023*\"industri\" + '\n",
            "  '0.019*\"power\" + 0.018*\"sourc\"')]\n"
          ],
          "name": "stdout"
        }
      ]
    },
    {
      "cell_type": "markdown",
      "metadata": {
        "id": "ZAFcw3kdWLYp"
      },
      "source": [
        "Check perplexity and coherence score"
      ]
    },
    {
      "cell_type": "code",
      "metadata": {
        "id": "EhBVTZ2m4Kxp",
        "colab": {
          "base_uri": "https://localhost:8080/"
        },
        "outputId": "bd81c09e-64df-4484-8a32-5e78da7e35e7"
      },
      "source": [
        "print('Perplexity: {}'.format(lda_model.log_perplexity(corpus)))\n",
        "\n",
        "coherence_model_lda = CoherenceModel(model=lda_model, texts=texts, dictionary=id2word, coherence='c_v')\n",
        "coherence_lda = coherence_model_lda.get_coherence()\n",
        "print('Coherence Score: {}'.format(coherence_lda))"
      ],
      "execution_count": 43,
      "outputs": [
        {
          "output_type": "stream",
          "text": [
            "Perplexity: -7.249567337190181\n",
            "Coherence Score: 0.5278614753593946\n"
          ],
          "name": "stdout"
        }
      ]
    },
    {
      "cell_type": "markdown",
      "metadata": {
        "id": "yo9TiiWQWcb-"
      },
      "source": [
        "Visualize topics"
      ]
    },
    {
      "cell_type": "code",
      "metadata": {
        "id": "dhtIjoJ94Rho",
        "colab": {
          "base_uri": "https://localhost:8080/",
          "height": 862
        },
        "outputId": "2fa63a1d-411e-412d-af82-e0f8b7af0de8"
      },
      "source": [
        "pyLDAvis.enable_notebook()\n",
        "vis = pyLDAvis.gensim.prepare(lda_model, corpus, id2word)\n",
        "vis"
      ],
      "execution_count": 44,
      "outputs": [
        {
          "output_type": "execute_result",
          "data": {
            "text/html": [
              "\n",
              "<link rel=\"stylesheet\" type=\"text/css\" href=\"https://cdn.jsdelivr.net/gh/bmabey/pyLDAvis/pyLDAvis/js/ldavis.v1.0.0.css\">\n",
              "\n",
              "\n",
              "<div id=\"ldavis_el621403212906851367918181838\"></div>\n",
              "<script type=\"text/javascript\">\n",
              "\n",
              "var ldavis_el621403212906851367918181838_data = {\"mdsDat\": {\"x\": [-0.25256578058644186, -0.25915351920111535, -0.14335973140043218, 0.11393788780318252, -0.0520362714819563, 0.08730786175594955, 0.0946887703557136, 0.053047489806943855, 0.15712322905633408, 0.20101006389182147], \"y\": [0.13405427192069855, -0.006692091458622452, -0.11356976719169945, -0.03074239633884352, -0.10450498212416434, 0.14100177339548878, 0.23937207648942138, -0.24714914504330934, 0.12744932571685408, -0.13921906536582415], \"topics\": [1, 2, 3, 4, 5, 6, 7, 8, 9, 10], \"cluster\": [1, 1, 1, 1, 1, 1, 1, 1, 1, 1], \"Freq\": [24.43468756690992, 18.030375165232098, 11.962419856899603, 9.398392896514169, 7.7089534784075555, 7.116050675842322, 6.857648055728579, 5.663567710749386, 5.651312913108892, 3.176591680607473]}, \"tinfo\": {\"Term\": [\"climat\", \"chang\", \"emiss\", \"energi\", \"us\", \"develop\", \"nation\", \"adapt\", \"water\", \"agricultur\", \"plan\", \"implement\", \"manag\", \"forest\", \"ghg\", \"area\", \"sector\", \"action\", \"impact\", \"contribut\", \"land\", \"reduct\", \"project\", \"product\", \"polici\", \"increas\", \"gener\", \"resourc\", \"vulner\", \"measur\", \"develop\", \"plan\", \"implement\", \"polici\", \"strategi\", \"measur\", \"need\", \"support\", \"prioriti\", \"invest\", \"strengthen\", \"financ\", \"respons\", \"requir\", \"monitor\", \"programm\", \"address\", \"initi\", \"fund\", \"ensur\", \"financi\", \"action\", \"mechan\", \"technic\", \"transfer\", \"green\", \"privat\", \"market\", \"strateg\", \"option\", \"cost\", \"capac\", \"kei\", \"intern\", \"adapt\", \"build\", \"technolog\", \"activ\", \"govern\", \"mitig\", \"process\", \"resili\", \"sector\", \"nation\", \"includ\", \"sustain\", \"provid\", \"level\", \"target\", \"ndc\", \"achiev\", \"identifi\", \"futur\", \"agreement\", \"object\", \"determin\", \"environ\", \"commit\", \"parti\", \"set\", \"unfccc\", \"ministri\", \"relev\", \"goal\", \"toward\", \"pari\", \"present\", \"updat\", \"convent\", \"within\", \"rmi\", \"coordin\", \"decis\", \"first\", \"meet\", \"context\", \"articl\", \"line\", \"indc\", \"contribut\", \"take\", \"inform\", \"nation\", \"state\", \"global\", \"commun\", \"report\", \"effort\", \"countri\", \"program\", \"base\", \"includ\", \"emiss\", \"ghg\", \"reduct\", \"estim\", \"total\", \"scenario\", \"gdp\", \"refer\", \"compar\", \"per\", \"greenhous\", \"world\", \"organ\", \"net\", \"sink\", \"lulucf\", \"lead\", \"deforest\", \"tonga\", \"per_capita\", \"baselin\", \"trend\", \"lower\", \"mine\", \"show\", \"figur\", \"assum\", \"bodi\", \"south_africa\", \"calcul\", \"ga\", \"growth\", \"carbon\", \"on\", \"year\", \"cover\", \"project\", \"low\", \"period\", \"would\", \"expect\", \"reduc\", \"sector\", \"level\", \"condit\", \"increas\", \"million\", \"base\", \"indic\", \"climat\", \"chang\", \"impact\", \"institut\", \"risk\", \"local\", \"disast\", \"sea_level\", \"research\", \"sever\", \"awar\", \"associ\", \"mani\", \"meteorolog\", \"conduct\", \"train\", \"ambit\", \"act\", \"consult\", \"nauru\", \"knowledg\", \"png\", \"napa\", \"central\", \"earli\", \"warn\", \"legisl\", \"council\", \"polit\", \"pollut\", \"vulner\", \"integr\", \"assess\", \"region\", \"differ\", \"effect\", \"public\", \"manag\", \"project\", \"adapt\", \"forest\", \"natur\", \"popul\", \"protect\", \"peopl\", \"ecosystem\", \"extrem\", \"issu\", \"conserv\", \"approxim\", \"degrad\", \"along\", \"educ\", \"poverti\", \"group\", \"live\", \"advers\", \"especi\", \"livelihood\", \"prevent\", \"marin\", \"scienc\", \"pathwai\", \"util\", \"control\", \"scale\", \"kiribati\", \"expand\", \"right\", \"incom\", \"high\", \"depend\", \"area\", \"social\", \"rural\", \"econom\", \"million\", \"human\", \"resourc\", \"sustain\", \"economi\", \"challeng\", \"commun\", \"water\", \"agricultur\", \"infrastructur\", \"health\", \"food\", \"secur\", \"servic\", \"loss\", \"major\", \"damag\", \"crop\", \"caus\", \"biodivers\", \"household\", \"fisheri\", \"road\", \"introduc\", \"diseas\", \"tourism\", \"solut\", \"etc\", \"emerg\", \"citi\", \"output\", \"better\", \"hous\", \"advanc\", \"km\", \"lebanon\", \"sri_lanka\", \"manag\", \"product\", \"improv\", \"system\", \"promot\", \"resourc\", \"increas\", \"practic\", \"reduc\", \"import\", \"suppli\", \"sustain\", \"land\", \"resili\", \"due\", \"enhanc\", \"includ\", \"energi\", \"gener\", \"effici\", \"transport\", \"electr\", \"renew\", \"power\", \"fuel\", \"standard\", \"solar\", \"demand\", \"fish\", \"consumpt\", \"author\", \"urban\", \"vehicl\", \"clean\", \"qualiti\", \"link\", \"mw\", \"altern\", \"instal\", \"distribut\", \"uae\", \"scientif\", \"divers\", \"manufactur\", \"regulatori\", \"chain\", \"solid\", \"wast\", \"industri\", \"sourc\", \"construct\", \"plant\", \"suppli\", \"reduc\", \"sector\", \"promot\", \"improv\", \"island\", \"flood\", \"temperatur\", \"rise\", \"drought\", \"affect\", \"rainfal\", \"higher\", \"lack\", \"irrig\", \"storm\", \"ha\", \"air\", \"feder\", \"pacif\", \"zone\", \"tropic\", \"locat\", \"introduct\", \"frequenc\", \"last\", \"veget\", \"pattern\", \"cyclon\", \"season\", \"grow\", \"ocean\", \"threat\", \"sea\", \"coastlin\", \"event\", \"coastal\", \"increas\", \"variabl\", \"result\", \"countri\", \"intens\", \"alreadi\", \"larg\", \"us\", \"data\", \"ipcc\", \"valu\", \"livestock\", \"decreas\", \"methodolog\", \"guidelin\", \"remov\", \"produc\", \"gase\", \"appli\", \"diversif\", \"oil\", \"biomass\", \"rehabilit\", \"categori\", \"eros\", \"landus\", \"facil\", \"mix\", \"treatment\", \"mainli\", \"describ\", \"panel\", \"throughout\", \"wood\", \"ton\", \"gwp\", \"grid\", \"model\", \"land\", \"forestri\", \"soil\", \"wind\", \"equival\", \"potenti\", \"inventori\", \"approach\", \"good\", \"report\", \"sourc\", \"includ\", \"product\", \"practic\", \"could\", \"singapor\", \"percent\", \"applic\", \"per_cent\", \"somalia\", \"around\", \"declin\", \"uncondit\", \"mrv\", \"stock\", \"eq\", \"jordan\", \"almost\", \"guyana\", \"recoveri\", \"type\", \"pakistan\", \"success\", \"reason\", \"iii\", \"gg_co\", \"costa_rica\", \"mt_co\", \"district\", \"world_bank\", \"citizen\", \"multilater\", \"mobil\", \"usual\"], \"Freq\": [6642.0, 5165.0, 3946.0, 2978.0, 2327.0, 4665.0, 4217.0, 3424.0, 1471.0, 1442.0, 2688.0, 2572.0, 1675.0, 1296.0, 1563.0, 1370.0, 3511.0, 2044.0, 1187.0, 1693.0, 1077.0, 1193.0, 1733.0, 1037.0, 1620.0, 1750.0, 813.0, 1499.0, 975.0, 1516.0, 4665.060075057682, 2687.3320990043094, 2571.787383860541, 1619.4430317844042, 1426.7730217345338, 1515.7371115234089, 1376.0647229366823, 1335.1453517758052, 961.2755684071371, 793.8328765051986, 661.6989971683821, 651.4183970979701, 621.4857262674361, 614.3530687607755, 610.3394440569754, 600.5743463229065, 598.4107398178318, 527.7550364025283, 505.0618239953174, 501.831488613027, 475.5542505488548, 2039.5049963031815, 394.6094393335057, 385.98896163242426, 379.84766112637095, 352.67983722812545, 329.1713695637913, 291.86569786444727, 273.939766977633, 272.56004863911494, 594.6310776789559, 1282.2660125343639, 431.1026022030111, 922.7527338247987, 3238.9993898315006, 1021.3289887126298, 1219.1573260986045, 694.4427705486303, 928.6714704716505, 1499.092523188767, 819.081340078239, 913.332116541574, 1878.344808439419, 1722.7541273109464, 1127.8776470616854, 790.1981761673613, 629.7595346357772, 655.0998899487922, 1172.9326390120516, 1007.8365523535064, 948.6717409307106, 738.9306806186656, 675.579755321033, 662.0376181190884, 653.110439701393, 613.9461600642763, 610.8823813460511, 574.4876742904721, 539.7070478049696, 532.7476433924447, 515.9104218396399, 511.0676011034522, 497.87784690943363, 488.21527505022107, 461.60220587581836, 447.45849117872024, 424.26274178238447, 407.68925131585416, 396.3962337844932, 385.0090788224063, 383.0506301826623, 370.1602019338007, 348.3352812551446, 337.81873753325766, 329.128075981818, 322.92445281953655, 308.09553708895146, 294.80122299696575, 1039.0791473862557, 1649.6443444076078, 430.27001419485464, 728.1213630874605, 2493.689995561659, 502.7160354379585, 627.317271283303, 730.6738923599564, 567.976557869523, 461.3691326902594, 828.7321211717978, 484.43615547365044, 509.8316244838503, 485.2352722455813, 3945.5748015823556, 1563.048332085978, 1193.0757427706037, 683.0424068032196, 600.4863502758615, 554.9907086085894, 386.833782648252, 369.6468215087486, 367.305385617582, 322.22087618590615, 678.8871688765036, 267.3273023772454, 266.989645824946, 244.28687282355688, 228.524195547145, 223.82808034913776, 219.30022729653388, 215.4322602856902, 208.46410065085718, 185.3792500525338, 181.989218705358, 181.74361905620947, 178.74344960373057, 177.11612699224438, 166.5093136272805, 162.56939746425977, 159.4643826194486, 157.76593983294967, 157.64452500680846, 154.71519266396913, 674.6231934085738, 819.8941626331609, 778.2455411391169, 488.16487793450307, 904.0548358852848, 383.680393953059, 1312.9341946142108, 459.9628321766043, 440.13689300080625, 308.0531105357507, 353.5852878551189, 709.1259104323799, 1315.8978081956384, 513.2561969927389, 325.4192116185699, 554.0362121702092, 373.7435457790363, 314.0538133819026, 288.2957540560844, 6641.652655043154, 5164.836429732207, 1186.1453983340525, 797.3001555989036, 711.8431937478147, 590.04446768447, 544.8724267268443, 356.6300777382009, 339.721339995113, 290.3758066492784, 284.5664541847253, 269.5105050983132, 254.58314687729256, 220.08589512148188, 197.37700245689973, 197.12032905319447, 197.11154452588607, 195.3954323121784, 188.49015843893443, 178.93853380012112, 178.529378158381, 173.386013591485, 164.32559176176778, 154.15339507262954, 148.71420003183806, 144.8747420744445, 136.5947452757111, 136.57569889552525, 135.92248271569082, 122.42125993848441, 938.9448603410165, 611.3562710321518, 632.6199739301233, 386.5950693856217, 251.4881815805906, 302.1148897844298, 206.94222484503672, 239.40211755936824, 204.56590695417873, 184.95847664175807, 1295.8465482329777, 807.201650470406, 798.7275894363227, 701.9689904877113, 415.63179144443166, 355.9223944175624, 344.9466270797107, 331.6513089283338, 322.6578832418118, 309.9341528619646, 306.44114543532805, 271.72452404744325, 254.1037817562915, 248.11850154340706, 217.44104133960028, 216.6382281510566, 214.56161647312388, 195.51866717800016, 195.28458825223348, 191.44201948852663, 189.60403410875648, 189.01772275325143, 176.81403457130008, 165.40246217749973, 164.6178775677007, 155.8757170080635, 148.87546067046736, 147.53638328221436, 138.3052824671141, 133.89946495289004, 499.29810134388134, 335.37567206918754, 1248.3908474546945, 392.9258880803794, 237.5440235323442, 613.6959187270754, 344.2354910034239, 248.15451569040505, 383.93155031343423, 348.55176827952556, 272.0291067899271, 215.27513698823148, 224.22327136687895, 1470.8972837850497, 1441.7365303717268, 632.1523107394848, 533.442100563946, 447.889787798538, 431.8576806906587, 401.0334871949064, 386.4417083306613, 273.8577665564343, 271.09276739756774, 266.76163137868974, 207.79068267346787, 205.43187936472506, 200.47329993374817, 173.606412857866, 166.98682291812193, 157.77908753798283, 146.61306767561757, 139.59493143450848, 126.36270350342056, 125.21924029510417, 124.46198307836282, 124.35230346337768, 119.19109518344204, 111.52917003217894, 110.7290945865367, 105.96774361553636, 104.95569388165002, 104.24500750263458, 103.5788232154543, 1347.6691151890209, 863.0690466767619, 622.2629837263165, 620.7407235233361, 437.35169245196715, 566.6888676632817, 492.72095456145155, 207.03431549856322, 391.36727202053345, 250.43306817363379, 199.7062161740259, 265.8116440215249, 239.89247108784625, 239.81287248142323, 179.76561061618654, 178.18623137695596, 180.66369891219765, 2977.3085075708523, 812.9031649683914, 745.1558718596542, 722.4165472307859, 685.9233943122387, 641.8404211238633, 480.5842222685698, 336.1986050472989, 283.66101911380184, 278.4178800468677, 268.2946965260679, 249.5831651632435, 239.9867388979348, 228.31075389837724, 224.70885440947026, 222.09461028606063, 208.406386143415, 198.60867337326852, 198.45896610063897, 166.21321806895563, 151.48090276718978, 148.60367410455035, 136.80000442589036, 123.16464609854852, 119.31219904033522, 117.11761282284269, 116.71435595368392, 113.51229403651963, 113.47200428120372, 109.47380242635705, 622.260805487555, 571.9541546417089, 459.5902924942732, 159.17492467691721, 201.7695414496984, 218.71256582558635, 244.21496094675277, 263.4848693730377, 162.89126051629427, 155.66335259398747, 540.9838972821436, 489.6772673410327, 425.39850516116434, 409.29349173402704, 379.8227208879598, 318.88441208535414, 293.89020869445835, 216.49053697645894, 194.28948331372106, 191.4554968876396, 181.00394425592543, 178.45661881343955, 175.33315706030507, 170.30641417699053, 144.8847656214486, 131.2929991922103, 130.59871789192914, 130.31643158506847, 124.69327763109547, 123.3187101670461, 121.52864413914965, 120.4608879749474, 119.20892633063664, 115.57424961831103, 114.5495031315046, 114.16321056047623, 112.32608564674005, 109.18224383503097, 104.50563782465355, 97.52661168817004, 198.60965368247085, 249.39869331492582, 523.1249926703948, 173.41006065476125, 262.66478085603586, 339.2476611799835, 133.58225699772453, 128.19151612131503, 121.59513539648134, 2326.3896918317782, 639.5706322488704, 407.5908729438598, 289.1632379586839, 281.9474393815404, 269.8299388740598, 257.09446970130307, 239.96981446787748, 229.40300496131792, 208.9497284137756, 195.72164949689838, 179.28646832982866, 174.13041884138948, 160.03797086833927, 156.6503666726212, 144.098408288743, 137.78820469764963, 130.7888327004775, 123.65093928646607, 118.32212487826601, 112.45555852376764, 107.55498371570242, 105.30578256648299, 100.37547274458379, 98.82592796970195, 95.52442445329638, 95.495233896831, 93.2817758962678, 87.58399132604401, 85.31675622047425, 241.3347404353762, 836.561077556112, 501.25603279459443, 163.71074655073065, 187.64912337051, 134.72249898127816, 284.38974141083315, 241.6205710020221, 236.558951435447, 145.29204987844818, 217.60086944476035, 197.85827214529945, 272.50824884482716, 173.4033676647146, 143.34259639036748, 342.28171953774176, 320.869791379381, 319.47339723168716, 283.5557215127518, 202.119075752358, 200.82875343941436, 192.92428632721334, 190.65281565011418, 165.31429673190553, 164.68017443412205, 153.1119981764202, 145.48715351581828, 132.09200319244175, 121.91319830657564, 121.34047697569858, 121.09241406270354, 118.60491249154636, 116.09668621487512, 115.04435439328292, 110.99117111876907, 107.34074511353816, 107.21703043362751, 101.13894678668495, 92.31163967869179, 90.71561185213163, 90.11368264612595, 87.84507369649803, 86.65686619551607, 83.87953015465415, 83.03600242566351], \"Total\": [6642.0, 5165.0, 3946.0, 2978.0, 2327.0, 4665.0, 4217.0, 3424.0, 1471.0, 1442.0, 2688.0, 2572.0, 1675.0, 1296.0, 1563.0, 1370.0, 3511.0, 2044.0, 1187.0, 1693.0, 1077.0, 1193.0, 1733.0, 1037.0, 1620.0, 1750.0, 813.0, 1499.0, 975.0, 1516.0, 4665.983015298914, 2688.254989627775, 2572.710254130191, 1620.3659370732662, 1427.6959022303745, 1516.7210400967724, 1376.987686771111, 1336.0682268816197, 962.1984663710638, 794.7557880757821, 662.6219500258079, 652.341227477993, 622.4086668385432, 615.275977068454, 611.2623628606767, 601.4972233492612, 599.3336405620422, 528.6779556019892, 505.9846902890623, 502.75443716597596, 476.477088858295, 2044.2572335005846, 395.53228664887035, 386.91183185495953, 380.7705304939068, 353.6027280712087, 330.09426992117847, 292.7886124019638, 274.8626497198981, 273.4829690821778, 597.120205877342, 1302.9352357766254, 433.6446784941047, 940.0687233375803, 3424.7789173435613, 1065.493544391241, 1336.3797847264889, 738.8251058370704, 1075.0787418040895, 1921.7602640799355, 963.785073876419, 1153.9618678580994, 3511.1503598192767, 4217.265104775872, 2070.248794806358, 1405.275655564662, 817.792505424174, 1339.5153043366665, 1173.854458891009, 1008.7583010577957, 949.5935893879923, 739.8525248189275, 676.5016609931372, 662.9593678887275, 654.032258394029, 614.8679416736444, 611.8042998777348, 575.4094422976295, 540.6287633759953, 533.6694752357154, 516.8321656724695, 511.9894497559349, 498.7996504211922, 489.13706329661187, 462.5240462157984, 448.38020164876525, 425.18466671418236, 408.61100730415234, 397.31800957271713, 385.93099333161393, 383.97247904468406, 371.08206305055626, 349.25705368964356, 338.7405772409551, 330.04996149010896, 323.8462514923211, 309.01723790223537, 295.7230570039479, 1053.2152569142315, 1693.3208663644264, 434.5095104763926, 826.4611542051459, 4217.265104775872, 594.2128736363042, 891.9542553985996, 1238.4301988090283, 786.396581000231, 549.071698977249, 2010.135714074444, 622.5221070410552, 862.9284280292492, 2070.248794806358, 3946.4926856948236, 1563.9662216092238, 1193.9936449456302, 683.9603664433652, 601.4042728806623, 555.9085861113807, 387.75172164402215, 370.56478021216327, 368.2232168557634, 323.13880202289954, 681.023855922382, 268.24529735022537, 267.9077405945545, 245.20484168327792, 229.44212757189203, 224.74595176430606, 220.21834156374544, 216.3502967166596, 209.38210203801953, 186.29710701057235, 182.90708868987403, 182.66160741700142, 179.66141345055436, 178.0344523415372, 167.4273400809776, 163.48728044564555, 160.3823910896368, 158.68453854998148, 158.5633923077754, 155.63303508734302, 701.4411949472305, 860.4013290356858, 831.6184016405717, 520.5213884942028, 1013.7495334295849, 408.55708515448185, 1733.139879124152, 547.9229688111, 532.2642959485921, 357.27484120141463, 455.1526881859108, 1345.4236659121952, 3511.1503598192767, 1339.5153043366665, 514.7704934860105, 1750.566132104199, 718.7941758672744, 862.9284280292492, 500.41477034887106, 6642.574567642151, 5165.758359737336, 1187.06732064678, 798.2221318613655, 712.7650815453921, 590.9664805953312, 545.794330678031, 357.5521158834217, 340.6432487820849, 291.2978504908356, 285.4884276936099, 270.43252176498254, 255.50534698632143, 221.00787188045499, 198.29900813782584, 198.04233865831932, 198.03358614759554, 196.3173695001395, 189.41213582927298, 179.86064238463436, 179.45126465552482, 174.3079761540452, 165.24756284798568, 155.07542927640557, 149.63608536311614, 145.79661418315774, 137.5167574735769, 137.49773198119635, 136.84465878494333, 123.34327788062366, 975.9583590813152, 702.3045656356902, 741.5561221371071, 483.03095262681404, 296.3044642931699, 695.6438958930927, 698.7846604043581, 1675.5727838320586, 1733.139879124152, 3424.7789173435613, 1296.767466377118, 808.1225982045258, 799.6485439875916, 702.8899455090458, 416.5527194879568, 356.8432804093946, 345.8676079345101, 332.5722329144804, 323.5788708001817, 310.8551555985774, 307.36207187427266, 272.64562160923185, 255.02470527514316, 249.0393910734344, 218.36196426956667, 217.55913667233563, 215.48263444411302, 196.4395954548887, 196.2054587946087, 192.36293514614724, 190.52495603553723, 189.93885650702677, 177.73514838133508, 166.32348777236717, 165.53890764781255, 156.79669555701946, 149.79641867328388, 148.4575456396888, 139.22620414877207, 134.8203924893082, 505.47510802731256, 340.94551348564977, 1370.5548030603024, 471.93519444796783, 287.43911050301006, 1189.6327944570378, 718.7941758672744, 442.0434583093409, 1499.1962658422603, 1405.275655564662, 887.4409660846875, 467.5756394017249, 1238.4301988090283, 1471.8149628562492, 1442.6542427280397, 633.070043732778, 534.3597794807404, 448.8074633293543, 432.77537970891683, 401.9512445135157, 387.35945430170733, 274.77553358448876, 272.0104691384235, 267.6792978668735, 208.70843503806924, 206.3495815445767, 201.3910343562317, 174.52409500347213, 167.9045399292651, 158.69679334669237, 147.53072728380198, 140.5126172064412, 127.28056825613582, 126.13698934107812, 125.37975669381734, 125.27008496510405, 120.10920131852951, 112.44704329652626, 111.64689445781124, 106.88557130581648, 105.87343914857111, 105.16281686286605, 104.49674925635887, 1675.5727838320586, 1037.287454602205, 921.7707300451136, 1104.1691599711376, 747.4989580460689, 1499.1962658422603, 1750.566132104199, 351.19198991174915, 1345.4236659121952, 601.5572359865688, 419.2400936947515, 1405.275655564662, 1077.2686067775403, 1153.9618678580994, 432.02710023231697, 595.0774666513016, 2070.248794806358, 2978.2357889853643, 813.8305108042134, 746.0831206797252, 723.3438369529423, 686.8506244125175, 642.767659329498, 481.5115155428343, 337.1258893546582, 284.5883904883176, 279.34510434213433, 269.22200650585523, 250.51092098603098, 240.91408222600498, 229.23824614244268, 225.6362419298036, 223.021853166644, 209.33375525936003, 199.53618218261232, 199.38664156140558, 167.14041349461806, 152.40825448499155, 149.5309748387841, 137.72745834175606, 124.09196254454174, 120.24005964046326, 118.04516668152823, 117.64183540974791, 114.43990366178302, 114.39943070911988, 110.40104278734766, 687.4067237108449, 650.8325782390663, 658.2732693348331, 202.03395968447862, 334.20025461251964, 419.2400936947515, 1345.4236659121952, 3511.1503598192767, 747.4989580460689, 921.7707300451136, 541.9071481339568, 490.60041276599895, 426.321620303805, 410.21663236181536, 380.7458533451294, 319.8075775761176, 294.81328753604276, 217.41382728431975, 195.2127907710102, 192.37878219356125, 181.92705827029587, 179.3798112287461, 176.25635166463948, 171.22989270497933, 145.80811036307844, 132.21646367949825, 131.52182242805176, 131.2395842767982, 125.6167472664928, 124.24188204883689, 122.45192973131914, 121.38430461101359, 120.1320511417816, 116.4973173922469, 115.47259679344633, 115.0864017591782, 113.24925836408926, 110.10546918052981, 105.42897122446122, 98.44972859693308, 286.0884341364216, 438.3981024461942, 1750.566132104199, 255.8342553824015, 674.9847989668513, 2010.135714074444, 247.54032390734824, 344.9450530038342, 217.51765421750147, 2327.310766241482, 640.4917053523327, 408.5118512278253, 290.08433737810105, 282.86851972162236, 270.751139486354, 258.01546595550644, 240.89078814094313, 230.3240483384922, 209.87080508242812, 196.64273569324854, 180.2075988141739, 175.05154708323641, 160.95905725603828, 157.571400069651, 145.0194925080083, 138.70929400301702, 131.71015684862212, 124.57197813283565, 119.24327425089906, 113.37679441255933, 108.4760558096246, 106.22693699226697, 101.29663228079363, 99.7470239403684, 96.44566701894125, 96.41623333867366, 94.20282954912965, 88.50495227106464, 86.23777596815036, 247.75854795606617, 1077.2686067775403, 645.7338147027192, 187.74298309418748, 250.7383830290067, 158.75814863971954, 552.6022523149497, 468.51048096739765, 510.24740527277413, 208.26324008374482, 786.396581000231, 658.2732693348331, 2070.248794806358, 1037.287454602205, 351.19198991174915, 343.20065931482867, 321.7886593411936, 320.3923728113713, 284.47468421518846, 203.03798066608005, 201.74770373587336, 193.84313115298116, 191.57199535162937, 166.23314062706513, 165.5990261803191, 154.03097928779854, 146.40592941698952, 133.010819906634, 122.83228417017222, 122.25946761682103, 122.01138224829539, 119.52385972252715, 117.01564005947863, 115.96327140415715, 111.91021607058556, 108.25974304595118, 108.1358506665197, 102.05786971704697, 93.23043889043916, 91.63461960662224, 91.03264381977105, 88.7639918138704, 87.57595873521441, 84.79842359140815, 83.95487535509886], \"Category\": [\"Default\", \"Default\", \"Default\", \"Default\", \"Default\", \"Default\", \"Default\", \"Default\", \"Default\", \"Default\", \"Default\", \"Default\", \"Default\", \"Default\", \"Default\", \"Default\", \"Default\", \"Default\", \"Default\", \"Default\", \"Default\", \"Default\", \"Default\", \"Default\", \"Default\", \"Default\", \"Default\", \"Default\", \"Default\", \"Default\", \"Topic1\", \"Topic1\", \"Topic1\", \"Topic1\", \"Topic1\", \"Topic1\", \"Topic1\", \"Topic1\", \"Topic1\", \"Topic1\", \"Topic1\", \"Topic1\", \"Topic1\", \"Topic1\", \"Topic1\", \"Topic1\", \"Topic1\", \"Topic1\", \"Topic1\", \"Topic1\", \"Topic1\", \"Topic1\", \"Topic1\", \"Topic1\", \"Topic1\", \"Topic1\", \"Topic1\", \"Topic1\", \"Topic1\", \"Topic1\", \"Topic1\", \"Topic1\", \"Topic1\", \"Topic1\", \"Topic1\", \"Topic1\", \"Topic1\", \"Topic1\", \"Topic1\", \"Topic1\", \"Topic1\", \"Topic1\", \"Topic1\", \"Topic1\", \"Topic1\", \"Topic1\", \"Topic1\", \"Topic1\", \"Topic2\", \"Topic2\", \"Topic2\", \"Topic2\", \"Topic2\", \"Topic2\", \"Topic2\", \"Topic2\", \"Topic2\", \"Topic2\", \"Topic2\", \"Topic2\", \"Topic2\", \"Topic2\", \"Topic2\", \"Topic2\", \"Topic2\", \"Topic2\", \"Topic2\", \"Topic2\", \"Topic2\", \"Topic2\", \"Topic2\", \"Topic2\", \"Topic2\", \"Topic2\", \"Topic2\", \"Topic2\", \"Topic2\", \"Topic2\", \"Topic2\", \"Topic2\", \"Topic2\", \"Topic2\", \"Topic2\", \"Topic2\", \"Topic2\", \"Topic2\", \"Topic2\", \"Topic2\", \"Topic2\", \"Topic2\", \"Topic2\", \"Topic2\", \"Topic3\", \"Topic3\", \"Topic3\", \"Topic3\", \"Topic3\", \"Topic3\", \"Topic3\", \"Topic3\", \"Topic3\", \"Topic3\", \"Topic3\", \"Topic3\", \"Topic3\", \"Topic3\", \"Topic3\", \"Topic3\", \"Topic3\", \"Topic3\", \"Topic3\", \"Topic3\", \"Topic3\", \"Topic3\", \"Topic3\", \"Topic3\", \"Topic3\", \"Topic3\", \"Topic3\", \"Topic3\", \"Topic3\", \"Topic3\", \"Topic3\", \"Topic3\", \"Topic3\", \"Topic3\", \"Topic3\", \"Topic3\", \"Topic3\", \"Topic3\", \"Topic3\", \"Topic3\", \"Topic3\", \"Topic3\", \"Topic3\", \"Topic3\", \"Topic3\", \"Topic3\", \"Topic3\", \"Topic3\", \"Topic3\", \"Topic4\", \"Topic4\", \"Topic4\", \"Topic4\", \"Topic4\", \"Topic4\", \"Topic4\", \"Topic4\", \"Topic4\", \"Topic4\", \"Topic4\", \"Topic4\", \"Topic4\", \"Topic4\", \"Topic4\", \"Topic4\", \"Topic4\", \"Topic4\", \"Topic4\", \"Topic4\", \"Topic4\", \"Topic4\", \"Topic4\", \"Topic4\", \"Topic4\", \"Topic4\", \"Topic4\", \"Topic4\", \"Topic4\", \"Topic4\", \"Topic4\", \"Topic4\", \"Topic4\", \"Topic4\", \"Topic4\", \"Topic4\", \"Topic4\", \"Topic4\", \"Topic4\", \"Topic4\", \"Topic5\", \"Topic5\", \"Topic5\", \"Topic5\", \"Topic5\", \"Topic5\", \"Topic5\", \"Topic5\", \"Topic5\", \"Topic5\", \"Topic5\", \"Topic5\", \"Topic5\", \"Topic5\", \"Topic5\", \"Topic5\", \"Topic5\", \"Topic5\", \"Topic5\", \"Topic5\", \"Topic5\", \"Topic5\", \"Topic5\", \"Topic5\", \"Topic5\", \"Topic5\", \"Topic5\", \"Topic5\", \"Topic5\", \"Topic5\", \"Topic5\", \"Topic5\", \"Topic5\", \"Topic5\", \"Topic5\", \"Topic5\", \"Topic5\", \"Topic5\", \"Topic5\", \"Topic5\", \"Topic5\", \"Topic5\", \"Topic5\", \"Topic6\", \"Topic6\", \"Topic6\", \"Topic6\", \"Topic6\", \"Topic6\", \"Topic6\", \"Topic6\", \"Topic6\", \"Topic6\", \"Topic6\", \"Topic6\", \"Topic6\", \"Topic6\", \"Topic6\", \"Topic6\", \"Topic6\", \"Topic6\", \"Topic6\", \"Topic6\", \"Topic6\", \"Topic6\", \"Topic6\", \"Topic6\", \"Topic6\", \"Topic6\", \"Topic6\", \"Topic6\", \"Topic6\", \"Topic6\", \"Topic6\", \"Topic6\", \"Topic6\", \"Topic6\", \"Topic6\", \"Topic6\", \"Topic6\", \"Topic6\", \"Topic6\", \"Topic6\", \"Topic6\", \"Topic6\", \"Topic6\", \"Topic6\", \"Topic6\", \"Topic6\", \"Topic6\", \"Topic7\", \"Topic7\", \"Topic7\", \"Topic7\", \"Topic7\", \"Topic7\", \"Topic7\", \"Topic7\", \"Topic7\", \"Topic7\", \"Topic7\", \"Topic7\", \"Topic7\", \"Topic7\", \"Topic7\", \"Topic7\", \"Topic7\", \"Topic7\", \"Topic7\", \"Topic7\", \"Topic7\", \"Topic7\", \"Topic7\", \"Topic7\", \"Topic7\", \"Topic7\", \"Topic7\", \"Topic7\", \"Topic7\", \"Topic7\", \"Topic7\", \"Topic7\", \"Topic7\", \"Topic7\", \"Topic7\", \"Topic7\", \"Topic7\", \"Topic7\", \"Topic7\", \"Topic7\", \"Topic8\", \"Topic8\", \"Topic8\", \"Topic8\", \"Topic8\", \"Topic8\", \"Topic8\", \"Topic8\", \"Topic8\", \"Topic8\", \"Topic8\", \"Topic8\", \"Topic8\", \"Topic8\", \"Topic8\", \"Topic8\", \"Topic8\", \"Topic8\", \"Topic8\", \"Topic8\", \"Topic8\", \"Topic8\", \"Topic8\", \"Topic8\", \"Topic8\", \"Topic8\", \"Topic8\", \"Topic8\", \"Topic8\", \"Topic8\", \"Topic8\", \"Topic8\", \"Topic8\", \"Topic8\", \"Topic8\", \"Topic8\", \"Topic8\", \"Topic8\", \"Topic8\", \"Topic9\", \"Topic9\", \"Topic9\", \"Topic9\", \"Topic9\", \"Topic9\", \"Topic9\", \"Topic9\", \"Topic9\", \"Topic9\", \"Topic9\", \"Topic9\", \"Topic9\", \"Topic9\", \"Topic9\", \"Topic9\", \"Topic9\", \"Topic9\", \"Topic9\", \"Topic9\", \"Topic9\", \"Topic9\", \"Topic9\", \"Topic9\", \"Topic9\", \"Topic9\", \"Topic9\", \"Topic9\", \"Topic9\", \"Topic9\", \"Topic9\", \"Topic9\", \"Topic9\", \"Topic9\", \"Topic9\", \"Topic9\", \"Topic9\", \"Topic9\", \"Topic9\", \"Topic9\", \"Topic9\", \"Topic9\", \"Topic9\", \"Topic9\", \"Topic9\", \"Topic10\", \"Topic10\", \"Topic10\", \"Topic10\", \"Topic10\", \"Topic10\", \"Topic10\", \"Topic10\", \"Topic10\", \"Topic10\", \"Topic10\", \"Topic10\", \"Topic10\", \"Topic10\", \"Topic10\", \"Topic10\", \"Topic10\", \"Topic10\", \"Topic10\", \"Topic10\", \"Topic10\", \"Topic10\", \"Topic10\", \"Topic10\", \"Topic10\", \"Topic10\", \"Topic10\", \"Topic10\", \"Topic10\", \"Topic10\"], \"logprob\": [30.0, 29.0, 28.0, 27.0, 26.0, 25.0, 24.0, 23.0, 22.0, 21.0, 20.0, 19.0, 18.0, 17.0, 16.0, 15.0, 14.0, 13.0, 12.0, 11.0, 10.0, 9.0, 8.0, 7.0, 6.0, 5.0, 4.0, 3.0, 2.0, 1.0, -2.9451, -3.4966, -3.5405, -4.0031, -4.1297, -4.0692, -4.1659, -4.1961, -4.5246, -4.716, -4.8981, -4.9138, -4.9608, -4.9723, -4.9789, -4.995, -4.9986, -5.1243, -5.1682, -5.1746, -5.2284, -3.7724, -5.415, -5.4371, -5.4531, -5.5273, -5.5963, -5.7166, -5.78, -5.785, -5.005, -4.2365, -5.3266, -4.5655, -3.3099, -4.464, -4.287, -4.8498, -4.5592, -4.0803, -4.6847, -4.5758, -3.8548, -3.9412, -4.3648, -4.7206, -4.9476, -4.9081, -4.0217, -4.1734, -4.2339, -4.4838, -4.5734, -4.5936, -4.6072, -4.6691, -4.6741, -4.7355, -4.7979, -4.8109, -4.843, -4.8525, -4.8786, -4.8982, -4.9543, -4.9854, -5.0386, -5.0785, -5.1065, -5.1357, -5.1408, -5.175, -5.2358, -5.2665, -5.2925, -5.3115, -5.3586, -5.4027, -4.1429, -3.6806, -5.0245, -4.4985, -3.2674, -4.8689, -4.6475, -4.495, -4.7469, -4.9548, -4.3691, -4.906, -4.8549, -4.9043, -2.3983, -3.3243, -3.5944, -4.1521, -4.2809, -4.3597, -4.7207, -4.7661, -4.7725, -4.9034, -4.1582, -5.0902, -5.0915, -5.1803, -5.247, -5.2678, -5.2882, -5.306, -5.3389, -5.4563, -5.4747, -5.4761, -5.4927, -5.5019, -5.5636, -5.5876, -5.6069, -5.6176, -5.6183, -5.6371, -4.1645, -3.9695, -4.0216, -4.488, -3.8718, -4.7289, -3.4987, -4.5475, -4.5916, -4.9484, -4.8105, -4.1146, -3.4964, -4.4379, -4.8936, -4.3614, -4.7551, -4.9291, -5.0147, -1.6363, -1.8878, -3.359, -3.7562, -3.8696, -4.0572, -4.1369, -4.5607, -4.6093, -4.7663, -4.7865, -4.8408, -4.8978, -5.0434, -5.1523, -5.1536, -5.1537, -5.1624, -5.1984, -5.2504, -5.2527, -5.2819, -5.3356, -5.3995, -5.4354, -5.4616, -5.5204, -5.5206, -5.5254, -5.63, -3.5927, -4.0218, -3.9876, -4.4801, -4.91, -4.7266, -5.105, -4.9593, -5.1166, -5.2173, -3.0724, -3.5457, -3.5563, -3.6854, -4.2095, -4.3646, -4.3959, -4.4352, -4.4627, -4.5029, -4.5143, -4.6345, -4.7015, -4.7254, -4.8574, -4.8611, -4.8707, -4.9636, -4.9648, -4.9847, -4.9943, -4.9974, -5.0642, -5.1309, -5.1357, -5.1902, -5.2362, -5.2452, -5.3098, -5.3422, -4.0261, -4.424, -3.1097, -4.2657, -4.7689, -3.8198, -4.398, -4.7252, -4.2888, -4.3855, -4.6334, -4.8674, -4.8266, -2.8656, -2.8857, -3.7101, -3.8799, -4.0547, -4.0912, -4.1652, -4.2023, -4.5466, -4.5568, -4.5729, -4.8227, -4.8341, -4.8586, -5.0025, -5.0413, -5.0981, -5.1715, -5.2205, -5.3201, -5.3292, -5.3353, -5.3361, -5.3785, -5.445, -5.4522, -5.4961, -5.5057, -5.5125, -5.5189, -2.9531, -3.3988, -3.7259, -3.7283, -4.0785, -3.8194, -3.9593, -4.8264, -4.1896, -4.6361, -4.8624, -4.5765, -4.6791, -4.6794, -4.9676, -4.9764, -4.9626, -2.1235, -3.4217, -3.5087, -3.5397, -3.5915, -3.6579, -3.9473, -4.3046, -4.4745, -4.4931, -4.5302, -4.6025, -4.6417, -4.6916, -4.7075, -4.7192, -4.7828, -4.8309, -4.8317, -5.009, -5.1018, -5.121, -5.2037, -5.3087, -5.3405, -5.3591, -5.3625, -5.3904, -5.3907, -5.4266, -3.6889, -3.7732, -3.9919, -5.0523, -4.8151, -4.7345, -4.6242, -4.5483, -5.0292, -5.0746, -3.6376, -3.7372, -3.8779, -3.9165, -3.9913, -4.1661, -4.2478, -4.5534, -4.6616, -4.6763, -4.7324, -4.7466, -4.7643, -4.7934, -4.955, -5.0535, -5.0588, -5.061, -5.1051, -5.1162, -5.1308, -5.1396, -5.1501, -5.181, -5.1899, -5.1933, -5.2096, -5.2379, -5.2817, -5.3508, -4.6396, -4.4119, -3.6711, -4.7753, -4.3601, -4.1042, -5.0362, -5.0774, -5.1303, -2.1767, -3.468, -3.9185, -4.2618, -4.2871, -4.331, -4.3793, -4.4483, -4.4933, -4.5867, -4.6521, -4.7398, -4.769, -4.8534, -4.8748, -4.9583, -5.0031, -5.0552, -5.1113, -5.1554, -5.2062, -5.2508, -5.2719, -5.3199, -5.3354, -5.3694, -5.3697, -5.3932, -5.4562, -5.4824, -4.4426, -3.1995, -3.7117, -4.8307, -4.6942, -5.0256, -4.2784, -4.4414, -4.4626, -4.95, -4.5461, -4.6412, -4.3211, -4.7732, -4.9636, -3.5171, -3.5817, -3.586, -3.7053, -4.0439, -4.0503, -4.0904, -4.1023, -4.2449, -4.2487, -4.3215, -4.3726, -4.4692, -4.5494, -4.5541, -4.5562, -4.5769, -4.5983, -4.6074, -4.6433, -4.6767, -4.6779, -4.7362, -4.8275, -4.845, -4.8516, -4.8771, -4.8908, -4.9233, -4.9334], \"loglift\": [30.0, 29.0, 28.0, 27.0, 26.0, 25.0, 24.0, 23.0, 22.0, 21.0, 20.0, 19.0, 18.0, 17.0, 16.0, 15.0, 14.0, 13.0, 12.0, 11.0, 10.0, 9.0, 8.0, 7.0, 6.0, 5.0, 4.0, 3.0, 2.0, 1.0, 1.409, 1.4088, 1.4088, 1.4086, 1.4085, 1.4085, 1.4085, 1.4085, 1.4082, 1.408, 1.4078, 1.4078, 1.4077, 1.4077, 1.4077, 1.4076, 1.4076, 1.4074, 1.4073, 1.4073, 1.4072, 1.4068, 1.4068, 1.4068, 1.4067, 1.4066, 1.4064, 1.406, 1.4058, 1.4058, 1.405, 1.3932, 1.4033, 1.3906, 1.3534, 1.3668, 1.3174, 1.3472, 1.2628, 1.1608, 1.2465, 1.1753, 0.7836, 0.5139, 0.8018, 0.8335, 1.1479, 0.6939, 1.7123, 1.7122, 1.7121, 1.7119, 1.7117, 1.7117, 1.7117, 1.7116, 1.7116, 1.7115, 1.7114, 1.7114, 1.7113, 1.7113, 1.7113, 1.7112, 1.7111, 1.7111, 1.7109, 1.7109, 1.7108, 1.7107, 1.7107, 1.7106, 1.7105, 1.7104, 1.7103, 1.7103, 1.7101, 1.71, 1.6996, 1.687, 1.7033, 1.5864, 1.1877, 1.5459, 1.3611, 1.1855, 1.3877, 1.5391, 0.8271, 1.4623, 1.1869, 0.2623, 2.1232, 2.1228, 2.1226, 2.1221, 2.1219, 2.1217, 2.121, 2.1209, 2.1209, 2.1206, 2.1203, 2.12, 2.12, 2.1196, 2.1194, 2.1193, 2.1192, 2.1191, 2.119, 2.1185, 2.1184, 2.1184, 2.1183, 2.1182, 2.1179, 2.1178, 2.1177, 2.1176, 2.1176, 2.1175, 2.0844, 2.0752, 2.0571, 2.0592, 2.0089, 2.0606, 1.8457, 1.9484, 1.9333, 1.9752, 1.8709, 1.483, 1.142, 1.1641, 1.6648, 0.9729, 1.4694, 1.1126, 1.5719, 2.3645, 2.3645, 2.3639, 2.3635, 2.3633, 2.3631, 2.3629, 2.362, 2.3619, 2.3615, 2.3614, 2.3612, 2.361, 2.3605, 2.36, 2.36, 2.36, 2.3599, 2.3598, 2.3595, 2.3595, 2.3593, 2.359, 2.3587, 2.3585, 2.3583, 2.3579, 2.3579, 2.3579, 2.3571, 2.326, 2.2259, 2.2058, 2.1419, 2.2006, 1.5306, 1.1477, 0.4189, 0.2278, -0.554, 2.5621, 2.5616, 2.5616, 2.5615, 2.5606, 2.5602, 2.5601, 2.56, 2.5599, 2.5598, 2.5598, 2.5594, 2.5592, 2.5591, 2.5586, 2.5585, 2.5585, 2.5581, 2.5581, 2.558, 2.5579, 2.5579, 2.5576, 2.5572, 2.5572, 2.5569, 2.5566, 2.5566, 2.5562, 2.5559, 2.5505, 2.5463, 2.4694, 2.3796, 2.3721, 1.9009, 1.8265, 1.9854, 1.2006, 1.1686, 1.3804, 1.7871, 0.8538, 2.6422, 2.6422, 2.6414, 2.6411, 2.6408, 2.6407, 2.6405, 2.6404, 2.6395, 2.6394, 2.6394, 2.6384, 2.6384, 2.6382, 2.6375, 2.6373, 2.637, 2.6366, 2.6363, 2.6356, 2.6355, 2.6355, 2.6355, 2.6351, 2.6346, 2.6346, 2.6342, 2.6341, 2.6341, 2.634, 2.425, 2.4589, 2.2499, 2.0669, 2.1068, 1.6699, 1.3751, 2.1144, 1.408, 1.7665, 1.9012, 0.9776, 1.1408, 1.0717, 1.766, 1.437, 0.204, 2.6795, 2.6787, 2.6786, 2.6785, 2.6785, 2.6784, 2.6779, 2.6771, 2.6765, 2.6765, 2.6764, 2.6761, 2.6759, 2.6758, 2.6757, 2.6756, 2.6754, 2.6751, 2.6751, 2.6742, 2.6737, 2.6736, 2.673, 2.6723, 2.6721, 2.6719, 2.6719, 2.6717, 2.6717, 2.6714, 2.5802, 2.5506, 2.3205, 2.4414, 2.1752, 2.0291, 0.9734, 0.0901, 1.1562, 0.9012, 2.8694, 2.8692, 2.8689, 2.8689, 2.8687, 2.8682, 2.868, 2.8669, 2.8664, 2.8663, 2.866, 2.866, 2.8659, 2.8657, 2.8648, 2.8641, 2.8641, 2.8641, 2.8637, 2.8637, 2.8635, 2.8635, 2.8634, 2.8632, 2.8631, 2.8631, 2.8629, 2.8627, 2.8623, 2.8617, 2.5062, 2.307, 1.6632, 2.4822, 1.9273, 1.0919, 2.2543, 1.8813, 2.2895, 2.8729, 2.8718, 2.871, 2.8701, 2.87, 2.8699, 2.8697, 2.8695, 2.8693, 2.8689, 2.8686, 2.8682, 2.868, 2.8675, 2.8674, 2.8669, 2.8666, 2.8663, 2.8659, 2.8655, 2.8651, 2.8648, 2.8646, 2.8641, 2.864, 2.8637, 2.8637, 2.8635, 2.8628, 2.8625, 2.847, 2.6204, 2.62, 2.7363, 2.5834, 2.7091, 2.209, 2.2111, 2.1046, 2.5132, 1.5885, 1.6712, 0.8455, 1.0845, 1.9772, 3.4467, 3.4465, 3.4465, 3.4461, 3.4448, 3.4448, 3.4446, 3.4446, 3.4438, 3.4438, 3.4434, 3.4431, 3.4424, 3.4419, 3.4418, 3.4418, 3.4416, 3.4415, 3.4414, 3.4411, 3.4408, 3.4408, 3.4403, 3.4395, 3.4393, 3.4392, 3.439, 3.4388, 3.4385, 3.4384]}, \"token.table\": {\"Topic\": [2, 4, 1, 2, 1, 6, 1, 4, 1, 6, 5, 8, 2, 6, 8, 10, 5, 1, 2, 8, 7, 4, 9, 10, 1, 2, 9, 5, 5, 8, 10, 2, 4, 9, 4, 3, 7, 4, 1, 2, 3, 7, 3, 6, 6, 9, 3, 1, 7, 3, 1, 7, 1, 3, 9, 6, 4, 7, 1, 2, 5, 4, 6, 10, 7, 4, 5, 6, 8, 8, 2, 1, 2, 5, 3, 1, 3, 8, 10, 4, 5, 7, 9, 4, 7, 2, 2, 3, 5, 2, 2, 1, 10, 10, 10, 4, 1, 2, 3, 5, 8, 1, 3, 6, 8, 6, 9, 2, 10, 9, 3, 5, 7, 1, 5, 9, 2, 1, 3, 4, 4, 6, 7, 10, 7, 9, 8, 3, 5, 6, 4, 1, 2, 5, 1, 2, 3, 5, 5, 5, 1, 4, 5, 7, 1, 2, 7, 6, 3, 7, 1, 2, 6, 1, 2, 10, 2, 9, 9, 5, 3, 6, 6, 8, 5, 1, 3, 8, 5, 9, 8, 3, 1, 1, 2, 7, 6, 8, 6, 5, 1, 6, 9, 8, 7, 1, 2, 3, 9, 9, 3, 7, 10, 3, 2, 3, 2, 1, 6, 9, 1, 2, 1, 3, 9, 9, 5, 8, 1, 3, 9, 10, 9, 8, 6, 4, 5, 8, 6, 6, 4, 5, 6, 2, 10, 4, 1, 2, 6, 1, 6, 7, 1, 2, 6, 7, 9, 5, 3, 5, 6, 7, 8, 1, 2, 2, 3, 8, 7, 9, 2, 4, 6, 1, 7, 4, 4, 5, 3, 8, 1, 2, 6, 8, 3, 9, 1, 9, 8, 8, 5, 10, 1, 4, 5, 6, 4, 8, 6, 9, 9, 8, 9, 10, 8, 3, 6, 4, 1, 2, 3, 4, 2, 7, 5, 5, 9, 4, 8, 6, 1, 3, 3, 3, 9, 6, 1, 4, 6, 4, 7, 5, 1, 1, 1, 2, 4, 9, 3, 5, 3, 2, 1, 2, 3, 9, 10, 8, 9, 1, 10, 10, 10, 7, 4, 1, 2, 5, 4, 2, 1, 3, 2, 8, 9, 3, 10, 1, 3, 6, 8, 10, 9, 2, 2, 5, 8, 5, 3, 3, 10, 10, 2, 3, 8, 1, 5, 7, 4, 1, 4, 4, 5, 1, 9, 5, 7, 6, 9, 2, 5, 1, 1, 1, 2, 9, 9, 6, 9, 2, 7, 1, 2, 3, 4, 7, 1, 6, 7, 5, 1, 2, 5, 1, 4, 6, 7, 7, 8, 10, 10, 3, 6, 7, 3, 3, 4, 8, 7, 9, 2, 9, 7, 2, 9, 1, 4, 1, 6, 1, 5, 6, 1, 2, 3, 8, 5, 8, 4, 2, 6, 5, 6, 5, 3, 5, 7, 8, 4, 8, 1, 3, 6, 7, 6, 6, 2, 4, 3, 10, 3, 1, 5, 8, 9, 7, 7, 6, 10, 7, 9, 3, 6, 7, 1, 2, 8, 10, 8, 1, 1, 1, 10, 6, 7, 1, 1, 5, 6, 1, 4, 6, 7, 1, 2, 2, 1, 1, 7, 8, 8, 9, 9, 3, 3, 6, 2, 4, 1, 7, 9, 3, 8, 10, 7, 10, 2, 2, 7, 9, 10, 5, 9, 6, 8, 8, 7, 4, 5, 4, 7, 9, 6, 8, 9, 2, 9, 3, 10, 3, 10, 3, 8, 8], \"Freq\": [0.9993749016477934, 0.9932895927472247, 0.9979174668281376, 0.0019567009153492894, 0.9393292059474825, 0.05955401305718909, 0.9457544788065733, 0.054018085390310604, 0.9977747944186955, 0.9917147722092188, 0.9977602165234425, 0.9974748016221555, 0.9985529009239545, 0.9995465006730909, 0.9928720204816793, 0.9932242229655261, 0.9976320118202477, 0.6174896498591979, 0.008697037321960532, 0.3710735924036494, 0.9907599854761789, 0.9947807532666444, 0.9932988463187995, 0.9983313657013171, 0.5173960656573408, 0.017638502238318435, 0.46448055894238544, 0.9972490223077345, 0.9105801513469942, 0.08828541531489287, 0.9956504460696327, 0.9967081515932869, 0.8536103756729069, 0.14563968494893198, 0.998400629620433, 0.9913806554432514, 0.9945984312684313, 0.9982891506406906, 0.01970035920455709, 0.5910107761367127, 0.3638772229547604, 0.024335737840923466, 0.9950407133131289, 0.9960244103942565, 0.9934597320989229, 0.9963737069709452, 0.9956861673088215, 0.9582413759093568, 0.04035688458775939, 0.9959325146683173, 0.9839322514260298, 0.015349957120530886, 0.06373115348992335, 0.9355252342483088, 0.994886470959894, 0.9966056233523095, 0.9930651213965771, 0.9877671532065734, 0.29086203073799033, 0.24594951128580067, 0.45981865153432294, 0.9998531948874638, 0.9898612269205544, 0.9913929984641472, 0.9936285705202798, 0.9999135022668846, 0.20529285938468667, 0.22354111355221437, 0.5679769109642998, 0.9954318960210207, 0.9975505401996854, 0.22851509941549797, 0.5902633840025759, 0.18087414229353901, 0.9966780561361438, 0.3185885789400959, 0.6313493180215315, 0.042737492296842136, 0.005827839858660291, 0.9934492454096242, 0.998211036466163, 0.7869964051999684, 0.2078858428830105, 0.9925446391114779, 0.9962057750316669, 0.997386872664354, 0.974416622847484, 0.02539388774693443, 0.9967445257705875, 0.9966827338782489, 0.997084032998898, 0.9964492813063883, 0.003349409348929036, 0.9896346090705216, 0.9965015821437357, 0.9963800713362718, 0.1940167508438968, 0.41240996525536017, 0.1288470217142802, 0.09601341772531304, 0.1686453295796949, 0.058743320999867676, 0.9398931359978828, 0.9974622696925507, 0.9957310828834588, 0.9962851829136427, 0.9992323002027603, 0.9964007779474638, 0.9970142016291083, 0.9972257199442299, 0.9937587480250697, 0.9955685102395138, 0.9954609709595613, 0.014665099853881631, 0.9825616902100692, 0.9871996506537416, 0.9985884096164098, 0.9997893230010286, 0.14849590641491475, 0.8471016479578091, 0.9985446336955457, 0.9964025983361349, 0.9947181313696289, 0.9930744558187005, 0.9911460442565347, 0.9939929289357471, 0.9980410729661886, 0.43515788685224943, 0.14813885509863808, 0.4166405299649196, 0.995749117857684, 0.2858024775243187, 0.19753994770063205, 0.5161256505880344, 0.4946807920495601, 0.009014684137577405, 0.1893083668891255, 0.3064992606776318, 0.997636832593773, 0.9959819372243265, 0.5577566371108189, 0.4341301659986271, 0.007187585529778594, 0.9985482573593966, 0.1584492520048914, 0.8395989100489074, 0.9987615583617688, 0.9889953790771283, 0.9998751585942096, 0.9995850600580604, 0.5243014859153171, 0.17476716197177236, 0.2991207195286104, 0.9984993923271395, 0.998685364130498, 0.9903970459216499, 0.14487445335606322, 0.8503500523073276, 0.9946081846258955, 0.9977621850937397, 0.998595874131773, 0.990986075163062, 0.3041017728053765, 0.6955891125088497, 0.9969180034755575, 0.052729557844986306, 0.7777609782135481, 0.16697693317579, 0.9974915027756102, 0.9895736320668024, 0.9928173014328848, 0.9970194595914906, 0.9979439786702148, 0.998998716056971, 0.9978137333088729, 0.9979604841816079, 0.9969970048922947, 0.9987761674259223, 0.9982008692026547, 0.9994081696240714, 0.1269873098371825, 0.09446616951302601, 0.7758614905905907, 0.990004320376049, 0.9966603295973102, 0.9980539128792617, 0.9992584482462309, 0.96230447379239, 0.03706654269422539, 0.9967314546810864, 0.998061332543322, 0.9989795039714194, 0.9894960768374352, 0.9993821979043578, 0.7029508477649496, 0.2959793043220841, 0.9976753687627994, 0.20166785066395473, 0.10083392533197737, 0.6962342463398437, 0.8641227510843021, 0.13487384166547234, 0.9982954654380175, 0.9970282158183124, 0.0014683773428841125, 0.9856469400531909, 0.9937628136194757, 0.9905601205479382, 0.0464899328373085, 0.9530436231648242, 0.9963021079061689, 0.9896984042105567, 0.9942946438802869, 0.9923078789118216, 0.9974553109478753, 0.00989168392388935, 0.9871900556041571, 0.9934970682316776, 0.9942058893715517, 0.993092868504905, 0.11537327165762586, 0.5610308111978669, 0.3212353838310367, 0.9988477097930617, 0.988363698171568, 0.9991008760596674, 0.9997239276638126, 0.5818232731021701, 0.4155880522158358, 0.15513619096258485, 0.6747881872638306, 0.16923948105009257, 0.5448620488657298, 0.23427135966301324, 0.08742910535877402, 0.0014491011937918345, 0.13186820863505694, 0.9939149228528372, 0.3164690495491799, 0.07083422769692836, 0.2816231794724652, 0.031989651217967645, 0.29876049262494786, 0.012343155793325783, 0.9865029899434992, 0.41765353939151867, 0.5755225805969253, 0.003996684587478648, 0.8788742591030697, 0.11984648987769132, 0.8808641474506548, 0.11857786600297276, 0.9983097545945016, 0.9987176397373762, 0.9964490645543068, 0.9984689326284206, 0.8699929203036777, 0.12814952999563173, 0.45649128277902196, 0.5413259459503447, 0.9818431111323647, 0.01702003226231618, 0.9956092789778673, 0.9950902464845361, 0.48237981684709996, 0.5165306003407, 0.9990490310519009, 0.9987470345687969, 0.9928329820064357, 0.9983260081785589, 0.9982793725457303, 0.99240046856832, 0.993901277646739, 0.004612070893952385, 0.9946833263415935, 0.9917501579660086, 0.9974853080228157, 0.993787339619396, 0.22278566226664473, 0.7769649971549235, 0.9954084526760446, 0.5608740147501272, 0.24365838345702248, 0.19308777556971593, 0.9963093294461692, 0.994467574521295, 0.9889426995438665, 0.9962422217984875, 0.4889828416886649, 0.10974118737134922, 0.38297434776532074, 0.017916928550424364, 0.9975549522202517, 0.9930454640764962, 0.9974299554553862, 0.9938561403846027, 0.9969295992269586, 0.9983645762880535, 0.990554798816005, 0.9964904579283911, 0.15878144365580305, 0.839534069904246, 0.996318555899949, 0.9966809112313251, 0.9884498506028062, 0.9971775740933998, 0.05251935388849105, 0.14263779067442456, 0.8045010118373401, 0.9980221666893394, 0.9945441567830662, 0.9972446862266205, 0.9973065468786705, 0.9995246059903498, 0.9986542523408641, 0.9968187801465918, 0.9954396561901644, 0.9960643213702486, 0.5203158463947533, 0.4785792811759228, 0.9941895946097403, 0.9980674411232369, 0.7800140465062968, 0.08377735923116329, 0.13581298608281753, 0.9878564708087494, 0.9905844524273792, 0.024217126107245152, 0.9727212319743469, 0.9979348264552574, 0.9963826708759336, 0.986802176359106, 0.9934233236663064, 0.9931769135257358, 0.9924503404075415, 0.4085586173012402, 0.5913785209223987, 0.9986108565618385, 0.9952149487891082, 0.9992482827085531, 0.9992827192424452, 0.9950863870590526, 0.998421701099937, 0.9889689488290249, 0.9940416073976334, 0.9375215135956608, 0.061476820563649885, 0.9982340067324899, 0.9966117418162684, 0.9907650595761776, 0.9944577132159099, 0.9913204759725932, 0.9925108147505736, 0.9969218051027007, 0.9988369775739105, 0.9958637985337723, 0.9905766102299749, 0.9986731103601095, 0.9964758115838442, 0.9930374280557199, 0.994887751234154, 0.9956541636770142, 0.10521088945144776, 0.8266569885470896, 0.06763557179021641, 0.9995331582634024, 0.39497276910529044, 0.6044280254490051, 0.9924961772667862, 0.999157019385551, 0.9938276086736366, 0.9891094358468101, 0.9991889637110355, 0.48316849756129154, 0.5139320348592015, 0.9958263989124199, 0.9989376878302534, 0.5894211882566482, 0.40718468560724974, 0.9972137595569064, 0.9929147725620232, 0.9987544499259245, 0.9966849775325098, 0.8497745215184936, 0.08196848253963492, 0.06744242234273759, 0.995850756459022, 0.8319776703854542, 0.16678115524528803, 0.7774824291791461, 0.22007250578004756, 0.9991733571994024, 0.1009728078546302, 0.757584552646454, 0.11828243205828108, 0.023079498938201187, 0.1953179980098406, 0.584616199522605, 0.21806050462742477, 0.9987338764557213, 0.7703665609814198, 0.17975219756233127, 0.04891216260199491, 0.48655904925453847, 0.29622859763438075, 0.03434534465326154, 0.1817441154568423, 0.9973128573637757, 0.9972413470816056, 0.9918665506819193, 0.9917107549340175, 0.5269715539895005, 0.29061477801113494, 0.1813555136437773, 0.9991677971236811, 0.9984758934407099, 0.8011908924167707, 0.19874502757625317, 0.9961560290798294, 0.9929699622417861, 0.9983968504779084, 0.9942513673754713, 0.9988056970223133, 0.7222818787914251, 0.27721381967699066, 0.9979261711556925, 0.9981116643750176, 0.7911873220686613, 0.20797914271246298, 0.3655291921982805, 0.25613724416813816, 0.3782026495920165, 0.9977367493198667, 0.34815598863811, 0.26074661276726535, 0.38963840430562946, 0.9911927201041709, 0.9970341710553992, 0.998926600691867, 0.9974673209728375, 0.994612772652567, 0.8280014490147389, 0.17047088656185802, 0.9949189263575409, 0.9983655835975905, 0.9950570592858548, 0.9896868011861335, 0.9959311826770278, 0.9984558450114116, 0.9959072818437461, 0.5348674387435413, 0.37480593684052205, 0.015094767973060537, 0.07490422597952681, 0.9982083553148556, 0.9976334330929439, 0.9987455245863188, 0.9955445929702238, 0.997447608731221, 0.9975491387956051, 0.998073032286743, 0.1652769297937997, 0.8327414539610678, 0.12250790746443657, 0.873534644529026, 0.9951847935717288, 0.9873095149105944, 0.9899390121078118, 0.9962938674293302, 0.6987979330602582, 0.30078693640419807, 0.996446895468269, 0.9952462707223532, 0.9979324859762972, 0.1060226104063844, 0.8464979846731961, 0.04712116018061529, 0.9933066757572695, 0.9949042309642664, 0.9968615243985416, 0.9995125697080959, 0.9990613802851178, 0.9916933060572262, 0.4770536096330994, 0.5223737025482438, 0.9992004698112514, 0.5621672850246349, 0.248349851232402, 0.18928670609690237, 0.3196973913030022, 0.0036226333292124894, 0.562413824360239, 0.11411294987019342, 0.006904336792791543, 0.9896216069667878, 0.999272091284795, 0.9976433084235549, 0.9121658483104692, 0.08680167219361315, 0.9968999453913147, 0.9899599067261838, 0.9953790871822813, 0.9872314923565823, 0.9933991395416951, 0.9976650101371312, 0.9963518065734406, 0.9988669860084336, 0.9947367887827377, 0.9979763914688794, 0.998142187872087, 0.9956114203630332, 0.9963779612675201, 0.9960324270267984, 0.9956171117319732, 0.9912003765421166, 0.9925818604977715, 0.9983898725200535, 0.9985046724311626, 0.9971802316668547, 0.999436789336218, 0.9886263263323293, 0.9920426886779905, 0.9962619926746072, 0.3205200174520518, 0.6762190612098166, 0.9885956869345695, 0.9954181478086792, 0.9621312131430437, 0.036886819673215734, 0.9945361270039029, 0.9048500378964027, 0.09310354087680028, 0.9994462871510237, 0.24726968105568234, 0.7497854844914238, 0.9975876689156863, 0.9853112563140797, 0.9953576172163067, 0.9886563349536952, 0.8620814131895848, 0.13435035010746776, 0.8917390047438103, 0.10752162778437535, 0.9907994538225812], \"Term\": [\"achiev\", \"act\", \"action\", \"action\", \"activ\", \"activ\", \"adapt\", \"adapt\", \"address\", \"advanc\", \"advers\", \"affect\", \"agreement\", \"agricultur\", \"air\", \"almost\", \"along\", \"alreadi\", \"alreadi\", \"alreadi\", \"altern\", \"ambit\", \"appli\", \"applic\", \"approach\", \"approach\", \"approach\", \"approxim\", \"area\", \"area\", \"around\", \"articl\", \"assess\", \"assess\", \"associ\", \"assum\", \"author\", \"awar\", \"base\", \"base\", \"base\", \"base\", \"baselin\", \"better\", \"biodivers\", \"biomass\", \"bodi\", \"build\", \"build\", \"calcul\", \"capac\", \"capac\", \"carbon\", \"carbon\", \"categori\", \"caus\", \"central\", \"chain\", \"challeng\", \"challeng\", \"challeng\", \"chang\", \"citi\", \"citizen\", \"clean\", \"climat\", \"coastal\", \"coastal\", \"coastal\", \"coastlin\", \"commit\", \"commun\", \"commun\", \"commun\", \"compar\", \"condit\", \"condit\", \"condit\", \"condit\", \"conduct\", \"conserv\", \"construct\", \"construct\", \"consult\", \"consumpt\", \"context\", \"contribut\", \"contribut\", \"control\", \"convent\", \"coordin\", \"cost\", \"cost\", \"costa_rica\", \"could\", \"council\", \"countri\", \"countri\", \"countri\", \"countri\", \"countri\", \"cover\", \"cover\", \"crop\", \"cyclon\", \"damag\", \"data\", \"decis\", \"declin\", \"decreas\", \"deforest\", \"degrad\", \"demand\", \"depend\", \"depend\", \"describ\", \"determin\", \"develop\", \"differ\", \"differ\", \"disast\", \"diseas\", \"distribut\", \"district\", \"divers\", \"diversif\", \"drought\", \"due\", \"due\", \"due\", \"earli\", \"econom\", \"econom\", \"econom\", \"economi\", \"economi\", \"economi\", \"economi\", \"ecosystem\", \"educ\", \"effect\", \"effect\", \"effect\", \"effici\", \"effort\", \"effort\", \"electr\", \"emerg\", \"emiss\", \"energi\", \"enhanc\", \"enhanc\", \"enhanc\", \"ensur\", \"environ\", \"eq\", \"equival\", \"equival\", \"eros\", \"especi\", \"estim\", \"etc\", \"event\", \"event\", \"expand\", \"expect\", \"expect\", \"expect\", \"extrem\", \"facil\", \"feder\", \"figur\", \"financ\", \"financi\", \"first\", \"fish\", \"fisheri\", \"flood\", \"food\", \"forest\", \"forestri\", \"forestri\", \"forestri\", \"frequenc\", \"fuel\", \"fund\", \"futur\", \"ga\", \"ga\", \"gase\", \"gdp\", \"gener\", \"gg_co\", \"ghg\", \"global\", \"global\", \"goal\", \"good\", \"good\", \"good\", \"govern\", \"govern\", \"green\", \"greenhous\", \"greenhous\", \"grid\", \"group\", \"grow\", \"growth\", \"growth\", \"guidelin\", \"guyana\", \"gwp\", \"ha\", \"health\", \"high\", \"high\", \"higher\", \"hous\", \"household\", \"human\", \"human\", \"human\", \"identifi\", \"iii\", \"impact\", \"implement\", \"import\", \"import\", \"improv\", \"improv\", \"improv\", \"includ\", \"includ\", \"includ\", \"includ\", \"includ\", \"incom\", \"increas\", \"increas\", \"increas\", \"increas\", \"increas\", \"indc\", \"indc\", \"indic\", \"indic\", \"indic\", \"industri\", \"industri\", \"inform\", \"inform\", \"infrastructur\", \"initi\", \"instal\", \"institut\", \"integr\", \"integr\", \"intens\", \"intens\", \"intern\", \"intern\", \"introduc\", \"introduct\", \"inventori\", \"inventori\", \"invest\", \"ipcc\", \"irrig\", \"island\", \"issu\", \"jordan\", \"kei\", \"kei\", \"kiribati\", \"km\", \"knowledg\", \"lack\", \"land\", \"land\", \"landus\", \"larg\", \"larg\", \"larg\", \"last\", \"lead\", \"lebanon\", \"legisl\", \"level\", \"level\", \"level\", \"level\", \"line\", \"link\", \"live\", \"livelihood\", \"livestock\", \"local\", \"locat\", \"loss\", \"low\", \"low\", \"lower\", \"lulucf\", \"mainli\", \"major\", \"manag\", \"manag\", \"manag\", \"mani\", \"manufactur\", \"marin\", \"market\", \"measur\", \"mechan\", \"meet\", \"meteorolog\", \"methodolog\", \"million\", \"million\", \"mine\", \"ministri\", \"mitig\", \"mitig\", \"mitig\", \"mix\", \"mobil\", \"model\", \"model\", \"monitor\", \"mrv\", \"mt_co\", \"multilater\", \"mw\", \"napa\", \"nation\", \"nation\", \"natur\", \"nauru\", \"ndc\", \"need\", \"net\", \"object\", \"ocean\", \"oil\", \"on\", \"on\", \"option\", \"organ\", \"output\", \"pacif\", \"pakistan\", \"panel\", \"pari\", \"parti\", \"pathwai\", \"pattern\", \"peopl\", \"per\", \"per_capita\", \"per_cent\", \"percent\", \"period\", \"period\", \"period\", \"plan\", \"plant\", \"plant\", \"png\", \"polici\", \"polit\", \"pollut\", \"popul\", \"potenti\", \"potenti\", \"poverti\", \"power\", \"practic\", \"practic\", \"present\", \"prevent\", \"prioriti\", \"privat\", \"process\", \"process\", \"process\", \"produc\", \"product\", \"product\", \"program\", \"program\", \"programm\", \"project\", \"project\", \"project\", \"project\", \"promot\", \"promot\", \"promot\", \"protect\", \"provid\", \"provid\", \"provid\", \"public\", \"public\", \"public\", \"public\", \"qualiti\", \"rainfal\", \"reason\", \"recoveri\", \"reduc\", \"reduc\", \"reduc\", \"reduct\", \"refer\", \"region\", \"region\", \"regulatori\", \"rehabilit\", \"relev\", \"remov\", \"renew\", \"report\", \"report\", \"requir\", \"research\", \"resili\", \"resili\", \"resourc\", \"resourc\", \"resourc\", \"respons\", \"result\", \"result\", \"result\", \"right\", \"rise\", \"risk\", \"rmi\", \"road\", \"rural\", \"rural\", \"scale\", \"scenario\", \"scienc\", \"scientif\", \"sea\", \"sea_level\", \"season\", \"sector\", \"sector\", \"sector\", \"sector\", \"secur\", \"servic\", \"set\", \"sever\", \"show\", \"singapor\", \"sink\", \"social\", \"social\", \"soil\", \"soil\", \"solar\", \"solid\", \"solut\", \"somalia\", \"sourc\", \"sourc\", \"south_africa\", \"sri_lanka\", \"standard\", \"state\", \"state\", \"state\", \"stock\", \"storm\", \"strateg\", \"strategi\", \"strengthen\", \"success\", \"suppli\", \"suppli\", \"support\", \"sustain\", \"sustain\", \"sustain\", \"system\", \"system\", \"system\", \"system\", \"take\", \"take\", \"target\", \"technic\", \"technolog\", \"technolog\", \"temperatur\", \"threat\", \"throughout\", \"ton\", \"tonga\", \"total\", \"tourism\", \"toward\", \"train\", \"transfer\", \"transport\", \"treatment\", \"trend\", \"tropic\", \"type\", \"uae\", \"uncondit\", \"unfccc\", \"updat\", \"urban\", \"us\", \"usual\", \"util\", \"valu\", \"variabl\", \"variabl\", \"veget\", \"vehicl\", \"vulner\", \"vulner\", \"warn\", \"wast\", \"wast\", \"water\", \"wind\", \"wind\", \"within\", \"wood\", \"world\", \"world_bank\", \"would\", \"would\", \"year\", \"year\", \"zone\"]}, \"R\": 30, \"lambda.step\": 0.01, \"plot.opts\": {\"xlab\": \"PC1\", \"ylab\": \"PC2\"}, \"topic.order\": [6, 3, 2, 7, 4, 9, 10, 1, 5, 8]};\n",
              "\n",
              "function LDAvis_load_lib(url, callback){\n",
              "  var s = document.createElement('script');\n",
              "  s.src = url;\n",
              "  s.async = true;\n",
              "  s.onreadystatechange = s.onload = callback;\n",
              "  s.onerror = function(){console.warn(\"failed to load library \" + url);};\n",
              "  document.getElementsByTagName(\"head\")[0].appendChild(s);\n",
              "}\n",
              "\n",
              "if(typeof(LDAvis) !== \"undefined\"){\n",
              "   // already loaded: just create the visualization\n",
              "   !function(LDAvis){\n",
              "       new LDAvis(\"#\" + \"ldavis_el621403212906851367918181838\", ldavis_el621403212906851367918181838_data);\n",
              "   }(LDAvis);\n",
              "}else if(typeof define === \"function\" && define.amd){\n",
              "   // require.js is available: use it to load d3/LDAvis\n",
              "   require.config({paths: {d3: \"https://d3js.org/d3.v5\"}});\n",
              "   require([\"d3\"], function(d3){\n",
              "      window.d3 = d3;\n",
              "      LDAvis_load_lib(\"https://cdn.jsdelivr.net/gh/bmabey/pyLDAvis/pyLDAvis/js/ldavis.v3.0.0.js\", function(){\n",
              "        new LDAvis(\"#\" + \"ldavis_el621403212906851367918181838\", ldavis_el621403212906851367918181838_data);\n",
              "      });\n",
              "    });\n",
              "}else{\n",
              "    // require.js not available: dynamically load d3 & LDAvis\n",
              "    LDAvis_load_lib(\"https://d3js.org/d3.v5.js\", function(){\n",
              "         LDAvis_load_lib(\"https://cdn.jsdelivr.net/gh/bmabey/pyLDAvis/pyLDAvis/js/ldavis.v3.0.0.js\", function(){\n",
              "                 new LDAvis(\"#\" + \"ldavis_el621403212906851367918181838\", ldavis_el621403212906851367918181838_data);\n",
              "            })\n",
              "         });\n",
              "}\n",
              "</script>"
            ],
            "text/plain": [
              "PreparedData(topic_coordinates=              x         y  topics  cluster       Freq\n",
              "topic                                                \n",
              "5     -0.252566  0.134054       1        1  24.434688\n",
              "2     -0.259154 -0.006692       2        1  18.030375\n",
              "1     -0.143360 -0.113570       3        1  11.962420\n",
              "6      0.113938 -0.030742       4        1   9.398393\n",
              "3     -0.052036 -0.104505       5        1   7.708953\n",
              "8      0.087308  0.141002       6        1   7.116051\n",
              "9      0.094689  0.239372       7        1   6.857648\n",
              "0      0.053047 -0.247149       8        1   5.663568\n",
              "4      0.157123  0.127449       9        1   5.651313\n",
              "7      0.201010 -0.139219      10        1   3.176592, topic_info=            Term         Freq        Total Category  logprob  loglift\n",
              "110       climat  6642.000000  6642.000000  Default  30.0000  30.0000\n",
              "109        chang  5165.000000  5165.000000  Default  29.0000  29.0000\n",
              "181        emiss  3946.000000  3946.000000  Default  28.0000  28.0000\n",
              "9         energi  2978.000000  2978.000000  Default  27.0000  27.0000\n",
              "195           us  2327.000000  2327.000000  Default  26.0000  26.0000\n",
              "...          ...          ...          ...      ...      ...      ...\n",
              "1395  world_bank    90.113683    91.032644  Topic10  -4.8516   3.4392\n",
              "1325     citizen    87.845074    88.763992  Topic10  -4.8771   3.4390\n",
              "1476  multilater    86.656866    87.575959  Topic10  -4.8908   3.4388\n",
              "1582       mobil    83.879530    84.798424  Topic10  -4.9233   3.4385\n",
              "1601       usual    83.036002    83.954875  Topic10  -4.9334   3.4384\n",
              "\n",
              "[455 rows x 6 columns], token_table=      Topic      Freq    Term\n",
              "term                         \n",
              "752       2  0.999375  achiev\n",
              "381       4  0.993290     act\n",
              "481       1  0.997917  action\n",
              "481       2  0.001957  action\n",
              "219       1  0.939329   activ\n",
              "...     ...       ...     ...\n",
              "218       3  0.862081   would\n",
              "218      10  0.134350   would\n",
              "177       3  0.891739    year\n",
              "177       8  0.107522    year\n",
              "1155      8  0.990799    zone\n",
              "\n",
              "[544 rows x 3 columns], R=30, lambda_step=0.01, plot_opts={'xlab': 'PC1', 'ylab': 'PC2'}, topic_order=[6, 3, 2, 7, 4, 9, 10, 1, 5, 8])"
            ]
          },
          "metadata": {
            "tags": []
          },
          "execution_count": 44
        }
      ]
    },
    {
      "cell_type": "markdown",
      "metadata": {
        "id": "wNYqtYumXBgC"
      },
      "source": [
        "Train LDA using Mallet"
      ]
    },
    {
      "cell_type": "code",
      "metadata": {
        "id": "9p8ITkWy4uzI"
      },
      "source": [
        "!wget http://mallet.cs.umass.edu/dist/mallet-2.0.8.zip\n",
        "!unzip mallet-2.0.8.zip\n",
        "\n",
        "mallet_path = 'mallet-2.0.8/bin/mallet'"
      ],
      "execution_count": null,
      "outputs": []
    },
    {
      "cell_type": "markdown",
      "metadata": {
        "id": "Qr0-UapyX5-P"
      },
      "source": [
        "Train LDA with Mallet"
      ]
    },
    {
      "cell_type": "code",
      "metadata": {
        "colab": {
          "base_uri": "https://localhost:8080/"
        },
        "id": "GdPZQyba5hz5",
        "outputId": "af177105-d5c1-4155-e423-8b05ed0452d7"
      },
      "source": [
        "ldamallet = gensim.models.wrappers.LdaMallet(mallet_path, corpus=corpus, num_topics=10, id2word=id2word)\n",
        "pprint(ldamallet.show_topics(formatted=False))\n",
        "\n",
        "coherence_model_ldamallet = CoherenceModel(model=ldamallet, texts=texts, dictionary=id2word, coherence='c_v')\n",
        "coherence_ldamallet = coherence_model_ldamallet.get_coherence()\n",
        "print('Coherence Score: {}'.format(coherence_ldamallet))"
      ],
      "execution_count": 45,
      "outputs": [
        {
          "output_type": "stream",
          "text": [
            "[(0,\n",
            "  [('emiss', 0.11753863604140083),\n",
            "   ('ghg', 0.04366936055579186),\n",
            "   ('reduct', 0.04012476960158798),\n",
            "   ('target', 0.03612647100524599),\n",
            "   ('contribut', 0.031731178222033175),\n",
            "   ('global', 0.02841344108889834),\n",
            "   ('achiev', 0.020813838083085213),\n",
            "   ('reduc', 0.02047355735148164),\n",
            "   ('carbon', 0.019481071884304552),\n",
            "   ('level', 0.017779668226286686)]),\n",
            " (1,\n",
            "  [('countri', 0.038574556349389263),\n",
            "   ('year', 0.03252477529384651),\n",
            "   ('econom', 0.031689329338557275),\n",
            "   ('increas', 0.023104401935929938),\n",
            "   ('growth', 0.021491126987785204),\n",
            "   ('sector', 0.020655681032495966),\n",
            "   ('economi', 0.020165936851809174),\n",
            "   ('project', 0.0198490435584236),\n",
            "   ('popul', 0.018322194053929475),\n",
            "   ('million', 0.018293385572712605)]),\n",
            " (2,\n",
            "  [('implement', 0.059480979062223535),\n",
            "   ('mitig', 0.04423473901503981),\n",
            "   ('support', 0.043969330580949574),\n",
            "   ('measur', 0.031111766440578),\n",
            "   ('intern', 0.030521969920377468),\n",
            "   ('technolog', 0.030374520790327337),\n",
            "   ('develop', 0.02789737540548511),\n",
            "   ('project', 0.02515482158655264),\n",
            "   ('invest', 0.023385432025951048),\n",
            "   ('requir', 0.022087879681509878)]),\n",
            " (3,\n",
            "  [('climat', 0.11763309238642959),\n",
            "   ('chang', 0.11132802194903181),\n",
            "   ('adapt', 0.08724212525721521),\n",
            "   ('develop', 0.07893209518282066),\n",
            "   ('nation', 0.0678256740357727),\n",
            "   ('plan', 0.06342003904395083),\n",
            "   ('polici', 0.04484778135387538),\n",
            "   ('action', 0.04184034189838021),\n",
            "   ('strategi', 0.03553527146098243),\n",
            "   ('prioriti', 0.020260644752809583)]),\n",
            " (4,\n",
            "  [('impact', 0.03180584030586801),\n",
            "   ('increas', 0.03094697179586635),\n",
            "   ('chang', 0.02582146617166288),\n",
            "   ('climat', 0.02523965201972627),\n",
            "   ('temperatur', 0.014323710311963207),\n",
            "   ('vulner', 0.014046655953898155),\n",
            "   ('flood', 0.013631074416800577),\n",
            "   ('region', 0.011636283038732199),\n",
            "   ('drought', 0.011470050423893168),\n",
            "   ('island', 0.011386934116473652)]),\n",
            " (5,\n",
            "  [('nation', 0.041734319562210596),\n",
            "   ('contribut', 0.02537735281736725),\n",
            "   ('report', 0.024956401467316133),\n",
            "   ('data', 0.021047567502555774),\n",
            "   ('agreement', 0.019484033916651634),\n",
            "   ('inform', 0.019423898009501474),\n",
            "   ('includ', 0.018281315773648447),\n",
            "   ('determin', 0.01801070419147273),\n",
            "   ('indc', 0.0170184617234951),\n",
            "   ('unfccc', 0.016567442419868905)]),\n",
            " (6,\n",
            "  [('energi', 0.09681199483188606),\n",
            "   ('sector', 0.030257504281722303),\n",
            "   ('gener', 0.02617108860911631),\n",
            "   ('effici', 0.02490910729845858),\n",
            "   ('transport', 0.023587031639674287),\n",
            "   ('electr', 0.023376701421231334),\n",
            "   ('wast', 0.02214476728463688),\n",
            "   ('renew', 0.021934437066193923),\n",
            "   ('sourc', 0.020371984014903397),\n",
            "   ('industri', 0.020131606622397165)]),\n",
            " (7,\n",
            "  [('agricultur', 0.04842162390327735),\n",
            "   ('water', 0.04356740133264992),\n",
            "   ('forest', 0.0372358066753098),\n",
            "   ('area', 0.036150390448337205),\n",
            "   ('land', 0.0324117345554316),\n",
            "   ('product', 0.031416769680706724),\n",
            "   ('manag', 0.031266017426960536),\n",
            "   ('resourc', 0.02903488407151687),\n",
            "   ('natur', 0.020803811016974705),\n",
            "   ('protect', 0.01977869569150059)]),\n",
            " (8,\n",
            "  [('sector', 0.038935640630555886),\n",
            "   ('govern', 0.0359428706886334),\n",
            "   ('process', 0.02749792580301055),\n",
            "   ('ndc', 0.024682944174469597),\n",
            "   ('implement', 0.020267867725494843),\n",
            "   ('environ', 0.018904823989569754),\n",
            "   ('ministri', 0.01644541898779187),\n",
            "   ('nation', 0.016208367903283158),\n",
            "   ('level', 0.016060210975465214),\n",
            "   ('assess', 0.0147564300106673)]),\n",
            " (9,\n",
            "  [('climat', 0.03898748024796402),\n",
            "   ('capac', 0.024735626595356754),\n",
            "   ('commun', 0.024431749118755317),\n",
            "   ('system', 0.02312507596936915),\n",
            "   ('develop', 0.021028321380819254),\n",
            "   ('environment', 0.02090677039017868),\n",
            "   ('build', 0.02029901543697581),\n",
            "   ('risk', 0.0189619545399295),\n",
            "   ('resili', 0.01887079129694907),\n",
            "   ('manag', 0.01771605688586362)])]\n",
            "Coherence Score: 0.6198715403386699\n"
          ],
          "name": "stdout"
        }
      ]
    },
    {
      "cell_type": "markdown",
      "metadata": {
        "id": "C6UXa4DQiflr"
      },
      "source": [
        "Converd Mallet model to gensim in order to be able to visualize topics with pyLDAvis"
      ]
    },
    {
      "cell_type": "code",
      "metadata": {
        "id": "DB6hMiTjwgPU"
      },
      "source": [
        "def convertldaGenToldaMallet(mallet_model):\n",
        "    model_gensim = gensim.models.ldamodel.LdaModel(\n",
        "        id2word=mallet_model.id2word, num_topics=mallet_model.num_topics,\n",
        "        alpha=mallet_model.alpha, eta=0,\n",
        "    )\n",
        "    model_gensim.state.sstats[...] = mallet_model.wordtopics\n",
        "    model_gensim.sync_state()\n",
        "    return model_gensim\n",
        "\n",
        "mallet_model = convertldaGenToldaMallet(ldamallet)"
      ],
      "execution_count": 46,
      "outputs": []
    },
    {
      "cell_type": "code",
      "metadata": {
        "colab": {
          "base_uri": "https://localhost:8080/",
          "height": 965
        },
        "id": "A8a-O5fHwtQi",
        "outputId": "2519de56-9e18-40ce-e782-60d29e2f75af"
      },
      "source": [
        "pyLDAvis.enable_notebook()\n",
        "vis = pyLDAvis.gensim.prepare(mallet_model, corpus, id2word)\n",
        "vis"
      ],
      "execution_count": 47,
      "outputs": [
        {
          "output_type": "stream",
          "text": [
            "/usr/local/lib/python3.7/dist-packages/pyLDAvis/_prepare.py:236: RuntimeWarning: divide by zero encountered in log\n",
            "  log_1 = np.log(pd.eval(\"(topic_given_term.T / topic_proportion)\"))\n",
            "/usr/local/lib/python3.7/dist-packages/pyLDAvis/_prepare.py:259: RuntimeWarning: divide by zero encountered in log\n",
            "  log_lift = np.log(pd.eval(\"topic_term_dists / term_proportion\")).astype(\"float64\")\n",
            "/usr/local/lib/python3.7/dist-packages/pyLDAvis/_prepare.py:260: RuntimeWarning: divide by zero encountered in log\n",
            "  log_ttd = np.log(topic_term_dists).astype(\"float64\")\n"
          ],
          "name": "stderr"
        },
        {
          "output_type": "execute_result",
          "data": {
            "text/html": [
              "\n",
              "<link rel=\"stylesheet\" type=\"text/css\" href=\"https://cdn.jsdelivr.net/gh/bmabey/pyLDAvis/pyLDAvis/js/ldavis.v1.0.0.css\">\n",
              "\n",
              "\n",
              "<div id=\"ldavis_el621403215558458405366594092\"></div>\n",
              "<script type=\"text/javascript\">\n",
              "\n",
              "var ldavis_el621403215558458405366594092_data = {\"mdsDat\": {\"x\": [0.08170402980998102, 0.320780929669129, 0.1105396312298235, -0.15478903133731325, -0.12561499004346094, -0.22145836675028058, 0.08989852957973239, 0.1120863285091332, 0.004855674200692598, -0.2180027348674366], \"y\": [-0.2851569887941599, 0.003007344279352979, 0.24493653296403406, 0.1486228809488498, -0.08177968399638758, -0.06431104690826547, -0.2197662293653846, 0.06837350652136293, 0.20823220623039002, -0.022158521879791525], \"topics\": [1, 2, 3, 4, 5, 6, 7, 8, 9, 10], \"cluster\": [1, 1, 1, 1, 1, 1, 1, 1, 1, 1], \"Freq\": [10.635601082277917, 10.55858674268715, 10.368493826555419, 10.105028822790652, 9.915953241954114, 9.863094314584462, 9.71076597853695, 9.678826764818153, 9.633441316875235, 9.530207908919948]}, \"tinfo\": {\"Term\": [\"emiss\", \"climat\", \"chang\", \"energi\", \"adapt\", \"develop\", \"nation\", \"plan\", \"implement\", \"agricultur\", \"polici\", \"mitig\", \"ghg\", \"support\", \"action\", \"water\", \"reduct\", \"sector\", \"contribut\", \"increas\", \"strategi\", \"forest\", \"target\", \"govern\", \"manag\", \"area\", \"countri\", \"year\", \"econom\", \"land\", \"agenda\", \"prioriti\", \"beneath\", \"scotland\", \"scottish\", \"strateg\", \"strategi\", \"vision\", \"polici\", \"align\", \"articul\", \"coher\", \"stipul\", \"awd\", \"harmoni\", \"pde\", \"snpacvc\", \"foster\", \"longterm\", \"mainstream\", \"mediumterm\", \"nccap\", \"shortterm\", \"apprais\", \"unabl\", \"enact\", \"tajikistan\", \"bangladesh\", \"beliz\", \"ecuador\", \"adapt\", \"nap\", \"outlin\", \"long_term\", \"synergi\", \"combat\", \"cambodia\", \"togo\", \"guid\", \"pillar\", \"immedi\", \"elabor\", \"napa\", \"sdg\", \"zimbabw\", \"colombia\", \"overarch\", \"sudan\", \"plan\", \"costa_rica\", \"chang\", \"fight\", \"action\", \"climat\", \"develop\", \"nation\", \"framework\", \"respons\", \"viet_nam\", \"goal\", \"programm\", \"initi\", \"address\", \"png\", \"sustain\", \"resili\", \"context\", \"aim\", \"impact\", \"integr\", \"countri\", \"kei\", \"affect\", \"avalanch\", \"ccvi\", \"cyclon\", \"drought\", \"errat\", \"event\", \"featur\", \"flash\", \"glacial\", \"glof\", \"hazard\", \"implic\", \"increasingli\", \"lake\", \"melt\", \"monsoon\", \"month\", \"outburst\", \"precipit\", \"properti\", \"rainfal\", \"riverin\", \"season\", \"spatial\", \"storm\", \"tempor\", \"waterstress\", \"wave\", \"winter\", \"temperatur\", \"island\", \"rise\", \"flood\", \"loss\", \"extrem\", \"sea_level\", \"damag\", \"sever\", \"caus\", \"variabl\", \"weather\", \"central\", \"diseas\", \"highli\", \"neg\", \"km\", \"locat\", \"ocean\", \"pattern\", \"threat\", \"tropic\", \"impact\", \"especi\", \"coastal\", \"increas\", \"region\", \"due\", \"result\", \"vulner\", \"high\", \"chang\", \"climat\", \"infrastructur\", \"particularli\", \"countri\", \"water\", \"risk\", \"area\", \"goj\", \"usd\", \"reconstruct\", \"cash\", \"great\", \"hand\", \"pakistan\", \"fed\", \"gdp\", \"percent\", \"driven\", \"compromis\", \"economi\", \"overal\", \"remain\", \"wherea\", \"growth\", \"sinc\", \"billion\", \"dollar\", \"kato\", \"licens\", \"sidewalk\", \"substanti\", \"econom\", \"afghanistan\", \"mainli\", \"rapid\", \"rate\", \"world\", \"year\", \"million\", \"poverti\", \"rel\", \"grow\", \"amount\", \"jordan\", \"incom\", \"histor\", \"export\", \"lesotho\", \"move\", \"real\", \"nauru\", \"percentag\", \"significantli\", \"averag\", \"period\", \"estim\", \"popul\", \"time\", \"expect\", \"countri\", \"indic\", \"annual\", \"howev\", \"futur\", \"current\", \"increas\", \"project\", \"total\", \"challeng\", \"sector\", \"potenti\", \"signific\", \"low\", \"assum\", \"uncondit\", \"target\", \"impli\", \"emiss\", \"businessasusu\", \"per_cent\", \"ghg\", \"emit\", \"coeq\", \"deem\", \"nghgi\", \"quantit\", \"ambiti\", \"circumst\", \"reduct\", \"compat\", \"per_capita\", \"equival\", \"ggcoe\", \"notwithstand\", \"compar\", \"mtcoe\", \"ambit\", \"decarbonis\", \"bei\", \"nigeran\", \"gg\", \"nearbi\", \"gaseou\", \"bau\", \"fair\", \"sink\", \"net\", \"bau_scenario\", \"pathwai\", \"principl\", \"lulucf\", \"eq\", \"tcoe\", \"gg_co\", \"swaziland\", \"indonesia\", \"trajectori\", \"note\", \"scenario\", \"global\", \"avoid\", \"ton\", \"commit\", \"carbon\", \"achiev\", \"ga\", \"object\", \"contribut\", \"effort\", \"consid\", \"reduc\", \"greenhous\", \"baselin\", \"set\", \"level\", \"mitig\", \"condit\", \"low\", \"total\", \"limit\", \"sector\", \"countri\", \"measur\", \"extern\", \"multilater\", \"gambia\", \"alloc\", \"requir\", \"deliv\", \"financ\", \"transfer\", \"fund\", \"promis\", \"success\", \"unremit\", \"enabl\", \"mechan\", \"intern\", \"invest\", \"casebycas\", \"concession\", \"eventu\", \"iiii\", \"iiiii\", \"inter\", \"kind\", \"necessari\", \"nonrefund\", \"attract\", \"market\", \"publicpriv\", \"guarante\", \"financi\", \"support\", \"green\", \"tabl\", \"cobenefit\", \"assist\", \"mobil\", \"track\", \"moldova\", \"us_billion\", \"donor\", \"grant\", \"bilater\", \"redd\", \"myanmar\", \"demonstr\", \"list\", \"technolog\", \"implement\", \"mitig\", \"measur\", \"cooper\", \"order\", \"domest\", \"cost\", \"project\", \"propos\", \"provid\", \"addit\", \"develop\", \"capac\", \"resourc\", \"action\", \"build\", \"includ\", \"activ\", \"condit\", \"programm\", \"engag\", \"indepth\", \"stakehold\", \"undertaken\", \"endur\", \"environ\", \"govern\", \"randomis\", \"sectorspecif\", \"input\", \"academ\", \"civil\", \"particip\", \"societi\", \"act\", \"author\", \"epa\", \"focal_point\", \"conduct\", \"dialogu\", \"expert\", \"feedback\", \"final\", \"multicriteria\", \"priorit\", \"round\", \"select\", \"statement\", \"approv\", \"nonpunit\", \"process\", \"ministri\", \"work\", \"review\", \"coordin\", \"consult\", \"agenc\", \"law\", \"depart\", \"analysi\", \"role\", \"recommend\", \"committe\", \"draft\", \"sectori\", \"collabor\", \"progress\", \"involv\", \"group\", \"carri\", \"privat\", \"ndc\", \"institut\", \"assess\", \"evalu\", \"identifi\", \"relev\", \"kei\", \"sector\", \"level\", \"establish\", \"implement\", \"monitor\", \"technic\", \"nation\", \"indc\", \"activ\", \"provid\", \"ensur\", \"line\", \"centr\", \"prepared\", \"lack\", \"creat\", \"comput\", \"earli\", \"gender\", \"girl\", \"mathemat\", \"environment\", \"popular\", \"township\", \"acknowledg\", \"knowledg\", \"viv\", \"urgent\", \"pipe\", \"solut\", \"educ\", \"link\", \"logist\", \"women_men\", \"xvi\", \"guinea\", \"moresbi\", \"papua_new\", \"port\", \"critic\", \"indigen\", \"offer\", \"strengthen\", \"issu\", \"awar\", \"prevent\", \"concern\", \"train\", \"emerg\", \"women\", \"respond\", \"tool\", \"research\", \"scientif\", \"code\", \"cca\", \"youth\", \"innov\", \"warn\", \"social\", \"opportun\", \"disast\", \"health\", \"human\", \"risk\", \"effect\", \"capac\", \"build\", \"commun\", \"system\", \"resili\", \"integr\", \"enhanc\", \"servic\", \"local\", \"public\", \"infrastructur\", \"vulner\", \"climat\", \"manag\", \"program\", \"relat\", \"develop\", \"includ\", \"sustain\", \"address\", \"improv\", \"rehabilit\", \"harvest\", \"leav\", \"wetland\", \"yield\", \"forestri\", \"gpglulucf\", \"wood\", \"biolog\", \"divers\", \"crop\", \"fertil\", \"fodder\", \"seed\", \"agrarian\", \"indirectli\", \"farm\", \"guyana\", \"suitabl\", \"viii\", \"ecolog\", \"deform\", \"areabas\", \"hectar\", \"uncbd\", \"upstream\", \"ha\", \"irrig\", \"soil\", \"ecosystem\", \"agricultur\", \"forest\", \"land\", \"product\", \"protect\", \"rural\", \"conserv\", \"practic\", \"secur\", \"degrad\", \"biodivers\", \"marin\", \"fisheri\", \"deforest\", \"control\", \"restor\", \"livestock\", \"speci\", \"landus\", \"tree\", \"sequestr\", \"food\", \"area\", \"water\", \"natur\", \"resourc\", \"manag\", \"cover\", \"promot\", \"sustain\", \"improv\", \"includ\", \"sector\", \"residenti\", \"util\", \"friendli\", \"thermal\", \"replac\", \"cabo\", \"ecree\", \"effici\", \"energi\", \"renew\", \"verd\", \"projectbas\", \"largescal\", \"engin\", \"uptak\", \"biofuel\", \"gener\", \"liquid\", \"fugit\", \"hybrid\", \"equip\", \"electr\", \"grid\", \"hydro\", \"micro\", \"offgrid\", \"pico\", \"solar\", \"user\", \"fleet\", \"transport\", \"wast\", \"industri\", \"power\", \"sourc\", \"consumpt\", \"vehicl\", \"standard\", \"demand\", \"mw\", \"oil\", \"instal\", \"uae\", \"road\", \"facil\", \"altern\", \"fuel\", \"singapor\", \"solid\", \"introduc\", \"commerci\", \"suppli\", \"fossil_fuel\", \"light\", \"construct\", \"sector\", \"oper\", \"plant\", \"reduc\", \"improv\", \"system\", \"import\", \"regul\", \"potenti\", \"data\", \"descript\", \"determin\", \"revis\", \"section\", \"agreement\", \"pari\", \"guidelin\", \"ipcc\", \"oxid\", \"remov\", \"convent\", \"uk\", \"methodolog\", \"report\", \"timehorizon\", \"annex\", \"robust\", \"scope\", \"kyoto_protocol\", \"nonannex\", \"calcul\", \"ch\", \"complianc\", \"confer\", \"decid\", \"definit\", \"iiiiii\", \"nonadversari\", \"transpar\", \"unfccc\", \"parti\", \"inventori\", \"refer\", \"decis\", \"articl\", \"applic\", \"unit\", \"submit\", \"appli\", \"cp\", \"paragraph\", \"understand\", \"outcom\", \"guidanc\", \"assumpt\", \"andor\", \"accord\", \"account\", \"inform\", \"intend\", \"updat\", \"contribut\", \"nation\", \"indc\", \"approach\", \"consist\", \"commun\", \"includ\", \"base\", \"ndc\", \"greenhous\"], \"Freq\": [4311.0, 6882.0, 5287.0, 3385.0, 3466.0, 4792.0, 4642.0, 2648.0, 2868.0, 1701.0, 1731.0, 2218.0, 1601.0, 1584.0, 2098.0, 1841.0, 1471.0, 3981.0, 2048.0, 2055.0, 1371.0, 1308.0, 1325.0, 1286.0, 1722.0, 1502.0, 2437.0, 1227.0, 1192.0, 1138.0, 105.91487691112204, 782.1406239663295, 1.0184122239760591, 42.773314811397455, 12.220947249473898, 307.560493606934, 1371.8013357754598, 268.860828253202, 1731.3008846851203, 140.54089280718864, 46.84696426906288, 36.66284062489932, 27.497131592196865, 2.0368244479521183, 14.25777197830661, 1.0184122239760591, 2.0368244479521183, 39.71807996519314, 256.63988886838473, 171.09325924558982, 28.51554395661322, 12.220947249473898, 23.42348213453144, 6.110473624736949, 9.16571015622483, 28.51554395661322, 33.60760353165025, 77.39933070746406, 83.50980039987269, 1.0184122239760591, 3367.88937229158, 182.295801995304, 132.3935938918578, 118.13582528411831, 94.71234314958687, 77.39933070746406, 71.28885652096592, 70.27044640359432, 137.48565796098433, 63.14155760563507, 62.12314748826347, 61.10473737089187, 131.37517928039668, 58.049498030598045, 43.79172492876906, 43.79172492876906, 40.73649008256474, 93.69392853812576, 2448.263189234235, 76.38091609600295, 4297.69966551082, 63.14155760563507, 1615.201798742134, 4541.100128477494, 3047.089326948429, 2618.337943986574, 556.053083559988, 414.4937941176962, 107.95169714586524, 359.49951295694444, 350.33379943015245, 271.91607208758535, 298.39479805650006, 157.85390524931145, 452.1750448599671, 350.33379943015245, 180.25897277238178, 188.40627168771263, 260.71352933787114, 181.2773873838429, 232.19799212239218, 144.61454226485407, 392.8638393667097, 2.1235881701731953, 3.185382255259793, 112.55017859611307, 439.58276795665256, 7.432558595606183, 320.6618393500476, 27.60664732763828, 38.224589293891, 11.679735493645946, 4.247176340346391, 109.36479466777315, 46.718941974583785, 58.398674122069494, 42.4717634034639, 7.432558595606183, 16.988705361385563, 29.730234382424733, 4.247176340346391, 123.1681161008188, 33.977410722771126, 365.2571786544305, 8.494352680692781, 119.9827321724789, 45.65714733180381, 141.21861610498433, 10.617940850865976, 3.185382255259793, 54.1515000124966, 24.42126563007186, 548.9475626244257, 436.39736618212476, 431.08841081441284, 522.4027144011144, 417.28509830446114, 374.8133125932623, 291.9933839949884, 283.49902685274867, 359.94818759434276, 248.45982148719756, 225.10035719222614, 196.43191968335486, 196.43191968335486, 191.12294646945503, 181.56679468443528, 170.94884825663559, 157.1455357466839, 149.7129732472241, 135.9096428910845, 134.84784824830453, 126.35350002915872, 114.67376788167302, 1218.9396074486406, 195.3701250405749, 346.14487508439106, 1186.0240270610252, 445.9535358133324, 331.27975008547145, 422.59405367217306, 538.329616196626, 332.34156257443937, 989.5921073776703, 967.2944377254789, 307.92030363668795, 211.29702683608653, 363.13358936887056, 311.10566971884, 244.21264291607767, 232.53291969168595, 8.673523459997288, 152.87085714354694, 23.852190336471843, 16.2628563505817, 58.54628198584953, 57.46209141643665, 101.91390476236462, 7.58933289058441, 301.40493448455067, 245.02704239997274, 43.36761839529217, 14.094475211755944, 758.9333109645557, 225.5116033880951, 214.66970645641217, 37.946665548227784, 808.8060683951022, 266.7108537882303, 139.8605703105924, 56.377900847023774, 1.084190432499661, 15.17866578116882, 1.084190432499661, 114.9241828328733, 1192.6095387297066, 57.46209141643665, 138.7763753599566, 70.47237824939118, 400.0662543950079, 266.7108537882303, 1224.051017049228, 688.4609546212791, 306.8259092377297, 214.66970645641217, 184.3123705128516, 239.60608517168544, 142.0289426869723, 135.5238080329409, 125.76608852700208, 124.68190233881214, 92.1561852564258, 89.98780411760005, 83.48266070112278, 81.31427956229703, 80.23009337410708, 137.69218917176667, 374.04571577888225, 628.8304776847938, 671.1139055106731, 689.5451145221315, 330.6780930023671, 349.109337063609, 1451.731045388378, 378.38246053164204, 312.2468489411253, 315.4994337930327, 413.0765587528541, 523.6639880705218, 869.5207052324399, 747.0072015573453, 394.64531469161227, 306.8259092377297, 777.3645199760141, 328.5097031010955, 292.73140992924766, 269.963421115246, 143.52986903742936, 273.538806897746, 1325.0511528795607, 27.04186021927782, 4311.0965304316, 70.72486486042696, 157.0508002145421, 1601.7101772919607, 71.76493451871468, 78.00536100823182, 13.52093010963891, 34.32236063697806, 38.48264567497204, 306.8210872016978, 221.53523858545194, 1471.7012223520626, 24.96171663280698, 221.53523858545194, 167.45151387700093, 29.122001670800962, 16.64114442187132, 414.9885366185999, 50.963502923901686, 228.8157347332568, 24.96171663280698, 3.1202145791008724, 2.080143052733915, 72.8050041770024, 4.16028610546783, 1.0400715263669575, 211.13452492299314, 203.85401169560674, 185.1327236872646, 170.57173139165488, 143.52986903742936, 141.44972972085392, 122.72844171251175, 184.09266256876762, 97.76671867486169, 96.72664901657397, 92.5663618436323, 88.40608321048138, 83.20571783946122, 80.08550886459804, 146.6500865520833, 628.2032008581684, 1042.1516592786897, 125.84865068737493, 127.92879854374115, 624.0428880658545, 714.5291447520744, 763.4124784701329, 619.8826435918667, 508.5949595807291, 1163.83998863396, 499.23432411634883, 452.4311126352842, 750.9316084115171, 462.831826297743, 196.5735155478019, 352.58425464384703, 652.1248627773216, 626.1230444620114, 343.22358502030363, 283.93952056020476, 309.94132179593333, 267.2983718684381, 457.6314694665136, 390.02683066053135, 350.5040982476901, 131.6127314181607, 65.80636570908035, 95.52536552285741, 81.72726415289114, 794.9833434835647, 105.07790626514436, 669.7389781469302, 354.5052425914923, 603.9326291978547, 22.2892519553334, 142.22665812736628, 1.0613929720768942, 288.69889364241675, 445.7850558666728, 1098.541757982876, 841.6846277080712, 2.1227859441537884, 21.22785970341296, 25.473430806095312, 5.30696492585324, 6.368357701523828, 3.184178850761914, 22.2892519553334, 237.75203203022613, 2.1227859441537884, 63.683581205239484, 266.4096458770846, 24.412038554174874, 47.76268276142871, 610.3009617593713, 1582.5369097786772, 409.69768159136703, 285.51472736165846, 194.23491408647794, 263.2254628363214, 115.69183297434994, 95.52536552285741, 231.38366594869987, 89.1570078213336, 81.72726415289114, 71.11332906368314, 70.05193890676331, 134.7969060789214, 123.1215850227948, 102.95511757130228, 117.81462166819202, 1093.2348030082755, 2140.829699378961, 1592.0894421409616, 1119.7695778812774, 210.15581253028873, 378.91729581067136, 325.84764550463865, 441.5394784789886, 905.3682214833143, 287.63751605550056, 488.2407627034951, 356.6280312853344, 1004.0777449069275, 503.10028356038964, 510.5300272288321, 482.9338077288947, 373.61034083607103, 358.7508199791764, 307.8039583669858, 290.82168233625885, 289.76027122933294, 177.1540777311389, 18.03364946734227, 375.5242072850743, 183.5188866097129, 4.243211302284052, 676.7922165196985, 1286.7538814670518, 1.060802825571013, 31.824086069525887, 79.56021100614913, 31.824086069525887, 150.63400461731214, 224.89020266776214, 250.34947152338285, 204.73495510317173, 175.03246921472677, 7.425619909236641, 33.94569041827241, 173.97166495652073, 56.222550666940535, 107.14108837818195, 18.03364946734227, 150.63400461731214, 9.547225820857767, 148.51239610090002, 9.547225820857767, 90.16824525287853, 23.337662423041383, 179.27568624755102, 1.060802825571013, 984.4250846448839, 588.7455797832321, 419.01713185953565, 312.9368394042286, 367.0377732194258, 254.5926885562071, 245.04546690301493, 241.86305412839673, 222.76859415135002, 305.51122626744854, 192.0053206753614, 170.78925218190255, 160.1812262705043, 144.26919573873815, 111.38429707567501, 109.26269689459407, 289.59917906502, 204.73495510317173, 299.14640071821213, 169.72846459435885, 336.27449974343716, 883.6487968099448, 515.5502026616506, 528.2798204187985, 254.5926885562071, 457.2060184723043, 347.94332991304145, 376.5850282139427, 1393.8948948272532, 574.9551410972157, 347.94332991304145, 725.5891790558526, 334.152891227025, 298.08561313066843, 580.2591457175837, 360.67298101151414, 309.7544433002727, 303.3896177510364, 275.80874037900355, 254.5926885562071, 106.03682956214934, 35.34560848628344, 175.65696239163913, 216.35797928341086, 8.568632624538724, 168.15941442308986, 199.22071506015817, 6.426474596632138, 3.213237298316069, 736.9024108394541, 1.0710790780673405, 3.213237298316069, 44.985320637687835, 227.0687714745933, 1.0710790780673405, 87.82848119581956, 5.355395582678844, 114.60546167377568, 280.6227160173094, 146.73783004072496, 7.497553610585431, 42.843164661430755, 1.0710790780673405, 162.80401832749862, 26.77697637465709, 95.32603737096689, 68.54906099630979, 158.51969816838644, 104.96574541907226, 58.9093488449054, 588.0223796861828, 353.4561094826285, 250.63250772991623, 221.71337537900206, 182.08345083690546, 169.23049035956888, 160.6618664545406, 152.0932261363162, 152.0932261363162, 148.8799983268791, 363.0958093241358, 111.39222565774055, 110.32114151466348, 93.1838772914108, 92.11280135493176, 167.08833848661084, 125.31625386495811, 475.5590945051593, 251.70358366639528, 496.9806788875242, 532.3262996837047, 364.1669016738109, 668.3533539464433, 544.1081842245623, 871.8583399261254, 715.4808264570892, 861.147547734943, 815.0912004003643, 665.1401097238102, 465.919394663652, 457.3507543454276, 305.2575446223075, 363.0958093241358, 401.6546415165573, 397.3703377706412, 537.681695779296, 1374.194447735633, 624.4391256584306, 335.2477364965046, 340.60313259209585, 741.1867145853702, 528.0419959377886, 447.71105450392025, 306.3286041455904, 311.68400024118165, 163.1198317810278, 103.80353675120507, 26.480493234531284, 99.56665619775885, 70.96771859670139, 564.5641353912616, 1.0592197549425204, 122.86948697230393, 63.55318376287508, 112.27728967849141, 318.8251450874415, 94.27055755085259, 15.88829594071877, 26.480493234531284, 7.414537901178607, 19.065954310901912, 158.88295940718768, 101.6850923846789, 66.73084213305822, 8.473758039540163, 95.32977564431262, 1.0592197549425204, 1.0592197549425204, 114.39573404501759, 1.0592197549425204, 9.532977155450956, 176.8896915348265, 234.08756673694143, 300.81839660059046, 436.3985415924453, 1701.106924648399, 1308.13639850427, 1138.6612418032696, 1103.7069711026336, 694.8481162993613, 379.2006500311182, 365.4308066365317, 361.1939342626916, 449.10915871396566, 300.81839660059046, 253.15350877843417, 219.25848071007658, 204.42941104242394, 199.1333123955177, 166.29749424101402, 166.29749424101402, 246.798200217674, 144.05388973953507, 137.69856481956268, 134.52090235957647, 117.57338832539767, 476.6488782215631, 1270.0045144212843, 1530.5724762374837, 730.8616132730634, 1020.0286190251996, 1098.4109051741518, 333.6542147550942, 423.68789175250055, 490.4187216161496, 419.4510193786604, 364.37158036346557, 294.4630716806181, 94.55775337882915, 162.84945465430212, 32.5698917449855, 65.139783489971, 97.70967930558186, 101.91224178041833, 4.202566799875912, 870.9819399530595, 3385.167484664826, 766.9684087939722, 101.91224178041833, 5.253208181827284, 34.6711770530291, 50.430798545541926, 24.164758654061846, 46.2282320000801, 915.1088866450959, 15.759625563138192, 10.506416363654568, 33.6205343990073, 119.77315265160011, 817.3992236220156, 152.34304032596026, 63.03850225255277, 17.860908835869104, 50.430798545541926, 2.101283399937956, 330.9521327552767, 33.6205343990073, 30.468608472254587, 824.753703882354, 774.3228890543106, 703.9299228239208, 549.4855768367902, 712.3350803385968, 289.9770875662407, 263.71106802788745, 252.15400901021107, 324.6482646192698, 204.87512825017114, 175.457158361313, 170.20395119714203, 168.10266181847308, 166.00138872230556, 161.79882624746912, 157.5962474901312, 306.78737003058944, 153.39368501529472, 139.7353366189494, 139.7353366189494, 123.97571512643658, 318.34442904826585, 167.05203341164005, 176.50780305064745, 206.9764176288401, 1057.9961736145503, 191.2167798538258, 275.2681270455638, 495.90286050574633, 393.990618725328, 332.0027774446111, 252.15400901021107, 171.25459588647652, 178.60909242931643, 728.07116398412, 32.24315130624793, 623.0208709093353, 182.01779099603, 169.53655944424517, 673.9858594757505, 486.7675794951671, 296.4289835726297, 478.44675846064393, 67.60660647343813, 265.2259208011834, 444.12341196327503, 224.66195852792208, 349.47416128966006, 863.2843608229805, 5.200508112822089, 106.09036348806865, 68.64670910275353, 84.24823243446882, 74.88731682463808, 23.92233832573259, 200.73962221569147, 131.05281048362252, 47.84467665146518, 106.09036348806865, 33.28325192206137, 60.32589612223819, 3.120304867693253, 1.0401016225644177, 198.65941695706067, 573.0960091342589, 494.0482737383514, 493.00817916304385, 386.9178237289831, 361.95536062541345, 319.31119309352135, 255.86500519135265, 456.6046112990284, 226.74216378655288, 200.73962221569147, 185.13809082996832, 180.97768031270672, 168.49646486893764, 157.05534400047608, 150.81474433259942, 190.33859592253745, 173.69696996150677, 476.3665370939974, 541.8929785788441, 671.9056703251355, 346.353845347706, 372.35640302658317, 877.8458137414118, 1443.6610642004237, 588.6975244119664, 381.71728642038244, 272.5066150443676, 525.2513365097976, 632.3818187351974, 411.8802546165212, 455.5645167237209, 303.7096778158139], \"Total\": [4311.0, 6882.0, 5287.0, 3385.0, 3466.0, 4792.0, 4642.0, 2648.0, 2868.0, 1701.0, 1731.0, 2218.0, 1601.0, 1584.0, 2098.0, 1841.0, 1471.0, 3981.0, 2048.0, 2055.0, 1371.0, 1308.0, 1325.0, 1286.0, 1722.0, 1502.0, 2437.0, 1227.0, 1192.0, 1138.0, 105.91487691112204, 782.1406239663295, 1.0184122239760591, 42.773314811397455, 12.220947249473898, 307.560493606934, 1371.8013357754598, 268.860828253202, 1731.3008846851203, 140.54089280718864, 46.84696426906288, 36.66284062489932, 27.497131592196865, 2.0368244479521183, 14.25777197830661, 1.0184122239760591, 2.0368244479521183, 39.71807996519314, 256.63988886838473, 171.09325924558982, 28.51554395661322, 12.220947249473898, 23.42348213453144, 6.110473624736949, 9.16571015622483, 28.51554395661322, 33.60760353165025, 77.39933070746406, 83.50980039987269, 1.0184122239760591, 3466.5989208552005, 182.295801995304, 132.3935938918578, 118.13582528411831, 94.71234314958687, 77.39933070746406, 71.28885652096592, 70.27044640359432, 138.55673703905165, 63.14155760563507, 62.12314748826347, 61.10473737089187, 132.45936971289635, 58.049498030598045, 43.79172492876906, 43.79172492876906, 40.73649008256474, 94.74457023809474, 2648.796026584028, 77.44013585094547, 5287.2917728884895, 64.22574803813474, 2098.135606471029, 6882.589013938606, 4792.353786440726, 4642.258153904581, 795.2764627903099, 606.4991147930576, 118.55972618301267, 578.9545951462394, 640.0940706594854, 474.39605744335347, 604.7234022020905, 227.80359707975958, 1391.344892506404, 1015.4739091539626, 324.20347255918836, 362.1362983197872, 1480.7373272190114, 647.1967820474949, 2437.089457540172, 521.1995704787968, 392.8638393667097, 2.1235881701731953, 3.185382255259793, 112.55017859611307, 439.58276795665256, 7.432558595606183, 320.6618393500476, 27.60664732763828, 38.224589293891, 11.679735493645946, 4.247176340346391, 109.36479466777315, 46.718941974583785, 58.398674122069494, 42.4717634034639, 7.432558595606183, 16.988705361385563, 29.730234382424733, 4.247176340346391, 123.1681161008188, 33.977410722771126, 365.2571786544305, 8.494352680692781, 119.9827321724789, 45.65714733180381, 141.21861610498433, 10.617940850865976, 3.185382255259793, 54.1515000124966, 24.42126563007186, 548.9475626244257, 436.39736618212476, 431.08841081441284, 523.4869048336141, 417.28509830446114, 374.8133125932623, 291.9933839949884, 283.49902685274867, 361.00958056641963, 248.45982148719756, 225.10035719222614, 196.43191968335486, 196.43191968335486, 191.12294646945503, 181.56679468443528, 170.94884825663559, 157.1455357466839, 149.7129732472241, 135.9096428910845, 134.84784824830453, 126.35350002915872, 114.67376788167302, 1480.7373272190114, 217.43360042190582, 437.2377701752574, 2055.544732293465, 636.1316044567875, 484.1506072290184, 696.7078732868504, 1181.9261888870442, 558.9373609131703, 5287.2917728884895, 6882.589013938606, 705.2906414073291, 275.26426166900046, 2437.089457540172, 1841.6781459563235, 912.565996862521, 1502.5374341129702, 8.673523459997288, 152.87085714354694, 23.852190336471843, 16.2628563505817, 58.54628198584953, 57.46209141643665, 101.91390476236462, 7.58933289058441, 301.40493448455067, 245.02704239997274, 43.36761839529217, 14.094475211755944, 758.9333109645557, 225.5116033880951, 214.66970645641217, 37.946665548227784, 808.8060683951022, 266.7108537882303, 139.8605703105924, 56.377900847023774, 1.084190432499661, 15.17866578116882, 1.084190432499661, 114.9241828328733, 1192.6095387297066, 57.46209141643665, 138.7763753599566, 70.47237824939118, 400.0662543950079, 266.7108537882303, 1227.2363993044878, 689.5320336993465, 307.88512899267226, 214.66970645641217, 184.3123705128516, 240.67716424975276, 142.0289426869723, 135.5238080329409, 125.76608852700208, 124.68190233881214, 92.1561852564258, 89.98780411760005, 83.48266070112278, 81.31427956229703, 80.23009337410708, 138.75398325685327, 402.1276477913955, 702.6776918801164, 843.7707808968723, 897.6567574298781, 396.2766522359088, 430.86747994219695, 2437.089457540172, 485.5129266490261, 385.44547425132833, 402.53366130052666, 573.6147516952377, 821.7154259305995, 2055.544732293465, 1832.7042971014764, 704.5866364875455, 454.91667806368474, 3981.3501295649494, 648.1744282314348, 470.3308074081363, 553.9029416754507, 143.52986903742936, 273.538806897746, 1325.0511528795607, 27.04186021927782, 4311.0965304316, 70.72486486042696, 157.0508002145421, 1601.7101772919607, 71.76493451871468, 78.00536100823182, 13.52093010963891, 34.32236063697806, 38.48264567497204, 306.8210872016978, 221.53523858545194, 1471.7012223520626, 24.96171663280698, 221.53523858545194, 167.45151387700093, 29.122001670800962, 16.64114442187132, 414.9885366185999, 50.963502923901686, 228.8157347332568, 24.96171663280698, 3.1202145791008724, 2.080143052733915, 72.8050041770024, 4.16028610546783, 1.0400715263669575, 211.13452492299314, 203.85401169560674, 185.1327236872646, 170.57173139165488, 143.52986903742936, 141.44972972085392, 122.72844171251175, 185.15188232371014, 97.76671867486169, 96.72664901657397, 92.5663618436323, 88.40608321048138, 83.20571783946122, 80.08550886459804, 147.69018817464772, 642.2976760699244, 1081.1825153963305, 126.90945351294594, 132.2655602737398, 745.2339481961772, 884.1955472046998, 973.5682910004216, 798.7801186459426, 652.3156848698798, 2048.0411206494146, 711.073593365881, 644.913792833276, 1447.0269912266351, 766.5415041135569, 226.75558073454812, 555.1976012306067, 1443.3701697771473, 2218.212486602973, 682.8877986167063, 553.9029416754507, 704.5866364875455, 505.99383651262997, 3981.3501295649494, 2437.089457540172, 1597.7320900734817, 131.6127314181607, 65.80636570908035, 95.52536552285741, 81.72726415289114, 794.9833434835647, 105.07790626514436, 669.7389781469302, 354.5052425914923, 603.9326291978547, 22.2892519553334, 142.22665812736628, 1.0613929720768942, 288.69889364241675, 445.7850558666728, 1098.541757982876, 841.6846277080712, 2.1227859441537884, 21.22785970341296, 25.473430806095312, 5.30696492585324, 6.368357701523828, 3.184178850761914, 22.2892519553334, 237.75203203022613, 2.1227859441537884, 63.683581205239484, 266.4096458770846, 24.412038554174874, 47.76268276142871, 610.3009617593713, 1584.6170528314112, 409.69768159136703, 286.5547988880254, 194.23491408647794, 264.2862656618924, 115.69183297434994, 95.52536552285741, 233.4638090014338, 89.1570078213336, 81.72726415289114, 71.11332906368314, 70.05193890676331, 135.83700770148582, 124.18238784836582, 103.99518909766924, 119.89482491332086, 1256.0842576625778, 2868.5373179446983, 2218.212486602973, 1597.7320900734817, 239.0749469328524, 487.0860041348707, 438.5593626330607, 692.8368178917119, 1832.7042971014764, 393.7248090762456, 911.1077618387168, 730.6223303401415, 4792.353786440726, 1374.958623486515, 1530.5586462540318, 2098.135606471029, 1089.0911672931602, 2221.844761456416, 898.6036763720541, 682.8877986167063, 640.0940706594854, 177.1540777311389, 18.03364946734227, 375.5242072850743, 183.5188866097129, 4.243211302284052, 676.7922165196985, 1286.7538814670518, 1.060802825571013, 31.824086069525887, 79.56021100614913, 31.824086069525887, 150.63400461731214, 224.89020266776214, 250.34947152338285, 204.73495510317173, 175.03246921472677, 7.425619909236641, 33.94569041827241, 173.97166495652073, 56.222550666940535, 107.14108837818195, 18.03364946734227, 150.63400461731214, 9.547225820857767, 148.51239610090002, 9.547225820857767, 90.16824525287853, 23.337662423041383, 179.27568624755102, 1.060802825571013, 987.4803214572523, 588.7455797832321, 419.01713185953565, 312.9368394042286, 368.05618544340183, 254.5926885562071, 245.04546690301493, 241.86305412839673, 222.76859415135002, 306.5954166999482, 192.0053206753614, 170.78925218190255, 160.1812262705043, 144.26919573873815, 111.38429707567501, 109.26269689459407, 292.7193936441209, 206.8577410473255, 309.85719188356984, 171.85205276453206, 384.0371825048659, 1339.2133135336658, 700.8468813079932, 733.2646145256884, 292.80283476535004, 664.17764796183, 463.3946090109408, 521.1995704787968, 3981.3501295649494, 1443.3701697771473, 609.2866298341401, 2868.5373179446983, 585.4593439459584, 487.94602036107244, 4642.258153904581, 1168.0174559691327, 898.6036763720541, 911.1077618387168, 557.5025487459882, 339.8785542520345, 106.03682956214934, 35.34560848628344, 175.65696239163913, 216.35797928341086, 8.568632624538724, 168.15941442308986, 199.22071506015817, 6.426474596632138, 3.213237298316069, 736.9024108394541, 1.0710790780673405, 3.213237298316069, 44.985320637687835, 227.0687714745933, 1.0710790780673405, 87.82848119581956, 5.355395582678844, 114.60546167377568, 280.6227160173094, 146.73783004072496, 7.497553610585431, 42.843164661430755, 1.0710790780673405, 162.80401832749862, 26.77697637465709, 95.32603737096689, 68.54906099630979, 158.51969816838644, 104.96574541907226, 58.9093488449054, 589.0841737712694, 354.5175024547054, 250.63250772991623, 221.71337537900206, 182.08345083690546, 169.23049035956888, 160.6618664545406, 152.0932261363162, 152.0932261363162, 148.8799983268791, 367.25423942322993, 111.39222565774055, 110.32114151466348, 93.1838772914108, 92.11280135493176, 168.13898018657983, 126.37804795004472, 501.57966598045687, 272.23303919334245, 572.3463698123107, 669.2977372175692, 444.81981259988675, 912.565996862521, 749.8733755655883, 1374.958623486515, 1089.0911672931602, 1386.3988842447407, 1317.6299373715467, 1015.4739091539626, 647.1967820474949, 660.665642391312, 402.7057564535402, 523.2770355946401, 678.6704939175556, 705.2906414073291, 1181.9261888870442, 6882.589013938606, 1722.8500308325824, 563.0509663767909, 608.0333996340765, 4792.353786440726, 2221.844761456416, 1391.344892506404, 604.7234022020905, 1125.12563834517, 163.1198317810278, 103.80353675120507, 26.480493234531284, 99.56665619775885, 70.96771859670139, 564.5641353912616, 1.0592197549425204, 122.86948697230393, 63.55318376287508, 112.27728967849141, 318.8251450874415, 94.27055755085259, 15.88829594071877, 26.480493234531284, 7.414537901178607, 19.065954310901912, 158.88295940718768, 101.6850923846789, 66.73084213305822, 8.473758039540163, 95.32977564431262, 1.0592197549425204, 1.0592197549425204, 114.39573404501759, 1.0592197549425204, 9.532977155450956, 176.8896915348265, 234.08756673694143, 300.81839660059046, 436.3985415924453, 1701.106924648399, 1308.13639850427, 1138.6612418032696, 1106.8923533578934, 694.8481162993613, 379.2006500311182, 365.4308066365317, 361.1939342626916, 450.14926033653006, 300.81839660059046, 253.15350877843417, 219.25848071007658, 204.42941104242394, 199.1333123955177, 166.29749424101402, 166.29749424101402, 247.85900304324502, 144.05388973953507, 137.69856481956268, 134.52090235957647, 117.57338832539767, 502.1319362636415, 1502.5374341129702, 1841.6781459563235, 854.0297293738822, 1530.5586462540318, 1722.8500308325824, 493.82987469752436, 776.7927806834634, 1391.344892506404, 1125.12563834517, 2221.844761456416, 3981.3501295649494, 94.55775337882915, 162.84945465430212, 32.5698917449855, 65.139783489971, 97.70967930558186, 101.91224178041833, 4.202566799875912, 870.9819399530595, 3385.167484664826, 766.9684087939722, 101.91224178041833, 5.253208181827284, 34.6711770530291, 50.430798545541926, 24.164758654061846, 46.2282320000801, 915.1088866450959, 15.759625563138192, 10.506416363654568, 33.6205343990073, 119.77315265160011, 817.3992236220156, 152.34304032596026, 63.03850225255277, 17.860908835869104, 50.430798545541926, 2.101283399937956, 330.9521327552767, 33.6205343990073, 30.468608472254587, 824.753703882354, 774.3228890543106, 704.9699943502878, 549.4855768367902, 717.5355884514188, 289.9770875662407, 263.71106802788745, 252.15400901021107, 325.7090674448408, 204.87512825017114, 175.457158361313, 170.20395119714203, 168.10266181847308, 166.00138872230556, 161.79882624746912, 157.5962474901312, 308.86751308332333, 153.39368501529472, 139.7353366189494, 139.7353366189494, 123.97571512643658, 352.321839771037, 174.33219597265932, 192.10887567928336, 248.28598871063014, 3981.3501295649494, 224.119962708366, 435.21031272581763, 1447.0269912266351, 1125.12563834517, 1317.6299373715467, 639.2241991516864, 210.88452042857313, 648.1744282314348, 728.07116398412, 32.24315130624793, 623.0208709093353, 182.01779099603, 169.53655944424517, 673.9858594757505, 486.7675794951671, 296.4289835726297, 478.44675846064393, 67.60660647343813, 265.2259208011834, 444.12341196327503, 224.66195852792208, 349.47416128966006, 863.2843608229805, 5.200508112822089, 106.09036348806865, 68.64670910275353, 84.24823243446882, 74.88731682463808, 23.92233832573259, 200.73962221569147, 131.05281048362252, 47.84467665146518, 106.09036348806865, 33.28325192206137, 60.32589612223819, 3.120304867693253, 1.0401016225644177, 198.65941695706067, 573.0960091342589, 494.0482737383514, 493.00817916304385, 386.9178237289831, 361.95536062541345, 319.31119309352135, 255.86500519135265, 459.787019905981, 226.74216378655288, 200.73962221569147, 185.13809082996832, 180.97768031270672, 168.49646486893764, 157.05534400047608, 150.81474433259942, 191.38923762250644, 174.71538218548284, 557.817952687292, 652.3329381602165, 918.2538578959395, 424.35920635593783, 489.04472139328846, 2048.0411206494146, 4642.258153904581, 1168.0174559691327, 615.1714210702178, 352.5921239089656, 1386.3988842447407, 2221.844761456416, 896.0442616362284, 1339.2133135336658, 766.5415041135569], \"Category\": [\"Default\", \"Default\", \"Default\", \"Default\", \"Default\", \"Default\", \"Default\", \"Default\", \"Default\", \"Default\", \"Default\", \"Default\", \"Default\", \"Default\", \"Default\", \"Default\", \"Default\", \"Default\", \"Default\", \"Default\", \"Default\", \"Default\", \"Default\", \"Default\", \"Default\", \"Default\", \"Default\", \"Default\", \"Default\", \"Default\", \"Topic1\", \"Topic1\", \"Topic1\", \"Topic1\", \"Topic1\", \"Topic1\", \"Topic1\", \"Topic1\", \"Topic1\", \"Topic1\", \"Topic1\", \"Topic1\", \"Topic1\", \"Topic1\", \"Topic1\", \"Topic1\", \"Topic1\", \"Topic1\", \"Topic1\", \"Topic1\", \"Topic1\", \"Topic1\", \"Topic1\", \"Topic1\", \"Topic1\", \"Topic1\", \"Topic1\", \"Topic1\", \"Topic1\", \"Topic1\", \"Topic1\", \"Topic1\", \"Topic1\", \"Topic1\", \"Topic1\", \"Topic1\", \"Topic1\", \"Topic1\", \"Topic1\", \"Topic1\", \"Topic1\", \"Topic1\", \"Topic1\", \"Topic1\", \"Topic1\", \"Topic1\", \"Topic1\", \"Topic1\", \"Topic1\", \"Topic1\", \"Topic1\", \"Topic1\", \"Topic1\", \"Topic1\", \"Topic1\", \"Topic1\", \"Topic1\", \"Topic1\", \"Topic1\", \"Topic1\", \"Topic1\", \"Topic1\", \"Topic1\", \"Topic1\", \"Topic1\", \"Topic1\", \"Topic1\", \"Topic1\", \"Topic1\", \"Topic1\", \"Topic1\", \"Topic1\", \"Topic2\", \"Topic2\", \"Topic2\", \"Topic2\", \"Topic2\", \"Topic2\", \"Topic2\", \"Topic2\", \"Topic2\", \"Topic2\", \"Topic2\", \"Topic2\", \"Topic2\", \"Topic2\", \"Topic2\", \"Topic2\", \"Topic2\", \"Topic2\", \"Topic2\", \"Topic2\", \"Topic2\", \"Topic2\", \"Topic2\", \"Topic2\", \"Topic2\", \"Topic2\", \"Topic2\", \"Topic2\", \"Topic2\", \"Topic2\", \"Topic2\", \"Topic2\", \"Topic2\", \"Topic2\", \"Topic2\", \"Topic2\", \"Topic2\", \"Topic2\", \"Topic2\", \"Topic2\", \"Topic2\", \"Topic2\", \"Topic2\", \"Topic2\", \"Topic2\", \"Topic2\", \"Topic2\", \"Topic2\", \"Topic2\", \"Topic2\", \"Topic2\", \"Topic2\", \"Topic2\", \"Topic2\", \"Topic2\", \"Topic2\", \"Topic2\", \"Topic2\", \"Topic2\", \"Topic2\", \"Topic2\", \"Topic2\", \"Topic2\", \"Topic2\", \"Topic2\", \"Topic2\", \"Topic2\", \"Topic2\", \"Topic2\", \"Topic3\", \"Topic3\", \"Topic3\", \"Topic3\", \"Topic3\", \"Topic3\", \"Topic3\", \"Topic3\", \"Topic3\", \"Topic3\", \"Topic3\", \"Topic3\", \"Topic3\", \"Topic3\", \"Topic3\", \"Topic3\", \"Topic3\", \"Topic3\", \"Topic3\", \"Topic3\", \"Topic3\", \"Topic3\", \"Topic3\", \"Topic3\", \"Topic3\", \"Topic3\", \"Topic3\", \"Topic3\", \"Topic3\", \"Topic3\", \"Topic3\", \"Topic3\", \"Topic3\", \"Topic3\", \"Topic3\", \"Topic3\", \"Topic3\", \"Topic3\", \"Topic3\", \"Topic3\", \"Topic3\", \"Topic3\", \"Topic3\", \"Topic3\", \"Topic3\", \"Topic3\", \"Topic3\", \"Topic3\", \"Topic3\", \"Topic3\", \"Topic3\", \"Topic3\", \"Topic3\", \"Topic3\", \"Topic3\", \"Topic3\", \"Topic3\", \"Topic3\", \"Topic3\", \"Topic3\", \"Topic3\", \"Topic3\", \"Topic3\", \"Topic3\", \"Topic3\", \"Topic3\", \"Topic4\", \"Topic4\", \"Topic4\", \"Topic4\", \"Topic4\", \"Topic4\", \"Topic4\", \"Topic4\", \"Topic4\", \"Topic4\", \"Topic4\", \"Topic4\", \"Topic4\", \"Topic4\", \"Topic4\", \"Topic4\", \"Topic4\", \"Topic4\", \"Topic4\", \"Topic4\", \"Topic4\", \"Topic4\", \"Topic4\", \"Topic4\", \"Topic4\", \"Topic4\", \"Topic4\", \"Topic4\", \"Topic4\", \"Topic4\", \"Topic4\", \"Topic4\", \"Topic4\", \"Topic4\", \"Topic4\", \"Topic4\", \"Topic4\", \"Topic4\", \"Topic4\", \"Topic4\", \"Topic4\", \"Topic4\", \"Topic4\", \"Topic4\", \"Topic4\", \"Topic4\", \"Topic4\", \"Topic4\", \"Topic4\", \"Topic4\", \"Topic4\", \"Topic4\", \"Topic4\", \"Topic4\", \"Topic4\", \"Topic4\", \"Topic4\", \"Topic4\", \"Topic4\", \"Topic4\", \"Topic4\", \"Topic4\", \"Topic4\", \"Topic4\", \"Topic4\", \"Topic4\", \"Topic4\", \"Topic4\", \"Topic4\", \"Topic4\", \"Topic5\", \"Topic5\", \"Topic5\", \"Topic5\", \"Topic5\", \"Topic5\", \"Topic5\", \"Topic5\", \"Topic5\", \"Topic5\", \"Topic5\", \"Topic5\", \"Topic5\", \"Topic5\", \"Topic5\", \"Topic5\", \"Topic5\", \"Topic5\", \"Topic5\", \"Topic5\", \"Topic5\", \"Topic5\", \"Topic5\", \"Topic5\", \"Topic5\", \"Topic5\", \"Topic5\", \"Topic5\", \"Topic5\", \"Topic5\", \"Topic5\", \"Topic5\", \"Topic5\", \"Topic5\", \"Topic5\", \"Topic5\", \"Topic5\", \"Topic5\", \"Topic5\", \"Topic5\", \"Topic5\", \"Topic5\", \"Topic5\", \"Topic5\", \"Topic5\", \"Topic5\", \"Topic5\", \"Topic5\", \"Topic5\", \"Topic5\", \"Topic5\", \"Topic5\", \"Topic5\", \"Topic5\", \"Topic5\", \"Topic5\", \"Topic5\", \"Topic5\", \"Topic5\", \"Topic5\", \"Topic5\", \"Topic5\", \"Topic5\", \"Topic5\", \"Topic5\", \"Topic5\", \"Topic5\", \"Topic6\", \"Topic6\", \"Topic6\", \"Topic6\", \"Topic6\", \"Topic6\", \"Topic6\", \"Topic6\", \"Topic6\", \"Topic6\", \"Topic6\", \"Topic6\", \"Topic6\", \"Topic6\", \"Topic6\", \"Topic6\", \"Topic6\", \"Topic6\", \"Topic6\", \"Topic6\", \"Topic6\", \"Topic6\", \"Topic6\", \"Topic6\", \"Topic6\", \"Topic6\", \"Topic6\", \"Topic6\", \"Topic6\", \"Topic6\", \"Topic6\", \"Topic6\", \"Topic6\", \"Topic6\", \"Topic6\", \"Topic6\", \"Topic6\", \"Topic6\", \"Topic6\", \"Topic6\", \"Topic6\", \"Topic6\", \"Topic6\", \"Topic6\", \"Topic6\", \"Topic6\", \"Topic6\", \"Topic6\", \"Topic6\", \"Topic6\", \"Topic6\", \"Topic6\", \"Topic6\", \"Topic6\", \"Topic6\", \"Topic6\", \"Topic6\", \"Topic6\", \"Topic6\", \"Topic6\", \"Topic6\", \"Topic6\", \"Topic6\", \"Topic6\", \"Topic6\", \"Topic6\", \"Topic6\", \"Topic6\", \"Topic6\", \"Topic6\", \"Topic7\", \"Topic7\", \"Topic7\", \"Topic7\", \"Topic7\", \"Topic7\", \"Topic7\", \"Topic7\", \"Topic7\", \"Topic7\", \"Topic7\", \"Topic7\", \"Topic7\", \"Topic7\", \"Topic7\", \"Topic7\", \"Topic7\", \"Topic7\", \"Topic7\", \"Topic7\", \"Topic7\", \"Topic7\", \"Topic7\", \"Topic7\", \"Topic7\", \"Topic7\", \"Topic7\", \"Topic7\", \"Topic7\", \"Topic7\", \"Topic7\", \"Topic7\", \"Topic7\", \"Topic7\", \"Topic7\", \"Topic7\", \"Topic7\", \"Topic7\", \"Topic7\", \"Topic7\", \"Topic7\", \"Topic7\", \"Topic7\", \"Topic7\", \"Topic7\", \"Topic7\", \"Topic7\", \"Topic7\", \"Topic7\", \"Topic7\", \"Topic7\", \"Topic7\", \"Topic7\", \"Topic7\", \"Topic7\", \"Topic7\", \"Topic7\", \"Topic7\", \"Topic7\", \"Topic7\", \"Topic7\", \"Topic7\", \"Topic7\", \"Topic7\", \"Topic7\", \"Topic7\", \"Topic7\", \"Topic7\", \"Topic7\", \"Topic7\", \"Topic7\", \"Topic7\", \"Topic7\", \"Topic7\", \"Topic7\", \"Topic8\", \"Topic8\", \"Topic8\", \"Topic8\", \"Topic8\", \"Topic8\", \"Topic8\", \"Topic8\", \"Topic8\", \"Topic8\", \"Topic8\", \"Topic8\", \"Topic8\", \"Topic8\", \"Topic8\", \"Topic8\", \"Topic8\", \"Topic8\", \"Topic8\", \"Topic8\", \"Topic8\", \"Topic8\", \"Topic8\", \"Topic8\", \"Topic8\", \"Topic8\", \"Topic8\", \"Topic8\", \"Topic8\", \"Topic8\", \"Topic8\", \"Topic8\", \"Topic8\", \"Topic8\", \"Topic8\", \"Topic8\", \"Topic8\", \"Topic8\", \"Topic8\", \"Topic8\", \"Topic8\", \"Topic8\", \"Topic8\", \"Topic8\", \"Topic8\", \"Topic8\", \"Topic8\", \"Topic8\", \"Topic8\", \"Topic8\", \"Topic8\", \"Topic8\", \"Topic8\", \"Topic8\", \"Topic8\", \"Topic8\", \"Topic8\", \"Topic8\", \"Topic8\", \"Topic8\", \"Topic8\", \"Topic8\", \"Topic8\", \"Topic9\", \"Topic9\", \"Topic9\", \"Topic9\", \"Topic9\", \"Topic9\", \"Topic9\", \"Topic9\", \"Topic9\", \"Topic9\", \"Topic9\", \"Topic9\", \"Topic9\", \"Topic9\", \"Topic9\", \"Topic9\", \"Topic9\", \"Topic9\", \"Topic9\", \"Topic9\", \"Topic9\", \"Topic9\", \"Topic9\", \"Topic9\", \"Topic9\", \"Topic9\", \"Topic9\", \"Topic9\", \"Topic9\", \"Topic9\", \"Topic9\", \"Topic9\", \"Topic9\", \"Topic9\", \"Topic9\", \"Topic9\", \"Topic9\", \"Topic9\", \"Topic9\", \"Topic9\", \"Topic9\", \"Topic9\", \"Topic9\", \"Topic9\", \"Topic9\", \"Topic9\", \"Topic9\", \"Topic9\", \"Topic9\", \"Topic9\", \"Topic9\", \"Topic9\", \"Topic9\", \"Topic9\", \"Topic9\", \"Topic9\", \"Topic9\", \"Topic9\", \"Topic9\", \"Topic9\", \"Topic9\", \"Topic9\", \"Topic9\", \"Topic9\", \"Topic10\", \"Topic10\", \"Topic10\", \"Topic10\", \"Topic10\", \"Topic10\", \"Topic10\", \"Topic10\", \"Topic10\", \"Topic10\", \"Topic10\", \"Topic10\", \"Topic10\", \"Topic10\", \"Topic10\", \"Topic10\", \"Topic10\", \"Topic10\", \"Topic10\", \"Topic10\", \"Topic10\", \"Topic10\", \"Topic10\", \"Topic10\", \"Topic10\", \"Topic10\", \"Topic10\", \"Topic10\", \"Topic10\", \"Topic10\", \"Topic10\", \"Topic10\", \"Topic10\", \"Topic10\", \"Topic10\", \"Topic10\", \"Topic10\", \"Topic10\", \"Topic10\", \"Topic10\", \"Topic10\", \"Topic10\", \"Topic10\", \"Topic10\", \"Topic10\", \"Topic10\", \"Topic10\", \"Topic10\", \"Topic10\", \"Topic10\", \"Topic10\", \"Topic10\", \"Topic10\", \"Topic10\", \"Topic10\", \"Topic10\", \"Topic10\", \"Topic10\", \"Topic10\", \"Topic10\", \"Topic10\", \"Topic10\"], \"logprob\": [30.0, 29.0, 28.0, 27.0, 26.0, 25.0, 24.0, 23.0, 22.0, 21.0, 20.0, 19.0, 18.0, 17.0, 16.0, 15.0, 14.0, 13.0, 12.0, 11.0, 10.0, 9.0, 8.0, 7.0, 6.0, 5.0, 4.0, 3.0, 2.0, 1.0, -5.8985, -3.8991, -10.5429, -6.8052, -8.058, -4.8324, -3.3372, -4.9669, -3.1045, -5.6156, -6.7142, -6.9593, -7.247, -9.8497, -7.9038, -10.5429, -9.8497, -6.8793, -5.0134, -5.4189, -7.2107, -8.058, -7.4074, -8.7511, -8.3456, -7.2107, -7.0464, -6.2121, -6.1361, -10.5429, -2.4391, -5.3555, -5.6753, -5.7893, -6.0103, -6.2121, -6.2944, -6.3088, -5.6376, -6.4157, -6.432, -6.4485, -5.6831, -6.4998, -6.7817, -6.7817, -6.854, -6.0211, -2.758, -6.2254, -2.1953, -6.4157, -3.1739, -2.1402, -2.5392, -2.6908, -4.2402, -4.5341, -5.8794, -4.6764, -4.7022, -4.9556, -4.8627, -5.4994, -4.447, -4.7022, -5.3667, -5.3225, -4.9977, -5.3611, -5.1135, -5.587, -4.5804, -9.8007, -9.3953, -5.8304, -4.468, -8.548, -4.7835, -7.2358, -6.9104, -8.096, -9.1076, -5.8592, -6.7097, -6.4865, -6.805, -8.548, -7.7213, -7.1617, -9.1076, -5.7403, -7.0281, -4.6532, -8.4144, -5.7665, -6.7327, -5.6035, -8.1913, -9.3953, -6.5621, -7.3584, -4.2458, -4.4753, -4.4875, -4.2954, -4.5201, -4.6274, -4.8771, -4.9066, -4.6679, -5.0386, -5.1373, -5.2735, -5.2735, -5.3009, -5.3522, -5.4125, -5.4967, -5.5451, -5.6419, -5.6497, -5.7148, -5.8118, -3.4481, -5.2789, -4.707, -3.4755, -4.4536, -4.7509, -4.5074, -4.2654, -4.7477, -3.6565, -3.6793, -4.824, -5.2006, -4.6591, -4.8137, -5.0558, -5.1048, -8.3754, -5.5061, -7.3638, -7.7468, -6.4659, -6.4845, -5.9115, -8.5089, -4.8272, -5.0343, -6.766, -7.8899, -3.9038, -5.1173, -5.1666, -6.8995, -3.8401, -4.9495, -5.595, -6.5036, -10.4548, -7.8158, -10.4548, -5.7914, -3.4518, -6.4845, -5.6028, -6.2805, -4.544, -4.9495, -3.4258, -4.0012, -4.8094, -5.1666, -5.319, -5.0567, -5.5796, -5.6265, -5.7013, -5.7099, -6.0122, -6.036, -6.111, -6.1374, -6.1508, -5.6107, -4.6113, -4.0918, -4.0267, -3.9996, -4.7345, -4.6803, -3.2552, -4.5998, -4.7919, -4.7815, -4.512, -4.2748, -3.7677, -3.9196, -4.5577, -4.8094, -3.8798, -4.7411, -4.8564, -4.9374, -5.5434, -4.8985, -3.3207, -7.2125, -2.141, -6.2511, -5.4534, -3.1311, -6.2365, -6.1532, -7.9057, -6.9741, -6.8597, -4.7837, -5.1094, -3.2158, -7.2926, -5.1094, -5.3892, -7.1384, -7.6981, -4.4817, -6.5788, -5.077, -7.2926, -9.372, -9.7775, -6.2222, -9.0844, -10.4706, -5.1574, -5.1925, -5.2889, -5.3708, -5.5434, -5.558, -5.7, -5.2945, -5.9274, -5.938, -5.982, -6.028, -6.0886, -6.1268, -5.5219, -4.0671, -3.5609, -5.6749, -5.6585, -4.0737, -3.9383, -3.8721, -4.0804, -4.2783, -3.4505, -4.2969, -4.3953, -3.8886, -4.3726, -5.2289, -4.6446, -4.0297, -4.0704, -4.6716, -4.8612, -4.7736, -4.9216, -4.3839, -4.5437, -4.6506, -5.6112, -6.3043, -5.9317, -6.0877, -3.8127, -5.8363, -3.9842, -4.6203, -4.0876, -7.3869, -5.5336, -10.4315, -4.8257, -4.3912, -3.4893, -3.7556, -9.7383, -7.4357, -7.2534, -8.822, -8.6397, -9.3329, -7.3869, -5.0198, -9.7383, -6.3371, -4.906, -7.296, -6.6248, -4.0771, -3.1243, -4.4756, -4.8368, -5.222, -4.918, -5.7401, -5.9317, -5.047, -6.0006, -6.0877, -6.2268, -6.2418, -5.5873, -5.6779, -5.8568, -5.7219, -3.4942, -2.8221, -3.1182, -3.4702, -5.1432, -4.5537, -4.7046, -4.4008, -3.6827, -4.8293, -4.3002, -4.6144, -3.5792, -4.2703, -4.2556, -4.3112, -4.5678, -4.6084, -4.7616, -4.8183, -4.822, -5.3087, -7.5935, -4.5574, -5.2734, -9.0404, -3.9683, -3.3258, -10.4267, -7.0255, -6.1092, -7.0255, -5.4708, -5.0701, -4.9628, -5.164, -5.3207, -8.4808, -6.9609, -5.3268, -6.4564, -5.8116, -7.5935, -5.4708, -8.2295, -5.485, -8.2295, -5.984, -7.3356, -5.2968, -10.4267, -3.5936, -4.1077, -4.4478, -4.7397, -4.5802, -4.946, -4.9843, -4.9973, -5.0796, -4.7637, -5.2282, -5.3453, -5.4094, -5.514, -5.7727, -5.7919, -4.8172, -5.164, -4.7848, -5.3515, -4.6678, -3.7016, -4.2405, -4.2161, -4.946, -4.3606, -4.6337, -4.5546, -3.2458, -4.1314, -4.6337, -3.8987, -4.6741, -4.7883, -4.1222, -4.5977, -4.7499, -4.7707, -4.866, -4.946, -5.8064, -6.905, -5.3016, -5.0932, -8.322, -5.3452, -5.1757, -8.6097, -9.3029, -3.8677, -10.4015, -9.3029, -6.6638, -5.0449, -10.4015, -5.9948, -8.792, -5.7286, -4.8331, -5.4815, -8.4556, -6.7126, -10.4015, -5.3776, -7.1826, -5.9128, -6.2426, -5.4043, -5.8165, -6.3941, -4.0934, -4.6024, -4.9461, -5.0688, -5.2657, -5.3389, -5.3908, -5.4456, -5.4456, -5.467, -4.5755, -5.7571, -5.7667, -5.9356, -5.9471, -5.3516, -5.6393, -4.3056, -4.9419, -4.2616, -4.1929, -4.5725, -3.9653, -4.171, -3.6995, -3.8972, -3.7119, -3.7668, -3.9701, -4.3261, -4.3447, -4.749, -4.5755, -4.4745, -4.4853, -4.1829, -3.2445, -4.0333, -4.6553, -4.6394, -3.8619, -4.201, -4.366, -4.7455, -4.7281, -5.3724, -5.8243, -7.1904, -5.866, -6.2046, -4.1308, -10.4093, -5.6557, -6.315, -5.7459, -4.7022, -5.9207, -7.7013, -7.1904, -8.4634, -7.5189, -5.3987, -5.845, -6.2662, -8.3299, -5.9095, -10.4093, -10.4093, -5.7272, -10.4093, -8.2121, -5.2913, -5.0111, -4.7603, -4.3883, -3.0278, -3.2905, -3.4292, -3.4604, -3.9231, -4.5288, -4.5658, -4.5774, -4.3596, -4.7603, -4.9328, -5.0766, -5.1466, -5.1729, -5.3531, -5.3531, -4.9583, -5.4967, -5.5418, -5.5651, -5.6998, -4.3001, -3.3201, -3.1334, -3.8726, -3.5393, -3.4652, -4.6567, -4.4178, -4.2716, -4.4279, -4.5687, -4.7817, -5.9129, -5.3693, -6.9788, -6.2856, -5.8801, -5.838, -9.0264, -3.6925, -2.335, -3.8197, -5.838, -8.8033, -6.9162, -6.5415, -7.2772, -6.6286, -3.6431, -7.7047, -8.1102, -6.947, -5.6765, -3.756, -5.436, -6.3184, -7.5795, -6.5415, -9.7196, -4.6602, -6.947, -7.0454, -3.7471, -3.8102, -3.9055, -4.1532, -3.8936, -4.7923, -4.8873, -4.9321, -4.6794, -5.1397, -5.2947, -5.3251, -5.3376, -5.3501, -5.3758, -5.4021, -4.736, -5.4291, -5.5224, -5.5224, -5.6421, -4.699, -5.3438, -5.2888, -5.1295, -3.498, -5.2087, -4.8444, -4.2558, -4.4858, -4.657, -4.9321, -5.319, -5.2769, -3.861, -6.9781, -4.0168, -5.2473, -5.3183, -3.9382, -4.2636, -4.7596, -4.2808, -6.2377, -4.8708, -4.3553, -5.0368, -4.5949, -3.6906, -8.8026, -5.7871, -6.2224, -6.0176, -6.1354, -7.2766, -5.1494, -5.5758, -6.5834, -5.7871, -6.9463, -6.3516, -9.3134, -10.4121, -5.1598, -4.1003, -4.2487, -4.2508, -4.4932, -4.5598, -4.6852, -4.9067, -4.3276, -5.0276, -5.1494, -5.2303, -5.253, -5.3245, -5.3948, -5.4353, -5.2026, -5.2941, -4.2852, -4.1563, -3.9413, -4.6039, -4.5315, -3.6739, -3.1764, -4.0735, -4.5067, -4.8437, -4.1875, -4.0019, -4.4306, -4.3298, -4.7353], \"loglift\": [30.0, 29.0, 28.0, 27.0, 26.0, 25.0, 24.0, 23.0, 22.0, 21.0, 20.0, 19.0, 18.0, 17.0, 16.0, 15.0, 14.0, 13.0, 12.0, 11.0, 10.0, 9.0, 8.0, 7.0, 6.0, 5.0, 4.0, 3.0, 2.0, 1.0, 2.241, 2.241, 2.241, 2.241, 2.241, 2.241, 2.241, 2.241, 2.241, 2.241, 2.241, 2.241, 2.241, 2.241, 2.241, 2.241, 2.241, 2.241, 2.241, 2.241, 2.241, 2.241, 2.241, 2.241, 2.241, 2.241, 2.241, 2.241, 2.241, 2.241, 2.2121, 2.241, 2.241, 2.241, 2.241, 2.241, 2.241, 2.241, 2.2332, 2.241, 2.241, 2.241, 2.2327, 2.241, 2.241, 2.241, 2.241, 2.2298, 2.1622, 2.2272, 2.0337, 2.2239, 1.9794, 1.8251, 1.7881, 1.6683, 1.8831, 1.8603, 2.1472, 1.7645, 1.6382, 1.6844, 1.5346, 1.8741, 1.117, 1.1767, 1.654, 1.5875, 0.5041, 0.9683, -0.11, 0.9589, 2.2482, 2.2482, 2.2482, 2.2482, 2.2482, 2.2482, 2.2482, 2.2482, 2.2482, 2.2482, 2.2482, 2.2482, 2.2482, 2.2482, 2.2482, 2.2482, 2.2482, 2.2482, 2.2482, 2.2482, 2.2482, 2.2482, 2.2482, 2.2482, 2.2482, 2.2482, 2.2482, 2.2482, 2.2482, 2.2482, 2.2482, 2.2482, 2.2482, 2.2462, 2.2482, 2.2482, 2.2482, 2.2482, 2.2453, 2.2482, 2.2482, 2.2482, 2.2482, 2.2482, 2.2482, 2.2482, 2.2482, 2.2482, 2.2482, 2.2482, 2.2482, 2.2482, 2.0537, 2.1412, 2.0146, 1.6983, 1.893, 1.8688, 1.7483, 1.4618, 1.7284, 0.5725, 0.286, 1.4195, 1.9838, 0.3444, 0.4699, 0.93, 0.3824, 2.2664, 2.2664, 2.2664, 2.2664, 2.2664, 2.2664, 2.2664, 2.2664, 2.2664, 2.2664, 2.2664, 2.2664, 2.2664, 2.2664, 2.2664, 2.2664, 2.2664, 2.2664, 2.2664, 2.2664, 2.2664, 2.2664, 2.2664, 2.2664, 2.2664, 2.2664, 2.2664, 2.2664, 2.2664, 2.2664, 2.2638, 2.2648, 2.263, 2.2664, 2.2664, 2.2619, 2.2664, 2.2664, 2.2664, 2.2664, 2.2664, 2.2664, 2.2664, 2.2664, 2.2664, 2.2587, 2.194, 2.1554, 2.0375, 2.0026, 2.0854, 2.056, 1.7484, 2.0171, 2.0558, 2.0228, 1.9381, 1.8159, 1.406, 1.3689, 1.6868, 1.8726, 0.6329, 1.5868, 1.7922, 1.5477, 2.2921, 2.2921, 2.2921, 2.2921, 2.2921, 2.2921, 2.2921, 2.2921, 2.2921, 2.2921, 2.2921, 2.2921, 2.2921, 2.2921, 2.2921, 2.2921, 2.2921, 2.2921, 2.2921, 2.2921, 2.2921, 2.2921, 2.2921, 2.2921, 2.2921, 2.2921, 2.2921, 2.2921, 2.2921, 2.2921, 2.2921, 2.2921, 2.2921, 2.2921, 2.2921, 2.2921, 2.2921, 2.2864, 2.2921, 2.2921, 2.2921, 2.2921, 2.2921, 2.2921, 2.2851, 2.2699, 2.2554, 2.2837, 2.2588, 2.1147, 2.0791, 2.049, 2.0386, 2.0433, 1.727, 1.9384, 1.9377, 1.6362, 1.7876, 2.1493, 1.8381, 1.4976, 1.0272, 1.6042, 1.6239, 1.4709, 1.654, 0.1288, 0.4598, 0.7752, 2.311, 2.311, 2.311, 2.311, 2.311, 2.311, 2.311, 2.311, 2.311, 2.311, 2.311, 2.311, 2.311, 2.311, 2.311, 2.311, 2.311, 2.311, 2.311, 2.311, 2.311, 2.311, 2.311, 2.311, 2.311, 2.311, 2.311, 2.311, 2.311, 2.311, 2.3097, 2.311, 2.3074, 2.311, 2.307, 2.311, 2.311, 2.3021, 2.311, 2.311, 2.311, 2.311, 2.3033, 2.3024, 2.301, 2.2935, 2.1722, 2.0184, 1.9794, 1.9556, 2.1821, 2.0599, 2.014, 1.8605, 1.6058, 1.9971, 1.6872, 1.5938, 0.7481, 1.3056, 1.2131, 0.8421, 1.2411, 0.4876, 1.2396, 1.4574, 1.5185, 2.3164, 2.3164, 2.3164, 2.3164, 2.3164, 2.3164, 2.3164, 2.3164, 2.3164, 2.3164, 2.3164, 2.3164, 2.3164, 2.3164, 2.3164, 2.3164, 2.3164, 2.3164, 2.3164, 2.3164, 2.3164, 2.3164, 2.3164, 2.3164, 2.3164, 2.3164, 2.3164, 2.3164, 2.3164, 2.3164, 2.3133, 2.3164, 2.3164, 2.3164, 2.3136, 2.3164, 2.3164, 2.3164, 2.3164, 2.3128, 2.3164, 2.3164, 2.3164, 2.3164, 2.3164, 2.3164, 2.3057, 2.3061, 2.2812, 2.3039, 2.1836, 1.9006, 2.0093, 1.9885, 2.1765, 1.943, 2.0298, 1.9914, 1.2669, 1.3959, 1.7561, 0.9418, 1.7556, 1.8235, 0.2369, 1.1413, 1.2513, 1.2167, 1.6126, 2.0274, 2.3319, 2.3319, 2.3319, 2.3319, 2.3319, 2.3319, 2.3319, 2.3319, 2.3319, 2.3319, 2.3319, 2.3319, 2.3319, 2.3319, 2.3319, 2.3319, 2.3319, 2.3319, 2.3319, 2.3319, 2.3319, 2.3319, 2.3319, 2.3319, 2.3319, 2.3319, 2.3319, 2.3319, 2.3319, 2.3319, 2.3301, 2.3289, 2.3319, 2.3319, 2.3319, 2.3319, 2.3319, 2.3319, 2.3319, 2.3319, 2.3205, 2.3319, 2.3319, 2.3319, 2.3319, 2.3257, 2.3235, 2.2787, 2.2535, 2.1907, 2.103, 2.1319, 2.0205, 2.0112, 1.8764, 1.9118, 1.8557, 1.8516, 1.9088, 2.0033, 1.9641, 2.0549, 1.9665, 1.8074, 1.7582, 1.5443, 0.7208, 1.3171, 1.8134, 1.7524, 0.4654, 0.895, 1.1981, 1.6518, 1.0483, 2.3352, 2.3352, 2.3352, 2.3352, 2.3352, 2.3352, 2.3352, 2.3352, 2.3352, 2.3352, 2.3352, 2.3352, 2.3352, 2.3352, 2.3352, 2.3352, 2.3352, 2.3352, 2.3352, 2.3352, 2.3352, 2.3352, 2.3352, 2.3352, 2.3352, 2.3352, 2.3352, 2.3352, 2.3352, 2.3352, 2.3352, 2.3352, 2.3352, 2.3323, 2.3352, 2.3352, 2.3352, 2.3352, 2.3329, 2.3352, 2.3352, 2.3352, 2.3352, 2.3352, 2.3352, 2.3352, 2.3309, 2.3352, 2.3352, 2.3352, 2.3352, 2.2831, 2.1671, 2.1502, 2.1795, 1.9294, 1.8851, 1.9431, 1.7291, 1.2925, 1.3485, 0.5273, -0.269, 2.3399, 2.3399, 2.3399, 2.3399, 2.3399, 2.3399, 2.3399, 2.3399, 2.3399, 2.3399, 2.3399, 2.3399, 2.3399, 2.3399, 2.3399, 2.3399, 2.3399, 2.3399, 2.3399, 2.3399, 2.3399, 2.3399, 2.3399, 2.3399, 2.3399, 2.3399, 2.3399, 2.3399, 2.3399, 2.3399, 2.3399, 2.3399, 2.3385, 2.3399, 2.3327, 2.3399, 2.3399, 2.3399, 2.3367, 2.3399, 2.3399, 2.3399, 2.3399, 2.3399, 2.3399, 2.3399, 2.3332, 2.3399, 2.3399, 2.3399, 2.3399, 2.2385, 2.2973, 2.2552, 2.158, 1.0147, 2.1812, 1.8818, 1.269, 1.2906, 0.9615, 1.4097, 2.1318, 1.051, 2.3507, 2.3507, 2.3507, 2.3507, 2.3507, 2.3507, 2.3507, 2.3507, 2.3507, 2.3507, 2.3507, 2.3507, 2.3507, 2.3507, 2.3507, 2.3507, 2.3507, 2.3507, 2.3507, 2.3507, 2.3507, 2.3507, 2.3507, 2.3507, 2.3507, 2.3507, 2.3507, 2.3507, 2.3507, 2.3507, 2.3507, 2.3507, 2.3507, 2.3507, 2.3507, 2.3507, 2.3507, 2.3438, 2.3507, 2.3507, 2.3507, 2.3507, 2.3507, 2.3507, 2.3507, 2.3452, 2.3449, 2.1929, 2.1652, 2.0383, 2.1476, 2.0781, 1.5035, 1.1827, 1.6656, 1.8735, 2.0931, 1.3801, 1.0941, 1.5734, 1.2724, 1.4249]}, \"token.table\": {\"Topic\": [6, 2, 4, 10, 1, 3, 4, 10, 4, 5, 7, 6, 1, 5, 5, 6, 7, 8, 1, 5, 2, 3, 5, 8, 9, 1, 7, 2, 3, 6, 1, 8, 10, 8, 1, 4, 9, 1, 5, 9, 4, 4, 3, 7, 3, 6, 1, 10, 10, 2, 3, 4, 10, 10, 1, 6, 7, 10, 6, 2, 8, 8, 10, 1, 1, 5, 6, 10, 5, 6, 4, 9, 10, 5, 6, 2, 3, 4, 4, 6, 7, 1, 1, 4, 5, 6, 7, 9, 10, 4, 8, 10, 4, 4, 4, 1, 1, 5, 3, 8, 9, 8, 5, 7, 4, 9, 10, 1, 5, 7, 4, 5, 8, 2, 6, 5, 3, 2, 7, 2, 7, 2, 10, 2, 3, 7, 1, 2, 4, 6, 1, 2, 7, 2, 8, 5, 7, 4, 1, 6, 1, 1, 9, 1, 4, 6, 7, 10, 4, 4, 10, 3, 7, 7, 5, 2, 4, 5, 6, 10, 8, 4, 5, 10, 4, 10, 8, 9, 6, 9, 1, 4, 6, 4, 8, 10, 8, 10, 5, 7, 1, 6, 3, 5, 9, 1, 8, 1, 2, 3, 4, 8, 10, 10, 7, 7, 8, 3, 5, 6, 9, 2, 2, 10, 4, 10, 10, 4, 10, 8, 8, 8, 5, 6, 9, 4, 5, 6, 10, 10, 1, 5, 7, 6, 2, 7, 10, 2, 8, 3, 3, 5, 10, 5, 6, 3, 2, 2, 3, 7, 8, 3, 3, 8, 9, 1, 7, 1, 2, 5, 7, 9, 1, 4, 5, 1, 9, 7, 4, 4, 5, 1, 6, 9, 6, 9, 6, 7, 8, 9, 6, 7, 6, 7, 6, 4, 9, 4, 2, 2, 9, 6, 7, 3, 10, 5, 6, 2, 5, 2, 3, 6, 3, 5, 2, 9, 4, 8, 2, 3, 6, 8, 1, 3, 6, 5, 5, 8, 2, 9, 2, 3, 6, 8, 2, 8, 8, 8, 1, 4, 5, 9, 1, 1, 10, 9, 4, 9, 9, 5, 3, 6, 10, 4, 10, 5, 4, 3, 7, 9, 4, 4, 4, 4, 7, 2, 3, 4, 2, 1, 4, 3, 6, 8, 5, 3, 5, 4, 10, 9, 6, 7, 3, 3, 5, 1, 7, 10, 10, 7, 8, 8, 3, 1, 8, 2, 2, 7, 8, 2, 3, 2, 3, 3, 5, 2, 4, 7, 9, 9, 5, 6, 5, 5, 10, 1, 1, 2, 3, 5, 6, 8, 4, 2, 3, 7, 8, 9, 7, 8, 9, 5, 6, 7, 8, 9, 10, 3, 2, 3, 2, 5, 6, 10, 6, 3, 10, 7, 8, 4, 4, 9, 7, 10, 2, 7, 1, 6, 9, 10, 7, 9, 6, 9, 6, 7, 1, 7, 4, 10, 5, 5, 9, 10, 5, 5, 6, 10, 8, 2, 5, 7, 3, 3, 1, 6, 5, 2, 7, 10, 7, 2, 8, 8, 9, 6, 8, 3, 4, 5, 6, 7, 3, 4, 9, 4, 7, 9, 4, 6, 7, 9, 5, 10, 6, 8, 6, 7, 2, 7, 1, 1, 2, 3, 4, 4, 8, 3, 1, 7, 8, 8, 5, 7, 4, 5, 7, 5, 1, 2, 10, 9, 3, 7, 6, 4, 5, 5, 4, 5, 5, 6, 7, 2, 2, 7, 3, 4, 6, 5, 9, 5, 6, 1, 1, 3, 1, 6, 10, 2, 8, 3, 1, 6, 10, 4, 5, 2, 4, 4, 4, 10, 10, 6, 5, 4, 10, 4, 1, 4, 5, 8, 2, 7, 9, 9, 5, 9, 3, 6, 7, 5, 6, 7, 2, 10, 1, 3, 1, 10, 3, 7, 10, 10, 10, 6, 2, 3, 4, 2, 1, 4, 4, 3, 3, 3, 10, 9, 1, 7, 1, 6, 7, 8, 9, 1, 2, 8, 1, 2, 3, 7, 7, 3, 5, 9, 10, 3, 8, 9, 8, 2, 7, 7, 4, 6, 1, 5, 6, 1, 6, 2, 8, 1, 5, 6, 7, 1, 5, 4, 6, 2, 3, 5, 9, 9, 5, 7, 8, 9, 2, 4, 5, 8, 5, 6, 8, 9, 6, 7, 9, 5, 4, 2, 6, 3, 3, 3, 6, 3, 5, 10, 4, 8, 9, 4, 10, 1, 2, 7, 7, 9, 8, 3, 1, 2, 5, 6, 7, 6, 10, 3, 10, 9, 9, 10, 5, 1, 6, 7, 9, 1, 7, 5, 8, 7, 1, 6, 8, 2, 3, 10, 6, 10, 2, 2, 7, 2, 9, 10, 6, 6, 8, 3, 4, 7, 10, 1, 1, 1, 2, 2, 10, 3, 4, 6, 8, 9, 6, 6, 8, 10, 8, 6, 8, 7, 8, 4, 6, 2, 5, 1, 3, 2, 3, 4, 2, 3, 3, 9, 4, 1, 3, 7, 6, 8, 9, 9, 7, 9, 10, 2, 8, 6, 9, 6, 1, 2, 1, 1, 2, 7, 10, 3, 5, 1, 9, 8, 2, 9, 4, 5, 1, 4, 7, 8, 4, 1, 6, 7, 8, 9, 4, 5, 1, 4, 4, 1, 5, 6, 5, 9, 2, 2, 9, 2, 3, 4, 9, 10, 10, 1, 3, 4, 7, 3, 4, 7, 5, 7, 4, 5, 10, 9, 8, 2, 9, 10, 1, 8, 4, 10, 6, 10, 6, 10, 5, 6, 10, 8, 9, 7, 5, 3, 9, 9, 2, 9, 9, 1, 6, 8, 1, 7, 1, 2, 7, 2, 7, 9, 2, 8, 2, 2, 2, 8, 3, 2, 7, 7, 8, 6, 3, 7, 2, 3, 8, 7, 1], \"Freq\": [1.0055276977975045, 0.028683193007539264, 0.11831817115609947, 0.8533249919742931, 0.001532959538759937, 0.08584573417055648, 0.08124685555427666, 0.8308640700078859, 0.7837149248317801, 0.21570135545828809, 1.0003263144977979, 1.0012945756951699, 0.7697309911804787, 0.23020437692889859, 0.3427539950019935, 0.3449796702942142, 0.14133038105601678, 0.17137699750099675, 0.9715574477733708, 0.028558250394763573, 0.0013686961901841265, 0.25731488375461575, 0.4886245398957332, 0.07664698665031108, 0.1765618085337523, 0.4927872791342915, 0.5060164678358833, 1.0003465847951538, 0.9919583258275826, 0.9998144552372686, 1.000803693412677, 0.9440912020811557, 1.0000209804464748, 0.9999371440755136, 0.5191415521511328, 0.18501321273471222, 0.29546886212857026, 1.0032667160684772, 1.003337146421525, 1.0025619424085215, 1.0008052998057937, 1.000583117672693, 0.9971864208560723, 0.004154943420233635, 0.003261627361437882, 0.9980579725999918, 0.005723594496896509, 0.9959054424599927, 0.9991482403764333, 0.18160804750909268, 0.8094530117548131, 0.007783202036103973, 1.001297092130764, 1.0005276016880322, 0.9819206118017235, 0.006502252645353995, 0.3722539639465162, 0.6209651276313065, 0.9984622217696026, 0.15507101168334791, 0.8452368447976474, 0.9440911532605111, 0.999025423786412, 1.0032667160684772, 0.0013637641585184759, 0.006818820792592379, 0.7200674756977552, 0.27138906754517667, 0.9951330590007353, 0.0037837758897366364, 1.0032754921726295, 0.005224954195033613, 0.9927412970563865, 1.0049686086864487, 0.9998144960482336, 0.9418021950258294, 0.9300529373051545, 0.06962963166990462, 0.9928338394991736, 0.007879633646818837, 1.00146625939872, 0.9819206569377431, 0.9948406439201217, 0.1941868359072642, 0.0636129290041038, 0.21985521076856926, 0.010044146684858493, 0.05245276602092769, 0.4597987149068555, 0.8687768537464066, 0.004410034790590897, 0.127891008927136, 0.9993628473455859, 1.0032754921726295, 0.9614723359393078, 1.0058699649356133, 0.9819206569377431, 0.9992585657503008, 1.0009969192110253, 0.9993936138622967, 0.9950629303738092, 1.0070305877797099, 0.34340559471209736, 0.6565106957731273, 1.0038902179610525, 1.0008611155838447, 1.001297092130764, 0.9959480831217854, 0.3658291903537657, 0.6342009025615978, 0.8086446513561446, 0.10518035325331672, 0.08595383706722656, 0.01163791742854743, 0.9892229814265314, 0.9421581132605742, 0.9838370120896814, 0.9981493124946914, 0.998026726331254, 0.9418021950258294, 0.9996526719791471, 0.9978011736379143, 0.999597028988332, 0.19783842699080095, 0.6748488565130655, 0.12749587517184952, 0.8128925326267683, 0.18724141631002805, 1.002097911905644, 1.0024296996127646, 0.6597807875500885, 0.1404994542085302, 0.19963417795503668, 0.7913314530474193, 0.2081247463217201, 0.9987905671460624, 0.9970890301690651, 0.9999312738488416, 1.009196215278303, 0.9975957311867609, 1.0047560371638642, 0.9948406439201217, 1.0001958841176164, 0.1623651207689584, 0.8373209533870252, 0.998868617286034, 0.621033390739521, 0.37867889679239086, 1.0000276233688128, 1.0015336832701123, 1.0032464081566757, 0.9932970039439891, 1.050342615252979, 0.9995416890633284, 0.9892660067196353, 0.07175410089220659, 0.5022787062454461, 0.42613149713534937, 1.0001628716003055, 0.9991482403764333, 0.9988210992923752, 0.7008688680920361, 0.004651784522734752, 0.2930624249322894, 0.22689105789741035, 0.7742657350749128, 0.16513215350135713, 0.8337159945068519, 1.001599855227983, 1.0000790146350926, 0.5552068846737545, 0.3793913711937322, 0.06477413654527135, 0.5683479634583248, 0.002929628677620231, 0.42870232982509376, 0.9982110720166182, 0.9997221223652014, 0.8783856388724055, 0.12130087393952266, 0.002716976482259869, 0.997130368989372, 0.35217527951601496, 0.6379568587954042, 0.010103389166443053, 0.9814032370279231, 0.012913200487209515, 0.09519552073979451, 0.148948163916144, 0.595792655664576, 0.160026952967758, 0.6763462826232987, 0.3239982192207419, 0.9992541198337453, 0.9983454306395516, 1.003029918913316, 1.0005484351383593, 0.6376903529668628, 0.09370640682910007, 0.12534753121295203, 0.14360202604978972, 1.003996629854326, 0.9982397581455972, 0.9999022568292218, 1.0015336832701123, 0.9914896560370767, 1.0001233283974837, 1.0354317259594121, 0.9945977408843156, 0.9993305369457577, 0.9440911532605111, 1.0006036977839845, 0.9992585856731121, 0.0030702246266734686, 0.9978230036688773, 0.009615829430925206, 0.9904304313852962, 1.001038772316769, 0.9924588231485669, 0.9999665004652175, 0.6358044785051236, 0.20950039265478962, 0.15462130573426205, 0.99604161205245, 0.12929233747785765, 0.8683552936012872, 0.001747193749700779, 0.999356715288634, 0.997530313750132, 0.9932970039439891, 0.2553816188703958, 0.7433429263549021, 0.002280193025628534, 1.003337146421525, 0.9981340733386659, 0.9915232053570164, 1.0009491546843088, 0.6836715581013959, 0.3160173667356906, 0.9990520041733211, 0.9965406858236712, 1.0003274007607799, 1.0000878720626447, 0.9990867485693444, 0.9517992670855598, 0.9819206569377431, 1.0013444527515274, 0.005334233925805167, 0.09468265218304171, 0.1746961610701192, 0.7254558139095026, 1.0000207352714356, 0.15610198583606416, 0.701755774163928, 0.14203874386885115, 0.9982859369764387, 0.999511592853922, 1.0021046285152868, 0.9999776088447757, 1.0032754921726295, 1.001042977178694, 1.01698919172378, 0.9426822552642771, 0.9999505239650373, 0.99913026144748, 0.9914576299014403, 0.004540874850312106, 0.6917266021975441, 0.2921296153700788, 0.010595374650728247, 0.49506500126468905, 0.5058272839008779, 1.0003070122191564, 1.0001324315935332, 0.9426822387303695, 1.0023861016131075, 1.0018939749299223, 0.9973036142430305, 0.9418021950258295, 0.896825511887878, 0.1011803141617093, 0.5711597513550108, 0.4283698135162582, 0.7952396731334682, 0.2050319872609389, 0.12978016428854902, 0.8708932077257895, 1.0010545709169443, 0.9814147214916167, 0.19031373639755944, 0.8099938293018079, 0.9986831533978454, 1.002551273723138, 1.0029424857129425, 1.0004980810458572, 1.0012433573048496, 1.0007161414346422, 1.0007366466060867, 1.0142484767416113, 1.054111094523878, 0.9981340733386659, 0.9971299888546152, 0.9809150056546334, 0.015570079454835451, 1.0024296996127646, 1.0003897366908403, 0.999506863370322, 0.9978994654426959, 0.9941244811771753, 0.9846199581880705, 0.9971596140803433, 0.0019102674599240294, 1.0015998962182944, 1.0070305877797099, 0.04978771154454891, 0.9499495362699932, 0.9998957306711854, 1.0007720373672626, 0.005736175090439582, 0.02868087545219791, 0.005736175090439582, 0.9579412401034102, 1.0070980277761141, 0.699127946084581, 0.30052442286729286, 1.013205701092965, 0.006475268247005502, 0.9939536759153446, 1.0469792571759209, 1.000111553505951, 0.7199954303466509, 0.21791629247779992, 0.06101656189378398, 0.7761835648225661, 0.22409170661812794, 1.0049686748074156, 0.9614723359393078, 0.9986565101024535, 0.9988921078809926, 0.9998810123618238, 1.0026783299472593, 1.0046846192043308, 0.9958106701530999, 1.0001809457866648, 0.9336378615958995, 1.0274205273337127, 0.036071615517851506, 0.9637595735795198, 0.9418021950258294, 0.6200831688870514, 0.37826800553276946, 1.0376405899526804, 1.000191270868884, 0.9440911532605111, 0.9984063597475284, 1.0077497323273257, 1.0007379060761552, 0.6040116517049158, 0.39658648405679137, 0.9977482376272242, 0.9649606587551808, 0.03550022490403675, 0.9983052113540593, 1.0002397751605432, 1.0049686748074156, 0.9887646239921708, 0.007217260029139933, 1.0012283657557515, 0.9985528285140693, 1.0012037889145164, 1.0030968906841309, 1.0006236003026314, 0.9919583258275826, 0.9819205989057186, 1.0018926450383459, 0.9966644232371, 0.20469216072587032, 0.7948629890960804, 0.9965406573215234, 0.5939842694673177, 0.4061277987020516, 1.0023859280895366, 1.0018598930422147, 0.7825432511216122, 0.21613099316692144, 0.17760000288265063, 0.0044962026046240664, 0.8183088740415801, 1.0112867212784074, 0.9993892264064506, 0.31166360481299454, 0.6880689246354518, 0.9421581016377478, 0.942158132631952, 0.9614445149450441, 0.9980176875570135, 0.17626353790255755, 0.8232385161042823, 0.0006753392256802972, 0.746373417074463, 0.2530906589425783, 0.0006972194461228053, 0.9984520214608618, 1.0060159330142604, 0.2565610003777144, 0.28002694553421265, 0.06883343912572824, 0.3942278786291709, 0.277302364613154, 0.3724028550413831, 0.35018311428712395, 0.16157744511577668, 0.09856674228511168, 0.23764036496136515, 0.163827827359729, 0.054009173854855715, 0.28444831563557343, 1.0035137144828705, 0.5769760109655827, 0.42324547178756905, 0.993173233329987, 0.18749719782080682, 0.30907072334845326, 0.5042732854632659, 0.9981340733386659, 0.7785580553105511, 0.220385481265156, 1.0003263405674963, 0.9965407285768959, 0.9975275997274835, 0.0014185000893855303, 0.9986240629274132, 0.26789977290558553, 0.7318237698884288, 0.436699400101808, 0.5628885124688889, 0.5733605828553474, 0.19814667201618621, 0.19814667201618621, 0.031619149789816954, 0.9932259599450649, 0.0059474608379944, 1.0055277504708588, 0.998801724662045, 0.7362521169202997, 0.2639663597485571, 0.27966764517490633, 0.720028301942024, 0.18380654603867908, 0.8153469862741405, 0.942158132631952, 1.0004171366393622, 1.0018940333022013, 0.9999834096808339, 1.0003746917569205, 0.009668480327948831, 0.9910192336147552, 0.9990662316072925, 0.9996259231613107, 0.9990894395500112, 0.0028207352051053225, 0.9957195274021788, 0.9997962197955942, 0.9223471910690493, 0.2782043735508006, 0.7233313712320816, 0.9870228056144259, 0.9990738792165341, 0.9996971337179187, 1.0015047030677544, 1.0019528836414469, 0.988892304777121, 1.000297505688517, 1.0021890945692304, 1.0094840433732022, 1.00056621244653, 0.981854823085217, 0.9983052113540593, 0.45172057290103695, 0.004849760752004998, 0.398373204628982, 0.1447999995955778, 0.9882291511161356, 0.08328610504551201, 0.9213525370659765, 0.5276744116888773, 0.34783032380989665, 0.12450744545467893, 0.2500893302522667, 0.7502679907568001, 1.0017866555557096, 1.0152525474605212, 0.9841959407781716, 0.01668128713183342, 0.004034551852956198, 0.9965343076801808, 0.3057653768776221, 0.6937051987911051, 1.001917180231949, 0.9336378722410255, 0.9988502616899518, 1.0014031767750646, 0.9993167781317388, 0.4874500200040489, 0.5127252062264811, 0.9937787166446612, 0.005400971286112289, 1.0016114028015457, 0.999454921567331, 0.3621905498637316, 0.6373160637025278, 0.9988211141970906, 0.9984623459269429, 0.9336378615958995, 0.2196863930947629, 0.700993618991836, 0.07948766929639568, 1.0004821698944333, 1.01698919172378, 0.9418021950258295, 0.9986432150293737, 1.0077874628558412, 0.997778154422896, 0.0014502589453821162, 1.000432139493704, 0.2822092129499606, 0.7176949952337656, 1.0026636886781661, 0.008566638266352098, 0.9894467197636673, 0.0751546635218815, 0.5704922185524642, 0.35527659119434896, 1.0006648322149438, 1.0090737803848173, 1.008328932371692, 1.0001355281698396, 1.0007161414346422, 1.0474246852057338, 1.0029424857129425, 1.0006095017530696, 0.9904786188375635, 0.00805267169786637, 0.9983773515787729, 0.9889825105157943, 0.007549484813097667, 0.5639496799198925, 0.12493919570417787, 0.3110555148221256, 0.14402308932521052, 0.8559420999734055, 0.9961350015767372, 0.9819206118017235, 0.6600890172361459, 0.34049840708108886, 0.9614723359393078, 1.0010429688766755, 1.0002992225094587, 1.002510783028647, 0.9906078535684764, 0.9614723359393078, 0.9614445149450441, 1.0032464081566757, 0.9426822552642771, 0.9421581132605742, 0.9953267838359611, 0.006770930502285449, 1.0215643569355144, 0.21615301190883657, 0.7802970429900554, 0.0015330000844598337, 0.0030660001689196675, 1.0006648322149438, 1.0015388245986772, 0.9914576299014403, 0.9973944730122006, 0.14724257313455358, 0.8522221657181738, 0.06244649822950565, 0.011019970275795113, 0.9256775031667895, 0.7780966744736472, 0.0020530255263156915, 0.219673731315779, 0.9418021950258294, 0.9996476146620269, 0.9970270926236863, 1.002165727193489, 1.006468645602534, 1.0058188621953155, 1.0008447840148615, 0.9965797658230763, 1.0001233283974837, 1.0004774773724123, 0.9999022894301682, 1.0004882263919699, 0.7665361232171981, 0.23250384780047714, 0.9968205685387915, 1.001128321687531, 0.9819206569377431, 1.002097911905644, 0.9996765364170529, 0.9998896350390232, 0.997132081436897, 0.8951472449865584, 0.10531144058665394, 0.9517992670855598, 0.9977580913268057, 0.9336378466927235, 0.9241934733483496, 0.0739958826700476, 0.0015101200544907671, 0.36763834707382026, 0.6318784090331286, 0.6935799171980606, 0.07462568729346221, 0.2326565545031469, 0.9998262089000347, 0.23171440339349114, 0.7686679727957159, 0.9336378802248702, 1.0065783396174381, 0.5075794194746116, 0.1295947453977732, 0.2761602312643024, 0.08793929151991751, 0.9971251323648914, 0.0032479646005371056, 0.9991163064923642, 0.9994630744198751, 0.9986350680180803, 0.9902220247129835, 1.0012927709954709, 1.0022126760814283, 1.0032832538690488, 0.9998202062876924, 0.12498789749190972, 0.874915282443368, 0.003038035224411172, 0.9964755536068645, 0.002710290653738038, 0.997386960575598, 0.015984343403075245, 0.3587597074912444, 0.030192648650253243, 0.5949727822255786, 0.5467946291697359, 0.4530584070263525, 0.01024872306085502, 0.9907098958826519, 0.034921072701809865, 0.407594395441437, 0.4938057936740301, 0.06384008603299615, 0.9517993247053828, 0.9870228056144259, 0.28965253745282377, 0.5458341150222101, 0.1647801101953842, 1.0006648322149438, 0.26922357330922697, 0.7314753689911072, 1.0002185854679257, 0.5356117250226929, 0.3325621981185983, 0.10207354595719353, 0.028536690267602492, 0.268171375698719, 0.5923345770927749, 0.13997956423834235, 0.983121501579621, 0.9874580952918749, 0.9992958970570327, 0.9426822552642771, 0.9932969730676676, 0.9998343914432172, 0.9942184317429609, 1.001233964171662, 1.0061969010578515, 0.9938381467933598, 0.007361764050321184, 0.5189951566579849, 0.1382144225454021, 0.3427717679125972, 1.0002030151523962, 1.0002123868841837, 0.014148015814566199, 0.7011127836996139, 0.28453231804849805, 0.18967726943025226, 0.8108703268143284, 0.9992653757687252, 1.0015386127322763, 0.04111616239345629, 0.021380404444597274, 0.28123455077124104, 0.0953894967528186, 0.5608244550467438, 0.7509798198618742, 0.2481686186325159, 1.0015386127322763, 0.9991481948653399, 1.0000411897095962, 1.0029712582876276, 0.9996706058445106, 1.000020952031979, 0.005445818687187887, 0.005445818687187887, 0.9884160917246015, 1.0046770000911407, 0.34466665942367825, 0.6548666529049887, 0.333865024545546, 0.6664233366662562, 0.9993870460987353, 0.6826061075806519, 0.31657094844320083, 0.9982110720166182, 0.6071411221527008, 0.27701710774343086, 0.1162610659441342, 1.0002018317686459, 0.9999022568292218, 0.9997949125696842, 0.2673779220778471, 0.7320018522459092, 0.9418021950258294, 0.9999916342729646, 1.005146508869313, 0.9999722889170848, 1.0474246852057338, 0.9994708605296385, 0.02179674708721175, 0.9777397979120699, 0.996478877628806, 0.9970535591395119, 1.0052996871905318, 0.9819206118017235, 0.9991473133743214, 1.000022658064786, 1.0001439192724522, 1.0027335729666451, 0.1951599268374079, 0.11503635327095602, 0.35013248135308445, 0.07384429664118138, 0.2657389994774486, 0.9965498092122096, 1.0055276977975045, 0.9974469349662579, 0.0022214853785440043, 0.981854823085217, 0.9981340964060387, 1.0036284713801191, 0.7573768070414648, 0.24087065666564617, 0.6358096634739927, 0.3656355855105397, 0.9972034521498415, 0.0027700095893051155, 0.9819206157265946, 0.9223471910690493, 0.2976628317662232, 0.6229657836250243, 0.07866803410964471, 0.007207000307507269, 0.9945660424360031, 1.0010841186538262, 0.9974334992000781, 0.9992830889935548, 0.9819206569377431, 0.05183623213508229, 0.9490017883191989, 0.9986040652642232, 1.0006036977839845, 1.0001446349486398, 1.0018940333022013, 1.0034425787433008, 0.9922852767994885, 0.006968295483142476, 1.007509287991748, 0.9996259056965938, 1.0012670094382612, 0.9993892264064506, 0.9855314376855495, 0.9819206017714974, 0.9984519314024306, 1.0014290079584398, 1.0001448199672642, 0.001697550272990837, 0.9981595605186121, 1.001137133954891, 1.0006597146506315, 0.9984063597475284, 0.9921412885590845, 0.010554694559139197, 1.0040334852421777, 0.09650267500333089, 0.9025838426782123, 0.001262134593608202, 0.9989795308408919, 0.3248655329346527, 0.0007187290551651608, 0.32199061671399204, 0.3521772370309288, 0.9954066146159358, 1.0030371632761614, 0.0007589384330435253, 0.6185348229304731, 0.12826059518435576, 0.2519675597704504, 0.003489733914352492, 0.9980638995048127, 1.0116758241324826, 0.9999613955435233, 1.0028260152316368, 0.006148221063018501, 0.3832391129281532, 0.6107232922598378, 0.870164555707387, 0.12976836466633493, 1.00009552346917, 1.0359824145284124, 0.9978540995612533, 0.9972022933351499, 0.8352750487125628, 0.14131541609638523, 0.017664427012048154, 0.005046979146299473, 0.9614445149450441, 0.9961513492878495, 0.030242188455721273, 0.9677500305830807, 1.0008060295168557, 0.5606123924931723, 0.4399742827161605, 0.9336378615958995, 1.0049686748074156, 0.9986380092672477, 0.9989322804361197, 1.0013956279035283, 1.001714406737703, 1.0002986299018564, 1.0035615107542388, 1.0028448713629399, 0.9993892909406519, 1.0015046671643606, 0.9819206418924028, 0.9440911532605111, 1.0016860243980898, 0.9970535591395119, 1.0026216015102047, 0.9998324728619138, 0.006524760095692678, 0.9939384545771847, 0.9421581132605742, 0.23924192386059703, 0.7606666297106162, 1.0489902406072589, 0.9931818622142891, 1.0019528836414469, 0.9982389738600445, 1.0008447840148615, 1.0112867212784074, 1.0009244448869508, 0.9995541668903686, 1.0010956383980136, 1.0008611155838447, 0.910933277909968, 0.09278024126860786, 0.9440911532605111, 1.0005176348957274, 0.9336378802248702, 0.08968411140784896, 0.45518916922096925, 0.45518916922096925, 0.007912766625381684, 0.9890958281727105, 0.9995830046368577, 0.16886772571138256, 0.8313070355759701, 0.9418021950258294, 0.9972022933351498, 0.9978011736379143, 1.0043522984379474, 1.0014055108927669, 0.9827500492213178, 0.9993870460987353, 1.0036606851946779, 1.0010622086159233, 0.9999591141787936, 1.0010841186538262, 0.9336378802248702, 0.00244451680352717, 0.9973628558390853, 1.0004548744687998, 0.9987753998003263, 1.0047560371638642], \"Term\": [\"academ\", \"accord\", \"accord\", \"accord\", \"account\", \"account\", \"account\", \"account\", \"achiev\", \"achiev\", \"acknowledg\", \"act\", \"action\", \"action\", \"activ\", \"activ\", \"activ\", \"activ\", \"adapt\", \"adapt\", \"addit\", \"addit\", \"addit\", \"addit\", \"addit\", \"address\", \"address\", \"affect\", \"afghanistan\", \"agenc\", \"agenda\", \"agrarian\", \"agreement\", \"agricultur\", \"aim\", \"aim\", \"aim\", \"align\", \"alloc\", \"altern\", \"ambit\", \"ambiti\", \"amount\", \"amount\", \"analysi\", \"analysi\", \"andor\", \"andor\", \"annex\", \"annual\", \"annual\", \"annual\", \"appli\", \"applic\", \"apprais\", \"approach\", \"approach\", \"approach\", \"approv\", \"area\", \"area\", \"areabas\", \"articl\", \"articul\", \"assess\", \"assess\", \"assess\", \"assess\", \"assist\", \"assist\", \"assum\", \"assumpt\", \"assumpt\", \"attract\", \"author\", \"avalanch\", \"averag\", \"averag\", \"avoid\", \"avoid\", \"awar\", \"awd\", \"bangladesh\", \"base\", \"base\", \"base\", \"base\", \"base\", \"base\", \"baselin\", \"baselin\", \"baselin\", \"bau\", \"bau_scenario\", \"bei\", \"beliz\", \"beneath\", \"bilater\", \"billion\", \"biodivers\", \"biofuel\", \"biolog\", \"build\", \"build\", \"businessasusu\", \"cabo\", \"calcul\", \"cambodia\", \"capac\", \"capac\", \"carbon\", \"carbon\", \"carbon\", \"carri\", \"carri\", \"casebycas\", \"cash\", \"caus\", \"cca\", \"ccvi\", \"centr\", \"central\", \"ch\", \"challeng\", \"challeng\", \"challeng\", \"chang\", \"chang\", \"circumst\", \"civil\", \"climat\", \"climat\", \"climat\", \"coastal\", \"coastal\", \"cobenefit\", \"code\", \"coeq\", \"coher\", \"collabor\", \"colombia\", \"combat\", \"commerci\", \"commit\", \"commit\", \"committe\", \"commun\", \"commun\", \"compar\", \"compat\", \"complianc\", \"compromis\", \"comput\", \"concern\", \"concession\", \"condit\", \"condit\", \"condit\", \"conduct\", \"confer\", \"conserv\", \"consid\", \"consid\", \"consid\", \"consist\", \"consist\", \"construct\", \"construct\", \"consult\", \"consumpt\", \"context\", \"context\", \"context\", \"contribut\", \"contribut\", \"contribut\", \"control\", \"convent\", \"cooper\", \"cooper\", \"coordin\", \"coordin\", \"cost\", \"cost\", \"cost\", \"costa_rica\", \"costa_rica\", \"countri\", \"countri\", \"countri\", \"countri\", \"cover\", \"cover\", \"cp\", \"creat\", \"critic\", \"crop\", \"current\", \"current\", \"current\", \"current\", \"cyclon\", \"damag\", \"data\", \"decarbonis\", \"decid\", \"decis\", \"deem\", \"definit\", \"deforest\", \"deform\", \"degrad\", \"deliv\", \"demand\", \"demand\", \"demonstr\", \"demonstr\", \"depart\", \"descript\", \"determin\", \"develop\", \"develop\", \"develop\", \"dialogu\", \"disast\", \"disast\", \"disast\", \"diseas\", \"divers\", \"dollar\", \"domest\", \"domest\", \"domest\", \"donor\", \"draft\", \"driven\", \"drought\", \"due\", \"due\", \"earli\", \"ecolog\", \"econom\", \"economi\", \"ecosystem\", \"ecree\", \"ecuador\", \"educ\", \"effect\", \"effect\", \"effect\", \"effect\", \"effici\", \"effort\", \"effort\", \"effort\", \"elabor\", \"electr\", \"emerg\", \"emiss\", \"emit\", \"enabl\", \"enact\", \"endur\", \"energi\", \"engag\", \"engin\", \"enhanc\", \"enhanc\", \"enhanc\", \"enhanc\", \"ensur\", \"ensur\", \"environ\", \"environment\", \"epa\", \"eq\", \"equip\", \"equival\", \"errat\", \"especi\", \"especi\", \"establish\", \"establish\", \"estim\", \"estim\", \"evalu\", \"evalu\", \"event\", \"eventu\", \"expect\", \"expect\", \"expert\", \"export\", \"extern\", \"extrem\", \"facil\", \"fair\", \"farm\", \"featur\", \"fed\", \"feedback\", \"fertil\", \"fight\", \"fight\", \"final\", \"financ\", \"financi\", \"fisheri\", \"flash\", \"fleet\", \"flood\", \"flood\", \"focal_point\", \"fodder\", \"food\", \"food\", \"forest\", \"forestri\", \"fossil_fuel\", \"fossil_fuel\", \"fossil_fuel\", \"fossil_fuel\", \"foster\", \"framework\", \"framework\", \"friendli\", \"fuel\", \"fuel\", \"fugit\", \"fund\", \"futur\", \"futur\", \"futur\", \"ga\", \"ga\", \"gambia\", \"gaseou\", \"gdp\", \"gender\", \"gener\", \"gg\", \"gg_co\", \"ggcoe\", \"ghg\", \"girl\", \"glacial\", \"global\", \"global\", \"glof\", \"goal\", \"goal\", \"goj\", \"govern\", \"gpglulucf\", \"grant\", \"great\", \"green\", \"greenhous\", \"greenhous\", \"grid\", \"group\", \"group\", \"grow\", \"growth\", \"guarante\", \"guid\", \"guid\", \"guidanc\", \"guidelin\", \"guinea\", \"guyana\", \"ha\", \"hand\", \"harmoni\", \"harvest\", \"hazard\", \"health\", \"health\", \"hectar\", \"high\", \"high\", \"highli\", \"histor\", \"howev\", \"howev\", \"human\", \"human\", \"human\", \"hybrid\", \"hydro\", \"identifi\", \"identifi\", \"iiii\", \"iiiii\", \"iiiiii\", \"immedi\", \"impact\", \"impact\", \"impact\", \"implement\", \"implement\", \"implement\", \"impli\", \"implic\", \"import\", \"import\", \"import\", \"import\", \"improv\", \"improv\", \"improv\", \"includ\", \"includ\", \"includ\", \"includ\", \"includ\", \"includ\", \"incom\", \"increas\", \"increas\", \"increasingli\", \"indc\", \"indc\", \"indc\", \"indepth\", \"indic\", \"indic\", \"indigen\", \"indirectli\", \"indonesia\", \"industri\", \"industri\", \"inform\", \"inform\", \"infrastructur\", \"infrastructur\", \"initi\", \"initi\", \"initi\", \"initi\", \"innov\", \"innov\", \"input\", \"instal\", \"institut\", \"institut\", \"integr\", \"integr\", \"intend\", \"intend\", \"inter\", \"intern\", \"introduc\", \"inventori\", \"invest\", \"involv\", \"involv\", \"ipcc\", \"irrig\", \"island\", \"issu\", \"issu\", \"jordan\", \"kato\", \"kei\", \"kei\", \"kind\", \"km\", \"knowledg\", \"kyoto_protocol\", \"lack\", \"lake\", \"land\", \"landus\", \"largescal\", \"law\", \"leav\", \"lesotho\", \"level\", \"level\", \"level\", \"level\", \"licens\", \"light\", \"light\", \"limit\", \"limit\", \"limit\", \"line\", \"line\", \"link\", \"liquid\", \"list\", \"list\", \"livestock\", \"livestock\", \"local\", \"local\", \"locat\", \"logist\", \"long_term\", \"longterm\", \"loss\", \"low\", \"low\", \"lulucf\", \"lulucf\", \"mainli\", \"mainstream\", \"manag\", \"manag\", \"marin\", \"market\", \"mathemat\", \"measur\", \"measur\", \"measur\", \"mechan\", \"mediumterm\", \"melt\", \"methodolog\", \"micro\", \"million\", \"million\", \"ministri\", \"mitig\", \"mitig\", \"mobil\", \"moldova\", \"moldova\", \"monitor\", \"monitor\", \"monitor\", \"monsoon\", \"month\", \"moresbi\", \"move\", \"mtcoe\", \"multicriteria\", \"multilater\", \"mw\", \"myanmar\", \"myanmar\", \"nap\", \"napa\", \"napa\", \"nation\", \"nation\", \"nation\", \"natur\", \"natur\", \"nauru\", \"nccap\", \"ndc\", \"ndc\", \"nearbi\", \"necessari\", \"neg\", \"net\", \"nghgi\", \"nigeran\", \"nonadversari\", \"nonannex\", \"nonpunit\", \"nonrefund\", \"note\", \"note\", \"notwithstand\", \"object\", \"object\", \"object\", \"object\", \"ocean\", \"offer\", \"offgrid\", \"oil\", \"oper\", \"oper\", \"opportun\", \"opportun\", \"opportun\", \"order\", \"order\", \"order\", \"outburst\", \"outcom\", \"outlin\", \"overal\", \"overarch\", \"oxid\", \"pakistan\", \"papua_new\", \"paragraph\", \"pari\", \"parti\", \"particip\", \"particularli\", \"particularli\", \"pathwai\", \"pattern\", \"pde\", \"per_capita\", \"per_cent\", \"percent\", \"percentag\", \"period\", \"period\", \"pico\", \"pillar\", \"pipe\", \"plan\", \"plan\", \"plan\", \"plant\", \"plant\", \"png\", \"png\", \"png\", \"polici\", \"popul\", \"popul\", \"popular\", \"port\", \"potenti\", \"potenti\", \"potenti\", \"potenti\", \"poverti\", \"poverti\", \"power\", \"practic\", \"precipit\", \"prepared\", \"prevent\", \"principl\", \"priorit\", \"prioriti\", \"privat\", \"privat\", \"process\", \"process\", \"product\", \"product\", \"program\", \"program\", \"program\", \"program\", \"programm\", \"programm\", \"progress\", \"progress\", \"project\", \"project\", \"project\", \"project\", \"projectbas\", \"promis\", \"promot\", \"promot\", \"promot\", \"properti\", \"propos\", \"propos\", \"protect\", \"provid\", \"provid\", \"provid\", \"provid\", \"public\", \"public\", \"public\", \"publicpriv\", \"quantit\", \"rainfal\", \"randomis\", \"rapid\", \"rate\", \"real\", \"recommend\", \"reconstruct\", \"redd\", \"redd\", \"reduc\", \"reduc\", \"reduc\", \"reduct\", \"refer\", \"region\", \"region\", \"region\", \"regul\", \"regul\", \"rehabilit\", \"rel\", \"relat\", \"relat\", \"relat\", \"relat\", \"relat\", \"relev\", \"relev\", \"remain\", \"remov\", \"renew\", \"replac\", \"report\", \"requir\", \"research\", \"research\", \"research\", \"residenti\", \"resili\", \"resili\", \"resourc\", \"resourc\", \"respond\", \"respons\", \"respons\", \"restor\", \"result\", \"result\", \"result\", \"review\", \"revis\", \"rise\", \"risk\", \"risk\", \"riverin\", \"road\", \"robust\", \"role\", \"round\", \"rural\", \"scenario\", \"scenario\", \"scientif\", \"scope\", \"scotland\", \"scottish\", \"sdg\", \"sea_level\", \"season\", \"section\", \"sector\", \"sector\", \"sector\", \"sector\", \"sector\", \"sectori\", \"sectorspecif\", \"secur\", \"secur\", \"seed\", \"select\", \"sequestr\", \"servic\", \"servic\", \"set\", \"set\", \"sever\", \"sever\", \"shortterm\", \"sidewalk\", \"signific\", \"signific\", \"signific\", \"significantli\", \"significantli\", \"sinc\", \"singapor\", \"sink\", \"snpacvc\", \"social\", \"social\", \"societi\", \"soil\", \"solar\", \"solid\", \"solut\", \"sourc\", \"sourc\", \"spatial\", \"speci\", \"stakehold\", \"standard\", \"statement\", \"stipul\", \"storm\", \"strateg\", \"strategi\", \"strengthen\", \"strengthen\", \"submit\", \"substanti\", \"success\", \"sudan\", \"sudan\", \"suitabl\", \"suppli\", \"suppli\", \"support\", \"support\", \"sustain\", \"sustain\", \"sustain\", \"sustain\", \"swaziland\", \"synergi\", \"system\", \"system\", \"system\", \"system\", \"tabl\", \"tabl\", \"tajikistan\", \"target\", \"tcoe\", \"technic\", \"technic\", \"technic\", \"technolog\", \"technolog\", \"temperatur\", \"tempor\", \"thermal\", \"threat\", \"time\", \"time\", \"time\", \"time\", \"timehorizon\", \"togo\", \"ton\", \"ton\", \"tool\", \"total\", \"total\", \"township\", \"track\", \"train\", \"trajectori\", \"transfer\", \"transpar\", \"transport\", \"tree\", \"tropic\", \"uae\", \"uk\", \"unabl\", \"uncbd\", \"uncondit\", \"understand\", \"undertaken\", \"unfccc\", \"unit\", \"unit\", \"unremit\", \"updat\", \"updat\", \"upstream\", \"uptak\", \"urgent\", \"us_billion\", \"usd\", \"user\", \"util\", \"variabl\", \"vehicl\", \"verd\", \"viet_nam\", \"viet_nam\", \"viii\", \"vision\", \"viv\", \"vulner\", \"vulner\", \"vulner\", \"warn\", \"warn\", \"wast\", \"water\", \"water\", \"waterstress\", \"wave\", \"weather\", \"wetland\", \"wherea\", \"winter\", \"women\", \"women_men\", \"wood\", \"work\", \"world\", \"xvi\", \"year\", \"year\", \"yield\", \"youth\", \"zimbabw\"]}, \"R\": 30, \"lambda.step\": 0.01, \"plot.opts\": {\"xlab\": \"PC1\", \"ylab\": \"PC2\"}, \"topic.order\": [4, 5, 2, 1, 3, 9, 10, 8, 7, 6]};\n",
              "\n",
              "function LDAvis_load_lib(url, callback){\n",
              "  var s = document.createElement('script');\n",
              "  s.src = url;\n",
              "  s.async = true;\n",
              "  s.onreadystatechange = s.onload = callback;\n",
              "  s.onerror = function(){console.warn(\"failed to load library \" + url);};\n",
              "  document.getElementsByTagName(\"head\")[0].appendChild(s);\n",
              "}\n",
              "\n",
              "if(typeof(LDAvis) !== \"undefined\"){\n",
              "   // already loaded: just create the visualization\n",
              "   !function(LDAvis){\n",
              "       new LDAvis(\"#\" + \"ldavis_el621403215558458405366594092\", ldavis_el621403215558458405366594092_data);\n",
              "   }(LDAvis);\n",
              "}else if(typeof define === \"function\" && define.amd){\n",
              "   // require.js is available: use it to load d3/LDAvis\n",
              "   require.config({paths: {d3: \"https://d3js.org/d3.v5\"}});\n",
              "   require([\"d3\"], function(d3){\n",
              "      window.d3 = d3;\n",
              "      LDAvis_load_lib(\"https://cdn.jsdelivr.net/gh/bmabey/pyLDAvis/pyLDAvis/js/ldavis.v3.0.0.js\", function(){\n",
              "        new LDAvis(\"#\" + \"ldavis_el621403215558458405366594092\", ldavis_el621403215558458405366594092_data);\n",
              "      });\n",
              "    });\n",
              "}else{\n",
              "    // require.js not available: dynamically load d3 & LDAvis\n",
              "    LDAvis_load_lib(\"https://d3js.org/d3.v5.js\", function(){\n",
              "         LDAvis_load_lib(\"https://cdn.jsdelivr.net/gh/bmabey/pyLDAvis/pyLDAvis/js/ldavis.v3.0.0.js\", function(){\n",
              "                 new LDAvis(\"#\" + \"ldavis_el621403215558458405366594092\", ldavis_el621403215558458405366594092_data);\n",
              "            })\n",
              "         });\n",
              "}\n",
              "</script>"
            ],
            "text/plain": [
              "PreparedData(topic_coordinates=              x         y  topics  cluster       Freq\n",
              "topic                                                \n",
              "3      0.081704 -0.285157       1        1  10.635601\n",
              "4      0.320781  0.003007       2        1  10.558587\n",
              "1      0.110540  0.244937       3        1  10.368494\n",
              "0     -0.154789  0.148623       4        1  10.105029\n",
              "2     -0.125615 -0.081780       5        1   9.915953\n",
              "8     -0.221458 -0.064311       6        1   9.863094\n",
              "9      0.089899 -0.219766       7        1   9.710766\n",
              "7      0.112086  0.068374       8        1   9.678827\n",
              "6      0.004856  0.208232       9        1   9.633441\n",
              "5     -0.218003 -0.022159      10        1   9.530208, topic_info=          Term         Freq        Total Category  logprob  loglift\n",
              "181      emiss  4311.000000  4311.000000  Default  30.0000  30.0000\n",
              "110     climat  6882.000000  6882.000000  Default  29.0000  29.0000\n",
              "109      chang  5287.000000  5287.000000  Default  28.0000  28.0000\n",
              "9       energi  3385.000000  3385.000000  Default  27.0000  27.0000\n",
              "20       adapt  3466.000000  3466.000000  Default  26.0000  26.0000\n",
              "..         ...          ...          ...      ...      ...      ...\n",
              "395     commun   525.251337  1386.398884  Topic10  -4.1875   1.3801\n",
              "235     includ   632.381819  2221.844761  Topic10  -4.0019   1.0941\n",
              "991       base   411.880255   896.044262  Topic10  -4.4306   1.5734\n",
              "44         ndc   455.564517  1339.213314  Topic10  -4.3298   1.2724\n",
              "402  greenhous   303.709678   766.541504  Topic10  -4.7353   1.4249\n",
              "\n",
              "[708 rows x 6 columns], token_table=      Topic      Freq     Term\n",
              "term                          \n",
              "347       6  1.005528   academ\n",
              "100       2  0.028683   accord\n",
              "100       4  0.118318   accord\n",
              "100      10  0.853325   accord\n",
              "80        1  0.001533  account\n",
              "...     ...       ...      ...\n",
              "177       2  0.002445     year\n",
              "177       3  0.997363     year\n",
              "178       8  1.000455    yield\n",
              "1517      7  0.998775    youth\n",
              "1675      1  1.004756  zimbabw\n",
              "\n",
              "[899 rows x 3 columns], R=30, lambda_step=0.01, plot_opts={'xlab': 'PC1', 'ylab': 'PC2'}, topic_order=[4, 5, 2, 1, 3, 9, 10, 8, 7, 6])"
            ]
          },
          "metadata": {
            "tags": []
          },
          "execution_count": 47
        }
      ]
    },
    {
      "cell_type": "markdown",
      "metadata": {
        "id": "GDqU-NTTYYNE"
      },
      "source": [
        "Train Mallet for different number of topics and choose the model with best coherence score"
      ]
    },
    {
      "cell_type": "code",
      "metadata": {
        "id": "MquNSJCK5loN"
      },
      "source": [
        "def compute_coherence_values(dictionary, corpus, texts, limit, start=2, step=1):\n",
        "    coherence_values = []\n",
        "    model_list = []\n",
        "    for num_topics in range(start, limit, step):\n",
        "        model = gensim.models.wrappers.LdaMallet(mallet_path, corpus=corpus, num_topics=num_topics, id2word=id2word)\n",
        "        model_list.append(model)\n",
        "        coherencemodel = CoherenceModel(model=model, texts=texts, dictionary=dictionary, coherence='c_v')\n",
        "        coherence_values.append(coherencemodel.get_coherence())\n",
        "\n",
        "    return model_list, coherence_values"
      ],
      "execution_count": 48,
      "outputs": []
    },
    {
      "cell_type": "code",
      "metadata": {
        "id": "Mviya5315s4r"
      },
      "source": [
        "model_list, coherence_values = compute_coherence_values(dictionary=id2word, corpus=corpus, texts=texts, start=2, limit=30, step=1)"
      ],
      "execution_count": 49,
      "outputs": []
    },
    {
      "cell_type": "code",
      "metadata": {
        "colab": {
          "base_uri": "https://localhost:8080/",
          "height": 279
        },
        "id": "Dnbf1R305x9A",
        "outputId": "85cc2886-f0ba-4ea6-abe2-872e54a7f254"
      },
      "source": [
        "limit, start, step = 30, 2, 1\n",
        "x = range(start, limit, step)\n",
        "plt.plot(x, coherence_values, label='coherence')\n",
        "plt.xlabel(\"Num Topics\")\n",
        "plt.ylabel(\"Coherence score\")\n",
        "plt.legend(loc='best')\n",
        "plt.show()"
      ],
      "execution_count": 50,
      "outputs": [
        {
          "output_type": "display_data",
          "data": {
            "image/png": "[encoded data removed]",
            "text/plain": [
              "<Figure size 432x288 with 1 Axes>"
            ]
          },
          "metadata": {
            "tags": [],
            "needs_background": "light"
          }
        }
      ]
    },
    {
      "cell_type": "code",
      "metadata": {
        "colab": {
          "base_uri": "https://localhost:8080/"
        },
        "id": "DgdLeboF50xO",
        "outputId": "8d99fad0-899a-4d51-9d48-3ceff34734c0"
      },
      "source": [
        "for m, cv in zip(x, coherence_values):\n",
        "    print(\"Num Topics =\", m, \" has Coherence Value of\", round(cv, 4))"
      ],
      "execution_count": 51,
      "outputs": [
        {
          "output_type": "stream",
          "text": [
            "Num Topics = 2  has Coherence Value of 0.4996\n",
            "Num Topics = 3  has Coherence Value of 0.531\n",
            "Num Topics = 4  has Coherence Value of 0.5667\n",
            "Num Topics = 5  has Coherence Value of 0.5768\n",
            "Num Topics = 6  has Coherence Value of 0.5847\n",
            "Num Topics = 7  has Coherence Value of 0.6052\n",
            "Num Topics = 8  has Coherence Value of 0.5983\n",
            "Num Topics = 9  has Coherence Value of 0.599\n",
            "Num Topics = 10  has Coherence Value of 0.6073\n",
            "Num Topics = 11  has Coherence Value of 0.6135\n",
            "Num Topics = 12  has Coherence Value of 0.6088\n",
            "Num Topics = 13  has Coherence Value of 0.6094\n",
            "Num Topics = 14  has Coherence Value of 0.6039\n",
            "Num Topics = 15  has Coherence Value of 0.5971\n",
            "Num Topics = 16  has Coherence Value of 0.5986\n",
            "Num Topics = 17  has Coherence Value of 0.5966\n",
            "Num Topics = 18  has Coherence Value of 0.5965\n",
            "Num Topics = 19  has Coherence Value of 0.5784\n",
            "Num Topics = 20  has Coherence Value of 0.5886\n",
            "Num Topics = 21  has Coherence Value of 0.5952\n",
            "Num Topics = 22  has Coherence Value of 0.5845\n",
            "Num Topics = 23  has Coherence Value of 0.5768\n",
            "Num Topics = 24  has Coherence Value of 0.5792\n",
            "Num Topics = 25  has Coherence Value of 0.5675\n",
            "Num Topics = 26  has Coherence Value of 0.568\n",
            "Num Topics = 27  has Coherence Value of 0.577\n",
            "Num Topics = 28  has Coherence Value of 0.5552\n",
            "Num Topics = 29  has Coherence Value of 0.5494\n"
          ],
          "name": "stdout"
        }
      ]
    },
    {
      "cell_type": "markdown",
      "metadata": {
        "id": "_ne3j_23ZhlN"
      },
      "source": [
        "Print top words for the best model"
      ]
    },
    {
      "cell_type": "code",
      "metadata": {
        "colab": {
          "base_uri": "https://localhost:8080/"
        },
        "id": "pYPPo9Qy52QZ",
        "outputId": "1641afda-af81-4c51-9b21-11d6432b60b0"
      },
      "source": [
        "optimal_model = model_list[10]\n",
        "model_topics = optimal_model.show_topics(formatted=False)\n",
        "pprint(optimal_model.print_topics(num_words=10))"
      ],
      "execution_count": 52,
      "outputs": [
        {
          "output_type": "stream",
          "text": [
            "[(0,\n",
            "  '0.062*\"agricultur\" + 0.047*\"forest\" + 0.041*\"land\" + 0.040*\"product\" + '\n",
            "  '0.033*\"sector\" + 0.033*\"area\" + 0.020*\"forestri\" + 0.015*\"includ\" + '\n",
            "  '0.014*\"reduc\" + 0.014*\"cover\"'),\n",
            " (1,\n",
            "  '0.112*\"energi\" + 0.030*\"gener\" + 0.029*\"effici\" + 0.027*\"transport\" + '\n",
            "  '0.027*\"electr\" + 0.026*\"wast\" + 0.025*\"renew\" + 0.022*\"industri\" + '\n",
            "  '0.019*\"sourc\" + 0.018*\"power\"'),\n",
            " (2,\n",
            "  '0.067*\"project\" + 0.034*\"includ\" + 0.033*\"base\" + 0.032*\"report\" + '\n",
            "  '0.027*\"data\" + 0.025*\"inform\" + 0.023*\"approach\" + 0.020*\"monitor\" + '\n",
            "  '0.020*\"assess\" + 0.018*\"avail\"'),\n",
            " (3,\n",
            "  '0.064*\"water\" + 0.051*\"manag\" + 0.044*\"resourc\" + 0.031*\"system\" + '\n",
            "  '0.026*\"improv\" + 0.024*\"protect\" + 0.023*\"infrastructur\" + 0.023*\"health\" + '\n",
            "  '0.022*\"natur\" + 0.020*\"disast\"'),\n",
            " (4,\n",
            "  '0.036*\"support\" + 0.030*\"technolog\" + 0.026*\"capac\" + 0.023*\"build\" + '\n",
            "  '0.022*\"intern\" + 0.022*\"institut\" + 0.021*\"govern\" + 0.021*\"financ\" + '\n",
            "  '0.019*\"financi\" + 0.019*\"fund\"'),\n",
            " (5,\n",
            "  '0.067*\"countri\" + 0.037*\"econom\" + 0.036*\"develop\" + 0.025*\"growth\" + '\n",
            "  '0.024*\"economi\" + 0.020*\"popul\" + 0.018*\"low\" + 0.016*\"limit\" + '\n",
            "  '0.016*\"social\" + 0.014*\"challeng\"'),\n",
            " (6,\n",
            "  '0.075*\"mitig\" + 0.069*\"implement\" + 0.059*\"sector\" + 0.054*\"measur\" + '\n",
            "  '0.045*\"action\" + 0.027*\"requir\" + 0.020*\"identifi\" + 0.020*\"cost\" + '\n",
            "  '0.020*\"adapt\" + 0.019*\"achiev\"'),\n",
            " (7,\n",
            "  '0.138*\"emiss\" + 0.051*\"ghg\" + 0.047*\"reduct\" + 0.026*\"ga\" + '\n",
            "  '0.025*\"greenhous\" + 0.023*\"estim\" + 0.022*\"target\" + 0.022*\"year\" + '\n",
            "  '0.021*\"carbon\" + 0.019*\"total\"'),\n",
            " (8,\n",
            "  '0.229*\"climat\" + 0.177*\"chang\" + 0.098*\"adapt\" + 0.038*\"vulner\" + '\n",
            "  '0.038*\"impact\" + 0.030*\"resili\" + 0.028*\"commun\" + 0.020*\"address\" + '\n",
            "  '0.019*\"risk\" + 0.018*\"effect\"'),\n",
            " (9,\n",
            "  '0.051*\"contribut\" + 0.046*\"nation\" + 0.044*\"ndc\" + 0.025*\"commit\" + '\n",
            "  '0.022*\"agreement\" + 0.021*\"determin\" + 0.020*\"indc\" + 0.019*\"unfccc\" + '\n",
            "  '0.016*\"parti\" + 0.016*\"pari\"'),\n",
            " (10,\n",
            "  '0.106*\"nation\" + 0.106*\"develop\" + 0.087*\"plan\" + 0.057*\"polici\" + '\n",
            "  '0.045*\"strategi\" + 0.026*\"action\" + 0.024*\"process\" + 0.020*\"sustain\" + '\n",
            "  '0.019*\"govern\" + 0.016*\"implement\"'),\n",
            " (11,\n",
            "  '0.046*\"increas\" + 0.017*\"temperatur\" + 0.016*\"flood\" + 0.015*\"year\" + '\n",
            "  '0.014*\"due\" + 0.013*\"drought\" + 0.013*\"island\" + 0.013*\"rise\" + '\n",
            "  '0.013*\"result\" + 0.013*\"loss\"')]\n"
          ],
          "name": "stdout"
        }
      ]
    },
    {
      "cell_type": "code",
      "metadata": {
        "colab": {
          "base_uri": "https://localhost:8080/",
          "height": 965
        },
        "id": "AvlbWoq-jmDF",
        "outputId": "5a4bb8f9-5ecb-4d5d-9103-f1bfda05e26c"
      },
      "source": [
        "optimal_model = convertldaGenToldaMallet(optimal_model)\n",
        "\n",
        "pyLDAvis.enable_notebook()\n",
        "vis = pyLDAvis.gensim.prepare(optimal_model, corpus, id2word)\n",
        "vis"
      ],
      "execution_count": 54,
      "outputs": [
        {
          "output_type": "stream",
          "text": [
            "/usr/local/lib/python3.7/dist-packages/pyLDAvis/_prepare.py:236: RuntimeWarning: divide by zero encountered in log\n",
            "  log_1 = np.log(pd.eval(\"(topic_given_term.T / topic_proportion)\"))\n",
            "/usr/local/lib/python3.7/dist-packages/pyLDAvis/_prepare.py:259: RuntimeWarning: divide by zero encountered in log\n",
            "  log_lift = np.log(pd.eval(\"topic_term_dists / term_proportion\")).astype(\"float64\")\n",
            "/usr/local/lib/python3.7/dist-packages/pyLDAvis/_prepare.py:260: RuntimeWarning: divide by zero encountered in log\n",
            "  log_ttd = np.log(topic_term_dists).astype(\"float64\")\n"
          ],
          "name": "stderr"
        },
        {
          "output_type": "execute_result",
          "data": {
            "text/html": [
              "\n",
              "<link rel=\"stylesheet\" type=\"text/css\" href=\"https://cdn.jsdelivr.net/gh/bmabey/pyLDAvis/pyLDAvis/js/ldavis.v1.0.0.css\">\n",
              "\n",
              "\n",
              "<div id=\"ldavis_el62140321289447760243993732\"></div>\n",
              "<script type=\"text/javascript\">\n",
              "\n",
              "var ldavis_el62140321289447760243993732_data = {\"mdsDat\": {\"x\": [-0.18535332760277337, -0.007173635986170602, 0.15647319815523436, 0.2556287249594966, 0.014479225546457145, -0.07406175717183808, 0.15103473942651058, 0.21728124741731222, -0.20822309571910336, -0.13332104154391125, -0.2266702495128885, 0.039905972031673766], \"y\": [0.21086324201797116, 0.12791349554590198, -0.1811009468114201, -0.08668920149105687, -0.07807773137907595, 0.2579320997971736, -0.0031680825808624077, 0.12615588693201696, -0.1082119590677547, -0.254642300402004, -0.10412270341809865, 0.09314820085720907], \"topics\": [1, 2, 3, 4, 5, 6, 7, 8, 9, 10, 11, 12], \"cluster\": [1, 1, 1, 1, 1, 1, 1, 1, 1, 1, 1, 1], \"Freq\": [8.993086843717144, 8.749079474200181, 8.607582332379963, 8.52293318933457, 8.459341892614333, 8.441571512019872, 8.259992151739432, 8.243989355318767, 8.158179053250828, 7.981163757449217, 7.8779915798033135, 7.7050888581723775]}, \"tinfo\": {\"Term\": [\"climat\", \"chang\", \"emiss\", \"nation\", \"energi\", \"develop\", \"adapt\", \"plan\", \"mitig\", \"countri\", \"implement\", \"project\", \"water\", \"agricultur\", \"sector\", \"polici\", \"measur\", \"action\", \"ghg\", \"manag\", \"reduct\", \"contribut\", \"forest\", \"strategi\", \"increas\", \"ndc\", \"resourc\", \"land\", \"product\", \"vulner\", \"africa\", \"affect\", \"ccvi\", \"cyclon\", \"desertif\", \"drought\", \"errat\", \"event\", \"flash\", \"glacial\", \"glof\", \"lake\", \"melt\", \"monsoon\", \"month\", \"outburst\", \"pattern\", \"precipit\", \"properti\", \"rainfal\", \"season\", \"storm\", \"tempor\", \"waterstress\", \"wave\", \"winter\", \"north\", \"rain\", \"unremit\", \"fall\", \"temperatur\", \"island\", \"rise\", \"loss\", \"extrem\", \"flood\", \"sea_level\", \"damag\", \"caus\", \"higher\", \"central\", \"km\", \"locat\", \"decad\", \"ocean\", \"zone\", \"tropic\", \"south\", \"highest\", \"observ\", \"predict\", \"due\", \"declin\", \"increas\", \"averag\", \"annual\", \"decreas\", \"weather\", \"region\", \"result\", \"high\", \"sever\", \"year\", \"impact\", \"coastal\", \"popul\", \"countri\", \"period\", \"million\", \"area\", \"situat\", \"balanc\", \"challeng\", \"inequ\", \"impos\", \"zimbabw\", \"imper\", \"colombia\", \"real\", \"drive\", \"todai\", \"development\", \"singapor\", \"syrian\", \"goj\", \"moreov\", \"extra\", \"pakistan\", \"furthermor\", \"endur\", \"economi\", \"stand\", \"limit\", \"plai\", \"yemen\", \"sell\", \"substanti\", \"econom\", \"social\", \"afghanistan\", \"growth\", \"low\", \"poverti\", \"women\", \"jordan\", \"incom\", \"thu\", \"world\", \"statu\", \"swaziland\", \"move\", \"nigeria\", \"acceler\", \"indonesia\", \"basic\", \"nauru\", \"despit\", \"countri\", \"continu\", \"equal\", \"opportun\", \"face\", \"signific\", \"popul\", \"make\", \"peopl\", \"rate\", \"depend\", \"current\", \"import\", \"howev\", \"develop\", \"alreadi\", \"futur\", \"global\", \"therefor\", \"sustain\", \"effort\", \"high\", \"level\", \"alloc\", \"financ\", \"concession\", \"partnership\", \"sought\", \"execut\", \"staff\", \"donor\", \"nonconvent\", \"bilater\", \"commonwealth\", \"mandat\", \"council\", \"instanc\", \"curriculum\", \"insight\", \"catalyz\", \"est\", \"minagri\", \"rab\", \"religi\", \"outreach\", \"nonform\", \"suprem\", \"snrcc\", \"counterpart\", \"mayor\", \"climaterelev\", \"unredd\", \"fiduciari\", \"institut\", \"financi\", \"fund\", \"ministri\", \"technic\", \"mechan\", \"privat\", \"research\", \"transfer\", \"educ\", \"coordin\", \"market\", \"budget\", \"societi\", \"agenc\", \"depart\", \"engag\", \"assist\", \"train\", \"innov\", \"partner\", \"committe\", \"collabor\", \"expert\", \"gambia\", \"administr\", \"barrier\", \"civil\", \"author\", \"awar\", \"extern\", \"technolog\", \"support\", \"public\", \"build\", \"capac\", \"intern\", \"environ\", \"govern\", \"green\", \"work\", \"stakehold\", \"invest\", \"establish\", \"level\", \"develop\", \"local\", \"implement\", \"agenda\", \"cabo\", \"verd\", \"scotland\", \"scottish\", \"strateg\", \"vision\", \"polici\", \"sectorspecif\", \"plan\", \"align\", \"articul\", \"coher\", \"approv\", \"kato\", \"moco\", \"roadmap\", \"freedom\", \"law\", \"sectori\", \"xvi\", \"launch\", \"ministeri\", \"nigeran\", \"pde\", \"sddci\", \"lecrd\", \"page\", \"welsh\", \"guid\", \"strategi\", \"nap\", \"longterm\", \"moldova\", \"draft\", \"formul\", \"myanmar\", \"subnat\", \"comprehens\", \"cca\", \"inclus\", \"master_plan\", \"participatori\", \"cambodia\", \"elabor\", \"liberia\", \"legisl\", \"document\", \"transform\", \"nation\", \"aim\", \"develop\", \"process\", \"programm\", \"instrument\", \"framework\", \"govern\", \"sustain\", \"action\", \"prioriti\", \"program\", \"ensur\", \"goal\", \"environment\", \"integr\", \"prepar\", \"implement\", \"kei\", \"initi\", \"provid\", \"sector\", \"vulner\", \"women_men\", \"moresbi\", \"firmli\", \"apprais\", \"geffund\", \"unabl\", \"climaterel\", \"respond\", \"promulg\", \"concern\", \"usm_pgk\", \"catastroph\", \"unfold\", \"azerbaijan\", \"pr\", \"napa\", \"philosophi\", \"harm\", \"sprcc\", \"ncsa\", \"induc\", \"ccap\", \"streamlin\", \"abil\", \"felt\", \"unavoid\", \"segment\", \"lankan\", \"nonclimat\", \"climat\", \"chang\", \"address\", \"advers\", \"sudan\", \"sri_lanka\", \"combat\", \"benin\", \"immedi\", \"cope\", \"guinea\", \"children\", \"tackl\", \"urgent\", \"bear\", \"elderli\", \"viet_nam\", \"proof\", \"papua_new\", \"perspect\", \"deal\", \"resili\", \"adapt\", \"systemat\", \"impact\", \"effect\", \"respons\", \"risk\", \"commun\", \"gender\", \"issu\", \"prioriti\", \"relat\", \"focu\", \"kiribati\", \"capac\", \"region\", \"assess\", \"group\", \"knowledg\", \"state\", \"sever\", \"assum\", \"impli\", \"emiss\", \"guidelin\", \"oxid\", \"remov\", \"businessasusu\", \"per_cent\", \"beneath\", \"aggreg\", \"ghg\", \"gwp\", \"timehorizon\", \"pico\", \"emit\", \"greenhous\", \"bartica\", \"ar_gwp\", \"ch\", \"coeq\", \"exclud\", \"lulucf\", \"nghgi\", \"deform\", \"reduct\", \"per_capita\", \"count\", \"uncbd\", \"ggcoe\", \"ton\", \"ga\", \"compar\", \"inventori\", \"ipcc\", \"gase\", \"bau\", \"sink\", \"net\", \"bau_scenario\", \"dioxid\", \"anthropogen\", \"base_year\", \"methan\", \"tonn\", \"eq\", \"tcoe\", \"gg_co\", \"equival\", \"avoid\", \"total\", \"estim\", \"scenario\", \"carbon\", \"amount\", \"account\", \"million\", \"year\", \"target\", \"baselin\", \"potenti\", \"reduc\", \"uncondit\", \"sector\", \"global\", \"condit\", \"accord\", \"level\", \"period\", \"contribut\", \"compon\", \"detail\", \"mitig\", \"section\", \"usd\", \"requir\", \"gpglulucf\", \"overview\", \"propos\", \"scope\", \"defin\", \"iiii\", \"iiiii\", \"nonrefund\", \"specif\", \"option\", \"successfulli\", \"tabl\", \"nama\", \"decarbonis\", \"cobenefit\", \"pncc\", \"sfslm\", \"marketbas\", \"summaris\", \"us_billion\", \"prioritis\", \"vest\", \"madagascar\", \"cohen\", \"measur\", \"mention\", \"synergi\", \"lao_pdr\", \"forward\", \"usd_billion\", \"order\", \"neutral\", \"list\", \"ghana\", \"specifi\", \"summar\", \"short_medium\", \"south_africa\", \"bangladesh\", \"identifi\", \"cost\", \"implement\", \"addit\", \"action\", \"exampl\", \"sector\", \"achiev\", \"indc\", \"condit\", \"evalu\", \"initi\", \"invest\", \"follow\", \"relat\", \"includ\", \"provid\", \"support\", \"adapt\", \"activ\", \"contribut\", \"target\", \"exist\", \"intern\", \"intend\", \"determin\", \"ndc\", \"agreement\", \"fsm\", \"kyoto_protocol\", \"parti\", \"unfccc\", \"bind\", \"complianc\", \"nonpunit\", \"transpar\", \"viv\", \"ambiti\", \"circumst\", \"clearer\", \"jointli\", \"submiss\", \"call\", \"agre\", \"bei\", \"decis\", \"confirm\", \"cop\", \"ultim\", \"unit\", \"northern_ireland\", \"internation\", \"date\", \"carbonneutr\", \"commit\", \"updat\", \"pari\", \"convent\", \"articl\", \"ambit\", \"submit\", \"uk\", \"fair\", \"act\", \"paragraph\", \"feder\", \"principl\", \"common\", \"chile\", \"cp\", \"decemb\", \"understand\", \"contribut\", \"republ\", \"state\", \"object\", \"indc\", \"line\", \"nation\", \"global\", \"set\", \"effort\", \"achiev\", \"accord\", \"target\", \"framework\", \"commun\", \"goal\", \"effici\", \"engin\", \"liquid\", \"fuel\", \"electr\", \"grid\", \"hydro\", \"micro\", \"offgrid\", \"fleet\", \"road\", \"transport\", \"bagass\", \"cogener\", \"mill\", \"mw\", \"sugar\", \"incent\", \"bicycl\", \"bridg\", \"railwai\", \"fossil_fuel\", \"intermitt\", \"mix\", \"oil\", \"toe\", \"run\", \"consumpt\", \"demand\", \"demand_side\", \"energi\", \"renew\", \"wast\", \"gener\", \"power\", \"solar\", \"vehicl\", \"uae\", \"standard\", \"solid\", \"commerci\", \"equip\", \"diesel\", \"save\", \"landfil\", \"replac\", \"residenti\", \"connect\", \"instal\", \"clean\", \"price\", \"industri\", \"util\", \"sourc\", \"rmi\", \"plant\", \"reduc\", \"sector\", \"technolog\", \"improv\", \"import\", \"system\", \"increas\", \"disast\", \"hotspot\", \"watersh\", \"secur\", \"reconstruct\", \"rehabilit\", \"water\", \"biodivers\", \"divers\", \"earli\", \"township\", \"vi\", \"vii\", \"viii\", \"human\", \"airport\", \"pipe\", \"runwai\", \"sidewalk\", \"health\", \"link\", \"sanit\", \"urban\", \"critic\", \"areabas\", \"mangrov\", \"reservoir\", \"restor\", \"upstream\", \"ecosystem\", \"servic\", \"protect\", \"qualiti\", \"prevent\", \"marin\", \"warn\", \"settlement\", \"code\", \"niue\", \"dam\", \"cultur\", \"map\", \"wastewat\", \"groundwat\", \"hous\", \"tourism\", \"infrastructur\", \"manag\", \"resourc\", \"strengthen\", \"natur\", \"system\", \"improv\", \"enhanc\", \"integr\", \"promot\", \"sustain\", \"area\", \"risk\", \"local\", \"build\", \"coastal\", \"environment\", \"cash\", \"yield\", \"forestri\", \"good\", \"land\", \"product\", \"wood\", \"fed\", \"stem\", \"trial\", \"crop\", \"fertil\", \"fodder\", \"seed\", \"agrarian\", \"farm\", \"guyana\", \"supplier\", \"coverag\", \"forest\", \"hectar\", \"ha\", \"irrig\", \"rice\", \"soil\", \"nontradit\", \"tradit\", \"sectorth\", \"vast\", \"partial\", \"agricultur\", \"rural\", \"degrad\", \"livestock\", \"practic\", \"deforest\", \"surinam\", \"speci\", \"fish\", \"redd\", \"tree\", \"export\", \"sequestr\", \"stock\", \"techniqu\", \"somalia\", \"landus\", \"cover\", \"area\", \"food\", \"sector\", \"promot\", \"reduc\", \"activ\", \"includ\", \"increas\", \"carbon\", \"natur\", \"produc\", \"manag\", \"default\", \"insuffici\", \"notif\", \"circul\", \"proxi\", \"virtual\", \"softwar\", \"adm\", \"ce\", \"check\", \"sp\", \"regress\", \"metadata\", \"oum\", \"lineal\", \"policymak\", \"shield\", \"ssp\", \"lcsttp\", \"imihigo\", \"span\", \"sei\", \"multimodel\", \"pp\", \"situ\", \"mca\", \"opinion\", \"mxico\", \"nacion\", \"disaggreg\", \"project\", \"report\", \"data\", \"base\", \"indic\", \"approach\", \"refer\", \"methodolog\", \"model\", \"studi\", \"collect\", \"analysi\", \"appli\", \"recommend\", \"quantifi\", \"forecast\", \"categori\", \"assumpt\", \"mrv\", \"method\", \"point\", \"rcp\", \"uncertainti\", \"track\", \"individu\", \"de\", \"start\", \"suffici\", \"robust\", \"criteria\", \"rwanda\", \"monitor\", \"statist\", \"avail\", \"undertaken\", \"inform\", \"carri\", \"assess\", \"conduct\", \"appropri\", \"progress\", \"includ\", \"valu\", \"made\", \"futur\", \"applic\", \"level\", \"result\", \"relev\", \"period\", \"current\", \"regard\", \"system\"], \"Freq\": [7028.0, 5442.0, 4232.0, 4662.0, 3326.0, 4828.0, 3598.0, 2682.0, 2243.0, 2453.0, 2855.0, 1872.0, 1861.0, 1764.0, 3987.0, 1758.0, 1612.0, 2153.0, 1572.0, 1741.0, 1444.0, 2045.0, 1356.0, 1393.0, 2039.0, 1316.0, 1544.0, 1181.0, 1148.0, 1175.0, 65.61229525400663, 391.55723900609166, 3.174788564307717, 112.17585864716163, 62.43750787721222, 438.12080239924666, 7.407840062552227, 319.59537659858137, 38.09746372170325, 11.640890848288752, 4.233051260741848, 42.33051355742913, 7.407840062552227, 16.932205042967393, 29.631360250208907, 4.233051260741848, 134.39937408476507, 122.7584908365615, 33.864410085934786, 364.0424074737883, 119.5836996597245, 140.74895643843908, 10.582628389357282, 3.174788564307717, 53.97140440571788, 24.340046055530266, 87.83581829169525, 66.67056151298068, 1.058262815185462, 38.09746372170325, 547.1218622694862, 434.9460340226652, 429.6547027277949, 415.89730216181357, 373.5667734042141, 519.6070611375235, 291.02227880730396, 282.5561791358522, 247.63349899090076, 200.01166933877172, 195.77861950304583, 156.62290472253886, 149.21505610989084, 143.9237400151909, 135.45764034373914, 126.99154067228739, 114.29238356502458, 107.94280881143575, 99.476709139984, 96.301917963147, 96.301917963147, 461.4025992959945, 123.81674949545038, 1506.966288724545, 303.7214435146519, 284.6727116538003, 223.29346623551956, 172.49683780646833, 391.55723900609166, 419.07207053839505, 343.9354093539626, 252.9248150856007, 504.7913639122274, 332.2945413059294, 210.59430152817157, 252.9248150856007, 317.4788440806333, 226.46824981227138, 221.17693371757144, 212.7108340461197, 109.83545544817828, 108.7586412444026, 454.41727979656304, 41.99590921860129, 29.07409256158189, 46.303184518388505, 29.07409256158189, 46.303184518388505, 82.9150042334269, 46.303184518388505, 54.91772772408914, 39.84227341717613, 157.21546526115316, 29.07409256158189, 8.614545978403308, 57.0713672224512, 7.537727615573617, 101.22091224247765, 96.91364063962733, 4.307272989201654, 753.7727818905147, 45.22636661767593, 517.9495544232898, 101.22091224247765, 81.83818263577743, 11.845000604775272, 114.1427344449024, 1184.500001326537, 503.95094019871067, 57.0713672224512, 801.1527843096158, 558.8686716197367, 305.8163873166057, 152.90819365830285, 141.06319305352758, 134.6022782553783, 204.59546768025425, 262.7436417126073, 99.06727644105248, 91.52954743912754, 89.37591163770237, 88.29909743392669, 86.14545423862775, 86.14545423862775, 81.83818263577743, 80.76136843200175, 130.29500665252797, 2136.407424825642, 441.4954797757597, 109.83545544817828, 236.90001209550545, 213.2100108859549, 372.5791045546594, 638.553218454089, 337.0441175280812, 287.51045712593356, 293.97137192408286, 259.5131991012803, 423.18954958508755, 348.8891033451089, 249.82184169180397, 1129.582329056501, 228.2854688898048, 281.0495423277843, 363.9645613489588, 193.82728127925466, 295.0481861278585, 231.51591150113185, 212.1331966821792, 214.28682508973057, 78.55859393382907, 643.7724114540753, 20.40482966405587, 134.6718732367658, 20.40482966405587, 67.3359366183829, 40.80965932811174, 78.55859393382907, 5.101207416013968, 67.3359366183829, 10.202414832027936, 40.80965932811174, 90.80149282340672, 33.66796830919145, 10.202414832027936, 10.202414832027936, 5.101207416013968, 10.202414832027936, 5.101207416013968, 5.101207416013968, 5.101207416013968, 10.202414832027936, 5.101207416013968, 5.101207416013968, 5.101207416013968, 5.101207416013968, 5.101207416013968, 5.101207416013968, 10.202414832027936, 5.101207416013968, 672.33914643258, 586.638883302713, 580.5174193093359, 566.2340227229071, 469.3110950032998, 428.501432038041, 369.32743528700394, 349.9428381042119, 340.7606712113228, 267.3032778738569, 353.00357010090045, 256.0806132841166, 250.9794126877534, 240.77699694643871, 235.67578180148723, 214.2507160190205, 170.3803356056614, 253.0198812874281, 161.19815416418405, 160.1779198643467, 159.1576710159211, 154.05647041955788, 105.0848748612473, 103.04439171298436, 91.8217343975382, 86.72052652688085, 83.65980180448643, 143.85405467824316, 165.27912046070992, 223.4328829119096, 123.44922319561377, 940.6626586062742, 1122.2656442530877, 509.10049457154474, 708.0476088014756, 827.4158657005635, 695.8046808147215, 458.0884304135595, 659.076013243165, 296.89027624937546, 300.9712425459013, 275.46521046690873, 450.9467321203451, 367.2869375901528, 349.9428381042119, 407.0763662555742, 265.26278017700577, 285.66761165963516, 107.58051356948863, 100.33951725607814, 100.33951725607814, 43.44597788046295, 12.413136665895786, 312.3972798110767, 273.08901205177494, 1758.5277378518924, 31.03284031422255, 2682.271857329319, 142.75106400487235, 47.583691603002556, 37.239409097342744, 174.81834265352052, 1.0344280930056742, 2.0688561860113484, 75.51324932635423, 4.137712372022697, 235.84959215029687, 108.61494470115736, 1.0344280930056742, 70.34110807352432, 12.413136665895786, 2.0688561860113484, 1.0344280930056742, 3.1032841664739466, 6.206568332947893, 15.516420157111275, 18.619704548671372, 140.68221614704865, 1392.3401544381518, 185.16262515918032, 259.64143615110896, 226.5397407763058, 140.68221614704865, 130.33793364138884, 121.02808226739775, 101.37394838774686, 177.92162164301294, 89.99524195317521, 162.40519788452323, 81.71981450809598, 76.54767325526608, 72.40996313410491, 62.0656806284451, 58.96239803757422, 113.78708595398726, 313.43171094274544, 106.54608964057678, 3291.5499499764414, 317.56940665839284, 3291.5499499764414, 753.063616594691, 494.4565827642233, 154.12977764220088, 500.6631695542357, 586.5207229945204, 614.4502483054661, 797.5440400123365, 405.49579355098746, 308.25955528440176, 308.25955528440176, 315.5005443950554, 299.98413504207946, 282.398863425766, 220.33316839180716, 504.80089408091067, 238.95288554530308, 216.195458270646, 236.8840232819656, 197.57575552266383, 1175.8336101431387, 42.25817482547233, 26.41135747866629, 5.282271853184041, 6.338726134458154, 3.169363067229077, 9.50808897828049, 75.00825888541026, 150.0165177708205, 12.677452268916308, 179.59722871022606, 9.50808897828049, 22.185540353569838, 3.169363067229077, 12.677452268916308, 5.282271853184041, 137.33906818278507, 3.169363067229077, 25.354904537832617, 3.169363067229077, 13.73390610337694, 42.25817482547233, 6.338726134458154, 11.620997540828716, 83.45988956109531, 13.73390610337694, 13.73390610337694, 21.129087412736165, 3.169363067229077, 3.169363067229077, 7028.590566106493, 5441.796418826302, 608.5176946099514, 218.6860447131974, 98.25025217981377, 87.68570847344569, 80.2905307385943, 69.72598703222621, 64.44371517904217, 55.992080928849276, 158.46815559552124, 34.86299351611311, 32.750084059937926, 85.57280259177834, 26.41135747866629, 25.354904537832617, 120.4357925333836, 20.072632684648575, 91.91152738579605, 61.274349207525475, 48.596899619490046, 907.4942772107588, 3008.7818645588286, 53.87917147267409, 1151.5351925039643, 557.8078962578097, 432.0898247222264, 591.6144475566126, 847.2763451989886, 151.0729707116542, 230.30704136039913, 397.22682048258974, 319.04921707270984, 137.33906818278507, 106.70189000451451, 295.8072237783063, 192.27469259629285, 198.61341024129487, 128.88743035808434, 113.04061479853222, 116.20997362103324, 106.70189000451451, 140.92184079724757, 26.5504910982135, 4232.760969124638, 291.0342398410102, 66.37622863728349, 260.39905519795695, 69.43974567478924, 154.1970836711051, 1.0211727173976397, 42.88925279307627, 1572.6060498900958, 79.65147151114103, 5.105863809925633, 2.0423454347952794, 70.46092039862378, 752.6043018624953, 1.0211727173976397, 8.169381739181118, 128.66775837922881, 76.58795447363528, 62.291536875943194, 181.76874414265475, 33.69869811356008, 1.0211727173976397, 1444.9594234307142, 217.50978813688496, 33.69869811356008, 1.0211727173976397, 28.592836978883646, 129.68893310306333, 782.2183260497097, 407.44793007021605, 483.0146884180231, 468.71827082033104, 237.93323980958854, 207.29806943453104, 181.76874414265475, 167.47232654496264, 140.92184079724757, 132.75245727456698, 125.60424847572092, 123.56189902805184, 117.43486495304033, 103.13844735534825, 95.9902385565022, 94.96906383266766, 90.88437207132738, 163.38764191762024, 123.56189902805184, 593.3013303042217, 690.3127435845585, 507.52282471806916, 644.3599808879743, 205.25571998686195, 469.73945981216133, 436.0407652656002, 666.8257962763428, 669.8893061798506, 178.7052199711511, 308.3941673422102, 460.54890156564625, 196.06516174034684, 553.4756444866363, 259.37786620612667, 232.8273804584116, 218.5309628607195, 236.91206508575402, 209.34040461420437, 209.34040461420437, 266.8602169025586, 190.00446270730677, 2243.760584209789, 173.99285248537112, 150.50915563172023, 799.5132137491705, 1.067440885061596, 23.483698598787033, 398.15543747573815, 86.46270776343293, 187.86958879029626, 5.3372039890239416, 6.4046448740855375, 2.134881770123192, 414.16704769767387, 317.0299214853761, 32.02322393414365, 288.20903983919897, 98.20455619025837, 25.61857949634215, 195.3416754220115, 7.4720857591471335, 12.809289748171075, 13.876731069516708, 26.68602169025586, 89.6650326000379, 57.641805175621954, 1.067440885061596, 16.011611967071826, 1.067440885061596, 1611.835671000404, 103.54176192441847, 99.27200012930822, 65.11389180733715, 60.84413001222693, 58.70924911467181, 478.21348858541654, 53.37204338051172, 119.55337214635414, 48.034837646351626, 30.95578348536609, 29.888343036588534, 28.820902587810977, 73.65341539755762, 78.99062113171772, 590.2947880611447, 589.227323180461, 2065.4980257736647, 540.1250555561487, 1355.6499074494334, 170.79052764876613, 1782.6261428048135, 576.4180796783979, 574.2831499170306, 378.9414884561083, 194.27423846350624, 266.8602169025586, 374.67174062208727, 298.88343734642996, 287.1415749585153, 564.6761893683049, 341.58105529753226, 419.5042604123785, 589.227323180461, 317.0299214853761, 308.49039789515564, 242.30908309040245, 212.4207226024524, 228.43233282438808, 422.5172210441966, 620.3133044042245, 1316.2240214181954, 671.0567907029829, 16.569302786046926, 74.56186253721117, 491.9011938783196, 570.6053960460837, 40.387675540989385, 47.63674550988492, 1.0355814241279329, 197.79605549194548, 1.0355814241279329, 305.4965236012505, 220.5788398557394, 4.142325696511731, 39.35209411686145, 75.5974474448494, 61.099307507058334, 89.06000247500224, 3.1067442723837986, 360.38234953056184, 33.13860557209385, 135.6611700442695, 49.70790835814078, 457.72698249752574, 30.031861299710055, 51.779071206396644, 103.55814241279329, 4.142325696511731, 743.5474694908764, 484.65209255783145, 484.65209255783145, 442.19328552017885, 317.9235146248269, 227.82791330814524, 225.75675742690996, 223.6855876116335, 202.97395912907484, 199.86721137318077, 180.19117476528092, 131.51884434775778, 122.19861501411667, 113.91395665407262, 105.62930526104915, 183.29790858713383, 99.41581671628155, 166.7286058010869, 1521.2691224944645, 390.4141934127204, 383.1651199603146, 434.94421206777304, 594.423744416454, 247.50396385008625, 1371.109875215589, 461.8693221280787, 317.9235146248269, 353.13327607815603, 405.9479182581497, 303.42536772001523, 404.9123403175321, 302.3897897793976, 324.13698226853273, 268.2155783986037, 855.9596539979506, 49.56099348876229, 15.487811111597782, 303.5610915822647, 803.3011020788448, 149.7155045394027, 61.95124444639113, 17.552852363327418, 49.56099348876229, 29.943101597330745, 163.13827267564534, 810.5287464598986, 5.162603560230468, 15.487811111597782, 10.325207120460936, 201.34153583264361, 13.42276899805539, 80.53661571195785, 7.227644811960104, 24.780496744381146, 41.300828481843745, 171.3984376825639, 7.227644811960104, 103.25206948098385, 172.4309583084287, 7.227644811960104, 41.300828481843745, 284.97572031669796, 320.0814215961018, 12.390248372190573, 3326.7816771605094, 753.7401120373336, 759.9352357925225, 896.2279584066785, 540.0083424833163, 325.2440247254259, 259.1627046700775, 165.20331392737498, 246.7724571596997, 137.3252570290249, 121.83744764105262, 117.70736513759336, 107.38215198444313, 101.18702822925422, 97.05694572579495, 96.02442509993013, 92.92686322233567, 88.7967807188764, 166.2358345532398, 189.98380894813062, 151.78054579113234, 639.1303225663388, 155.91062829459162, 558.5937137488829, 203.40657708437325, 277.74807593564424, 485.28474931248087, 506.96768245564203, 270.5204315545905, 224.0569896016696, 200.3090152067788, 196.17893270331953, 170.3659170566991, 573.0632290428395, 11.782608624111992, 66.41106495092963, 455.237169781343, 23.565217248223984, 164.9565207375679, 1861.6520816708244, 256.0039546938365, 113.54150619228348, 168.16995577419524, 3.2134388306368935, 23.565217248223984, 18.209485442272545, 8.569170215031717, 445.5968376918375, 25.707510645095148, 5.355731384394823, 2.142292553757929, 1.0711462768789646, 670.5375330723627, 146.74704204020122, 99.61660079884739, 312.7746943001665, 158.5296506643132, 1.0711462768789646, 89.97628219915362, 37.49011926920714, 168.16995577419524, 9.640316070354064, 441.31225764300103, 403.8221282564351, 698.3873573490466, 237.79446250665808, 221.72727383370963, 221.72727383370963, 126.39525982860458, 110.32806441075026, 110.32806441075026, 98.54545578663827, 88.9051371869445, 86.76284716252627, 82.47826036878395, 72.83794176909018, 67.48220996313874, 139.2490134649257, 226.0118538825461, 675.8932581334083, 1481.3952246218603, 1272.5217853633421, 450.95256275288307, 634.1186026572528, 904.0474155301844, 748.731226882122, 431.67192555349556, 364.1897358250744, 317.0593013286264, 388.8260980855075, 393.11067813434397, 314.9169843245847, 246.363622604331, 300.99209916586625, 228.15415739677607, 249.57708462058181, 16.479809702820152, 73.60981811510155, 585.5825500245603, 180.17925230698603, 1181.0530314761588, 1148.0934020839463, 127.44386658413333, 7.690577639392246, 16.479809702820152, 8.789232063427907, 330.69484348715264, 97.78020545731394, 16.479809702820152, 27.466348949890694, 7.690577639392246, 164.79809369934415, 105.47078476113488, 2.1973080158569767, 93.38558776117131, 1356.8376860601463, 118.65463119184805, 183.47522057237907, 242.80251619515883, 78.00443581124419, 312.01774324497677, 4.394616031713953, 108.76674636881317, 1.0986540079284883, 19.775771310498445, 21.97308015856977, 1763.339639866185, 393.3181340061845, 312.01774324497677, 257.08501871433634, 372.4436949562209, 206.54694516841238, 171.39001691470074, 149.4169350917023, 140.6277130148465, 140.6277130148465, 139.52905692638217, 126.345210495669, 121.9505861418116, 102.17482315345659, 101.07616706499223, 99.9775109765279, 139.52905692638217, 396.6140756407185, 933.8559175580016, 320.80696532183254, 947.0396840961376, 316.4123409679751, 413.09389033682476, 320.80696532183254, 437.2642710213224, 359.2598485255077, 237.3092623836961, 235.1119502067674, 161.5021387493806, 260.3809869797294, 26.23758949874044, 52.47517899748088, 6.55939737468511, 26.23758949874044, 3.279698687342555, 12.025561582272946, 24.051123164545892, 3.279698687342555, 3.279698687342555, 12.025561582272946, 6.55939737468511, 3.279698687342555, 3.279698687342555, 3.279698687342555, 3.279698687342555, 13.11879474937022, 3.279698687342555, 6.55939737468511, 3.279698687342555, 3.279698687342555, 13.11879474937022, 3.279698687342555, 3.279698687342555, 12.025561582272946, 3.279698687342555, 3.279698687342555, 6.55939737468511, 3.279698687342555, 13.11879474937022, 12.025561582272946, 1872.7080098908955, 906.290026920382, 765.2630151086736, 932.527688046658, 494.1412808308676, 637.35478176735, 406.6826274630856, 367.32623995917794, 321.41046322007776, 303.91873254652137, 250.35032200984173, 314.8510739848853, 210.99394752912227, 176.01049920519776, 151.95936627326068, 137.7473432404888, 131.18794098210807, 200.0616191139466, 198.96838757474785, 116.97591794933618, 108.23005912415212, 101.6706568657714, 98.39096224817519, 98.39096224817519, 88.55186537219825, 83.08570116461043, 150.86613473406194, 74.33983582783223, 72.15337274943475, 71.06014121023601, 239.41800661785433, 553.1758620867291, 107.13682107335924, 494.1412808308676, 176.01049920519776, 711.6946306183705, 161.79846314923762, 553.1758620867291, 160.70523161003888, 267.8420526833981, 230.67212825788786, 963.1382232369758, 220.83303138191093, 219.73981286590046, 297.3593433113289, 192.40898531636714, 388.0976782735188, 282.05407571617, 233.95183589867236, 253.63002965062623, 262.37588196421615, 214.2736421467185, 214.2736421467185], \"Total\": [7028.0, 5442.0, 4232.0, 4662.0, 3326.0, 4828.0, 3598.0, 2682.0, 2243.0, 2453.0, 2855.0, 1872.0, 1861.0, 1764.0, 3987.0, 1758.0, 1612.0, 2153.0, 1572.0, 1741.0, 1444.0, 2045.0, 1356.0, 1393.0, 2039.0, 1316.0, 1544.0, 1181.0, 1148.0, 1175.0, 65.61229525400663, 391.55723900609166, 3.174788564307717, 112.17585864716163, 62.43750787721222, 438.12080239924666, 7.407840062552227, 319.59537659858137, 38.09746372170325, 11.640890848288752, 4.233051260741848, 42.33051355742913, 7.407840062552227, 16.932205042967393, 29.631360250208907, 4.233051260741848, 134.39937408476507, 122.7584908365615, 33.864410085934786, 364.0424074737883, 119.5836996597245, 140.74895643843908, 10.582628389357282, 3.174788564307717, 53.97140440571788, 24.340046055530266, 87.83581829169525, 66.67056151298068, 1.058262815185462, 38.09746372170325, 547.1218622694862, 434.9460340226652, 429.6547027277949, 415.89730216181357, 373.5667734042141, 521.7199697000717, 291.02227880730396, 282.5561791358522, 247.63349899090076, 200.01166933877172, 195.77861950304583, 156.62290472253886, 149.21505610989084, 143.9237400151909, 135.45764034373914, 126.99154067228739, 114.29238356502458, 107.94280881143575, 99.476709139984, 96.301917963147, 96.301917963147, 478.9066555577543, 124.8523309195783, 2039.6527788018245, 390.521123824639, 374.53590900129313, 273.3309313944408, 196.08956236418524, 630.7630403752851, 701.1261462545651, 556.0686060361418, 359.6267050901152, 1173.759452742328, 1484.862254543485, 438.7484589249476, 891.4780335396897, 2453.8862689062753, 689.4386840771019, 657.2176989831717, 1539.6774297384652, 109.83545544817828, 108.7586412444026, 454.41727979656304, 41.99590921860129, 29.07409256158189, 46.303184518388505, 29.07409256158189, 46.303184518388505, 82.9150042334269, 46.303184518388505, 54.91772772408914, 39.84227341717613, 157.21546526115316, 29.07409256158189, 8.614545978403308, 57.0713672224512, 7.537727615573617, 101.22091224247765, 96.91364063962733, 4.307272989201654, 753.7727818905147, 45.22636661767593, 517.9495544232898, 101.22091224247765, 81.83818263577743, 11.845000604775272, 114.1427344449024, 1184.500001326537, 503.95094019871067, 57.0713672224512, 803.3392500333483, 561.9719557862106, 305.8163873166057, 152.90819365830285, 141.06319305352758, 134.6022782553783, 205.66661395713322, 264.88593426636527, 99.06727644105248, 91.52954743912754, 89.37591163770237, 88.29909743392669, 86.14545423862775, 86.14545423862775, 81.83818263577743, 80.76136843200175, 131.32943474553366, 2453.8862689062753, 490.69096089984725, 111.87593836911952, 271.58822197882836, 241.78310677721103, 469.9392887767805, 891.4780335396897, 428.87567751787566, 378.5210589943806, 395.5646059819298, 346.30686364709504, 821.7219930508577, 639.2877447053806, 401.59480841874193, 4828.208645288517, 375.36410677437266, 578.4088856391132, 1085.2117496831643, 336.39323548125543, 1402.6966611915025, 721.2816208671723, 556.0686060361418, 1440.1652552735645, 78.55859393382907, 643.7724114540753, 20.40482966405587, 134.6718732367658, 20.40482966405587, 67.3359366183829, 40.80965932811174, 78.55859393382907, 5.101207416013968, 67.3359366183829, 10.202414832027936, 40.80965932811174, 90.80149282340672, 33.66796830919145, 10.202414832027936, 10.202414832027936, 5.101207416013968, 10.202414832027936, 5.101207416013968, 5.101207416013968, 5.101207416013968, 10.202414832027936, 5.101207416013968, 5.101207416013968, 5.101207416013968, 5.101207416013968, 5.101207416013968, 5.101207416013968, 10.202414832027936, 5.101207416013968, 672.33914643258, 586.638883302713, 580.5174193093359, 566.2340227229071, 469.3110950032998, 428.501432038041, 369.32743528700394, 349.9428381042119, 340.7606712113228, 267.3032778738569, 354.0391515250284, 256.0806132841166, 250.9794126877534, 240.77699694643871, 235.67578180148723, 214.2507160190205, 170.3803356056614, 254.0763355687022, 161.19815416418405, 160.1779198643467, 159.1576710159211, 154.05647041955788, 105.0848748612473, 103.04439171298436, 91.8217343975382, 86.72052652688085, 83.65980180448643, 144.91050895951727, 168.37668255375758, 239.2796984714617, 126.67011701235204, 1212.276323022731, 1541.7699046654661, 653.9058852100139, 1055.5031395785097, 1332.8097603837534, 1068.1828350764026, 659.6171156251121, 1245.5967362376855, 395.160938444873, 409.5289557876673, 362.3571662278346, 825.6184727424323, 595.2885327100795, 1440.1652552735645, 4828.208645288517, 511.62640278133676, 2855.9665315142106, 107.58051356948863, 100.33951725607814, 100.33951725607814, 43.44597788046295, 12.413136665895786, 312.3972798110767, 273.08901205177494, 1758.5277378518924, 31.03284031422255, 2682.271857329319, 142.75106400487235, 47.583691603002556, 37.239409097342744, 174.81834265352052, 1.0344280930056742, 2.0688561860113484, 75.51324932635423, 4.137712372022697, 235.84959215029687, 108.61494470115736, 1.0344280930056742, 70.34110807352432, 12.413136665895786, 2.0688561860113484, 1.0344280930056742, 3.1032841664739466, 6.206568332947893, 15.516420157111275, 18.619704548671372, 140.68221614704865, 1393.433387300018, 185.16262515918032, 260.6996989662944, 227.56091349370342, 140.68221614704865, 130.33793364138884, 121.02808226739775, 101.37394838774686, 178.95414237660435, 89.99524195317521, 163.44077930865117, 81.71981450809598, 76.54767325526608, 72.40996313410491, 62.0656806284451, 58.96239803757422, 114.84534876917272, 333.22306087665294, 108.68097141069997, 4662.65982519203, 364.30249641568236, 4828.208645288517, 960.1726343204971, 636.2701542942035, 168.62791757999193, 803.0529593336332, 1245.5967362376855, 1402.6966611915025, 2153.1939474617698, 802.7226140335772, 542.9151027860516, 544.7878485738783, 583.7161227936591, 727.2362287342903, 646.5885992508404, 389.1329440081705, 2855.9665315142106, 523.8655720043956, 483.0556751732046, 898.099645315072, 3987.684909365893, 1175.8336101431387, 42.25817482547233, 26.41135747866629, 5.282271853184041, 6.338726134458154, 3.169363067229077, 9.50808897828049, 75.00825888541026, 150.0165177708205, 12.677452268916308, 179.59722871022606, 9.50808897828049, 22.185540353569838, 3.169363067229077, 12.677452268916308, 5.282271853184041, 137.33906818278507, 3.169363067229077, 25.354904537832617, 3.169363067229077, 13.73390610337694, 42.25817482547233, 6.338726134458154, 11.620997540828716, 83.45988956109531, 13.73390610337694, 13.73390610337694, 21.129087412736165, 3.169363067229077, 3.169363067229077, 7028.590566106493, 5442.854681641487, 611.6924831742591, 219.7185654467888, 98.25025217981377, 87.68570847344569, 80.2905307385943, 69.72598703222621, 64.44371517904217, 55.992080928849276, 160.58468122589215, 34.86299351611311, 32.750084059937926, 86.59304405224897, 26.41135747866629, 25.354904537832617, 122.58942902798444, 20.072632684648575, 93.98269023405192, 62.30993063165341, 49.63248104361798, 1021.0357834030423, 3598.0091877392897, 55.99569710304501, 1484.862254543485, 744.1873442191834, 614.7130592174655, 906.5314318811972, 1379.211998525553, 195.55337612240743, 347.1306480037075, 802.7226140335772, 606.1907920312251, 205.59849039531315, 139.50803763151782, 1332.8097603837534, 630.7630403752851, 752.8475351432095, 302.3850673593091, 220.16597280804245, 499.37509358134787, 359.6267050901152, 140.92184079724757, 26.5504910982135, 4232.760969124638, 291.0342398410102, 66.37622863728349, 260.39905519795695, 69.43974567478924, 154.1970836711051, 1.0211727173976397, 42.88925279307627, 1572.6060498900958, 79.65147151114103, 5.105863809925633, 2.0423454347952794, 70.46092039862378, 752.6043018624953, 1.0211727173976397, 8.169381739181118, 128.66775837922881, 76.58795447363528, 62.291536875943194, 181.76874414265475, 33.69869811356008, 1.0211727173976397, 1444.9594234307142, 217.50978813688496, 33.69869811356008, 1.0211727173976397, 28.592836978883646, 129.68893310306333, 784.331234612258, 407.44793007021605, 484.0491165110288, 469.7765336355165, 237.93323980958854, 207.29806943453104, 181.76874414265475, 167.47232654496264, 140.92184079724757, 132.75245727456698, 125.60424847572092, 123.56189902805184, 117.43486495304033, 103.13844735534825, 95.9902385565022, 94.96906383266766, 90.88437207132738, 164.40788337809087, 124.59748045217977, 679.020623678054, 806.0213299734309, 638.6531155851064, 881.6692432716704, 227.56002232250202, 641.4671825325752, 657.2176989831717, 1173.759452742328, 1317.110729587785, 225.71423476104417, 632.969696390391, 1451.0461201834296, 271.8534580354596, 3987.684909365893, 1085.2117496831643, 682.6724802632264, 552.6459532898751, 1440.1652552735645, 689.4386840771019, 2045.6701644671466, 266.8602169025586, 190.00446270730677, 2243.760584209789, 173.99285248537112, 150.50915563172023, 799.5132137491705, 1.067440885061596, 23.483698598787033, 398.15543747573815, 86.46270776343293, 187.86958879029626, 5.3372039890239416, 6.4046448740855375, 2.134881770123192, 414.16704769767387, 317.0299214853761, 32.02322393414365, 288.20903983919897, 98.20455619025837, 25.61857949634215, 195.3416754220115, 7.4720857591471335, 12.809289748171075, 13.876731069516708, 26.68602169025586, 89.6650326000379, 57.641805175621954, 1.067440885061596, 16.011611967071826, 1.067440885061596, 1612.8559124608746, 103.54176192441847, 99.27200012930822, 65.11389180733715, 60.84413001222693, 58.70924911467181, 488.5693028266959, 53.37204338051172, 120.6245184232331, 48.034837646351626, 30.95578348536609, 29.888343036588534, 28.820902587810977, 74.68899682168555, 81.14425762631855, 667.2348883910522, 688.3493101579855, 2855.9665315142106, 732.3057419432664, 2153.1939474617698, 205.09924055751836, 3987.684909365893, 982.3659979365476, 1168.7068943334848, 682.6724802632264, 290.2499304453051, 483.0556751732046, 825.6184727424323, 595.5002041876521, 606.1907920312251, 2278.1874040467246, 898.099645315072, 1541.7699046654661, 3598.0091877392897, 901.3527933258031, 2045.6701644671466, 1317.110729587785, 465.61237657609695, 1068.1828350764026, 422.5172210441966, 620.3133044042245, 1316.2240214181954, 671.0567907029829, 16.569302786046926, 74.56186253721117, 491.9011938783196, 570.6053960460837, 40.387675540989385, 47.63674550988492, 1.0355814241279329, 197.79605549194548, 1.0355814241279329, 305.4965236012505, 220.5788398557394, 4.142325696511731, 39.35209411686145, 75.5974474448494, 61.099307507058334, 89.06000247500224, 3.1067442723837986, 360.38234953056184, 33.13860557209385, 135.6611700442695, 49.70790835814078, 457.72698249752574, 30.031861299710055, 51.779071206396644, 103.55814241279329, 4.142325696511731, 744.614910375938, 484.65209255783145, 484.65209255783145, 442.19328552017885, 317.9235146248269, 227.82791330814524, 225.75675742690996, 223.6855876116335, 202.97395912907484, 199.86721137318077, 180.19117476528092, 131.51884434775778, 122.19861501411667, 113.91395665407262, 105.62930526104915, 184.35436286840795, 99.41581671628155, 167.80542404838732, 2045.6701644671466, 509.37342061953757, 499.37509358134787, 661.7911134490935, 1168.7068943334848, 333.40554198131105, 4662.65982519203, 1085.2117496831643, 553.783984411021, 721.2816208671723, 982.3659979365476, 552.6459532898751, 1317.110729587785, 803.0529593336332, 1379.211998525553, 583.7161227936591, 855.9596539979506, 49.56099348876229, 15.487811111597782, 303.5610915822647, 803.3011020788448, 149.7155045394027, 61.95124444639113, 17.552852363327418, 49.56099348876229, 29.943101597330745, 163.13827267564534, 810.5287464598986, 5.162603560230468, 15.487811111597782, 10.325207120460936, 201.34153583264361, 13.42276899805539, 80.53661571195785, 7.227644811960104, 24.780496744381146, 41.300828481843745, 171.3984376825639, 7.227644811960104, 103.25206948098385, 172.4309583084287, 7.227644811960104, 41.300828481843745, 284.97572031669796, 320.0814215961018, 12.390248372190573, 3326.7816771605094, 753.7401120373336, 760.9934986077079, 899.4817207038095, 540.0083424833163, 325.2440247254259, 259.1627046700775, 165.20331392737498, 247.8436034365787, 137.3252570290249, 121.83744764105262, 117.70736513759336, 107.38215198444313, 101.18702822925422, 97.05694572579495, 96.02442509993013, 92.92686322233567, 88.7967807188764, 167.32906741510612, 192.13744544273143, 152.85736403843276, 696.2603326430489, 160.30524432630557, 704.9748083565878, 247.11947745317764, 435.9542464196318, 1451.0461201834296, 3987.684909365893, 1212.276323022731, 1133.1808526915117, 639.2877447053806, 1323.2892224436503, 2039.6527788018245, 573.0632290428395, 11.782608624111992, 66.41106495092963, 455.237169781343, 23.565217248223984, 164.9565207375679, 1861.6520816708244, 256.0039546938365, 113.54150619228348, 168.16995577419524, 3.2134388306368935, 23.565217248223984, 18.209485442272545, 8.569170215031717, 445.5968376918375, 25.707510645095148, 5.355731384394823, 2.142292553757929, 1.0711462768789646, 670.5375330723627, 146.74704204020122, 99.61660079884739, 312.7746943001665, 158.5296506643132, 1.0711462768789646, 89.97628219915362, 37.49011926920714, 168.16995577419524, 9.640316070354064, 441.31225764300103, 403.8221282564351, 702.6946303382483, 237.79446250665808, 221.72727383370963, 221.72727383370963, 126.39525982860458, 110.32806441075026, 110.32806441075026, 98.54545578663827, 88.9051371869445, 86.76284716252627, 82.47826036878395, 72.83794176909018, 67.48220996313874, 140.3476674728542, 230.40646991426004, 707.6411433014802, 1741.7762116015897, 1544.1355641127716, 582.6109105781845, 869.2305528640202, 1323.2892224436503, 1133.1808526915117, 658.8895745291028, 646.5885992508404, 786.2847087135988, 1402.6966611915025, 1539.6774297384652, 906.5314318811972, 511.62640278133676, 1055.5031395785097, 438.7484589249476, 727.2362287342903, 16.479809702820152, 73.60981811510155, 585.5825500245603, 180.17925230698603, 1181.0530314761588, 1148.0934020839463, 127.44386658413333, 7.690577639392246, 16.479809702820152, 8.789232063427907, 330.69484348715264, 97.78020545731394, 16.479809702820152, 27.466348949890694, 7.690577639392246, 164.79809369934415, 105.47078476113488, 2.1973080158569767, 93.38558776117131, 1356.8376860601463, 118.65463119184805, 183.47522057237907, 242.80251619515883, 78.00443581124419, 312.01774324497677, 4.394616031713953, 108.76674636881317, 1.0986540079284883, 19.775771310498445, 21.97308015856977, 1764.3721605997764, 393.3181340061845, 312.01774324497677, 257.08501871433634, 374.5087364234037, 206.54694516841238, 171.39001691470074, 149.4169350917023, 140.6277130148465, 140.6277130148465, 139.52905692638217, 126.345210495669, 121.9505861418116, 102.17482315345659, 101.07616706499223, 99.9775109765279, 142.69841999361125, 506.93601135235235, 1539.6774297384652, 515.7555868706909, 3987.684909365893, 786.2847087135988, 1451.0461201834296, 901.3527933258031, 2278.1874040467246, 2039.6527788018245, 881.6692432716704, 869.2305528640202, 236.8761513320144, 1741.7762116015897, 26.23758949874044, 52.47517899748088, 6.55939737468511, 26.23758949874044, 3.279698687342555, 12.025561582272946, 24.051123164545892, 3.279698687342555, 3.279698687342555, 12.025561582272946, 6.55939737468511, 3.279698687342555, 3.279698687342555, 3.279698687342555, 3.279698687342555, 13.11879474937022, 3.279698687342555, 6.55939737468511, 3.279698687342555, 3.279698687342555, 13.11879474937022, 3.279698687342555, 3.279698687342555, 12.025561582272946, 3.279698687342555, 3.279698687342555, 6.55939737468511, 3.279698687342555, 13.11879474937022, 12.025561582272946, 1872.7080098908955, 907.3111996377797, 765.2630151086736, 935.8236500704435, 494.1412808308676, 639.4713073977209, 406.6826274630856, 367.32623995917794, 321.41046322007776, 303.91873254652137, 250.35032200984173, 315.885502077891, 210.99394752912227, 176.01049920519776, 151.95936627326068, 137.7473432404888, 131.18794098210807, 201.08279183134422, 200.00281566775354, 116.97591794933618, 108.23005912415212, 101.6706568657714, 98.39096224817519, 98.39096224817519, 88.55186537219825, 83.08570116461043, 151.93357561912353, 74.33983582783223, 72.15337274943475, 71.06014121023601, 243.49897245973682, 598.0664877113668, 109.17916650815452, 568.8996513615665, 188.68795147411407, 944.7004475636452, 176.15277675961937, 752.8475351432095, 178.66495483851227, 341.2864469491717, 297.9849243097138, 2278.1874040467246, 305.4293904085117, 315.5342457971083, 578.4088856391132, 265.0258301729235, 1440.1652552735645, 701.1261462545651, 464.9021053628533, 689.4386840771019, 821.7219930508577, 377.2554682842871, 1323.2892224436503], \"Category\": [\"Default\", \"Default\", \"Default\", \"Default\", \"Default\", \"Default\", \"Default\", \"Default\", \"Default\", \"Default\", \"Default\", \"Default\", \"Default\", \"Default\", \"Default\", \"Default\", \"Default\", \"Default\", \"Default\", \"Default\", \"Default\", \"Default\", \"Default\", \"Default\", \"Default\", \"Default\", \"Default\", \"Default\", \"Default\", \"Default\", \"Topic1\", \"Topic1\", \"Topic1\", \"Topic1\", \"Topic1\", \"Topic1\", \"Topic1\", \"Topic1\", \"Topic1\", \"Topic1\", \"Topic1\", \"Topic1\", \"Topic1\", \"Topic1\", \"Topic1\", \"Topic1\", \"Topic1\", \"Topic1\", \"Topic1\", \"Topic1\", \"Topic1\", \"Topic1\", \"Topic1\", \"Topic1\", \"Topic1\", \"Topic1\", \"Topic1\", \"Topic1\", \"Topic1\", \"Topic1\", \"Topic1\", \"Topic1\", \"Topic1\", \"Topic1\", \"Topic1\", \"Topic1\", \"Topic1\", \"Topic1\", \"Topic1\", \"Topic1\", \"Topic1\", \"Topic1\", \"Topic1\", \"Topic1\", \"Topic1\", \"Topic1\", \"Topic1\", \"Topic1\", \"Topic1\", \"Topic1\", \"Topic1\", \"Topic1\", \"Topic1\", \"Topic1\", \"Topic1\", \"Topic1\", \"Topic1\", \"Topic1\", \"Topic1\", \"Topic1\", \"Topic1\", \"Topic1\", \"Topic1\", \"Topic1\", \"Topic1\", \"Topic1\", \"Topic1\", \"Topic1\", \"Topic1\", \"Topic1\", \"Topic2\", \"Topic2\", \"Topic2\", \"Topic2\", \"Topic2\", \"Topic2\", \"Topic2\", \"Topic2\", \"Topic2\", \"Topic2\", \"Topic2\", \"Topic2\", \"Topic2\", \"Topic2\", \"Topic2\", \"Topic2\", \"Topic2\", \"Topic2\", \"Topic2\", \"Topic2\", \"Topic2\", \"Topic2\", \"Topic2\", \"Topic2\", \"Topic2\", \"Topic2\", \"Topic2\", \"Topic2\", \"Topic2\", \"Topic2\", \"Topic2\", \"Topic2\", \"Topic2\", \"Topic2\", \"Topic2\", \"Topic2\", \"Topic2\", \"Topic2\", \"Topic2\", \"Topic2\", \"Topic2\", \"Topic2\", \"Topic2\", \"Topic2\", \"Topic2\", \"Topic2\", \"Topic2\", \"Topic2\", \"Topic2\", \"Topic2\", \"Topic2\", \"Topic2\", \"Topic2\", \"Topic2\", \"Topic2\", \"Topic2\", \"Topic2\", \"Topic2\", \"Topic2\", \"Topic2\", \"Topic2\", \"Topic2\", \"Topic2\", \"Topic2\", \"Topic2\", \"Topic2\", \"Topic2\", \"Topic2\", \"Topic2\", \"Topic2\", \"Topic3\", \"Topic3\", \"Topic3\", \"Topic3\", \"Topic3\", \"Topic3\", \"Topic3\", \"Topic3\", \"Topic3\", \"Topic3\", \"Topic3\", \"Topic3\", \"Topic3\", \"Topic3\", \"Topic3\", \"Topic3\", \"Topic3\", \"Topic3\", \"Topic3\", \"Topic3\", \"Topic3\", \"Topic3\", \"Topic3\", \"Topic3\", \"Topic3\", \"Topic3\", \"Topic3\", \"Topic3\", \"Topic3\", \"Topic3\", \"Topic3\", \"Topic3\", \"Topic3\", \"Topic3\", \"Topic3\", \"Topic3\", \"Topic3\", \"Topic3\", \"Topic3\", \"Topic3\", \"Topic3\", \"Topic3\", \"Topic3\", \"Topic3\", \"Topic3\", \"Topic3\", \"Topic3\", \"Topic3\", \"Topic3\", \"Topic3\", \"Topic3\", \"Topic3\", \"Topic3\", \"Topic3\", \"Topic3\", \"Topic3\", \"Topic3\", \"Topic3\", \"Topic3\", \"Topic3\", \"Topic3\", \"Topic3\", \"Topic3\", \"Topic3\", \"Topic3\", \"Topic3\", \"Topic3\", \"Topic3\", \"Topic3\", \"Topic3\", \"Topic3\", \"Topic3\", \"Topic3\", \"Topic3\", \"Topic3\", \"Topic3\", \"Topic3\", \"Topic3\", \"Topic4\", \"Topic4\", \"Topic4\", \"Topic4\", \"Topic4\", \"Topic4\", \"Topic4\", \"Topic4\", \"Topic4\", \"Topic4\", \"Topic4\", \"Topic4\", \"Topic4\", \"Topic4\", \"Topic4\", \"Topic4\", \"Topic4\", \"Topic4\", \"Topic4\", \"Topic4\", \"Topic4\", \"Topic4\", \"Topic4\", \"Topic4\", \"Topic4\", \"Topic4\", \"Topic4\", \"Topic4\", \"Topic4\", \"Topic4\", \"Topic4\", \"Topic4\", \"Topic4\", \"Topic4\", \"Topic4\", \"Topic4\", \"Topic4\", \"Topic4\", \"Topic4\", \"Topic4\", \"Topic4\", \"Topic4\", \"Topic4\", \"Topic4\", \"Topic4\", \"Topic4\", \"Topic4\", \"Topic4\", \"Topic4\", \"Topic4\", \"Topic4\", \"Topic4\", \"Topic4\", \"Topic4\", \"Topic4\", \"Topic4\", \"Topic4\", \"Topic4\", \"Topic4\", \"Topic4\", \"Topic4\", \"Topic4\", \"Topic4\", \"Topic4\", \"Topic4\", \"Topic4\", \"Topic4\", \"Topic4\", \"Topic4\", \"Topic4\", \"Topic4\", \"Topic5\", \"Topic5\", \"Topic5\", \"Topic5\", \"Topic5\", \"Topic5\", \"Topic5\", \"Topic5\", \"Topic5\", \"Topic5\", \"Topic5\", \"Topic5\", \"Topic5\", \"Topic5\", \"Topic5\", \"Topic5\", \"Topic5\", \"Topic5\", \"Topic5\", \"Topic5\", \"Topic5\", \"Topic5\", \"Topic5\", \"Topic5\", \"Topic5\", \"Topic5\", \"Topic5\", \"Topic5\", \"Topic5\", \"Topic5\", \"Topic5\", \"Topic5\", \"Topic5\", \"Topic5\", \"Topic5\", \"Topic5\", \"Topic5\", \"Topic5\", \"Topic5\", \"Topic5\", \"Topic5\", \"Topic5\", \"Topic5\", \"Topic5\", \"Topic5\", \"Topic5\", \"Topic5\", \"Topic5\", \"Topic5\", \"Topic5\", \"Topic5\", \"Topic5\", \"Topic5\", \"Topic5\", \"Topic5\", \"Topic5\", \"Topic5\", \"Topic5\", \"Topic5\", \"Topic5\", \"Topic5\", \"Topic5\", \"Topic5\", \"Topic5\", \"Topic5\", \"Topic5\", \"Topic5\", \"Topic5\", \"Topic5\", \"Topic5\", \"Topic5\", \"Topic5\", \"Topic6\", \"Topic6\", \"Topic6\", \"Topic6\", \"Topic6\", \"Topic6\", \"Topic6\", \"Topic6\", \"Topic6\", \"Topic6\", \"Topic6\", \"Topic6\", \"Topic6\", \"Topic6\", \"Topic6\", \"Topic6\", \"Topic6\", \"Topic6\", \"Topic6\", \"Topic6\", \"Topic6\", \"Topic6\", \"Topic6\", \"Topic6\", \"Topic6\", \"Topic6\", \"Topic6\", \"Topic6\", \"Topic6\", \"Topic6\", \"Topic6\", \"Topic6\", \"Topic6\", \"Topic6\", \"Topic6\", \"Topic6\", \"Topic6\", \"Topic6\", \"Topic6\", \"Topic6\", \"Topic6\", \"Topic6\", \"Topic6\", \"Topic6\", \"Topic6\", \"Topic6\", \"Topic6\", \"Topic6\", \"Topic6\", \"Topic6\", \"Topic6\", \"Topic6\", \"Topic6\", \"Topic6\", \"Topic6\", \"Topic6\", \"Topic6\", \"Topic6\", \"Topic6\", \"Topic6\", \"Topic6\", \"Topic6\", \"Topic6\", \"Topic6\", \"Topic6\", \"Topic6\", \"Topic6\", \"Topic6\", \"Topic6\", \"Topic7\", \"Topic7\", \"Topic7\", \"Topic7\", \"Topic7\", \"Topic7\", \"Topic7\", \"Topic7\", \"Topic7\", \"Topic7\", \"Topic7\", \"Topic7\", \"Topic7\", \"Topic7\", \"Topic7\", \"Topic7\", \"Topic7\", \"Topic7\", \"Topic7\", \"Topic7\", \"Topic7\", \"Topic7\", \"Topic7\", \"Topic7\", \"Topic7\", \"Topic7\", \"Topic7\", \"Topic7\", \"Topic7\", \"Topic7\", \"Topic7\", \"Topic7\", \"Topic7\", \"Topic7\", \"Topic7\", \"Topic7\", \"Topic7\", \"Topic7\", \"Topic7\", \"Topic7\", \"Topic7\", \"Topic7\", \"Topic7\", \"Topic7\", \"Topic7\", \"Topic7\", \"Topic7\", \"Topic7\", \"Topic7\", \"Topic7\", \"Topic7\", \"Topic7\", \"Topic7\", \"Topic7\", \"Topic7\", \"Topic7\", \"Topic7\", \"Topic7\", \"Topic7\", \"Topic7\", \"Topic7\", \"Topic7\", \"Topic7\", \"Topic7\", \"Topic7\", \"Topic7\", \"Topic7\", \"Topic7\", \"Topic7\", \"Topic8\", \"Topic8\", \"Topic8\", \"Topic8\", \"Topic8\", \"Topic8\", \"Topic8\", \"Topic8\", \"Topic8\", \"Topic8\", \"Topic8\", \"Topic8\", \"Topic8\", \"Topic8\", \"Topic8\", \"Topic8\", \"Topic8\", \"Topic8\", \"Topic8\", \"Topic8\", \"Topic8\", \"Topic8\", \"Topic8\", \"Topic8\", \"Topic8\", \"Topic8\", \"Topic8\", \"Topic8\", \"Topic8\", \"Topic8\", \"Topic8\", \"Topic8\", \"Topic8\", \"Topic8\", \"Topic8\", \"Topic8\", \"Topic8\", \"Topic8\", \"Topic8\", \"Topic8\", \"Topic8\", \"Topic8\", \"Topic8\", \"Topic8\", \"Topic8\", \"Topic8\", \"Topic8\", \"Topic8\", \"Topic8\", \"Topic8\", \"Topic8\", \"Topic8\", \"Topic8\", \"Topic8\", \"Topic8\", \"Topic8\", \"Topic8\", \"Topic8\", \"Topic8\", \"Topic8\", \"Topic8\", \"Topic8\", \"Topic8\", \"Topic8\", \"Topic9\", \"Topic9\", \"Topic9\", \"Topic9\", \"Topic9\", \"Topic9\", \"Topic9\", \"Topic9\", \"Topic9\", \"Topic9\", \"Topic9\", \"Topic9\", \"Topic9\", \"Topic9\", \"Topic9\", \"Topic9\", \"Topic9\", \"Topic9\", \"Topic9\", \"Topic9\", \"Topic9\", \"Topic9\", \"Topic9\", \"Topic9\", \"Topic9\", \"Topic9\", \"Topic9\", \"Topic9\", \"Topic9\", \"Topic9\", \"Topic9\", \"Topic9\", \"Topic9\", \"Topic9\", \"Topic9\", \"Topic9\", \"Topic9\", \"Topic9\", \"Topic9\", \"Topic9\", \"Topic9\", \"Topic9\", \"Topic9\", \"Topic9\", \"Topic9\", \"Topic9\", \"Topic9\", \"Topic9\", \"Topic9\", \"Topic9\", \"Topic9\", \"Topic9\", \"Topic9\", \"Topic9\", \"Topic9\", \"Topic9\", \"Topic9\", \"Topic9\", \"Topic9\", \"Topic9\", \"Topic9\", \"Topic9\", \"Topic9\", \"Topic10\", \"Topic10\", \"Topic10\", \"Topic10\", \"Topic10\", \"Topic10\", \"Topic10\", \"Topic10\", \"Topic10\", \"Topic10\", \"Topic10\", \"Topic10\", \"Topic10\", \"Topic10\", \"Topic10\", \"Topic10\", \"Topic10\", \"Topic10\", \"Topic10\", \"Topic10\", \"Topic10\", \"Topic10\", \"Topic10\", \"Topic10\", \"Topic10\", \"Topic10\", \"Topic10\", \"Topic10\", \"Topic10\", \"Topic10\", \"Topic10\", \"Topic10\", \"Topic10\", \"Topic10\", \"Topic10\", \"Topic10\", \"Topic10\", \"Topic10\", \"Topic10\", \"Topic10\", \"Topic10\", \"Topic10\", \"Topic10\", \"Topic10\", \"Topic10\", \"Topic10\", \"Topic10\", \"Topic10\", \"Topic10\", \"Topic10\", \"Topic10\", \"Topic10\", \"Topic10\", \"Topic10\", \"Topic10\", \"Topic10\", \"Topic10\", \"Topic10\", \"Topic10\", \"Topic10\", \"Topic10\", \"Topic10\", \"Topic10\", \"Topic11\", \"Topic11\", \"Topic11\", \"Topic11\", \"Topic11\", \"Topic11\", \"Topic11\", \"Topic11\", \"Topic11\", \"Topic11\", \"Topic11\", \"Topic11\", \"Topic11\", \"Topic11\", \"Topic11\", \"Topic11\", \"Topic11\", \"Topic11\", \"Topic11\", \"Topic11\", \"Topic11\", \"Topic11\", \"Topic11\", \"Topic11\", \"Topic11\", \"Topic11\", \"Topic11\", \"Topic11\", \"Topic11\", \"Topic11\", \"Topic11\", \"Topic11\", \"Topic11\", \"Topic11\", \"Topic11\", \"Topic11\", \"Topic11\", \"Topic11\", \"Topic11\", \"Topic11\", \"Topic11\", \"Topic11\", \"Topic11\", \"Topic11\", \"Topic11\", \"Topic11\", \"Topic11\", \"Topic11\", \"Topic11\", \"Topic11\", \"Topic11\", \"Topic11\", \"Topic11\", \"Topic11\", \"Topic11\", \"Topic11\", \"Topic11\", \"Topic11\", \"Topic11\", \"Topic11\", \"Topic12\", \"Topic12\", \"Topic12\", \"Topic12\", \"Topic12\", \"Topic12\", \"Topic12\", \"Topic12\", \"Topic12\", \"Topic12\", \"Topic12\", \"Topic12\", \"Topic12\", \"Topic12\", \"Topic12\", \"Topic12\", \"Topic12\", \"Topic12\", \"Topic12\", \"Topic12\", \"Topic12\", \"Topic12\", \"Topic12\", \"Topic12\", \"Topic12\", \"Topic12\", \"Topic12\", \"Topic12\", \"Topic12\", \"Topic12\", \"Topic12\", \"Topic12\", \"Topic12\", \"Topic12\", \"Topic12\", \"Topic12\", \"Topic12\", \"Topic12\", \"Topic12\", \"Topic12\", \"Topic12\", \"Topic12\", \"Topic12\", \"Topic12\", \"Topic12\", \"Topic12\", \"Topic12\", \"Topic12\", \"Topic12\", \"Topic12\", \"Topic12\", \"Topic12\", \"Topic12\", \"Topic12\", \"Topic12\", \"Topic12\", \"Topic12\", \"Topic12\", \"Topic12\", \"Topic12\", \"Topic12\", \"Topic12\", \"Topic12\", \"Topic12\", \"Topic12\", \"Topic12\", \"Topic12\", \"Topic12\", \"Topic12\", \"Topic12\", \"Topic12\", \"Topic12\", \"Topic12\", \"Topic12\", \"Topic12\", \"Topic12\", \"Topic12\", \"Topic12\", \"Topic12\", \"Topic12\", \"Topic12\", \"Topic12\", \"Topic12\"], \"logprob\": [30.0, 29.0, 28.0, 27.0, 26.0, 25.0, 24.0, 23.0, 22.0, 21.0, 20.0, 19.0, 18.0, 17.0, 16.0, 15.0, 14.0, 13.0, 12.0, 11.0, 10.0, 9.0, 8.0, 7.0, 6.0, 5.0, 4.0, 3.0, 2.0, 1.0, -6.2096, -4.4232, -9.2381, -5.6733, -6.2592, -4.3109, -8.3908, -4.6263, -6.7532, -7.9388, -8.9504, -6.6479, -8.3908, -7.5641, -7.0045, -8.9504, -5.4925, -5.5831, -6.871, -4.4961, -5.6093, -5.4464, -8.0341, -9.2381, -6.4049, -7.2012, -5.9179, -6.1936, -10.3367, -6.7532, -4.0887, -4.3181, -4.3304, -4.3629, -4.4703, -4.1403, -4.72, -4.7495, -4.8814, -5.095, -5.1164, -5.3395, -5.388, -5.4241, -5.4847, -5.5492, -5.6546, -5.7118, -5.7934, -5.8259, -5.8259, -4.2591, -5.5746, -3.0755, -4.6772, -4.742, -4.9849, -5.243, -4.4232, -4.3553, -4.5529, -4.8603, -4.1692, -4.5873, -5.0434, -4.8603, -4.6329, -4.9708, -4.9944, -5.0334, -5.6669, -5.6767, -4.2468, -6.6283, -6.996, -6.5306, -6.996, -6.5306, -5.948, -6.5306, -6.36, -6.6809, -5.3082, -6.996, -8.2124, -6.3215, -8.3459, -5.7485, -5.792, -8.9055, -3.7408, -6.5542, -4.116, -5.7485, -5.9611, -7.8939, -5.6284, -3.2888, -4.1434, -6.3215, -3.6798, -4.0399, -4.6429, -5.336, -5.4166, -5.4635, -5.0448, -4.7947, -5.7701, -5.8492, -5.873, -5.8851, -5.9098, -5.9098, -5.9611, -5.9744, -5.496, -2.699, -4.2757, -5.6669, -4.8982, -5.0036, -4.4454, -3.9066, -4.5456, -4.7046, -4.6824, -4.807, -4.318, -4.5111, -4.8451, -3.3362, -4.9353, -4.7273, -4.4688, -5.0989, -4.6787, -4.9212, -5.0086, -4.9985, -5.9857, -3.8822, -7.3338, -5.4467, -7.3338, -6.1399, -6.6406, -5.9857, -8.7201, -6.1399, -8.0269, -6.6406, -5.8409, -6.833, -8.0269, -8.0269, -8.7201, -8.0269, -8.7201, -8.7201, -8.7201, -8.0269, -8.7201, -8.7201, -8.7201, -8.7201, -8.7201, -8.7201, -8.0269, -8.7201, -3.8388, -3.9751, -3.9856, -4.0105, -4.1983, -4.2893, -4.4379, -4.4918, -4.5184, -4.7612, -4.4831, -4.8041, -4.8242, -4.8657, -4.8871, -4.9824, -5.2115, -4.8161, -5.2669, -5.2733, -5.2797, -5.3122, -5.6948, -5.7144, -5.8297, -5.8869, -5.9228, -5.3807, -5.2419, -4.9404, -5.5337, -3.503, -3.3264, -4.1169, -3.787, -3.6312, -3.8045, -4.2225, -3.8587, -4.6562, -4.6425, -4.7311, -4.2382, -4.4434, -4.4918, -4.3405, -4.7688, -4.6947, -5.6614, -5.7311, -5.7311, -6.5681, -7.8209, -4.5954, -4.7299, -2.8674, -6.9046, -2.4452, -5.3786, -6.4772, -6.7223, -5.1759, -10.3058, -9.6127, -6.0154, -8.9195, -4.8765, -5.6519, -10.3058, -6.0863, -7.8209, -9.6127, -10.3058, -9.2072, -8.5141, -7.5978, -7.4154, -5.3932, -3.1009, -5.1184, -4.7804, -4.9167, -5.3932, -5.4695, -5.5436, -5.7208, -5.1583, -5.8399, -5.2496, -5.9364, -6.0017, -6.0573, -6.2115, -6.2628, -5.6053, -4.5921, -5.6711, -2.2405, -4.579, -2.2405, -3.7155, -4.1362, -5.3019, -4.1237, -3.9655, -3.9189, -3.6581, -4.3346, -4.6087, -4.6087, -4.5855, -4.6359, -4.6963, -4.9445, -4.1155, -4.8634, -4.9635, -4.8721, -5.0535, -3.2624, -6.5884, -7.0584, -8.6678, -8.4855, -9.1786, -8.08, -6.0146, -5.3214, -7.7923, -5.1415, -8.08, -7.2327, -9.1786, -7.7923, -8.6678, -5.4097, -9.1786, -7.0992, -9.1786, -7.7123, -6.5884, -8.4855, -7.8794, -5.9078, -7.7123, -7.7123, -7.2815, -9.1786, -9.1786, -1.4744, -1.7303, -3.9211, -4.9445, -5.7447, -5.8584, -5.9465, -6.0876, -6.1664, -6.307, -5.2666, -6.7807, -6.8433, -5.8828, -7.0584, -7.0992, -5.5411, -7.3328, -5.8113, -6.2168, -6.4486, -3.5215, -2.3229, -6.3454, -3.2833, -4.0082, -4.2635, -3.9493, -3.5901, -5.3144, -4.8928, -4.3477, -4.5668, -5.4097, -5.6621, -4.6425, -5.0732, -5.0408, -5.4732, -5.6044, -5.5768, -5.6621, -5.3819, -7.051, -1.9795, -4.6566, -6.1347, -4.7679, -6.0896, -5.2918, -10.3091, -6.5714, -2.9696, -5.9524, -8.6997, -9.616, -6.075, -3.7065, -10.3091, -8.2297, -5.4728, -5.9916, -6.1982, -5.1273, -6.8126, -10.3091, -3.0542, -4.9478, -6.8126, -10.3091, -6.9769, -5.4649, -3.6679, -4.3202, -4.15, -4.1801, -4.8581, -4.9959, -5.1273, -5.2093, -5.3819, -5.4416, -5.4969, -5.5133, -5.5642, -5.694, -5.7658, -5.7765, -5.8205, -5.2339, -5.5133, -3.9444, -3.7929, -4.1005, -3.8618, -5.0058, -4.1779, -4.2523, -3.8275, -3.823, -5.1443, -4.5987, -4.1977, -5.0516, -4.0139, -4.7718, -4.8798, -4.9431, -4.8624, -4.9861, -4.9861, -4.7216, -5.0613, -2.5924, -5.1493, -5.2943, -3.6243, -10.2431, -7.152, -4.3215, -5.8486, -5.0726, -8.6336, -8.4513, -9.5499, -4.2821, -4.5493, -6.8419, -4.6446, -5.7213, -7.065, -5.0336, -8.2972, -7.7582, -7.6781, -7.0242, -5.8122, -6.2541, -10.2431, -7.535, -10.2431, -2.9232, -5.6684, -5.7105, -6.1322, -6.2, -6.2357, -4.1383, -6.331, -5.5246, -6.4364, -6.8758, -6.9109, -6.9472, -6.009, -5.939, -3.9277, -3.9295, -2.6752, -4.0165, -3.0963, -5.1679, -2.8225, -3.9515, -3.9552, -4.3709, -5.0391, -4.7216, -4.3823, -4.6083, -4.6484, -3.9721, -4.4747, -4.2693, -3.9295, -4.5493, -4.5766, -4.8181, -4.9498, -4.8771, -4.2602, -3.8762, -3.1239, -3.7975, -7.4988, -5.9948, -4.1081, -3.9597, -6.6079, -6.4428, -10.2714, -5.0192, -10.2714, -4.5844, -4.9101, -8.8851, -6.6338, -5.981, -6.1939, -5.8171, -9.1728, -4.4192, -6.8057, -5.3962, -6.4002, -4.1801, -6.9041, -6.3594, -5.6663, -8.8851, -3.695, -4.123, -4.123, -4.2146, -4.5446, -4.8778, -4.8869, -4.8961, -4.9933, -5.0087, -5.1124, -5.4272, -5.5007, -5.5709, -5.6465, -5.0953, -5.7071, -5.19, -2.9791, -4.3392, -4.3579, -4.2312, -3.9188, -4.795, -3.083, -4.1711, -4.5446, -4.4395, -4.3002, -4.5913, -4.3027, -4.5947, -4.5252, -4.7146, -3.5437, -6.3927, -7.5559, -4.5803, -3.6072, -5.2872, -6.1696, -7.4307, -6.3927, -6.8966, -5.2013, -3.5982, -8.6545, -7.5559, -7.9613, -4.9909, -7.699, -5.9072, -8.318, -7.0859, -6.575, -5.1519, -8.318, -5.6588, -5.1459, -8.318, -6.575, -4.6435, -4.5273, -7.779, -2.1862, -3.6709, -3.6627, -3.4977, -4.0043, -4.5113, -4.7385, -5.1887, -4.7875, -5.3736, -5.4932, -5.5277, -5.6195, -5.679, -5.7206, -5.7313, -5.7641, -5.8096, -5.1825, -5.049, -5.2735, -3.8358, -5.2466, -3.9705, -4.9807, -4.6692, -4.1112, -4.0675, -4.6956, -4.884, -4.9961, -5.0169, -5.158, -3.923, -7.8074, -6.0781, -4.1532, -7.1142, -5.1683, -2.7448, -4.7288, -5.5418, -5.149, -9.1066, -7.1142, -7.372, -8.1258, -4.1746, -7.0272, -8.5958, -9.5121, -10.2053, -3.7659, -5.2853, -5.6727, -4.5285, -5.208, -10.2053, -5.7744, -6.6499, -5.149, -8.008, -4.1842, -4.273, -3.7252, -4.8026, -4.8725, -4.8725, -5.4346, -5.5705, -5.5705, -5.6835, -5.7864, -5.8108, -5.8615, -5.9857, -6.0621, -5.3377, -4.8534, -3.758, -2.9732, -3.1252, -4.1626, -3.8218, -3.4671, -3.6556, -4.2063, -4.3763, -4.5149, -4.3109, -4.2999, -4.5217, -4.7672, -4.5669, -4.844, -4.7542, -7.4588, -5.9622, -3.8884, -5.067, -3.1868, -3.2151, -5.4133, -8.221, -7.4588, -8.0874, -4.4598, -5.6783, -7.4588, -6.948, -8.221, -5.1563, -5.6025, -9.4737, -5.7242, -3.0481, -5.4848, -5.0489, -4.7687, -5.9042, -4.5179, -8.7806, -5.5718, -10.1669, -7.2765, -7.1712, -2.786, -4.2864, -4.5179, -4.7116, -4.3409, -4.9304, -5.117, -5.2542, -5.3149, -5.3149, -5.3227, -5.422, -5.4574, -5.6343, -5.6451, -5.656, -5.3227, -4.278, -3.4217, -4.4901, -3.4076, -4.5039, -4.2373, -4.4901, -4.1804, -4.3769, -4.7916, -4.8009, -5.1765, -4.6988, -6.9716, -6.2784, -8.3579, -6.9716, -9.051, -7.7517, -7.0586, -9.051, -9.051, -7.7517, -8.3579, -9.051, -9.051, -9.051, -9.051, -7.6647, -9.051, -8.3579, -9.051, -9.051, -7.6647, -9.051, -9.051, -7.7517, -9.051, -9.051, -8.3579, -9.051, -7.6647, -7.7517, -2.7036, -3.4294, -3.5986, -3.4009, -4.036, -3.7815, -4.2308, -4.3325, -4.4661, -4.522, -4.7159, -4.4867, -4.887, -5.0682, -5.2152, -5.3134, -5.3622, -4.9402, -4.9456, -5.4768, -5.5545, -5.617, -5.6498, -5.6498, -5.7552, -5.8189, -5.2224, -5.9301, -5.96, -5.9753, -4.7606, -3.9231, -5.5647, -4.036, -5.0682, -3.6711, -5.1524, -3.9231, -5.1592, -4.6484, -4.7978, -3.3686, -4.8414, -4.8463, -4.5438, -4.9792, -4.2775, -4.5967, -4.7837, -4.7029, -4.669, -4.8715, -4.8715], \"loglift\": [30.0, 29.0, 28.0, 27.0, 26.0, 25.0, 24.0, 23.0, 22.0, 21.0, 20.0, 19.0, 18.0, 17.0, 16.0, 15.0, 14.0, 13.0, 12.0, 11.0, 10.0, 9.0, 8.0, 7.0, 6.0, 5.0, 4.0, 3.0, 2.0, 1.0, 2.4087, 2.4087, 2.4087, 2.4087, 2.4087, 2.4087, 2.4087, 2.4087, 2.4087, 2.4087, 2.4087, 2.4087, 2.4087, 2.4087, 2.4087, 2.4087, 2.4087, 2.4087, 2.4087, 2.4087, 2.4087, 2.4087, 2.4087, 2.4087, 2.4087, 2.4087, 2.4087, 2.4087, 2.4087, 2.4087, 2.4087, 2.4087, 2.4087, 2.4087, 2.4087, 2.4047, 2.4087, 2.4087, 2.4087, 2.4087, 2.4087, 2.4087, 2.4087, 2.4087, 2.4087, 2.4087, 2.4087, 2.4087, 2.4087, 2.4087, 2.4087, 2.3715, 2.4004, 2.106, 2.1573, 2.1344, 2.2065, 2.2805, 1.9319, 1.8941, 1.9283, 2.0567, 1.5649, 0.9117, 1.6747, 1.1489, 0.3637, 1.2954, 1.3197, 0.4293, 2.4362, 2.4362, 2.4362, 2.4362, 2.4362, 2.4362, 2.4362, 2.4362, 2.4362, 2.4362, 2.4362, 2.4362, 2.4362, 2.4362, 2.4362, 2.4362, 2.4362, 2.4362, 2.4362, 2.4362, 2.4362, 2.4362, 2.4362, 2.4362, 2.4362, 2.4362, 2.4362, 2.4362, 2.4362, 2.4362, 2.4335, 2.4307, 2.4362, 2.4362, 2.4362, 2.4362, 2.431, 2.4281, 2.4362, 2.4362, 2.4362, 2.4362, 2.4362, 2.4362, 2.4362, 2.4362, 2.4283, 2.2977, 2.3306, 2.4178, 2.2996, 2.3105, 2.2041, 2.1025, 2.1953, 2.1612, 2.1394, 2.1477, 1.7726, 1.8306, 1.9615, 0.9836, 1.9389, 1.7145, 1.3437, 1.8849, 0.8772, 1.2998, 1.4725, 0.531, 2.4525, 2.4525, 2.4525, 2.4525, 2.4525, 2.4525, 2.4525, 2.4525, 2.4525, 2.4525, 2.4525, 2.4525, 2.4525, 2.4525, 2.4525, 2.4525, 2.4525, 2.4525, 2.4525, 2.4525, 2.4525, 2.4525, 2.4525, 2.4525, 2.4525, 2.4525, 2.4525, 2.4525, 2.4525, 2.4525, 2.4525, 2.4525, 2.4525, 2.4525, 2.4525, 2.4525, 2.4525, 2.4525, 2.4525, 2.4525, 2.4496, 2.4525, 2.4525, 2.4525, 2.4525, 2.4525, 2.4525, 2.4484, 2.4525, 2.4525, 2.4525, 2.4525, 2.4525, 2.4525, 2.4525, 2.4525, 2.4525, 2.4452, 2.434, 2.384, 2.4268, 2.1989, 2.1349, 2.2022, 2.0533, 1.9758, 2.0239, 2.0879, 1.816, 2.1666, 2.1445, 2.1784, 1.8477, 1.9696, 1.0378, -0.0207, 1.7957, 0.1502, 2.4624, 2.4624, 2.4624, 2.4624, 2.4624, 2.4624, 2.4624, 2.4624, 2.4624, 2.4624, 2.4624, 2.4624, 2.4624, 2.4624, 2.4624, 2.4624, 2.4624, 2.4624, 2.4624, 2.4624, 2.4624, 2.4624, 2.4624, 2.4624, 2.4624, 2.4624, 2.4624, 2.4624, 2.4624, 2.4624, 2.4616, 2.4624, 2.4583, 2.4579, 2.4624, 2.4624, 2.4624, 2.4624, 2.4566, 2.4624, 2.4561, 2.4624, 2.4624, 2.4624, 2.4624, 2.4624, 2.4532, 2.4012, 2.4426, 2.1142, 2.3251, 2.0793, 2.2194, 2.2102, 2.3725, 1.9899, 1.7092, 1.637, 1.4692, 1.7795, 1.8964, 1.893, 1.8472, 1.5769, 1.634, 1.8936, 0.7294, 1.6774, 1.6585, 1.1297, -0.5424, 2.4699, 2.4699, 2.4699, 2.4699, 2.4699, 2.4699, 2.4699, 2.4699, 2.4699, 2.4699, 2.4699, 2.4699, 2.4699, 2.4699, 2.4699, 2.4699, 2.4699, 2.4699, 2.4699, 2.4699, 2.4699, 2.4699, 2.4699, 2.4699, 2.4699, 2.4699, 2.4699, 2.4699, 2.4699, 2.4699, 2.4699, 2.4697, 2.4647, 2.4652, 2.4699, 2.4699, 2.4699, 2.4699, 2.4699, 2.4699, 2.4566, 2.4699, 2.4699, 2.458, 2.4699, 2.4699, 2.4522, 2.4699, 2.4476, 2.4531, 2.4488, 2.352, 2.2911, 2.4314, 2.2157, 2.1816, 2.1174, 2.0431, 1.9827, 2.2118, 2.0596, 1.7664, 1.828, 2.0664, 2.2018, 0.9646, 1.2819, 1.1374, 1.6171, 1.8033, 1.0119, 1.2549, 2.472, 2.472, 2.472, 2.472, 2.472, 2.472, 2.472, 2.472, 2.472, 2.472, 2.472, 2.472, 2.472, 2.472, 2.472, 2.472, 2.472, 2.472, 2.472, 2.472, 2.472, 2.472, 2.472, 2.472, 2.472, 2.472, 2.472, 2.472, 2.472, 2.472, 2.4693, 2.472, 2.4699, 2.4697, 2.472, 2.472, 2.472, 2.472, 2.472, 2.472, 2.472, 2.472, 2.472, 2.472, 2.472, 2.472, 2.472, 2.4658, 2.4637, 2.3371, 2.317, 2.2422, 2.1584, 2.3688, 2.1604, 2.0617, 1.9066, 1.7959, 2.2385, 1.753, 1.3244, 2.1452, 0.4973, 1.0408, 1.3963, 1.5442, 0.6672, 1.2801, 0.1925, 2.4937, 2.4937, 2.4937, 2.4937, 2.4937, 2.4937, 2.4937, 2.4937, 2.4937, 2.4937, 2.4937, 2.4937, 2.4937, 2.4937, 2.4937, 2.4937, 2.4937, 2.4937, 2.4937, 2.4937, 2.4937, 2.4937, 2.4937, 2.4937, 2.4937, 2.4937, 2.4937, 2.4937, 2.4937, 2.4937, 2.4931, 2.4937, 2.4937, 2.4937, 2.4937, 2.4937, 2.4723, 2.4937, 2.4848, 2.4937, 2.4937, 2.4937, 2.4937, 2.4798, 2.4668, 2.3712, 2.3383, 2.1697, 2.1893, 2.0311, 2.3107, 1.6886, 1.9606, 1.7832, 1.9051, 2.0923, 1.9003, 1.7037, 1.8044, 1.7465, 1.0989, 1.5271, 1.1921, 0.6844, 1.4488, 0.602, 0.8008, 1.709, 0.9513, 2.4957, 2.4957, 2.4957, 2.4957, 2.4957, 2.4957, 2.4957, 2.4957, 2.4957, 2.4957, 2.4957, 2.4957, 2.4957, 2.4957, 2.4957, 2.4957, 2.4957, 2.4957, 2.4957, 2.4957, 2.4957, 2.4957, 2.4957, 2.4957, 2.4957, 2.4957, 2.4957, 2.4957, 2.4957, 2.4957, 2.4943, 2.4957, 2.4957, 2.4957, 2.4957, 2.4957, 2.4957, 2.4957, 2.4957, 2.4957, 2.4957, 2.4957, 2.4957, 2.4957, 2.4957, 2.4899, 2.4957, 2.4892, 2.1995, 2.2297, 2.2308, 2.076, 1.8196, 2.1978, 1.2717, 1.6414, 1.9407, 1.7815, 1.6119, 1.8961, 1.3162, 1.519, 1.0476, 1.7181, 2.5061, 2.5061, 2.5061, 2.5061, 2.5061, 2.5061, 2.5061, 2.5061, 2.5061, 2.5061, 2.5061, 2.5061, 2.5061, 2.5061, 2.5061, 2.5061, 2.5061, 2.5061, 2.5061, 2.5061, 2.5061, 2.5061, 2.5061, 2.5061, 2.5061, 2.5061, 2.5061, 2.5061, 2.5061, 2.5061, 2.5061, 2.5061, 2.5048, 2.5025, 2.5061, 2.5061, 2.5061, 2.5061, 2.5018, 2.5061, 2.5061, 2.5061, 2.5061, 2.5061, 2.5061, 2.5061, 2.5061, 2.5061, 2.4996, 2.4949, 2.4991, 2.4205, 2.4784, 2.2734, 2.3115, 2.0553, 1.4108, 0.4436, 1.0062, 0.8853, 1.3457, 0.5973, 0.0236, 2.5281, 2.5281, 2.5281, 2.5281, 2.5281, 2.5281, 2.5281, 2.5281, 2.5281, 2.5281, 2.5281, 2.5281, 2.5281, 2.5281, 2.5281, 2.5281, 2.5281, 2.5281, 2.5281, 2.5281, 2.5281, 2.5281, 2.5281, 2.5281, 2.5281, 2.5281, 2.5281, 2.5281, 2.5281, 2.5281, 2.5281, 2.5219, 2.5281, 2.5281, 2.5281, 2.5281, 2.5281, 2.5281, 2.5281, 2.5281, 2.5281, 2.5281, 2.5281, 2.5281, 2.5202, 2.5088, 2.4822, 2.3662, 2.3346, 2.2719, 2.2127, 2.1471, 2.1137, 2.1052, 1.9541, 1.6199, 1.2451, 1.1628, 1.4708, 1.7973, 1.2734, 1.8742, 1.4586, 2.5411, 2.5411, 2.5411, 2.5411, 2.5411, 2.5411, 2.5411, 2.5411, 2.5411, 2.5411, 2.5411, 2.5411, 2.5411, 2.5411, 2.5411, 2.5411, 2.5411, 2.5411, 2.5411, 2.5411, 2.5411, 2.5411, 2.5411, 2.5411, 2.5411, 2.5411, 2.5411, 2.5411, 2.5411, 2.5411, 2.5405, 2.5411, 2.5411, 2.5411, 2.5356, 2.5411, 2.5411, 2.5411, 2.5411, 2.5411, 2.5411, 2.5411, 2.5411, 2.5411, 2.5411, 2.5411, 2.5186, 2.2957, 2.0411, 2.0663, 1.1035, 1.6308, 1.2847, 1.508, 0.8905, 0.8046, 1.2286, 1.2336, 2.1581, 0.6406, 2.5633, 2.5633, 2.5633, 2.5633, 2.5633, 2.5633, 2.5633, 2.5633, 2.5633, 2.5633, 2.5633, 2.5633, 2.5633, 2.5633, 2.5633, 2.5633, 2.5633, 2.5633, 2.5633, 2.5633, 2.5633, 2.5633, 2.5633, 2.5633, 2.5633, 2.5633, 2.5633, 2.5633, 2.5633, 2.5633, 2.5633, 2.5622, 2.5633, 2.5598, 2.5633, 2.56, 2.5633, 2.5633, 2.5633, 2.5633, 2.5633, 2.56, 2.5633, 2.5633, 2.5633, 2.5633, 2.5633, 2.5582, 2.5581, 2.5633, 2.5633, 2.5633, 2.5633, 2.5633, 2.5633, 2.5633, 2.5562, 2.5633, 2.5633, 2.5633, 2.5464, 2.4853, 2.5444, 2.4224, 2.4937, 2.2801, 2.4783, 2.2551, 2.4573, 2.321, 2.3072, 1.7024, 2.239, 2.2015, 1.8979, 2.2431, 1.252, 1.6527, 1.8766, 1.5633, 1.4217, 1.9976, 0.7427]}, \"token.table\": {\"Topic\": [5, 2, 1, 6, 8, 2, 6, 8, 9, 7, 8, 8, 4, 7, 3, 7, 11, 12, 5, 7, 2, 7, 9, 11, 1, 5, 12, 3, 5, 9, 1, 2, 1, 3, 4, 6, 11, 8, 8, 9, 11, 2, 4, 8, 10, 10, 4, 3, 1, 2, 5, 8, 8, 1, 6, 11, 4, 12, 1, 6, 6, 12, 8, 11, 12, 5, 1, 12, 4, 12, 4, 6, 1, 10, 11, 10, 8, 4, 1, 5, 12, 3, 5, 6, 6, 12, 3, 9, 2, 7, 12, 1, 6, 6, 8, 3, 5, 5, 9, 2, 2, 7, 3, 6, 11, 12, 6, 6, 12, 2, 6, 6, 5, 8, 6, 5, 9, 3, 8, 10, 9, 3, 3, 9, 10, 6, 4, 8, 4, 3, 5, 9, 10, 6, 11, 8, 3, 4, 12, 11, 3, 5, 12, 1, 4, 5, 1, 12, 1, 6, 2, 1, 5, 12, 5, 8, 12, 8, 3, 5, 2, 9, 8, 5, 5, 3, 1, 10, 7, 10, 6, 9, 7, 4, 3, 12, 2, 5, 9, 7, 8, 3, 8, 3, 5, 7, 8, 10, 6, 8, 7, 4, 9, 5, 3, 1, 6, 7, 5, 12, 8, 9, 9, 2, 12, 6, 7, 8, 11, 12, 8, 3, 8, 8, 5, 7, 9, 3, 6, 3, 1, 2, 5, 6, 11, 11, 5, 8, 12, 10, 11, 10, 2, 6, 9, 12, 3, 1, 10, 1, 12, 8, 12, 5, 8, 1, 7, 8, 8, 1, 8, 1, 6, 12, 7, 11, 6, 11, 9, 9, 3, 2, 11, 1, 2, 4, 7, 8, 2, 3, 4, 2, 9, 6, 12, 10, 10, 4, 8, 12, 3, 4, 2, 1, 1, 6, 12, 10, 2, 2, 10, 3, 5, 10, 9, 2, 7, 8, 4, 5, 9, 6, 6, 2, 9, 3, 9, 8, 10, 11, 3, 4, 10, 3, 4, 10, 2, 4, 10, 6, 2, 3, 9, 3, 6, 1, 3, 3, 8, 10, 12, 1, 6, 7, 3, 7, 12, 1, 1, 7, 11, 6, 3, 4, 7, 12, 3, 11, 3, 4, 12, 2, 1, 1, 2, 8, 1, 11, 11, 8, 5, 11, 3, 3, 3, 5, 11, 1, 9, 1, 5, 2, 5, 7, 9, 11, 4, 6, 7, 10, 11, 12, 11, 11, 4, 7, 9, 4, 8, 4, 8, 9, 3, 2, 2, 12, 5, 6, 3, 6, 5, 4, 5, 5, 9, 11, 6, 6, 7, 6, 1, 2, 6, 8, 1, 4, 8, 2, 11, 3, 4, 7, 3, 4, 6, 9, 10, 2, 3, 5, 2, 12, 4, 6, 1, 5, 11, 6, 11, 5, 10, 11, 1, 2, 1, 1, 10, 10, 11, 2, 7, 12, 10, 9, 3, 5, 7, 7, 7, 12, 5, 1, 5, 9, 2, 3, 4, 7, 6, 2, 9, 11, 2, 9, 10, 11, 12, 9, 3, 5, 7, 10, 11, 12, 4, 8, 2, 1, 3, 9, 11, 7, 8, 12, 12, 2, 5, 9, 11, 2, 8, 12, 1, 10, 4, 7, 3, 3, 9, 12, 3, 3, 4, 8, 12, 4, 10, 8, 9, 3, 7, 8, 8, 4, 6, 3, 7, 1, 6, 11, 1, 3, 4, 5, 10, 8, 2, 4, 4, 5, 7, 11, 12, 1, 5, 1, 3, 5, 8, 1, 11, 9, 5, 11, 5, 7, 4, 4, 12, 4, 1, 4, 2, 3, 4, 6, 7, 8, 12, 4, 2, 4, 5, 8, 12, 10, 9, 7, 10, 11, 3, 10, 1, 1, 4, 1, 2, 4, 6, 7, 2, 4, 12, 2, 12, 10, 11, 3, 10, 10, 10, 3, 7, 4, 3, 12, 3, 7, 3, 1, 7, 12, 6, 12, 12, 9, 9, 1, 6, 3, 4, 3, 7, 9, 4, 12, 4, 6, 3, 12, 1, 1, 2, 5, 2, 4, 12, 12, 9, 12, 4, 12, 7, 4, 5, 4, 8, 10, 11, 2, 5, 8, 6, 7, 6, 4, 2, 10, 5, 3, 3, 8, 7, 11, 1, 8, 12, 7, 8, 11, 1, 1, 9, 9, 12, 2, 3, 7, 7, 8, 12, 1, 3, 7, 6, 4, 2, 5, 8, 8, 8, 8, 11, 4, 3, 3, 1, 4, 1, 2, 6, 6, 1, 6, 12, 5, 8, 5, 6, 10, 2, 4, 9, 11, 7, 12, 4, 12, 1, 2, 6, 7, 9, 11, 12, 2, 9, 12, 5, 9, 11, 1, 1, 4, 8, 10, 2, 9, 8, 4, 5, 7, 3, 3, 4, 9, 11, 11, 3, 4, 3, 4, 8, 12, 12, 9, 10, 11, 5, 5, 1, 7, 2, 10, 3, 4, 7, 10, 12, 3, 9, 10, 10, 12, 3, 9, 1, 1, 1, 2, 12, 2, 12, 10, 11, 6, 9, 10, 11, 6, 12, 5, 7, 10, 12, 1, 3, 5, 12, 10, 5, 7, 3, 8, 12, 3, 6, 9, 9, 6, 12, 4, 8, 7, 3, 10, 9, 5, 10, 2, 3, 10, 11, 5, 3, 5, 10, 1, 12, 11, 1, 5, 10, 2, 9, 12, 9, 4, 12, 9, 10, 11, 3, 12, 10, 9, 6, 8, 12, 7, 4, 4, 4, 1, 1, 7, 4, 6, 7, 9, 11, 4, 4, 11, 10, 11, 5, 12, 2, 11, 10, 4, 7, 8, 10, 1, 5, 7, 12, 7, 10, 1, 2, 2, 6, 12, 2, 3, 2, 3, 12, 11, 9, 9, 11, 3, 6, 9, 11, 12, 1, 7, 8, 12, 12, 11, 7, 7, 5, 5, 12, 3, 3, 4, 2, 9, 10, 7, 12, 5, 8, 6, 12, 2, 11, 11, 1, 4, 4, 12, 5, 3, 7, 10, 12, 8, 8, 4, 2, 7, 5, 12, 9, 7, 7, 11, 3, 7, 3, 11, 2, 4, 10, 11, 2, 7, 2, 9, 10, 11, 12, 1, 5, 7, 5, 6, 7, 8, 6, 3, 11, 3, 9, 12, 1, 1, 2, 6, 7, 11, 2, 10, 6, 2, 9, 6, 6, 1, 6, 10, 11, 10, 12, 11, 3, 3, 4, 7, 8, 9, 11, 11, 1, 9, 8, 8, 5, 5, 6, 12, 6, 7, 2, 8, 5, 12, 8, 5, 8, 3, 1, 8, 10, 10, 3, 5, 7, 7, 7, 5, 9, 11, 11, 12, 11, 9, 4, 7, 10, 2, 5, 10, 10, 12, 4, 8, 5, 10, 1, 9, 10, 10, 10, 1, 1, 1, 10, 11, 4, 1, 2, 5, 11, 3, 4, 10, 12, 2, 10, 4, 1, 6, 10, 2, 11, 2, 1], \"Freq\": [0.9944896936299125, 0.9983115274054412, 0.05609377905593712, 0.3962754068790396, 0.5482714533531918, 0.0358553026971602, 0.7326953159854477, 0.22760322581675607, 0.00467677861267307, 0.5863395121674444, 0.4132879200346917, 1.0006643842474556, 0.37061222512755954, 0.6297621269084847, 0.2707042146057939, 0.3516935902870355, 0.35613136429696657, 0.022188870049655238, 0.8362958077632432, 0.16370163867482562, 0.001365549855373758, 0.7373969219018294, 0.11880283741751695, 0.14201718495887083, 0.004904425152377358, 0.9955983059326036, 0.914718175659854, 1.0032226911472053, 0.9967296097836447, 0.004551276757002944, 1.001130769526908, 0.9987495091510069, 1.0059090258082337, 1.0013756958650333, 1.0038992789362398, 1.0025821668532684, 1.040233955772431, 0.9993262691069532, 0.999915371241645, 0.0005667738486987135, 0.999222295255832, 0.07136926113823018, 0.8729009631522, 0.04391954531583396, 0.013724857911198112, 1.0113775837319612, 1.0017438468628097, 1.0056188132203936, 0.3596507965561743, 0.607410234183761, 0.031968959693882165, 1.0007553362946444, 0.9983746996679459, 0.08788889979829433, 0.9008612229325168, 0.008788889979829432, 0.00316570400800927, 0.99719676252292, 0.7609417232114211, 0.2402973862772909, 1.0031507813555811, 1.0000286855189384, 0.26412519849226224, 0.0075464342426360635, 0.724457687293062, 0.9465624279590193, 0.0031275836411470055, 0.9961353897053212, 0.21389656885751457, 0.7852641158056699, 1.0010391206307196, 0.9792662719666108, 0.13834066531466976, 0.25524826980594, 0.6066205699713688, 0.9335793080602718, 1.0002405779115249, 1.0087489722418084, 0.0013282901959820806, 0.26432974900043404, 0.7345444783780906, 0.9957637315325214, 0.003935825025820243, 1.000554628028631, 0.0049730759698161445, 0.9946151939632288, 0.9799456640756685, 0.017817193892284883, 0.007031116982453174, 0.12304454719293054, 0.8683429473329669, 0.7784470069703816, 0.22277924212639208, 0.9952047148143651, 0.008025844474309396, 0.9319637287431498, 0.06686735273493451, 1.0254426302889377, 0.9685035741494725, 1.002219214517907, 0.024647461921585373, 0.9735747459026223, 1.0040664475432133, 0.9792662719666108, 0.003205732190861149, 0.9969827113578174, 1.0035455992129798, 0.7930381537057293, 0.20822789510709092, 1.00197728442899, 0.9985621215125441, 1.000554628028631, 0.9844249778149964, 0.9656411139685167, 0.9792662719666108, 1.0039298542686408, 0.9685035972460345, 0.9950110351878407, 0.9904011425318119, 0.999984552215839, 1.008857903773403, 1.0000820278923523, 0.6707701507005683, 0.04358111148619512, 0.2851720555944507, 0.9936672337936155, 0.9966163156315407, 0.9983746541309513, 0.9943383048911978, 0.620493655269964, 0.2220872091413656, 0.028511195768148284, 0.1283003809566673, 0.7304326479738197, 0.268808288151856, 0.9656411139685167, 0.051092013226005116, 0.028384451792225065, 0.9196562380680922, 0.9708849973711745, 0.9801601056847341, 0.9916368792189466, 0.9985673913265114, 1.0014800138535083, 1.0000528699820292, 0.9465624279590193, 0.9449448173422438, 0.914718175659854, 1.001130769526908, 1.0025821668532684, 0.9990817255084361, 0.00018372711720064043, 0.9998429718058852, 0.9978743959607985, 1.0039298542686408, 1.0035093929476742, 0.9909446902981752, 1.0019093406445334, 0.9937167499717248, 0.006900810763692533, 0.010409215108442362, 0.9888754353020244, 0.9656411139685167, 1.0000582526311153, 0.9998898936526059, 0.9801601056847341, 0.48091337008227236, 0.5196599449230241, 0.9982508831191637, 0.9970264645491389, 1.0053800304394678, 0.9685035472034849, 0.9368200281576208, 0.9935710822715544, 0.9991923208610243, 0.998600672821072, 0.9934521886228344, 0.9963815068113051, 1.0013341740334736, 0.0013429760619420369, 0.9991741900848754, 0.9996334433769377, 1.0007553362946444, 0.9801601056847341, 0.6141187873260133, 0.0007250516969610547, 0.23491674981538174, 0.15008570127093834, 0.9989006446292686, 1.0076255102280172, 1.0005238064296877, 0.9946682297267174, 0.005588023762509648, 1.0022426364408095, 0.9801601056847341, 0.104003020559176, 0.34130568718715504, 0.5551710534074324, 0.10074723392883311, 0.9011280368078962, 0.9958173987800328, 1.0022885883866328, 1.0000851991295086, 0.8987326752285754, 0.09985918613650838, 0.1021670079714146, 0.15056190648418996, 0.7435216226053666, 0.0009776747174298048, 0.0019553494348596096, 0.9995628935886002, 0.9970648683329167, 0.0028245463692150616, 1.0024976192938622, 1.0001414319850122, 0.8556702117778203, 0.14382232761630595, 1.002186166443093, 1.0089410542040698, 0.9801601056847341, 0.12918284111891234, 0.8704559893690751, 0.0019726355547957652, 0.21501727547273844, 0.7831363152539188, 0.995871014249464, 0.0054243359605967096, 0.9926534807891979, 0.9991536576030987, 1.0029669486668003, 1.0009227737258601, 1.002733345495561, 0.5147726403543149, 0.014603479158987655, 0.15090261797620577, 0.31884262830456384, 0.9801601056847341, 0.9984322950652441, 1.0010670116042455, 1.0015707349437735, 0.9996563075655287, 1.0042667585272573, 0.998968520895784, 0.9872567111230619, 0.02014809614536861, 1.000529863834841, 1.014888432971559, 0.9958173987800328, 0.9989390447921218, 0.9931732878889756, 0.008009461999104642, 0.8158608279799522, 0.18292843676680542, 0.9909446902981752, 1.0006941581686715, 1.0021934714707024, 0.9792662719666108, 0.9999431338590163, 0.9997456222366928, 0.9685035876224668, 0.9988298007881652, 0.750779228750585, 0.2512222803896188, 0.9929928677154667, 0.9898770999196822, 0.007614439230151401, 0.9999765126184765, 0.9994949255448818, 0.23404125277450083, 0.08429627422939985, 0.6818263753395193, 1.003958774670621, 0.996441196442976, 1.001864694111997, 0.9978743959607985, 0.9998896648054961, 1.0040381163073533, 0.9393107403087604, 0.05401787004970507, 0.006001985561078341, 1.0056188132203936, 1.0022588772174243, 0.9934521886228344, 0.9997242714826936, 0.9626092990148583, 0.03132134378573291, 0.0041761791714310555, 0.9989893808711977, 1.0004221179171828, 1.0003014411171964, 0.9992924337867505, 0.9988654165550486, 0.7498111924833457, 0.24993706416111525, 1.0000471354016056, 0.32164967647598497, 0.1899396796431463, 0.48940661981044264, 0.9989417560916105, 0.9860025291239786, 0.9996251690952924, 1.0000564716215032, 0.9934584959149528, 0.9286618261781902, 1.0000656258392275, 0.9977677259273531, 1.008857903773403, 0.25193902956900993, 0.6556485588783872, 0.09409770983902781, 0.1652019226118902, 0.5653576907162465, 0.26982980693275405, 0.6943422011812994, 0.03941680618059778, 0.26682145722250805, 0.2447622835152176, 0.4125207025537375, 0.3437672521281146, 1.000101692043322, 0.9832319764511819, 0.017876945026385125, 1.0024861219352295, 0.0060824333934175615, 0.9914366431270626, 0.9449448072436227, 0.9801601056847341, 0.6165077602439526, 0.06887416395095927, 0.11926989367117338, 0.19486348825149455, 0.09180898476029076, 0.8560567497919003, 0.0521078021612461, 0.32730412666852254, 0.6683894797230882, 0.0034453065965107635, 1.0012660489827012, 0.10726514608341656, 0.8337427263756468, 0.05850826150004539, 0.9953197995977558, 0.9950110351878407, 0.26416823561368025, 0.45531435731788794, 0.2792022002421011, 0.9995691981655052, 0.9972677199688481, 0.9710261812421461, 0.007894521798716634, 0.01578904359743327, 1.0613278176132668, 1.0011597032354833, 0.11994220930712832, 0.8809548476695976, 1.0001282966102494, 0.9974417267665058, 1.0012251737633824, 1.040233955772431, 1.003658454076512, 1.0193749611086704, 1.002247842921357, 0.9801601056847341, 1.000353523297792, 1.0006155689770408, 0.9465624146144819, 1.0026473230430348, 0.9974417267665058, 1.0019002174001348, 0.9967032703366511, 0.0038334741166794273, 0.014591546826203682, 0.6663473050633015, 0.15077931720410473, 0.1653708640303084, 0.9708849973711745, 0.1964734842695895, 0.30226689887629155, 0.5020989042445065, 0.37808606433746683, 0.6223878289862915, 1.0018342042290436, 1.00011962664475, 1.0007128798073341, 0.9974072502766644, 1.0025617917084484, 0.9976753715614268, 0.6238691909132938, 0.37606486158845254, 0.9667177513464096, 1.0259936835915489, 1.0014458651978342, 1.0008312940742385, 1.0008910960294413, 0.4858154965747265, 0.5134775889063835, 0.0025499430747377033, 0.997027742222442, 1.0019414314446513, 1.000280583706862, 0.9465624279590193, 0.22500250761438156, 0.7721676965857186, 0.0011117513307747253, 0.9961291923741539, 0.0022235026615494507, 1.0012722531502103, 1.0142400357620005, 0.9992747420818175, 1.0002505078178554, 1.0308489407203778, 0.33541841037592207, 0.23866309969055993, 0.4257233670155934, 0.9449448526874192, 0.5413590402259705, 0.4591272872802534, 1.0447445544504639, 0.9990051445730243, 0.5290636855636793, 0.4712600658966309, 0.9368200281576208, 0.7515925060022931, 0.2480002208357735, 1.0005257718252811, 1.0019002404692323, 0.9928542653922843, 0.0033070416100003702, 0.5688111569200637, 0.42660836769004773, 0.9970880919446532, 0.002489608219587149, 1.0022588772174243, 0.9998823511589945, 0.012454488091467633, 0.9839045592259431, 0.9955363491207438, 1.0043756691778158, 0.9974098923500593, 0.9860025291239786, 1.0006896958109388, 1.002910706515901, 0.6186287020448007, 0.38124792102760974, 0.9999416567102795, 0.9952078316210363, 1.0184501906855445, 0.9903976496573065, 0.007125162947174867, 0.6225180076016461, 0.24402705897984528, 0.13446388964195555, 1.0009047692309732, 1.0007869987769344, 0.007493612949491943, 0.10790802647268398, 0.8842463280400492, 0.9368201047369732, 0.9368200919737469, 0.914718175659854, 0.9931146865476422, 0.22358976328216523, 0.7758295400634168, 0.0006734631424161604, 0.9974515950437678, 0.10014122954317854, 0.1768228004171509, 0.7230476888344883, 1.0169303422721527, 0.5459200538262134, 0.3128481683817842, 0.1407816757718029, 0.9974515950437678, 0.19767365418146543, 0.660971281169275, 0.13943052393156935, 0.0017649433409059412, 1.0057537094642697, 0.01931359989166966, 0.021947272604170065, 0.24800418042712175, 0.09656799945834829, 0.19181916256044637, 0.4227044703563155, 0.9911847011820084, 0.0061184240813704225, 1.0029547920716995, 0.7388512474585373, 0.0014708385815365706, 0.08334751962040567, 0.1760103502572096, 0.49114110884693035, 0.5082540394687747, 0.9997140881841929, 1.005060702289197, 0.9983115274054412, 0.993890535345206, 0.9177601682036302, 0.08186593049703743, 1.00009740904471, 0.24663902785364417, 0.7536780593639255, 0.04522066064545779, 0.9552864561352958, 0.4471534257879301, 0.552731317987858, 0.9988892360164411, 0.9801601056847341, 0.9920571635542018, 0.005976247973218083, 1.0098619461607936, 0.9994955723842951, 0.913253286941334, 0.08302302608557582, 0.9909446902981752, 0.43613512568383483, 0.5629545593933187, 1.0011426255114768, 0.9685035972460345, 0.651573847795652, 0.21344660531236875, 0.13480838230254868, 1.0042667585272573, 0.0020659060535176406, 0.9978326238490203, 0.5462571573791545, 0.4542049534749067, 0.0021286716734469024, 0.9983470148465973, 1.0008133515580309, 1.0001240751107343, 0.08354203285355048, 0.22758002053208579, 0.6625747433212624, 0.028807597535707063, 0.991052722230846, 0.9995520230886621, 0.9667177513464096, 0.45622391081274305, 0.1049887660866145, 0.31878407157208405, 0.019088866561202636, 0.10307987943049424, 0.23654551064048943, 0.7669808981373445, 1.0024076636691752, 0.485996989613335, 0.5132491572552043, 1.0058761603838715, 0.9921920730543293, 0.9999550981414504, 0.9994132751101005, 0.02102335821331668, 0.9810900499547783, 0.9465624279590193, 0.9982508831191638, 0.9951506582300669, 1.0006377278346417, 0.914718175659854, 0.9667177864052001, 0.008707361775790299, 0.9926392424400942, 0.14859405836682954, 0.24302766555322586, 0.0020830942761705076, 0.1645644478174701, 0.007638012345958527, 0.1645644478174701, 0.26941352638471894, 1.0006377278346417, 1.0000973947680414, 0.25194542208512116, 0.005998700525836218, 0.7438388652036911, 0.914718175659854, 1.0017237687130311, 0.9685035472034849, 0.9948226245261195, 0.008290188537717662, 0.9996692972824262, 0.5179560682548628, 0.48081959543658964, 0.9985587506013304, 0.003835831049921116, 0.9973160729794902, 1.0002469307630817, 0.9947115585473428, 0.005338344679144952, 1.0012722531502103, 0.9992747783861047, 0.3010766700140876, 0.0031692281054114487, 0.6972301831905188, 0.7857755001411889, 0.21451437986050262, 0.8502814484061635, 0.14927290789034606, 1.0046641083268524, 1.0002636005874737, 0.9942013766216029, 1.0012300073039049, 0.9996852034869692, 1.0088831389659254, 1.0034286114523212, 0.9801601056847341, 0.914718175659854, 0.0006200181877835652, 0.9994693187071072, 1.001163515275988, 0.9449448072436227, 1.0044256352901937, 0.914718175659854, 0.9962969689349562, 1.0002058718673552, 0.9991118522890873, 1.0254743575241818, 0.9685035741494725, 0.33626605056730036, 0.6634027060965745, 0.9801601056847341, 0.9667177864052001, 0.999586703176574, 1.0001067029129114, 0.9975586980265778, 0.9667177513464096, 0.9987229313695469, 0.9975351061608436, 0.004394427780444245, 0.07524247040191537, 0.9246463584946489, 1.004003905980383, 1.0124408649038814, 0.9987495091510069, 0.9844249778149964, 0.9957940385634758, 0.004999929609297146, 0.994985992250132, 0.914718175659854, 0.9983036990791234, 0.914718175659854, 0.9997679689963549, 0.9909446902981752, 0.9979170397159367, 0.9991217171443724, 0.9975311600168002, 0.7060347791647914, 0.294038178078654, 0.729380712529074, 0.2703540495967388, 1.0029547737071738, 1.0193749611086704, 0.9998297999318124, 0.9971796740708929, 0.9930292460818997, 1.0089410542040698, 0.9667177513464096, 0.9966126784687634, 1.0046125334723284, 0.9465624279590193, 0.9801601056847341, 0.9801601056847341, 0.9656411139685167, 0.9368200281576208, 0.9102046620532515, 1.0018691885781665, 0.9989390834157068, 1.0671712049364963, 0.1994587073133217, 0.6573071036461737, 0.14203877642009272, 0.9968648810996418, 0.9966215243187625, 1.008857903773403, 0.9975006906378271, 1.0671712049364963, 0.8726446171825349, 0.12887156793834906, 0.9999056193647718, 0.978366829914312, 0.020467925312014898, 0.914718175659854, 0.9449448526874192, 0.9801601056847341, 0.979402793101253, 0.9943318768630346, 1.031165683707469, 0.9978175236956129, 0.9789036658866194, 0.021280514475796073, 0.9989390447921218, 1.000717849871095, 1.0002008657895327, 1.0012251282585765, 1.0059090854822659, 0.9990093407693473, 1.002436490674317, 0.9970284527923978, 0.9667177513464096, 0.2404093453657778, 0.7608559501686154, 1.0022537462213266, 0.9987218716047479, 0.32780289998164036, 0.3031451597175347, 0.3684156486519321, 0.9789771771790745, 0.016048806183263518, 0.9465624279590193, 0.9792662719666108, 0.9335793080602717, 0.9978175236956129, 0.9998986466160854, 0.6376815968261232, 0.3624233535918254, 0.9368200828571569, 0.9978743509334296, 1.0002685554159552, 0.9909446902981752, 0.2837983556313125, 0.716787151179481, 0.48659517470807573, 0.3064917658875542, 0.11848908475034312, 0.08531214102024705, 0.0015798544633379083, 1.000600401714916, 0.999984551195491, 0.9978743959607985, 0.9465624146144819, 0.005340329358135145, 0.9933012606131371, 1.001967352007936, 0.9968648810996418, 0.5653594828901989, 0.4342988754929255, 1.0012300073039049, 0.006542046608553128, 0.9943910845000755, 0.9983746541309513, 0.5045329394234048, 0.4945668566693623, 1.0062141500129411, 0.9991134282056531, 0.2155862316847756, 0.7842339732301257, 0.31662115235432553, 0.6839016890853432, 0.9999186459187234, 0.43284852234550425, 0.5673078505634693, 0.22317564173274257, 0.7763997677181326, 0.2248435895044235, 0.7752070026197289, 1.0001559186523272, 0.19458600466784567, 0.403161852808543, 0.40189004885646556, 1.0254426302889377, 0.9963815068113051, 1.004003905980383, 0.9996096060455092, 0.005692373083987513, 0.9933191031558211, 0.27725208588925077, 0.26389053958133507, 0.38080406977559744, 0.0790558156551679, 0.914718175659854, 0.7783994784456256, 0.12387103684498169, 0.09787341182813368, 1.0008643493678335, 1.000267398632515, 0.9801601056847341, 0.9927161635032093, 1.0049412886218931, 0.9998835095227434, 0.25785926864412023, 0.7432414213859936, 1.0032393135284194, 1.0010250951243254, 0.9999403489834687, 1.0184501906855445, 1.0026473230430348, 0.3177018246268589, 0.33424161593064333, 0.06340253333117359, 0.2846222420192901, 1.0000280814593323, 1.0007803936423205, 0.09277532850398652, 0.3207375642566391, 0.018555065700797305, 0.567254865710089, 0.6214695137603049, 0.07451292639473044, 0.3043932312295371, 0.914718175659854, 1.0002635801375883, 0.5262369606953189, 0.47344830006130567, 0.2946856949444708, 0.2021931045604398, 0.5033317709270523, 0.9801601056847341, 0.9984675244015244, 1.000344797840152, 0.9997456365929324, 0.00110215767247139, 0.9985548512590794, 0.2336203562707756, 0.7656465457613654, 1.0006088532903, 1.000163346379934, 0.9869267081897575, 1.0007870359025177, 0.888313626949519, 0.11165132687127362, 0.1275794720220644, 0.0472756419168056, 0.8244094816451167, 0.000647611533106926, 0.9998898936526059, 0.2976998735523212, 0.7027669146153156, 0.9989893808711977, 0.5976100053297246, 0.4022100751861154, 0.9999431338590163, 1.0008036622664964, 0.6530385811019322, 0.3474782990660619, 0.004046625584943917, 0.8214649937436151, 0.17400490015258843, 0.9991524203770366, 1.0064458976138364, 0.9978743509334295, 0.9927161635032093, 0.9335793080602718, 0.9991911534743031, 0.016427174043460946, 0.9815236490967915, 1.0038487480809228, 0.9981516580481988, 0.795423975242949, 0.001565795226856199, 0.20355337949130586, 0.9946484701277349, 0.9897348868129977, 0.9667177864052001, 0.9667177864052001, 0.9999234463856332, 1.0034812465366105, 1.0000410793577252, 0.04965286989826015, 0.1386769548168579, 0.44712660115453456, 0.12714143958796917, 0.23748115047299173, 1.003545141047598, 0.9989417560916105, 0.9102046620532515, 0.9994790192956851, 0.983021079694957, 0.993890535345206, 0.914718175659854, 1.013085638439076, 1.0004051957415845, 1.000440470521843, 0.1227915611758286, 0.3033673864344001, 0.5742311243222573, 0.9970264645491389, 0.7035072657816202, 0.2975307408641635, 1.014888432971559, 0.914718175659854, 1.0062141500129411, 0.9335793080602718, 0.20640964123788055, 0.793719548265252, 0.9986294906751365, 1.0012722531502103, 0.914718175659854, 1.0014981005099883, 0.9801601056847341, 1.0000973503517425, 1.0009261808909882, 0.9978743959607985, 0.9999431338590163, 0.9992497180366898, 0.9976314842872921, 1.0002249408217152, 0.9801601056847341, 0.17872979077610832, 0.7929361352686075, 0.0014184904029849866, 0.028369808059699735, 1.0005298286119657, 0.9907751228292638, 0.01338885301120627, 1.0671712049364963, 0.9909446902981752, 0.9972095861058426, 0.99959666588976, 1.0014283765311516, 0.9465624279590193, 1.0035842959135066, 1.0671712049364963, 1.0046641083268524, 0.7589197223909512, 0.24009460308368274, 0.9949948086789829, 0.9965962267136156, 0.004034802537302087, 0.006581823641845051, 0.9938553699186026, 0.2322903194231966, 0.7669585546472785, 0.018318513173945335, 0.9800404548060755, 0.9993209014775679, 0.9708849973711745, 0.9982889801219033, 1.001783626450337, 0.9987282865864998, 0.9989713270020066, 0.0007176518153750047, 1.0326135908591076, 0.22484989144812834, 0.0017164113851002164, 0.7741015346801976, 1.000267398632515, 1.0053249490393743, 1.0010774542293326, 0.9963111983532836, 0.9987495091510069, 0.9992747783861047, 0.997452910559906, 0.995428617455932, 0.9685035928043879, 1.0037358030612396, 1.0117656469513696, 0.9102046620532515, 0.7277350508689895, 0.27241419016486235, 0.9801601056847341, 0.997724389543092, 0.21030919097605613, 0.43772828223491006, 0.2773229670836808, 0.07414290122545708, 1.0051398982518223, 0.9972600518882069, 0.9974515950437678, 0.14811576840175336, 0.683146197118291, 0.006801234263345818, 0.161718236928445, 0.035717030119645415, 0.9643598132304261, 0.9992746936761054, 1.0076310014839867, 0.5086891974600263, 0.1837355011721289, 0.30749123130046363, 1.000325749945128, 0.9993371241238233, 0.9992464389261688, 0.7762256691227611, 0.223546393551826, 0.0008248944411506495, 0.9997772666787967, 1.039439314628345, 0.5767060081409101, 0.06837236178990172, 0.2913257154526247, 0.06242693902556244, 0.9967587643696406, 0.0048622378749738565, 0.9792662292088878, 1.0014981005099883, 0.9685035972460345, 1.0023985616158124, 0.9986576552304375, 0.126653001398048, 0.8733166259190984, 0.9808752335995609, 0.01736062360353205, 0.9335793080602718, 0.9960264414612691, 1.0021445307410033, 0.998770741729572, 1.0007023368859629, 0.984532973998294, 0.018402485495295214, 1.001031084808781, 1.0005814149617267, 1.0033752329729162, 1.023980244809908, 0.9974417930932534, 0.9987693108416436, 1.0014055996710542, 1.0058761603838715, 1.051736055777685, 1.0193749611086704, 0.9792662719666108, 0.9960264414612691, 0.7209766666805999, 0.27956238095778363, 0.005959282935405272, 0.9952002502126804, 0.06889682090689006, 0.9327569599702039, 1.0006915531410159, 0.9465624279590193, 1.0005964636408031, 0.9801601056847341, 0.9449448526874192, 1.000717849871095, 1.037310387649222, 1.0007203450405016, 0.011548271699475246, 0.9931513661548711, 1.0037357639901416, 1.003261225978045, 1.004952386373743, 1.051736055777685, 0.9731434592523864, 0.02495239639108683, 0.2782967280467427, 0.7235714929215311, 1.0113385559521775, 0.9993721910323299, 0.9966163156315407, 0.9368200281576208, 1.0184501906855445, 0.0163146204029015, 0.9788772241740898, 0.9884958065983439, 1.0502767215678057, 0.9978743959607985, 0.999674054803208, 0.9656411139685167, 1.000141507995201, 0.9968728271207278, 0.0013140716731871844, 0.9986944716222601, 1.002224915023321, 1.0001868868692496, 0.9938102942448919, 0.9449448173422438, 1.0005298286119657, 0.8771502058868123, 0.1121936309855225, 0.005099710499341932, 1.0204243547653802, 0.9860293585823761, 1.000600401714916, 0.993890535345206, 0.9965171600954189, 0.7349907637692475, 0.0024418297799642776, 0.08302221251878543, 0.17825357393739225, 0.9928802022969299, 0.007550419789330264, 0.9667177513464096, 0.43024147649685524, 0.5682595343037672, 0.001703926639591506, 1.00197728442899, 1.0053006772043416, 0.9934521886228344, 1.0000666133166654], \"Term\": [\"abil\", \"acceler\", \"accord\", \"accord\", \"accord\", \"account\", \"account\", \"account\", \"account\", \"achiev\", \"achiev\", \"act\", \"action\", \"action\", \"activ\", \"activ\", \"activ\", \"activ\", \"adapt\", \"adapt\", \"addit\", \"addit\", \"addit\", \"addit\", \"address\", \"address\", \"adm\", \"administr\", \"advers\", \"advers\", \"affect\", \"afghanistan\", \"africa\", \"agenc\", \"agenda\", \"aggreg\", \"agrarian\", \"agre\", \"agreement\", \"agricultur\", \"agricultur\", \"aim\", \"aim\", \"aim\", \"aim\", \"airport\", \"align\", \"alloc\", \"alreadi\", \"alreadi\", \"alreadi\", \"ambit\", \"ambiti\", \"amount\", \"amount\", \"amount\", \"analysi\", \"analysi\", \"annual\", \"annual\", \"anthropogen\", \"appli\", \"applic\", \"applic\", \"applic\", \"apprais\", \"approach\", \"approach\", \"appropri\", \"appropri\", \"approv\", \"ar_gwp\", \"area\", \"area\", \"area\", \"areabas\", \"articl\", \"articul\", \"assess\", \"assess\", \"assess\", \"assist\", \"assist\", \"assum\", \"assumpt\", \"assumpt\", \"author\", \"author\", \"avail\", \"avail\", \"avail\", \"averag\", \"averag\", \"avoid\", \"avoid\", \"awar\", \"awar\", \"azerbaijan\", \"bagass\", \"balanc\", \"bangladesh\", \"bangladesh\", \"barrier\", \"bartica\", \"base\", \"base\", \"base_year\", \"baselin\", \"baselin\", \"basic\", \"bau\", \"bau_scenario\", \"bear\", \"bei\", \"beneath\", \"benin\", \"bicycl\", \"bilater\", \"bind\", \"biodivers\", \"bridg\", \"budget\", \"build\", \"build\", \"build\", \"businessasusu\", \"cabo\", \"call\", \"cambodia\", \"capac\", \"capac\", \"capac\", \"capac\", \"carbon\", \"carbon\", \"carbonneutr\", \"carri\", \"carri\", \"carri\", \"cash\", \"catalyz\", \"catastroph\", \"categori\", \"caus\", \"cca\", \"ccap\", \"ccvi\", \"ce\", \"central\", \"ch\", \"challeng\", \"chang\", \"chang\", \"check\", \"children\", \"chile\", \"circul\", \"circumst\", \"civil\", \"civil\", \"clean\", \"clean\", \"clearer\", \"climat\", \"climaterel\", \"climaterelev\", \"coastal\", \"coastal\", \"cobenefit\", \"code\", \"coeq\", \"cogener\", \"cohen\", \"coher\", \"collabor\", \"collect\", \"colombia\", \"combat\", \"commerci\", \"commit\", \"commit\", \"committe\", \"common\", \"commonwealth\", \"commun\", \"commun\", \"commun\", \"commun\", \"compar\", \"complianc\", \"compon\", \"comprehens\", \"comprehens\", \"concern\", \"concession\", \"condit\", \"condit\", \"condit\", \"conduct\", \"conduct\", \"confirm\", \"connect\", \"consumpt\", \"continu\", \"continu\", \"contribut\", \"contribut\", \"contribut\", \"contribut\", \"contribut\", \"convent\", \"coordin\", \"coordin\", \"cop\", \"cope\", \"cost\", \"cost\", \"council\", \"count\", \"counterpart\", \"countri\", \"countri\", \"cover\", \"cover\", \"cover\", \"coverag\", \"cp\", \"cp\", \"criteria\", \"critic\", \"crop\", \"cultur\", \"current\", \"current\", \"current\", \"current\", \"curriculum\", \"cyclon\", \"dam\", \"damag\", \"data\", \"date\", \"de\", \"deal\", \"deal\", \"decad\", \"decarbonis\", \"decemb\", \"decis\", \"declin\", \"declin\", \"decreas\", \"decreas\", \"default\", \"defin\", \"deforest\", \"deform\", \"degrad\", \"demand\", \"demand_side\", \"depart\", \"depend\", \"depend\", \"desertif\", \"despit\", \"despit\", \"detail\", \"determin\", \"develop\", \"develop\", \"develop\", \"development\", \"diesel\", \"dioxid\", \"disaggreg\", \"disast\", \"divers\", \"document\", \"document\", \"document\", \"donor\", \"draft\", \"drive\", \"drought\", \"due\", \"due\", \"due\", \"earli\", \"econom\", \"economi\", \"ecosystem\", \"educ\", \"effect\", \"effect\", \"effici\", \"effort\", \"effort\", \"effort\", \"elabor\", \"elderli\", \"electr\", \"emiss\", \"emit\", \"endur\", \"energi\", \"engag\", \"engin\", \"enhanc\", \"enhanc\", \"enhanc\", \"ensur\", \"ensur\", \"ensur\", \"environ\", \"environ\", \"environ\", \"environment\", \"environment\", \"environment\", \"eq\", \"equal\", \"equal\", \"equip\", \"equival\", \"equival\", \"errat\", \"est\", \"establish\", \"establish\", \"establish\", \"establish\", \"estim\", \"estim\", \"estim\", \"evalu\", \"evalu\", \"evalu\", \"event\", \"exampl\", \"exampl\", \"exampl\", \"exclud\", \"execut\", \"exist\", \"exist\", \"exist\", \"expert\", \"export\", \"extern\", \"extern\", \"extern\", \"extra\", \"extrem\", \"face\", \"face\", \"fair\", \"fall\", \"farm\", \"fed\", \"feder\", \"felt\", \"fertil\", \"fiduciari\", \"financ\", \"financi\", \"firmli\", \"fish\", \"flash\", \"fleet\", \"flood\", \"flood\", \"focu\", \"focu\", \"focu\", \"focu\", \"fodder\", \"follow\", \"follow\", \"follow\", \"food\", \"food\", \"forecast\", \"forest\", \"forestri\", \"formul\", \"forward\", \"fossil_fuel\", \"framework\", \"framework\", \"freedom\", \"fsm\", \"fuel\", \"fund\", \"furthermor\", \"futur\", \"futur\", \"ga\", \"ga\", \"gambia\", \"gase\", \"geffund\", \"gender\", \"gender\", \"gener\", \"gener\", \"gener\", \"gg_co\", \"ggcoe\", \"ghana\", \"ghg\", \"glacial\", \"global\", \"global\", \"global\", \"glof\", \"goal\", \"goal\", \"goj\", \"good\", \"govern\", \"govern\", \"gpglulucf\", \"green\", \"green\", \"greenhous\", \"grid\", \"groundwat\", \"group\", \"group\", \"group\", \"growth\", \"growth\", \"guid\", \"guidelin\", \"guinea\", \"guinea\", \"guyana\", \"gwp\", \"ha\", \"harm\", \"health\", \"hectar\", \"high\", \"high\", \"higher\", \"highest\", \"hotspot\", \"hous\", \"hous\", \"howev\", \"howev\", \"howev\", \"human\", \"hydro\", \"identifi\", \"identifi\", \"identifi\", \"iiii\", \"iiiii\", \"imihigo\", \"immedi\", \"impact\", \"impact\", \"impact\", \"imper\", \"implement\", \"implement\", \"implement\", \"impli\", \"import\", \"import\", \"import\", \"impos\", \"improv\", \"improv\", \"improv\", \"improv\", \"incent\", \"includ\", \"includ\", \"includ\", \"includ\", \"includ\", \"includ\", \"inclus\", \"inclus\", \"incom\", \"increas\", \"increas\", \"increas\", \"increas\", \"indc\", \"indc\", \"indic\", \"individu\", \"indonesia\", \"induc\", \"industri\", \"industri\", \"inequ\", \"inform\", \"inform\", \"infrastructur\", \"infrastructur\", \"initi\", \"initi\", \"innov\", \"insight\", \"instal\", \"instal\", \"instanc\", \"institut\", \"instrument\", \"instrument\", \"insuffici\", \"integr\", \"integr\", \"intend\", \"intermitt\", \"intern\", \"intern\", \"intern\", \"internation\", \"inventori\", \"inventori\", \"invest\", \"invest\", \"ipcc\", \"ipcc\", \"irrig\", \"island\", \"issu\", \"issu\", \"issu\", \"issu\", \"jointli\", \"jordan\", \"kato\", \"kei\", \"kei\", \"kei\", \"kei\", \"kei\", \"kiribati\", \"kiribati\", \"km\", \"knowledg\", \"knowledg\", \"kyoto_protocol\", \"lake\", \"land\", \"landfil\", \"landus\", \"landus\", \"lankan\", \"lao_pdr\", \"launch\", \"law\", \"lcsttp\", \"lecrd\", \"legisl\", \"legisl\", \"level\", \"level\", \"level\", \"level\", \"level\", \"level\", \"level\", \"liberia\", \"limit\", \"line\", \"line\", \"line\", \"lineal\", \"link\", \"liquid\", \"list\", \"list\", \"livestock\", \"local\", \"local\", \"locat\", \"longterm\", \"longterm\", \"loss\", \"low\", \"low\", \"lulucf\", \"madagascar\", \"made\", \"made\", \"made\", \"make\", \"make\", \"manag\", \"manag\", \"mandat\", \"mangrov\", \"map\", \"marin\", \"market\", \"marketbas\", \"master_plan\", \"mayor\", \"mca\", \"measur\", \"measur\", \"mechan\", \"melt\", \"mention\", \"metadata\", \"methan\", \"method\", \"methodolog\", \"micro\", \"mill\", \"million\", \"million\", \"minagri\", \"ministeri\", \"ministri\", \"mitig\", \"mix\", \"moco\", \"model\", \"moldova\", \"moldova\", \"monitor\", \"monitor\", \"monsoon\", \"month\", \"moreov\", \"moresbi\", \"move\", \"mrv\", \"mrv\", \"multimodel\", \"mw\", \"mxico\", \"myanmar\", \"nacion\", \"nama\", \"nap\", \"napa\", \"nation\", \"nation\", \"natur\", \"natur\", \"nauru\", \"ncsa\", \"ndc\", \"net\", \"neutral\", \"nghgi\", \"nigeran\", \"nigeria\", \"niue\", \"nonclimat\", \"nonconvent\", \"nonform\", \"nonpunit\", \"nonrefund\", \"nontradit\", \"north\", \"northern_ireland\", \"notif\", \"object\", \"object\", \"object\", \"observ\", \"ocean\", \"offgrid\", \"oil\", \"opinion\", \"opportun\", \"opportun\", \"option\", \"order\", \"order\", \"oum\", \"outburst\", \"outreach\", \"overview\", \"oxid\", \"page\", \"pakistan\", \"papua_new\", \"papua_new\", \"paragraph\", \"pari\", \"parti\", \"partial\", \"participatori\", \"partner\", \"partnership\", \"pattern\", \"pde\", \"peopl\", \"peopl\", \"per_capita\", \"per_cent\", \"period\", \"period\", \"period\", \"perspect\", \"perspect\", \"philosophi\", \"pico\", \"pipe\", \"plai\", \"plan\", \"plant\", \"plant\", \"pncc\", \"point\", \"polici\", \"policymak\", \"popul\", \"popul\", \"potenti\", \"potenti\", \"potenti\", \"potenti\", \"potenti\", \"poverti\", \"power\", \"pp\", \"pr\", \"practic\", \"practic\", \"precipit\", \"predict\", \"prepar\", \"prepar\", \"prevent\", \"price\", \"price\", \"principl\", \"prioriti\", \"prioriti\", \"prioritis\", \"privat\", \"process\", \"process\", \"produc\", \"produc\", \"product\", \"program\", \"program\", \"programm\", \"programm\", \"progress\", \"progress\", \"project\", \"promot\", \"promot\", \"promot\", \"promulg\", \"proof\", \"properti\", \"propos\", \"protect\", \"protect\", \"provid\", \"provid\", \"provid\", \"provid\", \"proxi\", \"public\", \"public\", \"public\", \"qualiti\", \"quantifi\", \"rab\", \"railwai\", \"rain\", \"rainfal\", \"rate\", \"rate\", \"rcp\", \"real\", \"recommend\", \"reconstruct\", \"redd\", \"reduc\", \"reduc\", \"reduc\", \"reduc\", \"reduct\", \"refer\", \"regard\", \"regard\", \"regard\", \"regard\", \"region\", \"region\", \"region\", \"regress\", \"rehabilit\", \"relat\", \"relat\", \"relev\", \"relev\", \"relev\", \"religi\", \"remov\", \"renew\", \"replac\", \"report\", \"report\", \"republ\", \"republ\", \"requir\", \"research\", \"reservoir\", \"residenti\", \"resili\", \"resili\", \"resourc\", \"resourc\", \"resourc\", \"resourc\", \"respond\", \"respons\", \"respons\", \"restor\", \"result\", \"result\", \"rice\", \"rise\", \"risk\", \"risk\", \"rmi\", \"rmi\", \"rmi\", \"road\", \"roadmap\", \"robust\", \"run\", \"runwai\", \"rural\", \"rwanda\", \"rwanda\", \"sanit\", \"save\", \"scenario\", \"scenario\", \"scenario\", \"scope\", \"scotland\", \"scottish\", \"sddci\", \"sea_level\", \"season\", \"section\", \"sector\", \"sector\", \"sector\", \"sector\", \"sector\", \"sectori\", \"sectorspecif\", \"sectorth\", \"secur\", \"seed\", \"segment\", \"sei\", \"sell\", \"sequestr\", \"servic\", \"set\", \"set\", \"set\", \"settlement\", \"sever\", \"sever\", \"sfslm\", \"shield\", \"short_medium\", \"sidewalk\", \"signific\", \"signific\", \"singapor\", \"sink\", \"situ\", \"situat\", \"snrcc\", \"social\", \"societi\", \"softwar\", \"soil\", \"solar\", \"solid\", \"somalia\", \"sought\", \"sourc\", \"sourc\", \"sourc\", \"sourc\", \"south\", \"south_africa\", \"south_africa\", \"sp\", \"span\", \"speci\", \"specif\", \"specifi\", \"sprcc\", \"sri_lanka\", \"ssp\", \"staff\", \"stakehold\", \"stakehold\", \"stand\", \"standard\", \"standard\", \"start\", \"start\", \"state\", \"state\", \"statist\", \"statist\", \"statu\", \"stem\", \"stock\", \"storm\", \"strateg\", \"strategi\", \"strategi\", \"streamlin\", \"strengthen\", \"strengthen\", \"strengthen\", \"studi\", \"submiss\", \"submit\", \"subnat\", \"substanti\", \"successfulli\", \"sudan\", \"suffici\", \"sugar\", \"summar\", \"summaris\", \"supplier\", \"support\", \"support\", \"suprem\", \"surinam\", \"sustain\", \"sustain\", \"sustain\", \"sustain\", \"swaziland\", \"synergi\", \"syrian\", \"system\", \"system\", \"system\", \"system\", \"systemat\", \"systemat\", \"tabl\", \"tackl\", \"target\", \"target\", \"target\", \"tcoe\", \"technic\", \"techniqu\", \"technolog\", \"technolog\", \"technolog\", \"temperatur\", \"tempor\", \"therefor\", \"therefor\", \"therefor\", \"therefor\", \"thu\", \"thu\", \"timehorizon\", \"todai\", \"toe\", \"ton\", \"tonn\", \"total\", \"total\", \"tourism\", \"tourism\", \"township\", \"track\", \"tradit\", \"train\", \"transfer\", \"transform\", \"transform\", \"transpar\", \"transport\", \"tree\", \"trial\", \"tropic\", \"uae\", \"uk\", \"ultim\", \"unabl\", \"unavoid\", \"uncbd\", \"uncertainti\", \"uncondit\", \"uncondit\", \"understand\", \"understand\", \"undertaken\", \"undertaken\", \"unfccc\", \"unfold\", \"unit\", \"unredd\", \"unremit\", \"updat\", \"upstream\", \"urban\", \"urgent\", \"urgent\", \"us_billion\", \"usd\", \"usd_billion\", \"usm_pgk\", \"util\", \"util\", \"valu\", \"valu\", \"vast\", \"vehicl\", \"verd\", \"vest\", \"vi\", \"viet_nam\", \"viet_nam\", \"vii\", \"viii\", \"virtual\", \"vision\", \"viv\", \"vulner\", \"warn\", \"wast\", \"wast\", \"wastewat\", \"water\", \"watersh\", \"waterstress\", \"wave\", \"weather\", \"weather\", \"weather\", \"welsh\", \"winter\", \"women\", \"women_men\", \"wood\", \"work\", \"work\", \"work\", \"work\", \"world\", \"world\", \"xvi\", \"year\", \"year\", \"year\", \"yemen\", \"yield\", \"zimbabw\", \"zone\"]}, \"R\": 30, \"lambda.step\": 0.01, \"plot.opts\": {\"xlab\": \"PC1\", \"ylab\": \"PC2\"}, \"topic.order\": [12, 6, 5, 11, 9, 8, 7, 10, 2, 4, 1, 3]};\n",
              "\n",
              "function LDAvis_load_lib(url, callback){\n",
              "  var s = document.createElement('script');\n",
              "  s.src = url;\n",
              "  s.async = true;\n",
              "  s.onreadystatechange = s.onload = callback;\n",
              "  s.onerror = function(){console.warn(\"failed to load library \" + url);};\n",
              "  document.getElementsByTagName(\"head\")[0].appendChild(s);\n",
              "}\n",
              "\n",
              "if(typeof(LDAvis) !== \"undefined\"){\n",
              "   // already loaded: just create the visualization\n",
              "   !function(LDAvis){\n",
              "       new LDAvis(\"#\" + \"ldavis_el62140321289447760243993732\", ldavis_el62140321289447760243993732_data);\n",
              "   }(LDAvis);\n",
              "}else if(typeof define === \"function\" && define.amd){\n",
              "   // require.js is available: use it to load d3/LDAvis\n",
              "   require.config({paths: {d3: \"https://d3js.org/d3.v5\"}});\n",
              "   require([\"d3\"], function(d3){\n",
              "      window.d3 = d3;\n",
              "      LDAvis_load_lib(\"https://cdn.jsdelivr.net/gh/bmabey/pyLDAvis/pyLDAvis/js/ldavis.v3.0.0.js\", function(){\n",
              "        new LDAvis(\"#\" + \"ldavis_el62140321289447760243993732\", ldavis_el62140321289447760243993732_data);\n",
              "      });\n",
              "    });\n",
              "}else{\n",
              "    // require.js not available: dynamically load d3 & LDAvis\n",
              "    LDAvis_load_lib(\"https://d3js.org/d3.v5.js\", function(){\n",
              "         LDAvis_load_lib(\"https://cdn.jsdelivr.net/gh/bmabey/pyLDAvis/pyLDAvis/js/ldavis.v3.0.0.js\", function(){\n",
              "                 new LDAvis(\"#\" + \"ldavis_el62140321289447760243993732\", ldavis_el62140321289447760243993732_data);\n",
              "            })\n",
              "         });\n",
              "}\n",
              "</script>"
            ],
            "text/plain": [
              "PreparedData(topic_coordinates=              x         y  topics  cluster      Freq\n",
              "topic                                               \n",
              "11    -0.185353  0.210863       1        1  8.993087\n",
              "5     -0.007174  0.127913       2        1  8.749079\n",
              "4      0.156473 -0.181101       3        1  8.607582\n",
              "10     0.255629 -0.086689       4        1  8.522933\n",
              "8      0.014479 -0.078078       5        1  8.459342\n",
              "7     -0.074062  0.257932       6        1  8.441572\n",
              "6      0.151035 -0.003168       7        1  8.259992\n",
              "9      0.217281  0.126156       8        1  8.243989\n",
              "1     -0.208223 -0.108212       9        1  8.158179\n",
              "3     -0.133321 -0.254642      10        1  7.981164\n",
              "0     -0.226670 -0.104123      11        1  7.877992\n",
              "2      0.039906  0.093148      12        1  7.705089, topic_info=        Term         Freq        Total Category  logprob  loglift\n",
              "110   climat  7028.000000  7028.000000  Default  30.0000  30.0000\n",
              "109    chang  5442.000000  5442.000000  Default  29.0000  29.0000\n",
              "181    emiss  4232.000000  4232.000000  Default  28.0000  28.0000\n",
              "43    nation  4662.000000  4662.000000  Default  27.0000  27.0000\n",
              "9     energi  3326.000000  3326.000000  Default  26.0000  26.0000\n",
              "..       ...          ...          ...      ...      ...      ...\n",
              "302    relev   233.951836   464.902105  Topic12  -4.7837   1.8766\n",
              "424   period   253.630030   689.438684  Topic12  -4.7029   1.5633\n",
              "333  current   262.375882   821.721993  Topic12  -4.6690   1.4217\n",
              "544   regard   214.273642   377.255468  Topic12  -4.8715   1.9976\n",
              "369   system   214.273642  1323.289222  Topic12  -4.8715   0.7427\n",
              "\n",
              "[862 rows x 6 columns], token_table=      Topic      Freq     Term\n",
              "term                          \n",
              "2755      5  0.994490     abil\n",
              "852       2  0.998312  acceler\n",
              "100       1  0.056094   accord\n",
              "100       6  0.396275   accord\n",
              "100       8  0.548271   accord\n",
              "...     ...       ...      ...\n",
              "177      10  0.001704     year\n",
              "415       2  1.001977    yemen\n",
              "178      11  1.005301    yield\n",
              "1675      2  0.993452  zimbabw\n",
              "1155      1  1.000067     zone\n",
              "\n",
              "[1077 rows x 3 columns], R=30, lambda_step=0.01, plot_opts={'xlab': 'PC1', 'ylab': 'PC2'}, topic_order=[12, 6, 5, 11, 9, 8, 7, 10, 2, 4, 1, 3])"
            ]
          },
          "metadata": {
            "tags": []
          },
          "execution_count": 54
        }
      ]
    },
    {
      "cell_type": "markdown",
      "metadata": {
        "id": "dIiPx82rkZuT"
      },
      "source": [
        "Compute dominant topic for each document"
      ]
    },
    {
      "cell_type": "code",
      "metadata": {
        "id": "8jn95Fib5_nf"
      },
      "source": [
        "def format_topics_sentences(ldamodel, corpus, texts):\n",
        "    sent_topics_df = pd.DataFrame()\n",
        "\n",
        "    for i, row in enumerate(ldamodel[corpus]):\n",
        "        row = sorted(row, key=lambda x: (x[1]), reverse=True)\n",
        "        for j, (topic_num, prop_topic) in enumerate(row):\n",
        "            # dominant topic\n",
        "            if j == 0: \n",
        "                wp = ldamodel.show_topic(topic_num)\n",
        "                topic_keywords = \", \".join([word for word, prop in wp])\n",
        "                sent_topics_df = sent_topics_df.append(pd.Series([int(topic_num), round(prop_topic,4), topic_keywords]), ignore_index=True)\n",
        "            else:\n",
        "                break\n",
        "\n",
        "    contents = df.NDC\n",
        "    document = df.Document\n",
        "    sent_topics_df = pd.concat([sent_topics_df, contents, document], axis=1)\n",
        "    sent_topics_df.columns = ['Dominant_Topic', 'Topic_Perc_Contrib', 'Keywords', 'Text', 'Document']\n",
        "\n",
        "    return(sent_topics_df)"
      ],
      "execution_count": 75,
      "outputs": []
    },
    {
      "cell_type": "code",
      "metadata": {
        "colab": {
          "base_uri": "https://localhost:8080/",
          "height": 422
        },
        "id": "irq6XcgQGIQL",
        "outputId": "33b1d063-57bd-4ef0-9ff7-c7e72381548e"
      },
      "source": [
        "df_dominant_topic = format_topics_sentences(ldamodel=optimal_model, corpus=corpus, texts=df.NDC)\n",
        "\n",
        "df_dominant_topic"
      ],
      "execution_count": 76,
      "outputs": [
        {
          "output_type": "execute_result",
          "data": {
            "text/html": [
              "<div>\n",
              "<style scoped>\n",
              "    .dataframe tbody tr th:only-of-type {\n",
              "        vertical-align: middle;\n",
              "    }\n",
              "\n",
              "    .dataframe tbody tr th {\n",
              "        vertical-align: top;\n",
              "    }\n",
              "\n",
              "    .dataframe thead th {\n",
              "        text-align: right;\n",
              "    }\n",
              "</style>\n",
              "<table border=\"1\" class=\"dataframe\">\n",
              "  <thead>\n",
              "    <tr style=\"text-align: right;\">\n",
              "      <th></th>\n",
              "      <th>Dominant_Topic</th>\n",
              "      <th>Topic_Perc_Contrib</th>\n",
              "      <th>Keywords</th>\n",
              "      <th>Text</th>\n",
              "      <th>Document</th>\n",
              "    </tr>\n",
              "  </thead>\n",
              "  <tbody>\n",
              "    <tr>\n",
              "      <th>0</th>\n",
              "      <td>1.0</td>\n",
              "      <td>0.1644</td>\n",
              "      <td>energi, gener, effici, transport, electr, wast...</td>\n",
              "      <td>Cabo Verde is committed to implement the Susta...</td>\n",
              "      <td>../txts/CPV_Cabo-Verde_First_NDC_English_Parag...</td>\n",
              "    </tr>\n",
              "    <tr>\n",
              "      <th>1</th>\n",
              "      <td>6.0</td>\n",
              "      <td>0.1828</td>\n",
              "      <td>mitig, implement, sector, measur, action, requ...</td>\n",
              "      <td>This updated NDC updates and strengthens the f...</td>\n",
              "      <td>../txts/RWA_Rwanda_First_NDC_English_Paragraph...</td>\n",
              "    </tr>\n",
              "    <tr>\n",
              "      <th>2</th>\n",
              "      <td>3.0</td>\n",
              "      <td>0.1772</td>\n",
              "      <td>water, manag, resourc, system, improv, protect...</td>\n",
              "      <td>Gambia Watershed by a) Improving disaster prep...</td>\n",
              "      <td>../txts/GMB_Gambia_First_NDC_English_Paragraph...</td>\n",
              "    </tr>\n",
              "    <tr>\n",
              "      <th>3</th>\n",
              "      <td>6.0</td>\n",
              "      <td>0.1425</td>\n",
              "      <td>mitig, implement, sector, measur, action, requ...</td>\n",
              "      <td>The estimated cost to reach the 14 target is t...</td>\n",
              "      <td>../txts/JOR_Jordan_First_NDC_English_Paragraph...</td>\n",
              "    </tr>\n",
              "    <tr>\n",
              "      <th>4</th>\n",
              "      <td>9.0</td>\n",
              "      <td>0.1348</td>\n",
              "      <td>contribut, nation, ndc, commit, agreement, det...</td>\n",
              "      <td>Moreover, national efforts to implement INDC i...</td>\n",
              "      <td>../txts/FSM_Micronesia_First_NDC_English_Parag...</td>\n",
              "    </tr>\n",
              "    <tr>\n",
              "      <th>...</th>\n",
              "      <td>...</td>\n",
              "      <td>...</td>\n",
              "      <td>...</td>\n",
              "      <td>...</td>\n",
              "      <td>...</td>\n",
              "    </tr>\n",
              "    <tr>\n",
              "      <th>10817</th>\n",
              "      <td>11.0</td>\n",
              "      <td>0.1379</td>\n",
              "      <td>increas, temperatur, flood, year, due, drought...</td>\n",
              "      <td>conducting surveillance and research on waterb...</td>\n",
              "      <td>../txts/KHM_Cambodia_First_NDC_English_Paragra...</td>\n",
              "    </tr>\n",
              "    <tr>\n",
              "      <th>10818</th>\n",
              "      <td>6.0</td>\n",
              "      <td>0.1220</td>\n",
              "      <td>mitig, implement, sector, measur, action, requ...</td>\n",
              "      <td>The above chart contains a not exhaustive list...</td>\n",
              "      <td>../txts/URY_Uruguay_First_NDC_Translation_Engl...</td>\n",
              "    </tr>\n",
              "    <tr>\n",
              "      <th>10819</th>\n",
              "      <td>4.0</td>\n",
              "      <td>0.1615</td>\n",
              "      <td>support, technolog, capac, build, intern, inst...</td>\n",
              "      <td>principles to be respected by the state, local...</td>\n",
              "      <td>../txts/MAR_Morocco_First_NDC_Translation_Engl...</td>\n",
              "    </tr>\n",
              "    <tr>\n",
              "      <th>10820</th>\n",
              "      <td>10.0</td>\n",
              "      <td>0.1977</td>\n",
              "      <td>nation, develop, plan, polici, strategi, actio...</td>\n",
              "      <td>Integrated planning is the key means of implem...</td>\n",
              "      <td>../txts/LKA_Sri-Lanka_First_NDC_English_Paragr...</td>\n",
              "    </tr>\n",
              "    <tr>\n",
              "      <th>10821</th>\n",
              "      <td>4.0</td>\n",
              "      <td>0.2124</td>\n",
              "      <td>support, technolog, capac, build, intern, inst...</td>\n",
              "      <td>Undertake barrier analysis for technology tra...</td>\n",
              "      <td>../txts/MDA_Republic-of-Moldova_First_NDC_Engl...</td>\n",
              "    </tr>\n",
              "  </tbody>\n",
              "</table>\n",
              "<p>10822 rows × 5 columns</p>\n",
              "</div>"
            ],
            "text/plain": [
              "       Dominant_Topic  ...                                           Document\n",
              "0                 1.0  ...  ../txts/CPV_Cabo-Verde_First_NDC_English_Parag...\n",
              "1                 6.0  ...  ../txts/RWA_Rwanda_First_NDC_English_Paragraph...\n",
              "2                 3.0  ...  ../txts/GMB_Gambia_First_NDC_English_Paragraph...\n",
              "3                 6.0  ...  ../txts/JOR_Jordan_First_NDC_English_Paragraph...\n",
              "4                 9.0  ...  ../txts/FSM_Micronesia_First_NDC_English_Parag...\n",
              "...               ...  ...                                                ...\n",
              "10817            11.0  ...  ../txts/KHM_Cambodia_First_NDC_English_Paragra...\n",
              "10818             6.0  ...  ../txts/URY_Uruguay_First_NDC_Translation_Engl...\n",
              "10819             4.0  ...  ../txts/MAR_Morocco_First_NDC_Translation_Engl...\n",
              "10820            10.0  ...  ../txts/LKA_Sri-Lanka_First_NDC_English_Paragr...\n",
              "10821             4.0  ...  ../txts/MDA_Republic-of-Moldova_First_NDC_Engl...\n",
              "\n",
              "[10822 rows x 5 columns]"
            ]
          },
          "metadata": {
            "tags": []
          },
          "execution_count": 76
        }
      ]
    },
    {
      "cell_type": "markdown",
      "metadata": {
        "id": "oFTnWIDVHHVR"
      },
      "source": [
        "Show most representative documents for each topic"
      ]
    },
    {
      "cell_type": "code",
      "metadata": {
        "colab": {
          "base_uri": "https://localhost:8080/",
          "height": 425
        },
        "id": "EL5tUdMsHV7S",
        "outputId": "f4900ff3-55f6-4cb1-e5a8-bd305e538985"
      },
      "source": [
        "sent_topics_sorteddf_mallet = pd.DataFrame()\n",
        "\n",
        "sent_topics_outdf_grpd = df_dominant_topic.groupby('Dominant_Topic')\n",
        "\n",
        "for i, grp in sent_topics_outdf_grpd:\n",
        "    sent_topics_sorteddf_mallet = pd.concat([sent_topics_sorteddf_mallet, \n",
        "                                             grp.sort_values(['Topic_Perc_Contrib'], ascending=[0]).head(1)], \n",
        "                                            axis=0)\n",
        "\n",
        "sent_topics_sorteddf_mallet"
      ],
      "execution_count": 81,
      "outputs": [
        {
          "output_type": "execute_result",
          "data": {
            "text/html": [
              "<div>\n",
              "<style scoped>\n",
              "    .dataframe tbody tr th:only-of-type {\n",
              "        vertical-align: middle;\n",
              "    }\n",
              "\n",
              "    .dataframe tbody tr th {\n",
              "        vertical-align: top;\n",
              "    }\n",
              "\n",
              "    .dataframe thead th {\n",
              "        text-align: right;\n",
              "    }\n",
              "</style>\n",
              "<table border=\"1\" class=\"dataframe\">\n",
              "  <thead>\n",
              "    <tr style=\"text-align: right;\">\n",
              "      <th></th>\n",
              "      <th>Dominant_Topic</th>\n",
              "      <th>Topic_Perc_Contrib</th>\n",
              "      <th>Keywords</th>\n",
              "      <th>Text</th>\n",
              "      <th>Document</th>\n",
              "    </tr>\n",
              "  </thead>\n",
              "  <tbody>\n",
              "    <tr>\n",
              "      <th>6831</th>\n",
              "      <td>0.0</td>\n",
              "      <td>0.4733</td>\n",
              "      <td>agricultur, forest, land, product, sector, are...</td>\n",
              "      <td>paradigm that consists in adjusting the supply...</td>\n",
              "      <td>../txts/URY_Uruguay_First_NDC_Translation_Engl...</td>\n",
              "    </tr>\n",
              "    <tr>\n",
              "      <th>579</th>\n",
              "      <td>1.0</td>\n",
              "      <td>0.4413</td>\n",
              "      <td>energi, gener, effici, transport, electr, wast...</td>\n",
              "      <td>In addition to gridbased clean power, distribu...</td>\n",
              "      <td>../txts/ARE_United-Arab-Emirates_Second_NDC_En...</td>\n",
              "    </tr>\n",
              "    <tr>\n",
              "      <th>4601</th>\n",
              "      <td>2.0</td>\n",
              "      <td>0.5606</td>\n",
              "      <td>project, includ, base, report, data, inform, a...</td>\n",
              "      <td>11 IPCC, 2013 Summary for Policymakers. In Cli...</td>\n",
              "      <td>../txts/BRA_Brazil_First_NDC_English_Paragraph...</td>\n",
              "    </tr>\n",
              "    <tr>\n",
              "      <th>249</th>\n",
              "      <td>3.0</td>\n",
              "      <td>0.3458</td>\n",
              "      <td>water, manag, resourc, system, improv, protect...</td>\n",
              "      <td>Thailands prioritized adaptation efforts inclu...</td>\n",
              "      <td>../txts/THA_Thailand_First_NDC_English_Paragra...</td>\n",
              "    </tr>\n",
              "    <tr>\n",
              "      <th>6102</th>\n",
              "      <td>4.0</td>\n",
              "      <td>0.4542</td>\n",
              "      <td>support, technolog, capac, build, intern, inst...</td>\n",
              "      <td>4 The SNRCC operates at charge of the Ministry...</td>\n",
              "      <td>../txts/URY_Uruguay_First_NDC_Translation_Engl...</td>\n",
              "    </tr>\n",
              "    <tr>\n",
              "      <th>3464</th>\n",
              "      <td>5.0</td>\n",
              "      <td>0.4079</td>\n",
              "      <td>countri, econom, develop, growth, economi, pop...</td>\n",
              "      <td>From another angle, the modest income levels o...</td>\n",
              "      <td>../txts/JOR_Jordan_First_NDC_English_Paragraph...</td>\n",
              "    </tr>\n",
              "    <tr>\n",
              "      <th>547</th>\n",
              "      <td>6.0</td>\n",
              "      <td>0.4024</td>\n",
              "      <td>mitig, implement, sector, measur, action, requ...</td>\n",
              "      <td>3.1 Investment Requirements In the 10year peri...</td>\n",
              "      <td>../txts/GHA_Ghana_First_NDC_English_Paragraph5...</td>\n",
              "    </tr>\n",
              "    <tr>\n",
              "      <th>6879</th>\n",
              "      <td>7.0</td>\n",
              "      <td>0.4421</td>\n",
              "      <td>emiss, ghg, reduct, ga, greenhous, estim, targ...</td>\n",
              "      <td>(corresponding to 2.6 reduction of total emiss...</td>\n",
              "      <td>../txts/JPN_Japan_First_NDC_English_Paragraph8...</td>\n",
              "    </tr>\n",
              "    <tr>\n",
              "      <th>2331</th>\n",
              "      <td>8.0</td>\n",
              "      <td>0.3491</td>\n",
              "      <td>climat, chang, adapt, vulner, impact, resili, ...</td>\n",
              "      <td>current and ongoing national development polic...</td>\n",
              "      <td>../txts/DMA_Dominica_First_NDC_English_Paragra...</td>\n",
              "    </tr>\n",
              "    <tr>\n",
              "      <th>1690</th>\n",
              "      <td>9.0</td>\n",
              "      <td>0.5141</td>\n",
              "      <td>contribut, nation, ndc, commit, agreement, det...</td>\n",
              "      <td>Submission by Iceland to the ADP Icelands Inte...</td>\n",
              "      <td>../txts/ISL_Iceland_First_NDC_English_Paragrap...</td>\n",
              "    </tr>\n",
              "    <tr>\n",
              "      <th>10184</th>\n",
              "      <td>10.0</td>\n",
              "      <td>0.3949</td>\n",
              "      <td>nation, develop, plan, polici, strategi, actio...</td>\n",
              "      <td>14 Program of Action for European Integration ...</td>\n",
              "      <td>../txts/MDA_Republic-of-Moldova_First_NDC_Engl...</td>\n",
              "    </tr>\n",
              "    <tr>\n",
              "      <th>8003</th>\n",
              "      <td>11.0</td>\n",
              "      <td>0.7133</td>\n",
              "      <td>increas, temperatur, flood, year, due, drought...</td>\n",
              "      <td>Current climate, projected climate change and ...</td>\n",
              "      <td>../txts/KIR_Kiribati_First_NDC_English_Paragra...</td>\n",
              "    </tr>\n",
              "  </tbody>\n",
              "</table>\n",
              "</div>"
            ],
            "text/plain": [
              "       Dominant_Topic  ...                                           Document\n",
              "6831              0.0  ...  ../txts/URY_Uruguay_First_NDC_Translation_Engl...\n",
              "579               1.0  ...  ../txts/ARE_United-Arab-Emirates_Second_NDC_En...\n",
              "4601              2.0  ...  ../txts/BRA_Brazil_First_NDC_English_Paragraph...\n",
              "249               3.0  ...  ../txts/THA_Thailand_First_NDC_English_Paragra...\n",
              "6102              4.0  ...  ../txts/URY_Uruguay_First_NDC_Translation_Engl...\n",
              "3464              5.0  ...  ../txts/JOR_Jordan_First_NDC_English_Paragraph...\n",
              "547               6.0  ...  ../txts/GHA_Ghana_First_NDC_English_Paragraph5...\n",
              "6879              7.0  ...  ../txts/JPN_Japan_First_NDC_English_Paragraph8...\n",
              "2331              8.0  ...  ../txts/DMA_Dominica_First_NDC_English_Paragra...\n",
              "1690              9.0  ...  ../txts/ISL_Iceland_First_NDC_English_Paragrap...\n",
              "10184            10.0  ...  ../txts/MDA_Republic-of-Moldova_First_NDC_Engl...\n",
              "8003             11.0  ...  ../txts/KIR_Kiribati_First_NDC_English_Paragra...\n",
              "\n",
              "[12 rows x 5 columns]"
            ]
          },
          "metadata": {
            "tags": []
          },
          "execution_count": 81
        }
      ]
    },
    {
      "cell_type": "markdown",
      "metadata": {
        "id": "Ndl0oBKyKvQG"
      },
      "source": [
        "Compute aggregated data for each country"
      ]
    },
    {
      "cell_type": "code",
      "metadata": {
        "id": "hvnpTKN4KtsW"
      },
      "source": [
        "def compute_iso(document):\n",
        "  pos = document.find('_')\n",
        "  return document[(pos-3):pos]"
      ],
      "execution_count": 103,
      "outputs": []
    },
    {
      "cell_type": "code",
      "metadata": {
        "id": "dI82wO-zMHqg"
      },
      "source": [
        "def country_name(document):\n",
        "  pos1 = document.find('_')\n",
        "  pos2 = document.find('_', pos1+1)\n",
        "  return document[pos1+1:pos2]"
      ],
      "execution_count": 109,
      "outputs": []
    },
    {
      "cell_type": "code",
      "metadata": {
        "id": "HkWM71SqOcdx"
      },
      "source": [
        "def doc_topic_distribution(ldamodel, corpus, df):\n",
        "    topic_distr = pd.DataFrame()\n",
        "    # percentages for each topic\n",
        "    for row in ldamodel[corpus]:\n",
        "        percentages = [perc for topic, perc in row]\n",
        "        topic_distr = topic_distr.append(pd.Series(percentages), ignore_index=True)\n",
        "    # add original text, doc name, country name and ISO\n",
        "    contents = df.NDC\n",
        "    document = df.Document\n",
        "    iso = df.Document.apply(compute_iso)\n",
        "    country = df.Document.apply(country_name)\n",
        "\n",
        "    topic_distr = pd.concat([topic_distr, contents, document, iso, country], axis=1)\n",
        "    columns = [str(x) for x in range(12)]\n",
        "    columns.extend(['Text', 'Document', 'ISO', 'Country'])\n",
        "    topic_distr.columns = columns\n",
        "\n",
        "    return topic_distr"
      ],
      "execution_count": 135,
      "outputs": []
    },
    {
      "cell_type": "markdown",
      "metadata": {
        "id": "mxiyxlZlVIfH"
      },
      "source": [
        "Compute distribution of topics in each paragraph"
      ]
    },
    {
      "cell_type": "code",
      "metadata": {
        "colab": {
          "base_uri": "https://localhost:8080/",
          "height": 1000
        },
        "id": "hCLKbi80UQ_8",
        "outputId": "a0af3424-348c-4f48-fdf5-81171dec7651"
      },
      "source": [
        "distr_df = doc_topic_distribution(optimal_model, corpus, df)\n",
        "distr_df"
      ],
      "execution_count": 138,
      "outputs": [
        {
          "output_type": "execute_result",
          "data": {
            "text/html": [
              "<div>\n",
              "<style scoped>\n",
              "    .dataframe tbody tr th:only-of-type {\n",
              "        vertical-align: middle;\n",
              "    }\n",
              "\n",
              "    .dataframe tbody tr th {\n",
              "        vertical-align: top;\n",
              "    }\n",
              "\n",
              "    .dataframe thead th {\n",
              "        text-align: right;\n",
              "    }\n",
              "</style>\n",
              "<table border=\"1\" class=\"dataframe\">\n",
              "  <thead>\n",
              "    <tr style=\"text-align: right;\">\n",
              "      <th></th>\n",
              "      <th>0</th>\n",
              "      <th>1</th>\n",
              "      <th>2</th>\n",
              "      <th>3</th>\n",
              "      <th>4</th>\n",
              "      <th>5</th>\n",
              "      <th>6</th>\n",
              "      <th>7</th>\n",
              "      <th>8</th>\n",
              "      <th>9</th>\n",
              "      <th>10</th>\n",
              "      <th>11</th>\n",
              "      <th>Text</th>\n",
              "      <th>Document</th>\n",
              "      <th>ISO</th>\n",
              "      <th>Country</th>\n",
              "    </tr>\n",
              "  </thead>\n",
              "  <tbody>\n",
              "    <tr>\n",
              "      <th>0</th>\n",
              "      <td>0.056906</td>\n",
              "      <td>0.164414</td>\n",
              "      <td>0.056306</td>\n",
              "      <td>0.064330</td>\n",
              "      <td>0.089584</td>\n",
              "      <td>0.057868</td>\n",
              "      <td>0.064139</td>\n",
              "      <td>0.069820</td>\n",
              "      <td>0.062858</td>\n",
              "      <td>0.083898</td>\n",
              "      <td>0.141880</td>\n",
              "      <td>0.087996</td>\n",
              "      <td>Cabo Verde is committed to implement the Susta...</td>\n",
              "      <td>../txts/CPV_Cabo-Verde_First_NDC_English_Parag...</td>\n",
              "      <td>CPV</td>\n",
              "      <td>Cabo-Verde</td>\n",
              "    </tr>\n",
              "    <tr>\n",
              "      <th>1</th>\n",
              "      <td>0.054304</td>\n",
              "      <td>0.046105</td>\n",
              "      <td>0.156100</td>\n",
              "      <td>0.058654</td>\n",
              "      <td>0.080736</td>\n",
              "      <td>0.054706</td>\n",
              "      <td>0.182793</td>\n",
              "      <td>0.063483</td>\n",
              "      <td>0.056152</td>\n",
              "      <td>0.130133</td>\n",
              "      <td>0.071436</td>\n",
              "      <td>0.045397</td>\n",
              "      <td>This updated NDC updates and strengthens the f...</td>\n",
              "      <td>../txts/RWA_Rwanda_First_NDC_English_Paragraph...</td>\n",
              "      <td>RWA</td>\n",
              "      <td>Rwanda</td>\n",
              "    </tr>\n",
              "    <tr>\n",
              "      <th>2</th>\n",
              "      <td>0.071764</td>\n",
              "      <td>0.072196</td>\n",
              "      <td>0.070634</td>\n",
              "      <td>0.177184</td>\n",
              "      <td>0.087571</td>\n",
              "      <td>0.070621</td>\n",
              "      <td>0.070728</td>\n",
              "      <td>0.073471</td>\n",
              "      <td>0.079868</td>\n",
              "      <td>0.070621</td>\n",
              "      <td>0.070621</td>\n",
              "      <td>0.084721</td>\n",
              "      <td>Gambia Watershed by a) Improving disaster prep...</td>\n",
              "      <td>../txts/GMB_Gambia_First_NDC_English_Paragraph...</td>\n",
              "      <td>GMB</td>\n",
              "      <td>Gambia</td>\n",
              "    </tr>\n",
              "    <tr>\n",
              "      <th>3</th>\n",
              "      <td>0.061275</td>\n",
              "      <td>0.062224</td>\n",
              "      <td>0.061275</td>\n",
              "      <td>0.076000</td>\n",
              "      <td>0.061275</td>\n",
              "      <td>0.108658</td>\n",
              "      <td>0.142537</td>\n",
              "      <td>0.136371</td>\n",
              "      <td>0.061564</td>\n",
              "      <td>0.099174</td>\n",
              "      <td>0.061275</td>\n",
              "      <td>0.068374</td>\n",
              "      <td>The estimated cost to reach the 14 target is t...</td>\n",
              "      <td>../txts/JOR_Jordan_First_NDC_English_Paragraph...</td>\n",
              "      <td>JOR</td>\n",
              "      <td>Jordan</td>\n",
              "    </tr>\n",
              "    <tr>\n",
              "      <th>4</th>\n",
              "      <td>0.062194</td>\n",
              "      <td>0.069335</td>\n",
              "      <td>0.062189</td>\n",
              "      <td>0.074378</td>\n",
              "      <td>0.081125</td>\n",
              "      <td>0.086128</td>\n",
              "      <td>0.109306</td>\n",
              "      <td>0.086685</td>\n",
              "      <td>0.076546</td>\n",
              "      <td>0.134848</td>\n",
              "      <td>0.095077</td>\n",
              "      <td>0.062189</td>\n",
              "      <td>Moreover, national efforts to implement INDC i...</td>\n",
              "      <td>../txts/FSM_Micronesia_First_NDC_English_Parag...</td>\n",
              "      <td>FSM</td>\n",
              "      <td>Micronesia</td>\n",
              "    </tr>\n",
              "    <tr>\n",
              "      <th>...</th>\n",
              "      <td>...</td>\n",
              "      <td>...</td>\n",
              "      <td>...</td>\n",
              "      <td>...</td>\n",
              "      <td>...</td>\n",
              "      <td>...</td>\n",
              "      <td>...</td>\n",
              "      <td>...</td>\n",
              "      <td>...</td>\n",
              "      <td>...</td>\n",
              "      <td>...</td>\n",
              "      <td>...</td>\n",
              "      <td>...</td>\n",
              "      <td>...</td>\n",
              "      <td>...</td>\n",
              "      <td>...</td>\n",
              "    </tr>\n",
              "    <tr>\n",
              "      <th>10817</th>\n",
              "      <td>0.070621</td>\n",
              "      <td>0.070621</td>\n",
              "      <td>0.090928</td>\n",
              "      <td>0.092508</td>\n",
              "      <td>0.087571</td>\n",
              "      <td>0.070621</td>\n",
              "      <td>0.070621</td>\n",
              "      <td>0.070621</td>\n",
              "      <td>0.096733</td>\n",
              "      <td>0.070621</td>\n",
              "      <td>0.070621</td>\n",
              "      <td>0.137910</td>\n",
              "      <td>conducting surveillance and research on waterb...</td>\n",
              "      <td>../txts/KHM_Cambodia_First_NDC_English_Paragra...</td>\n",
              "      <td>KHM</td>\n",
              "      <td>Cambodia</td>\n",
              "    </tr>\n",
              "    <tr>\n",
              "      <th>10818</th>\n",
              "      <td>0.085037</td>\n",
              "      <td>0.076667</td>\n",
              "      <td>0.083668</td>\n",
              "      <td>0.074611</td>\n",
              "      <td>0.073403</td>\n",
              "      <td>0.077089</td>\n",
              "      <td>0.121952</td>\n",
              "      <td>0.095584</td>\n",
              "      <td>0.070621</td>\n",
              "      <td>0.078299</td>\n",
              "      <td>0.083262</td>\n",
              "      <td>0.079806</td>\n",
              "      <td>The above chart contains a not exhaustive list...</td>\n",
              "      <td>../txts/URY_Uruguay_First_NDC_Translation_Engl...</td>\n",
              "      <td>URY</td>\n",
              "      <td>Uruguay</td>\n",
              "    </tr>\n",
              "    <tr>\n",
              "      <th>10819</th>\n",
              "      <td>0.057739</td>\n",
              "      <td>0.072599</td>\n",
              "      <td>0.069743</td>\n",
              "      <td>0.064845</td>\n",
              "      <td>0.161533</td>\n",
              "      <td>0.075059</td>\n",
              "      <td>0.068614</td>\n",
              "      <td>0.057078</td>\n",
              "      <td>0.088540</td>\n",
              "      <td>0.092932</td>\n",
              "      <td>0.119764</td>\n",
              "      <td>0.071554</td>\n",
              "      <td>principles to be respected by the state, local...</td>\n",
              "      <td>../txts/MAR_Morocco_First_NDC_Translation_Engl...</td>\n",
              "      <td>MAR</td>\n",
              "      <td>Morocco</td>\n",
              "    </tr>\n",
              "    <tr>\n",
              "      <th>10820</th>\n",
              "      <td>0.080692</td>\n",
              "      <td>0.083176</td>\n",
              "      <td>0.062919</td>\n",
              "      <td>0.071681</td>\n",
              "      <td>0.064438</td>\n",
              "      <td>0.070976</td>\n",
              "      <td>0.085844</td>\n",
              "      <td>0.063617</td>\n",
              "      <td>0.078482</td>\n",
              "      <td>0.062189</td>\n",
              "      <td>0.197728</td>\n",
              "      <td>0.078258</td>\n",
              "      <td>Integrated planning is the key means of implem...</td>\n",
              "      <td>../txts/LKA_Sri-Lanka_First_NDC_English_Paragr...</td>\n",
              "      <td>LKA</td>\n",
              "      <td>Sri-Lanka</td>\n",
              "    </tr>\n",
              "    <tr>\n",
              "      <th>10821</th>\n",
              "      <td>0.057161</td>\n",
              "      <td>0.080918</td>\n",
              "      <td>0.087670</td>\n",
              "      <td>0.073150</td>\n",
              "      <td>0.212388</td>\n",
              "      <td>0.085356</td>\n",
              "      <td>0.080525</td>\n",
              "      <td>0.053308</td>\n",
              "      <td>0.085546</td>\n",
              "      <td>0.053985</td>\n",
              "      <td>0.076808</td>\n",
              "      <td>0.053185</td>\n",
              "      <td>Undertake barrier analysis for technology tra...</td>\n",
              "      <td>../txts/MDA_Republic-of-Moldova_First_NDC_Engl...</td>\n",
              "      <td>MDA</td>\n",
              "      <td>Republic-of-Moldova</td>\n",
              "    </tr>\n",
              "  </tbody>\n",
              "</table>\n",
              "<p>10822 rows × 16 columns</p>\n",
              "</div>"
            ],
            "text/plain": [
              "              0         1  ...  ISO              Country\n",
              "0      0.056906  0.164414  ...  CPV           Cabo-Verde\n",
              "1      0.054304  0.046105  ...  RWA               Rwanda\n",
              "2      0.071764  0.072196  ...  GMB               Gambia\n",
              "3      0.061275  0.062224  ...  JOR               Jordan\n",
              "4      0.062194  0.069335  ...  FSM           Micronesia\n",
              "...         ...       ...  ...  ...                  ...\n",
              "10817  0.070621  0.070621  ...  KHM             Cambodia\n",
              "10818  0.085037  0.076667  ...  URY              Uruguay\n",
              "10819  0.057739  0.072599  ...  MAR              Morocco\n",
              "10820  0.080692  0.083176  ...  LKA            Sri-Lanka\n",
              "10821  0.057161  0.080918  ...  MDA  Republic-of-Moldova\n",
              "\n",
              "[10822 rows x 16 columns]"
            ]
          },
          "metadata": {
            "tags": []
          },
          "execution_count": 138
        }
      ]
    },
    {
      "cell_type": "code",
      "metadata": {
        "id": "4qvNI9gsU7VH"
      },
      "source": [
        "distr_df.to_csv(\"topic_distr.csv\")"
      ],
      "execution_count": 144,
      "outputs": []
    },
    {
      "cell_type": "markdown",
      "metadata": {
        "id": "vj6-O08AVifx"
      },
      "source": [
        "Compute aggregated topic distribution for each country"
      ]
    },
    {
      "cell_type": "code",
      "metadata": {
        "colab": {
          "base_uri": "https://localhost:8080/",
          "height": 422
        },
        "id": "O8tyzFeBVnSh",
        "outputId": "9fae0143-3c87-472a-8732-f04daf5e132e"
      },
      "source": [
        "agg_df = distr_df.drop(columns=['Text', 'Document', 'Country'])\n",
        "agg_df"
      ],
      "execution_count": 141,
      "outputs": [
        {
          "output_type": "execute_result",
          "data": {
            "text/html": [
              "<div>\n",
              "<style scoped>\n",
              "    .dataframe tbody tr th:only-of-type {\n",
              "        vertical-align: middle;\n",
              "    }\n",
              "\n",
              "    .dataframe tbody tr th {\n",
              "        vertical-align: top;\n",
              "    }\n",
              "\n",
              "    .dataframe thead th {\n",
              "        text-align: right;\n",
              "    }\n",
              "</style>\n",
              "<table border=\"1\" class=\"dataframe\">\n",
              "  <thead>\n",
              "    <tr style=\"text-align: right;\">\n",
              "      <th></th>\n",
              "      <th>0</th>\n",
              "      <th>1</th>\n",
              "      <th>2</th>\n",
              "      <th>3</th>\n",
              "      <th>4</th>\n",
              "      <th>5</th>\n",
              "      <th>6</th>\n",
              "      <th>7</th>\n",
              "      <th>8</th>\n",
              "      <th>9</th>\n",
              "      <th>10</th>\n",
              "      <th>11</th>\n",
              "      <th>ISO</th>\n",
              "    </tr>\n",
              "  </thead>\n",
              "  <tbody>\n",
              "    <tr>\n",
              "      <th>0</th>\n",
              "      <td>0.056906</td>\n",
              "      <td>0.164414</td>\n",
              "      <td>0.056306</td>\n",
              "      <td>0.064330</td>\n",
              "      <td>0.089584</td>\n",
              "      <td>0.057868</td>\n",
              "      <td>0.064139</td>\n",
              "      <td>0.069820</td>\n",
              "      <td>0.062858</td>\n",
              "      <td>0.083898</td>\n",
              "      <td>0.141880</td>\n",
              "      <td>0.087996</td>\n",
              "      <td>CPV</td>\n",
              "    </tr>\n",
              "    <tr>\n",
              "      <th>1</th>\n",
              "      <td>0.054304</td>\n",
              "      <td>0.046105</td>\n",
              "      <td>0.156100</td>\n",
              "      <td>0.058654</td>\n",
              "      <td>0.080736</td>\n",
              "      <td>0.054706</td>\n",
              "      <td>0.182793</td>\n",
              "      <td>0.063483</td>\n",
              "      <td>0.056152</td>\n",
              "      <td>0.130133</td>\n",
              "      <td>0.071436</td>\n",
              "      <td>0.045397</td>\n",
              "      <td>RWA</td>\n",
              "    </tr>\n",
              "    <tr>\n",
              "      <th>2</th>\n",
              "      <td>0.071764</td>\n",
              "      <td>0.072196</td>\n",
              "      <td>0.070634</td>\n",
              "      <td>0.177184</td>\n",
              "      <td>0.087571</td>\n",
              "      <td>0.070621</td>\n",
              "      <td>0.070728</td>\n",
              "      <td>0.073471</td>\n",
              "      <td>0.079868</td>\n",
              "      <td>0.070621</td>\n",
              "      <td>0.070621</td>\n",
              "      <td>0.084721</td>\n",
              "      <td>GMB</td>\n",
              "    </tr>\n",
              "    <tr>\n",
              "      <th>3</th>\n",
              "      <td>0.061275</td>\n",
              "      <td>0.062224</td>\n",
              "      <td>0.061275</td>\n",
              "      <td>0.076000</td>\n",
              "      <td>0.061275</td>\n",
              "      <td>0.108658</td>\n",
              "      <td>0.142537</td>\n",
              "      <td>0.136371</td>\n",
              "      <td>0.061564</td>\n",
              "      <td>0.099174</td>\n",
              "      <td>0.061275</td>\n",
              "      <td>0.068374</td>\n",
              "      <td>JOR</td>\n",
              "    </tr>\n",
              "    <tr>\n",
              "      <th>4</th>\n",
              "      <td>0.062194</td>\n",
              "      <td>0.069335</td>\n",
              "      <td>0.062189</td>\n",
              "      <td>0.074378</td>\n",
              "      <td>0.081125</td>\n",
              "      <td>0.086128</td>\n",
              "      <td>0.109306</td>\n",
              "      <td>0.086685</td>\n",
              "      <td>0.076546</td>\n",
              "      <td>0.134848</td>\n",
              "      <td>0.095077</td>\n",
              "      <td>0.062189</td>\n",
              "      <td>FSM</td>\n",
              "    </tr>\n",
              "    <tr>\n",
              "      <th>...</th>\n",
              "      <td>...</td>\n",
              "      <td>...</td>\n",
              "      <td>...</td>\n",
              "      <td>...</td>\n",
              "      <td>...</td>\n",
              "      <td>...</td>\n",
              "      <td>...</td>\n",
              "      <td>...</td>\n",
              "      <td>...</td>\n",
              "      <td>...</td>\n",
              "      <td>...</td>\n",
              "      <td>...</td>\n",
              "      <td>...</td>\n",
              "    </tr>\n",
              "    <tr>\n",
              "      <th>10817</th>\n",
              "      <td>0.070621</td>\n",
              "      <td>0.070621</td>\n",
              "      <td>0.090928</td>\n",
              "      <td>0.092508</td>\n",
              "      <td>0.087571</td>\n",
              "      <td>0.070621</td>\n",
              "      <td>0.070621</td>\n",
              "      <td>0.070621</td>\n",
              "      <td>0.096733</td>\n",
              "      <td>0.070621</td>\n",
              "      <td>0.070621</td>\n",
              "      <td>0.137910</td>\n",
              "      <td>KHM</td>\n",
              "    </tr>\n",
              "    <tr>\n",
              "      <th>10818</th>\n",
              "      <td>0.085037</td>\n",
              "      <td>0.076667</td>\n",
              "      <td>0.083668</td>\n",
              "      <td>0.074611</td>\n",
              "      <td>0.073403</td>\n",
              "      <td>0.077089</td>\n",
              "      <td>0.121952</td>\n",
              "      <td>0.095584</td>\n",
              "      <td>0.070621</td>\n",
              "      <td>0.078299</td>\n",
              "      <td>0.083262</td>\n",
              "      <td>0.079806</td>\n",
              "      <td>URY</td>\n",
              "    </tr>\n",
              "    <tr>\n",
              "      <th>10819</th>\n",
              "      <td>0.057739</td>\n",
              "      <td>0.072599</td>\n",
              "      <td>0.069743</td>\n",
              "      <td>0.064845</td>\n",
              "      <td>0.161533</td>\n",
              "      <td>0.075059</td>\n",
              "      <td>0.068614</td>\n",
              "      <td>0.057078</td>\n",
              "      <td>0.088540</td>\n",
              "      <td>0.092932</td>\n",
              "      <td>0.119764</td>\n",
              "      <td>0.071554</td>\n",
              "      <td>MAR</td>\n",
              "    </tr>\n",
              "    <tr>\n",
              "      <th>10820</th>\n",
              "      <td>0.080692</td>\n",
              "      <td>0.083176</td>\n",
              "      <td>0.062919</td>\n",
              "      <td>0.071681</td>\n",
              "      <td>0.064438</td>\n",
              "      <td>0.070976</td>\n",
              "      <td>0.085844</td>\n",
              "      <td>0.063617</td>\n",
              "      <td>0.078482</td>\n",
              "      <td>0.062189</td>\n",
              "      <td>0.197728</td>\n",
              "      <td>0.078258</td>\n",
              "      <td>LKA</td>\n",
              "    </tr>\n",
              "    <tr>\n",
              "      <th>10821</th>\n",
              "      <td>0.057161</td>\n",
              "      <td>0.080918</td>\n",
              "      <td>0.087670</td>\n",
              "      <td>0.073150</td>\n",
              "      <td>0.212388</td>\n",
              "      <td>0.085356</td>\n",
              "      <td>0.080525</td>\n",
              "      <td>0.053308</td>\n",
              "      <td>0.085546</td>\n",
              "      <td>0.053985</td>\n",
              "      <td>0.076808</td>\n",
              "      <td>0.053185</td>\n",
              "      <td>MDA</td>\n",
              "    </tr>\n",
              "  </tbody>\n",
              "</table>\n",
              "<p>10822 rows × 13 columns</p>\n",
              "</div>"
            ],
            "text/plain": [
              "              0         1         2  ...        10        11  ISO\n",
              "0      0.056906  0.164414  0.056306  ...  0.141880  0.087996  CPV\n",
              "1      0.054304  0.046105  0.156100  ...  0.071436  0.045397  RWA\n",
              "2      0.071764  0.072196  0.070634  ...  0.070621  0.084721  GMB\n",
              "3      0.061275  0.062224  0.061275  ...  0.061275  0.068374  JOR\n",
              "4      0.062194  0.069335  0.062189  ...  0.095077  0.062189  FSM\n",
              "...         ...       ...       ...  ...       ...       ...  ...\n",
              "10817  0.070621  0.070621  0.090928  ...  0.070621  0.137910  KHM\n",
              "10818  0.085037  0.076667  0.083668  ...  0.083262  0.079806  URY\n",
              "10819  0.057739  0.072599  0.069743  ...  0.119764  0.071554  MAR\n",
              "10820  0.080692  0.083176  0.062919  ...  0.197728  0.078258  LKA\n",
              "10821  0.057161  0.080918  0.087670  ...  0.076808  0.053185  MDA\n",
              "\n",
              "[10822 rows x 13 columns]"
            ]
          },
          "metadata": {
            "tags": []
          },
          "execution_count": 141
        }
      ]
    },
    {
      "cell_type": "code",
      "metadata": {
        "colab": {
          "base_uri": "https://localhost:8080/",
          "height": 454
        },
        "id": "eMUz04REWLcH",
        "outputId": "00c69385-a720-43fd-9300-9b568be6409d"
      },
      "source": [
        "agg_df.groupby('ISO').mean()"
      ],
      "execution_count": 142,
      "outputs": [
        {
          "output_type": "execute_result",
          "data": {
            "text/html": [
              "<div>\n",
              "<style scoped>\n",
              "    .dataframe tbody tr th:only-of-type {\n",
              "        vertical-align: middle;\n",
              "    }\n",
              "\n",
              "    .dataframe tbody tr th {\n",
              "        vertical-align: top;\n",
              "    }\n",
              "\n",
              "    .dataframe thead th {\n",
              "        text-align: right;\n",
              "    }\n",
              "</style>\n",
              "<table border=\"1\" class=\"dataframe\">\n",
              "  <thead>\n",
              "    <tr style=\"text-align: right;\">\n",
              "      <th></th>\n",
              "      <th>0</th>\n",
              "      <th>1</th>\n",
              "      <th>2</th>\n",
              "      <th>3</th>\n",
              "      <th>4</th>\n",
              "      <th>5</th>\n",
              "      <th>6</th>\n",
              "      <th>7</th>\n",
              "      <th>8</th>\n",
              "      <th>9</th>\n",
              "      <th>10</th>\n",
              "      <th>11</th>\n",
              "    </tr>\n",
              "    <tr>\n",
              "      <th>ISO</th>\n",
              "      <th></th>\n",
              "      <th></th>\n",
              "      <th></th>\n",
              "      <th></th>\n",
              "      <th></th>\n",
              "      <th></th>\n",
              "      <th></th>\n",
              "      <th></th>\n",
              "      <th></th>\n",
              "      <th></th>\n",
              "      <th></th>\n",
              "      <th></th>\n",
              "    </tr>\n",
              "  </thead>\n",
              "  <tbody>\n",
              "    <tr>\n",
              "      <th>AFG</th>\n",
              "      <td>0.089193</td>\n",
              "      <td>0.087936</td>\n",
              "      <td>0.074655</td>\n",
              "      <td>0.085251</td>\n",
              "      <td>0.087953</td>\n",
              "      <td>0.095501</td>\n",
              "      <td>0.073487</td>\n",
              "      <td>0.088145</td>\n",
              "      <td>0.086909</td>\n",
              "      <td>0.069167</td>\n",
              "      <td>0.087097</td>\n",
              "      <td>0.074706</td>\n",
              "    </tr>\n",
              "    <tr>\n",
              "      <th>AGO</th>\n",
              "      <td>0.095501</td>\n",
              "      <td>0.095148</td>\n",
              "      <td>0.073970</td>\n",
              "      <td>0.073567</td>\n",
              "      <td>0.071957</td>\n",
              "      <td>0.075459</td>\n",
              "      <td>0.095984</td>\n",
              "      <td>0.118268</td>\n",
              "      <td>0.084142</td>\n",
              "      <td>0.068431</td>\n",
              "      <td>0.073505</td>\n",
              "      <td>0.074068</td>\n",
              "    </tr>\n",
              "    <tr>\n",
              "      <th>ALB</th>\n",
              "      <td>0.077755</td>\n",
              "      <td>0.078460</td>\n",
              "      <td>0.081850</td>\n",
              "      <td>0.079194</td>\n",
              "      <td>0.081094</td>\n",
              "      <td>0.083607</td>\n",
              "      <td>0.084700</td>\n",
              "      <td>0.090237</td>\n",
              "      <td>0.079190</td>\n",
              "      <td>0.099684</td>\n",
              "      <td>0.084467</td>\n",
              "      <td>0.079762</td>\n",
              "    </tr>\n",
              "    <tr>\n",
              "      <th>ARE</th>\n",
              "      <td>0.068773</td>\n",
              "      <td>0.150457</td>\n",
              "      <td>0.064904</td>\n",
              "      <td>0.097927</td>\n",
              "      <td>0.091598</td>\n",
              "      <td>0.083609</td>\n",
              "      <td>0.072261</td>\n",
              "      <td>0.071589</td>\n",
              "      <td>0.071149</td>\n",
              "      <td>0.073261</td>\n",
              "      <td>0.081236</td>\n",
              "      <td>0.073238</td>\n",
              "    </tr>\n",
              "    <tr>\n",
              "      <th>ARG</th>\n",
              "      <td>0.067302</td>\n",
              "      <td>0.061397</td>\n",
              "      <td>0.101999</td>\n",
              "      <td>0.079884</td>\n",
              "      <td>0.089858</td>\n",
              "      <td>0.065115</td>\n",
              "      <td>0.084314</td>\n",
              "      <td>0.095788</td>\n",
              "      <td>0.078853</td>\n",
              "      <td>0.127417</td>\n",
              "      <td>0.070796</td>\n",
              "      <td>0.077275</td>\n",
              "    </tr>\n",
              "    <tr>\n",
              "      <th>...</th>\n",
              "      <td>...</td>\n",
              "      <td>...</td>\n",
              "      <td>...</td>\n",
              "      <td>...</td>\n",
              "      <td>...</td>\n",
              "      <td>...</td>\n",
              "      <td>...</td>\n",
              "      <td>...</td>\n",
              "      <td>...</td>\n",
              "      <td>...</td>\n",
              "      <td>...</td>\n",
              "      <td>...</td>\n",
              "    </tr>\n",
              "    <tr>\n",
              "      <th>WSM</th>\n",
              "      <td>0.075442</td>\n",
              "      <td>0.095320</td>\n",
              "      <td>0.078222</td>\n",
              "      <td>0.076633</td>\n",
              "      <td>0.080873</td>\n",
              "      <td>0.084070</td>\n",
              "      <td>0.084293</td>\n",
              "      <td>0.090535</td>\n",
              "      <td>0.082697</td>\n",
              "      <td>0.087392</td>\n",
              "      <td>0.086817</td>\n",
              "      <td>0.077707</td>\n",
              "    </tr>\n",
              "    <tr>\n",
              "      <th>YEM</th>\n",
              "      <td>0.075174</td>\n",
              "      <td>0.081827</td>\n",
              "      <td>0.075146</td>\n",
              "      <td>0.082771</td>\n",
              "      <td>0.075787</td>\n",
              "      <td>0.107956</td>\n",
              "      <td>0.083006</td>\n",
              "      <td>0.083389</td>\n",
              "      <td>0.096581</td>\n",
              "      <td>0.062597</td>\n",
              "      <td>0.068323</td>\n",
              "      <td>0.107442</td>\n",
              "    </tr>\n",
              "    <tr>\n",
              "      <th>ZAF</th>\n",
              "      <td>0.057788</td>\n",
              "      <td>0.069058</td>\n",
              "      <td>0.082881</td>\n",
              "      <td>0.065421</td>\n",
              "      <td>0.076566</td>\n",
              "      <td>0.084909</td>\n",
              "      <td>0.127225</td>\n",
              "      <td>0.107690</td>\n",
              "      <td>0.081252</td>\n",
              "      <td>0.100671</td>\n",
              "      <td>0.074196</td>\n",
              "      <td>0.072345</td>\n",
              "    </tr>\n",
              "    <tr>\n",
              "      <th>ZMB</th>\n",
              "      <td>0.092064</td>\n",
              "      <td>0.081769</td>\n",
              "      <td>0.077402</td>\n",
              "      <td>0.088930</td>\n",
              "      <td>0.085835</td>\n",
              "      <td>0.076334</td>\n",
              "      <td>0.098198</td>\n",
              "      <td>0.072823</td>\n",
              "      <td>0.086965</td>\n",
              "      <td>0.074508</td>\n",
              "      <td>0.092852</td>\n",
              "      <td>0.072319</td>\n",
              "    </tr>\n",
              "    <tr>\n",
              "      <th>ZWE</th>\n",
              "      <td>0.081062</td>\n",
              "      <td>0.084937</td>\n",
              "      <td>0.076493</td>\n",
              "      <td>0.080468</td>\n",
              "      <td>0.093135</td>\n",
              "      <td>0.092043</td>\n",
              "      <td>0.080797</td>\n",
              "      <td>0.080523</td>\n",
              "      <td>0.085550</td>\n",
              "      <td>0.079147</td>\n",
              "      <td>0.083426</td>\n",
              "      <td>0.082419</td>\n",
              "    </tr>\n",
              "  </tbody>\n",
              "</table>\n",
              "<p>138 rows × 12 columns</p>\n",
              "</div>"
            ],
            "text/plain": [
              "            0         1         2  ...         9        10        11\n",
              "ISO                                ...                              \n",
              "AFG  0.089193  0.087936  0.074655  ...  0.069167  0.087097  0.074706\n",
              "AGO  0.095501  0.095148  0.073970  ...  0.068431  0.073505  0.074068\n",
              "ALB  0.077755  0.078460  0.081850  ...  0.099684  0.084467  0.079762\n",
              "ARE  0.068773  0.150457  0.064904  ...  0.073261  0.081236  0.073238\n",
              "ARG  0.067302  0.061397  0.101999  ...  0.127417  0.070796  0.077275\n",
              "..        ...       ...       ...  ...       ...       ...       ...\n",
              "WSM  0.075442  0.095320  0.078222  ...  0.087392  0.086817  0.077707\n",
              "YEM  0.075174  0.081827  0.075146  ...  0.062597  0.068323  0.107442\n",
              "ZAF  0.057788  0.069058  0.082881  ...  0.100671  0.074196  0.072345\n",
              "ZMB  0.092064  0.081769  0.077402  ...  0.074508  0.092852  0.072319\n",
              "ZWE  0.081062  0.084937  0.076493  ...  0.079147  0.083426  0.082419\n",
              "\n",
              "[138 rows x 12 columns]"
            ]
          },
          "metadata": {
            "tags": []
          },
          "execution_count": 142
        }
      ]
    },
    {
      "cell_type": "code",
      "metadata": {
        "id": "rrsXKWVLWss2"
      },
      "source": [
        "agg_df.to_csv(\"aggregated_data.csv\")"
      ],
      "execution_count": 143,
      "outputs": []
    }
  ]
}