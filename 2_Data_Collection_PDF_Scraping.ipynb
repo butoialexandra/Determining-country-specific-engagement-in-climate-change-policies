{
  "nbformat": 4,
  "nbformat_minor": 0,
  "metadata": {
    "colab": {
      "name": "2_Data_Collection:PDF_Scraping.ipynb",
      "provenance": [],
      "collapsed_sections": [],
      "authorship_tag": "ABX9TyO+0UGifulV2q6hYXpL+QG7",
      "include_colab_link": true
    },
    "kernelspec": {
      "name": "python3",
      "display_name": "Python 3"
    },
    "language_info": {
      "name": "python"
    }
  },
  "cells": [
    {
      "cell_type": "markdown",
      "metadata": {
        "id": "view-in-github",
        "colab_type": "text"
      },
      "source": [
        "<a href=\"https://colab.research.google.com/github/butoialexandra/Determining-country-specific-engagement-in-climate-change-policies/blob/main/2_Data_Collection_PDF_Scraping.ipynb\" target=\"_parent\"><img src=\"https://colab.research.google.com/assets/colab-badge.svg\" alt=\"Open In Colab\"/></a>"
      ]
    },
    {
      "cell_type": "markdown",
      "metadata": {
        "id": "46tWLa2GhSMR"
      },
      "source": [
        "Mount drive"
      ]
    },
    {
      "cell_type": "code",
      "metadata": {
        "colab": {
          "base_uri": "https://localhost:8080/"
        },
        "id": "3fDxWMfUg3qS",
        "outputId": "94fee56f-d0ba-42b1-e8ab-a93eaa8ec7e9"
      },
      "source": [
        "from google.colab import drive\n",
        "drive.mount('/content/drive/')"
      ],
      "execution_count": 1,
      "outputs": [
        {
          "output_type": "stream",
          "text": [
            "Drive already mounted at /content/drive/; to attempt to forcibly remount, call drive.mount(\"/content/drive/\", force_remount=True).\n"
          ],
          "name": "stdout"
        }
      ]
    },
    {
      "cell_type": "code",
      "metadata": {
        "colab": {
          "base_uri": "https://localhost:8080/"
        },
        "id": "OVkiO5SApl0p",
        "outputId": "3d010bec-2b71-4055-8b45-a327bfb4a018"
      },
      "source": [
        "%cd /content/drive/My\\ Drive/"
      ],
      "execution_count": 2,
      "outputs": [
        {
          "output_type": "stream",
          "text": [
            "/content/drive/My Drive\n"
          ],
          "name": "stdout"
        }
      ]
    },
    {
      "cell_type": "markdown",
      "metadata": {
        "id": "muW0v9S6n9Gn"
      },
      "source": [
        "Install some extra libraries"
      ]
    },
    {
      "cell_type": "code",
      "metadata": {
        "id": "ljcFh9qyhXpF",
        "colab": {
          "base_uri": "https://localhost:8080/"
        },
        "outputId": "1f87d6fc-168f-4ef0-9f8c-2385e9c77946"
      },
      "source": [
        "!pip install pyMuPDF\n",
        "!pip install tqdm"
      ],
      "execution_count": 2,
      "outputs": [
        {
          "output_type": "stream",
          "text": [
            "Requirement already satisfied: pyMuPDF in /usr/local/lib/python3.7/dist-packages (1.18.16)\n",
            "Requirement already satisfied: tqdm in /usr/local/lib/python3.7/dist-packages (4.41.1)\n"
          ],
          "name": "stdout"
        }
      ]
    },
    {
      "cell_type": "markdown",
      "metadata": {
        "id": "SXuJN9U0oNki"
      },
      "source": [
        "Imports"
      ]
    },
    {
      "cell_type": "code",
      "metadata": {
        "id": "Jqg46PNuoBnt"
      },
      "source": [
        "import fitz\n",
        "import re\n",
        "import os\n",
        "import glob\n",
        "from tqdm import tqdm"
      ],
      "execution_count": 3,
      "outputs": []
    },
    {
      "cell_type": "markdown",
      "metadata": {
        "id": "TdAziOfbokOY"
      },
      "source": [
        "Parsing"
      ]
    },
    {
      "cell_type": "code",
      "metadata": {
        "id": "E1oSDqd6yKbe"
      },
      "source": [
        "class PDFParser():\n",
        "\n",
        "    def __init__(self, dir):\n",
        "        self.dir = dir\n",
        "        # all English documents from the input dir\n",
        "        self.docs = [f for f in glob.glob(\"{}/*.pdf\".format(self.dir)) if f[f.rfind('_')+1:-4] == \"English\"]\n",
        "\n",
        "    def save_text(self, doc):\n",
        "        try:\n",
        "            document = fitz.open(doc)\n",
        "            no_pages = document.pageCount\n",
        "            doc_texts = self.process_document(document, no_pages)\n",
        "            # save each paragraph\n",
        "            for i, text in enumerate(doc_texts):\n",
        "                file_name = 'txts' + doc[doc.rfind('/'):-4] + '_Paragraph{}'.format(i) + '.txt'\n",
        "                with open(file_name, 'w') as f:\n",
        "                    f.write(text)\n",
        "        except:\n",
        "            print(doc)\n",
        "\n",
        "\n",
        "    def save_all(self):\n",
        "        for doc in tqdm(self.docs):\n",
        "            self.save_text(doc)\n",
        "\n",
        "    def process_text(self, text):\n",
        "        text = text.strip() # remove trailing spaces\n",
        "        text = re.sub(r'<image:(.*)>', '', text)  # remove images\n",
        "        text = re.sub(r'\\n', '', text) # remove new line\n",
        "        text = re.sub(' +', ' ', text).strip() # remove multiple spaces\n",
        "        text = re.sub(r'[^a-zA-Z0-9 ,.;()\\'\"]', '', text) # remove anything that is not alphanumeric or punctuation\n",
        "\n",
        "        return text\n",
        "\n",
        "    def process_page(self, document, page_no):\n",
        "        page = document.loadPage(page_no)\n",
        "        page_text = page.getText(\"blocks\")\n",
        "        texts = [x for _, _, _, _, x, _, _ in page_text]\n",
        "        texts = [self.process_text(text) for text in texts]\n",
        "        texts = [text for text in texts if text != '' and len(text) >= 50]\n",
        "\n",
        "        return texts\n",
        "\n",
        "    def process_document(self, document, no_pages):\n",
        "        texts = []\n",
        "        for i in range(no_pages):\n",
        "            texts.extend(self.process_page(document, i))\n",
        "\n",
        "        return texts"
      ],
      "execution_count": 4,
      "outputs": []
    },
    {
      "cell_type": "code",
      "metadata": {
        "id": "uWv29pbo6A8c"
      },
      "source": [
        "pdf_parser = PDFParser(\"national-climate-plans/pdfs\")\n",
        "pdf_parser.save_all()"
      ],
      "execution_count": null,
      "outputs": []
    }
  ]
}