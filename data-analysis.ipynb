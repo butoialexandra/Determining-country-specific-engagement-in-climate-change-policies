{
 "cells": [
  {
   "cell_type": "code",
   "execution_count": 1,
   "metadata": {},
   "outputs": [],
   "source": [
    "import fitz"
   ]
  },
  {
   "cell_type": "code",
   "execution_count": 2,
   "metadata": {},
   "outputs": [
    {
     "name": "stdout",
     "output_type": "stream",
     "text": [
      "number of pages: 8\n",
      "{'format': 'PDF 1.5', 'title': '', 'author': 'Haris Sherzad', 'subject': '', 'keywords': '', 'creator': 'Microsoft® Word 2010', 'producer': 'Microsoft® Word 2010', 'creationDate': \"D:20151013160341+04'30'\", 'modDate': \"D:20151013160341+04'30'\", 'trapped': '', 'encryption': None}\n"
     ]
    }
   ],
   "source": [
    "pdf_document = '../national-climate-plans/pdfs/AFG_Afghanistan_First_NDC_English.pdf'\n",
    "doc = fitz.open(pdf_document)\n",
    "print (\"number of pages: %i\" % doc.pageCount)\n",
    "print(doc.metadata)"
   ]
  },
  {
   "cell_type": "code",
   "execution_count": 3,
   "metadata": {
    "scrolled": true
   },
   "outputs": [
    {
     "name": "stdout",
     "output_type": "stream",
     "text": [
      "2 \n",
      " \n",
      "1. Afghanistan’s National Circumstances and Commitment to Climate Change \n",
      "Introduction \n",
      "Afghanistan has extensive development and climate adaptation needs and, currently, low levels of \n",
      "greenhouse gas (GHG) emissions. Afghanistan remains one of the poorest countries in the world today, \n",
      "with an estimated population of 28.6 million (2015)1 and a per capita GDP of USD 660.2  \n",
      " \n",
      " \n",
      "Afghanistan is highly prone to natural disasters throughout its 34 provinces.3 As a result of climate change, \n",
      "it is anticipated that the incidence of extreme weather events, including heat waves, floods, and droughts \n",
      "will likely increase, as will climate change-linked disasters such as glacial lake outflows. The majority of \n",
      "Afghanistan’s population relies directly or indirectly on the available natural resources for their livelihoods \n",
      "so with these climatic changes the foundation of the country’s economy, stability, and food security is \n",
      "under threat. \n",
      " \n",
      "Despite these challenges, Afghanistan can remain a low emission economy while developing rapidly if, \n",
      "under the Paris Climate Change Agreement, extensive financial and other resources are made available to \n",
      "allow Afghanistan to successfully develop and implement Low Emission Development Strategies (LEDS) \n",
      "and Highly Effective Adaptation and Development Strategies (HEADS).  \n",
      " \n",
      "Appropriate support in the form of finance, capacity building, technology and legal assistance is needed for \n",
      "Afghanistan to make substantial progress on social and economic fronts while maintaining low per capita \n",
      "GHG emission levels. \n",
      " \n",
      "Description of Fairness and Ambition \n",
      "Afghanistan recognizes that all countries in the world need to make rapid progress towards lowering, or \n",
      "maintaining if already low, per capita emission levels to avoid dangerous levels of global warming. It is \n",
      "therefore critical that under the Paris Agreement, financial resources, capacity building, technology \n",
      "transfer, and other support is provided to Afghanistan in order to enable it to implement LEDS and \n",
      "HEADS. This will allow Afghanistan to continue developing while maintaining low level of emissions and \n",
      "increasing adaptive capacity to climate change.  \n",
      " \n",
      "There would be lower costs and a clearer development path for Afghanistan if it pursued development \n",
      "using mainly fossil fuels, as other countries have. This would likely result in GHG emission in Afghanistan \n",
      "continuing to increase at current rates for the period to 2025 and beyond. However, given the extremely \n",
      "limited remaining global GHG emissions budget, Afghanistan requires the UNFCCC, the Global \n",
      "Environmental Facility (GEF), the Green Climate Fund (GCF), and other international institutional \n",
      "arrangements to provide the extra finance and other support needed to successfully implement LEDS across \n",
      "all sectors of its economy without compromising socio-economic development goals.   \n",
      " \n",
      "National Development Objectives \n",
      "Despite suffering decades of instability and war, Afghanistan has made considerable development progress. \n",
      "Over the past 13 years notable achievements have been made in the areas of environment, agriculture, \n",
      "health, education, infrastructure, the economy, and the provision of other important basic services.4 \n",
      " \n",
      "Afghanistan’s National Development Strategy (ANDS) is based on Afghanistan’s Millennium \n",
      "Development Goals (MDGs). It identifies the environment as “a cross-cutting issue that underpins the \n",
      "entire social and economic development framework for the country.” The National Environment Protection \n",
      "Agency (NEPA), mandated to address environmental concerns, continues to work with all parts of the \n",
      "Government of the Islamic Republic of Afghanistan (GIRoA) to mainstream environmental and climate \n",
      "                                                 \n",
      "1 CSO 2015 estimation \n",
      "2 IMF 2015 estimate for Afghanistan. \n",
      "3 NEPA (2009), National Capacity Needs Self-Assessment for Global Environmental Management (NCSA) and \n",
      "National Adaptation Programme of Action for Climate Change (NAPA).  \n",
      "4 (GIRoA, 2015) \n",
      "\n"
     ]
    }
   ],
   "source": [
    "page1 = doc.loadPage(1)\n",
    "page1text = page1.getText(\"text\")\n",
    "print(page1text)"
   ]
  },
  {
   "cell_type": "code",
   "execution_count": 16,
   "metadata": {},
   "outputs": [
    {
     "name": "stdout",
     "output_type": "stream",
     "text": [
      "(68.42400360107422, 72.6220703125, 546.1199951171875, 352.6546325683594, 'change considerations into the country’s national development framework. NEPA advocates for \\nappropriate policies and measures that enable rapid development while ensuring good environmental and \\nclimate change outcomes. Afghanistan has developed its INDC with the conviction that countering the \\neffects of climate change requires a commitment from all countries with regard to mitigation, and \\nadaptation. \\n \\nIn terms of international commitments on climate change, Afghanistan joined the UNFCCC in 1992, and \\nratified the Kyoto Protocol in 2013. Afghanistan completed its National Adaptation Programmes of Action \\nfor Climate Change (NAPA) and National Capacity Needs Self-assessment for Global Environmental \\nManagement (NCSA) in 2009. Afghanistan submitted its Initial National Communication (INC) under the \\nUNFCCC in 2012, and is currently preparing its Second National Communication (SNC) for submission to \\nthe UNFCCC in 2016. At present, Afghanistan is finalizing its national Climate Change Strategy and \\nAction Plan (ACCSAP) as well as its National Adaptation Plan (NAP). \\n \\nIn 2015, as part of the INDC preparation process, NEPA convened a series of consultation and awareness-\\nraising workshops to bring together decision-makers from government institutions and stakeholders from \\nnon-governmental organizations to develop the current INDC and establish a sustainable development \\nvision for Afghanistan. Through this INDC process and existing policies and strategies, the overall vision \\nthat was developed for Afghanistan aims to enhance the adaptive capacity and resilience of its agriculture, \\nenvironment, and population to climate change, while developing and implementing LEDS.  \\n \\nClimate Change Trends, Impacts, and Vulnerabilities \\n', 2, 0)\n"
     ]
    }
   ],
   "source": [
    "print(page1text[2])"
   ]
  },
  {
   "cell_type": "code",
   "execution_count": 17,
   "metadata": {},
   "outputs": [
    {
     "name": "stdout",
     "output_type": "stream",
     "text": [
      "(68.42400360107422, 354.66485595703125, 546.1199951171875, 781.71875, 'Afghanistan is ranked among the most vulnerable countries in the world to the adverse impacts of climate \\nchange.5 Afghanistan’s INC report has documented an increase of 0.6°C in the country’s mean annual \\ntemperature since 1960. Based upon recent climate observations, precipitation patterns have decreased \\nduring springtime (March-May) by approximately 40.5mm; however, the total annual precipitation has \\nonly slightly decreased by approximately 30mm since there is a slight increase in precipitation from June \\nuntil November. This implies that Afghanistan is already beginning to experience the initial adverse \\nimpacts of climate change.  \\n \\nRecent climate projections, based on Cordex regional climate models and representative concentration \\npathways (RCPs)6, indicate that Afghanistan will face an overall strong increase in mean annual \\ntemperature, considerably higher than global mean projections, when compared to a baseline period of \\n1986-2006. More specifically, under the “optimistic” scenario (RCP4.5), the mean of the model ensembles \\nprojects a warming of approximately 1.5°C until 2050 and of approximately 2.5°C until 2100. For the \\n“pessimistic” scenario (RCP8.5), the models project an extreme warming of approximately 3°C until 2050, \\nwith further warming up to 7°C by 2100. Under both scenarios there are regional differences, with a higher \\ntemperature increases at higher altitudes compared to the lowlands.  \\n \\nFor precipitation a significant (α=0.05) mean decrease of precipitation during springtime (March-May) for \\nthe North, the Central Highlands and the East for both scenarios from 2006 until 2050 between 5-10 \\npercent is seen. This decrease is offset by a slight increase of precipitation during autumn and wintertime \\n(October-December) in these regions. For the Hindu Kush area, a significant and substantial increase in \\nprecipitation during the winter season of approximately 10 percent is seen, whereas during spring season \\nprecipitation is projected to stay stable. For the arid South of the country, the models do not project \\nsignificant trends for precipitation. The decrease of precipitation during spring is particularly relevant since \\nduring these months the main plant growth for agricultural production takes place. In addition, the decrease \\n                                                 \\n5 DARA Climate Vulnerability Monitor (2012); GermanWatch Global Climate Risk Index (2013); and Notre \\nDame Global Adaptation Index (2014). \\n6 Representative concentration pathways (RCPs) are GHG emission scenarios adopted by the IPCC to describe \\nfour possible climate futures depending on the levels of future global GHGs emitted. There are four RCPs: 1) \\nRCP2.6, which assumes that GHG emissions peak between 2010-2020 and then decline; 2) RCP4.5, which \\nassumes that GHG emissions peak around 2040 and then decline; 3) RCP6, which assumes that GHG emissions \\npeak around 2080 and then decline; and 4) RCP8.5, which assumes that GHGs emissions continue to rise \\nthroughout the 21st century.  \\n', 3, 0)\n"
     ]
    }
   ],
   "source": [
    "print(page1text[3])"
   ]
  },
  {
   "cell_type": "code",
   "execution_count": 18,
   "metadata": {},
   "outputs": [
    {
     "name": "stdout",
     "output_type": "stream",
     "text": [
      "6 \n",
      " \n",
      "infrastructure. \n",
      "technology \n",
      "Planning for proper watershed \n",
      "management and promoted \n",
      "through community-based natural \n",
      "resources management.  \n",
      "Full catchment \n",
      "planning technology \n",
      "and models \n",
      "Practitioners for watershed \n",
      "management \n",
      "2.5 Billion \n",
      "Increasing irrigated agricultural \n",
      "land to 3.14 M-ha, through \n",
      "restoration and development of \n",
      "Afghanistan’s irrigation systems. \n",
      "Eco-agriculture and \n",
      "climate friendly \n",
      "irrigation technology \n",
      "transfer to \n",
      "Afghanistan \n",
      "Vocational and \n",
      "engineering capacity to \n",
      "design, build and maintain \n",
      "climate friendly irrigation \n",
      "networks and local \n",
      "schemes. \n",
      "4.5 Billion \n",
      " \n",
      "At least 10% of Afghanistan land \n",
      "area and the habitat of selected \n",
      "species under a system of \n",
      "conservation  \n",
      "Conservation ecology \n",
      "methods and tools \n",
      "Protected areas and species \n",
      "ecologists, and ecological \n",
      "economists trained and \n",
      "working. \n",
      "0.3 Billion \n",
      "Behavioural change and \n",
      "opportunities for provision and \n",
      "development of alternative and \n",
      "renewable energy sources for \n",
      "25% of the rural population \n",
      "above existing levels (15%), in \n",
      "order to contribute to a reduction \n",
      "in the unsustainable usage of \n",
      "natural resources and decreasing \n",
      "the strong reliance on fossil fuels \n",
      "by rural communities. \n",
      "Technology transfer \n",
      "of renewable energy \n",
      "and sustainable \n",
      "energy \n",
      "National centre for \n",
      "sustainable energy \n",
      "strengthened and \n",
      "expanded. Combine public \n",
      "and private competencies. \n",
      "0.105 Billion \n",
      "Regeneration of at least 40% of \n",
      "existing degraded forests and \n",
      "rangeland areas (the area covered \n",
      "will be approximately 232,050 ha \n",
      "for forestry; and 5.35 million ha \n",
      "for rangelands).   \n",
      "Forestry and \n",
      "rangeland \n",
      "management tools and \n",
      "methods transferred to \n",
      "Afghanistan \n",
      "Practitioners group built in \n",
      "university, government \n",
      "and local delivery levels. \n",
      "2.5 Billion \n",
      "TOTAL FINANCIAL RESOURCES NEEDED: \n",
      "10.785 Billion \n",
      " \n",
      " \n",
      "3. Climate Change Mitigation \n",
      " \n",
      "GHG Emissions and Mitigation Measures \n",
      "Afghanistan has very low relative per capita GHG emissions. While 1990 emissions were at 0.2 metric tons \n",
      "CO2 per capita, data indicates that per capita emissions were around 0.3 for 2010, making Afghanistan one \n",
      "of the lowest GHG emitters globally.7 However, the country is on a growth path, which is expected to \n",
      "strengthen over the coming years, meaning GHG emissions are likely to increase. It is important that \n",
      "support be provided to Afghanistan to develop LEDS to minimize the increase in its GHG emissions. \n",
      " \n",
      "Afghanistan’s overall GHG emission figures (Table 1) demonstrate that the most important sources of CO2 \n",
      "emissions are from the “Land-Use Change and Forestry” and “Energy” sectors.8 In terms of CH4 and N2O \n",
      "emissions, the agriculture sector is the major contributor.9 It is therefore important that greater attention \n",
      "should be focused on GHG mitigation measures within these sectors. Afghanistan has only started to access \n",
      "UNFCCC technology transfer opportunities. It needs to build national capacity to navigate opportunities \n",
      "and play a more critical role in international negotiations.  \n",
      "The following mitigation options are designed to enable Afghanistan to make a mitigation contribution \n",
      "which is condition on support needs for financial and technical support being met. \n",
      " \n",
      "                                                 \n",
      "7 The World Bank, CO2 Emissions (Metric Tons Per Capita). \n",
      "http://data.worldbank.org/indicator/EN.ATM.CO2E.PC  \n",
      "8 NEPA & ADB (2007), Afghanistan Greenhouse Gas Inventory Report.  \n",
      "9 IBID \n",
      "\n"
     ]
    }
   ],
   "source": [
    "page1 = doc.loadPage(5)\n",
    "page1text = page1.getText(\"text\")\n",
    "print(page1text)"
   ]
  },
  {
   "cell_type": "code",
   "execution_count": 19,
   "metadata": {},
   "outputs": [
    {
     "name": "stdout",
     "output_type": "stream",
     "text": [
      "[(298.75, 779.7748413085938, 307.0299987792969, 794.502197265625, '6 \\n', 0, 0), (72.02400207519531, 792.3748779296875, 74.78400421142578, 807.1022338867188, ' \\n', 1, 0), (74.06400299072266, 70.3548583984375, 268.010009765625, 85.08222198486328, 'infrastructure. \\ntechnology \\n', 2, 0), (74.06400299072266, 83.49210357666016, 212.05999755859375, 131.6422119140625, 'Planning for proper watershed \\nmanagement and promoted \\nthrough community-based natural \\nresources management.  \\n', 3, 0), (220.85000610351562, 83.49210357666016, 305.1017150878906, 120.12220001220703, 'Full catchment \\nplanning technology \\nand models \\n', 4, 0), (322.510009765625, 83.49210357666016, 432.5283508300781, 108.60224151611328, 'Practitioners for watershed \\nmanagement \\n', 5, 0), (443.0199890136719, 82.3548583984375, 488.6199951171875, 97.08222198486328, '2.5 Billion \\n', 6, 0), (74.06400299072266, 130.05209350585938, 209.3300018310547, 178.08221435546875, 'Increasing irrigated agricultural \\nland to 3.14 M-ha, through \\nrestoration and development of \\nAfghanistan’s irrigation systems. \\n', 7, 0), (220.85000610351562, 130.05209350585938, 307.2530822753906, 189.60223388671875, 'Eco-agriculture and \\nclimate friendly \\nirrigation technology \\ntransfer to \\nAfghanistan \\n', 8, 0), (322.510009765625, 130.05209350585938, 430.8450927734375, 201.1221923828125, 'Vocational and \\nengineering capacity to \\ndesign, build and maintain \\nclimate friendly irrigation \\nnetworks and local \\nschemes. \\n', 9, 0), (443.0199890136719, 130.05209350585938, 488.3499755859375, 156.1221923828125, '4.5 Billion \\n \\n', 10, 0), (74.06400299072266, 199.53207397460938, 209.9980926513672, 247.59222412109375, 'At least 10% of Afghanistan land \\narea and the habitat of selected \\nspecies under a system of \\nconservation  \\n', 11, 0), (220.85000610351562, 199.53207397460938, 310.6295471191406, 224.6422119140625, 'Conservation ecology \\nmethods and tools \\n', 12, 0), (322.510009765625, 199.53207397460938, 433.9924011230469, 247.59222412109375, 'Protected areas and species \\necologists, and ecological \\neconomists trained and \\nworking. \\n', 13, 0), (443.0199890136719, 198.39483642578125, 488.6199951171875, 213.1221923828125, '0.3 Billion \\n', 14, 0), (74.06400299072266, 246.00210571289062, 208.79293823242188, 374.3687438964844, 'Behavioural change and \\nopportunities for provision and \\ndevelopment of alternative and \\nrenewable energy sources for \\n25% of the rural population \\nabove existing levels (15%), in \\norder to contribute to a reduction \\nin the unsustainable usage of \\nnatural resources and decreasing \\nthe strong reliance on fossil fuels \\nby rural communities. \\n', 15, 0), (220.85000610351562, 246.00210571289062, 304.7431335449219, 293.8487548828125, 'Technology transfer \\nof renewable energy \\nand sustainable \\nenergy \\n', 16, 0), (322.510009765625, 246.00210571289062, 432.2992858886719, 305.3687744140625, 'National centre for \\nsustainable energy \\nstrengthened and \\nexpanded. Combine public \\nand private competencies. \\n', 17, 0), (443.0199890136719, 246.00210571289062, 498.30999755859375, 259.28875732421875, '0.105 Billion \\n', 18, 0), (74.06400299072266, 373.1020812988281, 211.00405883789062, 443.8687438964844, 'Regeneration of at least 40% of \\nexisting degraded forests and \\nrangeland areas (the area covered \\nwill be approximately 232,050 ha \\nfor forestry; and 5.35 million ha \\nfor rangelands).   \\n', 19, 0), (220.85000610351562, 373.1020812988281, 313.2290954589844, 432.3487548828125, 'Forestry and \\nrangeland \\nmanagement tools and \\nmethods transferred to \\nAfghanistan \\n', 20, 0), (322.510009765625, 373.1020812988281, 432.2694396972656, 409.3087463378906, 'Practitioners group built in \\nuniversity, government \\nand local delivery levels. \\n', 21, 0), (443.0199890136719, 373.1020812988281, 488.3499755859375, 386.38873291015625, '2.5 Billion \\n', 22, 0), (74.06400299072266, 442.9117126464844, 503.8499755859375, 456.7063293457031, 'TOTAL FINANCIAL RESOURCES NEEDED: \\n10.785 Billion \\n', 23, 0), (68.42400360107422, 461.0048522949219, 545.2526245117188, 781.71875, ' \\n \\n3. Climate Change Mitigation \\n \\nGHG Emissions and Mitigation Measures \\nAfghanistan has very low relative per capita GHG emissions. While 1990 emissions were at 0.2 metric tons \\nCO2 per capita, data indicates that per capita emissions were around 0.3 for 2010, making Afghanistan one \\nof the lowest GHG emitters globally.7 However, the country is on a growth path, which is expected to \\nstrengthen over the coming years, meaning GHG emissions are likely to increase. It is important that \\nsupport be provided to Afghanistan to develop LEDS to minimize the increase in its GHG emissions. \\n \\nAfghanistan’s overall GHG emission figures (Table 1) demonstrate that the most important sources of CO2 \\nemissions are from the “Land-Use Change and Forestry” and “Energy” sectors.8 In terms of CH4 and N2O \\nemissions, the agriculture sector is the major contributor.9 It is therefore important that greater attention \\nshould be focused on GHG mitigation measures within these sectors. Afghanistan has only started to access \\nUNFCCC technology transfer opportunities. It needs to build national capacity to navigate opportunities \\nand play a more critical role in international negotiations.  \\nThe following mitigation options are designed to enable Afghanistan to make a mitigation contribution \\nwhich is condition on support needs for financial and technical support being met. \\n \\n                                                 \\n7 The World Bank, CO2 Emissions (Metric Tons Per Capita). \\nhttp://data.worldbank.org/indicator/EN.ATM.CO2E.PC  \\n8 NEPA & ADB (2007), Afghanistan Greenhouse Gas Inventory Report.  \\n9 IBID \\n', 24, 0)]\n"
     ]
    }
   ],
   "source": [
    "page1 = doc.loadPage(5)\n",
    "page1text = page1.getText(\"blocks\")\n",
    "print(page1text)"
   ]
  },
  {
   "cell_type": "code",
   "execution_count": 20,
   "metadata": {},
   "outputs": [
    {
     "data": {
      "text/plain": [
       "25"
      ]
     },
     "execution_count": 20,
     "metadata": {},
     "output_type": "execute_result"
    }
   ],
   "source": [
    "len(page1text)"
   ]
  },
  {
   "cell_type": "code",
   "execution_count": 21,
   "metadata": {},
   "outputs": [
    {
     "data": {
      "text/plain": [
       "(74.06400299072266,\n",
       " 70.3548583984375,\n",
       " 268.010009765625,\n",
       " 85.08222198486328,\n",
       " 'infrastructure. \\ntechnology \\n',\n",
       " 2,\n",
       " 0)"
      ]
     },
     "execution_count": 21,
     "metadata": {},
     "output_type": "execute_result"
    }
   ],
   "source": [
    "page1text[2]"
   ]
  },
  {
   "cell_type": "code",
   "execution_count": 22,
   "metadata": {},
   "outputs": [],
   "source": [
    "import re"
   ]
  },
  {
   "cell_type": "code",
   "execution_count": 24,
   "metadata": {},
   "outputs": [
    {
     "data": {
      "text/plain": [
       "'infrastructure. \\ntechnology \\n'"
      ]
     },
     "execution_count": 24,
     "metadata": {},
     "output_type": "execute_result"
    }
   ],
   "source": [
    "sometext = page1text[2][4]\n",
    "sometext"
   ]
  },
  {
   "cell_type": "code",
   "execution_count": 25,
   "metadata": {},
   "outputs": [
    {
     "data": {
      "text/plain": [
       "'infrastructure. technology '"
      ]
     },
     "execution_count": 25,
     "metadata": {},
     "output_type": "execute_result"
    }
   ],
   "source": [
    "re.sub(r'\\n', '', sometext)"
   ]
  }
 ],
 "metadata": {
  "kernelspec": {
   "display_name": "Python 3",
   "language": "python",
   "name": "python3"
  },
  "language_info": {
   "codemirror_mode": {
    "name": "ipython",
    "version": 3
   },
   "file_extension": ".py",
   "mimetype": "text/x-python",
   "name": "python",
   "nbconvert_exporter": "python",
   "pygments_lexer": "ipython3",
   "version": "3.9.1"
  }
 },
 "nbformat": 4,
 "nbformat_minor": 1
}