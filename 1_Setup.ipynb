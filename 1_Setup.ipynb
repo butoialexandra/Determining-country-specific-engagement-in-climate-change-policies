{
  "nbformat": 4,
  "nbformat_minor": 0,
  "metadata": {
    "colab": {
      "name": "1_Setup.ipynb",
      "provenance": [],
      "collapsed_sections": [],
      "mount_file_id": "1VduXj0fp680Mrr3nKJonZQbdmgvQzqvx",
      "authorship_tag": "ABX9TyMarlXj6cdkIZ8w+MBfQtr2",
      "include_colab_link": true
    },
    "kernelspec": {
      "name": "python3",
      "display_name": "Python 3"
    },
    "language_info": {
      "name": "python"
    },
    "accelerator": "GPU"
  },
  "cells": [
    {
      "cell_type": "markdown",
      "metadata": {
        "id": "view-in-github",
        "colab_type": "text"
      },
      "source": [
        "<a href=\"https://colab.research.google.com/github/butoialexandra/Determining-country-specific-engagement-in-climate-change-policies/blob/main/1_Setup.ipynb\" target=\"_parent\"><img src=\"https://colab.research.google.com/assets/colab-badge.svg\" alt=\"Open In Colab\"/></a>"
      ]
    },
    {
      "cell_type": "markdown",
      "metadata": {
        "id": "u0rsGkdch8nK"
      },
      "source": [
        "Mount drive"
      ]
    },
    {
      "cell_type": "code",
      "metadata": {
        "colab": {
          "base_uri": "https://localhost:8080/"
        },
        "id": "aREA_hAWhrRf",
        "outputId": "c60c12ec-8ed2-4e30-f9b7-79f88e1389c4"
      },
      "source": [
        "from google.colab import drive\n",
        "drive.mount('/content/drive/', force_remount=True)"
      ],
      "execution_count": 1,
      "outputs": [
        {
          "output_type": "stream",
          "text": [
            "Mounted at /content/drive/\n"
          ],
          "name": "stdout"
        }
      ]
    },
    {
      "cell_type": "markdown",
      "metadata": {
        "id": "xr6vbHv7i8AL"
      },
      "source": [
        "Check you are in the right directory"
      ]
    },
    {
      "cell_type": "code",
      "metadata": {
        "colab": {
          "base_uri": "https://localhost:8080/"
        },
        "id": "Tg7xLybhi0Oh",
        "outputId": "b7db2ed9-5f72-4760-d139-e7d623709235"
      },
      "source": [
        "!pwd"
      ],
      "execution_count": 17,
      "outputs": [
        {
          "output_type": "stream",
          "text": [
            "/content/drive/My Drive\n"
          ],
          "name": "stdout"
        }
      ]
    },
    {
      "cell_type": "code",
      "metadata": {
        "colab": {
          "base_uri": "https://localhost:8080/"
        },
        "id": "0uCEPUXni7NY",
        "outputId": "679416e3-cd8e-4fd5-908e-fc8c34531b3c"
      },
      "source": [
        "%cd /content/drive/My\\ Drive/"
      ],
      "execution_count": 16,
      "outputs": [
        {
          "output_type": "stream",
          "text": [
            "/content/drive/My Drive\n"
          ],
          "name": "stdout"
        }
      ]
    },
    {
      "cell_type": "markdown",
      "metadata": {
        "id": "5AJbPLuyiQPZ"
      },
      "source": [
        "Clone this repository to download all te NDC documents from the UNFCCC secreteriat"
      ]
    },
    {
      "cell_type": "code",
      "metadata": {
        "colab": {
          "base_uri": "https://localhost:8080/"
        },
        "id": "UgQfJhH_h7CQ",
        "outputId": "bb599579-879b-44d7-b195-4ab257392d12"
      },
      "source": [
        "!git clone https://github.com/openclimatedata/national-climate-plans.git  --recursive"
      ],
      "execution_count": 10,
      "outputs": [
        {
          "output_type": "stream",
          "text": [
            "Cloning into 'national-climate-plans'...\n",
            "remote: Enumerating objects: 633, done.\u001b[K\n",
            "remote: Counting objects: 100% (132/132), done.\u001b[K\n",
            "remote: Compressing objects: 100% (108/108), done.\u001b[K\n",
            "remote: Total 633 (delta 28), reused 127 (delta 24), pack-reused 501\u001b[K\n",
            "Receiving objects: 100% (633/633), 357.35 MiB | 22.82 MiB/s, done.\n",
            "Resolving deltas: 100% (179/179), done.\n",
            "Checking out files: 100% (181/181), done.\n",
            "Submodule 'cache/indcs' (https://github.com/openclimatedata/indcs) registered for path 'cache/indcs'\n",
            "Submodule 'cache/ndcs' (https://github.com/openclimatedata/ndcs) registered for path 'cache/ndcs'\n",
            "Cloning into '/content/drive/MyDrive/national-climate-plans/cache/indcs'...\n",
            "remote: Enumerating objects: 580, done.        \n",
            "remote: Total 580 (delta 0), reused 0 (delta 0), pack-reused 580        \n",
            "Receiving objects: 100% (580/580), 115.09 MiB | 13.09 MiB/s, done.\n",
            "Resolving deltas: 100% (114/114), done.\n",
            "Cloning into '/content/drive/MyDrive/national-climate-plans/cache/ndcs'...\n",
            "remote: Enumerating objects: 1228, done.        \n",
            "remote: Total 1228 (delta 0), reused 0 (delta 0), pack-reused 1228        \n",
            "Receiving objects: 100% (1228/1228), 497.63 MiB | 23.09 MiB/s, done.\n",
            "Resolving deltas: 100% (500/500), done.\n",
            "Submodule path 'cache/indcs': checked out '42c3448337ac2ce85c774478ba66f21c10b09581'\n",
            "Submodule path 'cache/ndcs': checked out '7c3f93adbb6338d4aa456a52e5c7e15888eac28e'\n"
          ],
          "name": "stdout"
        }
      ]
    },
    {
      "cell_type": "markdown",
      "metadata": {
        "id": "kRRhkLxIlC-C"
      },
      "source": [
        "Some sanity checks"
      ]
    },
    {
      "cell_type": "code",
      "metadata": {
        "id": "eR8LrjfllP9K"
      },
      "source": [
        "import os.path\n",
        "from os import path"
      ],
      "execution_count": 19,
      "outputs": []
    },
    {
      "cell_type": "code",
      "metadata": {
        "colab": {
          "base_uri": "https://localhost:8080/"
        },
        "id": "6UjPka1IkCvy",
        "outputId": "b5e77727-f713-4691-898d-9ea1ed185695"
      },
      "source": [
        "if path.exists(\"national-climate-plans\"):\n",
        "  print(\"Repository exists\")\n",
        "if path.exists(\"national-climate-plans/pdfs\"):\n",
        "  print(\"PDF directory exists\")\n",
        "path, dirs, files = next(os.walk(\"./national-climate-plans/pdfs\"))\n",
        "file_count = len(files)\n",
        "print(\"{} PDF files\".format(file_count))"
      ],
      "execution_count": 24,
      "outputs": [
        {
          "output_type": "stream",
          "text": [
            "Repository exists\n",
            "PDF directory exists\n",
            "169 PDF files\n"
          ],
          "name": "stdout"
        }
      ]
    }
  ]
}